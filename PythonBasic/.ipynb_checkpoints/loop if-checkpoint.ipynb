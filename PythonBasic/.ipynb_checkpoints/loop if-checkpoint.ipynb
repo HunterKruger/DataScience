{
 "cells": [
  {
   "cell_type": "code",
   "execution_count": 1,
   "metadata": {},
   "outputs": [
    {
     "name": "stdout",
     "output_type": "stream",
     "text": [
      "Done 45\n"
     ]
    }
   ],
   "source": [
    "i = 1\n",
    "num = 0\n",
    "while i < 10:\n",
    "    num = num + i\n",
    "    i += 1\n",
    "print(\"Done \" + str(num))"
   ]
  },
  {
   "cell_type": "code",
   "execution_count": 2,
   "metadata": {},
   "outputs": [
    {
     "name": "stdout",
     "output_type": "stream",
     "text": [
      "Now you gonna input your guess, you will have 3 chances!\n",
      "Input your guess:ass\n",
      "Input your guess:asshole\n",
      "You win\n"
     ]
    }
   ],
   "source": [
    "key = \"asshole\"\n",
    "guess = \"\"\n",
    "print(\"Now you gonna input your guess, you will have 3 chances!\")\n",
    "i = 0\n",
    "while i < 3:\n",
    "    if guess != key:\n",
    "        guess = input(\"Input your guess:\")\n",
    "        i += 1\n",
    "    else:\n",
    "        print(\"You win\")\n",
    "        break\n",
    "if i == 3:\n",
    "    print(\"You lose\")"
   ]
  },
  {
   "cell_type": "code",
   "execution_count": 3,
   "metadata": {},
   "outputs": [
    {
     "name": "stdout",
     "output_type": "stream",
     "text": [
      "M\n",
      "o\n",
      "t\n",
      "h\n",
      "e\n",
      "r\n",
      "F\n",
      "u\n",
      "c\n",
      "k\n",
      "e\n",
      "r\n",
      "Tom\n",
      "Jack\n",
      "Alice\n",
      "3\n",
      "4\n",
      "5\n",
      "6\n",
      "7\n",
      "8\n",
      "9\n",
      "Tom\n",
      "Jack\n",
      "Alice\n"
     ]
    }
   ],
   "source": [
    "for letter in \"MotherFucker\":\n",
    "    print(letter)\n",
    "\n",
    "friends = [\"Tom\", \"Jack\", \"Alice\"]\n",
    "for friend in friends:\n",
    "    print(friend)\n",
    "\n",
    "for index in range(3, 10):\n",
    "    print(index)\n",
    "\n",
    "for index in range(len(friends)):\n",
    "    print(friends[index])"
   ]
  },
  {
   "cell_type": "code",
   "execution_count": null,
   "metadata": {},
   "outputs": [],
   "source": []
  }
 ],
 "metadata": {
  "kernelspec": {
   "display_name": "Python 3",
   "language": "python",
   "name": "python3"
  },
  "language_info": {
   "codemirror_mode": {
    "name": "ipython",
    "version": 3
   },
   "file_extension": ".py",
   "mimetype": "text/x-python",
   "name": "python",
   "nbconvert_exporter": "python",
   "pygments_lexer": "ipython3",
   "version": "3.7.4"
  }
 },
 "nbformat": 4,
 "nbformat_minor": 2
}
