{
 "cells": [
  {
   "cell_type": "code",
   "execution_count": 1,
   "metadata": {
    "ExecuteTime": {
     "end_time": "2020-05-14T13:03:22.685710Z",
     "start_time": "2020-05-14T13:03:21.044046Z"
    }
   },
   "outputs": [],
   "source": [
    "import pandas as pd\n",
    "from pprint import pprint\n",
    "from sklearn.feature_selection import SelectKBest"
   ]
  },
  {
   "cell_type": "code",
   "execution_count": 2,
   "metadata": {
    "ExecuteTime": {
     "end_time": "2020-05-14T13:03:23.180907Z",
     "start_time": "2020-05-14T13:03:22.689758Z"
    }
   },
   "outputs": [],
   "source": [
    "data = pd.read_csv('hotel_bookings.csv')"
   ]
  },
  {
   "cell_type": "markdown",
   "metadata": {
    "heading_collapsed": true
   },
   "source": [
    "## Data preprocessing"
   ]
  },
  {
   "cell_type": "code",
   "execution_count": 3,
   "metadata": {
    "ExecuteTime": {
     "end_time": "2020-05-14T13:03:23.191589Z",
     "start_time": "2020-05-14T13:03:23.183527Z"
    },
    "hidden": true
   },
   "outputs": [],
   "source": [
    "def data_overview(df):\n",
    "    print(\"Rows :  \", df.shape[0])\n",
    "    print(\"Columns:  \", df.shape[1])\n",
    "    print()\n",
    "    print(df.dtypes)\n",
    "    print()\n",
    "    print('Missing rates : ')\n",
    "    print(df.isnull().sum().sort_values(ascending=False)[:10]/df.shape[0])\n",
    "    print()\n",
    "    print('Unique values:')\n",
    "    print(df.nunique().sort_values(ascending=False)[:10])\n",
    "    print()\n",
    "    print(\"List of columns:\")\n",
    "    pprint(df.columns.to_list())"
   ]
  },
  {
   "cell_type": "code",
   "execution_count": 4,
   "metadata": {
    "ExecuteTime": {
     "end_time": "2020-05-14T13:03:23.547349Z",
     "start_time": "2020-05-14T13:03:23.195795Z"
    },
    "hidden": true,
    "scrolled": true
   },
   "outputs": [
    {
     "name": "stdout",
     "output_type": "stream",
     "text": [
      "Rows :   119390\n",
      "Columns:   32\n",
      "\n",
      "hotel                              object\n",
      "is_canceled                         int64\n",
      "lead_time                           int64\n",
      "arrival_date_year                   int64\n",
      "arrival_date_month                 object\n",
      "arrival_date_week_number            int64\n",
      "arrival_date_day_of_month           int64\n",
      "stays_in_weekend_nights             int64\n",
      "stays_in_week_nights                int64\n",
      "adults                              int64\n",
      "children                          float64\n",
      "babies                              int64\n",
      "meal                               object\n",
      "country                            object\n",
      "market_segment                     object\n",
      "distribution_channel               object\n",
      "is_repeated_guest                   int64\n",
      "previous_cancellations              int64\n",
      "previous_bookings_not_canceled      int64\n",
      "reserved_room_type                 object\n",
      "assigned_room_type                 object\n",
      "booking_changes                     int64\n",
      "deposit_type                       object\n",
      "agent                             float64\n",
      "company                           float64\n",
      "days_in_waiting_list                int64\n",
      "customer_type                      object\n",
      "adr                               float64\n",
      "required_car_parking_spaces         int64\n",
      "total_of_special_requests           int64\n",
      "reservation_status                 object\n",
      "reservation_status_date            object\n",
      "dtype: object\n",
      "\n",
      "Missing rates : \n",
      "company                     0.943069\n",
      "agent                       0.136862\n",
      "country                     0.004087\n",
      "children                    0.000034\n",
      "lead_time                   0.000000\n",
      "arrival_date_year           0.000000\n",
      "arrival_date_month          0.000000\n",
      "arrival_date_week_number    0.000000\n",
      "is_canceled                 0.000000\n",
      "market_segment              0.000000\n",
      "dtype: float64\n",
      "\n",
      "Unique values:\n",
      "adr                               8879\n",
      "reservation_status_date            926\n",
      "lead_time                          479\n",
      "company                            352\n",
      "agent                              333\n",
      "country                            177\n",
      "days_in_waiting_list               128\n",
      "previous_bookings_not_canceled      73\n",
      "arrival_date_week_number            53\n",
      "stays_in_week_nights                35\n",
      "dtype: int64\n",
      "\n",
      "List of columns:\n",
      "['hotel',\n",
      " 'is_canceled',\n",
      " 'lead_time',\n",
      " 'arrival_date_year',\n",
      " 'arrival_date_month',\n",
      " 'arrival_date_week_number',\n",
      " 'arrival_date_day_of_month',\n",
      " 'stays_in_weekend_nights',\n",
      " 'stays_in_week_nights',\n",
      " 'adults',\n",
      " 'children',\n",
      " 'babies',\n",
      " 'meal',\n",
      " 'country',\n",
      " 'market_segment',\n",
      " 'distribution_channel',\n",
      " 'is_repeated_guest',\n",
      " 'previous_cancellations',\n",
      " 'previous_bookings_not_canceled',\n",
      " 'reserved_room_type',\n",
      " 'assigned_room_type',\n",
      " 'booking_changes',\n",
      " 'deposit_type',\n",
      " 'agent',\n",
      " 'company',\n",
      " 'days_in_waiting_list',\n",
      " 'customer_type',\n",
      " 'adr',\n",
      " 'required_car_parking_spaces',\n",
      " 'total_of_special_requests',\n",
      " 'reservation_status',\n",
      " 'reservation_status_date']\n"
     ]
    }
   ],
   "source": [
    "data_overview(data)"
   ]
  },
  {
   "cell_type": "code",
   "execution_count": 5,
   "metadata": {
    "ExecuteTime": {
     "end_time": "2020-05-14T13:03:23.585938Z",
     "start_time": "2020-05-14T13:03:23.551943Z"
    },
    "hidden": true
   },
   "outputs": [],
   "source": [
    "data.drop(['company','adr','agent','country','children','reservation_status_date'],inplace=True,axis=1)"
   ]
  },
  {
   "cell_type": "code",
   "execution_count": 6,
   "metadata": {
    "ExecuteTime": {
     "end_time": "2020-05-14T13:03:23.631696Z",
     "start_time": "2020-05-14T13:03:23.593684Z"
    },
    "hidden": true
   },
   "outputs": [
    {
     "name": "stdout",
     "output_type": "stream",
     "text": [
      "numerical features: \n",
      "['lead_time', 'arrival_date_year', 'arrival_date_week_number', 'arrival_date_day_of_month', 'stays_in_weekend_nights', 'stays_in_week_nights', 'adults', 'babies', 'is_repeated_guest', 'previous_cancellations', 'previous_bookings_not_canceled', 'booking_changes', 'days_in_waiting_list', 'required_car_parking_spaces', 'total_of_special_requests']\n",
      "categorical features: \n",
      "['hotel', 'arrival_date_month', 'meal', 'market_segment', 'distribution_channel', 'reserved_room_type', 'assigned_room_type', 'deposit_type', 'customer_type', 'reservation_status']\n"
     ]
    }
   ],
   "source": [
    "num_col = []\n",
    "cat_col = []\n",
    "X = data.drop('is_canceled', axis=1)\n",
    "y = data['is_canceled']\n",
    "for col in X.columns.to_list():\n",
    "    if X[col].dtype == object:\n",
    "        cat_col.append(col)\n",
    "    else:\n",
    "        num_col.append(col)\n",
    "print('numerical features: ')\n",
    "print(num_col)\n",
    "print('categorical features: ')\n",
    "print(cat_col)\n"
   ]
  },
  {
   "cell_type": "code",
   "execution_count": 7,
   "metadata": {
    "ExecuteTime": {
     "end_time": "2020-05-14T13:03:23.917051Z",
     "start_time": "2020-05-14T13:03:23.637025Z"
    },
    "hidden": true
   },
   "outputs": [
    {
     "name": "stdout",
     "output_type": "stream",
     "text": [
      "[1, 0, 0, 1, 0, 0, 0, 0, 0, 0, 1, 1, 1, 0, 0, 0, 1, 1, 0, 1, 0, 1, 0, 0, 1]\n"
     ]
    }
   ],
   "source": [
    "from sklearn.preprocessing import LabelEncoder\n",
    "\n",
    "cat_col_index = []\n",
    "\n",
    "le = LabelEncoder()\n",
    "for col in X.columns:\n",
    "    if X[col].dtype == object:\n",
    "        cat_col_index.append(1)\n",
    "        X[col] = le.fit_transform(X[col])\n",
    "    else:\n",
    "        cat_col_index.append(0)\n",
    "\n",
    "print(cat_col_index)"
   ]
  },
  {
   "cell_type": "code",
   "execution_count": 8,
   "metadata": {
    "ExecuteTime": {
     "end_time": "2020-05-14T13:03:23.977590Z",
     "start_time": "2020-05-14T13:03:23.921860Z"
    },
    "hidden": true
   },
   "outputs": [],
   "source": [
    "X_num=X[num_col]\n",
    "X_cat=X[cat_col]"
   ]
  },
  {
   "cell_type": "markdown",
   "metadata": {
    "ExecuteTime": {
     "end_time": "2020-05-14T13:07:30.025104Z",
     "start_time": "2020-05-14T13:07:30.021551Z"
    }
   },
   "source": [
    "## Feature selection"
   ]
  },
  {
   "cell_type": "markdown",
   "metadata": {
    "heading_collapsed": true
   },
   "source": [
    "### Variance Threshold\n",
    "+ numerical features"
   ]
  },
  {
   "cell_type": "code",
   "execution_count": 9,
   "metadata": {
    "ExecuteTime": {
     "end_time": "2020-05-14T13:03:23.989894Z",
     "start_time": "2020-05-14T13:03:23.982268Z"
    },
    "hidden": true
   },
   "outputs": [],
   "source": [
    "from sklearn.feature_selection import VarianceThreshold"
   ]
  },
  {
   "cell_type": "code",
   "execution_count": 10,
   "metadata": {
    "ExecuteTime": {
     "end_time": "2020-05-14T13:03:24.056393Z",
     "start_time": "2020-05-14T13:03:23.992942Z"
    },
    "hidden": true
   },
   "outputs": [
    {
     "data": {
      "text/plain": [
       "VarianceThreshold(threshold=3)"
      ]
     },
     "execution_count": 10,
     "metadata": {},
     "output_type": "execute_result"
    }
   ],
   "source": [
    "vt = VarianceThreshold(threshold=3)\n",
    "vt.fit(X_num)"
   ]
  },
  {
   "cell_type": "code",
   "execution_count": 11,
   "metadata": {
    "ExecuteTime": {
     "end_time": "2020-05-14T13:03:24.066006Z",
     "start_time": "2020-05-14T13:03:24.059872Z"
    },
    "hidden": true
   },
   "outputs": [
    {
     "name": "stdout",
     "output_type": "stream",
     "text": [
      "{'lead_time': 11419.625860118034, 'arrival_date_year': 0.5005180197455278, 'arrival_date_week_number': 185.09823929289158, 'arrival_date_day_of_month': 77.10232038380376, 'stays_in_weekend_nights': 0.9972205588924927, 'stays_in_week_nights': 3.6415234872671034, 'adults': 0.33554049428790456, 'babies': 0.009493731855978594, 'is_repeated_guest': 0.030893830639671306, 'previous_cancellations': 0.7128979583873327, 'previous_bookings_not_canceled': 2.242298331424404, 'booking_changes': 0.42549899617103926, 'days_in_waiting_list': 309.57160983611016, 'required_car_parking_spaces': 0.06016724306623273, 'total_of_special_requests': 0.6285240747033594}\n"
     ]
    }
   ],
   "source": [
    "# check variances for all num_cols\n",
    "dict_variance = {}\n",
    "for i, j in zip(X_num.columns.values, vt.variances_):\n",
    "    dict_variance[i] = j\n",
    "print(dict_variance)"
   ]
  },
  {
   "cell_type": "code",
   "execution_count": 12,
   "metadata": {
    "ExecuteTime": {
     "end_time": "2020-05-14T13:03:24.113692Z",
     "start_time": "2020-05-14T13:03:24.068511Z"
    },
    "hidden": true
   },
   "outputs": [
    {
     "name": "stdout",
     "output_type": "stream",
     "text": [
      "['lead_time', 'arrival_date_week_number', 'arrival_date_day_of_month', 'stays_in_week_nights', 'days_in_waiting_list']\n"
     ]
    }
   ],
   "source": [
    "# check filtered num_cols\n",
    "ls = list()\n",
    "for i,j in dict_variance.items():\n",
    "    if j>=3:\n",
    "        ls.append(i)\n",
    "print(ls)\n",
    "\n",
    "X_num_filtered = pd.DataFrame(vt.fit_transform(X_num),columns=ls)"
   ]
  },
  {
   "cell_type": "markdown",
   "metadata": {
    "heading_collapsed": true
   },
   "source": [
    "### Mutual Information\n",
    "+ categorical or numerical features\n",
    "+ use mutual_info_classif for classification tasks\n",
    "+ use mutual_info_regression for regression tasks\n",
    "+ use an boolean array to index categorical features, send it to discrete_features\n",
    "+ pro: can detect inter-variable relations"
   ]
  },
  {
   "cell_type": "code",
   "execution_count": 13,
   "metadata": {
    "ExecuteTime": {
     "end_time": "2020-05-14T13:03:54.601099Z",
     "start_time": "2020-05-14T13:03:24.117620Z"
    },
    "hidden": true
   },
   "outputs": [],
   "source": [
    "from sklearn.feature_selection import mutual_info_classif\n",
    "mic = mutual_info_classif(X, y, discrete_features=cat_col_index, n_neighbors=3, copy=True, random_state=None)"
   ]
  },
  {
   "cell_type": "code",
   "execution_count": 14,
   "metadata": {
    "ExecuteTime": {
     "end_time": "2020-05-14T13:03:54.617512Z",
     "start_time": "2020-05-14T13:03:54.603326Z"
    },
    "hidden": true
   },
   "outputs": [
    {
     "name": "stdout",
     "output_type": "stream",
     "text": [
      "{'hotel': 0.009540756251329385, 'lead_time': 0.08367780013832715, 'arrival_date_year': 0.004160849961124535, 'arrival_date_month': 0.00354206442571936, 'arrival_date_week_number': 0.0046747839807406155, 'arrival_date_day_of_month': 0.0015786912079938098, 'stays_in_weekend_nights': 0.004256788611889828, 'stays_in_week_nights': 0.007021939085966489, 'adults': 0.009675442338508145, 'babies': 0.0005076352707731324, 'meal': 0.0025039180651031945, 'market_segment': 0.04101441669311767, 'distribution_channel': 0.02693803591662869, 'is_repeated_guest': 0.0017224223446075104, 'previous_cancellations': 0.03954334834292328, 'previous_bookings_not_canceled': 0.010869318874948242, 'reserved_room_type': 0.0029930098506292246, 'assigned_room_type': 0.024786529452321737, 'booking_changes': 0.01975101031877391, 'deposit_type': 0.13173483868329372, 'days_in_waiting_list': 0.014149958478510749, 'customer_type': 0.017112171963946432, 'required_car_parking_spaces': 0.0282172045060034, 'total_of_special_requests': 0.040728962719306816, 'reservation_status': 0.670333575031889}\n"
     ]
    }
   ],
   "source": [
    "dict_feature = {}\n",
    "for i, j in zip(X.columns.values, mic):\n",
    "    dict_feature[i] = j\n",
    "print(dict_feature)"
   ]
  },
  {
   "cell_type": "code",
   "execution_count": 15,
   "metadata": {
    "ExecuteTime": {
     "end_time": "2020-05-14T13:03:54.632751Z",
     "start_time": "2020-05-14T13:03:54.622306Z"
    },
    "hidden": true
   },
   "outputs": [
    {
     "name": "stdout",
     "output_type": "stream",
     "text": [
      "[('reservation_status', 0.670333575031889), ('deposit_type', 0.13173483868329372), ('lead_time', 0.08367780013832715), ('market_segment', 0.04101441669311767), ('total_of_special_requests', 0.040728962719306816), ('previous_cancellations', 0.03954334834292328), ('required_car_parking_spaces', 0.0282172045060034), ('distribution_channel', 0.02693803591662869), ('assigned_room_type', 0.024786529452321737), ('booking_changes', 0.01975101031877391), ('customer_type', 0.017112171963946432), ('days_in_waiting_list', 0.014149958478510749), ('previous_bookings_not_canceled', 0.010869318874948242), ('adults', 0.009675442338508145), ('hotel', 0.009540756251329385), ('stays_in_week_nights', 0.007021939085966489), ('arrival_date_week_number', 0.0046747839807406155), ('stays_in_weekend_nights', 0.004256788611889828), ('arrival_date_year', 0.004160849961124535), ('arrival_date_month', 0.00354206442571936), ('reserved_room_type', 0.0029930098506292246), ('meal', 0.0025039180651031945), ('is_repeated_guest', 0.0017224223446075104), ('arrival_date_day_of_month', 0.0015786912079938098), ('babies', 0.0005076352707731324)]\n"
     ]
    }
   ],
   "source": [
    "# sort features\n",
    "ls = sorted(dict_feature.items(), key = lambda item:item[1], reverse=True)\n",
    "print(ls)"
   ]
  },
  {
   "cell_type": "code",
   "execution_count": 16,
   "metadata": {
    "ExecuteTime": {
     "end_time": "2020-05-14T13:03:54.650761Z",
     "start_time": "2020-05-14T13:03:54.636308Z"
    },
    "hidden": true
   },
   "outputs": [],
   "source": [
    "# keep top 5 features\n",
    "k = 5\n",
    "ls_new = []\n",
    "for i in range(k):\n",
    "    ls_new.append(ls[i][0])\n",
    "\n",
    "X_filtered = X[ls_new]"
   ]
  },
  {
   "cell_type": "code",
   "execution_count": 17,
   "metadata": {
    "ExecuteTime": {
     "end_time": "2020-05-14T13:03:54.687683Z",
     "start_time": "2020-05-14T13:03:54.657914Z"
    },
    "hidden": true
   },
   "outputs": [
    {
     "data": {
      "text/html": [
       "<div>\n",
       "<style scoped>\n",
       "    .dataframe tbody tr th:only-of-type {\n",
       "        vertical-align: middle;\n",
       "    }\n",
       "\n",
       "    .dataframe tbody tr th {\n",
       "        vertical-align: top;\n",
       "    }\n",
       "\n",
       "    .dataframe thead th {\n",
       "        text-align: right;\n",
       "    }\n",
       "</style>\n",
       "<table border=\"1\" class=\"dataframe\">\n",
       "  <thead>\n",
       "    <tr style=\"text-align: right;\">\n",
       "      <th></th>\n",
       "      <th>reservation_status</th>\n",
       "      <th>deposit_type</th>\n",
       "      <th>lead_time</th>\n",
       "      <th>market_segment</th>\n",
       "      <th>total_of_special_requests</th>\n",
       "    </tr>\n",
       "  </thead>\n",
       "  <tbody>\n",
       "    <tr>\n",
       "      <th>0</th>\n",
       "      <td>1</td>\n",
       "      <td>0</td>\n",
       "      <td>342</td>\n",
       "      <td>3</td>\n",
       "      <td>0</td>\n",
       "    </tr>\n",
       "    <tr>\n",
       "      <th>1</th>\n",
       "      <td>1</td>\n",
       "      <td>0</td>\n",
       "      <td>737</td>\n",
       "      <td>3</td>\n",
       "      <td>0</td>\n",
       "    </tr>\n",
       "    <tr>\n",
       "      <th>2</th>\n",
       "      <td>1</td>\n",
       "      <td>0</td>\n",
       "      <td>7</td>\n",
       "      <td>3</td>\n",
       "      <td>0</td>\n",
       "    </tr>\n",
       "    <tr>\n",
       "      <th>3</th>\n",
       "      <td>1</td>\n",
       "      <td>0</td>\n",
       "      <td>13</td>\n",
       "      <td>2</td>\n",
       "      <td>0</td>\n",
       "    </tr>\n",
       "    <tr>\n",
       "      <th>4</th>\n",
       "      <td>1</td>\n",
       "      <td>0</td>\n",
       "      <td>14</td>\n",
       "      <td>6</td>\n",
       "      <td>1</td>\n",
       "    </tr>\n",
       "  </tbody>\n",
       "</table>\n",
       "</div>"
      ],
      "text/plain": [
       "   reservation_status  deposit_type  lead_time  market_segment  \\\n",
       "0                   1             0        342               3   \n",
       "1                   1             0        737               3   \n",
       "2                   1             0          7               3   \n",
       "3                   1             0         13               2   \n",
       "4                   1             0         14               6   \n",
       "\n",
       "   total_of_special_requests  \n",
       "0                          0  \n",
       "1                          0  \n",
       "2                          0  \n",
       "3                          0  \n",
       "4                          1  "
      ]
     },
     "execution_count": 17,
     "metadata": {},
     "output_type": "execute_result"
    }
   ],
   "source": [
    "X_filtered.head()"
   ]
  },
  {
   "cell_type": "markdown",
   "metadata": {
    "heading_collapsed": true
   },
   "source": [
    "### chi-square test\n",
    "+ categorical features\n",
    "+ classification tasks"
   ]
  },
  {
   "cell_type": "code",
   "execution_count": 18,
   "metadata": {
    "ExecuteTime": {
     "end_time": "2020-05-14T13:03:54.715973Z",
     "start_time": "2020-05-14T13:03:54.695026Z"
    },
    "hidden": true
   },
   "outputs": [],
   "source": [
    "from sklearn.feature_selection import chi2"
   ]
  },
  {
   "cell_type": "code",
   "execution_count": 19,
   "metadata": {
    "ExecuteTime": {
     "end_time": "2020-05-14T13:03:54.800238Z",
     "start_time": "2020-05-14T13:03:54.720844Z"
    },
    "hidden": true
   },
   "outputs": [
    {
     "name": "stdout",
     "output_type": "stream",
     "text": [
      "{'hotel': 1478.7736762614823, 'arrival_date_month': 0.6037383087348858, 'meal': 76.65972752493069, 'market_segment': 136.87282078299256, 'distribution_channel': 1068.4837051992145, 'reserved_room_type': 1305.3276630649993, 'assigned_room_type': 9822.322343920914, 'deposit_type': 23515.169301053516, 'customer_type': 86.35982720364787, 'reservation_status': 38297.81334112092}\n"
     ]
    }
   ],
   "source": [
    "(chi2,pval)=chi2(X_cat,y)\n",
    "dict_feature = {}\n",
    "for i, j in zip(X_cat.columns.values, chi2):\n",
    "    dict_feature[i] = j\n",
    "print(dict_feature)"
   ]
  },
  {
   "cell_type": "code",
   "execution_count": 20,
   "metadata": {
    "ExecuteTime": {
     "end_time": "2020-05-14T13:03:54.842439Z",
     "start_time": "2020-05-14T13:03:54.814161Z"
    },
    "hidden": true
   },
   "outputs": [
    {
     "name": "stdout",
     "output_type": "stream",
     "text": [
      "[('reservation_status', 38297.81334112092), ('deposit_type', 23515.169301053516), ('assigned_room_type', 9822.322343920914), ('hotel', 1478.7736762614823), ('reserved_room_type', 1305.3276630649993), ('distribution_channel', 1068.4837051992145), ('market_segment', 136.87282078299256), ('customer_type', 86.35982720364787), ('meal', 76.65972752493069), ('arrival_date_month', 0.6037383087348858)]\n"
     ]
    }
   ],
   "source": [
    "# sort features\n",
    "ls = sorted(dict_feature.items(), key = lambda item:item[1], reverse=True)\n",
    "print(ls)"
   ]
  },
  {
   "cell_type": "code",
   "execution_count": 21,
   "metadata": {
    "ExecuteTime": {
     "end_time": "2020-05-14T13:03:54.864092Z",
     "start_time": "2020-05-14T13:03:54.851429Z"
    },
    "hidden": true
   },
   "outputs": [],
   "source": [
    "# keep top 5 features\n",
    "k = 5\n",
    "ls_new = []\n",
    "for i in range(k):\n",
    "    ls_new.append(ls[i][0])\n",
    "\n",
    "X_cat_filtered = X_cat[ls_new]"
   ]
  },
  {
   "cell_type": "code",
   "execution_count": 22,
   "metadata": {
    "ExecuteTime": {
     "end_time": "2020-05-14T13:03:54.892368Z",
     "start_time": "2020-05-14T13:03:54.875920Z"
    },
    "hidden": true
   },
   "outputs": [
    {
     "data": {
      "text/html": [
       "<div>\n",
       "<style scoped>\n",
       "    .dataframe tbody tr th:only-of-type {\n",
       "        vertical-align: middle;\n",
       "    }\n",
       "\n",
       "    .dataframe tbody tr th {\n",
       "        vertical-align: top;\n",
       "    }\n",
       "\n",
       "    .dataframe thead th {\n",
       "        text-align: right;\n",
       "    }\n",
       "</style>\n",
       "<table border=\"1\" class=\"dataframe\">\n",
       "  <thead>\n",
       "    <tr style=\"text-align: right;\">\n",
       "      <th></th>\n",
       "      <th>reservation_status</th>\n",
       "      <th>deposit_type</th>\n",
       "      <th>assigned_room_type</th>\n",
       "      <th>hotel</th>\n",
       "      <th>reserved_room_type</th>\n",
       "    </tr>\n",
       "  </thead>\n",
       "  <tbody>\n",
       "    <tr>\n",
       "      <th>0</th>\n",
       "      <td>1</td>\n",
       "      <td>0</td>\n",
       "      <td>2</td>\n",
       "      <td>1</td>\n",
       "      <td>2</td>\n",
       "    </tr>\n",
       "    <tr>\n",
       "      <th>1</th>\n",
       "      <td>1</td>\n",
       "      <td>0</td>\n",
       "      <td>2</td>\n",
       "      <td>1</td>\n",
       "      <td>2</td>\n",
       "    </tr>\n",
       "    <tr>\n",
       "      <th>2</th>\n",
       "      <td>1</td>\n",
       "      <td>0</td>\n",
       "      <td>2</td>\n",
       "      <td>1</td>\n",
       "      <td>0</td>\n",
       "    </tr>\n",
       "    <tr>\n",
       "      <th>3</th>\n",
       "      <td>1</td>\n",
       "      <td>0</td>\n",
       "      <td>0</td>\n",
       "      <td>1</td>\n",
       "      <td>0</td>\n",
       "    </tr>\n",
       "    <tr>\n",
       "      <th>4</th>\n",
       "      <td>1</td>\n",
       "      <td>0</td>\n",
       "      <td>0</td>\n",
       "      <td>1</td>\n",
       "      <td>0</td>\n",
       "    </tr>\n",
       "  </tbody>\n",
       "</table>\n",
       "</div>"
      ],
      "text/plain": [
       "   reservation_status  deposit_type  assigned_room_type  hotel  \\\n",
       "0                   1             0                   2      1   \n",
       "1                   1             0                   2      1   \n",
       "2                   1             0                   2      1   \n",
       "3                   1             0                   0      1   \n",
       "4                   1             0                   0      1   \n",
       "\n",
       "   reserved_room_type  \n",
       "0                   2  \n",
       "1                   2  \n",
       "2                   0  \n",
       "3                   0  \n",
       "4                   0  "
      ]
     },
     "execution_count": 22,
     "metadata": {},
     "output_type": "execute_result"
    }
   ],
   "source": [
    "X_cat_filtered.head()"
   ]
  },
  {
   "cell_type": "markdown",
   "metadata": {
    "ExecuteTime": {
     "end_time": "2020-05-14T12:44:41.697427Z",
     "start_time": "2020-05-14T12:44:41.689329Z"
    },
    "heading_collapsed": true
   },
   "source": [
    "### ANOVA F-test\n",
    "+ numerical features\n",
    "+ use f_classif for classification tasks\n",
    "+ use f_regression for regression tasks\n",
    "+ con: can only detect linear correlations"
   ]
  },
  {
   "cell_type": "code",
   "execution_count": 23,
   "metadata": {
    "ExecuteTime": {
     "end_time": "2020-05-14T13:03:54.918995Z",
     "start_time": "2020-05-14T13:03:54.912281Z"
    },
    "hidden": true
   },
   "outputs": [],
   "source": [
    "from sklearn.feature_selection import f_classif"
   ]
  },
  {
   "cell_type": "code",
   "execution_count": 24,
   "metadata": {
    "ExecuteTime": {
     "end_time": "2020-05-14T13:03:55.012549Z",
     "start_time": "2020-05-14T13:03:54.929373Z"
    },
    "hidden": true
   },
   "outputs": [
    {
     "name": "stdout",
     "output_type": "stream",
     "text": [
      "{'lead_time': 11222.19824775232, 'arrival_date_year': 33.145333976572005, 'arrival_date_week_number': 7.926811357141699, 'arrival_date_day_of_month': 4.486514962782778, 'stays_in_weekend_nights': 0.38299323858604195, 'stays_in_week_nights': 73.26402252202055, 'adults': 431.598080853803, 'babies': 126.16762626474032, 'is_repeated_guest': 864.6070812664263, 'previous_cancellations': 1465.864983065515, 'previous_bookings_not_canceled': 394.0720458051765, 'booking_changes': 2541.731400613087, 'days_in_waiting_list': 351.56776824240154, 'required_car_parking_spaces': 4744.260084629089, 'total_of_special_requests': 6957.100858553981}\n"
     ]
    }
   ],
   "source": [
    "(f_classif,pval)=f_classif(X_num,y)\n",
    "dict_feature = {}\n",
    "for i, j in zip(X_num.columns.values, f_classif):\n",
    "    dict_feature[i] = j\n",
    "print(dict_feature)"
   ]
  },
  {
   "cell_type": "code",
   "execution_count": 25,
   "metadata": {
    "ExecuteTime": {
     "end_time": "2020-05-14T13:03:55.033901Z",
     "start_time": "2020-05-14T13:03:55.020041Z"
    },
    "hidden": true
   },
   "outputs": [
    {
     "name": "stdout",
     "output_type": "stream",
     "text": [
      "[('lead_time', 11222.19824775232), ('total_of_special_requests', 6957.100858553981), ('required_car_parking_spaces', 4744.260084629089), ('booking_changes', 2541.731400613087), ('previous_cancellations', 1465.864983065515), ('is_repeated_guest', 864.6070812664263), ('adults', 431.598080853803), ('previous_bookings_not_canceled', 394.0720458051765), ('days_in_waiting_list', 351.56776824240154), ('babies', 126.16762626474032), ('stays_in_week_nights', 73.26402252202055), ('arrival_date_year', 33.145333976572005), ('arrival_date_week_number', 7.926811357141699), ('arrival_date_day_of_month', 4.486514962782778), ('stays_in_weekend_nights', 0.38299323858604195)]\n"
     ]
    }
   ],
   "source": [
    "# sort features\n",
    "ls = sorted(dict_feature.items(), key = lambda item:item[1], reverse=True)\n",
    "print(ls)"
   ]
  },
  {
   "cell_type": "code",
   "execution_count": 26,
   "metadata": {
    "ExecuteTime": {
     "end_time": "2020-05-14T13:03:55.063898Z",
     "start_time": "2020-05-14T13:03:55.049242Z"
    },
    "hidden": true
   },
   "outputs": [],
   "source": [
    "# keep top 5 features\n",
    "k = 5\n",
    "ls_new = []\n",
    "for i in range(k):\n",
    "    ls_new.append(ls[i][0])"
   ]
  },
  {
   "cell_type": "code",
   "execution_count": 27,
   "metadata": {
    "ExecuteTime": {
     "end_time": "2020-05-14T13:03:55.099448Z",
     "start_time": "2020-05-14T13:03:55.074048Z"
    },
    "hidden": true
   },
   "outputs": [
    {
     "data": {
      "text/html": [
       "<div>\n",
       "<style scoped>\n",
       "    .dataframe tbody tr th:only-of-type {\n",
       "        vertical-align: middle;\n",
       "    }\n",
       "\n",
       "    .dataframe tbody tr th {\n",
       "        vertical-align: top;\n",
       "    }\n",
       "\n",
       "    .dataframe thead th {\n",
       "        text-align: right;\n",
       "    }\n",
       "</style>\n",
       "<table border=\"1\" class=\"dataframe\">\n",
       "  <thead>\n",
       "    <tr style=\"text-align: right;\">\n",
       "      <th></th>\n",
       "      <th>lead_time</th>\n",
       "      <th>total_of_special_requests</th>\n",
       "      <th>required_car_parking_spaces</th>\n",
       "      <th>booking_changes</th>\n",
       "      <th>previous_cancellations</th>\n",
       "    </tr>\n",
       "  </thead>\n",
       "  <tbody>\n",
       "    <tr>\n",
       "      <th>0</th>\n",
       "      <td>342</td>\n",
       "      <td>0</td>\n",
       "      <td>0</td>\n",
       "      <td>3</td>\n",
       "      <td>0</td>\n",
       "    </tr>\n",
       "    <tr>\n",
       "      <th>1</th>\n",
       "      <td>737</td>\n",
       "      <td>0</td>\n",
       "      <td>0</td>\n",
       "      <td>4</td>\n",
       "      <td>0</td>\n",
       "    </tr>\n",
       "    <tr>\n",
       "      <th>2</th>\n",
       "      <td>7</td>\n",
       "      <td>0</td>\n",
       "      <td>0</td>\n",
       "      <td>0</td>\n",
       "      <td>0</td>\n",
       "    </tr>\n",
       "    <tr>\n",
       "      <th>3</th>\n",
       "      <td>13</td>\n",
       "      <td>0</td>\n",
       "      <td>0</td>\n",
       "      <td>0</td>\n",
       "      <td>0</td>\n",
       "    </tr>\n",
       "    <tr>\n",
       "      <th>4</th>\n",
       "      <td>14</td>\n",
       "      <td>1</td>\n",
       "      <td>0</td>\n",
       "      <td>0</td>\n",
       "      <td>0</td>\n",
       "    </tr>\n",
       "  </tbody>\n",
       "</table>\n",
       "</div>"
      ],
      "text/plain": [
       "   lead_time  total_of_special_requests  required_car_parking_spaces  \\\n",
       "0        342                          0                            0   \n",
       "1        737                          0                            0   \n",
       "2          7                          0                            0   \n",
       "3         13                          0                            0   \n",
       "4         14                          1                            0   \n",
       "\n",
       "   booking_changes  previous_cancellations  \n",
       "0                3                       0  \n",
       "1                4                       0  \n",
       "2                0                       0  \n",
       "3                0                       0  \n",
       "4                0                       0  "
      ]
     },
     "execution_count": 27,
     "metadata": {},
     "output_type": "execute_result"
    }
   ],
   "source": [
    "X_num_filtered = X_num[ls_new]\n",
    "X_num_filtered.head()"
   ]
  },
  {
   "cell_type": "code",
   "execution_count": null,
   "metadata": {
    "hidden": true
   },
   "outputs": [],
   "source": []
  }
 ],
 "metadata": {
  "kernelspec": {
   "display_name": "Python 3",
   "language": "python",
   "name": "python3"
  },
  "language_info": {
   "codemirror_mode": {
    "name": "ipython",
    "version": 3
   },
   "file_extension": ".py",
   "mimetype": "text/x-python",
   "name": "python",
   "nbconvert_exporter": "python",
   "pygments_lexer": "ipython3",
   "version": "3.6.9"
  },
  "latex_envs": {
   "LaTeX_envs_menu_present": true,
   "autoclose": false,
   "autocomplete": true,
   "bibliofile": "biblio.bib",
   "cite_by": "apalike",
   "current_citInitial": 1,
   "eqLabelWithNumbers": true,
   "eqNumInitial": 1,
   "hotkeys": {
    "equation": "Ctrl-E",
    "itemize": "Ctrl-I"
   },
   "labels_anchors": false,
   "latex_user_defs": false,
   "report_style_numbering": false,
   "user_envs_cfg": false
  },
  "toc": {
   "base_numbering": 1,
   "nav_menu": {},
   "number_sections": true,
   "sideBar": true,
   "skip_h1_title": false,
   "title_cell": "Table of Contents",
   "title_sidebar": "Contents",
   "toc_cell": false,
   "toc_position": {},
   "toc_section_display": true,
   "toc_window_display": false
  }
 },
 "nbformat": 4,
 "nbformat_minor": 4
}
