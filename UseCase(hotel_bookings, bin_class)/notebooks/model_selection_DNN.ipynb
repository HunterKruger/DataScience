{
 "cells": [
  {
   "cell_type": "code",
   "execution_count": 1,
   "metadata": {
    "ExecuteTime": {
     "end_time": "2020-05-04T16:41:13.983317Z",
     "start_time": "2020-05-04T16:41:11.392329Z"
    }
   },
   "outputs": [],
   "source": [
    "from sklearn.metrics import accuracy_score\n",
    "from sklearn.metrics import roc_auc_score\n",
    "from sklearn.metrics import confusion_matrix\n",
    "from sklearn.metrics import classification_report\n",
    "import pandas as pd\n",
    "import numpy as np\n",
    "from sklearn.model_selection import train_test_split\n",
    "import tensorflow as tf\n",
    "from tensorflow import keras\n",
    "from tensorflow.keras import Sequential\n",
    "from tensorflow.keras.callbacks import ModelCheckpoint, EarlyStopping\n",
    "from tensorflow.keras.layers import Flatten, Dense, Input, Dropout, BatchNormalization\n",
    "from tensorflow.keras.optimizers import Adam\n",
    "from tensorflow.keras.callbacks import LearningRateScheduler, ReduceLROnPlateau\n",
    "import matplotlib.pyplot as plt\n",
    "%matplotlib inline"
   ]
  },
  {
   "cell_type": "code",
   "execution_count": 2,
   "metadata": {
    "ExecuteTime": {
     "end_time": "2020-05-04T16:41:14.835370Z",
     "start_time": "2020-05-04T16:41:13.984351Z"
    }
   },
   "outputs": [],
   "source": [
    "X_train_origin = pd.read_csv('../data/featured_data/X_train.csv')\n",
    "y_train_origin = pd.read_csv('../data/featured_data/y_train.csv')"
   ]
  },
  {
   "cell_type": "code",
   "execution_count": 3,
   "metadata": {
    "ExecuteTime": {
     "end_time": "2020-05-04T16:41:14.840312Z",
     "start_time": "2020-05-04T16:41:14.836322Z"
    }
   },
   "outputs": [],
   "source": [
    "X_train_origin = X_train_origin.to_numpy()\n",
    "y_train_origin = y_train_origin.to_numpy()\n",
    "y_train_origin = y_train_origin.ravel()"
   ]
  },
  {
   "cell_type": "code",
   "execution_count": 4,
   "metadata": {
    "ExecuteTime": {
     "end_time": "2020-05-04T16:41:14.905168Z",
     "start_time": "2020-05-04T16:41:14.841333Z"
    }
   },
   "outputs": [],
   "source": [
    "X_train, X_val, y_train, y_val = train_test_split(X_train_origin, y_train_origin, test_size=0.2, random_state=1) "
   ]
  },
  {
   "cell_type": "code",
   "execution_count": 5,
   "metadata": {
    "ExecuteTime": {
     "end_time": "2020-05-04T16:41:14.913155Z",
     "start_time": "2020-05-04T16:41:14.906136Z"
    }
   },
   "outputs": [
    {
     "data": {
      "text/plain": [
       "(76409, 48)"
      ]
     },
     "execution_count": 5,
     "metadata": {},
     "output_type": "execute_result"
    }
   ],
   "source": [
    "X_train.shape"
   ]
  },
  {
   "cell_type": "code",
   "execution_count": 6,
   "metadata": {
    "ExecuteTime": {
     "end_time": "2020-05-04T16:41:14.917115Z",
     "start_time": "2020-05-04T16:41:14.914116Z"
    }
   },
   "outputs": [],
   "source": [
    "input_dim=X_train.shape[1]"
   ]
  },
  {
   "cell_type": "code",
   "execution_count": 7,
   "metadata": {
    "ExecuteTime": {
     "end_time": "2020-05-04T16:41:15.969028Z",
     "start_time": "2020-05-04T16:41:14.919102Z"
    }
   },
   "outputs": [],
   "source": [
    "model = Sequential()\n",
    "model.add(Dense(64,input_dim=input_dim ,activation='elu',kernel_initializer='he_normal') )\n",
    "model.add(BatchNormalization())\n",
    "model.add(Dropout(0.3))\n",
    "model.add(Dense(16,activation='elu',kernel_initializer='he_normal') )\n",
    "model.add(BatchNormalization())\n",
    "model.add(Dropout(0.2))\n",
    "model.add(Dense(1,activation='sigmoid')) "
   ]
  },
  {
   "cell_type": "code",
   "execution_count": 8,
   "metadata": {
    "ExecuteTime": {
     "end_time": "2020-05-04T16:41:15.976964Z",
     "start_time": "2020-05-04T16:41:15.969980Z"
    }
   },
   "outputs": [
    {
     "name": "stdout",
     "output_type": "stream",
     "text": [
      "Model: \"sequential\"\n",
      "_________________________________________________________________\n",
      "Layer (type)                 Output Shape              Param #   \n",
      "=================================================================\n",
      "dense (Dense)                (None, 64)                3136      \n",
      "_________________________________________________________________\n",
      "batch_normalization (BatchNo (None, 64)                256       \n",
      "_________________________________________________________________\n",
      "dropout (Dropout)            (None, 64)                0         \n",
      "_________________________________________________________________\n",
      "dense_1 (Dense)              (None, 16)                1040      \n",
      "_________________________________________________________________\n",
      "batch_normalization_1 (Batch (None, 16)                64        \n",
      "_________________________________________________________________\n",
      "dropout_1 (Dropout)          (None, 16)                0         \n",
      "_________________________________________________________________\n",
      "dense_2 (Dense)              (None, 1)                 17        \n",
      "=================================================================\n",
      "Total params: 4,513\n",
      "Trainable params: 4,353\n",
      "Non-trainable params: 160\n",
      "_________________________________________________________________\n"
     ]
    }
   ],
   "source": [
    "model.summary()\n",
    "# 3136=48*64+64\n",
    "# 236=64*4"
   ]
  },
  {
   "cell_type": "code",
   "execution_count": 9,
   "metadata": {
    "ExecuteTime": {
     "end_time": "2020-05-04T16:41:16.039869Z",
     "start_time": "2020-05-04T16:41:15.977960Z"
    }
   },
   "outputs": [],
   "source": [
    "model.compile(loss='binary_crossentropy', metrics=['accuracy'])"
   ]
  },
  {
   "cell_type": "code",
   "execution_count": 10,
   "metadata": {
    "ExecuteTime": {
     "end_time": "2020-05-04T16:41:16.046782Z",
     "start_time": "2020-05-04T16:41:16.040817Z"
    }
   },
   "outputs": [],
   "source": [
    "epoch = 120\n",
    "\n",
    "# exponential decay scheduling\n",
    "def exp_decay(lr_init, s):\n",
    "    def exp_decay_fn(epoch, lr_init, s):\n",
    "        return lr_init*0.1**(epoch/s)\n",
    "    return exp_decay_fn\n",
    "\n",
    "exp_decay_fn = exp_decay(lr_init=0.01, s=20)\n",
    "\n",
    "\n",
    "# piecewise decay scheduling\n",
    "def piecewise_decay(epoch):\n",
    "    def piecewise_decay_fn(epoch):\n",
    "        if epoch < 5:\n",
    "            return 0.01\n",
    "        elif epoch < 15:\n",
    "            return 0.005\n",
    "    return piecewise_decay_fn\n",
    "\n",
    "piecewise_decay_fn = piecewise_decay(epoch)\n",
    "\n",
    "\n",
    "# exponential decay scheduling\n",
    "lr_scheduler_exp = LearningRateScheduler(exp_decay_fn)  \n",
    "\n",
    "# piecewise decay scheduling\n",
    "lr_scheduler_pw = LearningRateScheduler(piecewise_decay_fn)  \n",
    "\n",
    "# performance decay scheduling\n",
    "# lr = lr*0.5 if val_loss does not decrease in 5 consequtive epochs\n",
    "# can work with Adam\n",
    "lr_scheduler_pfm = ReduceLROnPlateau(factor=0.5, patience=5)\n",
    "\n",
    "# save the model when the performance on val is the best\n",
    "checkpoint_callback = ModelCheckpoint('../models/best_NN.h5', save_best_only=True)\n",
    "\n",
    "# stop train when there is no progress in 10 consequtive epochs\n",
    "early_stop_callback = EarlyStopping(patience=10, restore_best_weights=True)"
   ]
  },
  {
   "cell_type": "code",
   "execution_count": 11,
   "metadata": {
    "ExecuteTime": {
     "end_time": "2020-05-04T16:48:57.822011Z",
     "start_time": "2020-05-04T16:41:16.048789Z"
    },
    "scrolled": true
   },
   "outputs": [
    {
     "name": "stdout",
     "output_type": "stream",
     "text": [
      "Train on 76409 samples, validate on 19103 samples\n",
      "Epoch 1/120\n",
      "76409/76409 [==============================] - 5s 61us/sample - loss: 0.4147 - accuracy: 0.8027 - val_loss: 0.3337 - val_accuracy: 0.8445\n",
      "Epoch 2/120\n",
      "76409/76409 [==============================] - 4s 51us/sample - loss: 0.3525 - accuracy: 0.8362 - val_loss: 0.3111 - val_accuracy: 0.8560\n",
      "Epoch 3/120\n",
      "76409/76409 [==============================] - 3s 41us/sample - loss: 0.3321 - accuracy: 0.8461 - val_loss: 0.2998 - val_accuracy: 0.8639\n",
      "Epoch 4/120\n",
      "76409/76409 [==============================] - 3s 39us/sample - loss: 0.3245 - accuracy: 0.8494 - val_loss: 0.2941 - val_accuracy: 0.8641\n",
      "Epoch 5/120\n",
      "76409/76409 [==============================] - 3s 39us/sample - loss: 0.3174 - accuracy: 0.8540 - val_loss: 0.2913 - val_accuracy: 0.8662\n",
      "Epoch 6/120\n",
      "76409/76409 [==============================] - 3s 38us/sample - loss: 0.3156 - accuracy: 0.8561 - val_loss: 0.2891 - val_accuracy: 0.8678\n",
      "Epoch 7/120\n",
      "76409/76409 [==============================] - 3s 37us/sample - loss: 0.3126 - accuracy: 0.8572 - val_loss: 0.2875 - val_accuracy: 0.8678\n",
      "Epoch 8/120\n",
      "76409/76409 [==============================] - 3s 39us/sample - loss: 0.3090 - accuracy: 0.8589 - val_loss: 0.2861 - val_accuracy: 0.8672\n",
      "Epoch 9/120\n",
      "76409/76409 [==============================] - 3s 38us/sample - loss: 0.3084 - accuracy: 0.8586 - val_loss: 0.2854 - val_accuracy: 0.8685\n",
      "Epoch 10/120\n",
      "76409/76409 [==============================] - 3s 37us/sample - loss: 0.3069 - accuracy: 0.8593 - val_loss: 0.2835 - val_accuracy: 0.8693\n",
      "Epoch 11/120\n",
      "76409/76409 [==============================] - 3s 37us/sample - loss: 0.3037 - accuracy: 0.8601 - val_loss: 0.2814 - val_accuracy: 0.8687\n",
      "Epoch 12/120\n",
      "76409/76409 [==============================] - 3s 39us/sample - loss: 0.3025 - accuracy: 0.8625 - val_loss: 0.2806 - val_accuracy: 0.8712\n",
      "Epoch 13/120\n",
      "76409/76409 [==============================] - 3s 44us/sample - loss: 0.3005 - accuracy: 0.8620 - val_loss: 0.2804 - val_accuracy: 0.8712\n",
      "Epoch 14/120\n",
      "76409/76409 [==============================] - 4s 51us/sample - loss: 0.3012 - accuracy: 0.8616 - val_loss: 0.2795 - val_accuracy: 0.8716\n",
      "Epoch 15/120\n",
      "76409/76409 [==============================] - 3s 42us/sample - loss: 0.2983 - accuracy: 0.8632 - val_loss: 0.2781 - val_accuracy: 0.8720\n",
      "Epoch 16/120\n",
      "76409/76409 [==============================] - 4s 47us/sample - loss: 0.2982 - accuracy: 0.8632 - val_loss: 0.2781 - val_accuracy: 0.8719\n",
      "Epoch 17/120\n",
      "76409/76409 [==============================] - 4s 48us/sample - loss: 0.2958 - accuracy: 0.8643 - val_loss: 0.2772 - val_accuracy: 0.8725\n",
      "Epoch 18/120\n",
      "76409/76409 [==============================] - 3s 44us/sample - loss: 0.2959 - accuracy: 0.8645 - val_loss: 0.2773 - val_accuracy: 0.8733\n",
      "Epoch 19/120\n",
      "76409/76409 [==============================] - 4s 47us/sample - loss: 0.2945 - accuracy: 0.8651 - val_loss: 0.2766 - val_accuracy: 0.8717\n",
      "Epoch 20/120\n",
      "76409/76409 [==============================] - 3s 45us/sample - loss: 0.2952 - accuracy: 0.8647 - val_loss: 0.2763 - val_accuracy: 0.8737\n",
      "Epoch 21/120\n",
      "76409/76409 [==============================] - 4s 47us/sample - loss: 0.2953 - accuracy: 0.8646 - val_loss: 0.2759 - val_accuracy: 0.8716\n",
      "Epoch 22/120\n",
      "76409/76409 [==============================] - 3s 45us/sample - loss: 0.2934 - accuracy: 0.8662 - val_loss: 0.2750 - val_accuracy: 0.8730\n",
      "Epoch 23/120\n",
      "76409/76409 [==============================] - 3s 45us/sample - loss: 0.2945 - accuracy: 0.8650 - val_loss: 0.2745 - val_accuracy: 0.8738\n",
      "Epoch 24/120\n",
      "76409/76409 [==============================] - 4s 47us/sample - loss: 0.2929 - accuracy: 0.8675 - val_loss: 0.2741 - val_accuracy: 0.8737\n",
      "Epoch 25/120\n",
      "76409/76409 [==============================] - 3s 42us/sample - loss: 0.2925 - accuracy: 0.8661 - val_loss: 0.2736 - val_accuracy: 0.8740\n",
      "Epoch 26/120\n",
      "76409/76409 [==============================] - 4s 46us/sample - loss: 0.2935 - accuracy: 0.8654 - val_loss: 0.2730 - val_accuracy: 0.8735\n",
      "Epoch 27/120\n",
      "76409/76409 [==============================] - 4s 47us/sample - loss: 0.2930 - accuracy: 0.8660 - val_loss: 0.2732 - val_accuracy: 0.8750\n",
      "Epoch 28/120\n",
      "76409/76409 [==============================] - 4s 47us/sample - loss: 0.2919 - accuracy: 0.8666 - val_loss: 0.2735 - val_accuracy: 0.8747\n",
      "Epoch 29/120\n",
      "76409/76409 [==============================] - 3s 44us/sample - loss: 0.2908 - accuracy: 0.8664 - val_loss: 0.2734 - val_accuracy: 0.8725\n",
      "Epoch 30/120\n",
      "76409/76409 [==============================] - 3s 45us/sample - loss: 0.2909 - accuracy: 0.8679 - val_loss: 0.2733 - val_accuracy: 0.8747\n",
      "Epoch 31/120\n",
      "76409/76409 [==============================] - 4s 46us/sample - loss: 0.2898 - accuracy: 0.8680 - val_loss: 0.2715 - val_accuracy: 0.8755\n",
      "Epoch 32/120\n",
      "76409/76409 [==============================] - 3s 45us/sample - loss: 0.2909 - accuracy: 0.8690 - val_loss: 0.2719 - val_accuracy: 0.8746\n",
      "Epoch 33/120\n",
      "76409/76409 [==============================] - 4s 46us/sample - loss: 0.2899 - accuracy: 0.8676 - val_loss: 0.2722 - val_accuracy: 0.8751\n",
      "Epoch 34/120\n",
      "76409/76409 [==============================] - 4s 47us/sample - loss: 0.2904 - accuracy: 0.8666 - val_loss: 0.2711 - val_accuracy: 0.8754\n",
      "Epoch 35/120\n",
      "76409/76409 [==============================] - 3s 44us/sample - loss: 0.2896 - accuracy: 0.8684 - val_loss: 0.2720 - val_accuracy: 0.8743\n",
      "Epoch 36/120\n",
      "76409/76409 [==============================] - 4s 47us/sample - loss: 0.2882 - accuracy: 0.8687 - val_loss: 0.2712 - val_accuracy: 0.8755\n",
      "Epoch 37/120\n",
      "76409/76409 [==============================] - 3s 46us/sample - loss: 0.2899 - accuracy: 0.8670 - val_loss: 0.2700 - val_accuracy: 0.8754\n",
      "Epoch 38/120\n",
      "76409/76409 [==============================] - 4s 51us/sample - loss: 0.2890 - accuracy: 0.8690 - val_loss: 0.2706 - val_accuracy: 0.8751\n",
      "Epoch 39/120\n",
      "76409/76409 [==============================] - 4s 49us/sample - loss: 0.2886 - accuracy: 0.8682 - val_loss: 0.2709 - val_accuracy: 0.8766\n",
      "Epoch 40/120\n",
      "76409/76409 [==============================] - 4s 52us/sample - loss: 0.2871 - accuracy: 0.8699 - val_loss: 0.2697 - val_accuracy: 0.8756\n",
      "Epoch 41/120\n",
      "76409/76409 [==============================] - 4s 53us/sample - loss: 0.2880 - accuracy: 0.8689 - val_loss: 0.2701 - val_accuracy: 0.8764\n",
      "Epoch 42/120\n",
      "76409/76409 [==============================] - 4s 54us/sample - loss: 0.2878 - accuracy: 0.8689 - val_loss: 0.2708 - val_accuracy: 0.8760\n",
      "Epoch 43/120\n",
      "76409/76409 [==============================] - 4s 53us/sample - loss: 0.2878 - accuracy: 0.8685 - val_loss: 0.2695 - val_accuracy: 0.8762\n",
      "Epoch 44/120\n",
      "76409/76409 [==============================] - 4s 54us/sample - loss: 0.2866 - accuracy: 0.8700 - val_loss: 0.2698 - val_accuracy: 0.8767\n",
      "Epoch 45/120\n",
      "76409/76409 [==============================] - 4s 55us/sample - loss: 0.2872 - accuracy: 0.8697 - val_loss: 0.2693 - val_accuracy: 0.8776\n",
      "Epoch 46/120\n",
      "76409/76409 [==============================] - 4s 55us/sample - loss: 0.2860 - accuracy: 0.8699 - val_loss: 0.2684 - val_accuracy: 0.8778\n",
      "Epoch 47/120\n",
      "76409/76409 [==============================] - 4s 53us/sample - loss: 0.2856 - accuracy: 0.8705 - val_loss: 0.2685 - val_accuracy: 0.8767\n",
      "Epoch 48/120\n",
      "76409/76409 [==============================] - 4s 53us/sample - loss: 0.2865 - accuracy: 0.8696 - val_loss: 0.2683 - val_accuracy: 0.8764\n",
      "Epoch 49/120\n",
      "76409/76409 [==============================] - 4s 57us/sample - loss: 0.2862 - accuracy: 0.8699 - val_loss: 0.2682 - val_accuracy: 0.8763\n",
      "Epoch 50/120\n",
      "76409/76409 [==============================] - 4s 49us/sample - loss: 0.2859 - accuracy: 0.8696 - val_loss: 0.2679 - val_accuracy: 0.8782\n",
      "Epoch 51/120\n",
      "76409/76409 [==============================] - 4s 52us/sample - loss: 0.2853 - accuracy: 0.8695 - val_loss: 0.2675 - val_accuracy: 0.8784\n",
      "Epoch 52/120\n",
      "76409/76409 [==============================] - 4s 50us/sample - loss: 0.2839 - accuracy: 0.8695 - val_loss: 0.2677 - val_accuracy: 0.8779\n",
      "Epoch 53/120\n",
      "76409/76409 [==============================] - 4s 52us/sample - loss: 0.2849 - accuracy: 0.8699 - val_loss: 0.2676 - val_accuracy: 0.8774\n",
      "Epoch 54/120\n",
      "76409/76409 [==============================] - 4s 53us/sample - loss: 0.2856 - accuracy: 0.8695 - val_loss: 0.2673 - val_accuracy: 0.8784\n"
     ]
    },
    {
     "name": "stdout",
     "output_type": "stream",
     "text": [
      "Epoch 55/120\n",
      "76409/76409 [==============================] - 4s 51us/sample - loss: 0.2830 - accuracy: 0.8713 - val_loss: 0.2671 - val_accuracy: 0.8786\n",
      "Epoch 56/120\n",
      "76409/76409 [==============================] - 4s 55us/sample - loss: 0.2857 - accuracy: 0.8703 - val_loss: 0.2665 - val_accuracy: 0.8789\n",
      "Epoch 57/120\n",
      "76409/76409 [==============================] - 4s 56us/sample - loss: 0.2848 - accuracy: 0.8702 - val_loss: 0.2670 - val_accuracy: 0.8777\n",
      "Epoch 58/120\n",
      "76409/76409 [==============================] - 4s 53us/sample - loss: 0.2840 - accuracy: 0.8715 - val_loss: 0.2665 - val_accuracy: 0.8790\n",
      "Epoch 59/120\n",
      "76409/76409 [==============================] - 4s 56us/sample - loss: 0.2846 - accuracy: 0.8712 - val_loss: 0.2670 - val_accuracy: 0.8795\n",
      "Epoch 60/120\n",
      "76409/76409 [==============================] - 4s 54us/sample - loss: 0.2830 - accuracy: 0.8711 - val_loss: 0.2664 - val_accuracy: 0.8785\n",
      "Epoch 61/120\n",
      "76409/76409 [==============================] - 4s 55us/sample - loss: 0.2833 - accuracy: 0.8708 - val_loss: 0.2662 - val_accuracy: 0.8788\n",
      "Epoch 62/120\n",
      "76409/76409 [==============================] - 4s 53us/sample - loss: 0.2842 - accuracy: 0.8702 - val_loss: 0.2670 - val_accuracy: 0.8783\n",
      "Epoch 63/120\n",
      "76409/76409 [==============================] - 4s 50us/sample - loss: 0.2816 - accuracy: 0.8729 - val_loss: 0.2666 - val_accuracy: 0.8784\n",
      "Epoch 64/120\n",
      "76409/76409 [==============================] - 4s 54us/sample - loss: 0.2829 - accuracy: 0.8718 - val_loss: 0.2655 - val_accuracy: 0.8786\n",
      "Epoch 65/120\n",
      "76409/76409 [==============================] - 4s 53us/sample - loss: 0.2830 - accuracy: 0.8711 - val_loss: 0.2656 - val_accuracy: 0.8794\n",
      "Epoch 66/120\n",
      "76409/76409 [==============================] - 4s 50us/sample - loss: 0.2831 - accuracy: 0.8721 - val_loss: 0.2660 - val_accuracy: 0.8790\n",
      "Epoch 67/120\n",
      "76409/76409 [==============================] - 4s 53us/sample - loss: 0.2837 - accuracy: 0.8706 - val_loss: 0.2655 - val_accuracy: 0.8800\n",
      "Epoch 68/120\n",
      "76409/76409 [==============================] - 4s 50us/sample - loss: 0.2814 - accuracy: 0.8718 - val_loss: 0.2648 - val_accuracy: 0.8795\n",
      "Epoch 69/120\n",
      "76409/76409 [==============================] - 4s 50us/sample - loss: 0.2832 - accuracy: 0.8718 - val_loss: 0.2657 - val_accuracy: 0.8798\n",
      "Epoch 70/120\n",
      "76409/76409 [==============================] - 4s 54us/sample - loss: 0.2813 - accuracy: 0.8721 - val_loss: 0.2661 - val_accuracy: 0.8789\n",
      "Epoch 71/120\n",
      "76409/76409 [==============================] - 4s 51us/sample - loss: 0.2821 - accuracy: 0.8722 - val_loss: 0.2656 - val_accuracy: 0.8791\n",
      "Epoch 72/120\n",
      "76409/76409 [==============================] - 4s 51us/sample - loss: 0.2809 - accuracy: 0.8715 - val_loss: 0.2650 - val_accuracy: 0.8805\n",
      "Epoch 73/120\n",
      "76409/76409 [==============================] - 4s 50us/sample - loss: 0.2814 - accuracy: 0.8719 - val_loss: 0.2649 - val_accuracy: 0.8801\n",
      "Epoch 74/120\n",
      "76409/76409 [==============================] - 4s 50us/sample - loss: 0.2796 - accuracy: 0.8728 - val_loss: 0.2649 - val_accuracy: 0.8802\n",
      "Epoch 75/120\n",
      "76409/76409 [==============================] - 4s 53us/sample - loss: 0.2808 - accuracy: 0.8733 - val_loss: 0.2650 - val_accuracy: 0.8798\n",
      "Epoch 76/120\n",
      "76409/76409 [==============================] - 4s 54us/sample - loss: 0.2804 - accuracy: 0.8720 - val_loss: 0.2646 - val_accuracy: 0.8797\n",
      "Epoch 77/120\n",
      "76409/76409 [==============================] - 4s 54us/sample - loss: 0.2804 - accuracy: 0.8720 - val_loss: 0.2645 - val_accuracy: 0.8803\n",
      "Epoch 78/120\n",
      "76409/76409 [==============================] - 4s 55us/sample - loss: 0.2785 - accuracy: 0.8734 - val_loss: 0.2643 - val_accuracy: 0.8801\n",
      "Epoch 79/120\n",
      "76409/76409 [==============================] - 4s 52us/sample - loss: 0.2799 - accuracy: 0.8740 - val_loss: 0.2646 - val_accuracy: 0.8800\n",
      "Epoch 80/120\n",
      "76409/76409 [==============================] - 4s 56us/sample - loss: 0.2798 - accuracy: 0.8734 - val_loss: 0.2642 - val_accuracy: 0.8804\n",
      "Epoch 81/120\n",
      "76409/76409 [==============================] - 4s 55us/sample - loss: 0.2801 - accuracy: 0.8727 - val_loss: 0.2646 - val_accuracy: 0.8800\n",
      "Epoch 82/120\n",
      "76409/76409 [==============================] - 4s 54us/sample - loss: 0.2794 - accuracy: 0.8728 - val_loss: 0.2644 - val_accuracy: 0.8799\n",
      "Epoch 83/120\n",
      "76409/76409 [==============================] - 4s 54us/sample - loss: 0.2796 - accuracy: 0.8734 - val_loss: 0.2645 - val_accuracy: 0.8802\n",
      "Epoch 84/120\n",
      "76409/76409 [==============================] - 5s 59us/sample - loss: 0.2800 - accuracy: 0.8726 - val_loss: 0.2650 - val_accuracy: 0.8803\n",
      "Epoch 85/120\n",
      "76409/76409 [==============================] - 4s 57us/sample - loss: 0.2798 - accuracy: 0.8732 - val_loss: 0.2643 - val_accuracy: 0.8803\n",
      "Epoch 86/120\n",
      "76409/76409 [==============================] - 4s 49us/sample - loss: 0.2789 - accuracy: 0.8733 - val_loss: 0.2641 - val_accuracy: 0.8803\n",
      "Epoch 87/120\n",
      "76409/76409 [==============================] - 3s 45us/sample - loss: 0.2783 - accuracy: 0.8729 - val_loss: 0.2642 - val_accuracy: 0.8805\n",
      "Epoch 88/120\n",
      "76409/76409 [==============================] - 3s 44us/sample - loss: 0.2796 - accuracy: 0.8741 - val_loss: 0.2639 - val_accuracy: 0.8806\n",
      "Epoch 89/120\n",
      "76409/76409 [==============================] - 4s 50us/sample - loss: 0.2782 - accuracy: 0.8742 - val_loss: 0.2640 - val_accuracy: 0.8806\n",
      "Epoch 90/120\n",
      "76409/76409 [==============================] - 4s 49us/sample - loss: 0.2799 - accuracy: 0.8733 - val_loss: 0.2642 - val_accuracy: 0.8804\n",
      "Epoch 91/120\n",
      "76409/76409 [==============================] - 4s 54us/sample - loss: 0.2795 - accuracy: 0.8736 - val_loss: 0.2640 - val_accuracy: 0.8804\n",
      "Epoch 92/120\n",
      "76409/76409 [==============================] - 4s 57us/sample - loss: 0.2784 - accuracy: 0.8742 - val_loss: 0.2636 - val_accuracy: 0.8808\n",
      "Epoch 93/120\n",
      "76409/76409 [==============================] - 4s 55us/sample - loss: 0.2799 - accuracy: 0.8730 - val_loss: 0.2639 - val_accuracy: 0.8805\n",
      "Epoch 94/120\n",
      "76409/76409 [==============================] - 4s 49us/sample - loss: 0.2786 - accuracy: 0.8732 - val_loss: 0.2638 - val_accuracy: 0.8815\n",
      "Epoch 95/120\n",
      "76409/76409 [==============================] - 4s 48us/sample - loss: 0.2782 - accuracy: 0.8741 - val_loss: 0.2635 - val_accuracy: 0.8802\n",
      "Epoch 96/120\n",
      "76409/76409 [==============================] - 4s 52us/sample - loss: 0.2776 - accuracy: 0.8741 - val_loss: 0.2636 - val_accuracy: 0.8813\n",
      "Epoch 97/120\n",
      "76409/76409 [==============================] - 4s 53us/sample - loss: 0.2792 - accuracy: 0.8734 - val_loss: 0.2637 - val_accuracy: 0.8808\n",
      "Epoch 98/120\n",
      "76409/76409 [==============================] - 4s 51us/sample - loss: 0.2790 - accuracy: 0.8729 - val_loss: 0.2637 - val_accuracy: 0.8810\n",
      "Epoch 99/120\n",
      "76409/76409 [==============================] - 4s 57us/sample - loss: 0.2771 - accuracy: 0.8753 - val_loss: 0.2635 - val_accuracy: 0.8813\n",
      "Epoch 100/120\n",
      "76409/76409 [==============================] - 4s 52us/sample - loss: 0.2784 - accuracy: 0.8751 - val_loss: 0.2634 - val_accuracy: 0.8806\n",
      "Epoch 101/120\n",
      "76409/76409 [==============================] - 4s 55us/sample - loss: 0.2777 - accuracy: 0.8744 - val_loss: 0.2635 - val_accuracy: 0.8811\n",
      "Epoch 102/120\n",
      "76409/76409 [==============================] - 4s 55us/sample - loss: 0.2783 - accuracy: 0.8736 - val_loss: 0.2634 - val_accuracy: 0.8809\n",
      "Epoch 103/120\n",
      "76409/76409 [==============================] - 4s 51us/sample - loss: 0.2783 - accuracy: 0.8740 - val_loss: 0.2636 - val_accuracy: 0.8807\n",
      "Epoch 104/120\n",
      "76409/76409 [==============================] - 4s 51us/sample - loss: 0.2773 - accuracy: 0.8747 - val_loss: 0.2635 - val_accuracy: 0.8806\n",
      "Epoch 105/120\n",
      "76409/76409 [==============================] - 4s 52us/sample - loss: 0.2788 - accuracy: 0.8743 - val_loss: 0.2634 - val_accuracy: 0.8809\n",
      "Epoch 106/120\n",
      "76409/76409 [==============================] - 4s 55us/sample - loss: 0.2791 - accuracy: 0.8742 - val_loss: 0.2634 - val_accuracy: 0.8806\n",
      "Epoch 107/120\n",
      "76409/76409 [==============================] - 4s 52us/sample - loss: 0.2778 - accuracy: 0.8750 - val_loss: 0.2634 - val_accuracy: 0.8810\n",
      "Epoch 108/120\n",
      "76409/76409 [==============================] - 4s 53us/sample - loss: 0.2771 - accuracy: 0.8748 - val_loss: 0.2636 - val_accuracy: 0.8807\n",
      "Epoch 109/120\n"
     ]
    },
    {
     "name": "stdout",
     "output_type": "stream",
     "text": [
      "76409/76409 [==============================] - 4s 54us/sample - loss: 0.2789 - accuracy: 0.8740 - val_loss: 0.2635 - val_accuracy: 0.8815\n",
      "Epoch 110/120\n",
      "76409/76409 [==============================] - 4s 52us/sample - loss: 0.2768 - accuracy: 0.8748 - val_loss: 0.2635 - val_accuracy: 0.8805\n",
      "Epoch 111/120\n",
      "76409/76409 [==============================] - 4s 58us/sample - loss: 0.2771 - accuracy: 0.8753 - val_loss: 0.2633 - val_accuracy: 0.8808\n",
      "Epoch 112/120\n",
      "76409/76409 [==============================] - 4s 57us/sample - loss: 0.2791 - accuracy: 0.8740 - val_loss: 0.2633 - val_accuracy: 0.8807\n",
      "Epoch 113/120\n",
      "76409/76409 [==============================] - 4s 56us/sample - loss: 0.2788 - accuracy: 0.8732 - val_loss: 0.2634 - val_accuracy: 0.8809\n",
      "Epoch 114/120\n",
      "76409/76409 [==============================] - 4s 50us/sample - loss: 0.2772 - accuracy: 0.8746 - val_loss: 0.2634 - val_accuracy: 0.8806\n",
      "Epoch 115/120\n",
      "76409/76409 [==============================] - 4s 55us/sample - loss: 0.2786 - accuracy: 0.8747 - val_loss: 0.2635 - val_accuracy: 0.8802\n",
      "Epoch 116/120\n",
      "76409/76409 [==============================] - 4s 55us/sample - loss: 0.2794 - accuracy: 0.8733 - val_loss: 0.2635 - val_accuracy: 0.8804\n",
      "Epoch 117/120\n",
      "76409/76409 [==============================] - 4s 54us/sample - loss: 0.2787 - accuracy: 0.8748 - val_loss: 0.2634 - val_accuracy: 0.8808\n",
      "Epoch 118/120\n",
      "76409/76409 [==============================] - 4s 58us/sample - loss: 0.2778 - accuracy: 0.8744 - val_loss: 0.2634 - val_accuracy: 0.8804\n",
      "Epoch 119/120\n",
      "76409/76409 [==============================] - 4s 57us/sample - loss: 0.2775 - accuracy: 0.8735 - val_loss: 0.2634 - val_accuracy: 0.8806\n",
      "Epoch 120/120\n",
      "76409/76409 [==============================] - 4s 56us/sample - loss: 0.2780 - accuracy: 0.8735 - val_loss: 0.2633 - val_accuracy: 0.8804\n"
     ]
    }
   ],
   "source": [
    "history = model.fit(X_train, y_train, validation_data=(X_val, y_val), batch_size=128,\n",
    "                    epochs=epoch, callbacks=[lr_scheduler_pfm, checkpoint_callback,early_stop_callback])"
   ]
  },
  {
   "cell_type": "code",
   "execution_count": 12,
   "metadata": {
    "ExecuteTime": {
     "end_time": "2020-05-04T16:48:58.166660Z",
     "start_time": "2020-05-04T16:48:57.825018Z"
    }
   },
   "outputs": [
    {
     "data": {
      "image/png": "[encoded data removed]",
      "text/plain": [
       "<Figure size 432x288 with 1 Axes>"
      ]
     },
     "metadata": {
      "needs_background": "light"
     },
     "output_type": "display_data"
    },
    {
     "data": {
      "image/png": "[encoded data removed]",
      "text/plain": [
       "<Figure size 432x288 with 1 Axes>"
      ]
     },
     "metadata": {
      "needs_background": "light"
     },
     "output_type": "display_data"
    }
   ],
   "source": [
    "epoch_range=range(1,epoch+1)\n",
    "plt.plot(epoch_range,history.history['accuracy'])\n",
    "plt.plot(epoch_range,history.history['val_accuracy'])\n",
    "plt.title('Model accuracy')\n",
    "plt.ylabel('Accuracy')\n",
    "plt.xlabel('Epoch')\n",
    "plt.legend(['Train','Val'],loc='upper left')\n",
    "plt.show()\n",
    "\n",
    "plt.plot(history.history['loss'])\n",
    "plt.plot(history.history['val_loss'])\n",
    "plt.title('Model loss')\n",
    "plt.ylabel('Loss')\n",
    "plt.xlabel('Epoch')\n",
    "plt.legend(['Train','Val'],loc='upper left')\n",
    "plt.show()"
   ]
  }
 ],
 "metadata": {
  "kernelspec": {
   "display_name": "Python 3",
   "language": "python",
   "name": "python3"
  },
  "language_info": {
   "codemirror_mode": {
    "name": "ipython",
    "version": 3
   },
   "file_extension": ".py",
   "mimetype": "text/x-python",
   "name": "python",
   "nbconvert_exporter": "python",
   "pygments_lexer": "ipython3",
   "version": "3.6.5"
  },
  "latex_envs": {
   "LaTeX_envs_menu_present": true,
   "autoclose": false,
   "autocomplete": true,
   "bibliofile": "biblio.bib",
   "cite_by": "apalike",
   "current_citInitial": 1,
   "eqLabelWithNumbers": true,
   "eqNumInitial": 1,
   "hotkeys": {
    "equation": "Ctrl-E",
    "itemize": "Ctrl-I"
   },
   "labels_anchors": false,
   "latex_user_defs": false,
   "report_style_numbering": false,
   "user_envs_cfg": false
  },
  "toc": {
   "base_numbering": 1,
   "nav_menu": {},
   "number_sections": true,
   "sideBar": true,
   "skip_h1_title": false,
   "title_cell": "Table of Contents",
   "title_sidebar": "Contents",
   "toc_cell": false,
   "toc_position": {},
   "toc_section_display": true,
   "toc_window_display": false
  }
 },
 "nbformat": 4,
 "nbformat_minor": 4
}
