{
 "cells": [
  {
   "cell_type": "code",
   "execution_count": 1,
   "metadata": {
    "ExecuteTime": {
     "end_time": "2020-04-14T15:34:26.606554Z",
     "start_time": "2020-04-14T15:34:23.604459Z"
    }
   },
   "outputs": [],
   "source": [
    "import pandas as pd \n",
    "import numpy as np\n",
    "from sklearn.model_selection import train_test_split\n",
    "import tensorflow as tf\n",
    "from tensorflow import keras\n",
    "from tensorflow.keras import Sequential\n",
    "from tensorflow.keras.layers import Flatten,Dense,Input,Dropout\n",
    "from tensorflow.keras.optimizers import Adam\n",
    "from tensorflow.keras.utils import to_categorical\n",
    "\n",
    "import matplotlib.pyplot as plt\n",
    "%matplotlib inline\n",
    "\n",
    "from sklearn.metrics import classification_report\n",
    "from sklearn.metrics import confusion_matrix\n",
    "from sklearn.metrics import roc_auc_score\n",
    "from sklearn.metrics import accuracy_score"
   ]
  },
  {
   "cell_type": "code",
   "execution_count": 2,
   "metadata": {
    "ExecuteTime": {
     "end_time": "2020-04-14T15:34:26.677044Z",
     "start_time": "2020-04-14T15:34:26.608309Z"
    }
   },
   "outputs": [],
   "source": [
    "X_train_origin = pd.read_csv('../data/featured_data/X_train.csv')\n",
    "y_train_origin = pd.read_csv('../data/featured_data/y_train.csv')"
   ]
  },
  {
   "cell_type": "code",
   "execution_count": 3,
   "metadata": {
    "ExecuteTime": {
     "end_time": "2020-04-14T15:34:26.686889Z",
     "start_time": "2020-04-14T15:34:26.678675Z"
    }
   },
   "outputs": [],
   "source": [
    "X_train_origin = X_train_origin.to_numpy()\n",
    "y_train_origin = y_train_origin.to_numpy()\n",
    "y_train_origin = y_train_origin.ravel()"
   ]
  },
  {
   "cell_type": "code",
   "execution_count": 4,
   "metadata": {
    "ExecuteTime": {
     "end_time": "2020-04-14T15:34:26.693301Z",
     "start_time": "2020-04-14T15:34:26.687314Z"
    }
   },
   "outputs": [
    {
     "data": {
      "text/plain": [
       "((12096, 50), (12096,))"
      ]
     },
     "execution_count": 4,
     "metadata": {},
     "output_type": "execute_result"
    }
   ],
   "source": [
    "X_train_origin.shape,y_train_origin.shape"
   ]
  },
  {
   "cell_type": "code",
   "execution_count": 5,
   "metadata": {
    "ExecuteTime": {
     "end_time": "2020-04-14T15:34:26.701316Z",
     "start_time": "2020-04-14T15:34:26.695310Z"
    }
   },
   "outputs": [
    {
     "data": {
      "text/plain": [
       "array([[0., 1., 0., ..., 0., 0., 0.],\n",
       "       [1., 0., 0., ..., 0., 0., 0.],\n",
       "       [0., 0., 0., ..., 1., 0., 0.],\n",
       "       ...,\n",
       "       [0., 0., 0., ..., 0., 1., 0.],\n",
       "       [0., 1., 0., ..., 0., 0., 0.],\n",
       "       [0., 0., 0., ..., 0., 1., 0.]], dtype=float32)"
      ]
     },
     "execution_count": 5,
     "metadata": {},
     "output_type": "execute_result"
    }
   ],
   "source": [
    "y_encoded = to_categorical(y_train_origin)\n",
    "y_encoded = y_encoded[:,1:]\n",
    "y_encoded"
   ]
  },
  {
   "cell_type": "code",
   "execution_count": 6,
   "metadata": {
    "ExecuteTime": {
     "end_time": "2020-04-14T15:34:26.710578Z",
     "start_time": "2020-04-14T15:34:26.702276Z"
    }
   },
   "outputs": [],
   "source": [
    "X_train, X_val, y_train, y_val = train_test_split(X_train_origin, y_encoded, test_size=0.25, random_state=1) "
   ]
  },
  {
   "cell_type": "code",
   "execution_count": 7,
   "metadata": {
    "ExecuteTime": {
     "end_time": "2020-04-14T15:34:26.715216Z",
     "start_time": "2020-04-14T15:34:26.712209Z"
    }
   },
   "outputs": [],
   "source": [
    "input_dim=X_train.shape[1]"
   ]
  },
  {
   "cell_type": "code",
   "execution_count": 8,
   "metadata": {
    "ExecuteTime": {
     "end_time": "2020-04-14T15:34:27.653442Z",
     "start_time": "2020-04-14T15:34:26.717196Z"
    }
   },
   "outputs": [],
   "source": [
    "model = Sequential()\n",
    "model.add(Dense(64,input_dim=input_dim ,activation='relu') )\n",
    "model.add(Dropout(0.3))\n",
    "model.add(Dense(7,activation='softmax')) "
   ]
  },
  {
   "cell_type": "code",
   "execution_count": 9,
   "metadata": {
    "ExecuteTime": {
     "end_time": "2020-04-14T15:34:27.696834Z",
     "start_time": "2020-04-14T15:34:27.654426Z"
    }
   },
   "outputs": [],
   "source": [
    "opt=Adam(learning_rate=0.001)\n",
    "model.compile(optimizer=opt ,loss='categorical_crossentropy',metrics=['accuracy'])"
   ]
  },
  {
   "cell_type": "code",
   "execution_count": 10,
   "metadata": {
    "ExecuteTime": {
     "end_time": "2020-04-14T15:34:27.700813Z",
     "start_time": "2020-04-14T15:34:27.697818Z"
    }
   },
   "outputs": [],
   "source": [
    "epoch = 400"
   ]
  },
  {
   "cell_type": "code",
   "execution_count": 11,
   "metadata": {
    "ExecuteTime": {
     "end_time": "2020-04-14T15:36:16.169914Z",
     "start_time": "2020-04-14T15:34:27.702798Z"
    }
   },
   "outputs": [
    {
     "name": "stdout",
     "output_type": "stream",
     "text": [
      "Train on 9072 samples, validate on 3024 samples\n",
      "Epoch 1/200\n",
      "9072/9072 [==============================] - 2s 178us/sample - loss: 1.4626 - accuracy: 0.4417 - val_loss: 1.0901 - val_accuracy: 0.6134\n",
      "Epoch 2/200\n",
      "9072/9072 [==============================] - 1s 65us/sample - loss: 0.9999 - accuracy: 0.6176 - val_loss: 0.8623 - val_accuracy: 0.6647\n",
      "Epoch 3/200\n",
      "9072/9072 [==============================] - 1s 65us/sample - loss: 0.8656 - accuracy: 0.6508 - val_loss: 0.7865 - val_accuracy: 0.6878\n",
      "Epoch 4/200\n",
      "9072/9072 [==============================] - 1s 65us/sample - loss: 0.8099 - accuracy: 0.6721 - val_loss: 0.7463 - val_accuracy: 0.6948\n",
      "Epoch 5/200\n",
      "9072/9072 [==============================] - 1s 65us/sample - loss: 0.7809 - accuracy: 0.6836 - val_loss: 0.7274 - val_accuracy: 0.7027\n",
      "Epoch 6/200\n",
      "9072/9072 [==============================] - 1s 63us/sample - loss: 0.7589 - accuracy: 0.6887 - val_loss: 0.7070 - val_accuracy: 0.7040\n",
      "Epoch 7/200\n",
      "9072/9072 [==============================] - 1s 67us/sample - loss: 0.7303 - accuracy: 0.7081 - val_loss: 0.6936 - val_accuracy: 0.7146\n",
      "Epoch 8/200\n",
      "9072/9072 [==============================] - 1s 65us/sample - loss: 0.7188 - accuracy: 0.7082 - val_loss: 0.6830 - val_accuracy: 0.7166\n",
      "Epoch 9/200\n",
      "9072/9072 [==============================] - 1s 65us/sample - loss: 0.7049 - accuracy: 0.7083 - val_loss: 0.6667 - val_accuracy: 0.7212\n",
      "Epoch 10/200\n",
      "9072/9072 [==============================] - 1s 66us/sample - loss: 0.6958 - accuracy: 0.7155 - val_loss: 0.6590 - val_accuracy: 0.7239\n",
      "Epoch 11/200\n",
      "9072/9072 [==============================] - 1s 66us/sample - loss: 0.6805 - accuracy: 0.7229 - val_loss: 0.6531 - val_accuracy: 0.7265\n",
      "Epoch 12/200\n",
      "9072/9072 [==============================] - 1s 67us/sample - loss: 0.6751 - accuracy: 0.7213 - val_loss: 0.6456 - val_accuracy: 0.7328\n",
      "Epoch 13/200\n",
      "9072/9072 [==============================] - 1s 66us/sample - loss: 0.6703 - accuracy: 0.7222 - val_loss: 0.6435 - val_accuracy: 0.7288\n",
      "Epoch 14/200\n",
      "9072/9072 [==============================] - 1s 66us/sample - loss: 0.6558 - accuracy: 0.7335 - val_loss: 0.6334 - val_accuracy: 0.7351\n",
      "Epoch 15/200\n",
      "9072/9072 [==============================] - 1s 65us/sample - loss: 0.6504 - accuracy: 0.7363 - val_loss: 0.6257 - val_accuracy: 0.7374\n",
      "Epoch 16/200\n",
      "9072/9072 [==============================] - 1s 67us/sample - loss: 0.6450 - accuracy: 0.7381 - val_loss: 0.6271 - val_accuracy: 0.7351\n",
      "Epoch 17/200\n",
      "9072/9072 [==============================] - 1s 68us/sample - loss: 0.6393 - accuracy: 0.7377 - val_loss: 0.6173 - val_accuracy: 0.7417\n",
      "Epoch 18/200\n",
      "9072/9072 [==============================] - 1s 67us/sample - loss: 0.6349 - accuracy: 0.7420 - val_loss: 0.6164 - val_accuracy: 0.7368\n",
      "Epoch 19/200\n",
      "9072/9072 [==============================] - 1s 67us/sample - loss: 0.6218 - accuracy: 0.7446 - val_loss: 0.6119 - val_accuracy: 0.7464\n",
      "Epoch 20/200\n",
      "9072/9072 [==============================] - 1s 66us/sample - loss: 0.6239 - accuracy: 0.7457 - val_loss: 0.6075 - val_accuracy: 0.7434\n",
      "Epoch 21/200\n",
      "9072/9072 [==============================] - 1s 68us/sample - loss: 0.6208 - accuracy: 0.7469 - val_loss: 0.6007 - val_accuracy: 0.7454\n",
      "Epoch 22/200\n",
      "9072/9072 [==============================] - 1s 67us/sample - loss: 0.6158 - accuracy: 0.7474 - val_loss: 0.6031 - val_accuracy: 0.7493\n",
      "Epoch 23/200\n",
      "9072/9072 [==============================] - 1s 68us/sample - loss: 0.6047 - accuracy: 0.7513 - val_loss: 0.5969 - val_accuracy: 0.7457\n",
      "Epoch 24/200\n",
      "9072/9072 [==============================] - 1s 65us/sample - loss: 0.6102 - accuracy: 0.7475 - val_loss: 0.5943 - val_accuracy: 0.7517\n",
      "Epoch 25/200\n",
      "9072/9072 [==============================] - 1s 66us/sample - loss: 0.6047 - accuracy: 0.7545 - val_loss: 0.5909 - val_accuracy: 0.7533\n",
      "Epoch 26/200\n",
      "9072/9072 [==============================] - ETA: 0s - loss: 0.5956 - accuracy: 0.75 - 1s 67us/sample - loss: 0.5924 - accuracy: 0.7604 - val_loss: 0.5893 - val_accuracy: 0.7480\n",
      "Epoch 27/200\n",
      "9072/9072 [==============================] - 1s 67us/sample - loss: 0.5895 - accuracy: 0.7557 - val_loss: 0.5865 - val_accuracy: 0.7576\n",
      "Epoch 28/200\n",
      "9072/9072 [==============================] - 1s 67us/sample - loss: 0.5916 - accuracy: 0.7622 - val_loss: 0.5861 - val_accuracy: 0.7530\n",
      "Epoch 29/200\n",
      "9072/9072 [==============================] - 1s 64us/sample - loss: 0.5900 - accuracy: 0.7575 - val_loss: 0.5815 - val_accuracy: 0.7553\n",
      "Epoch 30/200\n",
      "9072/9072 [==============================] - 1s 83us/sample - loss: 0.5797 - accuracy: 0.7641 - val_loss: 0.5786 - val_accuracy: 0.7536\n",
      "Epoch 31/200\n",
      "9072/9072 [==============================] - 1s 87us/sample - loss: 0.5826 - accuracy: 0.7620 - val_loss: 0.5767 - val_accuracy: 0.7593\n",
      "Epoch 32/200\n",
      "9072/9072 [==============================] - 1s 89us/sample - loss: 0.5791 - accuracy: 0.7587 - val_loss: 0.5772 - val_accuracy: 0.7579\n",
      "Epoch 33/200\n",
      "9072/9072 [==============================] - 1s 90us/sample - loss: 0.5795 - accuracy: 0.7639 - val_loss: 0.5712 - val_accuracy: 0.7579\n",
      "Epoch 34/200\n",
      "9072/9072 [==============================] - 1s 83us/sample - loss: 0.5717 - accuracy: 0.7673 - val_loss: 0.5698 - val_accuracy: 0.7566\n",
      "Epoch 35/200\n",
      "9072/9072 [==============================] - 1s 82us/sample - loss: 0.5764 - accuracy: 0.7647 - val_loss: 0.5666 - val_accuracy: 0.7603\n",
      "Epoch 36/200\n",
      "9072/9072 [==============================] - 1s 87us/sample - loss: 0.5668 - accuracy: 0.7642 - val_loss: 0.5719 - val_accuracy: 0.7583\n",
      "Epoch 37/200\n",
      "9072/9072 [==============================] - 1s 76us/sample - loss: 0.5717 - accuracy: 0.7701 - val_loss: 0.5641 - val_accuracy: 0.7603\n",
      "Epoch 38/200\n",
      "9072/9072 [==============================] - 1s 77us/sample - loss: 0.5653 - accuracy: 0.7682 - val_loss: 0.5630 - val_accuracy: 0.7593\n",
      "Epoch 39/200\n",
      "9072/9072 [==============================] - 0s 55us/sample - loss: 0.5654 - accuracy: 0.7703 - val_loss: 0.5603 - val_accuracy: 0.7576\n",
      "Epoch 40/200\n",
      "9072/9072 [==============================] - 1s 63us/sample - loss: 0.5618 - accuracy: 0.7671 - val_loss: 0.5603 - val_accuracy: 0.7599\n",
      "Epoch 41/200\n",
      "9072/9072 [==============================] - 1s 57us/sample - loss: 0.5616 - accuracy: 0.7691 - val_loss: 0.5600 - val_accuracy: 0.7639\n",
      "Epoch 42/200\n",
      "9072/9072 [==============================] - 0s 55us/sample - loss: 0.5649 - accuracy: 0.7666 - val_loss: 0.5529 - val_accuracy: 0.7665\n",
      "Epoch 43/200\n",
      "9072/9072 [==============================] - 0s 53us/sample - loss: 0.5579 - accuracy: 0.7696 - val_loss: 0.5542 - val_accuracy: 0.7685\n",
      "Epoch 44/200\n",
      "9072/9072 [==============================] - 0s 54us/sample - loss: 0.5604 - accuracy: 0.7696 - val_loss: 0.5523 - val_accuracy: 0.7685\n",
      "Epoch 45/200\n",
      "9072/9072 [==============================] - 1s 57us/sample - loss: 0.5585 - accuracy: 0.7696 - val_loss: 0.5529 - val_accuracy: 0.7695\n",
      "Epoch 46/200\n",
      "9072/9072 [==============================] - 1s 58us/sample - loss: 0.5478 - accuracy: 0.7720 - val_loss: 0.5495 - val_accuracy: 0.7685\n",
      "Epoch 47/200\n",
      "9072/9072 [==============================] - 1s 60us/sample - loss: 0.5528 - accuracy: 0.7734 - val_loss: 0.5491 - val_accuracy: 0.7692\n",
      "Epoch 48/200\n",
      "9072/9072 [==============================] - 1s 63us/sample - loss: 0.5518 - accuracy: 0.7731 - val_loss: 0.5478 - val_accuracy: 0.7692\n",
      "Epoch 49/200\n",
      "9072/9072 [==============================] - 1s 61us/sample - loss: 0.5454 - accuracy: 0.7760 - val_loss: 0.5492 - val_accuracy: 0.7748\n",
      "Epoch 50/200\n",
      "9072/9072 [==============================] - 1s 58us/sample - loss: 0.5415 - accuracy: 0.7783 - val_loss: 0.5482 - val_accuracy: 0.7688\n",
      "Epoch 51/200\n",
      "9072/9072 [==============================] - 1s 56us/sample - loss: 0.5466 - accuracy: 0.7748 - val_loss: 0.5462 - val_accuracy: 0.7708\n",
      "Epoch 52/200\n",
      "9072/9072 [==============================] - 0s 52us/sample - loss: 0.5456 - accuracy: 0.7720 - val_loss: 0.5456 - val_accuracy: 0.7725\n",
      "Epoch 53/200\n",
      "9072/9072 [==============================] - 1s 56us/sample - loss: 0.5398 - accuracy: 0.7773 - val_loss: 0.5409 - val_accuracy: 0.7702\n",
      "Epoch 54/200\n",
      "9072/9072 [==============================] - 1s 55us/sample - loss: 0.5315 - accuracy: 0.7822 - val_loss: 0.5405 - val_accuracy: 0.7748\n",
      "Epoch 55/200\n"
     ]
    },
    {
     "name": "stdout",
     "output_type": "stream",
     "text": [
      "9072/9072 [==============================] - 1s 55us/sample - loss: 0.5357 - accuracy: 0.7788 - val_loss: 0.5419 - val_accuracy: 0.7708\n",
      "Epoch 56/200\n",
      "9072/9072 [==============================] - 0s 52us/sample - loss: 0.5363 - accuracy: 0.7800 - val_loss: 0.5446 - val_accuracy: 0.7688\n",
      "Epoch 57/200\n",
      "9072/9072 [==============================] - 0s 51us/sample - loss: 0.5310 - accuracy: 0.7821 - val_loss: 0.5440 - val_accuracy: 0.7698\n",
      "Epoch 58/200\n",
      "9072/9072 [==============================] - 0s 51us/sample - loss: 0.5330 - accuracy: 0.7809 - val_loss: 0.5401 - val_accuracy: 0.7741\n",
      "Epoch 59/200\n",
      "9072/9072 [==============================] - 0s 52us/sample - loss: 0.5330 - accuracy: 0.7816 - val_loss: 0.5363 - val_accuracy: 0.7728\n",
      "Epoch 60/200\n",
      "9072/9072 [==============================] - 0s 52us/sample - loss: 0.5276 - accuracy: 0.7813 - val_loss: 0.5387 - val_accuracy: 0.7712\n",
      "Epoch 61/200\n",
      "9072/9072 [==============================] - 0s 52us/sample - loss: 0.5251 - accuracy: 0.7819 - val_loss: 0.5340 - val_accuracy: 0.7761\n",
      "Epoch 62/200\n",
      "9072/9072 [==============================] - 0s 53us/sample - loss: 0.5277 - accuracy: 0.7816 - val_loss: 0.5375 - val_accuracy: 0.7715\n",
      "Epoch 63/200\n",
      "9072/9072 [==============================] - 0s 51us/sample - loss: 0.5315 - accuracy: 0.7793 - val_loss: 0.5353 - val_accuracy: 0.7692\n",
      "Epoch 64/200\n",
      "9072/9072 [==============================] - 0s 54us/sample - loss: 0.5253 - accuracy: 0.7801 - val_loss: 0.5311 - val_accuracy: 0.7761\n",
      "Epoch 65/200\n",
      "9072/9072 [==============================] - 1s 60us/sample - loss: 0.5223 - accuracy: 0.7840 - val_loss: 0.5298 - val_accuracy: 0.7794\n",
      "Epoch 66/200\n",
      "9072/9072 [==============================] - 1s 60us/sample - loss: 0.5194 - accuracy: 0.7845 - val_loss: 0.5300 - val_accuracy: 0.7784\n",
      "Epoch 67/200\n",
      "9072/9072 [==============================] - 1s 58us/sample - loss: 0.5204 - accuracy: 0.7871 - val_loss: 0.5275 - val_accuracy: 0.7791\n",
      "Epoch 68/200\n",
      "9072/9072 [==============================] - 1s 56us/sample - loss: 0.5252 - accuracy: 0.7816 - val_loss: 0.5287 - val_accuracy: 0.7784\n",
      "Epoch 69/200\n",
      "9072/9072 [==============================] - 1s 56us/sample - loss: 0.5213 - accuracy: 0.7855 - val_loss: 0.5298 - val_accuracy: 0.7765\n",
      "Epoch 70/200\n",
      "9072/9072 [==============================] - 1s 57us/sample - loss: 0.5218 - accuracy: 0.7857 - val_loss: 0.5284 - val_accuracy: 0.7781\n",
      "Epoch 71/200\n",
      "9072/9072 [==============================] - 1s 57us/sample - loss: 0.5180 - accuracy: 0.7864 - val_loss: 0.5296 - val_accuracy: 0.7778\n",
      "Epoch 72/200\n",
      "9072/9072 [==============================] - 1s 56us/sample - loss: 0.5273 - accuracy: 0.7840 - val_loss: 0.5288 - val_accuracy: 0.7778\n",
      "Epoch 73/200\n",
      "9072/9072 [==============================] - 0s 54us/sample - loss: 0.5146 - accuracy: 0.7856 - val_loss: 0.5224 - val_accuracy: 0.7870\n",
      "Epoch 74/200\n",
      "9072/9072 [==============================] - 0s 55us/sample - loss: 0.5173 - accuracy: 0.7875 - val_loss: 0.5312 - val_accuracy: 0.7738\n",
      "Epoch 75/200\n",
      "9072/9072 [==============================] - 0s 54us/sample - loss: 0.5157 - accuracy: 0.7896 - val_loss: 0.5251 - val_accuracy: 0.7798\n",
      "Epoch 76/200\n",
      "9072/9072 [==============================] - 1s 58us/sample - loss: 0.5153 - accuracy: 0.7901 - val_loss: 0.5259 - val_accuracy: 0.7844\n",
      "Epoch 77/200\n",
      "9072/9072 [==============================] - 0s 55us/sample - loss: 0.5100 - accuracy: 0.7894 - val_loss: 0.5247 - val_accuracy: 0.7778\n",
      "Epoch 78/200\n",
      "9072/9072 [==============================] - 1s 56us/sample - loss: 0.5171 - accuracy: 0.7887 - val_loss: 0.5221 - val_accuracy: 0.7827\n",
      "Epoch 79/200\n",
      "9072/9072 [==============================] - 1s 56us/sample - loss: 0.5154 - accuracy: 0.7874 - val_loss: 0.5231 - val_accuracy: 0.7781\n",
      "Epoch 80/200\n",
      "9072/9072 [==============================] - 0s 55us/sample - loss: 0.5149 - accuracy: 0.7853 - val_loss: 0.5236 - val_accuracy: 0.7854\n",
      "Epoch 81/200\n",
      "9072/9072 [==============================] - 0s 55us/sample - loss: 0.5109 - accuracy: 0.7901 - val_loss: 0.5205 - val_accuracy: 0.7827\n",
      "Epoch 82/200\n",
      "9072/9072 [==============================] - 1s 56us/sample - loss: 0.5196 - accuracy: 0.7867 - val_loss: 0.5230 - val_accuracy: 0.7841\n",
      "Epoch 83/200\n",
      "9072/9072 [==============================] - 1s 56us/sample - loss: 0.5092 - accuracy: 0.7919 - val_loss: 0.5191 - val_accuracy: 0.7854\n",
      "Epoch 84/200\n",
      "9072/9072 [==============================] - 1s 56us/sample - loss: 0.5098 - accuracy: 0.7919 - val_loss: 0.5214 - val_accuracy: 0.7857\n",
      "Epoch 85/200\n",
      "9072/9072 [==============================] - 1s 63us/sample - loss: 0.5042 - accuracy: 0.7935 - val_loss: 0.5190 - val_accuracy: 0.7847\n",
      "Epoch 86/200\n",
      "9072/9072 [==============================] - 1s 57us/sample - loss: 0.5060 - accuracy: 0.7869 - val_loss: 0.5165 - val_accuracy: 0.7867\n",
      "Epoch 87/200\n",
      "9072/9072 [==============================] - 1s 55us/sample - loss: 0.5033 - accuracy: 0.7935 - val_loss: 0.5196 - val_accuracy: 0.7854\n",
      "Epoch 88/200\n",
      "9072/9072 [==============================] - 0s 54us/sample - loss: 0.4987 - accuracy: 0.7959 - val_loss: 0.5217 - val_accuracy: 0.7831\n",
      "Epoch 89/200\n",
      "9072/9072 [==============================] - 1s 57us/sample - loss: 0.5032 - accuracy: 0.7913 - val_loss: 0.5192 - val_accuracy: 0.7814\n",
      "Epoch 90/200\n",
      "9072/9072 [==============================] - 1s 56us/sample - loss: 0.5046 - accuracy: 0.7923 - val_loss: 0.5156 - val_accuracy: 0.7834\n",
      "Epoch 91/200\n",
      "9072/9072 [==============================] - 1s 58us/sample - loss: 0.5030 - accuracy: 0.7924 - val_loss: 0.5153 - val_accuracy: 0.7851\n",
      "Epoch 92/200\n",
      "9072/9072 [==============================] - 0s 55us/sample - loss: 0.5020 - accuracy: 0.7921 - val_loss: 0.5165 - val_accuracy: 0.7860\n",
      "Epoch 93/200\n",
      "9072/9072 [==============================] - 0s 55us/sample - loss: 0.5023 - accuracy: 0.7970 - val_loss: 0.5142 - val_accuracy: 0.7880\n",
      "Epoch 94/200\n",
      "9072/9072 [==============================] - 0s 54us/sample - loss: 0.4949 - accuracy: 0.7960 - val_loss: 0.5189 - val_accuracy: 0.7834\n",
      "Epoch 95/200\n",
      "9072/9072 [==============================] - 0s 54us/sample - loss: 0.4994 - accuracy: 0.7989 - val_loss: 0.5149 - val_accuracy: 0.7844\n",
      "Epoch 96/200\n",
      "9072/9072 [==============================] - 1s 55us/sample - loss: 0.5026 - accuracy: 0.7919 - val_loss: 0.5158 - val_accuracy: 0.7864\n",
      "Epoch 97/200\n",
      "9072/9072 [==============================] - 0s 54us/sample - loss: 0.4946 - accuracy: 0.7974 - val_loss: 0.5139 - val_accuracy: 0.7851\n",
      "Epoch 98/200\n",
      "9072/9072 [==============================] - 1s 56us/sample - loss: 0.4952 - accuracy: 0.7975 - val_loss: 0.5110 - val_accuracy: 0.7867\n",
      "Epoch 99/200\n",
      "9072/9072 [==============================] - 1s 56us/sample - loss: 0.4968 - accuracy: 0.8016 - val_loss: 0.5180 - val_accuracy: 0.7827\n",
      "Epoch 100/200\n",
      "9072/9072 [==============================] - 1s 57us/sample - loss: 0.4981 - accuracy: 0.7974 - val_loss: 0.5153 - val_accuracy: 0.7877\n",
      "Epoch 101/200\n",
      "9072/9072 [==============================] - 1s 55us/sample - loss: 0.4969 - accuracy: 0.7953 - val_loss: 0.5119 - val_accuracy: 0.7874\n",
      "Epoch 102/200\n",
      "9072/9072 [==============================] - 1s 57us/sample - loss: 0.4982 - accuracy: 0.7920 - val_loss: 0.5113 - val_accuracy: 0.7890\n",
      "Epoch 103/200\n",
      "9072/9072 [==============================] - 1s 56us/sample - loss: 0.4963 - accuracy: 0.7920 - val_loss: 0.5168 - val_accuracy: 0.7857\n",
      "Epoch 104/200\n",
      "9072/9072 [==============================] - 1s 57us/sample - loss: 0.4883 - accuracy: 0.7985 - val_loss: 0.5116 - val_accuracy: 0.7860\n",
      "Epoch 105/200\n",
      "9072/9072 [==============================] - 1s 56us/sample - loss: 0.4940 - accuracy: 0.7972 - val_loss: 0.5146 - val_accuracy: 0.7884\n",
      "Epoch 106/200\n",
      "9072/9072 [==============================] - 0s 55us/sample - loss: 0.4962 - accuracy: 0.8007 - val_loss: 0.5071 - val_accuracy: 0.7877\n",
      "Epoch 107/200\n",
      "9072/9072 [==============================] - 0s 54us/sample - loss: 0.4914 - accuracy: 0.7979 - val_loss: 0.5075 - val_accuracy: 0.7937\n",
      "Epoch 108/200\n",
      "9072/9072 [==============================] - 1s 57us/sample - loss: 0.4901 - accuracy: 0.7985 - val_loss: 0.5115 - val_accuracy: 0.7927\n",
      "Epoch 109/200\n",
      "9072/9072 [==============================] - 1s 57us/sample - loss: 0.4865 - accuracy: 0.7968 - val_loss: 0.5149 - val_accuracy: 0.7933\n",
      "Epoch 110/200\n"
     ]
    },
    {
     "name": "stdout",
     "output_type": "stream",
     "text": [
      "9072/9072 [==============================] - 0s 55us/sample - loss: 0.4920 - accuracy: 0.7979 - val_loss: 0.5082 - val_accuracy: 0.7927\n",
      "Epoch 111/200\n",
      "9072/9072 [==============================] - 0s 55us/sample - loss: 0.4860 - accuracy: 0.7948 - val_loss: 0.5125 - val_accuracy: 0.7897\n",
      "Epoch 112/200\n",
      "9072/9072 [==============================] - 1s 55us/sample - loss: 0.4893 - accuracy: 0.8009 - val_loss: 0.5108 - val_accuracy: 0.7877\n",
      "Epoch 113/200\n",
      "9072/9072 [==============================] - 0s 55us/sample - loss: 0.4902 - accuracy: 0.7966 - val_loss: 0.5130 - val_accuracy: 0.7877\n",
      "Epoch 114/200\n",
      "9072/9072 [==============================] - 0s 55us/sample - loss: 0.4798 - accuracy: 0.8045 - val_loss: 0.5126 - val_accuracy: 0.7870\n",
      "Epoch 115/200\n",
      "9072/9072 [==============================] - 1s 56us/sample - loss: 0.4823 - accuracy: 0.7989 - val_loss: 0.5092 - val_accuracy: 0.7940\n",
      "Epoch 116/200\n",
      "9072/9072 [==============================] - 0s 55us/sample - loss: 0.4881 - accuracy: 0.7971 - val_loss: 0.5095 - val_accuracy: 0.7920\n",
      "Epoch 117/200\n",
      "9072/9072 [==============================] - 1s 55us/sample - loss: 0.4879 - accuracy: 0.8018 - val_loss: 0.5087 - val_accuracy: 0.7950\n",
      "Epoch 118/200\n",
      "9072/9072 [==============================] - 1s 55us/sample - loss: 0.4861 - accuracy: 0.7996 - val_loss: 0.5059 - val_accuracy: 0.7884\n",
      "Epoch 119/200\n",
      "9072/9072 [==============================] - 1s 57us/sample - loss: 0.4856 - accuracy: 0.8025 - val_loss: 0.5107 - val_accuracy: 0.7900\n",
      "Epoch 120/200\n",
      "9072/9072 [==============================] - 1s 58us/sample - loss: 0.4818 - accuracy: 0.7989 - val_loss: 0.5084 - val_accuracy: 0.7900\n",
      "Epoch 121/200\n",
      "9072/9072 [==============================] - 0s 54us/sample - loss: 0.4841 - accuracy: 0.8038 - val_loss: 0.5045 - val_accuracy: 0.7927\n",
      "Epoch 122/200\n",
      "9072/9072 [==============================] - 0s 54us/sample - loss: 0.4833 - accuracy: 0.8041 - val_loss: 0.5055 - val_accuracy: 0.7937\n",
      "Epoch 123/200\n",
      "9072/9072 [==============================] - 0s 55us/sample - loss: 0.4803 - accuracy: 0.8021 - val_loss: 0.5058 - val_accuracy: 0.7946\n",
      "Epoch 124/200\n",
      "9072/9072 [==============================] - 1s 56us/sample - loss: 0.4841 - accuracy: 0.8025 - val_loss: 0.5040 - val_accuracy: 0.7913\n",
      "Epoch 125/200\n",
      "9072/9072 [==============================] - 0s 55us/sample - loss: 0.4812 - accuracy: 0.8074 - val_loss: 0.5039 - val_accuracy: 0.7917\n",
      "Epoch 126/200\n",
      "9072/9072 [==============================] - 1s 56us/sample - loss: 0.4765 - accuracy: 0.8034 - val_loss: 0.5080 - val_accuracy: 0.7907\n",
      "Epoch 127/200\n",
      "9072/9072 [==============================] - 1s 55us/sample - loss: 0.4819 - accuracy: 0.8036 - val_loss: 0.5034 - val_accuracy: 0.7923\n",
      "Epoch 128/200\n",
      "9072/9072 [==============================] - 1s 56us/sample - loss: 0.4723 - accuracy: 0.8079 - val_loss: 0.5050 - val_accuracy: 0.7907\n",
      "Epoch 129/200\n",
      "9072/9072 [==============================] - 1s 57us/sample - loss: 0.4741 - accuracy: 0.8052 - val_loss: 0.5046 - val_accuracy: 0.7910\n",
      "Epoch 130/200\n",
      "9072/9072 [==============================] - 1s 65us/sample - loss: 0.4780 - accuracy: 0.8107 - val_loss: 0.5025 - val_accuracy: 0.7913\n",
      "Epoch 131/200\n",
      "9072/9072 [==============================] - 1s 66us/sample - loss: 0.4841 - accuracy: 0.8036 - val_loss: 0.5034 - val_accuracy: 0.7930\n",
      "Epoch 132/200\n",
      "9072/9072 [==============================] - 1s 70us/sample - loss: 0.4822 - accuracy: 0.8010 - val_loss: 0.5048 - val_accuracy: 0.7920\n",
      "Epoch 133/200\n",
      "9072/9072 [==============================] - 1s 66us/sample - loss: 0.4748 - accuracy: 0.7999 - val_loss: 0.5042 - val_accuracy: 0.7937\n",
      "Epoch 134/200\n",
      "9072/9072 [==============================] - 1s 61us/sample - loss: 0.4738 - accuracy: 0.8046 - val_loss: 0.5024 - val_accuracy: 0.7963\n",
      "Epoch 135/200\n",
      "9072/9072 [==============================] - 1s 65us/sample - loss: 0.4755 - accuracy: 0.8063 - val_loss: 0.4993 - val_accuracy: 0.7966\n",
      "Epoch 136/200\n",
      "9072/9072 [==============================] - 1s 65us/sample - loss: 0.4761 - accuracy: 0.8028 - val_loss: 0.5004 - val_accuracy: 0.7993\n",
      "Epoch 137/200\n",
      "9072/9072 [==============================] - 1s 59us/sample - loss: 0.4758 - accuracy: 0.8013 - val_loss: 0.4996 - val_accuracy: 0.7946\n",
      "Epoch 138/200\n",
      "9072/9072 [==============================] - 1s 56us/sample - loss: 0.4730 - accuracy: 0.8070 - val_loss: 0.5027 - val_accuracy: 0.7953\n",
      "Epoch 139/200\n",
      "9072/9072 [==============================] - 1s 61us/sample - loss: 0.4694 - accuracy: 0.8090 - val_loss: 0.5004 - val_accuracy: 0.7946\n",
      "Epoch 140/200\n",
      "9072/9072 [==============================] - 1s 56us/sample - loss: 0.4684 - accuracy: 0.8108 - val_loss: 0.4987 - val_accuracy: 0.7940\n",
      "Epoch 141/200\n",
      "9072/9072 [==============================] - 0s 53us/sample - loss: 0.4713 - accuracy: 0.8063 - val_loss: 0.4977 - val_accuracy: 0.7963\n",
      "Epoch 142/200\n",
      "9072/9072 [==============================] - 1s 59us/sample - loss: 0.4728 - accuracy: 0.8062 - val_loss: 0.4999 - val_accuracy: 0.7960\n",
      "Epoch 143/200\n",
      "9072/9072 [==============================] - 1s 63us/sample - loss: 0.4719 - accuracy: 0.8089 - val_loss: 0.4995 - val_accuracy: 0.7970\n",
      "Epoch 144/200\n",
      "9072/9072 [==============================] - 1s 55us/sample - loss: 0.4724 - accuracy: 0.8096 - val_loss: 0.4962 - val_accuracy: 0.7943\n",
      "Epoch 145/200\n",
      "9072/9072 [==============================] - 1s 56us/sample - loss: 0.4708 - accuracy: 0.8050 - val_loss: 0.5001 - val_accuracy: 0.7943\n",
      "Epoch 146/200\n",
      "9072/9072 [==============================] - 0s 54us/sample - loss: 0.4696 - accuracy: 0.8083 - val_loss: 0.4977 - val_accuracy: 0.7956\n",
      "Epoch 147/200\n",
      "9072/9072 [==============================] - 1s 56us/sample - loss: 0.4743 - accuracy: 0.8056 - val_loss: 0.4970 - val_accuracy: 0.7963\n",
      "Epoch 148/200\n",
      "9072/9072 [==============================] - 1s 61us/sample - loss: 0.4599 - accuracy: 0.8101 - val_loss: 0.4987 - val_accuracy: 0.7973\n",
      "Epoch 149/200\n",
      "9072/9072 [==============================] - 1s 58us/sample - loss: 0.4691 - accuracy: 0.8078 - val_loss: 0.4972 - val_accuracy: 0.7953\n",
      "Epoch 150/200\n",
      "9072/9072 [==============================] - 1s 58us/sample - loss: 0.4681 - accuracy: 0.8117 - val_loss: 0.4995 - val_accuracy: 0.7986\n",
      "Epoch 151/200\n",
      "9072/9072 [==============================] - 0s 54us/sample - loss: 0.4751 - accuracy: 0.8039 - val_loss: 0.4958 - val_accuracy: 0.7999\n",
      "Epoch 152/200\n",
      "9072/9072 [==============================] - 1s 56us/sample - loss: 0.4692 - accuracy: 0.8075 - val_loss: 0.4981 - val_accuracy: 0.7970\n",
      "Epoch 153/200\n",
      "9072/9072 [==============================] - 1s 56us/sample - loss: 0.4648 - accuracy: 0.8146 - val_loss: 0.4955 - val_accuracy: 0.7946\n",
      "Epoch 154/200\n",
      "9072/9072 [==============================] - 1s 56us/sample - loss: 0.4619 - accuracy: 0.8107 - val_loss: 0.4950 - val_accuracy: 0.7989\n",
      "Epoch 155/200\n",
      "9072/9072 [==============================] - 0s 54us/sample - loss: 0.4700 - accuracy: 0.8059 - val_loss: 0.4982 - val_accuracy: 0.7963\n",
      "Epoch 156/200\n",
      "9072/9072 [==============================] - 0s 55us/sample - loss: 0.4629 - accuracy: 0.8136 - val_loss: 0.4963 - val_accuracy: 0.7973\n",
      "Epoch 157/200\n",
      "9072/9072 [==============================] - 1s 60us/sample - loss: 0.4637 - accuracy: 0.8108 - val_loss: 0.4978 - val_accuracy: 0.7993\n",
      "Epoch 158/200\n",
      "9072/9072 [==============================] - 1s 61us/sample - loss: 0.4639 - accuracy: 0.8069 - val_loss: 0.4944 - val_accuracy: 0.7966\n",
      "Epoch 159/200\n",
      "9072/9072 [==============================] - 1s 58us/sample - loss: 0.4670 - accuracy: 0.8108 - val_loss: 0.4963 - val_accuracy: 0.7956\n",
      "Epoch 160/200\n",
      "9072/9072 [==============================] - 1s 57us/sample - loss: 0.4626 - accuracy: 0.8118 - val_loss: 0.4910 - val_accuracy: 0.7979\n",
      "Epoch 161/200\n",
      "9072/9072 [==============================] - 1s 62us/sample - loss: 0.4641 - accuracy: 0.8122 - val_loss: 0.4935 - val_accuracy: 0.7956\n",
      "Epoch 162/200\n",
      "9072/9072 [==============================] - 1s 59us/sample - loss: 0.4659 - accuracy: 0.8111 - val_loss: 0.4943 - val_accuracy: 0.7943\n",
      "Epoch 163/200\n",
      "9072/9072 [==============================] - 1s 57us/sample - loss: 0.4639 - accuracy: 0.8099 - val_loss: 0.4967 - val_accuracy: 0.7973\n",
      "Epoch 164/200\n",
      "9072/9072 [==============================] - 1s 55us/sample - loss: 0.4656 - accuracy: 0.8085 - val_loss: 0.4946 - val_accuracy: 0.7986\n"
     ]
    },
    {
     "name": "stdout",
     "output_type": "stream",
     "text": [
      "Epoch 165/200\n",
      "9072/9072 [==============================] - 1s 64us/sample - loss: 0.4696 - accuracy: 0.8078 - val_loss: 0.4944 - val_accuracy: 0.7976\n",
      "Epoch 166/200\n",
      "9072/9072 [==============================] - 1s 62us/sample - loss: 0.4580 - accuracy: 0.8113 - val_loss: 0.4933 - val_accuracy: 0.7976\n",
      "Epoch 167/200\n",
      "9072/9072 [==============================] - 0s 54us/sample - loss: 0.4634 - accuracy: 0.8091 - val_loss: 0.4928 - val_accuracy: 0.7986\n",
      "Epoch 168/200\n",
      "9072/9072 [==============================] - 0s 54us/sample - loss: 0.4598 - accuracy: 0.8144 - val_loss: 0.4908 - val_accuracy: 0.8006\n",
      "Epoch 169/200\n",
      "9072/9072 [==============================] - 1s 57us/sample - loss: 0.4716 - accuracy: 0.8090 - val_loss: 0.4921 - val_accuracy: 0.7993\n",
      "Epoch 170/200\n",
      "9072/9072 [==============================] - 0s 55us/sample - loss: 0.4647 - accuracy: 0.8121 - val_loss: 0.4947 - val_accuracy: 0.7966\n",
      "Epoch 171/200\n",
      "9072/9072 [==============================] - 1s 59us/sample - loss: 0.4605 - accuracy: 0.8084 - val_loss: 0.4962 - val_accuracy: 0.7927\n",
      "Epoch 172/200\n",
      "9072/9072 [==============================] - 0s 55us/sample - loss: 0.4633 - accuracy: 0.8115 - val_loss: 0.4937 - val_accuracy: 0.8039\n",
      "Epoch 173/200\n",
      "9072/9072 [==============================] - 0s 54us/sample - loss: 0.4603 - accuracy: 0.8113 - val_loss: 0.4938 - val_accuracy: 0.7993\n",
      "Epoch 174/200\n",
      "9072/9072 [==============================] - 0s 53us/sample - loss: 0.4617 - accuracy: 0.8132 - val_loss: 0.4892 - val_accuracy: 0.8026\n",
      "Epoch 175/200\n",
      "9072/9072 [==============================] - 0s 54us/sample - loss: 0.4575 - accuracy: 0.8111 - val_loss: 0.4931 - val_accuracy: 0.7970\n",
      "Epoch 176/200\n",
      "9072/9072 [==============================] - 0s 54us/sample - loss: 0.4654 - accuracy: 0.8125 - val_loss: 0.4943 - val_accuracy: 0.7960\n",
      "Epoch 177/200\n",
      "9072/9072 [==============================] - 0s 53us/sample - loss: 0.4652 - accuracy: 0.8101 - val_loss: 0.4889 - val_accuracy: 0.7993\n",
      "Epoch 178/200\n",
      "9072/9072 [==============================] - 1s 67us/sample - loss: 0.4616 - accuracy: 0.8099 - val_loss: 0.4918 - val_accuracy: 0.8032\n",
      "Epoch 179/200\n",
      "9072/9072 [==============================] - 1s 65us/sample - loss: 0.4642 - accuracy: 0.8108 - val_loss: 0.4890 - val_accuracy: 0.8013\n",
      "Epoch 180/200\n",
      "9072/9072 [==============================] - 0s 54us/sample - loss: 0.4637 - accuracy: 0.8100 - val_loss: 0.4875 - val_accuracy: 0.8029\n",
      "Epoch 181/200\n",
      "9072/9072 [==============================] - 1s 58us/sample - loss: 0.4663 - accuracy: 0.8104 - val_loss: 0.4899 - val_accuracy: 0.7999\n",
      "Epoch 182/200\n",
      "9072/9072 [==============================] - 1s 57us/sample - loss: 0.4621 - accuracy: 0.8126 - val_loss: 0.4940 - val_accuracy: 0.8013\n",
      "Epoch 183/200\n",
      "9072/9072 [==============================] - 1s 56us/sample - loss: 0.4610 - accuracy: 0.8092 - val_loss: 0.4898 - val_accuracy: 0.7989\n",
      "Epoch 184/200\n",
      "9072/9072 [==============================] - 1s 58us/sample - loss: 0.4602 - accuracy: 0.8149 - val_loss: 0.4903 - val_accuracy: 0.8029\n",
      "Epoch 185/200\n",
      "9072/9072 [==============================] - 1s 55us/sample - loss: 0.4584 - accuracy: 0.8095 - val_loss: 0.4874 - val_accuracy: 0.8029\n",
      "Epoch 186/200\n",
      "9072/9072 [==============================] - 0s 54us/sample - loss: 0.4598 - accuracy: 0.8134 - val_loss: 0.4923 - val_accuracy: 0.8003\n",
      "Epoch 187/200\n",
      "9072/9072 [==============================] - 0s 55us/sample - loss: 0.4614 - accuracy: 0.8113 - val_loss: 0.4871 - val_accuracy: 0.8003\n",
      "Epoch 188/200\n",
      "9072/9072 [==============================] - 0s 53us/sample - loss: 0.4526 - accuracy: 0.8110 - val_loss: 0.4891 - val_accuracy: 0.8026\n",
      "Epoch 189/200\n",
      "9072/9072 [==============================] - 0s 53us/sample - loss: 0.4576 - accuracy: 0.8131 - val_loss: 0.4895 - val_accuracy: 0.8003\n",
      "Epoch 190/200\n",
      "9072/9072 [==============================] - 0s 55us/sample - loss: 0.4603 - accuracy: 0.8158 - val_loss: 0.4853 - val_accuracy: 0.8029\n",
      "Epoch 191/200\n",
      "9072/9072 [==============================] - 0s 52us/sample - loss: 0.4592 - accuracy: 0.8136 - val_loss: 0.4860 - val_accuracy: 0.8052\n",
      "Epoch 192/200\n",
      "9072/9072 [==============================] - 0s 54us/sample - loss: 0.4580 - accuracy: 0.8118 - val_loss: 0.4925 - val_accuracy: 0.7993\n",
      "Epoch 193/200\n",
      "9072/9072 [==============================] - 0s 54us/sample - loss: 0.4561 - accuracy: 0.8143 - val_loss: 0.4885 - val_accuracy: 0.8003\n",
      "Epoch 194/200\n",
      "9072/9072 [==============================] - 0s 53us/sample - loss: 0.4551 - accuracy: 0.8113 - val_loss: 0.4895 - val_accuracy: 0.7986\n",
      "Epoch 195/200\n",
      "9072/9072 [==============================] - 0s 53us/sample - loss: 0.4635 - accuracy: 0.8166 - val_loss: 0.4900 - val_accuracy: 0.7989\n",
      "Epoch 196/200\n",
      "9072/9072 [==============================] - 1s 57us/sample - loss: 0.4540 - accuracy: 0.8162 - val_loss: 0.4927 - val_accuracy: 0.7993\n",
      "Epoch 197/200\n",
      "9072/9072 [==============================] - 0s 53us/sample - loss: 0.4586 - accuracy: 0.8105 - val_loss: 0.4886 - val_accuracy: 0.8042\n",
      "Epoch 198/200\n",
      "9072/9072 [==============================] - 0s 53us/sample - loss: 0.4557 - accuracy: 0.8145 - val_loss: 0.4891 - val_accuracy: 0.8079\n",
      "Epoch 199/200\n",
      "9072/9072 [==============================] - 1s 56us/sample - loss: 0.4604 - accuracy: 0.8122 - val_loss: 0.4862 - val_accuracy: 0.7999\n",
      "Epoch 200/200\n",
      "9072/9072 [==============================] - 0s 54us/sample - loss: 0.4576 - accuracy: 0.8131 - val_loss: 0.4881 - val_accuracy: 0.8009\n"
     ]
    }
   ],
   "source": [
    "history=model.fit(X_train, y_train,validation_data=(X_val,y_val),batch_size=50, epochs=epoch, verbose=1)"
   ]
  },
  {
   "cell_type": "code",
   "execution_count": 12,
   "metadata": {
    "ExecuteTime": {
     "end_time": "2020-04-14T15:36:18.154606Z",
     "start_time": "2020-04-14T15:36:16.170919Z"
    }
   },
   "outputs": [
    {
     "data": {
      "image/png": "[encoded data removed]",
      "text/plain": [
       "<Figure size 432x288 with 1 Axes>"
      ]
     },
     "metadata": {
      "needs_background": "light"
     },
     "output_type": "display_data"
    },
    {
     "data": {
      "image/png": "[encoded data removed]",
      "text/plain": [
       "<Figure size 432x288 with 1 Axes>"
      ]
     },
     "metadata": {
      "needs_background": "light"
     },
     "output_type": "display_data"
    }
   ],
   "source": [
    "epoch_range=range(1,epoch+1)\n",
    "plt.plot(epoch_range,history.history['accuracy'])\n",
    "plt.plot(epoch_range,history.history['val_accuracy'])\n",
    "plt.title('Model accuracy')\n",
    "plt.ylabel('Accuracy')\n",
    "plt.xlabel('Epoch')\n",
    "plt.xticks([x for x in range(epoch+1)])\n",
    "plt.legend(['Train','Val'],loc='upper left')\n",
    "plt.show()\n",
    "\n",
    "plt.plot(history.history['loss'])\n",
    "plt.plot(history.history['val_loss'])\n",
    "plt.title('Model loss')\n",
    "plt.ylabel('Loss')\n",
    "plt.xlabel('Epoch')\n",
    "plt.xticks([x for x in range(epoch+1)])\n",
    "plt.legend(['Train','Val'],loc='upper left')\n",
    "plt.show()"
   ]
  },
  {
   "cell_type": "code",
   "execution_count": null,
   "metadata": {},
   "outputs": [],
   "source": []
  }
 ],
 "metadata": {
  "kernelspec": {
   "display_name": "Python 3",
   "language": "python",
   "name": "python3"
  },
  "language_info": {
   "codemirror_mode": {
    "name": "ipython",
    "version": 3
   },
   "file_extension": ".py",
   "mimetype": "text/x-python",
   "name": "python",
   "nbconvert_exporter": "python",
   "pygments_lexer": "ipython3",
   "version": "3.6.5"
  },
  "toc": {
   "base_numbering": 1,
   "nav_menu": {},
   "number_sections": true,
   "sideBar": true,
   "skip_h1_title": false,
   "title_cell": "Table of Contents",
   "title_sidebar": "Contents",
   "toc_cell": false,
   "toc_position": {},
   "toc_section_display": true,
   "toc_window_display": false
  }
 },
 "nbformat": 4,
 "nbformat_minor": 4
}
