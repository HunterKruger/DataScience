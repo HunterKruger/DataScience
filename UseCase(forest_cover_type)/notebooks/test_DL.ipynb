{
 "cells": [
  {
   "cell_type": "code",
   "execution_count": 1,
   "metadata": {
    "ExecuteTime": {
     "end_time": "2020-04-16T19:58:58.614370Z",
     "start_time": "2020-04-16T19:58:54.075469Z"
    }
   },
   "outputs": [],
   "source": [
    "import pandas as pd \n",
    "import numpy as np\n",
    "from sklearn.model_selection import train_test_split\n",
    "import matplotlib.pyplot as plt\n",
    "%matplotlib inline\n",
    "from sklearn.metrics import classification_report\n",
    "from sklearn.metrics import confusion_matrix\n",
    "from sklearn.metrics import accuracy_score\n",
    "import tensorflow as tf\n",
    "from tensorflow import keras\n",
    "from tensorflow.keras.utils import to_categorical"
   ]
  },
  {
   "cell_type": "code",
   "execution_count": 2,
   "metadata": {
    "ExecuteTime": {
     "end_time": "2020-04-16T19:58:58.649277Z",
     "start_time": "2020-04-16T19:58:58.615331Z"
    }
   },
   "outputs": [
    {
     "data": {
      "text/plain": [
       "((3024, 50), (3024, 1))"
      ]
     },
     "execution_count": 2,
     "metadata": {},
     "output_type": "execute_result"
    }
   ],
   "source": [
    "X_test_origin=pd.read_csv('../data/featured_data/X_test.csv')\n",
    "y_test_origin=pd.read_csv('../data/featured_data/y_test.csv')\n",
    "X_test_origin.shape,y_test_origin.shape"
   ]
  },
  {
   "cell_type": "code",
   "execution_count": 3,
   "metadata": {
    "ExecuteTime": {
     "end_time": "2020-04-16T19:58:58.657220Z",
     "start_time": "2020-04-16T19:58:58.650238Z"
    }
   },
   "outputs": [
    {
     "data": {
      "text/plain": [
       "((3024, 50), (3024,))"
      ]
     },
     "execution_count": 3,
     "metadata": {},
     "output_type": "execute_result"
    }
   ],
   "source": [
    "X_test = X_test_origin.to_numpy()\n",
    "y_test = y_test_origin.to_numpy()\n",
    "y_test = y_test.ravel()\n",
    "X_test.shape,y_test.shape"
   ]
  },
  {
   "cell_type": "code",
   "execution_count": 4,
   "metadata": {
    "ExecuteTime": {
     "end_time": "2020-04-16T19:58:58.666236Z",
     "start_time": "2020-04-16T19:58:58.658219Z"
    }
   },
   "outputs": [
    {
     "data": {
      "text/plain": [
       "array([[0., 0., 0., ..., 0., 1., 0.],\n",
       "       [1., 0., 0., ..., 0., 0., 0.],\n",
       "       [0., 0., 0., ..., 0., 0., 1.],\n",
       "       ...,\n",
       "       [1., 0., 0., ..., 0., 0., 0.],\n",
       "       [0., 0., 0., ..., 0., 0., 1.],\n",
       "       [0., 0., 0., ..., 0., 0., 1.]], dtype=float32)"
      ]
     },
     "execution_count": 4,
     "metadata": {},
     "output_type": "execute_result"
    }
   ],
   "source": [
    "y_encoded = to_categorical(y_test)\n",
    "y_encoded = y_encoded[:,1:]\n",
    "y_encoded"
   ]
  },
  {
   "cell_type": "code",
   "execution_count": 5,
   "metadata": {
    "ExecuteTime": {
     "end_time": "2020-04-16T19:59:01.442109Z",
     "start_time": "2020-04-16T19:58:58.668195Z"
    }
   },
   "outputs": [],
   "source": [
    "model = keras.models.load_model(\"../models/NN.h5\")"
   ]
  },
  {
   "cell_type": "code",
   "execution_count": 6,
   "metadata": {
    "ExecuteTime": {
     "end_time": "2020-04-16T19:59:02.127943Z",
     "start_time": "2020-04-16T19:59:01.442772Z"
    }
   },
   "outputs": [],
   "source": [
    "y_pred = model.predict_classes(X_test)"
   ]
  },
  {
   "cell_type": "code",
   "execution_count": 7,
   "metadata": {
    "ExecuteTime": {
     "end_time": "2020-04-16T19:59:02.132928Z",
     "start_time": "2020-04-16T19:59:02.128937Z"
    }
   },
   "outputs": [],
   "source": [
    "y_pred=y_pred+1"
   ]
  },
  {
   "cell_type": "code",
   "execution_count": 8,
   "metadata": {
    "ExecuteTime": {
     "end_time": "2020-04-16T19:59:02.139909Z",
     "start_time": "2020-04-16T19:59:02.133938Z"
    }
   },
   "outputs": [],
   "source": [
    "def result_overview(y_test,y_pred):\n",
    "    print(\"Confusion_Matrix:\")\n",
    "    print(str(confusion_matrix(y_test, y_pred)))\n",
    "    print(classification_report(y_test, y_pred))\n",
    "    print(\"Accuracy:\" + str(accuracy_score(y_test, y_pred)))"
   ]
  },
  {
   "cell_type": "code",
   "execution_count": 9,
   "metadata": {
    "ExecuteTime": {
     "end_time": "2020-04-16T19:59:02.161849Z",
     "start_time": "2020-04-16T19:59:02.140906Z"
    }
   },
   "outputs": [
    {
     "name": "stdout",
     "output_type": "stream",
     "text": [
      "Confusion_Matrix:\n",
      "[[299  74   0   0   7   5  49]\n",
      " [119 259  11   0  55  14   0]\n",
      " [  0   2 296  25   3 111   0]\n",
      " [  0   0  12 428   0   7   0]\n",
      " [  5  33   6   0 363  11   0]\n",
      " [  0   2  43   9   3 354   0]\n",
      " [ 33   0   0   0   0   0 386]]\n",
      "              precision    recall  f1-score   support\n",
      "\n",
      "           1       0.66      0.69      0.67       434\n",
      "           2       0.70      0.57      0.63       458\n",
      "           3       0.80      0.68      0.74       437\n",
      "           4       0.93      0.96      0.94       447\n",
      "           5       0.84      0.87      0.86       418\n",
      "           6       0.71      0.86      0.78       411\n",
      "           7       0.89      0.92      0.90       419\n",
      "\n",
      "    accuracy                           0.79      3024\n",
      "   macro avg       0.79      0.79      0.79      3024\n",
      "weighted avg       0.79      0.79      0.79      3024\n",
      "\n",
      "Accuracy:0.7886904761904762\n"
     ]
    }
   ],
   "source": [
    "result_overview(y_test_origin,y_pred) "
   ]
  },
  {
   "cell_type": "code",
   "execution_count": null,
   "metadata": {},
   "outputs": [],
   "source": []
  }
 ],
 "metadata": {
  "kernelspec": {
   "display_name": "Python 3",
   "language": "python",
   "name": "python3"
  },
  "language_info": {
   "codemirror_mode": {
    "name": "ipython",
    "version": 3
   },
   "file_extension": ".py",
   "mimetype": "text/x-python",
   "name": "python",
   "nbconvert_exporter": "python",
   "pygments_lexer": "ipython3",
   "version": "3.6.5"
  },
  "toc": {
   "base_numbering": 1,
   "nav_menu": {},
   "number_sections": true,
   "sideBar": true,
   "skip_h1_title": false,
   "title_cell": "Table of Contents",
   "title_sidebar": "Contents",
   "toc_cell": false,
   "toc_position": {},
   "toc_section_display": true,
   "toc_window_display": false
  }
 },
 "nbformat": 4,
 "nbformat_minor": 4
}
