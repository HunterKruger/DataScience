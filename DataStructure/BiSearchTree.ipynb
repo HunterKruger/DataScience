{
 "cells": [
  {
   "cell_type": "code",
   "execution_count": 7,
   "metadata": {},
   "outputs": [],
   "source": [
    "class BSTNode:\n",
    "    def __init__(self, data):\n",
    "        self.data = data\n",
    "        self.left = None\n",
    "        self.right = None\n",
    "        self.parent = None"
   ]
  },
  {
   "cell_type": "code",
   "execution_count": 8,
   "metadata": {},
   "outputs": [],
   "source": [
    "class BST: #二叉搜索树\n",
    "    \n",
    "    def __init__(self, li=None):\n",
    "        self.root = None\n",
    "        if li:\n",
    "            for val in li:\n",
    "                self.insert_no_rec(val)\n",
    "                \n",
    "    def preorder_trav(self, subtree):   # 先根遍历\n",
    "        if subtree is not None:\n",
    "            print(subtree.data, end=',')    # 递归函数里先处理根\n",
    "            self.preorder_trav(subtree.left)   # 递归处理左子树\n",
    "            self.preorder_trav(subtree.right)    # 递归处理右子树\n",
    "            \n",
    "    def midorder_trav(self, subtree):  # 中根遍历\n",
    "        if subtree is not None:\n",
    "            self.midorder_trav(subtree.left)\n",
    "            print(subtree.data, end=',')\n",
    "            self.midorder_trav(subtree.right)\n",
    "    \n",
    "    def lastorder_trav(self, subtree):  # 后根遍历\n",
    "        if subtree is not None:\n",
    "            self.lastorder_trav(subtree.left)\n",
    "            self.lastorder_trav(subtree.right)\n",
    "            print(subtree.data, end=',')\n",
    "        \n",
    "    def insert(self, subtree, val):  #递归实现\n",
    "        if subtree is None:\n",
    "            subtree = BSTNode(val)\n",
    "        elif val < subtree.data:\n",
    "            subtree.left = self.insert(subtree.left,val)\n",
    "            subtree.left.parent = subtree\n",
    "        elif val > subtree.data:\n",
    "            subtree.right = self.insert(subtree.right,val)\n",
    "            subtree.right.parent = subtree\n",
    "        return subtree\n",
    "    \n",
    "    def insert_no_rec(self, val):\n",
    "        p = self.root\n",
    "        if p is None:\n",
    "            self.root = BSTNode(val)\n",
    "            return\n",
    "        while True:\n",
    "            if val<p.data:\n",
    "                if p.left:\n",
    "                    p = p.left\n",
    "                else:\n",
    "                    p.left = BSTNode(val)\n",
    "                    p.left.parent = p\n",
    "                    return\n",
    "            elif val>p.data:\n",
    "                if p.right:\n",
    "                    p = p.right\n",
    "                else:\n",
    "                    p.right = BSTNode(val)\n",
    "                    p.right.parent = p\n",
    "                    return\n",
    "            else:\n",
    "                return\n",
    "                \n",
    "\n",
    "    def find(self, subtree, val): #递归实现\n",
    "        if not subtree:\n",
    "            return None\n",
    "        if val > subtree.data:\n",
    "            return self.find(subtree.right, val)\n",
    "        elif val < subtree.data:\n",
    "            return self.find(subtree.left, val)\n",
    "        else:\n",
    "            return subtree\n",
    "        \n",
    "    def find_no_rec(self,val):\n",
    "        p = self.root\n",
    "        while True:\n",
    "            if p is None:\n",
    "                return None   \n",
    "            elif p.data<val:\n",
    "                p = p.right\n",
    "            elif p.data>val:\n",
    "                p=p.left\n",
    "            else:\n",
    "                return p\n",
    "            \n",
    "    def delete(self,val):\n",
    "        if self.root is not None:\n",
    "            node = self.find_no_rec(val)\n",
    "            if node is None:\n",
    "                return False\n",
    "            if not node.left and not node.right:\n",
    "                self.__delete_case_1(node)\n",
    "            elif not node.right:\n",
    "                self.__delete_case_2_1(node)\n",
    "            elif not node.left:\n",
    "                self.__delete_case_2_2(node)\n",
    "            else: #两个孩子都有\n",
    "                min_node = node.right\n",
    "                while min_node.left:\n",
    "                    min_node = min_node.left\n",
    "                node.data = min_node.data\n",
    "                if min_node.right:\n",
    "                    self.__delete_case_2_2(min_node)\n",
    "                else:\n",
    "                    self.__delete_case_1(min_node)        \n",
    "        \n",
    "    def __delete_case_1(self,node):\n",
    "        # 情况1:删除的是叶子节点\n",
    "        if not node.parent: #如果节点父亲为空\n",
    "            self.root = None\n",
    "        if node == node.parent.left:\n",
    "            node.parent.left = None\n",
    "        else: # node == node.parent.right\n",
    "            node.parent.right = None\n",
    "    \n",
    "    def __delete_case_2_1(self,node):\n",
    "        # 情况2.1: node只有一个左孩子\n",
    "        if not node.parent: # is root\n",
    "            self.root = node.left\n",
    "            node.left.parent = None\n",
    "        elif node == node.parent.left:\n",
    "            node.parent.left = node.left\n",
    "            node.left.parent = node.parent\n",
    "        else: # node == node.parent.right\n",
    "            node.parent.right = node.left\n",
    "            node.left.parent = node.parent\n",
    "    \n",
    "    def __delete_case_2_2(self, node):\n",
    "        # 情况2.2: node只有一个右孩子\n",
    "        if not node.parent:\n",
    "            self.root = node.right\n",
    "        elif node == node.parent.left:\n",
    "            node.parent.left = node.right\n",
    "            node.right.parent = node.parent\n",
    "        else:\n",
    "            node.parent.right = node.right\n",
    "            node.right.parent = node.parent\n",
    "    \n",
    "    \n",
    "             \n",
    "             \n",
    "            \n",
    "            "
   ]
  },
  {
   "cell_type": "code",
   "execution_count": 9,
   "metadata": {},
   "outputs": [],
   "source": [
    "tree = BST([4,6,7,9,2,1,3,5,8])"
   ]
  },
  {
   "cell_type": "code",
   "execution_count": 10,
   "metadata": {},
   "outputs": [
    {
     "name": "stdout",
     "output_type": "stream",
     "text": [
      "1,2,3,4,5,6,7,8,9,"
     ]
    }
   ],
   "source": [
    "tree.midorder_trav(tree.root)"
   ]
  },
  {
   "cell_type": "code",
   "execution_count": 51,
   "metadata": {},
   "outputs": [
    {
     "name": "stdout",
     "output_type": "stream",
     "text": [
      "<__main__.BSTNode object at 0x7fe48a2107f0>\n"
     ]
    }
   ],
   "source": [
    "print(tree.find(tree.root,7))"
   ]
  },
  {
   "cell_type": "code",
   "execution_count": 48,
   "metadata": {},
   "outputs": [
    {
     "name": "stdout",
     "output_type": "stream",
     "text": [
      "<__main__.BSTNode object at 0x7fe48a210128>\n"
     ]
    }
   ],
   "source": [
    "print(tree.find_no_rec(9))"
   ]
  },
  {
   "cell_type": "code",
   "execution_count": 49,
   "metadata": {},
   "outputs": [
    {
     "name": "stdout",
     "output_type": "stream",
     "text": [
      "None\n"
     ]
    }
   ],
   "source": [
    "print(tree.find_no_rec(14))"
   ]
  },
  {
   "cell_type": "code",
   "execution_count": 16,
   "metadata": {},
   "outputs": [
    {
     "name": "stdout",
     "output_type": "stream",
     "text": [
      "3,6,7,9,"
     ]
    }
   ],
   "source": [
    "tree.delete(2)\n",
    "tree.midorder_trav(tree.root)"
   ]
  },
  {
   "cell_type": "code",
   "execution_count": null,
   "metadata": {},
   "outputs": [],
   "source": []
  }
 ],
 "metadata": {
  "kernelspec": {
   "display_name": "Python 3",
   "language": "python",
   "name": "python3"
  },
  "language_info": {
   "codemirror_mode": {
    "name": "ipython",
    "version": 3
   },
   "file_extension": ".py",
   "mimetype": "text/x-python",
   "name": "python",
   "nbconvert_exporter": "python",
   "pygments_lexer": "ipython3",
   "version": "3.6.9"
  }
 },
 "nbformat": 4,
 "nbformat_minor": 4
}
