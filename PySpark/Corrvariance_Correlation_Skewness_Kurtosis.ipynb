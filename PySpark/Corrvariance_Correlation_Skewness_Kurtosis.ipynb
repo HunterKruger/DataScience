{
 "cells": [
  {
   "cell_type": "code",
   "execution_count": 1,
   "metadata": {
    "ExecuteTime": {
     "end_time": "2020-08-16T08:21:43.496771Z",
     "start_time": "2020-08-16T08:21:43.115026Z"
    }
   },
   "outputs": [],
   "source": [
    "try:\n",
    "    from pyspark import SparkContext, SparkConf\n",
    "    from pyspark.sql import SparkSession\n",
    "except ImportError as e:\n",
    "    printmd('<<<<<!!!!! Please restart your kernel after installing Apache Spark !!!!!>>>>>')"
   ]
  },
  {
   "cell_type": "code",
   "execution_count": 2,
   "metadata": {
    "ExecuteTime": {
     "end_time": "2020-08-16T08:21:55.700772Z",
     "start_time": "2020-08-16T08:21:48.581618Z"
    }
   },
   "outputs": [],
   "source": [
    "sc = SparkContext.getOrCreate(SparkConf().setMaster(\"local[*]\"))\n",
    "\n",
    "spark = SparkSession \\\n",
    "    .builder \\\n",
    "    .getOrCreate()"
   ]
  },
  {
   "cell_type": "code",
   "execution_count": 68,
   "metadata": {
    "ExecuteTime": {
     "end_time": "2020-08-16T09:18:15.776295Z",
     "start_time": "2020-08-16T09:18:15.610320Z"
    }
   },
   "outputs": [
    {
     "name": "stdout",
     "output_type": "stream",
     "text": [
      "100.0\n"
     ]
    }
   ],
   "source": [
    "import random\n",
    "rddX = sc.parallelize(random.sample(list(range(100)),100))\n",
    "rddY = sc.parallelize(random.sample(list(range(100)),100))\n",
    "n = float(rddX.count())\n",
    "#[print(i) for i in rddX.collect()]\n",
    "print(n)"
   ]
  },
  {
   "cell_type": "code",
   "execution_count": 69,
   "metadata": {
    "ExecuteTime": {
     "end_time": "2020-08-16T09:18:17.509700Z",
     "start_time": "2020-08-16T09:18:17.280216Z"
    }
   },
   "outputs": [
    {
     "name": "stdout",
     "output_type": "stream",
     "text": [
      "49.5\n",
      "49.5\n"
     ]
    }
   ],
   "source": [
    "# mean\n",
    "meanX = rddX.sum()/rddX.count()\n",
    "meanY = rddX.sum()/rddY.count()\n",
    "print(meanX)\n",
    "print(meanY)"
   ]
  },
  {
   "cell_type": "code",
   "execution_count": 70,
   "metadata": {
    "ExecuteTime": {
     "end_time": "2020-08-16T09:18:17.885437Z",
     "start_time": "2020-08-16T09:18:17.755618Z"
    }
   },
   "outputs": [
    {
     "name": "stdout",
     "output_type": "stream",
     "text": [
      "28.86607004772212\n",
      "28.86607004772212\n"
     ]
    }
   ],
   "source": [
    "# std \n",
    "stdX = (rddX.map(lambda x: (x-meanX)*(x-meanX)).sum()/n)**0.5\n",
    "stdY = (rddX.map(lambda x: (x-meanY)*(x-meanY)).sum()/n)**0.5\n",
    "print(stdX)\n",
    "print(stdY)"
   ]
  },
  {
   "cell_type": "code",
   "execution_count": 59,
   "metadata": {
    "ExecuteTime": {
     "end_time": "2020-08-16T08:47:38.315154Z",
     "start_time": "2020-08-16T08:47:38.256398Z"
    }
   },
   "outputs": [
    {
     "data": {
      "text/plain": [
       "[(10, 63), (24, 82), (74, 16), (16, 64), (19, 27)]"
      ]
     },
     "execution_count": 59,
     "metadata": {},
     "output_type": "execute_result"
    }
   ],
   "source": [
    "rddXY = rddX.zip(rddY)\n",
    "rddXY.take(5)"
   ]
  },
  {
   "cell_type": "code",
   "execution_count": 71,
   "metadata": {
    "ExecuteTime": {
     "end_time": "2020-08-16T09:18:35.422291Z",
     "start_time": "2020-08-16T09:18:35.294765Z"
    }
   },
   "outputs": [
    {
     "data": {
      "text/plain": [
       "-43.44"
      ]
     },
     "execution_count": 71,
     "metadata": {},
     "output_type": "execute_result"
    }
   ],
   "source": [
    "# covariance\n",
    "m = float(rddXY.count())\n",
    "covXY = rddXY.map(lambda x_y : (x_y[0]-meanX)*(x_y[1]-meanY)).sum()/m\n",
    "covXY"
   ]
  },
  {
   "cell_type": "code",
   "execution_count": 72,
   "metadata": {
    "ExecuteTime": {
     "end_time": "2020-08-16T09:18:36.493817Z",
     "start_time": "2020-08-16T09:18:36.487192Z"
    }
   },
   "outputs": [
    {
     "data": {
      "text/plain": [
       "-0.05213321332133213"
      ]
     },
     "execution_count": 72,
     "metadata": {},
     "output_type": "execute_result"
    }
   ],
   "source": [
    "# correlation\n",
    "corrXY = covXY/(stdX*stdY)\n",
    "corrXY"
   ]
  },
  {
   "cell_type": "code",
   "execution_count": 64,
   "metadata": {
    "ExecuteTime": {
     "end_time": "2020-08-16T08:52:25.527169Z",
     "start_time": "2020-08-16T08:52:25.505224Z"
    }
   },
   "outputs": [],
   "source": [
    "## Pearson corr matrix\n",
    "from pyspark.mllib.stat import Statistics\n",
    "col1 = sc.parallelize(range(100))\n",
    "col2 = sc.parallelize(range(100,200))\n",
    "col3 = sc.parallelize(range(200,100,-1))\n",
    "col4 = sc.parallelize(random.sample(range(100),100))"
   ]
  },
  {
   "cell_type": "code",
   "execution_count": 66,
   "metadata": {
    "ExecuteTime": {
     "end_time": "2020-08-16T08:52:57.039261Z",
     "start_time": "2020-08-16T08:52:56.869844Z"
    }
   },
   "outputs": [
    {
     "data": {
      "text/plain": [
       "[(((0, 100), 200), 97),\n",
       " (((1, 101), 199), 65),\n",
       " (((2, 102), 198), 82),\n",
       " (((3, 103), 197), 5),\n",
       " (((4, 104), 196), 71)]"
      ]
     },
     "execution_count": 66,
     "metadata": {},
     "output_type": "execute_result"
    }
   ],
   "source": [
    "data = col1.zip(col2).zip(col3).zip(col4)\n",
    "data.take(5)"
   ]
  },
  {
   "cell_type": "code",
   "execution_count": 67,
   "metadata": {
    "ExecuteTime": {
     "end_time": "2020-08-16T08:56:56.234768Z",
     "start_time": "2020-08-16T08:56:52.536778Z"
    }
   },
   "outputs": [
    {
     "name": "stdout",
     "output_type": "stream",
     "text": [
      "[[ 1.          1.         -1.         -0.20615662]\n",
      " [ 1.          1.         -1.         -0.20615662]\n",
      " [-1.         -1.          1.          0.20615662]\n",
      " [-0.20615662 -0.20615662  0.20615662  1.        ]]\n"
     ]
    }
   ],
   "source": [
    "data = data.map(lambda a_b_c_d : (a_b_c_d[0][0][0],a_b_c_d[0][0][1],a_b_c_d[0][1],a_b_c_d[1]) ).map(lambda a_b_c_d : [a_b_c_d[0],a_b_c_d[1],a_b_c_d[2],a_b_c_d[3]])\n",
    "print(Statistics.corr(data))"
   ]
  },
  {
   "cell_type": "code",
   "execution_count": 81,
   "metadata": {
    "ExecuteTime": {
     "end_time": "2020-08-16T09:26:26.454274Z",
     "start_time": "2020-08-16T09:26:26.355667Z"
    }
   },
   "outputs": [
    {
     "data": {
      "text/plain": [
       "9.154591009071585e-18"
      ]
     },
     "execution_count": 81,
     "metadata": {},
     "output_type": "execute_result"
    }
   ],
   "source": [
    "# skewness\n",
    "# n/((n-1)*(n-2)) is normalization term\n",
    "skewnessX = n/((n-1)*(n-2)) * rddX.map(lambda x: ((x-meanX)**3)/(stdX**3) ).sum()\n",
    "skewnessX"
   ]
  },
  {
   "cell_type": "code",
   "execution_count": 82,
   "metadata": {
    "ExecuteTime": {
     "end_time": "2020-08-16T09:30:20.308331Z",
     "start_time": "2020-08-16T09:30:20.213743Z"
    }
   },
   "outputs": [
    {
     "data": {
      "text/plain": [
       "-8.971499188890155e-18"
      ]
     },
     "execution_count": 82,
     "metadata": {},
     "output_type": "execute_result"
    }
   ],
   "source": [
    "# kurtosis\n",
    "# use 1-n instead of n for division\n",
    "kurtosisX = rddX.map(lambda x: ((x-meanX)**3)/(stdX**3) ).sum()/(1-n)\n",
    "kurtosisX"
   ]
  },
  {
   "cell_type": "code",
   "execution_count": null,
   "metadata": {},
   "outputs": [],
   "source": []
  }
 ],
 "metadata": {
  "kernelspec": {
   "display_name": "Python 3",
   "language": "python",
   "name": "python3"
  },
  "language_info": {
   "codemirror_mode": {
    "name": "ipython",
    "version": 3
   },
   "file_extension": ".py",
   "mimetype": "text/x-python",
   "name": "python",
   "nbconvert_exporter": "python",
   "pygments_lexer": "ipython3",
   "version": "3.6.9"
  },
  "latex_envs": {
   "LaTeX_envs_menu_present": true,
   "autoclose": false,
   "autocomplete": true,
   "bibliofile": "biblio.bib",
   "cite_by": "apalike",
   "current_citInitial": 1,
   "eqLabelWithNumbers": true,
   "eqNumInitial": 1,
   "hotkeys": {
    "equation": "Ctrl-E",
    "itemize": "Ctrl-I"
   },
   "labels_anchors": false,
   "latex_user_defs": false,
   "report_style_numbering": false,
   "user_envs_cfg": false
  },
  "toc": {
   "base_numbering": 1,
   "nav_menu": {},
   "number_sections": true,
   "sideBar": true,
   "skip_h1_title": false,
   "title_cell": "Table of Contents",
   "title_sidebar": "Contents",
   "toc_cell": false,
   "toc_position": {},
   "toc_section_display": true,
   "toc_window_display": false
  }
 },
 "nbformat": 4,
 "nbformat_minor": 4
}
