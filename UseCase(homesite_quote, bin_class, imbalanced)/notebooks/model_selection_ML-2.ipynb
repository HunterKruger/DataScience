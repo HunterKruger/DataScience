{
 "cells": [
  {
   "cell_type": "code",
   "execution_count": 1,
   "metadata": {
    "ExecuteTime": {
     "end_time": "2020-05-09T12:15:02.674175Z",
     "start_time": "2020-05-09T12:14:56.275474Z"
    }
   },
   "outputs": [
    {
     "name": "stderr",
     "output_type": "stream",
     "text": [
      "/Users/FY/anaconda3/lib/python3.6/site-packages/lightgbm/__init__.py:48: UserWarning: Starting from version 2.2.1, the library file in distribution wheels for macOS is built by the Apple Clang (Xcode_8.3.3) compiler.\n",
      "This means that in case of installing LightGBM from PyPI via the ``pip install lightgbm`` command, you don't need to install the gcc compiler anymore.\n",
      "Instead of that, you need to install the OpenMP library, which is required for running LightGBM on the system with the Apple Clang compiler.\n",
      "You can install the OpenMP library by the following command: ``brew install libomp``.\n",
      "  \"You can install the OpenMP library by the following command: ``brew install libomp``.\", UserWarning)\n",
      "Using TensorFlow backend.\n"
     ]
    }
   ],
   "source": [
    "import pandas as pd \n",
    "import numpy as np\n",
    "from pprint import pprint\n",
    "import joblib\n",
    "\n",
    "from sklearn.model_selection import train_test_split\n",
    "from sklearn.model_selection import cross_val_score \n",
    "from sklearn.model_selection import GridSearchCV,RandomizedSearchCV\n",
    "\n",
    "from sklearn.metrics import classification_report\n",
    "from sklearn.metrics import confusion_matrix\n",
    "from sklearn.metrics import roc_auc_score\n",
    "from sklearn.metrics import accuracy_score\n",
    "\n",
    "from sklearn.ensemble import RandomForestClassifier as RF\n",
    "from xgboost import XGBClassifier as XGBC\n",
    "from lightgbm import LGBMClassifier as LGBC\n",
    "\n",
    "from imblearn.over_sampling import SMOTE\n",
    "from imblearn.under_sampling import RandomUnderSampler as RUS"
   ]
  },
  {
   "cell_type": "markdown",
   "metadata": {},
   "source": [
    "## Import data"
   ]
  },
  {
   "cell_type": "code",
   "execution_count": 5,
   "metadata": {
    "ExecuteTime": {
     "end_time": "2020-05-09T12:16:30.287179Z",
     "start_time": "2020-05-09T12:16:15.025270Z"
    }
   },
   "outputs": [
    {
     "data": {
      "text/plain": [
       "(260753, 297)"
      ]
     },
     "execution_count": 5,
     "metadata": {},
     "output_type": "execute_result"
    }
   ],
   "source": [
    "train_origin = pd.read_csv('../data/featured_data/train.csv')\n",
    "train_origin.shape"
   ]
  },
  {
   "cell_type": "code",
   "execution_count": 6,
   "metadata": {
    "ExecuteTime": {
     "end_time": "2020-05-09T12:16:30.769426Z",
     "start_time": "2020-05-09T12:16:30.291911Z"
    }
   },
   "outputs": [],
   "source": [
    "X_train_origin = train_origin.drop('QuoteConversion_Flag',axis=1)\n",
    "y_train_origin = train_origin['QuoteConversion_Flag']"
   ]
  },
  {
   "cell_type": "code",
   "execution_count": 7,
   "metadata": {
    "ExecuteTime": {
     "end_time": "2020-05-09T12:16:31.763610Z",
     "start_time": "2020-05-09T12:16:30.774638Z"
    }
   },
   "outputs": [],
   "source": [
    "X_train, X_val, y_train, y_val = train_test_split(X_train_origin, y_train_origin, test_size=0.2, random_state=1)"
   ]
  },
  {
   "cell_type": "code",
   "execution_count": 8,
   "metadata": {
    "ExecuteTime": {
     "end_time": "2020-05-09T12:16:31.778676Z",
     "start_time": "2020-05-09T12:16:31.769061Z"
    }
   },
   "outputs": [
    {
     "data": {
      "text/plain": [
       "((208602, 296), (52151, 296), (208602,), (52151,))"
      ]
     },
     "execution_count": 8,
     "metadata": {},
     "output_type": "execute_result"
    }
   ],
   "source": [
    "X_train.shape, X_val.shape, y_train.shape, y_val.shape"
   ]
  },
  {
   "cell_type": "markdown",
   "metadata": {},
   "source": [
    "## 1st iteration: under sampling"
   ]
  },
  {
   "cell_type": "code",
   "execution_count": 9,
   "metadata": {
    "ExecuteTime": {
     "end_time": "2020-05-09T12:16:33.534499Z",
     "start_time": "2020-05-09T12:16:31.781517Z"
    }
   },
   "outputs": [],
   "source": [
    "rus = RUS(random_state=1) \n",
    "X_train_res,y_train_res=rus.fit_resample(X_train,y_train)"
   ]
  },
  {
   "cell_type": "code",
   "execution_count": 10,
   "metadata": {
    "ExecuteTime": {
     "end_time": "2020-05-09T12:16:33.550948Z",
     "start_time": "2020-05-09T12:16:33.536758Z"
    }
   },
   "outputs": [
    {
     "data": {
      "text/plain": [
       "((78268, 296), (52151, 296), (78268,), (52151,))"
      ]
     },
     "execution_count": 10,
     "metadata": {},
     "output_type": "execute_result"
    }
   ],
   "source": [
    "X_train_res.shape, X_val.shape, y_train_res.shape, y_val.shape"
   ]
  },
  {
   "cell_type": "code",
   "execution_count": 11,
   "metadata": {
    "ExecuteTime": {
     "end_time": "2020-05-09T12:16:33.569501Z",
     "start_time": "2020-05-09T12:16:33.555656Z"
    }
   },
   "outputs": [],
   "source": [
    "def modeling2(model_name):\n",
    "    model=model_name()\n",
    "    model.fit(X_train_res,y_train_res)\n",
    "    y_pred = model.predict(X_val)\n",
    "    print(\"Confusion_Matrix:\")\n",
    "    print(str(confusion_matrix(y_val,y_pred)))\n",
    "    print(classification_report(y_val,y_pred))\n",
    "    print(\"Accuracy:\" + str(accuracy_score(y_val, y_pred)))\n",
    "    print(\"AUC_ROC:\" + str(roc_auc_score(y_val, y_pred)))\n",
    "    importance_list = sorted(zip(model.feature_importances_, X_train_origin.columns.to_list()), reverse=True)\n",
    "    print(\"Feature importance: \")\n",
    "    pprint(importance_list[:10])"
   ]
  },
  {
   "cell_type": "code",
   "execution_count": 12,
   "metadata": {
    "ExecuteTime": {
     "end_time": "2020-05-09T12:17:09.390406Z",
     "start_time": "2020-05-09T12:16:33.576703Z"
    }
   },
   "outputs": [
    {
     "name": "stdout",
     "output_type": "stream",
     "text": [
      "Confusion_Matrix:\n",
      "[[35609  6782]\n",
      " [  848  8912]]\n",
      "              precision    recall  f1-score   support\n",
      "\n",
      "           0       0.98      0.84      0.90     42391\n",
      "           1       0.57      0.91      0.70      9760\n",
      "\n",
      "    accuracy                           0.85     52151\n",
      "   macro avg       0.77      0.88      0.80     52151\n",
      "weighted avg       0.90      0.85      0.87     52151\n",
      "\n",
      "Accuracy:0.853694080650419\n",
      "AUC_ROC:0.8765639822248072\n",
      "Feature importance: \n",
      "[(0.07305035461095132, 'SalesField5'),\n",
      " (0.055861380698376886, 'Field7'),\n",
      " (0.04817283808716051, 'PropertyField37'),\n",
      " (0.042357318845531615, 'PersonalField10B'),\n",
      " (0.0393665725244751, 'PersonalField10A'),\n",
      " (0.037833057452471744, 'PersonalField12'),\n",
      " (0.036115825555784006, 'PersonalField9'),\n",
      " (0.02861176679130415, 'PropertyField29'),\n",
      " (0.021758868654239493, 'SalesField4'),\n",
      " (0.016155568243477757, 'SalesField1B')]\n"
     ]
    }
   ],
   "source": [
    "modeling2(RF) # 3rd # a bit better than 1st iter: 0.8776665339089529"
   ]
  },
  {
   "cell_type": "code",
   "execution_count": 13,
   "metadata": {
    "ExecuteTime": {
     "end_time": "2020-05-09T12:17:18.666270Z",
     "start_time": "2020-05-09T12:17:09.395507Z"
    }
   },
   "outputs": [
    {
     "name": "stdout",
     "output_type": "stream",
     "text": [
      "Confusion_Matrix:\n",
      "[[37341  5050]\n",
      " [  981  8779]]\n",
      "              precision    recall  f1-score   support\n",
      "\n",
      "           0       0.97      0.88      0.93     42391\n",
      "           1       0.63      0.90      0.74      9760\n",
      "\n",
      "    accuracy                           0.88     52151\n",
      "   macro avg       0.80      0.89      0.83     52151\n",
      "weighted avg       0.91      0.88      0.89     52151\n",
      "\n",
      "Accuracy:0.8843550459243351\n",
      "AUC_ROC:0.8901793222521329\n",
      "Feature importance: \n",
      "[(158, 'PersonalField9'),\n",
      " (102, 'SalesField1B'),\n",
      " (99, 'SalesField6'),\n",
      " (93, 'PropertyField37'),\n",
      " (79, 'Field7'),\n",
      " (76, 'PersonalField10B'),\n",
      " (71, 'SalesField5'),\n",
      " (60, 'SalesField1A'),\n",
      " (51, 'PersonalField84'),\n",
      " (50, 'PersonalField1')]\n"
     ]
    }
   ],
   "source": [
    "modeling2(LGBC) # 1st # a bit worse than 1st iter: 0.891767591694185"
   ]
  },
  {
   "cell_type": "code",
   "execution_count": 14,
   "metadata": {
    "ExecuteTime": {
     "end_time": "2020-05-09T12:19:29.804481Z",
     "start_time": "2020-05-09T12:17:18.670190Z"
    }
   },
   "outputs": [
    {
     "name": "stdout",
     "output_type": "stream",
     "text": [
      "Confusion_Matrix:\n",
      "[[36385  6006]\n",
      " [  928  8832]]\n",
      "              precision    recall  f1-score   support\n",
      "\n",
      "           0       0.98      0.86      0.91     42391\n",
      "           1       0.60      0.90      0.72      9760\n",
      "\n",
      "    accuracy                           0.87     52151\n",
      "   macro avg       0.79      0.88      0.82     52151\n",
      "weighted avg       0.90      0.87      0.88     52151\n",
      "\n",
      "Accuracy:0.8670399417077334\n",
      "AUC_ROC:0.8816185077949193\n",
      "Feature importance: \n",
      "[(0.19082816, 'SalesField5'),\n",
      " (0.11275378, 'Field7'),\n",
      " (0.09116209, 'PropertyField37'),\n",
      " (0.09032211, 'PersonalField10A'),\n",
      " (0.068193525, 'PersonalField9'),\n",
      " (0.05321063, 'PersonalField2'),\n",
      " (0.038401186, 'PersonalField10B'),\n",
      " (0.037471008, 'PersonalField1'),\n",
      " (0.031053618, 'SalesField1B'),\n",
      " (0.018290102, 'PersonalField82')]\n"
     ]
    }
   ],
   "source": [
    "modeling2(XGBC) # 2nd # a bit better than 1st iter AUC_ROC:0.8812487697473675"
   ]
  },
  {
   "cell_type": "code",
   "execution_count": null,
   "metadata": {},
   "outputs": [],
   "source": []
  }
 ],
 "metadata": {
  "kernelspec": {
   "display_name": "Python 3",
   "language": "python",
   "name": "python3"
  },
  "language_info": {
   "codemirror_mode": {
    "name": "ipython",
    "version": 3
   },
   "file_extension": ".py",
   "mimetype": "text/x-python",
   "name": "python",
   "nbconvert_exporter": "python",
   "pygments_lexer": "ipython3",
   "version": "3.6.9"
  },
  "latex_envs": {
   "LaTeX_envs_menu_present": true,
   "autoclose": false,
   "autocomplete": true,
   "bibliofile": "biblio.bib",
   "cite_by": "apalike",
   "current_citInitial": 1,
   "eqLabelWithNumbers": true,
   "eqNumInitial": 1,
   "hotkeys": {
    "equation": "Ctrl-E",
    "itemize": "Ctrl-I"
   },
   "labels_anchors": false,
   "latex_user_defs": false,
   "report_style_numbering": false,
   "user_envs_cfg": false
  },
  "toc": {
   "base_numbering": 1,
   "nav_menu": {},
   "number_sections": true,
   "sideBar": true,
   "skip_h1_title": false,
   "title_cell": "Table of Contents",
   "title_sidebar": "Contents",
   "toc_cell": false,
   "toc_position": {},
   "toc_section_display": true,
   "toc_window_display": false
  }
 },
 "nbformat": 4,
 "nbformat_minor": 4
}
