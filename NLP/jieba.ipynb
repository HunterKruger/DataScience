{
 "cells": [
  {
   "cell_type": "code",
   "execution_count": 3,
   "metadata": {},
   "outputs": [],
   "source": [
    "import jieba"
   ]
  },
  {
   "cell_type": "markdown",
   "metadata": {},
   "source": [
    "## 分词"
   ]
  },
  {
   "cell_type": "code",
   "execution_count": 4,
   "metadata": {},
   "outputs": [],
   "source": [
    "sent = '中文分词是文本处理不可或缺的一步'"
   ]
  },
  {
   "cell_type": "code",
   "execution_count": 5,
   "metadata": {},
   "outputs": [
    {
     "name": "stderr",
     "output_type": "stream",
     "text": [
      "Building prefix dict from the default dictionary ...\n",
      "Dumping model to file cache /var/folders/hw/dyhx77tn77g939nbgqqsx6m40000gn/T/jieba.cache\n",
      "Loading model cost 1.152 seconds.\n",
      "Prefix dict has been built successfully.\n"
     ]
    },
    {
     "name": "stdout",
     "output_type": "stream",
     "text": [
      "全模式: 中文/分词/是/文本/文本处理/本处/处理/不可/不可或缺/或缺/的/一步\n"
     ]
    }
   ],
   "source": [
    "seg_list = jieba.cut(sent, cut_all = True)\n",
    "print(\"全模式:\", '/'.join(seg_list))\n",
    "#“把句子中所有可以成词的词语都扫描出来，速度非常快，但是不能解决歧义。”"
   ]
  },
  {
   "cell_type": "code",
   "execution_count": 6,
   "metadata": {},
   "outputs": [
    {
     "name": "stdout",
     "output_type": "stream",
     "text": [
      "精确模式: 中文/分词/是/文本处理/不可或缺/的/一步\n"
     ]
    }
   ],
   "source": [
    "seg_list = jieba.cut(sent, cut_all = False)\n",
    "print(\"精确模式:\", '/'.join(seg_list))\n",
    "#“试图将句子最精确地切开，适合文本分析。”"
   ]
  },
  {
   "cell_type": "code",
   "execution_count": 7,
   "metadata": {},
   "outputs": [
    {
     "name": "stdout",
     "output_type": "stream",
     "text": [
      "精确模式: 中文/分词/是/文本/本处/处理/文本处理/不可/或缺/不可或缺/的/一步\n"
     ]
    }
   ],
   "source": [
    "seg_list = jieba.cut_for_search(sent)\n",
    "print(\"搜索引擎模式:\", '/'.join(seg_list))\n",
    "#在精确模式的基础上，对长词再次切分，提高召回率，适合用于搜索引擎分词。”"
   ]
  },
  {
   "cell_type": "markdown",
   "metadata": {},
   "source": [
    "## 词性标注"
   ]
  },
  {
   "cell_type": "code",
   "execution_count": 8,
   "metadata": {},
   "outputs": [],
   "source": [
    "import jieba.posseg as psg"
   ]
  },
  {
   "cell_type": "code",
   "execution_count": 11,
   "metadata": {},
   "outputs": [
    {
     "name": "stdout",
     "output_type": "stream",
     "text": [
      "中文/nz 分词/n 是/v 文本处理/n 不可或缺/l 的/uj 一步/m\n"
     ]
    }
   ],
   "source": [
    "sent = '中文分词是文本处理不可或缺的一步'\n",
    "seg_list = psg.cut(sent)\n",
    "print(' '.join(['{0}/{1}'.format(w,t) for w,t in seg_list]))"
   ]
  },
  {
   "cell_type": "code",
   "execution_count": null,
   "metadata": {},
   "outputs": [],
   "source": []
  },
  {
   "cell_type": "code",
   "execution_count": null,
   "metadata": {},
   "outputs": [],
   "source": []
  }
 ],
 "metadata": {
  "kernelspec": {
   "display_name": "Python 3",
   "language": "python",
   "name": "python3"
  },
  "language_info": {
   "codemirror_mode": {
    "name": "ipython",
    "version": 3
   },
   "file_extension": ".py",
   "mimetype": "text/x-python",
   "name": "python",
   "nbconvert_exporter": "python",
   "pygments_lexer": "ipython3",
   "version": "3.6.9"
  }
 },
 "nbformat": 4,
 "nbformat_minor": 4
}
