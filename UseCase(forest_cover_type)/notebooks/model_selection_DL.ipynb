{
 "cells": [
  {
   "cell_type": "code",
   "execution_count": 1,
   "metadata": {
    "ExecuteTime": {
     "end_time": "2020-04-16T20:53:59.619160Z",
     "start_time": "2020-04-16T20:53:55.197940Z"
    }
   },
   "outputs": [],
   "source": [
    "import pandas as pd \n",
    "import numpy as np\n",
    "import joblib\n",
    "from sklearn.model_selection import train_test_split\n",
    "import tensorflow as tf\n",
    "from tensorflow import keras\n",
    "from tensorflow.keras import Sequential\n",
    "from tensorflow.keras.layers import Flatten,Dense,Input,Dropout,BatchNormalization\n",
    "from tensorflow.keras.optimizers import Adam\n",
    "from tensorflow.keras.utils import to_categorical\n",
    "from tensorflow.keras.callbacks import ReduceLROnPlateau\n",
    "\n",
    "import matplotlib.pyplot as plt\n",
    "%matplotlib inline\n",
    "\n",
    "from sklearn.metrics import classification_report\n",
    "from sklearn.metrics import confusion_matrix\n",
    "from sklearn.metrics import roc_auc_score\n",
    "from sklearn.metrics import accuracy_score"
   ]
  },
  {
   "cell_type": "code",
   "execution_count": 2,
   "metadata": {
    "ExecuteTime": {
     "end_time": "2020-04-16T20:53:59.678071Z",
     "start_time": "2020-04-16T20:53:59.621114Z"
    }
   },
   "outputs": [],
   "source": [
    "X_train_origin = pd.read_csv('../data/featured_data/X_train.csv')\n",
    "y_train_origin = pd.read_csv('../data/featured_data/y_train.csv')"
   ]
  },
  {
   "cell_type": "code",
   "execution_count": 3,
   "metadata": {
    "ExecuteTime": {
     "end_time": "2020-04-16T20:53:59.684942Z",
     "start_time": "2020-04-16T20:53:59.678959Z"
    }
   },
   "outputs": [],
   "source": [
    "X_train_origin = X_train_origin.to_numpy()\n",
    "y_train_origin = y_train_origin.to_numpy()\n",
    "y_train_origin = y_train_origin.ravel()"
   ]
  },
  {
   "cell_type": "code",
   "execution_count": 4,
   "metadata": {
    "ExecuteTime": {
     "end_time": "2020-04-16T20:53:59.692957Z",
     "start_time": "2020-04-16T20:53:59.685941Z"
    }
   },
   "outputs": [
    {
     "data": {
      "text/plain": [
       "((12096, 50), (12096,))"
      ]
     },
     "execution_count": 4,
     "metadata": {},
     "output_type": "execute_result"
    }
   ],
   "source": [
    "X_train_origin.shape,y_train_origin.shape"
   ]
  },
  {
   "cell_type": "code",
   "execution_count": 5,
   "metadata": {
    "ExecuteTime": {
     "end_time": "2020-04-16T20:53:59.701898Z",
     "start_time": "2020-04-16T20:53:59.693919Z"
    }
   },
   "outputs": [
    {
     "data": {
      "text/plain": [
       "array([[0., 1., 0., ..., 0., 0., 0.],\n",
       "       [1., 0., 0., ..., 0., 0., 0.],\n",
       "       [0., 0., 0., ..., 1., 0., 0.],\n",
       "       ...,\n",
       "       [0., 0., 0., ..., 0., 1., 0.],\n",
       "       [0., 1., 0., ..., 0., 0., 0.],\n",
       "       [0., 0., 0., ..., 0., 1., 0.]], dtype=float32)"
      ]
     },
     "execution_count": 5,
     "metadata": {},
     "output_type": "execute_result"
    }
   ],
   "source": [
    "y_encoded = to_categorical(y_train_origin)\n",
    "y_encoded = y_encoded[:,1:]\n",
    "y_encoded"
   ]
  },
  {
   "cell_type": "code",
   "execution_count": 6,
   "metadata": {
    "ExecuteTime": {
     "end_time": "2020-04-16T20:53:59.713903Z",
     "start_time": "2020-04-16T20:53:59.702895Z"
    }
   },
   "outputs": [],
   "source": [
    "X_train, X_val, y_train, y_val = train_test_split(X_train_origin, y_encoded, test_size=0.25, random_state=1) "
   ]
  },
  {
   "cell_type": "code",
   "execution_count": 7,
   "metadata": {
    "ExecuteTime": {
     "end_time": "2020-04-16T20:53:59.719849Z",
     "start_time": "2020-04-16T20:53:59.715900Z"
    }
   },
   "outputs": [],
   "source": [
    "input_dim=X_train.shape[1]"
   ]
  },
  {
   "cell_type": "code",
   "execution_count": 8,
   "metadata": {
    "ExecuteTime": {
     "end_time": "2020-04-16T20:54:01.746545Z",
     "start_time": "2020-04-16T20:53:59.720848Z"
    }
   },
   "outputs": [],
   "source": [
    "model = Sequential()\n",
    "model.add(Dense(64,input_dim=input_dim ,activation='relu') )\n",
    "model.add(BatchNormalization())\n",
    "model.add(Dropout(0.3))\n",
    "model.add(Dense(32 ,activation='relu') )\n",
    "model.add(BatchNormalization())\n",
    "model.add(Dropout(0.2))\n",
    "model.add(Dense(16 ,activation='relu') )\n",
    "model.add(BatchNormalization())\n",
    "model.add(Dropout(0.1))\n",
    "model.add(Dense(7,activation='softmax')) "
   ]
  },
  {
   "cell_type": "code",
   "execution_count": 9,
   "metadata": {
    "ExecuteTime": {
     "end_time": "2020-04-16T20:54:01.790412Z",
     "start_time": "2020-04-16T20:54:01.747429Z"
    }
   },
   "outputs": [],
   "source": [
    "opt=Adam(learning_rate=0.001)\n",
    "model.compile(optimizer=opt ,loss='categorical_crossentropy',metrics=['accuracy'])"
   ]
  },
  {
   "cell_type": "code",
   "execution_count": 10,
   "metadata": {
    "ExecuteTime": {
     "end_time": "2020-04-16T20:54:01.796299Z",
     "start_time": "2020-04-16T20:54:01.792310Z"
    }
   },
   "outputs": [],
   "source": [
    "epoch = 256"
   ]
  },
  {
   "cell_type": "code",
   "execution_count": 11,
   "metadata": {
    "ExecuteTime": {
     "end_time": "2020-04-16T20:54:01.802309Z",
     "start_time": "2020-04-16T20:54:01.797295Z"
    }
   },
   "outputs": [],
   "source": [
    "reduce_lr = ReduceLROnPlateau(monitor='val_loss', patience=10, mode='auto')"
   ]
  },
  {
   "cell_type": "code",
   "execution_count": 12,
   "metadata": {
    "ExecuteTime": {
     "end_time": "2020-04-16T21:00:25.228140Z",
     "start_time": "2020-04-16T20:54:01.803306Z"
    }
   },
   "outputs": [
    {
     "name": "stdout",
     "output_type": "stream",
     "text": [
      "Train on 9072 samples, validate on 3024 samples\n",
      "Epoch 1/256\n",
      "9072/9072 [==============================] - 4s 429us/sample - loss: 1.5854 - accuracy: 0.3759 - val_loss: 1.1085 - val_accuracy: 0.6028\n",
      "Epoch 2/256\n",
      "9072/9072 [==============================] - 1s 157us/sample - loss: 1.1125 - accuracy: 0.5498 - val_loss: 0.8367 - val_accuracy: 0.6610\n",
      "Epoch 3/256\n",
      "9072/9072 [==============================] - 1s 157us/sample - loss: 0.9771 - accuracy: 0.6005 - val_loss: 0.7687 - val_accuracy: 0.6822\n",
      "Epoch 4/256\n",
      "9072/9072 [==============================] - 1s 157us/sample - loss: 0.9181 - accuracy: 0.6215 - val_loss: 0.7339 - val_accuracy: 0.7014\n",
      "Epoch 5/256\n",
      "9072/9072 [==============================] - 1s 162us/sample - loss: 0.8812 - accuracy: 0.6399 - val_loss: 0.7140 - val_accuracy: 0.7060\n",
      "Epoch 6/256\n",
      "9072/9072 [==============================] - 2s 190us/sample - loss: 0.8602 - accuracy: 0.6541 - val_loss: 0.6929 - val_accuracy: 0.7087\n",
      "Epoch 7/256\n",
      "9072/9072 [==============================] - 2s 193us/sample - loss: 0.8295 - accuracy: 0.6692 - val_loss: 0.6827 - val_accuracy: 0.7090\n",
      "Epoch 8/256\n",
      "9072/9072 [==============================] - 1s 165us/sample - loss: 0.8056 - accuracy: 0.6757 - val_loss: 0.6639 - val_accuracy: 0.7189\n",
      "Epoch 9/256\n",
      "9072/9072 [==============================] - 2s 167us/sample - loss: 0.7986 - accuracy: 0.6797 - val_loss: 0.6587 - val_accuracy: 0.7219\n",
      "Epoch 10/256\n",
      "9072/9072 [==============================] - 2s 171us/sample - loss: 0.7797 - accuracy: 0.6852 - val_loss: 0.6483 - val_accuracy: 0.7242\n",
      "Epoch 11/256\n",
      "9072/9072 [==============================] - 1s 161us/sample - loss: 0.7645 - accuracy: 0.6939 - val_loss: 0.6413 - val_accuracy: 0.7255\n",
      "Epoch 12/256\n",
      "9072/9072 [==============================] - 1s 159us/sample - loss: 0.7631 - accuracy: 0.6941 - val_loss: 0.6317 - val_accuracy: 0.7328\n",
      "Epoch 13/256\n",
      "9072/9072 [==============================] - 2s 176us/sample - loss: 0.7455 - accuracy: 0.6998 - val_loss: 0.6240 - val_accuracy: 0.7328\n",
      "Epoch 14/256\n",
      "9072/9072 [==============================] - 2s 167us/sample - loss: 0.7320 - accuracy: 0.7032 - val_loss: 0.6119 - val_accuracy: 0.7424\n",
      "Epoch 15/256\n",
      "9072/9072 [==============================] - 2s 183us/sample - loss: 0.7247 - accuracy: 0.7052 - val_loss: 0.6121 - val_accuracy: 0.7378\n",
      "Epoch 16/256\n",
      "9072/9072 [==============================] - 2s 182us/sample - loss: 0.7308 - accuracy: 0.7083 - val_loss: 0.6002 - val_accuracy: 0.7493\n",
      "Epoch 17/256\n",
      "9072/9072 [==============================] - 1s 161us/sample - loss: 0.7149 - accuracy: 0.7129 - val_loss: 0.6028 - val_accuracy: 0.7467\n",
      "Epoch 18/256\n",
      "9072/9072 [==============================] - 2s 169us/sample - loss: 0.7081 - accuracy: 0.7200 - val_loss: 0.5920 - val_accuracy: 0.7487\n",
      "Epoch 19/256\n",
      "9072/9072 [==============================] - 2s 173us/sample - loss: 0.7034 - accuracy: 0.7228 - val_loss: 0.5849 - val_accuracy: 0.7536\n",
      "Epoch 20/256\n",
      "9072/9072 [==============================] - 2s 182us/sample - loss: 0.7050 - accuracy: 0.7224 - val_loss: 0.5873 - val_accuracy: 0.7566\n",
      "Epoch 21/256\n",
      "9072/9072 [==============================] - 2s 183us/sample - loss: 0.7098 - accuracy: 0.7183 - val_loss: 0.5787 - val_accuracy: 0.7573\n",
      "Epoch 22/256\n",
      "9072/9072 [==============================] - 1s 160us/sample - loss: 0.6830 - accuracy: 0.7257 - val_loss: 0.5809 - val_accuracy: 0.7507\n",
      "Epoch 23/256\n",
      "9072/9072 [==============================] - 1s 161us/sample - loss: 0.6758 - accuracy: 0.7338 - val_loss: 0.5764 - val_accuracy: 0.7642\n",
      "Epoch 24/256\n",
      "9072/9072 [==============================] - 2s 178us/sample - loss: 0.6805 - accuracy: 0.7282 - val_loss: 0.5788 - val_accuracy: 0.7503\n",
      "Epoch 25/256\n",
      "9072/9072 [==============================] - 2s 173us/sample - loss: 0.6866 - accuracy: 0.7253 - val_loss: 0.5759 - val_accuracy: 0.7583\n",
      "Epoch 26/256\n",
      "9072/9072 [==============================] - 1s 159us/sample - loss: 0.6677 - accuracy: 0.7379 - val_loss: 0.5638 - val_accuracy: 0.7632\n",
      "Epoch 27/256\n",
      "9072/9072 [==============================] - 1s 157us/sample - loss: 0.6729 - accuracy: 0.7337 - val_loss: 0.5635 - val_accuracy: 0.7682\n",
      "Epoch 28/256\n",
      "9072/9072 [==============================] - 1s 157us/sample - loss: 0.6626 - accuracy: 0.7368 - val_loss: 0.5679 - val_accuracy: 0.7626\n",
      "Epoch 29/256\n",
      "9072/9072 [==============================] - 1s 161us/sample - loss: 0.6621 - accuracy: 0.7330 - val_loss: 0.5634 - val_accuracy: 0.7622\n",
      "Epoch 30/256\n",
      "9072/9072 [==============================] - 1s 153us/sample - loss: 0.6562 - accuracy: 0.7371 - val_loss: 0.5667 - val_accuracy: 0.7669\n",
      "Epoch 31/256\n",
      "9072/9072 [==============================] - 1s 156us/sample - loss: 0.6522 - accuracy: 0.7401 - val_loss: 0.5514 - val_accuracy: 0.7655\n",
      "Epoch 32/256\n",
      "9072/9072 [==============================] - 1s 165us/sample - loss: 0.6584 - accuracy: 0.7316 - val_loss: 0.5586 - val_accuracy: 0.7695\n",
      "Epoch 33/256\n",
      "9072/9072 [==============================] - 1s 159us/sample - loss: 0.6441 - accuracy: 0.7403 - val_loss: 0.5536 - val_accuracy: 0.7695\n",
      "Epoch 34/256\n",
      "9072/9072 [==============================] - 1s 156us/sample - loss: 0.6427 - accuracy: 0.7507 - val_loss: 0.5487 - val_accuracy: 0.7715\n",
      "Epoch 35/256\n",
      "9072/9072 [==============================] - 1s 152us/sample - loss: 0.6605 - accuracy: 0.7327 - val_loss: 0.5491 - val_accuracy: 0.7712\n",
      "Epoch 36/256\n",
      "9072/9072 [==============================] - 1s 156us/sample - loss: 0.6418 - accuracy: 0.7466 - val_loss: 0.5490 - val_accuracy: 0.7722\n",
      "Epoch 37/256\n",
      "9072/9072 [==============================] - 2s 209us/sample - loss: 0.6439 - accuracy: 0.7432 - val_loss: 0.5513 - val_accuracy: 0.7758\n",
      "Epoch 38/256\n",
      "9072/9072 [==============================] - 2s 192us/sample - loss: 0.6325 - accuracy: 0.7487 - val_loss: 0.5455 - val_accuracy: 0.7771\n",
      "Epoch 39/256\n",
      "9072/9072 [==============================] - 2s 191us/sample - loss: 0.6350 - accuracy: 0.7416 - val_loss: 0.5455 - val_accuracy: 0.7722\n",
      "Epoch 40/256\n",
      "9072/9072 [==============================] - 2s 174us/sample - loss: 0.6311 - accuracy: 0.7515 - val_loss: 0.5487 - val_accuracy: 0.7748\n",
      "Epoch 41/256\n",
      "9072/9072 [==============================] - 1s 160us/sample - loss: 0.6374 - accuracy: 0.7469 - val_loss: 0.5417 - val_accuracy: 0.7778\n",
      "Epoch 42/256\n",
      "9072/9072 [==============================] - 1s 151us/sample - loss: 0.6375 - accuracy: 0.7456 - val_loss: 0.5388 - val_accuracy: 0.7801\n",
      "Epoch 43/256\n",
      "9072/9072 [==============================] - 1s 164us/sample - loss: 0.6250 - accuracy: 0.7545 - val_loss: 0.5340 - val_accuracy: 0.7765\n",
      "Epoch 44/256\n",
      "9072/9072 [==============================] - 1s 155us/sample - loss: 0.6330 - accuracy: 0.7492 - val_loss: 0.5494 - val_accuracy: 0.7725\n",
      "Epoch 45/256\n",
      "9072/9072 [==============================] - 1s 154us/sample - loss: 0.6178 - accuracy: 0.7539 - val_loss: 0.5369 - val_accuracy: 0.7798\n",
      "Epoch 46/256\n",
      "9072/9072 [==============================] - 1s 157us/sample - loss: 0.6260 - accuracy: 0.7525 - val_loss: 0.5357 - val_accuracy: 0.7801\n",
      "Epoch 47/256\n",
      "9072/9072 [==============================] - 1s 154us/sample - loss: 0.6256 - accuracy: 0.7472 - val_loss: 0.5335 - val_accuracy: 0.7874\n",
      "Epoch 48/256\n",
      "9072/9072 [==============================] - 2s 168us/sample - loss: 0.6113 - accuracy: 0.7630 - val_loss: 0.5409 - val_accuracy: 0.7847\n",
      "Epoch 49/256\n",
      "9072/9072 [==============================] - 1s 161us/sample - loss: 0.6095 - accuracy: 0.7563 - val_loss: 0.5328 - val_accuracy: 0.7798\n",
      "Epoch 50/256\n",
      "9072/9072 [==============================] - 1s 155us/sample - loss: 0.6082 - accuracy: 0.7591 - val_loss: 0.5287 - val_accuracy: 0.7867\n",
      "Epoch 51/256\n",
      "9072/9072 [==============================] - 1s 157us/sample - loss: 0.6058 - accuracy: 0.7594 - val_loss: 0.5298 - val_accuracy: 0.7811\n",
      "Epoch 52/256\n",
      "9072/9072 [==============================] - 1s 162us/sample - loss: 0.6123 - accuracy: 0.7597 - val_loss: 0.5299 - val_accuracy: 0.7837\n",
      "Epoch 53/256\n",
      "9072/9072 [==============================] - 1s 154us/sample - loss: 0.6139 - accuracy: 0.7573 - val_loss: 0.5273 - val_accuracy: 0.7884\n",
      "Epoch 54/256\n",
      "9072/9072 [==============================] - 1s 158us/sample - loss: 0.6098 - accuracy: 0.7620 - val_loss: 0.5270 - val_accuracy: 0.7841\n",
      "Epoch 55/256\n"
     ]
    },
    {
     "name": "stdout",
     "output_type": "stream",
     "text": [
      "9072/9072 [==============================] - 1s 164us/sample - loss: 0.6025 - accuracy: 0.7614 - val_loss: 0.5270 - val_accuracy: 0.7857\n",
      "Epoch 56/256\n",
      "9072/9072 [==============================] - 1s 151us/sample - loss: 0.6035 - accuracy: 0.7626 - val_loss: 0.5263 - val_accuracy: 0.7857\n",
      "Epoch 57/256\n",
      "9072/9072 [==============================] - 1s 157us/sample - loss: 0.6032 - accuracy: 0.7619 - val_loss: 0.5307 - val_accuracy: 0.7880\n",
      "Epoch 58/256\n",
      "9072/9072 [==============================] - 1s 154us/sample - loss: 0.6023 - accuracy: 0.7617 - val_loss: 0.5265 - val_accuracy: 0.7920\n",
      "Epoch 59/256\n",
      "9072/9072 [==============================] - 1s 165us/sample - loss: 0.5989 - accuracy: 0.7609 - val_loss: 0.5235 - val_accuracy: 0.7864\n",
      "Epoch 60/256\n",
      "9072/9072 [==============================] - 1s 163us/sample - loss: 0.5928 - accuracy: 0.7633 - val_loss: 0.5253 - val_accuracy: 0.7851\n",
      "Epoch 61/256\n",
      "9072/9072 [==============================] - 1s 156us/sample - loss: 0.6102 - accuracy: 0.7574 - val_loss: 0.5348 - val_accuracy: 0.7887\n",
      "Epoch 62/256\n",
      "9072/9072 [==============================] - 1s 162us/sample - loss: 0.6014 - accuracy: 0.7614 - val_loss: 0.5252 - val_accuracy: 0.7860\n",
      "Epoch 63/256\n",
      "9072/9072 [==============================] - 1s 155us/sample - loss: 0.5999 - accuracy: 0.7620 - val_loss: 0.5321 - val_accuracy: 0.7867\n",
      "Epoch 64/256\n",
      "9072/9072 [==============================] - 1s 159us/sample - loss: 0.5977 - accuracy: 0.7623 - val_loss: 0.5294 - val_accuracy: 0.7854\n",
      "Epoch 65/256\n",
      "9072/9072 [==============================] - 1s 157us/sample - loss: 0.5940 - accuracy: 0.7660 - val_loss: 0.5241 - val_accuracy: 0.7870\n",
      "Epoch 66/256\n",
      "9072/9072 [==============================] - 1s 155us/sample - loss: 0.5881 - accuracy: 0.7682 - val_loss: 0.5297 - val_accuracy: 0.7841\n",
      "Epoch 67/256\n",
      "9072/9072 [==============================] - 1s 149us/sample - loss: 0.5973 - accuracy: 0.7618 - val_loss: 0.5219 - val_accuracy: 0.7894\n",
      "Epoch 68/256\n",
      "9072/9072 [==============================] - 1s 153us/sample - loss: 0.5922 - accuracy: 0.7674 - val_loss: 0.5262 - val_accuracy: 0.7834\n",
      "Epoch 69/256\n",
      "9072/9072 [==============================] - 1s 154us/sample - loss: 0.5812 - accuracy: 0.7728 - val_loss: 0.5263 - val_accuracy: 0.7900\n",
      "Epoch 70/256\n",
      "9072/9072 [==============================] - 1s 154us/sample - loss: 0.5783 - accuracy: 0.7749 - val_loss: 0.5232 - val_accuracy: 0.7917\n",
      "Epoch 71/256\n",
      "9072/9072 [==============================] - 1s 155us/sample - loss: 0.5979 - accuracy: 0.7644 - val_loss: 0.5229 - val_accuracy: 0.7894\n",
      "Epoch 72/256\n",
      "9072/9072 [==============================] - 1s 158us/sample - loss: 0.5860 - accuracy: 0.7725 - val_loss: 0.5218 - val_accuracy: 0.7933\n",
      "Epoch 73/256\n",
      "9072/9072 [==============================] - 1s 153us/sample - loss: 0.5853 - accuracy: 0.7703 - val_loss: 0.5185 - val_accuracy: 0.7903\n",
      "Epoch 74/256\n",
      "9072/9072 [==============================] - 2s 172us/sample - loss: 0.5862 - accuracy: 0.7653 - val_loss: 0.5267 - val_accuracy: 0.7903\n",
      "Epoch 75/256\n",
      "9072/9072 [==============================] - 2s 176us/sample - loss: 0.5864 - accuracy: 0.7695 - val_loss: 0.5186 - val_accuracy: 0.7917\n",
      "Epoch 76/256\n",
      "9072/9072 [==============================] - 2s 173us/sample - loss: 0.5839 - accuracy: 0.7755 - val_loss: 0.5288 - val_accuracy: 0.7837\n",
      "Epoch 77/256\n",
      "9072/9072 [==============================] - 2s 186us/sample - loss: 0.5873 - accuracy: 0.7725 - val_loss: 0.5185 - val_accuracy: 0.7937\n",
      "Epoch 78/256\n",
      "9072/9072 [==============================] - 2s 197us/sample - loss: 0.5886 - accuracy: 0.7724 - val_loss: 0.5247 - val_accuracy: 0.7910\n",
      "Epoch 79/256\n",
      "9072/9072 [==============================] - 2s 181us/sample - loss: 0.5911 - accuracy: 0.7692 - val_loss: 0.5170 - val_accuracy: 0.7854\n",
      "Epoch 80/256\n",
      "9072/9072 [==============================] - 2s 182us/sample - loss: 0.5744 - accuracy: 0.7725 - val_loss: 0.5161 - val_accuracy: 0.7923\n",
      "Epoch 81/256\n",
      "9072/9072 [==============================] - 2s 180us/sample - loss: 0.5901 - accuracy: 0.7651 - val_loss: 0.5132 - val_accuracy: 0.7970\n",
      "Epoch 82/256\n",
      "9072/9072 [==============================] - 2s 177us/sample - loss: 0.5789 - accuracy: 0.7701 - val_loss: 0.5186 - val_accuracy: 0.7894\n",
      "Epoch 83/256\n",
      "9072/9072 [==============================] - 2s 174us/sample - loss: 0.5747 - accuracy: 0.7743 - val_loss: 0.5152 - val_accuracy: 0.7920\n",
      "Epoch 84/256\n",
      "9072/9072 [==============================] - 2s 171us/sample - loss: 0.5747 - accuracy: 0.7747 - val_loss: 0.5171 - val_accuracy: 0.7907\n",
      "Epoch 85/256\n",
      "9072/9072 [==============================] - 2s 180us/sample - loss: 0.5777 - accuracy: 0.7767 - val_loss: 0.5245 - val_accuracy: 0.7946\n",
      "Epoch 86/256\n",
      "9072/9072 [==============================] - 2s 179us/sample - loss: 0.5789 - accuracy: 0.7749 - val_loss: 0.5163 - val_accuracy: 0.7953\n",
      "Epoch 87/256\n",
      "9072/9072 [==============================] - 2s 186us/sample - loss: 0.5814 - accuracy: 0.7700 - val_loss: 0.5229 - val_accuracy: 0.7917\n",
      "Epoch 88/256\n",
      "9072/9072 [==============================] - 2s 183us/sample - loss: 0.5814 - accuracy: 0.7747 - val_loss: 0.5145 - val_accuracy: 0.7937\n",
      "Epoch 89/256\n",
      "9072/9072 [==============================] - 2s 170us/sample - loss: 0.5893 - accuracy: 0.7682 - val_loss: 0.5126 - val_accuracy: 0.7956\n",
      "Epoch 90/256\n",
      "9072/9072 [==============================] - 1s 161us/sample - loss: 0.5727 - accuracy: 0.7744 - val_loss: 0.5170 - val_accuracy: 0.7973\n",
      "Epoch 91/256\n",
      "9072/9072 [==============================] - 1s 163us/sample - loss: 0.5700 - accuracy: 0.7766 - val_loss: 0.5164 - val_accuracy: 0.7976\n",
      "Epoch 92/256\n",
      "9072/9072 [==============================] - 1s 165us/sample - loss: 0.5708 - accuracy: 0.7755 - val_loss: 0.5225 - val_accuracy: 0.7900\n",
      "Epoch 93/256\n",
      "9072/9072 [==============================] - 2s 168us/sample - loss: 0.5777 - accuracy: 0.7686 - val_loss: 0.5176 - val_accuracy: 0.7943\n",
      "Epoch 94/256\n",
      "9072/9072 [==============================] - 1s 164us/sample - loss: 0.5808 - accuracy: 0.7759 - val_loss: 0.5123 - val_accuracy: 0.7937\n",
      "Epoch 95/256\n",
      "9072/9072 [==============================] - 1s 165us/sample - loss: 0.5670 - accuracy: 0.7762 - val_loss: 0.5190 - val_accuracy: 0.7860\n",
      "Epoch 96/256\n",
      "9072/9072 [==============================] - 1s 165us/sample - loss: 0.5765 - accuracy: 0.7760 - val_loss: 0.5132 - val_accuracy: 0.7956\n",
      "Epoch 97/256\n",
      "9072/9072 [==============================] - 1s 165us/sample - loss: 0.5714 - accuracy: 0.7757 - val_loss: 0.5131 - val_accuracy: 0.7943\n",
      "Epoch 98/256\n",
      "9072/9072 [==============================] - 2s 169us/sample - loss: 0.5778 - accuracy: 0.7713 - val_loss: 0.5163 - val_accuracy: 0.7956\n",
      "Epoch 99/256\n",
      "9072/9072 [==============================] - 1s 163us/sample - loss: 0.5690 - accuracy: 0.7733 - val_loss: 0.5092 - val_accuracy: 0.7903\n",
      "Epoch 100/256\n",
      "9072/9072 [==============================] - 2s 167us/sample - loss: 0.5670 - accuracy: 0.7782 - val_loss: 0.5134 - val_accuracy: 0.7913\n",
      "Epoch 101/256\n",
      "9072/9072 [==============================] - 2s 170us/sample - loss: 0.5686 - accuracy: 0.7767 - val_loss: 0.5169 - val_accuracy: 0.7960\n",
      "Epoch 102/256\n",
      "9072/9072 [==============================] - 1s 160us/sample - loss: 0.5711 - accuracy: 0.7780 - val_loss: 0.5098 - val_accuracy: 0.7993\n",
      "Epoch 103/256\n",
      "9072/9072 [==============================] - 2s 171us/sample - loss: 0.5673 - accuracy: 0.7793 - val_loss: 0.5051 - val_accuracy: 0.7970\n",
      "Epoch 104/256\n",
      "9072/9072 [==============================] - 1s 165us/sample - loss: 0.5713 - accuracy: 0.7729 - val_loss: 0.5132 - val_accuracy: 0.7943\n",
      "Epoch 105/256\n",
      "9072/9072 [==============================] - 1s 165us/sample - loss: 0.5647 - accuracy: 0.7778 - val_loss: 0.5146 - val_accuracy: 0.7933\n",
      "Epoch 106/256\n",
      "9072/9072 [==============================] - 1s 159us/sample - loss: 0.5757 - accuracy: 0.7737 - val_loss: 0.5063 - val_accuracy: 0.7993\n",
      "Epoch 107/256\n",
      "9072/9072 [==============================] - 1s 158us/sample - loss: 0.5657 - accuracy: 0.7761 - val_loss: 0.5063 - val_accuracy: 0.8016\n",
      "Epoch 108/256\n",
      "9072/9072 [==============================] - 1s 160us/sample - loss: 0.5704 - accuracy: 0.7787 - val_loss: 0.5012 - val_accuracy: 0.7986\n",
      "Epoch 109/256\n"
     ]
    },
    {
     "name": "stdout",
     "output_type": "stream",
     "text": [
      "9072/9072 [==============================] - 1s 163us/sample - loss: 0.5686 - accuracy: 0.7788 - val_loss: 0.5107 - val_accuracy: 0.7920\n",
      "Epoch 110/256\n",
      "9072/9072 [==============================] - 1s 157us/sample - loss: 0.5614 - accuracy: 0.7832 - val_loss: 0.5075 - val_accuracy: 0.7973\n",
      "Epoch 111/256\n",
      "9072/9072 [==============================] - 1s 159us/sample - loss: 0.5591 - accuracy: 0.7788 - val_loss: 0.5019 - val_accuracy: 0.8003\n",
      "Epoch 112/256\n",
      "9072/9072 [==============================] - 1s 162us/sample - loss: 0.5673 - accuracy: 0.7791 - val_loss: 0.5084 - val_accuracy: 0.7993\n",
      "Epoch 113/256\n",
      "9072/9072 [==============================] - 1s 162us/sample - loss: 0.5605 - accuracy: 0.7790 - val_loss: 0.5038 - val_accuracy: 0.8013\n",
      "Epoch 114/256\n",
      "9072/9072 [==============================] - 1s 161us/sample - loss: 0.5625 - accuracy: 0.7785 - val_loss: 0.5088 - val_accuracy: 0.7890\n",
      "Epoch 115/256\n",
      "9072/9072 [==============================] - 1s 163us/sample - loss: 0.5660 - accuracy: 0.7761 - val_loss: 0.5087 - val_accuracy: 0.7976\n",
      "Epoch 116/256\n",
      "9072/9072 [==============================] - 1s 164us/sample - loss: 0.5578 - accuracy: 0.7809 - val_loss: 0.5057 - val_accuracy: 0.7986\n",
      "Epoch 117/256\n",
      "9072/9072 [==============================] - 1s 163us/sample - loss: 0.5658 - accuracy: 0.7800 - val_loss: 0.5173 - val_accuracy: 0.7884\n",
      "Epoch 118/256\n",
      "9072/9072 [==============================] - 1s 155us/sample - loss: 0.5535 - accuracy: 0.7810 - val_loss: 0.5114 - val_accuracy: 0.7917\n",
      "Epoch 119/256\n",
      "9072/9072 [==============================] - 1s 161us/sample - loss: 0.5510 - accuracy: 0.7817 - val_loss: 0.5027 - val_accuracy: 0.7993\n",
      "Epoch 120/256\n",
      "9072/9072 [==============================] - 1s 156us/sample - loss: 0.5426 - accuracy: 0.7935 - val_loss: 0.5002 - val_accuracy: 0.8013\n",
      "Epoch 121/256\n",
      "9072/9072 [==============================] - 1s 156us/sample - loss: 0.5484 - accuracy: 0.7849 - val_loss: 0.4996 - val_accuracy: 0.8013\n",
      "Epoch 122/256\n",
      "9072/9072 [==============================] - 1s 160us/sample - loss: 0.5303 - accuracy: 0.7917 - val_loss: 0.4993 - val_accuracy: 0.8009\n",
      "Epoch 123/256\n",
      "9072/9072 [==============================] - 1s 162us/sample - loss: 0.5376 - accuracy: 0.7876 - val_loss: 0.4982 - val_accuracy: 0.8013\n",
      "Epoch 124/256\n",
      "9072/9072 [==============================] - 1s 161us/sample - loss: 0.5316 - accuracy: 0.7950 - val_loss: 0.4978 - val_accuracy: 0.8016\n",
      "Epoch 125/256\n",
      "9072/9072 [==============================] - 1s 165us/sample - loss: 0.5455 - accuracy: 0.7891 - val_loss: 0.4964 - val_accuracy: 0.8016\n",
      "Epoch 126/256\n",
      "9072/9072 [==============================] - 2s 168us/sample - loss: 0.5292 - accuracy: 0.7933 - val_loss: 0.4959 - val_accuracy: 0.8006\n",
      "Epoch 127/256\n",
      "9072/9072 [==============================] - 1s 165us/sample - loss: 0.5353 - accuracy: 0.7906 - val_loss: 0.4977 - val_accuracy: 0.7999\n",
      "Epoch 128/256\n",
      "9072/9072 [==============================] - 1s 165us/sample - loss: 0.5362 - accuracy: 0.7870 - val_loss: 0.4958 - val_accuracy: 0.8026\n",
      "Epoch 129/256\n",
      "9072/9072 [==============================] - 2s 168us/sample - loss: 0.5472 - accuracy: 0.7882 - val_loss: 0.4960 - val_accuracy: 0.8042\n",
      "Epoch 130/256\n",
      "9072/9072 [==============================] - 1s 163us/sample - loss: 0.5319 - accuracy: 0.7940 - val_loss: 0.4951 - val_accuracy: 0.8026\n",
      "Epoch 131/256\n",
      "9072/9072 [==============================] - 1s 165us/sample - loss: 0.5399 - accuracy: 0.7913 - val_loss: 0.4949 - val_accuracy: 0.8022\n",
      "Epoch 132/256\n",
      "9072/9072 [==============================] - 1s 156us/sample - loss: 0.5383 - accuracy: 0.7908 - val_loss: 0.4945 - val_accuracy: 0.8039\n",
      "Epoch 133/256\n",
      "9072/9072 [==============================] - 1s 162us/sample - loss: 0.5349 - accuracy: 0.7899 - val_loss: 0.4951 - val_accuracy: 0.8013\n",
      "Epoch 134/256\n",
      "9072/9072 [==============================] - 1s 161us/sample - loss: 0.5376 - accuracy: 0.7899 - val_loss: 0.4946 - val_accuracy: 0.8026\n",
      "Epoch 135/256\n",
      "9072/9072 [==============================] - 1s 157us/sample - loss: 0.5404 - accuracy: 0.7891 - val_loss: 0.4950 - val_accuracy: 0.8036\n",
      "Epoch 136/256\n",
      "9072/9072 [==============================] - 1s 160us/sample - loss: 0.5294 - accuracy: 0.7925 - val_loss: 0.4952 - val_accuracy: 0.8022\n",
      "Epoch 137/256\n",
      "9072/9072 [==============================] - 1s 159us/sample - loss: 0.5438 - accuracy: 0.7895 - val_loss: 0.4949 - val_accuracy: 0.8029\n",
      "Epoch 138/256\n",
      "9072/9072 [==============================] - 1s 158us/sample - loss: 0.5420 - accuracy: 0.7886 - val_loss: 0.4936 - val_accuracy: 0.8046\n",
      "Epoch 139/256\n",
      "9072/9072 [==============================] - 1s 155us/sample - loss: 0.5367 - accuracy: 0.7909 - val_loss: 0.4928 - val_accuracy: 0.8046\n",
      "Epoch 140/256\n",
      "9072/9072 [==============================] - 1s 160us/sample - loss: 0.5308 - accuracy: 0.7944 - val_loss: 0.4940 - val_accuracy: 0.8046\n",
      "Epoch 141/256\n",
      "9072/9072 [==============================] - 2s 166us/sample - loss: 0.5385 - accuracy: 0.7909 - val_loss: 0.4935 - val_accuracy: 0.8039\n",
      "Epoch 142/256\n",
      "9072/9072 [==============================] - 1s 160us/sample - loss: 0.5319 - accuracy: 0.7931 - val_loss: 0.4933 - val_accuracy: 0.8042\n",
      "Epoch 143/256\n",
      "9072/9072 [==============================] - 1s 161us/sample - loss: 0.5384 - accuracy: 0.7890 - val_loss: 0.4944 - val_accuracy: 0.8032\n",
      "Epoch 144/256\n",
      "9072/9072 [==============================] - 1s 160us/sample - loss: 0.5297 - accuracy: 0.7924 - val_loss: 0.4928 - val_accuracy: 0.8029\n",
      "Epoch 145/256\n",
      "9072/9072 [==============================] - 1s 162us/sample - loss: 0.5422 - accuracy: 0.7875 - val_loss: 0.4933 - val_accuracy: 0.8013\n",
      "Epoch 146/256\n",
      "9072/9072 [==============================] - 1s 161us/sample - loss: 0.5221 - accuracy: 0.7966 - val_loss: 0.4939 - val_accuracy: 0.8019\n",
      "Epoch 147/256\n",
      "9072/9072 [==============================] - 1s 159us/sample - loss: 0.5407 - accuracy: 0.7895 - val_loss: 0.4927 - val_accuracy: 0.8032\n",
      "Epoch 148/256\n",
      "9072/9072 [==============================] - 1s 160us/sample - loss: 0.5298 - accuracy: 0.7937 - val_loss: 0.4941 - val_accuracy: 0.8036\n",
      "Epoch 149/256\n",
      "9072/9072 [==============================] - 1s 165us/sample - loss: 0.5344 - accuracy: 0.7933 - val_loss: 0.4931 - val_accuracy: 0.8042\n",
      "Epoch 150/256\n",
      "9072/9072 [==============================] - 2s 169us/sample - loss: 0.5382 - accuracy: 0.7898 - val_loss: 0.4927 - val_accuracy: 0.8036\n",
      "Epoch 151/256\n",
      "9072/9072 [==============================] - 1s 159us/sample - loss: 0.5397 - accuracy: 0.7919 - val_loss: 0.4932 - val_accuracy: 0.8036\n",
      "Epoch 152/256\n",
      "9072/9072 [==============================] - 1s 162us/sample - loss: 0.5315 - accuracy: 0.7939 - val_loss: 0.4935 - val_accuracy: 0.8039\n",
      "Epoch 153/256\n",
      "9072/9072 [==============================] - 1s 163us/sample - loss: 0.5424 - accuracy: 0.7919 - val_loss: 0.4944 - val_accuracy: 0.8026\n",
      "Epoch 154/256\n",
      "9072/9072 [==============================] - 2s 195us/sample - loss: 0.5305 - accuracy: 0.7920 - val_loss: 0.4933 - val_accuracy: 0.8026\n",
      "Epoch 155/256\n",
      "9072/9072 [==============================] - 2s 186us/sample - loss: 0.5328 - accuracy: 0.7930 - val_loss: 0.4937 - val_accuracy: 0.8029\n",
      "Epoch 156/256\n",
      "9072/9072 [==============================] - 1s 165us/sample - loss: 0.5358 - accuracy: 0.7935 - val_loss: 0.4937 - val_accuracy: 0.8032\n",
      "Epoch 157/256\n",
      "9072/9072 [==============================] - 1s 164us/sample - loss: 0.5390 - accuracy: 0.7929 - val_loss: 0.4928 - val_accuracy: 0.8036\n",
      "Epoch 158/256\n",
      "9072/9072 [==============================] - 2s 166us/sample - loss: 0.5292 - accuracy: 0.7931 - val_loss: 0.4928 - val_accuracy: 0.8046\n",
      "Epoch 159/256\n",
      "9072/9072 [==============================] - 2s 169us/sample - loss: 0.5333 - accuracy: 0.7927 - val_loss: 0.4928 - val_accuracy: 0.8046\n",
      "Epoch 160/256\n",
      "9072/9072 [==============================] - 2s 193us/sample - loss: 0.5322 - accuracy: 0.7934 - val_loss: 0.4928 - val_accuracy: 0.8029\n",
      "Epoch 161/256\n",
      "9072/9072 [==============================] - 2s 181us/sample - loss: 0.5367 - accuracy: 0.7912 - val_loss: 0.4924 - val_accuracy: 0.8049\n",
      "Epoch 162/256\n",
      "9072/9072 [==============================] - 2s 177us/sample - loss: 0.5167 - accuracy: 0.7982 - val_loss: 0.4926 - val_accuracy: 0.8022\n",
      "Epoch 163/256\n"
     ]
    },
    {
     "name": "stdout",
     "output_type": "stream",
     "text": [
      "9072/9072 [==============================] - 2s 170us/sample - loss: 0.5316 - accuracy: 0.7901 - val_loss: 0.4934 - val_accuracy: 0.8026\n",
      "Epoch 164/256\n",
      "9072/9072 [==============================] - 2s 167us/sample - loss: 0.5453 - accuracy: 0.7857 - val_loss: 0.4937 - val_accuracy: 0.8042\n",
      "Epoch 165/256\n",
      "9072/9072 [==============================] - 1s 163us/sample - loss: 0.5311 - accuracy: 0.7971 - val_loss: 0.4933 - val_accuracy: 0.8046\n",
      "Epoch 166/256\n",
      "9072/9072 [==============================] - 2s 168us/sample - loss: 0.5485 - accuracy: 0.7877 - val_loss: 0.4933 - val_accuracy: 0.8032\n",
      "Epoch 167/256\n",
      "9072/9072 [==============================] - 1s 164us/sample - loss: 0.5290 - accuracy: 0.7905 - val_loss: 0.4930 - val_accuracy: 0.8046\n",
      "Epoch 168/256\n",
      "9072/9072 [==============================] - 1s 162us/sample - loss: 0.5390 - accuracy: 0.7914 - val_loss: 0.4929 - val_accuracy: 0.8039\n",
      "Epoch 169/256\n",
      "9072/9072 [==============================] - 1s 161us/sample - loss: 0.5300 - accuracy: 0.7983 - val_loss: 0.4932 - val_accuracy: 0.8046\n",
      "Epoch 170/256\n",
      "9072/9072 [==============================] - 1s 162us/sample - loss: 0.5411 - accuracy: 0.7894 - val_loss: 0.4931 - val_accuracy: 0.8056\n",
      "Epoch 171/256\n",
      "9072/9072 [==============================] - 1s 160us/sample - loss: 0.5312 - accuracy: 0.7931 - val_loss: 0.4933 - val_accuracy: 0.8009\n",
      "Epoch 172/256\n",
      "9072/9072 [==============================] - 1s 160us/sample - loss: 0.5271 - accuracy: 0.7931 - val_loss: 0.4929 - val_accuracy: 0.8026\n",
      "Epoch 173/256\n",
      "9072/9072 [==============================] - 1s 153us/sample - loss: 0.5326 - accuracy: 0.7896 - val_loss: 0.4932 - val_accuracy: 0.8036\n",
      "Epoch 174/256\n",
      "9072/9072 [==============================] - 1s 159us/sample - loss: 0.5269 - accuracy: 0.8006 - val_loss: 0.4935 - val_accuracy: 0.8052\n",
      "Epoch 175/256\n",
      "9072/9072 [==============================] - 1s 159us/sample - loss: 0.5378 - accuracy: 0.7927 - val_loss: 0.4931 - val_accuracy: 0.8046\n",
      "Epoch 176/256\n",
      "9072/9072 [==============================] - 1s 151us/sample - loss: 0.5383 - accuracy: 0.7928 - val_loss: 0.4934 - val_accuracy: 0.8029\n",
      "Epoch 177/256\n",
      "9072/9072 [==============================] - 1s 154us/sample - loss: 0.5356 - accuracy: 0.7914 - val_loss: 0.4929 - val_accuracy: 0.8042\n",
      "Epoch 178/256\n",
      "9072/9072 [==============================] - 1s 158us/sample - loss: 0.5285 - accuracy: 0.7871 - val_loss: 0.4929 - val_accuracy: 0.8059\n",
      "Epoch 179/256\n",
      "9072/9072 [==============================] - 1s 154us/sample - loss: 0.5297 - accuracy: 0.7935 - val_loss: 0.4931 - val_accuracy: 0.8036\n",
      "Epoch 180/256\n",
      "9072/9072 [==============================] - 1s 155us/sample - loss: 0.5288 - accuracy: 0.7950 - val_loss: 0.4926 - val_accuracy: 0.8046\n",
      "Epoch 181/256\n",
      "9072/9072 [==============================] - 1s 152us/sample - loss: 0.5464 - accuracy: 0.7842 - val_loss: 0.4931 - val_accuracy: 0.8042\n",
      "Epoch 182/256\n",
      "9072/9072 [==============================] - 1s 154us/sample - loss: 0.5318 - accuracy: 0.7913 - val_loss: 0.4933 - val_accuracy: 0.8052\n",
      "Epoch 183/256\n",
      "9072/9072 [==============================] - 1s 157us/sample - loss: 0.5380 - accuracy: 0.7908 - val_loss: 0.4926 - val_accuracy: 0.8042\n",
      "Epoch 184/256\n",
      "9072/9072 [==============================] - 1s 165us/sample - loss: 0.5299 - accuracy: 0.7938 - val_loss: 0.4928 - val_accuracy: 0.8026\n",
      "Epoch 185/256\n",
      "9072/9072 [==============================] - 2s 172us/sample - loss: 0.5332 - accuracy: 0.7886 - val_loss: 0.4928 - val_accuracy: 0.8049\n",
      "Epoch 186/256\n",
      "9072/9072 [==============================] - 1s 159us/sample - loss: 0.5455 - accuracy: 0.7846 - val_loss: 0.4928 - val_accuracy: 0.8062\n",
      "Epoch 187/256\n",
      "9072/9072 [==============================] - 1s 153us/sample - loss: 0.5287 - accuracy: 0.7924 - val_loss: 0.4929 - val_accuracy: 0.8049\n",
      "Epoch 188/256\n",
      "9072/9072 [==============================] - 1s 154us/sample - loss: 0.5365 - accuracy: 0.7920 - val_loss: 0.4934 - val_accuracy: 0.8042\n",
      "Epoch 189/256\n",
      "9072/9072 [==============================] - 1s 156us/sample - loss: 0.5304 - accuracy: 0.7911 - val_loss: 0.4928 - val_accuracy: 0.8046\n",
      "Epoch 190/256\n",
      "9072/9072 [==============================] - 1s 160us/sample - loss: 0.5333 - accuracy: 0.7931 - val_loss: 0.4941 - val_accuracy: 0.8029\n",
      "Epoch 191/256\n",
      "9072/9072 [==============================] - 1s 158us/sample - loss: 0.5354 - accuracy: 0.7889 - val_loss: 0.4931 - val_accuracy: 0.8029\n",
      "Epoch 192/256\n",
      "9072/9072 [==============================] - 1s 157us/sample - loss: 0.5326 - accuracy: 0.7881 - val_loss: 0.4926 - val_accuracy: 0.8062\n",
      "Epoch 193/256\n",
      "9072/9072 [==============================] - 1s 160us/sample - loss: 0.5341 - accuracy: 0.7886 - val_loss: 0.4926 - val_accuracy: 0.8046\n",
      "Epoch 194/256\n",
      "9072/9072 [==============================] - 1s 155us/sample - loss: 0.5322 - accuracy: 0.7916 - val_loss: 0.4927 - val_accuracy: 0.8036\n",
      "Epoch 195/256\n",
      "9072/9072 [==============================] - 1s 160us/sample - loss: 0.5296 - accuracy: 0.7950 - val_loss: 0.4923 - val_accuracy: 0.8039\n",
      "Epoch 196/256\n",
      "9072/9072 [==============================] - 1s 155us/sample - loss: 0.5325 - accuracy: 0.7945 - val_loss: 0.4919 - val_accuracy: 0.8036\n",
      "Epoch 197/256\n",
      "9072/9072 [==============================] - 1s 163us/sample - loss: 0.5339 - accuracy: 0.7914 - val_loss: 0.4928 - val_accuracy: 0.8052\n",
      "Epoch 198/256\n",
      "9072/9072 [==============================] - 2s 180us/sample - loss: 0.5456 - accuracy: 0.7900 - val_loss: 0.4924 - val_accuracy: 0.8059\n",
      "Epoch 199/256\n",
      "9072/9072 [==============================] - 2s 180us/sample - loss: 0.5249 - accuracy: 0.7941 - val_loss: 0.4932 - val_accuracy: 0.8049\n",
      "Epoch 200/256\n",
      "9072/9072 [==============================] - 1s 161us/sample - loss: 0.5321 - accuracy: 0.7920 - val_loss: 0.4928 - val_accuracy: 0.8042\n",
      "Epoch 201/256\n",
      "9072/9072 [==============================] - 1s 165us/sample - loss: 0.5306 - accuracy: 0.7933 - val_loss: 0.4928 - val_accuracy: 0.8036\n",
      "Epoch 202/256\n",
      "9072/9072 [==============================] - 1s 162us/sample - loss: 0.5412 - accuracy: 0.7898 - val_loss: 0.4930 - val_accuracy: 0.8046\n",
      "Epoch 203/256\n",
      "9072/9072 [==============================] - 2s 166us/sample - loss: 0.5433 - accuracy: 0.7864 - val_loss: 0.4930 - val_accuracy: 0.8036\n",
      "Epoch 204/256\n",
      "9072/9072 [==============================] - 1s 159us/sample - loss: 0.5320 - accuracy: 0.7913 - val_loss: 0.4933 - val_accuracy: 0.8059\n",
      "Epoch 205/256\n",
      "9072/9072 [==============================] - 1s 162us/sample - loss: 0.5328 - accuracy: 0.7920 - val_loss: 0.4932 - val_accuracy: 0.8042\n",
      "Epoch 206/256\n",
      "9072/9072 [==============================] - 1s 164us/sample - loss: 0.5280 - accuracy: 0.7903 - val_loss: 0.4939 - val_accuracy: 0.8042\n",
      "Epoch 207/256\n",
      "9072/9072 [==============================] - 1s 163us/sample - loss: 0.5332 - accuracy: 0.7898 - val_loss: 0.4935 - val_accuracy: 0.8042\n",
      "Epoch 208/256\n",
      "9072/9072 [==============================] - 1s 159us/sample - loss: 0.5286 - accuracy: 0.7875 - val_loss: 0.4931 - val_accuracy: 0.8032\n",
      "Epoch 209/256\n",
      "9072/9072 [==============================] - 2s 166us/sample - loss: 0.5346 - accuracy: 0.7888 - val_loss: 0.4930 - val_accuracy: 0.8039\n",
      "Epoch 210/256\n",
      "9072/9072 [==============================] - 1s 164us/sample - loss: 0.5164 - accuracy: 0.7975 - val_loss: 0.4930 - val_accuracy: 0.8042\n",
      "Epoch 211/256\n",
      "9072/9072 [==============================] - 1s 160us/sample - loss: 0.5284 - accuracy: 0.7951 - val_loss: 0.4928 - val_accuracy: 0.8042\n",
      "Epoch 212/256\n",
      "9072/9072 [==============================] - 1s 159us/sample - loss: 0.5294 - accuracy: 0.7945 - val_loss: 0.4938 - val_accuracy: 0.8036\n",
      "Epoch 213/256\n",
      "9072/9072 [==============================] - 1s 161us/sample - loss: 0.5458 - accuracy: 0.7882 - val_loss: 0.4926 - val_accuracy: 0.8049\n",
      "Epoch 214/256\n",
      "9072/9072 [==============================] - 2s 167us/sample - loss: 0.5306 - accuracy: 0.7927 - val_loss: 0.4937 - val_accuracy: 0.8039\n",
      "Epoch 215/256\n",
      "9072/9072 [==============================] - 1s 160us/sample - loss: 0.5376 - accuracy: 0.7916 - val_loss: 0.4936 - val_accuracy: 0.8032\n",
      "Epoch 216/256\n",
      "9072/9072 [==============================] - 1s 162us/sample - loss: 0.5404 - accuracy: 0.7906 - val_loss: 0.4930 - val_accuracy: 0.8062\n",
      "Epoch 217/256\n"
     ]
    },
    {
     "name": "stdout",
     "output_type": "stream",
     "text": [
      "9072/9072 [==============================] - 1s 161us/sample - loss: 0.5318 - accuracy: 0.7955 - val_loss: 0.4934 - val_accuracy: 0.8032\n",
      "Epoch 218/256\n",
      "9072/9072 [==============================] - 1s 164us/sample - loss: 0.5292 - accuracy: 0.7916 - val_loss: 0.4927 - val_accuracy: 0.8046\n",
      "Epoch 219/256\n",
      "9072/9072 [==============================] - 1s 163us/sample - loss: 0.5322 - accuracy: 0.7900 - val_loss: 0.4935 - val_accuracy: 0.8022\n",
      "Epoch 220/256\n",
      "9072/9072 [==============================] - 1s 164us/sample - loss: 0.5389 - accuracy: 0.7873 - val_loss: 0.4932 - val_accuracy: 0.8042\n",
      "Epoch 221/256\n",
      "9072/9072 [==============================] - 1s 163us/sample - loss: 0.5340 - accuracy: 0.7887 - val_loss: 0.4925 - val_accuracy: 0.8059\n",
      "Epoch 222/256\n",
      "9072/9072 [==============================] - 1s 159us/sample - loss: 0.5420 - accuracy: 0.7856 - val_loss: 0.4931 - val_accuracy: 0.8046\n",
      "Epoch 223/256\n",
      "9072/9072 [==============================] - 1s 165us/sample - loss: 0.5381 - accuracy: 0.7896 - val_loss: 0.4931 - val_accuracy: 0.8042\n",
      "Epoch 224/256\n",
      "9072/9072 [==============================] - 1s 161us/sample - loss: 0.5262 - accuracy: 0.7982 - val_loss: 0.4929 - val_accuracy: 0.8046\n",
      "Epoch 225/256\n",
      "9072/9072 [==============================] - 2s 166us/sample - loss: 0.5252 - accuracy: 0.7965 - val_loss: 0.4933 - val_accuracy: 0.8042\n",
      "Epoch 226/256\n",
      "9072/9072 [==============================] - 1s 163us/sample - loss: 0.5337 - accuracy: 0.7937 - val_loss: 0.4934 - val_accuracy: 0.8039\n",
      "Epoch 227/256\n",
      "9072/9072 [==============================] - 1s 165us/sample - loss: 0.5332 - accuracy: 0.7888 - val_loss: 0.4933 - val_accuracy: 0.8039\n",
      "Epoch 228/256\n",
      "9072/9072 [==============================] - 1s 156us/sample - loss: 0.5411 - accuracy: 0.7868 - val_loss: 0.4931 - val_accuracy: 0.8056\n",
      "Epoch 229/256\n",
      "9072/9072 [==============================] - 1s 162us/sample - loss: 0.5336 - accuracy: 0.7849 - val_loss: 0.4932 - val_accuracy: 0.8039\n",
      "Epoch 230/256\n",
      "9072/9072 [==============================] - 1s 160us/sample - loss: 0.5321 - accuracy: 0.7954 - val_loss: 0.4927 - val_accuracy: 0.8042\n",
      "Epoch 231/256\n",
      "9072/9072 [==============================] - 1s 160us/sample - loss: 0.5239 - accuracy: 0.7950 - val_loss: 0.4926 - val_accuracy: 0.8052\n",
      "Epoch 232/256\n",
      "9072/9072 [==============================] - 1s 161us/sample - loss: 0.5251 - accuracy: 0.7899 - val_loss: 0.4931 - val_accuracy: 0.8042\n",
      "Epoch 233/256\n",
      "9072/9072 [==============================] - 1s 163us/sample - loss: 0.5236 - accuracy: 0.7967 - val_loss: 0.4930 - val_accuracy: 0.8056\n",
      "Epoch 234/256\n",
      "9072/9072 [==============================] - 1s 159us/sample - loss: 0.5314 - accuracy: 0.7882 - val_loss: 0.4928 - val_accuracy: 0.8056\n",
      "Epoch 235/256\n",
      "9072/9072 [==============================] - 1s 160us/sample - loss: 0.5261 - accuracy: 0.7977 - val_loss: 0.4930 - val_accuracy: 0.8052\n",
      "Epoch 236/256\n",
      "9072/9072 [==============================] - 1s 164us/sample - loss: 0.5362 - accuracy: 0.7890 - val_loss: 0.4939 - val_accuracy: 0.8029\n",
      "Epoch 237/256\n",
      "9072/9072 [==============================] - 1s 161us/sample - loss: 0.5288 - accuracy: 0.7897 - val_loss: 0.4929 - val_accuracy: 0.8046\n",
      "Epoch 238/256\n",
      "9072/9072 [==============================] - 1s 163us/sample - loss: 0.5402 - accuracy: 0.7882 - val_loss: 0.4930 - val_accuracy: 0.8049\n",
      "Epoch 239/256\n",
      "9072/9072 [==============================] - 1s 164us/sample - loss: 0.5273 - accuracy: 0.7895 - val_loss: 0.4924 - val_accuracy: 0.8049\n",
      "Epoch 240/256\n",
      "9072/9072 [==============================] - 1s 160us/sample - loss: 0.5285 - accuracy: 0.7935 - val_loss: 0.4928 - val_accuracy: 0.8039\n",
      "Epoch 241/256\n",
      "9072/9072 [==============================] - 1s 164us/sample - loss: 0.5298 - accuracy: 0.7903 - val_loss: 0.4934 - val_accuracy: 0.8036\n",
      "Epoch 242/256\n",
      "9072/9072 [==============================] - 1s 159us/sample - loss: 0.5308 - accuracy: 0.7932 - val_loss: 0.4931 - val_accuracy: 0.8032\n",
      "Epoch 243/256\n",
      "9072/9072 [==============================] - 1s 159us/sample - loss: 0.5217 - accuracy: 0.7965 - val_loss: 0.4929 - val_accuracy: 0.8042\n",
      "Epoch 244/256\n",
      "9072/9072 [==============================] - 1s 162us/sample - loss: 0.5299 - accuracy: 0.7913 - val_loss: 0.4925 - val_accuracy: 0.8046\n",
      "Epoch 245/256\n",
      "9072/9072 [==============================] - 1s 163us/sample - loss: 0.5287 - accuracy: 0.7914 - val_loss: 0.4928 - val_accuracy: 0.8032\n",
      "Epoch 246/256\n",
      "9072/9072 [==============================] - 1s 160us/sample - loss: 0.5404 - accuracy: 0.7881 - val_loss: 0.4931 - val_accuracy: 0.8036\n",
      "Epoch 247/256\n",
      "9072/9072 [==============================] - 1s 162us/sample - loss: 0.5305 - accuracy: 0.7930 - val_loss: 0.4931 - val_accuracy: 0.8039\n",
      "Epoch 248/256\n",
      "9072/9072 [==============================] - 1s 159us/sample - loss: 0.5262 - accuracy: 0.7879 - val_loss: 0.4928 - val_accuracy: 0.8036\n",
      "Epoch 249/256\n",
      "9072/9072 [==============================] - 1s 161us/sample - loss: 0.5469 - accuracy: 0.7857 - val_loss: 0.4926 - val_accuracy: 0.8046\n",
      "Epoch 250/256\n",
      "9072/9072 [==============================] - 1s 158us/sample - loss: 0.5349 - accuracy: 0.7937 - val_loss: 0.4928 - val_accuracy: 0.8049\n",
      "Epoch 251/256\n",
      "9072/9072 [==============================] - 2s 183us/sample - loss: 0.5325 - accuracy: 0.7877 - val_loss: 0.4936 - val_accuracy: 0.8032\n",
      "Epoch 252/256\n",
      "9072/9072 [==============================] - 1s 160us/sample - loss: 0.5481 - accuracy: 0.7874 - val_loss: 0.4930 - val_accuracy: 0.8022\n",
      "Epoch 253/256\n",
      "9072/9072 [==============================] - 2s 166us/sample - loss: 0.5435 - accuracy: 0.7842 - val_loss: 0.4926 - val_accuracy: 0.8052\n",
      "Epoch 254/256\n",
      "9072/9072 [==============================] - 1s 162us/sample - loss: 0.5289 - accuracy: 0.7978 - val_loss: 0.4932 - val_accuracy: 0.8036\n",
      "Epoch 255/256\n",
      "9072/9072 [==============================] - 1s 163us/sample - loss: 0.5218 - accuracy: 0.7968 - val_loss: 0.4931 - val_accuracy: 0.8046\n",
      "Epoch 256/256\n",
      "9072/9072 [==============================] - 1s 159us/sample - loss: 0.5333 - accuracy: 0.7889 - val_loss: 0.4929 - val_accuracy: 0.8039\n"
     ]
    }
   ],
   "source": [
    "history=model.fit(X_train, y_train,validation_data=(X_val,y_val),batch_size=32, epochs=epoch, verbose=1,callbacks=[reduce_lr])"
   ]
  },
  {
   "cell_type": "code",
   "execution_count": 13,
   "metadata": {
    "ExecuteTime": {
     "end_time": "2020-04-16T21:00:26.047233Z",
     "start_time": "2020-04-16T21:00:25.229138Z"
    }
   },
   "outputs": [
    {
     "data": {
      "image/png": "[encoded data removed]",
      "text/plain": [
       "<Figure size 432x288 with 1 Axes>"
      ]
     },
     "metadata": {
      "needs_background": "light"
     },
     "output_type": "display_data"
    },
    {
     "data": {
      "image/png": "[encoded data removed]",
      "text/plain": [
       "<Figure size 432x288 with 1 Axes>"
      ]
     },
     "metadata": {
      "needs_background": "light"
     },
     "output_type": "display_data"
    }
   ],
   "source": [
    "epoch_range=range(1,epoch+1)\n",
    "plt.plot(epoch_range,history.history['accuracy'])\n",
    "plt.plot(epoch_range,history.history['val_accuracy'])\n",
    "plt.title('Model accuracy')\n",
    "plt.ylabel('Accuracy')\n",
    "plt.xlabel('Epoch')\n",
    "# plt.xticks([x for x in range(epoch+1)])\n",
    "plt.legend(['Train','Val'],loc='upper left')\n",
    "plt.show()\n",
    "\n",
    "plt.plot(history.history['loss'])\n",
    "plt.plot(history.history['val_loss'])\n",
    "plt.title('Model loss')\n",
    "plt.ylabel('Loss')\n",
    "plt.xlabel('Epoch')\n",
    "# plt.xticks([x for x in range(epoch+1)])\n",
    "plt.legend(['Train','Val'],loc='upper left')\n",
    "plt.show()\n",
    "\n",
    "# worse than RF, acc = 0.8 in val"
   ]
  },
  {
   "cell_type": "code",
   "execution_count": 14,
   "metadata": {
    "ExecuteTime": {
     "end_time": "2020-04-16T21:00:26.099055Z",
     "start_time": "2020-04-16T21:00:26.048219Z"
    }
   },
   "outputs": [],
   "source": [
    "model.save(\"../models/NN.h5\")"
   ]
  },
  {
   "cell_type": "code",
   "execution_count": null,
   "metadata": {},
   "outputs": [],
   "source": []
  }
 ],
 "metadata": {
  "kernelspec": {
   "display_name": "Python 3",
   "language": "python",
   "name": "python3"
  },
  "language_info": {
   "codemirror_mode": {
    "name": "ipython",
    "version": 3
   },
   "file_extension": ".py",
   "mimetype": "text/x-python",
   "name": "python",
   "nbconvert_exporter": "python",
   "pygments_lexer": "ipython3",
   "version": "3.6.5"
  },
  "toc": {
   "base_numbering": 1,
   "nav_menu": {},
   "number_sections": true,
   "sideBar": true,
   "skip_h1_title": false,
   "title_cell": "Table of Contents",
   "title_sidebar": "Contents",
   "toc_cell": false,
   "toc_position": {},
   "toc_section_display": true,
   "toc_window_display": false
  }
 },
 "nbformat": 4,
 "nbformat_minor": 4
}
