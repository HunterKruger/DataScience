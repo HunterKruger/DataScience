{
 "cells": [
  {
   "cell_type": "code",
   "execution_count": 1,
   "metadata": {
    "ExecuteTime": {
     "end_time": "2020-05-09T12:35:09.512594Z",
     "start_time": "2020-05-09T12:35:07.935677Z"
    }
   },
   "outputs": [],
   "source": [
    "import pandas as pd\n",
    "from datetime import datetime\n",
    "from sklearn.preprocessing import StandardScaler, LabelEncoder, OneHotEncoder\n",
    "import warnings\n",
    "warnings.filterwarnings(action='once')"
   ]
  },
  {
   "cell_type": "code",
   "execution_count": 2,
   "metadata": {
    "ExecuteTime": {
     "end_time": "2020-05-09T12:35:24.231468Z",
     "start_time": "2020-05-09T12:35:09.515917Z"
    }
   },
   "outputs": [
    {
     "data": {
      "text/plain": [
       "((260753, 299), (173836, 298))"
      ]
     },
     "execution_count": 2,
     "metadata": {},
     "output_type": "execute_result"
    }
   ],
   "source": [
    "train = pd.read_csv('../data/raw_data/train.csv')\n",
    "test = pd.read_csv('../data/raw_data/test.csv')\n",
    "train.shape, test.shape"
   ]
  },
  {
   "cell_type": "code",
   "execution_count": 3,
   "metadata": {
    "ExecuteTime": {
     "end_time": "2020-05-09T12:35:24.507472Z",
     "start_time": "2020-05-09T12:35:24.234231Z"
    }
   },
   "outputs": [],
   "source": [
    "train['Original_Quote_Date'] = pd.to_datetime(train['Original_Quote_Date'], errors='coerce')\n",
    "test['Original_Quote_Date'] = pd.to_datetime(test['Original_Quote_Date'], errors='coerce')\n",
    "train['Original_Quote_Date'] = train['Original_Quote_Date'].dt.dayofweek\n",
    "test['Original_Quote_Date'] = test['Original_Quote_Date'].dt.dayofweek\n",
    "transform_num_day_of_week = {0: 'Monday',\n",
    "                             1: 'Tuesday',\n",
    "                             2: 'Wednesday',\n",
    "                             3: 'Thursday',\n",
    "                             4: 'Friday',\n",
    "                             5: 'Saturday',\n",
    "                             6: 'Sunday'}\n",
    "train['Original_Quote_day_of_week'] = train['Original_Quote_Date'].map(transform_num_day_of_week)\n",
    "test['Original_Quote_day_of_week'] = test['Original_Quote_Date'].map(transform_num_day_of_week)"
   ]
  },
  {
   "cell_type": "code",
   "execution_count": 4,
   "metadata": {
    "ExecuteTime": {
     "end_time": "2020-05-09T12:35:24.522674Z",
     "start_time": "2020-05-09T12:35:24.509995Z"
    }
   },
   "outputs": [],
   "source": [
    "# impute PersonalField84 by a new class\n",
    "train['PersonalField84'].fillna(999, inplace=True)\n",
    "test['PersonalField84'].fillna(999, inplace=True)\n",
    "# impute PropertyField29 by a new class\n",
    "train['PropertyField29'].fillna(999, inplace=True)\n",
    "test['PropertyField29'].fillna(999, inplace=True)"
   ]
  },
  {
   "cell_type": "code",
   "execution_count": 5,
   "metadata": {
    "ExecuteTime": {
     "end_time": "2020-05-09T12:35:29.067014Z",
     "start_time": "2020-05-09T12:35:24.529730Z"
    }
   },
   "outputs": [
    {
     "data": {
      "text/plain": [
       "((260753, 297), (173836, 296))"
      ]
     },
     "execution_count": 5,
     "metadata": {},
     "output_type": "execute_result"
    }
   ],
   "source": [
    "col_to_drop = ['Original_Quote_Date','QuoteNumber','SalesField8']\n",
    "for col in col_to_drop:\n",
    "    train.drop(col,axis=1,inplace=True)\n",
    "    test.drop(col,axis=1,inplace=True)\n",
    "train.shape, test.shape"
   ]
  },
  {
   "cell_type": "code",
   "execution_count": 6,
   "metadata": {
    "ExecuteTime": {
     "end_time": "2020-05-09T12:35:30.140609Z",
     "start_time": "2020-05-09T12:35:29.070110Z"
    }
   },
   "outputs": [],
   "source": [
    "for col in test.columns:  # impute by mode \n",
    "    if train[col].isnull().sum()>0 or test[col].isnull().sum()>0:\n",
    "        mode = train[col].value_counts().index[0]\n",
    "        train[col].fillna(mode,inplace=True)\n",
    "        test[col].fillna(mode,inplace=True)"
   ]
  },
  {
   "cell_type": "code",
   "execution_count": 7,
   "metadata": {
    "ExecuteTime": {
     "end_time": "2020-05-09T12:38:55.910112Z",
     "start_time": "2020-05-09T12:35:30.154660Z"
    }
   },
   "outputs": [
    {
     "name": "stderr",
     "output_type": "stream",
     "text": [
      "/Users/FY/anaconda3/lib/python3.6/importlib/_bootstrap.py:219: RuntimeWarning: numpy.ufunc size changed, may indicate binary incompatibility. Expected 192 from C header, got 216 from PyObject\n",
      "  return f(*args, **kwds)\n"
     ]
    }
   ],
   "source": [
    "X_train = train.drop('QuoteConversion_Flag',axis=1)\n",
    "y_train = train['QuoteConversion_Flag']\n",
    "X_test = test\n",
    "\n",
    "from category_encoders import TargetEncoder \n",
    "te = TargetEncoder(cols = test.columns.to_list()).fit(X_train,y_train)\n",
    "X_train_encoded = te.transform(X_train)\n",
    "X_test_encoded = te.transform(X_test)"
   ]
  },
  {
   "cell_type": "code",
   "execution_count": 8,
   "metadata": {
    "ExecuteTime": {
     "end_time": "2020-05-09T12:38:58.971705Z",
     "start_time": "2020-05-09T12:38:55.916032Z"
    }
   },
   "outputs": [],
   "source": [
    "new_train = pd.concat([X_train_encoded,y_train],axis=1)\n",
    "new_test = X_test_encoded"
   ]
  },
  {
   "cell_type": "code",
   "execution_count": 16,
   "metadata": {
    "ExecuteTime": {
     "end_time": "2020-05-09T12:42:14.552858Z",
     "start_time": "2020-05-09T12:42:14.541149Z"
    }
   },
   "outputs": [
    {
     "data": {
      "text/plain": [
       "0    211859\n",
       "1     48894\n",
       "Name: QuoteConversion_Flag, dtype: int64"
      ]
     },
     "execution_count": 16,
     "metadata": {},
     "output_type": "execute_result"
    }
   ],
   "source": [
    "new_train.QuoteConversion_Flag.value_counts()"
   ]
  },
  {
   "cell_type": "code",
   "execution_count": 9,
   "metadata": {
    "ExecuteTime": {
     "end_time": "2020-05-09T12:38:58.986196Z",
     "start_time": "2020-05-09T12:38:58.973961Z"
    }
   },
   "outputs": [
    {
     "data": {
      "text/plain": [
       "((260753, 297), (173836, 296))"
      ]
     },
     "execution_count": 9,
     "metadata": {},
     "output_type": "execute_result"
    }
   ],
   "source": [
    "new_train.shape,new_test.shape"
   ]
  },
  {
   "cell_type": "code",
   "execution_count": 17,
   "metadata": {
    "ExecuteTime": {
     "end_time": "2020-05-09T12:42:42.141998Z",
     "start_time": "2020-05-09T12:42:39.977198Z"
    }
   },
   "outputs": [],
   "source": [
    "# only choose important features in this iteration!\n",
    "important_col = ['SalesField5','Field7','PropertyField37','PersonalField10B','PersonalField10A',\n",
    "                'PersonalField12','PersonalField9','PropertyField29','SalesField4','SalesField1B',\n",
    "                 'SalesField6','SalesField1A','PersonalField84','PersonalField2',\n",
    "                 'PersonalField10B','PersonalField1','PersonalField82']\n",
    "\n",
    "selected_test = new_test[important_col]\n",
    "\n",
    "important_col.append('QuoteConversion_Flag')\n",
    "\n",
    "selected_train = new_train[important_col]"
   ]
  },
  {
   "cell_type": "code",
   "execution_count": 18,
   "metadata": {
    "ExecuteTime": {
     "end_time": "2020-05-09T12:42:53.009916Z",
     "start_time": "2020-05-09T12:42:53.002621Z"
    }
   },
   "outputs": [
    {
     "data": {
      "text/plain": [
       "((260753, 18), (173836, 17))"
      ]
     },
     "execution_count": 18,
     "metadata": {},
     "output_type": "execute_result"
    }
   ],
   "source": [
    "selected_train.shape,selected_test.shape"
   ]
  },
  {
   "cell_type": "code",
   "execution_count": 19,
   "metadata": {
    "ExecuteTime": {
     "end_time": "2020-05-09T12:43:18.350315Z",
     "start_time": "2020-05-09T12:43:04.252471Z"
    }
   },
   "outputs": [],
   "source": [
    "pd.DataFrame(selected_train).to_csv('../data/featured_data/train.csv',index=False)\n",
    "pd.DataFrame(selected_test).to_csv('../data/featured_data/test.csv',index=False)"
   ]
  },
  {
   "cell_type": "code",
   "execution_count": null,
   "metadata": {},
   "outputs": [],
   "source": []
  }
 ],
 "metadata": {
  "kernelspec": {
   "display_name": "Python 3",
   "language": "python",
   "name": "python3"
  },
  "language_info": {
   "codemirror_mode": {
    "name": "ipython",
    "version": 3
   },
   "file_extension": ".py",
   "mimetype": "text/x-python",
   "name": "python",
   "nbconvert_exporter": "python",
   "pygments_lexer": "ipython3",
   "version": "3.6.9"
  },
  "latex_envs": {
   "LaTeX_envs_menu_present": true,
   "autoclose": false,
   "autocomplete": true,
   "bibliofile": "biblio.bib",
   "cite_by": "apalike",
   "current_citInitial": 1,
   "eqLabelWithNumbers": true,
   "eqNumInitial": 1,
   "hotkeys": {
    "equation": "Ctrl-E",
    "itemize": "Ctrl-I"
   },
   "labels_anchors": false,
   "latex_user_defs": false,
   "report_style_numbering": false,
   "user_envs_cfg": false
  },
  "toc": {
   "base_numbering": 1,
   "nav_menu": {},
   "number_sections": true,
   "sideBar": true,
   "skip_h1_title": false,
   "title_cell": "Table of Contents",
   "title_sidebar": "Contents",
   "toc_cell": false,
   "toc_position": {},
   "toc_section_display": true,
   "toc_window_display": false
  }
 },
 "nbformat": 4,
 "nbformat_minor": 4
}
