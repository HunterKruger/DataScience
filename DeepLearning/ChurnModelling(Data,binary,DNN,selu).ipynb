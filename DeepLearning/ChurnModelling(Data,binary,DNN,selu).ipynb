{
 "cells": [
  {
   "cell_type": "code",
   "execution_count": 1,
   "metadata": {
    "ExecuteTime": {
     "end_time": "2020-05-04T14:54:29.150940Z",
     "start_time": "2020-05-04T14:54:26.611647Z"
    }
   },
   "outputs": [],
   "source": [
    "from sklearn.preprocessing import StandardScaler\n",
    "from sklearn.preprocessing import LabelEncoder\n",
    "from sklearn.model_selection import train_test_split\n",
    "import matplotlib.pyplot as plt\n",
    "import pandas as pd\n",
    "import numpy as np\n",
    "import tensorflow as tf\n",
    "from tensorflow import keras\n",
    "from tensorflow.keras import Sequential\n",
    "from tensorflow.keras.models import load_model\n",
    "from tensorflow.keras.layers import Flatten, Dense, BatchNormalization, Dropout, AlphaDropout\n",
    "from tensorflow.keras.callbacks import ModelCheckpoint\n",
    "from sklearn.metrics import confusion_matrix, accuracy_score\n",
    "%matplotlib inline"
   ]
  },
  {
   "cell_type": "code",
   "execution_count": 2,
   "metadata": {
    "ExecuteTime": {
     "end_time": "2020-05-04T14:54:29.190501Z",
     "start_time": "2020-05-04T14:54:29.152594Z"
    }
   },
   "outputs": [
    {
     "data": {
      "text/html": [
       "<div>\n",
       "<style scoped>\n",
       "    .dataframe tbody tr th:only-of-type {\n",
       "        vertical-align: middle;\n",
       "    }\n",
       "\n",
       "    .dataframe tbody tr th {\n",
       "        vertical-align: top;\n",
       "    }\n",
       "\n",
       "    .dataframe thead th {\n",
       "        text-align: right;\n",
       "    }\n",
       "</style>\n",
       "<table border=\"1\" class=\"dataframe\">\n",
       "  <thead>\n",
       "    <tr style=\"text-align: right;\">\n",
       "      <th></th>\n",
       "      <th>RowNumber</th>\n",
       "      <th>CustomerId</th>\n",
       "      <th>Surname</th>\n",
       "      <th>CreditScore</th>\n",
       "      <th>Geography</th>\n",
       "      <th>Gender</th>\n",
       "      <th>Age</th>\n",
       "      <th>Tenure</th>\n",
       "      <th>Balance</th>\n",
       "      <th>NumOfProducts</th>\n",
       "      <th>HasCrCard</th>\n",
       "      <th>IsActiveMember</th>\n",
       "      <th>EstimatedSalary</th>\n",
       "      <th>Exited</th>\n",
       "    </tr>\n",
       "  </thead>\n",
       "  <tbody>\n",
       "    <tr>\n",
       "      <th>0</th>\n",
       "      <td>1</td>\n",
       "      <td>15634602</td>\n",
       "      <td>Hargrave</td>\n",
       "      <td>619</td>\n",
       "      <td>France</td>\n",
       "      <td>Female</td>\n",
       "      <td>42</td>\n",
       "      <td>2</td>\n",
       "      <td>0.00</td>\n",
       "      <td>1</td>\n",
       "      <td>1</td>\n",
       "      <td>1</td>\n",
       "      <td>101348.88</td>\n",
       "      <td>1</td>\n",
       "    </tr>\n",
       "    <tr>\n",
       "      <th>1</th>\n",
       "      <td>2</td>\n",
       "      <td>15647311</td>\n",
       "      <td>Hill</td>\n",
       "      <td>608</td>\n",
       "      <td>Spain</td>\n",
       "      <td>Female</td>\n",
       "      <td>41</td>\n",
       "      <td>1</td>\n",
       "      <td>83807.86</td>\n",
       "      <td>1</td>\n",
       "      <td>0</td>\n",
       "      <td>1</td>\n",
       "      <td>112542.58</td>\n",
       "      <td>0</td>\n",
       "    </tr>\n",
       "    <tr>\n",
       "      <th>2</th>\n",
       "      <td>3</td>\n",
       "      <td>15619304</td>\n",
       "      <td>Onio</td>\n",
       "      <td>502</td>\n",
       "      <td>France</td>\n",
       "      <td>Female</td>\n",
       "      <td>42</td>\n",
       "      <td>8</td>\n",
       "      <td>159660.80</td>\n",
       "      <td>3</td>\n",
       "      <td>1</td>\n",
       "      <td>0</td>\n",
       "      <td>113931.57</td>\n",
       "      <td>1</td>\n",
       "    </tr>\n",
       "    <tr>\n",
       "      <th>3</th>\n",
       "      <td>4</td>\n",
       "      <td>15701354</td>\n",
       "      <td>Boni</td>\n",
       "      <td>699</td>\n",
       "      <td>France</td>\n",
       "      <td>Female</td>\n",
       "      <td>39</td>\n",
       "      <td>1</td>\n",
       "      <td>0.00</td>\n",
       "      <td>2</td>\n",
       "      <td>0</td>\n",
       "      <td>0</td>\n",
       "      <td>93826.63</td>\n",
       "      <td>0</td>\n",
       "    </tr>\n",
       "    <tr>\n",
       "      <th>4</th>\n",
       "      <td>5</td>\n",
       "      <td>15737888</td>\n",
       "      <td>Mitchell</td>\n",
       "      <td>850</td>\n",
       "      <td>Spain</td>\n",
       "      <td>Female</td>\n",
       "      <td>43</td>\n",
       "      <td>2</td>\n",
       "      <td>125510.82</td>\n",
       "      <td>1</td>\n",
       "      <td>1</td>\n",
       "      <td>1</td>\n",
       "      <td>79084.10</td>\n",
       "      <td>0</td>\n",
       "    </tr>\n",
       "  </tbody>\n",
       "</table>\n",
       "</div>"
      ],
      "text/plain": [
       "   RowNumber  CustomerId   Surname  CreditScore Geography  Gender  Age  \\\n",
       "0          1    15634602  Hargrave          619    France  Female   42   \n",
       "1          2    15647311      Hill          608     Spain  Female   41   \n",
       "2          3    15619304      Onio          502    France  Female   42   \n",
       "3          4    15701354      Boni          699    France  Female   39   \n",
       "4          5    15737888  Mitchell          850     Spain  Female   43   \n",
       "\n",
       "   Tenure    Balance  NumOfProducts  HasCrCard  IsActiveMember  \\\n",
       "0       2       0.00              1          1               1   \n",
       "1       1   83807.86              1          0               1   \n",
       "2       8  159660.80              3          1               0   \n",
       "3       1       0.00              2          0               0   \n",
       "4       2  125510.82              1          1               1   \n",
       "\n",
       "   EstimatedSalary  Exited  \n",
       "0        101348.88       1  \n",
       "1        112542.58       0  \n",
       "2        113931.57       1  \n",
       "3         93826.63       0  \n",
       "4         79084.10       0  "
      ]
     },
     "execution_count": 2,
     "metadata": {},
     "output_type": "execute_result"
    }
   ],
   "source": [
    "dataset = pd.read_csv('Churn_Modelling.csv')\n",
    "dataset.head(5)"
   ]
  },
  {
   "cell_type": "code",
   "execution_count": 3,
   "metadata": {
    "ExecuteTime": {
     "end_time": "2020-05-04T14:54:29.196484Z",
     "start_time": "2020-05-04T14:54:29.191499Z"
    }
   },
   "outputs": [],
   "source": [
    "X = dataset.drop(labels=['CustomerId','Surname','RowNumber','Exited'],axis=1)"
   ]
  },
  {
   "cell_type": "code",
   "execution_count": 4,
   "metadata": {
    "ExecuteTime": {
     "end_time": "2020-05-04T14:54:29.202468Z",
     "start_time": "2020-05-04T14:54:29.197481Z"
    }
   },
   "outputs": [],
   "source": [
    "y = dataset['Exited']"
   ]
  },
  {
   "cell_type": "code",
   "execution_count": 5,
   "metadata": {
    "ExecuteTime": {
     "end_time": "2020-05-04T14:54:29.209486Z",
     "start_time": "2020-05-04T14:54:29.203488Z"
    }
   },
   "outputs": [],
   "source": [
    "label1 = LabelEncoder()\n",
    "X['Geography']=label1.fit_transform(X['Geography'])"
   ]
  },
  {
   "cell_type": "code",
   "execution_count": 6,
   "metadata": {
    "ExecuteTime": {
     "end_time": "2020-05-04T14:54:29.216467Z",
     "start_time": "2020-05-04T14:54:29.210448Z"
    }
   },
   "outputs": [],
   "source": [
    "label2 = LabelEncoder()\n",
    "X['Gender']=label1.fit_transform(X['Gender'])"
   ]
  },
  {
   "cell_type": "code",
   "execution_count": 7,
   "metadata": {
    "ExecuteTime": {
     "end_time": "2020-05-04T14:54:29.231391Z",
     "start_time": "2020-05-04T14:54:29.219424Z"
    }
   },
   "outputs": [],
   "source": [
    "X = pd.get_dummies(X, drop_first=True, columns=['Geography'])"
   ]
  },
  {
   "cell_type": "code",
   "execution_count": 8,
   "metadata": {
    "ExecuteTime": {
     "end_time": "2020-05-04T14:54:29.241399Z",
     "start_time": "2020-05-04T14:54:29.233387Z"
    }
   },
   "outputs": [],
   "source": [
    "X = pd.get_dummies(X, drop_first=True, columns=['Gender'])"
   ]
  },
  {
   "cell_type": "markdown",
   "metadata": {},
   "source": [
    "## Feature standardization"
   ]
  },
  {
   "cell_type": "code",
   "execution_count": 9,
   "metadata": {
    "ExecuteTime": {
     "end_time": "2020-05-04T14:54:29.255328Z",
     "start_time": "2020-05-04T14:54:29.243359Z"
    }
   },
   "outputs": [],
   "source": [
    "X_train, X_test, y_train, y_test = train_test_split(X ,y, test_size=0.2, random_state=0, stratify=y)"
   ]
  },
  {
   "cell_type": "code",
   "execution_count": 10,
   "metadata": {
    "ExecuteTime": {
     "end_time": "2020-05-04T14:54:29.264343Z",
     "start_time": "2020-05-04T14:54:29.257323Z"
    }
   },
   "outputs": [],
   "source": [
    "scaler = StandardScaler()\n",
    "X_train = scaler.fit_transform(X_train)\n",
    "X_test = scaler.transform(X_test)"
   ]
  },
  {
   "cell_type": "markdown",
   "metadata": {},
   "source": [
    "## Build DNN"
   ]
  },
  {
   "cell_type": "code",
   "execution_count": 11,
   "metadata": {
    "ExecuteTime": {
     "end_time": "2020-05-04T14:54:31.903659Z",
     "start_time": "2020-05-04T14:54:29.266298Z"
    }
   },
   "outputs": [],
   "source": [
    "model = Sequential()\n",
    "model.add(Dense(128,activation='selu',kernel_initializer='lecun_normal',input_dim=X.shape[1]))\n",
    "#1st hidden layer with 128 nodes & input layer with 11 nodes (11 features)\n",
    "## model.add(BatchNormalization())  no need BN for selu cuz it can self-normalize\n",
    "model.add(AlphaDropout(0.3))  # use AlphaDropout instead of Dropout\n",
    "model.add(Dense(32,activation='selu',kernel_initializer='lecun_normal'))  \n",
    "model.add(AlphaDropout(0.2))\n",
    "model.add(Dense(1,activation='sigmoid')) #output layer, binary-classification"
   ]
  },
  {
   "cell_type": "code",
   "execution_count": 12,
   "metadata": {
    "ExecuteTime": {
     "end_time": "2020-05-04T14:54:31.961498Z",
     "start_time": "2020-05-04T14:54:31.905651Z"
    }
   },
   "outputs": [],
   "source": [
    "model.compile(optimizer='adam',loss='binary_crossentropy',metrics=['accuracy'])"
   ]
  },
  {
   "cell_type": "code",
   "execution_count": 13,
   "metadata": {
    "ExecuteTime": {
     "end_time": "2020-05-04T14:54:31.966484Z",
     "start_time": "2020-05-04T14:54:31.962495Z"
    }
   },
   "outputs": [],
   "source": [
    "epochs=30"
   ]
  },
  {
   "cell_type": "code",
   "execution_count": 14,
   "metadata": {
    "ExecuteTime": {
     "end_time": "2020-05-04T14:54:31.973466Z",
     "start_time": "2020-05-04T14:54:31.967484Z"
    }
   },
   "outputs": [],
   "source": [
    "checkpoint = ModelCheckpoint(\"churn_best.h5\", save_best_only=True)"
   ]
  },
  {
   "cell_type": "code",
   "execution_count": 15,
   "metadata": {
    "ExecuteTime": {
     "end_time": "2020-05-04T14:54:40.386001Z",
     "start_time": "2020-05-04T14:54:31.974465Z"
    }
   },
   "outputs": [
    {
     "name": "stdout",
     "output_type": "stream",
     "text": [
      "Train on 8000 samples, validate on 2000 samples\n",
      "Epoch 1/30\n",
      "8000/8000 [==============================] - 2s 220us/sample - loss: 0.7054 - accuracy: 0.6304 - val_loss: 0.4947 - val_accuracy: 0.7775\n",
      "Epoch 2/30\n",
      "8000/8000 [==============================] - 0s 28us/sample - loss: 0.5644 - accuracy: 0.7247 - val_loss: 0.4583 - val_accuracy: 0.8050\n",
      "Epoch 3/30\n",
      "8000/8000 [==============================] - 0s 27us/sample - loss: 0.5191 - accuracy: 0.7554 - val_loss: 0.4677 - val_accuracy: 0.8135\n",
      "Epoch 4/30\n",
      "8000/8000 [==============================] - 0s 26us/sample - loss: 0.4887 - accuracy: 0.7791 - val_loss: 0.4736 - val_accuracy: 0.8135\n",
      "Epoch 5/30\n",
      "8000/8000 [==============================] - 0s 33us/sample - loss: 0.4707 - accuracy: 0.7926 - val_loss: 0.4778 - val_accuracy: 0.8185\n",
      "Epoch 6/30\n",
      "8000/8000 [==============================] - 0s 27us/sample - loss: 0.4628 - accuracy: 0.7931 - val_loss: 0.4626 - val_accuracy: 0.8225\n",
      "Epoch 7/30\n",
      "8000/8000 [==============================] - 0s 28us/sample - loss: 0.4549 - accuracy: 0.7996 - val_loss: 0.4496 - val_accuracy: 0.8270\n",
      "Epoch 8/30\n",
      "8000/8000 [==============================] - 0s 28us/sample - loss: 0.4398 - accuracy: 0.8098 - val_loss: 0.4476 - val_accuracy: 0.8265\n",
      "Epoch 9/30\n",
      "8000/8000 [==============================] - 0s 28us/sample - loss: 0.4394 - accuracy: 0.8059 - val_loss: 0.4279 - val_accuracy: 0.8380\n",
      "Epoch 10/30\n",
      "8000/8000 [==============================] - 0s 29us/sample - loss: 0.4336 - accuracy: 0.8134 - val_loss: 0.4216 - val_accuracy: 0.8375\n",
      "Epoch 11/30\n",
      "8000/8000 [==============================] - 0s 29us/sample - loss: 0.4247 - accuracy: 0.8164 - val_loss: 0.4079 - val_accuracy: 0.8390\n",
      "Epoch 12/30\n",
      "8000/8000 [==============================] - 0s 30us/sample - loss: 0.4197 - accuracy: 0.8185 - val_loss: 0.3969 - val_accuracy: 0.8445\n",
      "Epoch 13/30\n",
      "8000/8000 [==============================] - 0s 32us/sample - loss: 0.4126 - accuracy: 0.8231 - val_loss: 0.3919 - val_accuracy: 0.8475\n",
      "Epoch 14/30\n",
      "8000/8000 [==============================] - 0s 30us/sample - loss: 0.4086 - accuracy: 0.8281 - val_loss: 0.3901 - val_accuracy: 0.8445\n",
      "Epoch 15/30\n",
      "8000/8000 [==============================] - 0s 28us/sample - loss: 0.4024 - accuracy: 0.8284 - val_loss: 0.3836 - val_accuracy: 0.8450\n",
      "Epoch 16/30\n",
      "8000/8000 [==============================] - 0s 28us/sample - loss: 0.3970 - accuracy: 0.8329 - val_loss: 0.3825 - val_accuracy: 0.8480\n",
      "Epoch 17/30\n",
      "8000/8000 [==============================] - 0s 29us/sample - loss: 0.3977 - accuracy: 0.8281 - val_loss: 0.3807 - val_accuracy: 0.8430\n",
      "Epoch 18/30\n",
      "8000/8000 [==============================] - 0s 26us/sample - loss: 0.3943 - accuracy: 0.8332 - val_loss: 0.3864 - val_accuracy: 0.8385\n",
      "Epoch 19/30\n",
      "8000/8000 [==============================] - 0s 26us/sample - loss: 0.3932 - accuracy: 0.8290 - val_loss: 0.3827 - val_accuracy: 0.8375\n",
      "Epoch 20/30\n",
      "8000/8000 [==============================] - 0s 26us/sample - loss: 0.3932 - accuracy: 0.8340 - val_loss: 0.3829 - val_accuracy: 0.8385\n",
      "Epoch 21/30\n",
      "8000/8000 [==============================] - 0s 27us/sample - loss: 0.3922 - accuracy: 0.8295 - val_loss: 0.3850 - val_accuracy: 0.8375\n",
      "Epoch 22/30\n",
      "8000/8000 [==============================] - 0s 31us/sample - loss: 0.3851 - accuracy: 0.8367 - val_loss: 0.3852 - val_accuracy: 0.8420\n",
      "Epoch 23/30\n",
      "8000/8000 [==============================] - 0s 28us/sample - loss: 0.3847 - accuracy: 0.8370 - val_loss: 0.3819 - val_accuracy: 0.8390\n",
      "Epoch 24/30\n",
      "8000/8000 [==============================] - 0s 27us/sample - loss: 0.3832 - accuracy: 0.8379 - val_loss: 0.3874 - val_accuracy: 0.8390\n",
      "Epoch 25/30\n",
      "8000/8000 [==============================] - 0s 29us/sample - loss: 0.3862 - accuracy: 0.8340 - val_loss: 0.3772 - val_accuracy: 0.8385\n",
      "Epoch 26/30\n",
      "8000/8000 [==============================] - 0s 33us/sample - loss: 0.3812 - accuracy: 0.8366 - val_loss: 0.3847 - val_accuracy: 0.8365\n",
      "Epoch 27/30\n",
      "8000/8000 [==============================] - 0s 27us/sample - loss: 0.3758 - accuracy: 0.8395 - val_loss: 0.3860 - val_accuracy: 0.8375\n",
      "Epoch 28/30\n",
      "8000/8000 [==============================] - 0s 26us/sample - loss: 0.3746 - accuracy: 0.8375 - val_loss: 0.3945 - val_accuracy: 0.8365\n",
      "Epoch 29/30\n",
      "8000/8000 [==============================] - 0s 26us/sample - loss: 0.3764 - accuracy: 0.8415 - val_loss: 0.3874 - val_accuracy: 0.8405\n",
      "Epoch 30/30\n",
      "8000/8000 [==============================] - 0s 25us/sample - loss: 0.3758 - accuracy: 0.8426 - val_loss: 0.3927 - val_accuracy: 0.8375\n"
     ]
    }
   ],
   "source": [
    "history = model.fit(X_train, y_train.to_numpy(), validation_data=(\n",
    "    X_test, y_test.to_numpy()), batch_size=128, epochs=epochs, verbose=1, callbacks=[checkpoint])"
   ]
  },
  {
   "cell_type": "code",
   "execution_count": 16,
   "metadata": {
    "ExecuteTime": {
     "end_time": "2020-05-04T14:54:40.657386Z",
     "start_time": "2020-05-04T14:54:40.387996Z"
    }
   },
   "outputs": [
    {
     "data": {
      "image/png": "[encoded data removed]",
      "text/plain": [
       "<Figure size 432x288 with 1 Axes>"
      ]
     },
     "metadata": {
      "needs_background": "light"
     },
     "output_type": "display_data"
    },
    {
     "data": {
      "image/png": "[encoded data removed]",
      "text/plain": [
       "<Figure size 432x288 with 1 Axes>"
      ]
     },
     "metadata": {
      "needs_background": "light"
     },
     "output_type": "display_data"
    }
   ],
   "source": [
    "epoch_range=range(1,epochs+1)\n",
    "plt.plot(epoch_range,history.history['accuracy'])\n",
    "plt.plot(epoch_range,history.history['val_accuracy'])\n",
    "plt.title('Model accuracy')\n",
    "plt.ylabel('Accuracy')\n",
    "plt.xlabel('Epoch')\n",
    "plt.legend(['Train','Val'],loc='upper left')\n",
    "plt.show()\n",
    "\n",
    "plt.plot(history.history['loss'])\n",
    "plt.plot(history.history['val_loss'])\n",
    "plt.title('Model loss')\n",
    "plt.ylabel('Loss')\n",
    "plt.xlabel('Epoch')\n",
    "plt.legend(['Train','Val'],loc='upper left')\n",
    "plt.show()"
   ]
  },
  {
   "cell_type": "markdown",
   "metadata": {},
   "source": [
    "## Evaluate"
   ]
  },
  {
   "cell_type": "code",
   "execution_count": 17,
   "metadata": {
    "ExecuteTime": {
     "end_time": "2020-05-04T14:54:41.514078Z",
     "start_time": "2020-05-04T14:54:40.658384Z"
    }
   },
   "outputs": [],
   "source": [
    "model_best = load_model('churn_best.h5')"
   ]
  },
  {
   "cell_type": "code",
   "execution_count": 18,
   "metadata": {
    "ExecuteTime": {
     "end_time": "2020-05-04T14:54:41.670450Z",
     "start_time": "2020-05-04T14:54:41.515771Z"
    }
   },
   "outputs": [],
   "source": [
    "y_pred = model.predict_classes(X_test)"
   ]
  },
  {
   "cell_type": "code",
   "execution_count": 19,
   "metadata": {
    "ExecuteTime": {
     "end_time": "2020-05-04T14:54:41.679424Z",
     "start_time": "2020-05-04T14:54:41.671443Z"
    }
   },
   "outputs": [
    {
     "data": {
      "text/plain": [
       "array([[1444,  149],\n",
       "       [ 176,  231]], dtype=int64)"
      ]
     },
     "execution_count": 19,
     "metadata": {},
     "output_type": "execute_result"
    }
   ],
   "source": [
    "confusion_matrix(y_test, y_pred)"
   ]
  },
  {
   "cell_type": "code",
   "execution_count": 20,
   "metadata": {
    "ExecuteTime": {
     "end_time": "2020-05-04T14:54:41.686414Z",
     "start_time": "2020-05-04T14:54:41.680455Z"
    }
   },
   "outputs": [
    {
     "data": {
      "text/plain": [
       "0.8375"
      ]
     },
     "execution_count": 20,
     "metadata": {},
     "output_type": "execute_result"
    }
   ],
   "source": [
    "accuracy_score(y_test,y_pred)"
   ]
  }
 ],
 "metadata": {
  "kernelspec": {
   "display_name": "Python 3",
   "language": "python",
   "name": "python3"
  },
  "language_info": {
   "codemirror_mode": {
    "name": "ipython",
    "version": 3
   },
   "file_extension": ".py",
   "mimetype": "text/x-python",
   "name": "python",
   "nbconvert_exporter": "python",
   "pygments_lexer": "ipython3",
   "version": "3.6.5"
  },
  "latex_envs": {
   "LaTeX_envs_menu_present": true,
   "autoclose": false,
   "autocomplete": true,
   "bibliofile": "biblio.bib",
   "cite_by": "apalike",
   "current_citInitial": 1,
   "eqLabelWithNumbers": true,
   "eqNumInitial": 1,
   "hotkeys": {
    "equation": "Ctrl-E",
    "itemize": "Ctrl-I"
   },
   "labels_anchors": false,
   "latex_user_defs": false,
   "report_style_numbering": false,
   "user_envs_cfg": false
  },
  "toc": {
   "base_numbering": 1,
   "nav_menu": {},
   "number_sections": true,
   "sideBar": true,
   "skip_h1_title": false,
   "title_cell": "Table of Contents",
   "title_sidebar": "Contents",
   "toc_cell": false,
   "toc_position": {},
   "toc_section_display": true,
   "toc_window_display": false
  }
 },
 "nbformat": 4,
 "nbformat_minor": 2
}
