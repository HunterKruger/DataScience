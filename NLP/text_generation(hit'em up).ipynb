{
 "cells": [
  {
   "cell_type": "code",
   "execution_count": 1,
   "metadata": {
    "ExecuteTime": {
     "end_time": "2020-05-21T16:01:00.586431Z",
     "start_time": "2020-05-21T16:00:58.496700Z"
    }
   },
   "outputs": [],
   "source": [
    "import tensorflow as tf\n",
    "import numpy as np\n",
    "from tensorflow import keras\n",
    "from tensorflow.keras.preprocessing.text import Tokenizer\n",
    "from tensorflow.keras.preprocessing.sequence import pad_sequences\n",
    "from tensorflow.keras import Sequential\n",
    "from tensorflow.keras.layers import LSTM,Dropout,Dense,Embedding,BatchNormalization,Dropout,GlobalAveragePooling1D,Bidirectional\n",
    "from tensorflow.keras.optimizers import Adam,SGD\n",
    "from tensorflow.keras.utils import to_categorical\n",
    "\n",
    "import matplotlib.pyplot as plt\n",
    "%matplotlib inline"
   ]
  },
  {
   "cell_type": "code",
   "execution_count": 2,
   "metadata": {
    "ExecuteTime": {
     "end_time": "2020-05-21T16:01:00.591415Z",
     "start_time": "2020-05-21T16:01:00.587425Z"
    }
   },
   "outputs": [],
   "source": [
    "tokenizer = Tokenizer()"
   ]
  },
  {
   "cell_type": "code",
   "execution_count": 3,
   "metadata": {
    "ExecuteTime": {
     "end_time": "2020-05-21T16:01:00.605887Z",
     "start_time": "2020-05-21T16:01:00.593410Z"
    }
   },
   "outputs": [],
   "source": [
    "# data = \"Over hill \\n over dale \\n Thorough bush \\n thorough brier \\n Over park, over pale \\n Thorough flood \\n thorough fire \\n I do wander everywhere \\n Swifter than the moon s sphere \\n And I serve the Fairy Queen \\n To dew her orbs upon the green \\n The cowslips tall her pensioners be \\n In their gold coats spots you see \\n Those be rubies \\n fairy favours \\n In those freckles live their savours \\n I must go seek some dewdrops here \\n And hang a pearl in every cowslip s ear\"\n",
    "# corpus = data.lower().split(\"\\n\")\n",
    "# print(corpus)  # a list of sentences"
   ]
  },
  {
   "cell_type": "code",
   "execution_count": 4,
   "metadata": {
    "ExecuteTime": {
     "end_time": "2020-05-21T16:01:00.614861Z",
     "start_time": "2020-05-21T16:01:00.606882Z"
    },
    "scrolled": true
   },
   "outputs": [
    {
     "name": "stdout",
     "output_type": "stream",
     "text": [
      "[\"I ain't got no motherfuckin friends\", \"That's why I fucked yo' bitch, you fat motherfucker\", '(Take money) West side, Bad Boy killers (take money)', 'You know who the realest is niggaz we bring it to you (take money)', '(Take money)', 'First off, fuck your bitch and the click you claim', 'Westside when we ride come equipped with game', 'You claim to be a player but I fucked your wife', 'We bust on Bad Boy niggaz fucked for life', \"Plus Puffy tryin' ta see me weak hearts I rip\", 'Biggie Smalls and Junior M.A.F.I.A. Some mark-ass bitches', \"We keep on comin' while we runnin' for yo' jewels\", 'Steady gunnin, keep on bustin at them fools, you know the rules', \"Lil' Ceaser, go ask ya homie how I leave ya\", 'Cut your young ass up, leave you in pieces, now be deceased', \"Lil' Kim, don't fuck around with real G's\", \"Quick to snatch yo' ugly ass off the streets, so fuck peace\", \"I let them niggaz know it's on for life\", 'So let the Westside ride tonight', 'Bad Boy murdered on wax and killed', \"Fuck wit' me and get yo' caps peeled, you know, see\", 'Grab ya glocks, when you see Tupac', 'Call the cops, when you see Tupac, uh', \"Who shot me, but ya punks didn't finish\", 'Now ya bout to feel the wrath of a menace', \"Nigga, I hit em' up\", 'Check this out, you motherfuckers know what time it is (take money)', \"I don't even know why I'm on this track (take money)\", \"Y'all niggaz ain't even on my level\", \"I'ma let my little homies ride on you (take money)\", 'Bitch made-ass bad boy bitches deal with it!', 'Get out the way yo, get out the way yo', 'Biggie Smalls just got dropped', 'Little Moo, pass the mac, and let me hit him in his back', \"Frank White need to get spanked right, for settin' traps\", \"Little accident murderers, and I ain't never heard-a ya\", \"Poisinous gats attack when I'm servin' ya\", 'Spank ya shank ya whole style when I gank', \"Guard your rank, 'cause I'ma slam your ass in the paint\", \"Puffy weaker than the fuckin' block I'm runnin through nigga\", \"And I'm smokin' Junior M.A.F.I.A. In front of you nigga\", \"With the ready power tuckin' my Guess under my Eddie Bauer\", \"Ya clout petty sour, I get packages every hour to hit 'em up\", 'Grab ya glocks, when you see Tupac', 'Call the cops, when you see Tupac, uh', \"Who shot me, but ya punks didn't finish\", 'Now ya bout to feel the wrath of a menace', \"Nigga, I hit em' up\", \"Peep how we do it, keep it real, it's penitentiary steel\", \"This ain't no freestyle battle\", 'All you niggaz gettin killed with ya mouths open', \"Tryin' to come up offa me, you in the clouds hopin'\", \"Smokin dope it's like a sherm high niggaz think they learned to fly\", 'But they burn motherfucker, you deserve to die', \"Talkin' bout you gettin' money but it's funny to me\", \"All you niggaz livin' bummy why you fuckin' with me?\", \"I'm a self made millionaire\", \"Thug livin' out a prison, pistols in the air\", 'Biggie, remember when I used to let you sleep on the couch', 'And beg a bitch to let you sleep in the house', \"Now it's all about Versace, you copied my style\", \"Five shots couldn't drop me, I took it and smiled\", \"Now I'm bout to set the record straight\", \"With my AK I'm still the thug that you love to hate\", \"Motherfucker, I hit 'em up\", \"I'm from N-E-W Jers'\", 'Where plenty of murders occurs', 'No points or commas, we bring drama to all you herbs', 'Now go check the scenario', \"Little Ceas' I'll bring you fake G's to your knees\", 'Copping pleas in de Janeiro', 'Little Kim, is you coked up or doped up?', 'Get your little Junior Whopper click smoked up', 'What the fuck, is you stupid?', 'I take money, crash and mash through Brooklyn', 'With my click looting, shooting and polluting your block', 'With a 15-shot cocked Glock to your knot', 'Outlaw MAFIA clique moving up another notch', 'And your pop stars popped and get mopped and dropped', 'And all your fake ass East coast props', 'Brainstormed and locked', \"You's a, beat biter\", 'A Pac style taker', \"I'll tell you to your face you ain't shit but a faker\", 'Softer than Alize with a chaser', 'About to get murdered for the paper', 'E.D.I Amin approach the scene of the caper', \"Like a loc, with Little Ceas' in a choke\", \"Gun totin' smoke. We ain't no motherfucking joke\", 'Thug Life, niggas better be known', 'Be approaching in the wide open, gun smoking', \"No need for hoping, it's a battle lost\", 'I got em crossed as soon as the funk is bopping off', 'Nigga, I hit em up!', 'Now you tell me who won', 'I see them, they run', \"They don't wanna see us (take money)\", 'Whole Junior M.A.F.I.A. Clique', 'Dressing up trying to be us (take money)', 'How the fuck they gonna be the mob when we always on our job? (Take money)', 'We millionaires', \"Killing ain't fair but somebody got to do it (take money)\", 'Oh yeah, Mobb Deep (take money) you wanna fuck with us', 'You little young-ass motherfuckers (take money)', \"Don't one of you niggas got sickle-cell or something (take money)\", \"You're fucking with me, nigga you fuck around and catch a seizure or a heart attack (take money)\", 'You better back the fuck up before you get smacked the fuck up', 'This is how we do it on our side', 'Any of you niggas from New York that want to bring it, bring it', \"But we ain't singing, we bringing drama\", 'Fuck you and your motherfucking mama', \"We're gonna kill all you motherfuckers\", 'Now when I came out, I told you it was just about Biggie', 'Then everybody had to open their mouth with a motherfucking opinion', 'Well this is how we gonna do this', 'Fuck Mobb Deep, fuck Biggie', 'Fuck Bad Boy as a staff, record label and as a motherfucking crew', 'And if you want to be down with Bad Boy, then fuck you too', 'Chino XL, fuck you too', 'All you motherfuckers, fuck you too (take money, take money)', \"All of y'all mother fuckers, fuck you, die slow, motherfucker\", \"My .44 make sure all y'all kids don't grow\", \"You motherfuckers can't be us or see us\", \"We motherfuckin' Thug Life-riders, Westside 'til we die\", 'Out here in California, nigga, we warned ya', \"We'll bomb on you motherfuckers. We do our job\", \"You think you mob? Nigga, we the motherfuckin' mob\", \"Ain't nothing but killers and the real niggas\", 'All you motherfuckers feel us', 'Our shit goes triple and 4-quadruple', '(Take money)', \"You niggas laugh 'cause our staff got\", \"Guns under they motherfuckin' belts\", 'You know how it is, when we drop records they felt', \"You niggas can't feel it, we the realest\", \"Fuck 'em, we Bad Boy-killers\"]\n"
     ]
    }
   ],
   "source": [
    "file = open(\"hit'em up.txt\", 'r', encoding='utf-8')\n",
    "corpus = []\n",
    "for line in file.readlines():\n",
    "    line = line.strip('\\n')\n",
    "    corpus.append(line)\n",
    "print(corpus)"
   ]
  },
  {
   "cell_type": "code",
   "execution_count": 5,
   "metadata": {
    "ExecuteTime": {
     "end_time": "2020-05-21T16:01:00.624834Z",
     "start_time": "2020-05-21T16:01:00.616873Z"
    },
    "scrolled": true
   },
   "outputs": [
    {
     "name": "stdout",
     "output_type": "stream",
     "text": [
      "['i aint got no motherfuckin friends', 'thats why i fucked yo bitch you fat motherfucker', 'take money west side bad boy killers take money', 'you know who the realest is niggaz we bring it to you take money', 'take money', 'first off fuck your bitch and the click you claim', 'westside when we ride come equipped with game', 'you claim to be a player but i fucked your wife', 'we bust on bad boy niggaz fucked for life', 'plus puffy tryin ta see me weak hearts i rip', 'biggie smalls and junior mafia some markass bitches', 'we keep on comin while we runnin for yo jewels', 'steady gunnin keep on bustin at them fools you know the rules', 'lil ceaser go ask ya homie how i leave ya', 'cut your young ass up leave you in pieces now be deceased', 'lil kim dont fuck around with real gs', 'quick to snatch yo ugly ass off the streets so fuck peace', 'i let them niggaz know its on for life', 'so let the westside ride tonight', 'bad boy murdered on wax and killed', 'fuck wit me and get yo caps peeled you know see', 'grab ya glocks when you see tupac', 'call the cops when you see tupac uh', 'who shot me but ya punks didnt finish', 'now ya bout to feel the wrath of a menace', 'nigga i hit em up', 'check this out you motherfuckers know what time it is take money', 'i dont even know why im on this track take money', 'yall niggaz aint even on my level', 'ima let my little homies ride on you take money', 'bitch madeass bad boy bitches deal with it', 'get out the way yo get out the way yo', 'biggie smalls just got dropped', 'little moo pass the mac and let me hit him in his back', 'frank white need to get spanked right for settin traps', 'little accident murderers and i aint never hearda ya', 'poisinous gats attack when im servin ya', 'spank ya shank ya whole style when i gank', 'guard your rank cause ima slam your ass in the paint', 'puffy weaker than the fuckin block im runnin through nigga', 'and im smokin junior mafia in front of you nigga', 'with the ready power tuckin my guess under my eddie bauer', 'ya clout petty sour i get packages every hour to hit em up', 'grab ya glocks when you see tupac', 'call the cops when you see tupac uh', 'who shot me but ya punks didnt finish', 'now ya bout to feel the wrath of a menace', 'nigga i hit em up', 'peep how we do it keep it real its penitentiary steel', 'this aint no freestyle battle', 'all you niggaz gettin killed with ya mouths open', 'tryin to come up offa me you in the clouds hopin', 'smokin dope its like a sherm high niggaz think they learned to fly', 'but they burn motherfucker you deserve to die', 'talkin bout you gettin money but its funny to me', 'all you niggaz livin bummy why you fuckin with me', 'im a self made millionaire', 'thug livin out a prison pistols in the air', 'biggie remember when i used to let you sleep on the couch', 'and beg a bitch to let you sleep in the house', 'now its all about versace you copied my style', 'five shots couldnt drop me i took it and smiled', 'now im bout to set the record straight', 'with my ak im still the thug that you love to hate', 'motherfucker i hit em up', 'im from new jers', 'where plenty of murders occurs', 'no points or commas we bring drama to all you herbs', 'now go check the scenario', 'little ceas ill bring you fake gs to your knees', 'copping pleas in de janeiro', 'little kim is you coked up or doped up', 'get your little junior whopper click smoked up', 'what the fuck is you stupid', 'i take money crash and mash through brooklyn', 'with my click looting shooting and polluting your block', 'with a  cocked glock to your knot', 'outlaw mafia clique moving up another notch', 'and your pop stars popped and get mopped and dropped', 'and all your fake ass east coast props', 'brainstormed and locked', 'yous a beat biter', 'a pac style taker', 'ill tell you to your face you aint shit but a faker', 'softer than alize with a chaser', 'about to get murdered for the paper', 'edi amin approach the scene of the caper', 'like a loc with little ceas in a choke', 'gun totin smoke we aint no motherfucking joke', 'thug life niggas better be known', 'be approaching in the wide open gun smoking', 'no need for hoping its a battle lost', 'i got em crossed as soon as the funk is bopping off', 'nigga i hit em up', 'now you tell me who won', 'i see them they run', 'they dont wanna see us take money', 'whole junior mafia clique', 'dressing up trying to be us take money', 'how the fuck they gonna be the mob when we always on our job take money', 'we millionaires', 'killing aint fair but somebody got to do it take money', 'oh yeah mobb deep take money you wanna fuck with us', 'you little youngass motherfuckers take money', 'dont one of you niggas got sicklecell or something take money', 'youre fucking with me nigga you fuck around and catch a seizure or a heart attack take money', 'you better back the fuck up before you get smacked the fuck up', 'this is how we do it on our side', 'any of you niggas from new york that want to bring it bring it', 'but we aint singing we bringing drama', 'fuck you and your motherfucking mama', 'were gonna kill all you motherfuckers', 'now when i came out i told you it was just about biggie', 'then everybody had to open their mouth with a motherfucking opinion', 'well this is how we gonna do this', 'fuck mobb deep fuck biggie', 'fuck bad boy as a staff record label and as a motherfucking crew', 'and if you want to be down with bad boy then fuck you too', 'chino xl fuck you too', 'all you motherfuckers fuck you too take money take money', 'all of yall mother fuckers fuck you die slow motherfucker', 'my  make sure all yall kids dont grow', 'you motherfuckers cant be us or see us', 'we motherfuckin thug liferiders westside til we die', 'out here in california nigga we warned ya', 'well bomb on you motherfuckers we do our job', 'you think you mob nigga we the motherfuckin mob', 'aint nothing but killers and the real niggas', 'all you motherfuckers feel us', 'our shit goes triple and ', 'take money', 'you niggas laugh cause our staff got', 'guns under they motherfuckin belts', 'you know how it is when we drop records they felt', 'you niggas cant feel it we the realest', 'fuck em we bad boykillers']\n"
     ]
    }
   ],
   "source": [
    "import re\n",
    "import string\n",
    "# use regular expression to clean data\n",
    "new_corpus = []\n",
    "for sentence in corpus:\n",
    "    sentence = sentence.lower() # make all text in lower case\n",
    "    sentence = re.sub('\\[.*?\\]', '', sentence) # remove [] and the text inside []\n",
    "    sentence = re.sub('[%s]' % re.escape(string.punctuation), '', sentence)  # remove all punctuations\n",
    "    sentence = re.sub('\\w*\\d\\w*', '', sentence) # remove any words that contain numbers in them\n",
    "    new_corpus.append(sentence)\n",
    "print(new_corpus)"
   ]
  },
  {
   "cell_type": "code",
   "execution_count": 18,
   "metadata": {
    "ExecuteTime": {
     "end_time": "2020-05-21T16:04:12.697606Z",
     "start_time": "2020-05-21T16:04:12.690624Z"
    }
   },
   "outputs": [
    {
     "name": "stdout",
     "output_type": "stream",
     "text": [
      "432\n"
     ]
    }
   ],
   "source": [
    "tokenizer.fit_on_texts(new_corpus)\n",
    "total_words = len(tokenizer.word_index)\n",
    "print(total_words)"
   ]
  },
  {
   "cell_type": "code",
   "execution_count": 7,
   "metadata": {
    "ExecuteTime": {
     "end_time": "2020-05-21T16:01:00.643784Z",
     "start_time": "2020-05-21T16:01:00.638797Z"
    },
    "scrolled": true
   },
   "outputs": [
    {
     "name": "stdout",
     "output_type": "stream",
     "text": [
      "{'you': 1, 'the': 2, 'to': 3, 'we': 4, 'and': 5, 'i': 6, 'money': 7, 'a': 8, 'take': 9, 'fuck': 10, 'with': 11, 'ya': 12, 'up': 13, 'it': 14, 'your': 15, 'on': 16, 'when': 17, 'me': 18, 'in': 19, 'all': 20, 'aint': 21, 'but': 22, 'see': 23, 'get': 24, 'is': 25, 'be': 26, 'now': 27, 'of': 28, 'nigga': 29, 'im': 30, 'my': 31, 'little': 32, 'bad': 33, 'know': 34, 'niggaz': 35, 'em': 36, 'motherfuckers': 37, 'they': 38, 'got': 39, 'yo': 40, 'boy': 41, 'for': 42, 'how': 43, 'let': 44, 'its': 45, 'hit': 46, 'this': 47, 'out': 48, 'niggas': 49, 'us': 50, 'no': 51, 'bring': 52, 'biggie': 53, 'dont': 54, 'do': 55, 'or': 56, 'our': 57, 'motherfuckin': 58, 'bitch': 59, 'motherfucker': 60, 'who': 61, 'junior': 62, 'mafia': 63, 'ass': 64, 'tupac': 65, 'bout': 66, 'feel': 67, 'thug': 68, 'motherfucking': 69, 'as': 70, 'why': 71, 'fucked': 72, 'off': 73, 'click': 74, 'westside': 75, 'ride': 76, 'life': 77, 'keep': 78, 'them': 79, 'real': 80, 'yall': 81, 'style': 82, 'open': 83, 'die': 84, 'about': 85, 'gonna': 86, 'mob': 87, 'too': 88, 'side': 89, 'killers': 90, 'realest': 91, 'claim': 92, 'come': 93, 'puffy': 94, 'tryin': 95, 'smalls': 96, 'bitches': 97, 'runnin': 98, 'lil': 99, 'go': 100, 'leave': 101, 'kim': 102, 'around': 103, 'gs': 104, 'so': 105, 'murdered': 106, 'killed': 107, 'grab': 108, 'glocks': 109, 'call': 110, 'cops': 111, 'uh': 112, 'shot': 113, 'punks': 114, 'didnt': 115, 'finish': 116, 'wrath': 117, 'menace': 118, 'check': 119, 'what': 120, 'even': 121, 'ima': 122, 'way': 123, 'just': 124, 'dropped': 125, 'back': 126, 'need': 127, 'attack': 128, 'whole': 129, 'cause': 130, 'than': 131, 'fuckin': 132, 'block': 133, 'through': 134, 'smokin': 135, 'under': 136, 'battle': 137, 'gettin': 138, 'like': 139, 'think': 140, 'livin': 141, 'sleep': 142, 'drop': 143, 'record': 144, 'that': 145, 'from': 146, 'new': 147, 'drama': 148, 'ceas': 149, 'ill': 150, 'fake': 151, 'clique': 152, 'tell': 153, 'shit': 154, 'gun': 155, 'better': 156, 'wanna': 157, 'job': 158, 'mobb': 159, 'deep': 160, 'want': 161, 'then': 162, 'well': 163, 'staff': 164, 'cant': 165, 'friends': 166, 'thats': 167, 'fat': 168, 'west': 169, 'first': 170, 'equipped': 171, 'game': 172, 'player': 173, 'wife': 174, 'bust': 175, 'plus': 176, 'ta': 177, 'weak': 178, 'hearts': 179, 'rip': 180, 'some': 181, 'markass': 182, 'comin': 183, 'while': 184, 'jewels': 185, 'steady': 186, 'gunnin': 187, 'bustin': 188, 'at': 189, 'fools': 190, 'rules': 191, 'ceaser': 192, 'ask': 193, 'homie': 194, 'cut': 195, 'young': 196, 'pieces': 197, 'deceased': 198, 'quick': 199, 'snatch': 200, 'ugly': 201, 'streets': 202, 'peace': 203, 'tonight': 204, 'wax': 205, 'wit': 206, 'caps': 207, 'peeled': 208, 'time': 209, 'track': 210, 'level': 211, 'homies': 212, 'madeass': 213, 'deal': 214, 'moo': 215, 'pass': 216, 'mac': 217, 'him': 218, 'his': 219, 'frank': 220, 'white': 221, 'spanked': 222, 'right': 223, 'settin': 224, 'traps': 225, 'accident': 226, 'murderers': 227, 'never': 228, 'hearda': 229, 'poisinous': 230, 'gats': 231, 'servin': 232, 'spank': 233, 'shank': 234, 'gank': 235, 'guard': 236, 'rank': 237, 'slam': 238, 'paint': 239, 'weaker': 240, 'front': 241, 'ready': 242, 'power': 243, 'tuckin': 244, 'guess': 245, 'eddie': 246, 'bauer': 247, 'clout': 248, 'petty': 249, 'sour': 250, 'packages': 251, 'every': 252, 'hour': 253, 'peep': 254, 'penitentiary': 255, 'steel': 256, 'freestyle': 257, 'mouths': 258, 'offa': 259, 'clouds': 260, 'hopin': 261, 'dope': 262, 'sherm': 263, 'high': 264, 'learned': 265, 'fly': 266, 'burn': 267, 'deserve': 268, 'talkin': 269, 'funny': 270, 'bummy': 271, 'self': 272, 'made': 273, 'millionaire': 274, 'prison': 275, 'pistols': 276, 'air': 277, 'remember': 278, 'used': 279, 'couch': 280, 'beg': 281, 'house': 282, 'versace': 283, 'copied': 284, 'five': 285, 'shots': 286, 'couldnt': 287, 'took': 288, 'smiled': 289, 'set': 290, 'straight': 291, 'ak': 292, 'still': 293, 'love': 294, 'hate': 295, 'jers': 296, 'where': 297, 'plenty': 298, 'murders': 299, 'occurs': 300, 'points': 301, 'commas': 302, 'herbs': 303, 'scenario': 304, 'knees': 305, 'copping': 306, 'pleas': 307, 'de': 308, 'janeiro': 309, 'coked': 310, 'doped': 311, 'whopper': 312, 'smoked': 313, 'stupid': 314, 'crash': 315, 'mash': 316, 'brooklyn': 317, 'looting': 318, 'shooting': 319, 'polluting': 320, 'cocked': 321, 'glock': 322, 'knot': 323, 'outlaw': 324, 'moving': 325, 'another': 326, 'notch': 327, 'pop': 328, 'stars': 329, 'popped': 330, 'mopped': 331, 'east': 332, 'coast': 333, 'props': 334, 'brainstormed': 335, 'locked': 336, 'yous': 337, 'beat': 338, 'biter': 339, 'pac': 340, 'taker': 341, 'face': 342, 'faker': 343, 'softer': 344, 'alize': 345, 'chaser': 346, 'paper': 347, 'edi': 348, 'amin': 349, 'approach': 350, 'scene': 351, 'caper': 352, 'loc': 353, 'choke': 354, 'totin': 355, 'smoke': 356, 'joke': 357, 'known': 358, 'approaching': 359, 'wide': 360, 'smoking': 361, 'hoping': 362, 'lost': 363, 'crossed': 364, 'soon': 365, 'funk': 366, 'bopping': 367, 'won': 368, 'run': 369, 'dressing': 370, 'trying': 371, 'always': 372, 'millionaires': 373, 'killing': 374, 'fair': 375, 'somebody': 376, 'oh': 377, 'yeah': 378, 'youngass': 379, 'one': 380, 'sicklecell': 381, 'something': 382, 'youre': 383, 'fucking': 384, 'catch': 385, 'seizure': 386, 'heart': 387, 'before': 388, 'smacked': 389, 'any': 390, 'york': 391, 'singing': 392, 'bringing': 393, 'mama': 394, 'were': 395, 'kill': 396, 'came': 397, 'told': 398, 'was': 399, 'everybody': 400, 'had': 401, 'their': 402, 'mouth': 403, 'opinion': 404, 'label': 405, 'crew': 406, 'if': 407, 'down': 408, 'chino': 409, 'xl': 410, 'mother': 411, 'fuckers': 412, 'slow': 413, 'make': 414, 'sure': 415, 'kids': 416, 'grow': 417, 'liferiders': 418, 'til': 419, 'here': 420, 'california': 421, 'warned': 422, 'bomb': 423, 'nothing': 424, 'goes': 425, 'triple': 426, 'laugh': 427, 'guns': 428, 'belts': 429, 'records': 430, 'felt': 431, 'boykillers': 432}\n"
     ]
    }
   ],
   "source": [
    "word_index = tokenizer.word_index\n",
    "print(word_index)"
   ]
  },
  {
   "cell_type": "code",
   "execution_count": 8,
   "metadata": {
    "ExecuteTime": {
     "end_time": "2020-05-21T16:01:00.656750Z",
     "start_time": "2020-05-21T16:01:00.648770Z"
    }
   },
   "outputs": [
    {
     "name": "stdout",
     "output_type": "stream",
     "text": [
      "[[6, 39], [6, 39, 51], [6, 39, 51, 58], [6, 39, 51, 58, 166], [71, 6], [71, 6, 72], [71, 6, 72, 59], [71, 6, 72, 59, 1], [71, 6, 72, 59, 1, 168], [71, 6, 72, 59, 1, 168, 60], [9, 7], [9, 7, 169], [9, 7, 169, 89], [9, 7, 169, 89, 33], [9, 7, 169, 89, 33, 41], [9, 7, 169, 89, 33, 41, 90], [9, 7, 169, 89, 33, 41, 90, 9], [9, 7, 169, 89, 33, 41, 90, 9, 7], [1, 34], [1, 34, 61], [1, 34, 61, 2], [1, 34, 61, 2, 91], [1, 34, 61, 2, 91, 25], [1, 34, 61, 2, 91, 25, 35], [1, 34, 61, 2, 91, 25, 35, 4], [1, 34, 61, 2, 91, 25, 35, 4, 52], [1, 34, 61, 2, 91, 25, 35, 4, 52, 14], [1, 34, 61, 2, 91, 25, 35, 4, 52, 14, 3], [1, 34, 61, 2, 91, 25, 35, 4, 52, 14, 3, 1], [1, 34, 61, 2, 91, 25, 35, 4, 52, 14, 3, 1, 9], [1, 34, 61, 2, 91, 25, 35, 4, 52, 14, 3, 1, 9, 7], [9, 7], [170, 73], [170, 73, 10], [170, 73, 10, 15], [170, 73, 10, 15, 59], [170, 73, 10, 15, 59, 5], [170, 73, 10, 15, 59, 5, 2], [170, 73, 10, 15, 59, 5, 2, 74], [170, 73, 10, 15, 59, 5, 2, 74, 1], [170, 73, 10, 15, 59, 5, 2, 74, 1, 92], [75, 17], [75, 17, 4], [75, 17, 4, 76], [75, 17, 4, 76, 93], [75, 17, 4, 76, 93, 171], [75, 17, 4, 76, 93, 171, 11], [75, 17, 4, 76, 93, 171, 11, 172], [1, 92], [1, 92, 3], [1, 92, 3, 26], [1, 92, 3, 26, 8], [1, 92, 3, 26, 8, 173], [1, 92, 3, 26, 8, 173, 22], [1, 92, 3, 26, 8, 173, 22, 6], [1, 92, 3, 26, 8, 173, 22, 6, 72], [1, 92, 3, 26, 8, 173, 22, 6, 72, 15], [1, 92, 3, 26, 8, 173, 22, 6, 72, 15, 174], [4, 175], [4, 175, 16], [4, 175, 16, 33], [4, 175, 16, 33, 41], [4, 175, 16, 33, 41, 35], [4, 175, 16, 33, 41, 35, 72], [4, 175, 16, 33, 41, 35, 72, 42], [4, 175, 16, 33, 41, 35, 72, 42, 77], [176, 94], [176, 94, 177], [176, 94, 177, 23], [176, 94, 177, 23, 18], [176, 94, 177, 23, 18, 178], [176, 94, 177, 23, 18, 178, 179], [176, 94, 177, 23, 18, 178, 179, 6], [176, 94, 177, 23, 18, 178, 179, 6, 180], [53, 96], [53, 96, 5], [53, 96, 5, 62], [53, 96, 5, 62, 8], [53, 96, 5, 62, 8, 6], [53, 96, 5, 62, 8, 6, 8], [53, 96, 5, 62, 8, 6, 8, 181], [53, 96, 5, 62, 8, 6, 8, 181, 64], [53, 96, 5, 62, 8, 6, 8, 181, 64, 97], [4, 78], [4, 78, 16], [4, 78, 16, 184], [4, 78, 16, 184, 4], [4, 78, 16, 184, 4, 42], [4, 78, 16, 184, 4, 42, 185], [186, 187], [186, 187, 78], [186, 187, 78, 16], [186, 187, 78, 16, 188], [186, 187, 78, 16, 188, 189], [186, 187, 78, 16, 188, 189, 79], [186, 187, 78, 16, 188, 189, 79, 190], [186, 187, 78, 16, 188, 189, 79, 190, 1], [186, 187, 78, 16, 188, 189, 79, 190, 1, 34], [186, 187, 78, 16, 188, 189, 79, 190, 1, 34, 2], [186, 187, 78, 16, 188, 189, 79, 190, 1, 34, 2, 191], [192, 100], [192, 100, 193], [192, 100, 193, 12], [192, 100, 193, 12, 194], [192, 100, 193, 12, 194, 43], [192, 100, 193, 12, 194, 43, 6], [192, 100, 193, 12, 194, 43, 6, 101], [192, 100, 193, 12, 194, 43, 6, 101, 12], [195, 15], [195, 15, 196], [195, 15, 196, 64], [195, 15, 196, 64, 13], [195, 15, 196, 64, 13, 101], [195, 15, 196, 64, 13, 101, 1], [195, 15, 196, 64, 13, 101, 1, 19], [195, 15, 196, 64, 13, 101, 1, 19, 197], [195, 15, 196, 64, 13, 101, 1, 19, 197, 27], [195, 15, 196, 64, 13, 101, 1, 19, 197, 27, 26], [195, 15, 196, 64, 13, 101, 1, 19, 197, 27, 26, 198], [102, 10], [102, 10, 103], [102, 10, 103, 11], [102, 10, 103, 11, 80], [199, 3], [199, 3, 200], [199, 3, 200, 201], [199, 3, 200, 201, 64], [199, 3, 200, 201, 64, 73], [199, 3, 200, 201, 64, 73, 2], [199, 3, 200, 201, 64, 73, 2, 202], [199, 3, 200, 201, 64, 73, 2, 202, 105], [199, 3, 200, 201, 64, 73, 2, 202, 105, 10], [199, 3, 200, 201, 64, 73, 2, 202, 105, 10, 203], [6, 44], [6, 44, 79], [6, 44, 79, 35], [6, 44, 79, 35, 34], [6, 44, 79, 35, 34, 16], [6, 44, 79, 35, 34, 16, 42], [6, 44, 79, 35, 34, 16, 42, 77], [105, 44], [105, 44, 2], [105, 44, 2, 75], [105, 44, 2, 75, 76], [105, 44, 2, 75, 76, 204], [33, 41], [33, 41, 106], [33, 41, 106, 16], [33, 41, 106, 16, 205], [33, 41, 106, 16, 205, 5], [33, 41, 106, 16, 205, 5, 107], [10, 18], [10, 18, 5], [10, 18, 5, 24], [10, 18, 5, 24, 207], [10, 18, 5, 24, 207, 208], [10, 18, 5, 24, 207, 208, 1], [10, 18, 5, 24, 207, 208, 1, 34], [10, 18, 5, 24, 207, 208, 1, 34, 23], [108, 12], [108, 12, 109], [108, 12, 109, 17], [108, 12, 109, 17, 1], [108, 12, 109, 17, 1, 23], [108, 12, 109, 17, 1, 23, 65], [110, 2], [110, 2, 111], [110, 2, 111, 17], [110, 2, 111, 17, 1], [110, 2, 111, 17, 1, 23], [110, 2, 111, 17, 1, 23, 65], [110, 2, 111, 17, 1, 23, 65, 112], [61, 113], [61, 113, 18], [61, 113, 18, 22], [61, 113, 18, 22, 12], [61, 113, 18, 22, 12, 114], [61, 113, 18, 22, 12, 114, 116], [27, 12], [27, 12, 66], [27, 12, 66, 3], [27, 12, 66, 3, 67], [27, 12, 66, 3, 67, 2], [27, 12, 66, 3, 67, 2, 117], [27, 12, 66, 3, 67, 2, 117, 28], [27, 12, 66, 3, 67, 2, 117, 28, 8], [27, 12, 66, 3, 67, 2, 117, 28, 8, 118], [29, 6], [29, 6, 46], [29, 6, 46, 13], [119, 47], [119, 47, 48], [119, 47, 48, 1], [119, 47, 48, 1, 37], [119, 47, 48, 1, 37, 34], [119, 47, 48, 1, 37, 34, 120], [119, 47, 48, 1, 37, 34, 120, 209], [119, 47, 48, 1, 37, 34, 120, 209, 14], [119, 47, 48, 1, 37, 34, 120, 209, 14, 25], [119, 47, 48, 1, 37, 34, 120, 209, 14, 25, 9], [119, 47, 48, 1, 37, 34, 120, 209, 14, 25, 9, 7], [6, 121], [6, 121, 34], [6, 121, 34, 71], [6, 121, 34, 71, 16], [6, 121, 34, 71, 16, 47], [6, 121, 34, 71, 16, 47, 210], [6, 121, 34, 71, 16, 47, 210, 9], [6, 121, 34, 71, 16, 47, 210, 9, 7], [35, 121], [35, 121, 16], [35, 121, 16, 31], [35, 121, 16, 31, 211], [44, 31], [44, 31, 32], [44, 31, 32, 212], [44, 31, 32, 212, 76], [44, 31, 32, 212, 76, 16], [44, 31, 32, 212, 76, 16, 1], [44, 31, 32, 212, 76, 16, 1, 9], [44, 31, 32, 212, 76, 16, 1, 9, 7], [59, 273], [59, 273, 64], [59, 273, 64, 33], [59, 273, 64, 33, 41], [59, 273, 64, 33, 41, 97], [59, 273, 64, 33, 41, 97, 214], [59, 273, 64, 33, 41, 97, 214, 11], [59, 273, 64, 33, 41, 97, 214, 11, 14], [24, 48], [24, 48, 2], [24, 48, 2, 123], [24, 48, 2, 123, 40], [24, 48, 2, 123, 40, 24], [24, 48, 2, 123, 40, 24, 48], [24, 48, 2, 123, 40, 24, 48, 2], [24, 48, 2, 123, 40, 24, 48, 2, 123], [24, 48, 2, 123, 40, 24, 48, 2, 123, 40], [53, 96], [53, 96, 124], [53, 96, 124, 39], [53, 96, 124, 39, 125], [32, 215], [32, 215, 216], [32, 215, 216, 2], [32, 215, 216, 2, 217], [32, 215, 216, 2, 217, 5], [32, 215, 216, 2, 217, 5, 44], [32, 215, 216, 2, 217, 5, 44, 18], [32, 215, 216, 2, 217, 5, 44, 18, 46], [32, 215, 216, 2, 217, 5, 44, 18, 46, 218], [32, 215, 216, 2, 217, 5, 44, 18, 46, 218, 19], [32, 215, 216, 2, 217, 5, 44, 18, 46, 218, 19, 219], [32, 215, 216, 2, 217, 5, 44, 18, 46, 218, 19, 219, 126], [220, 221], [220, 221, 127], [220, 221, 127, 3], [220, 221, 127, 3, 24], [220, 221, 127, 3, 24, 222], [220, 221, 127, 3, 24, 222, 223], [220, 221, 127, 3, 24, 222, 223, 42], [220, 221, 127, 3, 24, 222, 223, 42, 225], [32, 226], [32, 226, 227], [32, 226, 227, 5], [32, 226, 227, 5, 6], [32, 226, 227, 5, 6, 228], [32, 226, 227, 5, 6, 228, 8], [32, 226, 227, 5, 6, 228, 8, 12], [230, 231], [230, 231, 128], [230, 231, 128, 17], [230, 231, 128, 17, 12], [233, 12], [233, 12, 234], [233, 12, 234, 12], [233, 12, 234, 12, 129], [233, 12, 234, 12, 129, 82], [233, 12, 234, 12, 129, 82, 17], [233, 12, 234, 12, 129, 82, 17, 6], [233, 12, 234, 12, 129, 82, 17, 6, 235], [236, 15], [236, 15, 237], [236, 15, 237, 238], [236, 15, 237, 238, 15], [236, 15, 237, 238, 15, 64], [236, 15, 237, 238, 15, 64, 19], [236, 15, 237, 238, 15, 64, 19, 2], [236, 15, 237, 238, 15, 64, 19, 2, 239], [94, 240], [94, 240, 131], [94, 240, 131, 2], [94, 240, 131, 2, 133], [94, 240, 131, 2, 133, 98], [94, 240, 131, 2, 133, 98, 134], [94, 240, 131, 2, 133, 98, 134, 29], [5, 62], [5, 62, 8], [5, 62, 8, 6], [5, 62, 8, 6, 8], [5, 62, 8, 6, 8, 19], [5, 62, 8, 6, 8, 19, 241], [5, 62, 8, 6, 8, 19, 241, 28], [5, 62, 8, 6, 8, 19, 241, 28, 1], [5, 62, 8, 6, 8, 19, 241, 28, 1, 29], [11, 2], [11, 2, 242], [11, 2, 242, 243], [11, 2, 242, 243, 31], [11, 2, 242, 243, 31, 245], [11, 2, 242, 243, 31, 245, 136], [11, 2, 242, 243, 31, 245, 136, 31], [11, 2, 242, 243, 31, 245, 136, 31, 246], [11, 2, 242, 243, 31, 245, 136, 31, 246, 247], [12, 248], [12, 248, 249], [12, 248, 249, 250], [12, 248, 249, 250, 6], [12, 248, 249, 250, 6, 24], [12, 248, 249, 250, 6, 24, 251], [12, 248, 249, 250, 6, 24, 251, 252], [12, 248, 249, 250, 6, 24, 251, 252, 253], [12, 248, 249, 250, 6, 24, 251, 252, 253, 3], [12, 248, 249, 250, 6, 24, 251, 252, 253, 3, 46], [12, 248, 249, 250, 6, 24, 251, 252, 253, 3, 46, 13], [108, 12], [108, 12, 109], [108, 12, 109, 17], [108, 12, 109, 17, 1], [108, 12, 109, 17, 1, 23], [108, 12, 109, 17, 1, 23, 65], [110, 2], [110, 2, 111], [110, 2, 111, 17], [110, 2, 111, 17, 1], [110, 2, 111, 17, 1, 23], [110, 2, 111, 17, 1, 23, 65], [110, 2, 111, 17, 1, 23, 65, 112], [61, 113], [61, 113, 18], [61, 113, 18, 22], [61, 113, 18, 22, 12], [61, 113, 18, 22, 12, 114], [61, 113, 18, 22, 12, 114, 116], [27, 12], [27, 12, 66], [27, 12, 66, 3], [27, 12, 66, 3, 67], [27, 12, 66, 3, 67, 2], [27, 12, 66, 3, 67, 2, 117], [27, 12, 66, 3, 67, 2, 117, 28], [27, 12, 66, 3, 67, 2, 117, 28, 8], [27, 12, 66, 3, 67, 2, 117, 28, 8, 118], [29, 6], [29, 6, 46], [29, 6, 46, 13], [254, 43], [254, 43, 4], [254, 43, 4, 55], [254, 43, 4, 55, 14], [254, 43, 4, 55, 14, 78], [254, 43, 4, 55, 14, 78, 14], [254, 43, 4, 55, 14, 78, 14, 80], [254, 43, 4, 55, 14, 78, 14, 80, 255], [254, 43, 4, 55, 14, 78, 14, 80, 255, 256], [47, 51], [47, 51, 257], [47, 51, 257, 137], [20, 1], [20, 1, 35], [20, 1, 35, 138], [20, 1, 35, 138, 107], [20, 1, 35, 138, 107, 11], [20, 1, 35, 138, 107, 11, 12], [20, 1, 35, 138, 107, 11, 12, 258], [20, 1, 35, 138, 107, 11, 12, 258, 83], [3, 93], [3, 93, 13], [3, 93, 13, 259], [3, 93, 13, 259, 18], [3, 93, 13, 259, 18, 1], [3, 93, 13, 259, 18, 1, 19], [3, 93, 13, 259, 18, 1, 19, 2], [3, 93, 13, 259, 18, 1, 19, 2, 260], [135, 262], [135, 262, 139], [135, 262, 139, 8], [135, 262, 139, 8, 263], [135, 262, 139, 8, 263, 264], [135, 262, 139, 8, 263, 264, 35], [135, 262, 139, 8, 263, 264, 35, 140], [135, 262, 139, 8, 263, 264, 35, 140, 38], [135, 262, 139, 8, 263, 264, 35, 140, 38, 265], [135, 262, 139, 8, 263, 264, 35, 140, 38, 265, 3], [135, 262, 139, 8, 263, 264, 35, 140, 38, 265, 3, 266], [22, 38], [22, 38, 267], [22, 38, 267, 60], [22, 38, 267, 60, 1], [22, 38, 267, 60, 1, 268], [22, 38, 267, 60, 1, 268, 3], [22, 38, 267, 60, 1, 268, 3, 84], [66, 1], [66, 1, 7], [66, 1, 7, 22], [66, 1, 7, 22, 270], [66, 1, 7, 22, 270, 3], [66, 1, 7, 22, 270, 3, 18], [20, 1], [20, 1, 35], [20, 1, 35, 271], [20, 1, 35, 271, 71], [20, 1, 35, 271, 71, 1], [20, 1, 35, 271, 71, 1, 11], [20, 1, 35, 271, 71, 1, 11, 18], [8, 272], [8, 272, 273], [8, 272, 273, 274], [68, 48], [68, 48, 8], [68, 48, 8, 275], [68, 48, 8, 275, 276], [68, 48, 8, 275, 276, 19], [68, 48, 8, 275, 276, 19, 2], [68, 48, 8, 275, 276, 19, 2, 277], [53, 278], [53, 278, 17], [53, 278, 17, 6], [53, 278, 17, 6, 279], [53, 278, 17, 6, 279, 3], [53, 278, 17, 6, 279, 3, 44], [53, 278, 17, 6, 279, 3, 44, 1], [53, 278, 17, 6, 279, 3, 44, 1, 142], [53, 278, 17, 6, 279, 3, 44, 1, 142, 16], [53, 278, 17, 6, 279, 3, 44, 1, 142, 16, 2], [53, 278, 17, 6, 279, 3, 44, 1, 142, 16, 2, 280], [5, 281], [5, 281, 8], [5, 281, 8, 59], [5, 281, 8, 59, 3], [5, 281, 8, 59, 3, 44], [5, 281, 8, 59, 3, 44, 1], [5, 281, 8, 59, 3, 44, 1, 142], [5, 281, 8, 59, 3, 44, 1, 142, 19], [5, 281, 8, 59, 3, 44, 1, 142, 19, 2], [5, 281, 8, 59, 3, 44, 1, 142, 19, 2, 282], [27, 20], [27, 20, 85], [27, 20, 85, 283], [27, 20, 85, 283, 1], [27, 20, 85, 283, 1, 284], [27, 20, 85, 283, 1, 284, 31], [27, 20, 85, 283, 1, 284, 31, 82], [285, 286], [285, 286, 143], [285, 286, 143, 18], [285, 286, 143, 18, 6], [285, 286, 143, 18, 6, 288], [285, 286, 143, 18, 6, 288, 14], [285, 286, 143, 18, 6, 288, 14, 5], [285, 286, 143, 18, 6, 288, 14, 5, 289], [27, 66], [27, 66, 3], [27, 66, 3, 290], [27, 66, 3, 290, 2], [27, 66, 3, 290, 2, 144], [27, 66, 3, 290, 2, 144, 291], [11, 31], [11, 31, 292], [11, 31, 292, 293], [11, 31, 292, 293, 2], [11, 31, 292, 293, 2, 68], [11, 31, 292, 293, 2, 68, 145], [11, 31, 292, 293, 2, 68, 145, 1], [11, 31, 292, 293, 2, 68, 145, 1, 294], [11, 31, 292, 293, 2, 68, 145, 1, 294, 3], [11, 31, 292, 293, 2, 68, 145, 1, 294, 3, 295], [60, 6], [60, 6, 46], [60, 6, 46, 13], [297, 298], [297, 298, 28], [297, 298, 28, 299], [297, 298, 28, 299, 300], [51, 301], [51, 301, 56], [51, 301, 56, 302], [51, 301, 56, 302, 4], [51, 301, 56, 302, 4, 52], [51, 301, 56, 302, 4, 52, 148], [51, 301, 56, 302, 4, 52, 148, 3], [51, 301, 56, 302, 4, 52, 148, 3, 20], [51, 301, 56, 302, 4, 52, 148, 3, 20, 1], [51, 301, 56, 302, 4, 52, 148, 3, 20, 1, 303], [27, 100], [27, 100, 119], [27, 100, 119, 2], [27, 100, 119, 2, 304], [32, 52], [32, 52, 1], [32, 52, 1, 151], [32, 52, 1, 151, 3], [32, 52, 1, 151, 3, 15], [32, 52, 1, 151, 3, 15, 305], [306, 307], [306, 307, 19], [306, 307, 19, 308], [306, 307, 19, 308, 309], [32, 102], [32, 102, 25], [32, 102, 25, 1], [32, 102, 25, 1, 310], [32, 102, 25, 1, 310, 13], [32, 102, 25, 1, 310, 13, 56], [32, 102, 25, 1, 310, 13, 56, 311], [32, 102, 25, 1, 310, 13, 56, 311, 13], [24, 15], [24, 15, 32], [24, 15, 32, 62], [24, 15, 32, 62, 312], [24, 15, 32, 62, 312, 74], [24, 15, 32, 62, 312, 74, 313], [24, 15, 32, 62, 312, 74, 313, 13], [120, 2], [120, 2, 10], [120, 2, 10, 25], [120, 2, 10, 25, 1], [120, 2, 10, 25, 1, 314], [6, 9], [6, 9, 7], [6, 9, 7, 315], [6, 9, 7, 315, 5], [6, 9, 7, 315, 5, 316], [6, 9, 7, 315, 5, 316, 134], [6, 9, 7, 315, 5, 316, 134, 317], [11, 31], [11, 31, 74], [11, 31, 74, 318], [11, 31, 74, 318, 319], [11, 31, 74, 318, 319, 5], [11, 31, 74, 318, 319, 5, 320], [11, 31, 74, 318, 319, 5, 320, 15], [11, 31, 74, 318, 319, 5, 320, 15, 133], [11, 8], [11, 8, 113], [11, 8, 113, 321], [11, 8, 113, 321, 322], [11, 8, 113, 321, 322, 3], [11, 8, 113, 321, 322, 3, 15], [11, 8, 113, 321, 322, 3, 15, 323], [324, 63], [324, 63, 152], [324, 63, 152, 325], [324, 63, 152, 325, 13], [324, 63, 152, 325, 13, 326], [324, 63, 152, 325, 13, 326, 327], [5, 15], [5, 15, 328], [5, 15, 328, 329], [5, 15, 328, 329, 330], [5, 15, 328, 329, 330, 5], [5, 15, 328, 329, 330, 5, 24], [5, 15, 328, 329, 330, 5, 24, 331], [5, 15, 328, 329, 330, 5, 24, 331, 5], [5, 15, 328, 329, 330, 5, 24, 331, 5, 125], [5, 20], [5, 20, 15], [5, 20, 15, 151], [5, 20, 15, 151, 64], [5, 20, 15, 151, 64, 332], [5, 20, 15, 151, 64, 332, 333], [5, 20, 15, 151, 64, 332, 333, 334], [335, 5], [335, 5, 336], [8, 338], [8, 338, 339], [8, 340], [8, 340, 82], [8, 340, 82, 341], [153, 1], [153, 1, 3], [153, 1, 3, 15], [153, 1, 3, 15, 342], [153, 1, 3, 15, 342, 1], [153, 1, 3, 15, 342, 1, 154], [153, 1, 3, 15, 342, 1, 154, 22], [153, 1, 3, 15, 342, 1, 154, 22, 8], [153, 1, 3, 15, 342, 1, 154, 22, 8, 343], [344, 131], [344, 131, 345], [344, 131, 345, 11], [344, 131, 345, 11, 8], [344, 131, 345, 11, 8, 346], [85, 3], [85, 3, 24], [85, 3, 24, 106], [85, 3, 24, 106, 42], [85, 3, 24, 106, 42, 2], [85, 3, 24, 106, 42, 2, 347], [6, 349], [6, 349, 350], [6, 349, 350, 2], [6, 349, 350, 2, 351], [6, 349, 350, 2, 351, 28], [6, 349, 350, 2, 351, 28, 2], [6, 349, 350, 2, 351, 28, 2, 352], [139, 8], [139, 8, 353], [139, 8, 353, 11], [139, 8, 353, 11, 32], [139, 8, 353, 11, 32, 19], [139, 8, 353, 11, 32, 19, 8], [139, 8, 353, 11, 32, 19, 8, 354], [155, 356], [155, 356, 4], [155, 356, 4, 51], [155, 356, 4, 51, 69], [155, 356, 4, 51, 69, 357], [68, 77], [68, 77, 49], [68, 77, 49, 156], [68, 77, 49, 156, 26], [68, 77, 49, 156, 26, 358], [26, 359], [26, 359, 19], [26, 359, 19, 2], [26, 359, 19, 2, 360], [26, 359, 19, 2, 360, 83], [26, 359, 19, 2, 360, 83, 155], [26, 359, 19, 2, 360, 83, 155, 361], [51, 127], [51, 127, 42], [51, 127, 42, 362], [51, 127, 42, 362, 8], [51, 127, 42, 362, 8, 137], [51, 127, 42, 362, 8, 137, 363], [6, 39], [6, 39, 36], [6, 39, 36, 364], [6, 39, 36, 364, 70], [6, 39, 36, 364, 70, 365], [6, 39, 36, 364, 70, 365, 70], [6, 39, 36, 364, 70, 365, 70, 2], [6, 39, 36, 364, 70, 365, 70, 2, 366], [6, 39, 36, 364, 70, 365, 70, 2, 366, 25], [6, 39, 36, 364, 70, 365, 70, 2, 366, 25, 367], [6, 39, 36, 364, 70, 365, 70, 2, 366, 25, 367, 73], [29, 6], [29, 6, 46], [29, 6, 46, 36], [29, 6, 46, 36, 13], [27, 1], [27, 1, 153], [27, 1, 153, 18], [27, 1, 153, 18, 61], [27, 1, 153, 18, 61, 368], [6, 23], [6, 23, 79], [6, 23, 79, 38], [6, 23, 79, 38, 369], [38, 157], [38, 157, 23], [38, 157, 23, 50], [38, 157, 23, 50, 9], [38, 157, 23, 50, 9, 7], [129, 62], [129, 62, 8], [129, 62, 8, 6], [129, 62, 8, 6, 8], [129, 62, 8, 6, 8, 152], [370, 13], [370, 13, 371], [370, 13, 371, 3], [370, 13, 371, 3, 26], [370, 13, 371, 3, 26, 50], [370, 13, 371, 3, 26, 50, 9], [370, 13, 371, 3, 26, 50, 9, 7], [43, 2], [43, 2, 10], [43, 2, 10, 38], [43, 2, 10, 38, 86], [43, 2, 10, 38, 86, 26], [43, 2, 10, 38, 86, 26, 2], [43, 2, 10, 38, 86, 26, 2, 87], [43, 2, 10, 38, 86, 26, 2, 87, 17], [43, 2, 10, 38, 86, 26, 2, 87, 17, 4], [43, 2, 10, 38, 86, 26, 2, 87, 17, 4, 372], [43, 2, 10, 38, 86, 26, 2, 87, 17, 4, 372, 16], [43, 2, 10, 38, 86, 26, 2, 87, 17, 4, 372, 16, 57], [43, 2, 10, 38, 86, 26, 2, 87, 17, 4, 372, 16, 57, 158], [43, 2, 10, 38, 86, 26, 2, 87, 17, 4, 372, 16, 57, 158, 9], [43, 2, 10, 38, 86, 26, 2, 87, 17, 4, 372, 16, 57, 158, 9, 7], [4, 373], [374, 375], [374, 375, 22], [374, 375, 22, 376], [374, 375, 22, 376, 39], [374, 375, 22, 376, 39, 3], [374, 375, 22, 376, 39, 3, 55], [374, 375, 22, 376, 39, 3, 55, 14], [374, 375, 22, 376, 39, 3, 55, 14, 9], [374, 375, 22, 376, 39, 3, 55, 14, 9, 7], [377, 378], [377, 378, 159], [377, 378, 159, 160], [377, 378, 159, 160, 9], [377, 378, 159, 160, 9, 7], [377, 378, 159, 160, 9, 7, 1], [377, 378, 159, 160, 9, 7, 1, 157], [377, 378, 159, 160, 9, 7, 1, 157, 10], [377, 378, 159, 160, 9, 7, 1, 157, 10, 11], [377, 378, 159, 160, 9, 7, 1, 157, 10, 11, 50], [1, 32], [1, 32, 196], [1, 32, 196, 64], [1, 32, 196, 64, 37], [1, 32, 196, 64, 37, 9], [1, 32, 196, 64, 37, 9, 7], [380, 28], [380, 28, 1], [380, 28, 1, 49], [380, 28, 1, 49, 39], [380, 28, 1, 49, 39, 56], [380, 28, 1, 49, 39, 56, 382], [380, 28, 1, 49, 39, 56, 382, 9], [380, 28, 1, 49, 39, 56, 382, 9, 7], [384, 11], [384, 11, 18], [384, 11, 18, 29], [384, 11, 18, 29, 1], [384, 11, 18, 29, 1, 10], [384, 11, 18, 29, 1, 10, 103], [384, 11, 18, 29, 1, 10, 103, 5], [384, 11, 18, 29, 1, 10, 103, 5, 385], [384, 11, 18, 29, 1, 10, 103, 5, 385, 8], [384, 11, 18, 29, 1, 10, 103, 5, 385, 8, 386], [384, 11, 18, 29, 1, 10, 103, 5, 385, 8, 386, 56], [384, 11, 18, 29, 1, 10, 103, 5, 385, 8, 386, 56, 8], [384, 11, 18, 29, 1, 10, 103, 5, 385, 8, 386, 56, 8, 387], [384, 11, 18, 29, 1, 10, 103, 5, 385, 8, 386, 56, 8, 387, 128], [384, 11, 18, 29, 1, 10, 103, 5, 385, 8, 386, 56, 8, 387, 128, 9], [384, 11, 18, 29, 1, 10, 103, 5, 385, 8, 386, 56, 8, 387, 128, 9, 7], [1, 156], [1, 156, 126], [1, 156, 126, 2], [1, 156, 126, 2, 10], [1, 156, 126, 2, 10, 13], [1, 156, 126, 2, 10, 13, 388], [1, 156, 126, 2, 10, 13, 388, 1], [1, 156, 126, 2, 10, 13, 388, 1, 24], [1, 156, 126, 2, 10, 13, 388, 1, 24, 389], [1, 156, 126, 2, 10, 13, 388, 1, 24, 389, 2], [1, 156, 126, 2, 10, 13, 388, 1, 24, 389, 2, 10], [1, 156, 126, 2, 10, 13, 388, 1, 24, 389, 2, 10, 13], [47, 25], [47, 25, 43], [47, 25, 43, 4], [47, 25, 43, 4, 55], [47, 25, 43, 4, 55, 14], [47, 25, 43, 4, 55, 14, 16], [47, 25, 43, 4, 55, 14, 16, 57], [47, 25, 43, 4, 55, 14, 16, 57, 89], [390, 28], [390, 28, 1], [390, 28, 1, 49], [390, 28, 1, 49, 146], [390, 28, 1, 49, 146, 147], [390, 28, 1, 49, 146, 147, 391], [390, 28, 1, 49, 146, 147, 391, 145], [390, 28, 1, 49, 146, 147, 391, 145, 161], [390, 28, 1, 49, 146, 147, 391, 145, 161, 3], [390, 28, 1, 49, 146, 147, 391, 145, 161, 3, 52], [390, 28, 1, 49, 146, 147, 391, 145, 161, 3, 52, 14], [390, 28, 1, 49, 146, 147, 391, 145, 161, 3, 52, 14, 52], [390, 28, 1, 49, 146, 147, 391, 145, 161, 3, 52, 14, 52, 14], [22, 4], [22, 4, 392], [22, 4, 392, 4], [22, 4, 392, 4, 393], [22, 4, 392, 4, 393, 148], [10, 1], [10, 1, 5], [10, 1, 5, 15], [10, 1, 5, 15, 69], [10, 1, 5, 15, 69, 394], [86, 396], [86, 396, 20], [86, 396, 20, 1], [86, 396, 20, 1, 37], [27, 17], [27, 17, 6], [27, 17, 6, 397], [27, 17, 6, 397, 48], [27, 17, 6, 397, 48, 6], [27, 17, 6, 397, 48, 6, 398], [27, 17, 6, 397, 48, 6, 398, 1], [27, 17, 6, 397, 48, 6, 398, 1, 14], [27, 17, 6, 397, 48, 6, 398, 1, 14, 399], [27, 17, 6, 397, 48, 6, 398, 1, 14, 399, 124], [27, 17, 6, 397, 48, 6, 398, 1, 14, 399, 124, 85], [27, 17, 6, 397, 48, 6, 398, 1, 14, 399, 124, 85, 53], [162, 400], [162, 400, 401], [162, 400, 401, 3], [162, 400, 401, 3, 83], [162, 400, 401, 3, 83, 402], [162, 400, 401, 3, 83, 402, 403], [162, 400, 401, 3, 83, 402, 403, 11], [162, 400, 401, 3, 83, 402, 403, 11, 8], [162, 400, 401, 3, 83, 402, 403, 11, 8, 69], [162, 400, 401, 3, 83, 402, 403, 11, 8, 69, 404], [163, 47], [163, 47, 25], [163, 47, 25, 43], [163, 47, 25, 43, 4], [163, 47, 25, 43, 4, 86], [163, 47, 25, 43, 4, 86, 55], [163, 47, 25, 43, 4, 86, 55, 47], [10, 159], [10, 159, 160], [10, 159, 160, 10], [10, 159, 160, 10, 53], [10, 33], [10, 33, 41], [10, 33, 41, 70], [10, 33, 41, 70, 8], [10, 33, 41, 70, 8, 164], [10, 33, 41, 70, 8, 164, 144], [10, 33, 41, 70, 8, 164, 144, 405], [10, 33, 41, 70, 8, 164, 144, 405, 5], [10, 33, 41, 70, 8, 164, 144, 405, 5, 70], [10, 33, 41, 70, 8, 164, 144, 405, 5, 70, 8], [10, 33, 41, 70, 8, 164, 144, 405, 5, 70, 8, 69], [10, 33, 41, 70, 8, 164, 144, 405, 5, 70, 8, 69, 406], [5, 407], [5, 407, 1], [5, 407, 1, 161], [5, 407, 1, 161, 3], [5, 407, 1, 161, 3, 26], [5, 407, 1, 161, 3, 26, 408], [5, 407, 1, 161, 3, 26, 408, 11], [5, 407, 1, 161, 3, 26, 408, 11, 33], [5, 407, 1, 161, 3, 26, 408, 11, 33, 41], [5, 407, 1, 161, 3, 26, 408, 11, 33, 41, 162], [5, 407, 1, 161, 3, 26, 408, 11, 33, 41, 162, 10], [5, 407, 1, 161, 3, 26, 408, 11, 33, 41, 162, 10, 1], [5, 407, 1, 161, 3, 26, 408, 11, 33, 41, 162, 10, 1, 88], [409, 410], [409, 410, 10], [409, 410, 10, 1], [409, 410, 10, 1, 88], [20, 1], [20, 1, 37], [20, 1, 37, 10], [20, 1, 37, 10, 1], [20, 1, 37, 10, 1, 88], [20, 1, 37, 10, 1, 88, 9], [20, 1, 37, 10, 1, 88, 9, 7], [20, 1, 37, 10, 1, 88, 9, 7, 9], [20, 1, 37, 10, 1, 88, 9, 7, 9, 7], [20, 28], [20, 28, 411], [20, 28, 411, 412], [20, 28, 411, 412, 10], [20, 28, 411, 412, 10, 1], [20, 28, 411, 412, 10, 1, 84], [20, 28, 411, 412, 10, 1, 84, 413], [20, 28, 411, 412, 10, 1, 84, 413, 60], [31, 414], [31, 414, 415], [31, 414, 415, 20], [31, 414, 415, 20, 416], [31, 414, 415, 20, 416, 417], [1, 37], [1, 37, 26], [1, 37, 26, 50], [1, 37, 26, 50, 56], [1, 37, 26, 50, 56, 23], [1, 37, 26, 50, 56, 23, 50], [4, 68], [4, 68, 77], [4, 68, 77, 75], [4, 68, 77, 75, 4], [4, 68, 77, 75, 4, 84], [48, 420], [48, 420, 19], [48, 420, 19, 421], [48, 420, 19, 421, 29], [48, 420, 19, 421, 29, 4], [48, 420, 19, 421, 29, 4, 422], [48, 420, 19, 421, 29, 4, 422, 12], [423, 16], [423, 16, 1], [423, 16, 1, 37], [423, 16, 1, 37, 4], [423, 16, 1, 37, 4, 55], [423, 16, 1, 37, 4, 55, 57], [423, 16, 1, 37, 4, 55, 57, 158], [1, 140], [1, 140, 1], [1, 140, 1, 87], [1, 140, 1, 87, 29], [1, 140, 1, 87, 29, 4], [1, 140, 1, 87, 29, 4, 2], [1, 140, 1, 87, 29, 4, 2, 87], [424, 22], [424, 22, 90], [424, 22, 90, 5], [424, 22, 90, 5, 2], [424, 22, 90, 5, 2, 80], [424, 22, 90, 5, 2, 80, 49], [20, 1], [20, 1, 37], [20, 1, 37, 67], [20, 1, 37, 67, 50], [57, 154], [57, 154, 425], [57, 154, 425, 426], [57, 154, 425, 426, 5], [9, 7], [1, 49], [1, 49, 427], [1, 49, 427, 57], [1, 49, 427, 57, 164], [1, 49, 427, 57, 164, 39], [428, 136], [428, 136, 38], [428, 136, 38, 429], [1, 34], [1, 34, 43], [1, 34, 43, 14], [1, 34, 43, 14, 25], [1, 34, 43, 14, 25, 17], [1, 34, 43, 14, 25, 17, 4], [1, 34, 43, 14, 25, 17, 4, 143], [1, 34, 43, 14, 25, 17, 4, 143, 430], [1, 34, 43, 14, 25, 17, 4, 143, 430, 38], [1, 34, 43, 14, 25, 17, 4, 143, 430, 38, 431], [1, 49], [1, 49, 67], [1, 49, 67, 14], [1, 49, 67, 14, 4], [1, 49, 67, 14, 4, 2], [1, 49, 67, 14, 4, 2, 91], [10, 4], [10, 4, 33], [10, 4, 33, 41], [10, 4, 33, 41, 90]]\n"
     ]
    }
   ],
   "source": [
    "input_seq = []\n",
    "for line in corpus:  # for each sentences in the corpus\n",
    "    token_list = tokenizer.texts_to_sequences([line])[0]\n",
    "    for i in range(1, len(token_list)):\n",
    "        n_gram_seq = token_list[:i+1]\n",
    "        input_seq.append(n_gram_seq)\n",
    "\n",
    "print(input_seq)"
   ]
  },
  {
   "cell_type": "code",
   "execution_count": 9,
   "metadata": {
    "ExecuteTime": {
     "end_time": "2020-05-21T16:01:00.668717Z",
     "start_time": "2020-05-21T16:01:00.657747Z"
    },
    "scrolled": true
   },
   "outputs": [
    {
     "name": "stdout",
     "output_type": "stream",
     "text": [
      "[[ 0  0  0 ...  0  6 39]\n",
      " [ 0  0  0 ...  6 39 51]\n",
      " [ 0  0  0 ... 39 51 58]\n",
      " ...\n",
      " [ 0  0  0 ... 10  4 33]\n",
      " [ 0  0  0 ...  4 33 41]\n",
      " [ 0  0  0 ... 33 41 90]]\n"
     ]
    }
   ],
   "source": [
    "max_seq_len = max([len(x) for x in input_seq])\n",
    "input_seq = np.array(pad_sequences(input_seq, maxlen=max_seq_len, padding='pre'))\n",
    "print(input_seq)"
   ]
  },
  {
   "cell_type": "code",
   "execution_count": 10,
   "metadata": {
    "ExecuteTime": {
     "end_time": "2020-05-21T16:01:00.676696Z",
     "start_time": "2020-05-21T16:01:00.669714Z"
    },
    "scrolled": true
   },
   "outputs": [
    {
     "data": {
      "text/plain": [
       "((948, 16), (948, 1), (948, 432))"
      ]
     },
     "execution_count": 10,
     "metadata": {},
     "output_type": "execute_result"
    }
   ],
   "source": [
    "X = input_seq[:,:max_seq_len-1]\n",
    "y = input_seq[:,max_seq_len-1:]\n",
    "y_binary = to_categorical(y)\n",
    "X.shape,y.shape,y_binary.shape"
   ]
  },
  {
   "cell_type": "code",
   "execution_count": 17,
   "metadata": {
    "ExecuteTime": {
     "end_time": "2020-05-21T16:04:12.689656Z",
     "start_time": "2020-05-21T16:03:54.913644Z"
    },
    "scrolled": true
   },
   "outputs": [
    {
     "name": "stdout",
     "output_type": "stream",
     "text": [
      "Train on 948 samples\n",
      "Epoch 1/50\n",
      "948/948 [==============================] - 4s 4ms/sample - loss: 5.7770 - accuracy: 0.0401\n",
      "Epoch 2/50\n",
      "948/948 [==============================] - 0s 246us/sample - loss: 4.9837 - accuracy: 0.0907\n",
      "Epoch 3/50\n",
      "948/948 [==============================] - 0s 239us/sample - loss: 4.0198 - accuracy: 0.1783\n",
      "Epoch 4/50\n",
      "948/948 [==============================] - 0s 314us/sample - loss: 2.8101 - accuracy: 0.3344\n",
      "Epoch 5/50\n",
      "948/948 [==============================] - 0s 262us/sample - loss: 1.7753 - accuracy: 0.5622\n",
      "Epoch 6/50\n",
      "948/948 [==============================] - 0s 361us/sample - loss: 1.0066 - accuracy: 0.7711\n",
      "Epoch 7/50\n",
      "948/948 [==============================] - 0s 295us/sample - loss: 0.5442 - accuracy: 0.8776\n",
      "Epoch 8/50\n",
      "948/948 [==============================] - 0s 299us/sample - loss: 0.3628 - accuracy: 0.9124\n",
      "Epoch 9/50\n",
      "948/948 [==============================] - 0s 301us/sample - loss: 0.2647 - accuracy: 0.9241\n",
      "Epoch 10/50\n",
      "948/948 [==============================] - 0s 332us/sample - loss: 0.2442 - accuracy: 0.9293\n",
      "Epoch 11/50\n",
      "948/948 [==============================] - 0s 304us/sample - loss: 0.2139 - accuracy: 0.9241\n",
      "Epoch 12/50\n",
      "948/948 [==============================] - 0s 267us/sample - loss: 0.1977 - accuracy: 0.9346\n",
      "Epoch 13/50\n",
      "948/948 [==============================] - 0s 294us/sample - loss: 0.2003 - accuracy: 0.9357\n",
      "Epoch 14/50\n",
      "948/948 [==============================] - 0s 280us/sample - loss: 0.1955 - accuracy: 0.9314\n",
      "Epoch 15/50\n",
      "948/948 [==============================] - 0s 282us/sample - loss: 0.1892 - accuracy: 0.9314\n",
      "Epoch 16/50\n",
      "948/948 [==============================] - 0s 272us/sample - loss: 0.1843 - accuracy: 0.9304\n",
      "Epoch 17/50\n",
      "948/948 [==============================] - 0s 274us/sample - loss: 0.1801 - accuracy: 0.9335\n",
      "Epoch 18/50\n",
      "948/948 [==============================] - 0s 275us/sample - loss: 0.1661 - accuracy: 0.9325\n",
      "Epoch 19/50\n",
      "948/948 [==============================] - 0s 282us/sample - loss: 0.1736 - accuracy: 0.9378\n",
      "Epoch 20/50\n",
      "948/948 [==============================] - 0s 270us/sample - loss: 0.1605 - accuracy: 0.9357\n",
      "Epoch 21/50\n",
      "948/948 [==============================] - 0s 281us/sample - loss: 0.1735 - accuracy: 0.9293\n",
      "Epoch 22/50\n",
      "948/948 [==============================] - 0s 278us/sample - loss: 0.1627 - accuracy: 0.9304\n",
      "Epoch 23/50\n",
      "948/948 [==============================] - 0s 261us/sample - loss: 0.1668 - accuracy: 0.9272\n",
      "Epoch 24/50\n",
      "948/948 [==============================] - 0s 279us/sample - loss: 0.1664 - accuracy: 0.9304\n",
      "Epoch 25/50\n",
      "948/948 [==============================] - 0s 274us/sample - loss: 0.1627 - accuracy: 0.9378\n",
      "Epoch 26/50\n",
      "948/948 [==============================] - 0s 270us/sample - loss: 0.1624 - accuracy: 0.9304\n",
      "Epoch 27/50\n",
      "948/948 [==============================] - 0s 273us/sample - loss: 0.1601 - accuracy: 0.9283\n",
      "Epoch 28/50\n",
      "948/948 [==============================] - 0s 276us/sample - loss: 0.1640 - accuracy: 0.9357\n",
      "Epoch 29/50\n",
      "948/948 [==============================] - 0s 262us/sample - loss: 0.1630 - accuracy: 0.9251\n",
      "Epoch 30/50\n",
      "948/948 [==============================] - 0s 267us/sample - loss: 0.1593 - accuracy: 0.9304\n",
      "Epoch 31/50\n",
      "948/948 [==============================] - 0s 277us/sample - loss: 0.1513 - accuracy: 0.9367\n",
      "Epoch 32/50\n",
      "948/948 [==============================] - 0s 277us/sample - loss: 0.1509 - accuracy: 0.9293\n",
      "Epoch 33/50\n",
      "948/948 [==============================] - 0s 275us/sample - loss: 0.1610 - accuracy: 0.9346\n",
      "Epoch 34/50\n",
      "948/948 [==============================] - 0s 294us/sample - loss: 0.1564 - accuracy: 0.9314\n",
      "Epoch 35/50\n",
      "948/948 [==============================] - 0s 281us/sample - loss: 0.1602 - accuracy: 0.9251\n",
      "Epoch 36/50\n",
      "948/948 [==============================] - 0s 274us/sample - loss: 0.1572 - accuracy: 0.9367\n",
      "Epoch 37/50\n",
      "948/948 [==============================] - 0s 248us/sample - loss: 0.1520 - accuracy: 0.9304\n",
      "Epoch 38/50\n",
      "948/948 [==============================] - 0s 290us/sample - loss: 0.1525 - accuracy: 0.9335\n",
      "Epoch 39/50\n",
      "948/948 [==============================] - 0s 326us/sample - loss: 0.1537 - accuracy: 0.9283\n",
      "Epoch 40/50\n",
      "948/948 [==============================] - 0s 339us/sample - loss: 0.1499 - accuracy: 0.9346\n",
      "Epoch 41/50\n",
      "948/948 [==============================] - 0s 338us/sample - loss: 0.1475 - accuracy: 0.9251\n",
      "Epoch 42/50\n",
      "948/948 [==============================] - 0s 322us/sample - loss: 0.1545 - accuracy: 0.9367\n",
      "Epoch 43/50\n",
      "948/948 [==============================] - 0s 324us/sample - loss: 0.1515 - accuracy: 0.9283\n",
      "Epoch 44/50\n",
      "948/948 [==============================] - 0s 306us/sample - loss: 0.1510 - accuracy: 0.9325\n",
      "Epoch 45/50\n",
      "948/948 [==============================] - 0s 305us/sample - loss: 0.1468 - accuracy: 0.9314\n",
      "Epoch 46/50\n",
      "948/948 [==============================] - 0s 321us/sample - loss: 0.1541 - accuracy: 0.9304\n",
      "Epoch 47/50\n",
      "948/948 [==============================] - 0s 297us/sample - loss: 0.1549 - accuracy: 0.9283\n",
      "Epoch 48/50\n",
      "948/948 [==============================] - 0s 321us/sample - loss: 0.1468 - accuracy: 0.9346\n",
      "Epoch 49/50\n",
      "948/948 [==============================] - 0s 331us/sample - loss: 0.1560 - accuracy: 0.9314\n",
      "Epoch 50/50\n",
      "948/948 [==============================] - 0s 350us/sample - loss: 0.1562 - accuracy: 0.9272\n"
     ]
    }
   ],
   "source": [
    "model = Sequential()\n",
    "model.add(Embedding(total_words, 240, input_length=max_seq_len-1))\n",
    "model.add(Bidirectional(LSTM(100)))\n",
    "model.add(Dense(total_words, activation='softmax'))\n",
    "adam = Adam(lr=0.01)\n",
    "model.compile(loss='categorical_crossentropy',optimizer=adam, metrics=['accuracy'])\n",
    "history = model.fit(X, y_binary, epochs=50)"
   ]
  },
  {
   "cell_type": "code",
   "execution_count": 13,
   "metadata": {
    "ExecuteTime": {
     "end_time": "2020-05-21T16:01:22.125994Z",
     "start_time": "2020-05-21T16:01:21.919965Z"
    }
   },
   "outputs": [
    {
     "data": {
      "image/png": "[encoded data removed]",
      "text/plain": [
       "<Figure size 432x288 with 1 Axes>"
      ]
     },
     "metadata": {
      "needs_background": "light"
     },
     "output_type": "display_data"
    },
    {
     "data": {
      "image/png": "[encoded data removed]",
      "text/plain": [
       "<Figure size 432x288 with 1 Axes>"
      ]
     },
     "metadata": {
      "needs_background": "light"
     },
     "output_type": "display_data"
    }
   ],
   "source": [
    "epoch_range=range(1,50+1)\n",
    "plt.plot(epoch_range,history.history['accuracy'])\n",
    "plt.title('Model accuracy')\n",
    "plt.ylabel('Accuracy')\n",
    "plt.xlabel('Epoch')\n",
    "plt.show()\n",
    "\n",
    "plt.plot(history.history['loss'])\n",
    "plt.title('Model loss')\n",
    "plt.ylabel('Loss')\n",
    "plt.xlabel('Epoch')\n",
    "plt.show()"
   ]
  },
  {
   "cell_type": "code",
   "execution_count": 19,
   "metadata": {
    "ExecuteTime": {
     "end_time": "2020-05-21T16:04:39.130245Z",
     "start_time": "2020-05-21T16:04:36.643071Z"
    }
   },
   "outputs": [
    {
     "name": "stdout",
     "output_type": "stream",
     "text": [
      "fuck your stupid mama  and junior a i a in front of you nigga you nigga you fuck you too take money take money take money take money take money take money but side bad boy side bad boy killers take money take money take money you take money west side bad boy killers\n"
     ]
    }
   ],
   "source": [
    "# generating texts\n",
    "seed_text = \"fuck your stupid mama \"\n",
    "next_words = 50\n",
    "\n",
    "for _ in range(next_words):\n",
    "    token_list = tokenizer.texts_to_sequences([seed_text])[0]\n",
    "    token_list = pad_sequences([token_list], maxlen=max_seq_len-1,padding='pre')\n",
    "    prediction = model.predict_classes(token_list, verbose=0)\n",
    "    output_word = \"\"\n",
    "    for word, index in tokenizer.word_index.items():\n",
    "        if index == prediction:\n",
    "            output_word = word\n",
    "            break\n",
    "    seed_text += \" \"+ output_word\n",
    "print(seed_text)"
   ]
  },
  {
   "cell_type": "code",
   "execution_count": null,
   "metadata": {},
   "outputs": [],
   "source": []
  }
 ],
 "metadata": {
  "kernelspec": {
   "display_name": "Python 3",
   "language": "python",
   "name": "python3"
  },
  "language_info": {
   "codemirror_mode": {
    "name": "ipython",
    "version": 3
   },
   "file_extension": ".py",
   "mimetype": "text/x-python",
   "name": "python",
   "nbconvert_exporter": "python",
   "pygments_lexer": "ipython3",
   "version": "3.6.9"
  },
  "toc": {
   "base_numbering": 1,
   "nav_menu": {},
   "number_sections": true,
   "sideBar": true,
   "skip_h1_title": false,
   "title_cell": "Table of Contents",
   "title_sidebar": "Contents",
   "toc_cell": false,
   "toc_position": {},
   "toc_section_display": true,
   "toc_window_display": false
  }
 },
 "nbformat": 4,
 "nbformat_minor": 4
}
