{
 "cells": [
  {
   "cell_type": "code",
   "execution_count": 9,
   "metadata": {
    "ExecuteTime": {
     "end_time": "2020-04-30T21:35:46.050081Z",
     "start_time": "2020-04-30T21:35:46.042102Z"
    }
   },
   "outputs": [],
   "source": [
    "import pandas as pd \n",
    "import numpy as np\n",
    "from sklearn.model_selection import train_test_split\n",
    "import tensorflow as tf\n",
    "from tensorflow import keras\n",
    "from tensorflow.keras import Sequential\n",
    "from tensorflow.keras.layers import Flatten,Dense,Input,Dropout,BatchNormalization\n",
    "from tensorflow.keras.optimizers import Adam\n",
    "\n",
    "import matplotlib.pyplot as plt\n",
    "%matplotlib inline\n",
    "\n",
    "from sklearn.metrics import classification_report\n",
    "from sklearn.metrics import confusion_matrix\n",
    "from sklearn.metrics import roc_auc_score\n",
    "from sklearn.metrics import accuracy_score"
   ]
  },
  {
   "cell_type": "code",
   "execution_count": 2,
   "metadata": {
    "ExecuteTime": {
     "end_time": "2020-04-30T21:34:07.260079Z",
     "start_time": "2020-04-30T21:34:06.477856Z"
    }
   },
   "outputs": [],
   "source": [
    "X_train_origin = pd.read_csv('../data/featured_data/X_train.csv')\n",
    "y_train_origin = pd.read_csv('../data/featured_data/y_train.csv')"
   ]
  },
  {
   "cell_type": "code",
   "execution_count": 3,
   "metadata": {
    "ExecuteTime": {
     "end_time": "2020-04-30T21:34:07.948151Z",
     "start_time": "2020-04-30T21:34:07.944191Z"
    }
   },
   "outputs": [],
   "source": [
    "X_train_origin = X_train_origin.to_numpy()\n",
    "y_train_origin = y_train_origin.to_numpy()\n",
    "y_train_origin = y_train_origin.ravel()"
   ]
  },
  {
   "cell_type": "code",
   "execution_count": 4,
   "metadata": {
    "ExecuteTime": {
     "end_time": "2020-04-30T21:34:08.334191Z",
     "start_time": "2020-04-30T21:34:08.268183Z"
    }
   },
   "outputs": [],
   "source": [
    "X_train, X_val, y_train, y_val = train_test_split(X_train_origin, y_train_origin, test_size=0.2, random_state=1) "
   ]
  },
  {
   "cell_type": "code",
   "execution_count": 8,
   "metadata": {
    "ExecuteTime": {
     "end_time": "2020-04-30T21:34:50.849730Z",
     "start_time": "2020-04-30T21:34:50.844712Z"
    }
   },
   "outputs": [
    {
     "data": {
      "text/plain": [
       "(76409, 48)"
      ]
     },
     "execution_count": 8,
     "metadata": {},
     "output_type": "execute_result"
    }
   ],
   "source": [
    "X_train.shape"
   ]
  },
  {
   "cell_type": "code",
   "execution_count": 5,
   "metadata": {
    "ExecuteTime": {
     "end_time": "2020-04-30T21:34:08.637245Z",
     "start_time": "2020-04-30T21:34:08.634250Z"
    }
   },
   "outputs": [],
   "source": [
    "input_dim=X_train.shape[1]"
   ]
  },
  {
   "cell_type": "code",
   "execution_count": 11,
   "metadata": {
    "ExecuteTime": {
     "end_time": "2020-04-30T21:36:00.004386Z",
     "start_time": "2020-04-30T21:35:59.893644Z"
    }
   },
   "outputs": [],
   "source": [
    "model = Sequential()\n",
    "model.add(Dense(64,input_dim=input_dim ,activation='relu') )\n",
    "model.add(BatchNormalization())\n",
    "model.add(Dropout(0.3))\n",
    "model.add(Dense(16,activation='relu') )\n",
    "model.add(Dropout(0.2))\n",
    "model.add(Dense(1,activation='sigmoid')) "
   ]
  },
  {
   "cell_type": "code",
   "execution_count": 13,
   "metadata": {
    "ExecuteTime": {
     "end_time": "2020-04-30T21:36:04.332183Z",
     "start_time": "2020-04-30T21:36:04.327174Z"
    }
   },
   "outputs": [
    {
     "name": "stdout",
     "output_type": "stream",
     "text": [
      "Model: \"sequential_2\"\n",
      "_________________________________________________________________\n",
      "Layer (type)                 Output Shape              Param #   \n",
      "=================================================================\n",
      "dense_4 (Dense)              (None, 64)                3136      \n",
      "_________________________________________________________________\n",
      "batch_normalization (BatchNo (None, 64)                256       \n",
      "_________________________________________________________________\n",
      "dropout_2 (Dropout)          (None, 64)                0         \n",
      "_________________________________________________________________\n",
      "dense_5 (Dense)              (None, 16)                1040      \n",
      "_________________________________________________________________\n",
      "dropout_3 (Dropout)          (None, 16)                0         \n",
      "_________________________________________________________________\n",
      "dense_6 (Dense)              (None, 1)                 17        \n",
      "=================================================================\n",
      "Total params: 4,449\n",
      "Trainable params: 4,321\n",
      "Non-trainable params: 128\n",
      "_________________________________________________________________\n"
     ]
    }
   ],
   "source": [
    "model.summary()\n",
    "# 3136=48*64+64\n",
    "# 236=64*4"
   ]
  },
  {
   "cell_type": "code",
   "execution_count": 7,
   "metadata": {
    "ExecuteTime": {
     "end_time": "2020-04-02T10:14:49.841033Z",
     "start_time": "2020-04-02T10:14:49.796039Z"
    }
   },
   "outputs": [],
   "source": [
    "opt=Adam(learning_rate=0.001)\n",
    "model.compile(optimizer=opt ,loss='binary_crossentropy',metrics=['accuracy'])"
   ]
  },
  {
   "cell_type": "code",
   "execution_count": 8,
   "metadata": {
    "ExecuteTime": {
     "end_time": "2020-04-02T10:14:49.844922Z",
     "start_time": "2020-04-02T10:14:49.841918Z"
    }
   },
   "outputs": [],
   "source": [
    "epoch=60"
   ]
  },
  {
   "cell_type": "code",
   "execution_count": 9,
   "metadata": {
    "ExecuteTime": {
     "end_time": "2020-04-02T10:16:05.191842Z",
     "start_time": "2020-04-02T10:14:49.845907Z"
    }
   },
   "outputs": [
    {
     "name": "stdout",
     "output_type": "stream",
     "text": [
      "Train on 76409 samples, validate on 19103 samples\n",
      "Epoch 1/60\n",
      "76409/76409 [==============================] - 2s 32us/sample - loss: 0.4172 - accuracy: 0.8050 - val_loss: 0.3302 - val_accuracy: 0.8455\n",
      "Epoch 2/60\n",
      "76409/76409 [==============================] - 1s 16us/sample - loss: 0.3346 - accuracy: 0.8468 - val_loss: 0.3059 - val_accuracy: 0.8592\n",
      "Epoch 3/60\n",
      "76409/76409 [==============================] - 1s 15us/sample - loss: 0.3160 - accuracy: 0.8552 - val_loss: 0.2936 - val_accuracy: 0.8661\n",
      "Epoch 4/60\n",
      "76409/76409 [==============================] - 1s 15us/sample - loss: 0.3041 - accuracy: 0.8635 - val_loss: 0.2850 - val_accuracy: 0.8698\n",
      "Epoch 5/60\n",
      "76409/76409 [==============================] - 1s 16us/sample - loss: 0.2946 - accuracy: 0.8676 - val_loss: 0.2809 - val_accuracy: 0.8719\n",
      "Epoch 6/60\n",
      "76409/76409 [==============================] - 1s 16us/sample - loss: 0.2897 - accuracy: 0.8700 - val_loss: 0.2765 - val_accuracy: 0.8737\n",
      "Epoch 7/60\n",
      "76409/76409 [==============================] - 1s 14us/sample - loss: 0.2852 - accuracy: 0.8718 - val_loss: 0.2731 - val_accuracy: 0.8753\n",
      "Epoch 8/60\n",
      "76409/76409 [==============================] - ETA: 0s - loss: 0.2825 - accuracy: 0.87 - 1s 15us/sample - loss: 0.2822 - accuracy: 0.8734 - val_loss: 0.2712 - val_accuracy: 0.8749\n",
      "Epoch 9/60\n",
      "76409/76409 [==============================] - 1s 17us/sample - loss: 0.2787 - accuracy: 0.8747 - val_loss: 0.2706 - val_accuracy: 0.8770\n",
      "Epoch 10/60\n",
      "76409/76409 [==============================] - 1s 15us/sample - loss: 0.2769 - accuracy: 0.8743 - val_loss: 0.2685 - val_accuracy: 0.8771\n",
      "Epoch 11/60\n",
      "76409/76409 [==============================] - 1s 16us/sample - loss: 0.2754 - accuracy: 0.8756 - val_loss: 0.2684 - val_accuracy: 0.8773\n",
      "Epoch 12/60\n",
      "76409/76409 [==============================] - 1s 15us/sample - loss: 0.2739 - accuracy: 0.8774 - val_loss: 0.2674 - val_accuracy: 0.8795\n",
      "Epoch 13/60\n",
      "76409/76409 [==============================] - 1s 14us/sample - loss: 0.2714 - accuracy: 0.8775 - val_loss: 0.2667 - val_accuracy: 0.8775\n",
      "Epoch 14/60\n",
      "76409/76409 [==============================] - 1s 14us/sample - loss: 0.2703 - accuracy: 0.8788 - val_loss: 0.2651 - val_accuracy: 0.8799\n",
      "Epoch 15/60\n",
      "76409/76409 [==============================] - 1s 16us/sample - loss: 0.2693 - accuracy: 0.8785 - val_loss: 0.2657 - val_accuracy: 0.8802\n",
      "Epoch 16/60\n",
      "76409/76409 [==============================] - 1s 15us/sample - loss: 0.2679 - accuracy: 0.8807 - val_loss: 0.2650 - val_accuracy: 0.8788\n",
      "Epoch 17/60\n",
      "76409/76409 [==============================] - 1s 18us/sample - loss: 0.2667 - accuracy: 0.8798 - val_loss: 0.2635 - val_accuracy: 0.8795\n",
      "Epoch 18/60\n",
      "76409/76409 [==============================] - 1s 17us/sample - loss: 0.2661 - accuracy: 0.8815 - val_loss: 0.2637 - val_accuracy: 0.8797\n",
      "Epoch 19/60\n",
      "76409/76409 [==============================] - 1s 17us/sample - loss: 0.2636 - accuracy: 0.8820 - val_loss: 0.2637 - val_accuracy: 0.8798\n",
      "Epoch 20/60\n",
      "76409/76409 [==============================] - 1s 16us/sample - loss: 0.2657 - accuracy: 0.8800 - val_loss: 0.2624 - val_accuracy: 0.8802\n",
      "Epoch 21/60\n",
      "76409/76409 [==============================] - 1s 16us/sample - loss: 0.2637 - accuracy: 0.8810 - val_loss: 0.2631 - val_accuracy: 0.8806\n",
      "Epoch 22/60\n",
      "76409/76409 [==============================] - 1s 16us/sample - loss: 0.2643 - accuracy: 0.8806 - val_loss: 0.2626 - val_accuracy: 0.8821\n",
      "Epoch 23/60\n",
      "76409/76409 [==============================] - 1s 16us/sample - loss: 0.2640 - accuracy: 0.8804 - val_loss: 0.2623 - val_accuracy: 0.8803\n",
      "Epoch 24/60\n",
      "76409/76409 [==============================] - 1s 16us/sample - loss: 0.2625 - accuracy: 0.8823 - val_loss: 0.2620 - val_accuracy: 0.8814\n",
      "Epoch 25/60\n",
      "76409/76409 [==============================] - 1s 16us/sample - loss: 0.2612 - accuracy: 0.8831 - val_loss: 0.2613 - val_accuracy: 0.8820\n",
      "Epoch 26/60\n",
      "76409/76409 [==============================] - 1s 17us/sample - loss: 0.2609 - accuracy: 0.8823 - val_loss: 0.2610 - val_accuracy: 0.8831\n",
      "Epoch 27/60\n",
      "76409/76409 [==============================] - 1s 16us/sample - loss: 0.2597 - accuracy: 0.8824 - val_loss: 0.2605 - val_accuracy: 0.8835\n",
      "Epoch 28/60\n",
      "76409/76409 [==============================] - 1s 16us/sample - loss: 0.2603 - accuracy: 0.8836 - val_loss: 0.2610 - val_accuracy: 0.8828\n",
      "Epoch 29/60\n",
      "76409/76409 [==============================] - 1s 16us/sample - loss: 0.2590 - accuracy: 0.8834 - val_loss: 0.2608 - val_accuracy: 0.8833\n",
      "Epoch 30/60\n",
      "76409/76409 [==============================] - 1s 16us/sample - loss: 0.2594 - accuracy: 0.8832 - val_loss: 0.2607 - val_accuracy: 0.8829\n",
      "Epoch 31/60\n",
      "76409/76409 [==============================] - 1s 16us/sample - loss: 0.2587 - accuracy: 0.8838 - val_loss: 0.2601 - val_accuracy: 0.8831\n",
      "Epoch 32/60\n",
      "76409/76409 [==============================] - 1s 16us/sample - loss: 0.2592 - accuracy: 0.8833 - val_loss: 0.2600 - val_accuracy: 0.8832\n",
      "Epoch 33/60\n",
      "76409/76409 [==============================] - 1s 16us/sample - loss: 0.2586 - accuracy: 0.8841 - val_loss: 0.2596 - val_accuracy: 0.8840\n",
      "Epoch 34/60\n",
      "76409/76409 [==============================] - 1s 17us/sample - loss: 0.2580 - accuracy: 0.8850 - val_loss: 0.2594 - val_accuracy: 0.8829\n",
      "Epoch 35/60\n",
      "76409/76409 [==============================] - 1s 16us/sample - loss: 0.2575 - accuracy: 0.8841 - val_loss: 0.2591 - val_accuracy: 0.8837\n",
      "Epoch 36/60\n",
      "76409/76409 [==============================] - 1s 17us/sample - loss: 0.2574 - accuracy: 0.8841 - val_loss: 0.2592 - val_accuracy: 0.8827\n",
      "Epoch 37/60\n",
      "76409/76409 [==============================] - 1s 17us/sample - loss: 0.2575 - accuracy: 0.8848 - val_loss: 0.2592 - val_accuracy: 0.8825\n",
      "Epoch 38/60\n",
      "76409/76409 [==============================] - 1s 18us/sample - loss: 0.2560 - accuracy: 0.8860 - val_loss: 0.2592 - val_accuracy: 0.8826\n",
      "Epoch 39/60\n",
      "76409/76409 [==============================] - 1s 17us/sample - loss: 0.2560 - accuracy: 0.8851 - val_loss: 0.2592 - val_accuracy: 0.8823\n",
      "Epoch 40/60\n",
      "76409/76409 [==============================] - 1s 16us/sample - loss: 0.2571 - accuracy: 0.8838 - val_loss: 0.2603 - val_accuracy: 0.8821\n",
      "Epoch 41/60\n",
      "76409/76409 [==============================] - 1s 16us/sample - loss: 0.2539 - accuracy: 0.8864 - val_loss: 0.2597 - val_accuracy: 0.8819\n",
      "Epoch 42/60\n",
      "76409/76409 [==============================] - 1s 16us/sample - loss: 0.2547 - accuracy: 0.8848 - val_loss: 0.2581 - val_accuracy: 0.8850\n",
      "Epoch 43/60\n",
      "76409/76409 [==============================] - 1s 16us/sample - loss: 0.2550 - accuracy: 0.8861 - val_loss: 0.2586 - val_accuracy: 0.8838\n",
      "Epoch 44/60\n",
      "76409/76409 [==============================] - 1s 16us/sample - loss: 0.2568 - accuracy: 0.8849 - val_loss: 0.2594 - val_accuracy: 0.8818\n",
      "Epoch 45/60\n",
      "76409/76409 [==============================] - 1s 16us/sample - loss: 0.2553 - accuracy: 0.8849 - val_loss: 0.2588 - val_accuracy: 0.8830\n",
      "Epoch 46/60\n",
      "76409/76409 [==============================] - 1s 17us/sample - loss: 0.2544 - accuracy: 0.8853 - val_loss: 0.2591 - val_accuracy: 0.8830\n",
      "Epoch 47/60\n",
      "76409/76409 [==============================] - 1s 16us/sample - loss: 0.2535 - accuracy: 0.8866 - val_loss: 0.2585 - val_accuracy: 0.8841\n",
      "Epoch 48/60\n",
      "76409/76409 [==============================] - 1s 17us/sample - loss: 0.2547 - accuracy: 0.8856 - val_loss: 0.2588 - val_accuracy: 0.8825\n",
      "Epoch 49/60\n",
      "76409/76409 [==============================] - 1s 17us/sample - loss: 0.2538 - accuracy: 0.8861 - val_loss: 0.2583 - val_accuracy: 0.8829\n",
      "Epoch 50/60\n",
      "76409/76409 [==============================] - 1s 17us/sample - loss: 0.2537 - accuracy: 0.8867 - val_loss: 0.2582 - val_accuracy: 0.8842\n",
      "Epoch 51/60\n",
      "76409/76409 [==============================] - 1s 17us/sample - loss: 0.2523 - accuracy: 0.8867 - val_loss: 0.2588 - val_accuracy: 0.8829\n",
      "Epoch 52/60\n",
      "76409/76409 [==============================] - 1s 17us/sample - loss: 0.2521 - accuracy: 0.8871 - val_loss: 0.2585 - val_accuracy: 0.8842\n",
      "Epoch 53/60\n",
      "76409/76409 [==============================] - 1s 16us/sample - loss: 0.2531 - accuracy: 0.8865 - val_loss: 0.2588 - val_accuracy: 0.8846\n",
      "Epoch 54/60\n",
      "76409/76409 [==============================] - 1s 17us/sample - loss: 0.2529 - accuracy: 0.8868 - val_loss: 0.2590 - val_accuracy: 0.8835\n",
      "Epoch 55/60\n"
     ]
    },
    {
     "name": "stdout",
     "output_type": "stream",
     "text": [
      "76409/76409 [==============================] - 1s 16us/sample - loss: 0.2520 - accuracy: 0.8870 - val_loss: 0.2585 - val_accuracy: 0.8840\n",
      "Epoch 56/60\n",
      "76409/76409 [==============================] - 1s 16us/sample - loss: 0.2525 - accuracy: 0.8861 - val_loss: 0.2588 - val_accuracy: 0.8824\n",
      "Epoch 57/60\n",
      "76409/76409 [==============================] - 1s 18us/sample - loss: 0.2523 - accuracy: 0.8867 - val_loss: 0.2594 - val_accuracy: 0.8821\n",
      "Epoch 58/60\n",
      "76409/76409 [==============================] - ETA: 0s - loss: 0.2526 - accuracy: 0.88 - 1s 16us/sample - loss: 0.2528 - accuracy: 0.8859 - val_loss: 0.2591 - val_accuracy: 0.8832\n",
      "Epoch 59/60\n",
      "76409/76409 [==============================] - 1s 15us/sample - loss: 0.2507 - accuracy: 0.8873 - val_loss: 0.2603 - val_accuracy: 0.8816\n",
      "Epoch 60/60\n",
      "76409/76409 [==============================] - 1s 16us/sample - loss: 0.2518 - accuracy: 0.8868 - val_loss: 0.2593 - val_accuracy: 0.8831\n"
     ]
    }
   ],
   "source": [
    "history=model.fit(X_train, y_train,validation_data=(X_val,y_val),batch_size=200, epochs=epoch, verbose=1)"
   ]
  },
  {
   "cell_type": "code",
   "execution_count": 10,
   "metadata": {
    "ExecuteTime": {
     "end_time": "2020-04-02T10:16:05.939170Z",
     "start_time": "2020-04-02T10:16:05.192836Z"
    }
   },
   "outputs": [
    {
     "data": {
      "image/png": "[encoded data removed]",
      "text/plain": [
       "<Figure size 432x288 with 1 Axes>"
      ]
     },
     "metadata": {
      "needs_background": "light"
     },
     "output_type": "display_data"
    },
    {
     "data": {
      "image/png": "[encoded data removed]",
      "text/plain": [
       "<Figure size 432x288 with 1 Axes>"
      ]
     },
     "metadata": {
      "needs_background": "light"
     },
     "output_type": "display_data"
    }
   ],
   "source": [
    "epoch_range=range(1,epoch+1)\n",
    "plt.plot(epoch_range,history.history['accuracy'])\n",
    "plt.plot(epoch_range,history.history['val_accuracy'])\n",
    "plt.title('Model accuracy')\n",
    "plt.ylabel('Accuracy')\n",
    "plt.xlabel('Epoch')\n",
    "plt.xticks([x for x in range(epoch+1)])\n",
    "plt.legend(['Train','Val'],loc='upper left')\n",
    "plt.show()\n",
    "\n",
    "plt.plot(history.history['loss'])\n",
    "plt.plot(history.history['val_loss'])\n",
    "plt.title('Model loss')\n",
    "plt.ylabel('Loss')\n",
    "plt.xlabel('Epoch')\n",
    "plt.xticks([x for x in range(epoch+1)])\n",
    "plt.legend(['Train','Val'],loc='upper left')\n",
    "plt.show()"
   ]
  },
  {
   "cell_type": "code",
   "execution_count": 11,
   "metadata": {
    "ExecuteTime": {
     "end_time": "2020-04-02T10:16:05.981268Z",
     "start_time": "2020-04-02T10:16:05.940180Z"
    }
   },
   "outputs": [],
   "source": [
    "model.save(\"../models/NN.h5\")"
   ]
  }
 ],
 "metadata": {
  "kernelspec": {
   "display_name": "Python 3",
   "language": "python",
   "name": "python3"
  },
  "language_info": {
   "codemirror_mode": {
    "name": "ipython",
    "version": 3
   },
   "file_extension": ".py",
   "mimetype": "text/x-python",
   "name": "python",
   "nbconvert_exporter": "python",
   "pygments_lexer": "ipython3",
   "version": "3.6.5"
  },
  "latex_envs": {
   "LaTeX_envs_menu_present": true,
   "autoclose": false,
   "autocomplete": true,
   "bibliofile": "biblio.bib",
   "cite_by": "apalike",
   "current_citInitial": 1,
   "eqLabelWithNumbers": true,
   "eqNumInitial": 1,
   "hotkeys": {
    "equation": "Ctrl-E",
    "itemize": "Ctrl-I"
   },
   "labels_anchors": false,
   "latex_user_defs": false,
   "report_style_numbering": false,
   "user_envs_cfg": false
  },
  "toc": {
   "base_numbering": 1,
   "nav_menu": {},
   "number_sections": true,
   "sideBar": true,
   "skip_h1_title": false,
   "title_cell": "Table of Contents",
   "title_sidebar": "Contents",
   "toc_cell": false,
   "toc_position": {},
   "toc_section_display": true,
   "toc_window_display": false
  }
 },
 "nbformat": 4,
 "nbformat_minor": 4
}
