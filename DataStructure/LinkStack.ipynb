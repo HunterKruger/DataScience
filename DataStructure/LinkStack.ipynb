{
 "cells": [
  {
   "cell_type": "code",
   "execution_count": 13,
   "metadata": {},
   "outputs": [],
   "source": [
    "from LinkList import Node"
   ]
  },
  {
   "cell_type": "code",
   "execution_count": 14,
   "metadata": {},
   "outputs": [],
   "source": [
    "class StackOverFlowError(ValueError):\n",
    "    pass"
   ]
  },
  {
   "cell_type": "code",
   "execution_count": 18,
   "metadata": {},
   "outputs": [],
   "source": [
    "class LinkStack: # 基于链表实现\n",
    "    \n",
    "    def __init__(self):\n",
    "        self._top = None \n",
    "        \n",
    "    def is_empty(self):\n",
    "        return self._top == None \n",
    "    \n",
    "    def push(self, elem):\n",
    "        self._top = Node(elem, self._top)\n",
    "        \n",
    "    def pop(self):\n",
    "        if self._top is None:\n",
    "            raise StackOverFlowError('in LinkStack pop()')\n",
    "        p = self._top\n",
    "        self._top = p.next\n",
    "        return p.element\n",
    "    \n",
    "    def top(self):\n",
    "        if self._top is None:\n",
    "            raise StackOverFlowError('in LinkStack top()')\n",
    "        return self._top.element"
   ]
  },
  {
   "cell_type": "code",
   "execution_count": 19,
   "metadata": {},
   "outputs": [
    {
     "data": {
      "text/plain": [
       "True"
      ]
     },
     "execution_count": 19,
     "metadata": {},
     "output_type": "execute_result"
    }
   ],
   "source": [
    "fyStack = LinkStack()\n",
    "fyStack.is_empty()"
   ]
  },
  {
   "cell_type": "code",
   "execution_count": 20,
   "metadata": {},
   "outputs": [
    {
     "data": {
      "text/plain": [
       "'aa'"
      ]
     },
     "execution_count": 20,
     "metadata": {},
     "output_type": "execute_result"
    }
   ],
   "source": [
    "fyStack.push('ss')\n",
    "fyStack.push('aa')\n",
    "fyStack.pop()"
   ]
  },
  {
   "cell_type": "code",
   "execution_count": null,
   "metadata": {},
   "outputs": [],
   "source": []
  }
 ],
 "metadata": {
  "kernelspec": {
   "display_name": "Python 3",
   "language": "python",
   "name": "python3"
  },
  "language_info": {
   "codemirror_mode": {
    "name": "ipython",
    "version": 3
   },
   "file_extension": ".py",
   "mimetype": "text/x-python",
   "name": "python",
   "nbconvert_exporter": "python",
   "pygments_lexer": "ipython3",
   "version": "3.6.9"
  }
 },
 "nbformat": 4,
 "nbformat_minor": 4
}
