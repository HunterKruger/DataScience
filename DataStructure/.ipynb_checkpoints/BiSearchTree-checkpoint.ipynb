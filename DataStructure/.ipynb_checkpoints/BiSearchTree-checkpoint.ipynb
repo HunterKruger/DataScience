{
 "cells": [
  {
   "cell_type": "code",
   "execution_count": 53,
   "metadata": {},
   "outputs": [],
   "source": [
    "class BinTreeNode:\n",
    "    def __init__(self, data):\n",
    "        self.data = data\n",
    "        self.left = None\n",
    "        self.right = None\n",
    "        self.parent = None"
   ]
  },
  {
   "cell_type": "code",
   "execution_count": 56,
   "metadata": {},
   "outputs": [],
   "source": [
    "class BST:\n",
    "    \n",
    "    def __init__(self, li=None):\n",
    "        self.root = None\n",
    "        if li:\n",
    "            for val in li:\n",
    "                self.insert_no_rec(val)\n",
    "        \n",
    "    def insert(self, subtree, val):\n",
    "        if subtree is None:\n",
    "            subtree = BinTreeNode(val)\n",
    "        elif val < subtree.data:\n",
    "            subtree.left = self.insert(subtree.left,val)\n",
    "            subtree.left.parent = subtree\n",
    "        elif val > subtree.data:\n",
    "            subtree.right = self.insert(subtree.right,val)\n",
    "            subtree.right.parent = subtree\n",
    "        return subtree\n",
    "    \n",
    "    def insert_no_rec(self, val):\n",
    "        p = self.root\n",
    "        if p is None:\n",
    "            self.root = BinTreeNode(val)\n",
    "            return\n",
    "        while True:\n",
    "            if val<p.data:\n",
    "                if p.left:\n",
    "                    p = p.left\n",
    "                else:\n",
    "                    p.left = BinTreeNode(val)\n",
    "                    p.left.parent = p\n",
    "                    return\n",
    "            elif val>p.data:\n",
    "                if p.right:\n",
    "                    p = p.right\n",
    "                else:\n",
    "                    p.right = BinTreeNode(val)\n",
    "                    p.right.parent = p\n",
    "                    return\n",
    "            else:\n",
    "                return\n",
    "                \n",
    "    def preorder_trav(self, subtree):   # 先根遍历\n",
    "        if subtree is not None:\n",
    "            print(subtree.data)    # 递归函数里先处理根\n",
    "            self.preorder_trav(subtree.left)   # 递归处理左子树\n",
    "            self.preorder_trav(subtree.right)    # 递归处理右子树\n",
    "            \n",
    "    def midorder_trav(self, subtree):  # 中根遍历\n",
    "        if subtree is not None:\n",
    "            self.midorder_trav(subtree.left)\n",
    "            print(subtree.data)\n",
    "            self.midorder_trav(subtree.right)\n",
    "    \n",
    "    def lastorder_trav(self, subtree):  # 后根遍历\n",
    "        if subtree is not None:\n",
    "            self.lastorder_trav(subtree.left)\n",
    "            self.lastorder_trav(subtree.right)\n",
    "            print(subtree.data)"
   ]
  },
  {
   "cell_type": "code",
   "execution_count": 57,
   "metadata": {},
   "outputs": [],
   "source": [
    "tree = BST([4,6,7,9,2,1,3,5,8])"
   ]
  },
  {
   "cell_type": "code",
   "execution_count": 58,
   "metadata": {},
   "outputs": [
    {
     "name": "stdout",
     "output_type": "stream",
     "text": [
      "1\n",
      "3\n",
      "2\n",
      "5\n",
      "8\n",
      "9\n",
      "7\n",
      "6\n",
      "4\n"
     ]
    }
   ],
   "source": [
    "tree.lastorder_trav(tree.root)"
   ]
  },
  {
   "cell_type": "code",
   "execution_count": null,
   "metadata": {},
   "outputs": [],
   "source": [
    " "
   ]
  },
  {
   "cell_type": "code",
   "execution_count": null,
   "metadata": {},
   "outputs": [],
   "source": []
  }
 ],
 "metadata": {
  "kernelspec": {
   "display_name": "Python 3",
   "language": "python",
   "name": "python3"
  },
  "language_info": {
   "codemirror_mode": {
    "name": "ipython",
    "version": 3
   },
   "file_extension": ".py",
   "mimetype": "text/x-python",
   "name": "python",
   "nbconvert_exporter": "python",
   "pygments_lexer": "ipython3",
   "version": "3.6.9"
  }
 },
 "nbformat": 4,
 "nbformat_minor": 4
}
