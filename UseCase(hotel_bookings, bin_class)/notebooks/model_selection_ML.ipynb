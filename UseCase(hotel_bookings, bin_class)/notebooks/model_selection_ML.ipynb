{
 "cells": [
  {
   "cell_type": "code",
   "execution_count": 4,
   "metadata": {
    "ExecuteTime": {
     "end_time": "2020-05-06T21:47:11.415922Z",
     "start_time": "2020-05-06T21:47:11.394837Z"
    }
   },
   "outputs": [],
   "source": [
    "import pandas as pd \n",
    "import numpy as np\n",
    "\n",
    "from sklearn.model_selection import train_test_split\n",
    "from sklearn.model_selection import cross_val_score \n",
    "from sklearn.model_selection import GridSearchCV,RandomizedSearchCV\n",
    "\n",
    "from sklearn.metrics import classification_report\n",
    "from sklearn.metrics import confusion_matrix\n",
    "from sklearn.metrics import roc_auc_score\n",
    "from sklearn.metrics import accuracy_score\n",
    "\n",
    "from sklearn.neighbors import KNeighborsClassifier as KNN\n",
    "from sklearn.linear_model import LogisticRegression as LR\n",
    "from sklearn.naive_bayes import GaussianNB as NB\n",
    "from sklearn.svm import SVC\n",
    "\n",
    "from sklearn.ensemble import RandomForestClassifier as RF\n",
    "from sklearn.ensemble import GradientBoostingClassifier as GBC\n",
    "from sklearn.ensemble import AdaBoostClassifier as ABC\n",
    "from xgboost import XGBClassifier as XGBC\n",
    "from lightgbm import LGBMClassifier as LGBC\n",
    "from sklearn.ensemble import VotingClassifier\n",
    "\n",
    "import joblib"
   ]
  },
  {
   "cell_type": "code",
   "execution_count": 2,
   "metadata": {
    "ExecuteTime": {
     "end_time": "2020-04-03T19:49:29.562487Z",
     "start_time": "2020-04-03T19:49:25.416700Z"
    }
   },
   "outputs": [],
   "source": [
    "X_train_origin = pd.read_csv('../data/featured_data/X_train.csv')\n",
    "y_train_origin = pd.read_csv('../data/featured_data/y_train.csv')"
   ]
  },
  {
   "cell_type": "code",
   "execution_count": 3,
   "metadata": {
    "ExecuteTime": {
     "end_time": "2020-04-03T19:49:29.607365Z",
     "start_time": "2020-04-03T19:49:29.591772Z"
    }
   },
   "outputs": [],
   "source": [
    "X_train_origin = X_train_origin.to_numpy()\n",
    "y_train_origin = y_train_origin.to_numpy()\n",
    "y_train_origin = y_train_origin.ravel()"
   ]
  },
  {
   "cell_type": "code",
   "execution_count": 4,
   "metadata": {
    "ExecuteTime": {
     "end_time": "2020-04-03T19:49:29.860157Z",
     "start_time": "2020-04-03T19:49:29.640953Z"
    }
   },
   "outputs": [
    {
     "data": {
      "text/plain": [
       "((95512, 48), (95512,))"
      ]
     },
     "execution_count": 4,
     "metadata": {},
     "output_type": "execute_result"
    }
   ],
   "source": [
    "X_train_origin.shape,y_train_origin.shape"
   ]
  },
  {
   "cell_type": "code",
   "execution_count": 5,
   "metadata": {
    "ExecuteTime": {
     "end_time": "2020-04-03T19:49:30.347780Z",
     "start_time": "2020-04-03T19:49:29.878458Z"
    }
   },
   "outputs": [],
   "source": [
    "X_train, X_val, y_train, y_val = train_test_split(X_train_origin, y_train_origin, test_size=0.2, random_state=1) "
   ]
  },
  {
   "cell_type": "code",
   "execution_count": 6,
   "metadata": {
    "ExecuteTime": {
     "end_time": "2020-04-03T19:49:30.400595Z",
     "start_time": "2020-04-03T19:49:30.379989Z"
    }
   },
   "outputs": [
    {
     "data": {
      "text/plain": [
       "((76409, 48), (19103, 48), (76409,), (19103,))"
      ]
     },
     "execution_count": 6,
     "metadata": {},
     "output_type": "execute_result"
    }
   ],
   "source": [
    "X_train.shape, X_val.shape, y_train.shape, y_val.shape"
   ]
  },
  {
   "cell_type": "code",
   "execution_count": 7,
   "metadata": {
    "ExecuteTime": {
     "end_time": "2020-04-03T19:49:31.171996Z",
     "start_time": "2020-04-03T19:49:31.165053Z"
    }
   },
   "outputs": [],
   "source": [
    "def modeling(model_name):\n",
    "    model=model_name()\n",
    "    model.fit(X_train,y_train)\n",
    "    y_pred = model.predict(X_val)\n",
    "    print(\"Confusion_Matrix:\")\n",
    "    print(str(confusion_matrix(y_val,y_pred)))\n",
    "    print(classification_report(y_val,y_pred))\n",
    "    print(\"Accuracy:\" + str(accuracy_score(y_val, y_pred)))\n",
    "    print(\"AUC_ROC:\" + str(roc_auc_score(y_val, y_pred)))"
   ]
  },
  {
   "cell_type": "markdown",
   "metadata": {},
   "source": [
    "### Baseline"
   ]
  },
  {
   "cell_type": "code",
   "execution_count": 8,
   "metadata": {
    "ExecuteTime": {
     "end_time": "2020-04-01T22:02:35.903046Z",
     "start_time": "2020-04-01T22:01:31.166091Z"
    }
   },
   "outputs": [
    {
     "name": "stdout",
     "output_type": "stream",
     "text": [
      "Confusion_Matrix:\n",
      "[[10709  1312]\n",
      " [ 1618  5464]]\n",
      "              precision    recall  f1-score   support\n",
      "\n",
      "           0       0.87      0.89      0.88     12021\n",
      "           1       0.81      0.77      0.79      7082\n",
      "\n",
      "    accuracy                           0.85     19103\n",
      "   macro avg       0.84      0.83      0.83     19103\n",
      "weighted avg       0.85      0.85      0.85     19103\n",
      "\n",
      "Accuracy:0.8466209495890697\n",
      "AUC_ROC:0.8311955654372242\n"
     ]
    }
   ],
   "source": [
    "modeling(KNN)  # reject"
   ]
  },
  {
   "cell_type": "code",
   "execution_count": 9,
   "metadata": {
    "ExecuteTime": {
     "end_time": "2020-04-01T22:02:36.508421Z",
     "start_time": "2020-04-01T22:02:35.904017Z"
    }
   },
   "outputs": [
    {
     "name": "stdout",
     "output_type": "stream",
     "text": [
      "Confusion_Matrix:\n",
      "[[10933  1088]\n",
      " [ 2129  4953]]\n",
      "              precision    recall  f1-score   support\n",
      "\n",
      "           0       0.84      0.91      0.87     12021\n",
      "           1       0.82      0.70      0.75      7082\n",
      "\n",
      "    accuracy                           0.83     19103\n",
      "   macro avg       0.83      0.80      0.81     19103\n",
      "weighted avg       0.83      0.83      0.83     19103\n",
      "\n",
      "Accuracy:0.8315971313406271\n",
      "AUC_ROC:0.8044352146992318\n"
     ]
    }
   ],
   "source": [
    "modeling(LR)  # reject"
   ]
  },
  {
   "cell_type": "code",
   "execution_count": 10,
   "metadata": {
    "ExecuteTime": {
     "end_time": "2020-04-01T22:07:23.895899Z",
     "start_time": "2020-04-01T22:02:36.510415Z"
    }
   },
   "outputs": [
    {
     "name": "stdout",
     "output_type": "stream",
     "text": [
      "Confusion_Matrix:\n",
      "[[11227   794]\n",
      " [ 1447  5635]]\n",
      "              precision    recall  f1-score   support\n",
      "\n",
      "           0       0.89      0.93      0.91     12021\n",
      "           1       0.88      0.80      0.83      7082\n",
      "\n",
      "    accuracy                           0.88     19103\n",
      "   macro avg       0.88      0.86      0.87     19103\n",
      "weighted avg       0.88      0.88      0.88     19103\n",
      "\n",
      "Accuracy:0.8826885829450871\n",
      "AUC_ROC:0.8648140546945039\n"
     ]
    }
   ],
   "source": [
    "modeling(SVC)  # accept"
   ]
  },
  {
   "cell_type": "code",
   "execution_count": 11,
   "metadata": {
    "ExecuteTime": {
     "end_time": "2020-04-01T22:07:24.042176Z",
     "start_time": "2020-04-01T22:07:23.896897Z"
    }
   },
   "outputs": [
    {
     "name": "stdout",
     "output_type": "stream",
     "text": [
      "Confusion_Matrix:\n",
      "[[10087  1934]\n",
      " [ 2782  4300]]\n",
      "              precision    recall  f1-score   support\n",
      "\n",
      "           0       0.78      0.84      0.81     12021\n",
      "           1       0.69      0.61      0.65      7082\n",
      "\n",
      "    accuracy                           0.75     19103\n",
      "   macro avg       0.74      0.72      0.73     19103\n",
      "weighted avg       0.75      0.75      0.75     19103\n",
      "\n",
      "Accuracy:0.7531277809768099\n",
      "AUC_ROC:0.7231439986143049\n"
     ]
    }
   ],
   "source": [
    "modeling(NB) # reject"
   ]
  },
  {
   "cell_type": "code",
   "execution_count": 12,
   "metadata": {
    "ExecuteTime": {
     "end_time": "2020-04-01T22:08:05.273889Z",
     "start_time": "2020-04-01T22:07:24.043173Z"
    }
   },
   "outputs": [
    {
     "name": "stdout",
     "output_type": "stream",
     "text": [
      "Confusion_Matrix:\n",
      "[[11399   622]\n",
      " [ 1592  5490]]\n",
      "              precision    recall  f1-score   support\n",
      "\n",
      "           0       0.88      0.95      0.91     12021\n",
      "           1       0.90      0.78      0.83      7082\n",
      "\n",
      "    accuracy                           0.88     19103\n",
      "   macro avg       0.89      0.86      0.87     19103\n",
      "weighted avg       0.89      0.88      0.88     19103\n",
      "\n",
      "Accuracy:0.8841019735120138\n",
      "AUC_ROC:0.8617309804801027\n"
     ]
    }
   ],
   "source": [
    "modeling(RF)  # accept"
   ]
  },
  {
   "cell_type": "code",
   "execution_count": 13,
   "metadata": {
    "ExecuteTime": {
     "end_time": "2020-04-01T22:08:59.223439Z",
     "start_time": "2020-04-01T22:08:05.275884Z"
    }
   },
   "outputs": [
    {
     "name": "stdout",
     "output_type": "stream",
     "text": [
      "0.8868519138956361\n"
     ]
    }
   ],
   "source": [
    "# use Out-of-bag data as validation set\n",
    "model = RF(oob_score=True)\n",
    "model.fit(X_train_origin, y_train_origin)\n",
    "print(model.oob_score_) # almost the same"
   ]
  },
  {
   "cell_type": "code",
   "execution_count": 14,
   "metadata": {
    "ExecuteTime": {
     "end_time": "2020-04-01T22:08:59.251323Z",
     "start_time": "2020-04-01T22:08:59.224436Z"
    }
   },
   "outputs": [
    {
     "data": {
      "text/plain": [
       "array([0.03828724, 0.05382331, 0.05689759, 0.02558169, 0.06356312,\n",
       "       0.02899642, 0.01292555, 0.01670632, 0.01122736, 0.01406549,\n",
       "       0.01511886, 0.01362671, 0.02731224, 0.01176071, 0.01863789,\n",
       "       0.0140053 , 0.01884813, 0.05702997, 0.02240864, 0.01174492,\n",
       "       0.01303253, 0.01678525, 0.0120306 , 0.01070322, 0.01232616,\n",
       "       0.01525836, 0.01295941, 0.01210727, 0.0143155 , 0.01044347,\n",
       "       0.01054064, 0.01266792, 0.0099565 , 0.01359441, 0.01307525,\n",
       "       0.01037713, 0.01340016, 0.01707277, 0.01360764, 0.01569073,\n",
       "       0.01176651, 0.02304132, 0.01627026, 0.01757061, 0.0152463 ,\n",
       "       0.01452748, 0.06390604, 0.0451591 ])"
      ]
     },
     "execution_count": 14,
     "metadata": {},
     "output_type": "execute_result"
    }
   ],
   "source": [
    "model.feature_importances_  # useless because of PCA"
   ]
  },
  {
   "cell_type": "code",
   "execution_count": 15,
   "metadata": {
    "ExecuteTime": {
     "end_time": "2020-04-01T22:09:20.192123Z",
     "start_time": "2020-04-01T22:08:59.252320Z"
    }
   },
   "outputs": [
    {
     "name": "stdout",
     "output_type": "stream",
     "text": [
      "Confusion_Matrix:\n",
      "[[10663  1358]\n",
      " [ 2205  4877]]\n",
      "              precision    recall  f1-score   support\n",
      "\n",
      "           0       0.83      0.89      0.86     12021\n",
      "           1       0.78      0.69      0.73      7082\n",
      "\n",
      "    accuracy                           0.81     19103\n",
      "   macro avg       0.81      0.79      0.79     19103\n",
      "weighted avg       0.81      0.81      0.81     19103\n",
      "\n",
      "Accuracy:0.8134847929644559\n",
      "AUC_ROC:0.7878391519068308\n"
     ]
    }
   ],
   "source": [
    "modeling(ABC)  # reject"
   ]
  },
  {
   "cell_type": "code",
   "execution_count": 16,
   "metadata": {
    "ExecuteTime": {
     "end_time": "2020-04-01T22:11:01.845350Z",
     "start_time": "2020-04-01T22:09:20.193120Z"
    }
   },
   "outputs": [
    {
     "name": "stdout",
     "output_type": "stream",
     "text": [
      "Confusion_Matrix:\n",
      "[[11196   825]\n",
      " [ 2174  4908]]\n",
      "              precision    recall  f1-score   support\n",
      "\n",
      "           0       0.84      0.93      0.88     12021\n",
      "           1       0.86      0.69      0.77      7082\n",
      "\n",
      "    accuracy                           0.84     19103\n",
      "   macro avg       0.85      0.81      0.82     19103\n",
      "weighted avg       0.84      0.84      0.84     19103\n",
      "\n",
      "Accuracy:0.8430089514735906\n",
      "AUC_ROC:0.812197335825818\n"
     ]
    }
   ],
   "source": [
    "modeling(GBC)  # reject"
   ]
  },
  {
   "cell_type": "code",
   "execution_count": 17,
   "metadata": {
    "ExecuteTime": {
     "end_time": "2020-04-01T22:11:18.908854Z",
     "start_time": "2020-04-01T22:11:01.846332Z"
    }
   },
   "outputs": [
    {
     "name": "stdout",
     "output_type": "stream",
     "text": [
      "Confusion_Matrix:\n",
      "[[11183   838]\n",
      " [ 2259  4823]]\n",
      "              precision    recall  f1-score   support\n",
      "\n",
      "           0       0.83      0.93      0.88     12021\n",
      "           1       0.85      0.68      0.76      7082\n",
      "\n",
      "    accuracy                           0.84     19103\n",
      "   macro avg       0.84      0.81      0.82     19103\n",
      "weighted avg       0.84      0.84      0.83     19103\n",
      "\n",
      "Accuracy:0.8378788671936345\n",
      "AUC_ROC:0.8056554857954618\n"
     ]
    }
   ],
   "source": [
    "modeling(XGBC)  # reject"
   ]
  },
  {
   "cell_type": "code",
   "execution_count": 18,
   "metadata": {
    "ExecuteTime": {
     "end_time": "2020-04-01T22:11:19.810483Z",
     "start_time": "2020-04-01T22:11:18.909852Z"
    }
   },
   "outputs": [
    {
     "name": "stdout",
     "output_type": "stream",
     "text": [
      "Confusion_Matrix:\n",
      "[[11190   831]\n",
      " [ 1576  5506]]\n",
      "              precision    recall  f1-score   support\n",
      "\n",
      "           0       0.88      0.93      0.90     12021\n",
      "           1       0.87      0.78      0.82      7082\n",
      "\n",
      "    accuracy                           0.87     19103\n",
      "   macro avg       0.87      0.85      0.86     19103\n",
      "weighted avg       0.87      0.87      0.87     19103\n",
      "\n",
      "Accuracy:0.8739988483484269\n",
      "AUC_ROC:0.8541674845073085\n"
     ]
    }
   ],
   "source": [
    "modeling(LGBC) #accept"
   ]
  },
  {
   "cell_type": "markdown",
   "metadata": {},
   "source": [
    "### Final tuning"
   ]
  },
  {
   "cell_type": "code",
   "execution_count": 19,
   "metadata": {
    "ExecuteTime": {
     "end_time": "2020-04-02T02:05:32.583437Z",
     "start_time": "2020-04-01T22:11:19.812478Z"
    }
   },
   "outputs": [
    {
     "data": {
      "text/plain": [
       "GridSearchCV(cv=3, error_score=nan,\n",
       "             estimator=SVC(C=1.0, break_ties=False, cache_size=200,\n",
       "                           class_weight=None, coef0=0.0,\n",
       "                           decision_function_shape='ovr', degree=3,\n",
       "                           gamma='scale', kernel='rbf', max_iter=-1,\n",
       "                           probability=False, random_state=None, shrinking=True,\n",
       "                           tol=0.001, verbose=False),\n",
       "             iid='deprecated', n_jobs=-1,\n",
       "             param_grid=[{'C': [0.1, 1, 10, 100],\n",
       "                          'gamma': [0.01, 0.001, 0.0001], 'kernel': ['rbf']}],\n",
       "             pre_dispatch='2*n_jobs', refit=True, return_train_score=False,\n",
       "             scoring=None, verbose=0)"
      ]
     },
     "execution_count": 19,
     "metadata": {},
     "output_type": "execute_result"
    }
   ],
   "source": [
    "params_SVC = [{'kernel': ['rbf'],       # Gaussian kernel\n",
    "               # punishment, inverse of regularization, bigger C -> overfitting\n",
    "               'C': [0.1, 1, 10, 100],\n",
    "               'gamma': [1e-2, 1e-3, 1e-4]  # bigger gamma -> overfitting\n",
    "               }\n",
    "              ]\n",
    "svm = SVC()\n",
    "clf_SVC = GridSearchCV(svm, param_grid=params_SVC, cv=3,n_jobs=-1)\n",
    "clf_SVC.fit(X_train_origin, y_train_origin)"
   ]
  },
  {
   "cell_type": "code",
   "execution_count": 20,
   "metadata": {
    "ExecuteTime": {
     "end_time": "2020-04-02T02:05:32.589384Z",
     "start_time": "2020-04-02T02:05:32.584398Z"
    }
   },
   "outputs": [
    {
     "data": {
      "text/plain": [
       "{'C': 100, 'gamma': 0.01, 'kernel': 'rbf'}"
      ]
     },
     "execution_count": 20,
     "metadata": {},
     "output_type": "execute_result"
    }
   ],
   "source": [
    "clf_SVC.best_params_"
   ]
  },
  {
   "cell_type": "code",
   "execution_count": 22,
   "metadata": {
    "ExecuteTime": {
     "end_time": "2020-04-02T10:02:58.117497Z",
     "start_time": "2020-04-02T09:52:12.057460Z"
    }
   },
   "outputs": [
    {
     "data": {
      "text/plain": [
       "GridSearchCV(cv=3, error_score=nan,\n",
       "             estimator=RandomForestClassifier(bootstrap=True, ccp_alpha=0.0,\n",
       "                                              class_weight=None,\n",
       "                                              criterion='gini', max_depth=None,\n",
       "                                              max_features='auto',\n",
       "                                              max_leaf_nodes=None,\n",
       "                                              max_samples=None,\n",
       "                                              min_impurity_decrease=0.0,\n",
       "                                              min_impurity_split=None,\n",
       "                                              min_samples_leaf=1,\n",
       "                                              min_samples_split=2,\n",
       "                                              min_weight_fraction_leaf=0.0,\n",
       "                                              n_estimators=100, n_jobs=None,\n",
       "                                              oob_score=False,\n",
       "                                              random_state=None, verbose=0,\n",
       "                                              warm_start=False),\n",
       "             iid='deprecated', n_jobs=-1,\n",
       "             param_grid={'criterion': ['gini'], 'max_depth': [10, 20, 40, 80],\n",
       "                         'max_features': ['auto', 'sqrt', 'log2'],\n",
       "                         'n_estimators': [50, 100, 200]},\n",
       "             pre_dispatch='2*n_jobs', refit=True, return_train_score=False,\n",
       "             scoring=None, verbose=0)"
      ]
     },
     "execution_count": 22,
     "metadata": {},
     "output_type": "execute_result"
    }
   ],
   "source": [
    "param_RF = {\n",
    "    'n_estimators': [50, 100, 200],\n",
    "    'max_features': ['auto', 'sqrt', 'log2'],\n",
    "    'max_depth': [10, 20, 40, 80],\n",
    "    'criterion': ['gini']\n",
    "}\n",
    "rf = RF()\n",
    "clf_rf = GridSearchCV(rf, param_grid=param_RF, cv=3,n_jobs=-1)\n",
    "clf_rf.fit(X_train_origin, y_train_origin)"
   ]
  },
  {
   "cell_type": "code",
   "execution_count": 23,
   "metadata": {
    "ExecuteTime": {
     "end_time": "2020-04-02T10:02:58.123481Z",
     "start_time": "2020-04-02T10:02:58.118473Z"
    }
   },
   "outputs": [
    {
     "data": {
      "text/plain": [
       "{'criterion': 'gini',\n",
       " 'max_depth': 80,\n",
       " 'max_features': 'sqrt',\n",
       " 'n_estimators': 200}"
      ]
     },
     "execution_count": 23,
     "metadata": {},
     "output_type": "execute_result"
    }
   ],
   "source": [
    "clf_rf.best_params_"
   ]
  },
  {
   "cell_type": "code",
   "execution_count": 30,
   "metadata": {
    "ExecuteTime": {
     "end_time": "2020-04-02T10:52:27.485348Z",
     "start_time": "2020-04-02T10:52:07.337191Z"
    }
   },
   "outputs": [
    {
     "data": {
      "text/plain": [
       "RandomizedSearchCV(cv=3, error_score=nan,\n",
       "                   estimator=LGBMClassifier(boosting_type='gbdt',\n",
       "                                            class_weight=None,\n",
       "                                            colsample_bytree=1.0,\n",
       "                                            importance_type='split',\n",
       "                                            learning_rate=0.1, max_depth=-1,\n",
       "                                            min_child_samples=20,\n",
       "                                            min_child_weight=0.001,\n",
       "                                            min_split_gain=0.0,\n",
       "                                            n_estimators=100, n_jobs=-1,\n",
       "                                            num_leaves=31, objective=None,\n",
       "                                            random_state=None, reg_alpha=0.0,\n",
       "                                            reg_lambda=0.0, sile...\n",
       "                   param_distributions={'bagging_fraction': [0.8, 0.9, 1],\n",
       "                                        'bagging_freq': [2, 3, 4],\n",
       "                                        'cat_smooth': [0, 10, 20],\n",
       "                                        'feature_fraction': [0.6, 0.8, 1],\n",
       "                                        'learning_rate': [0.01, 0.1, 1],\n",
       "                                        'max_depth': [4, 6, 8],\n",
       "                                        'min_child_samples': [18, 19, 20, 21,\n",
       "                                                              22],\n",
       "                                        'min_child_weight': [0.001, 0.002],\n",
       "                                        'n_estimators': [20, 40],\n",
       "                                        'num_leaves': [20, 30, 40]},\n",
       "                   pre_dispatch='2*n_jobs', random_state=None, refit=True,\n",
       "                   return_train_score=False, scoring=None, verbose=0)"
      ]
     },
     "execution_count": 30,
     "metadata": {},
     "output_type": "execute_result"
    }
   ],
   "source": [
    "param_LGBC = {\n",
    "    'learning_rate': [0.01, 0.1, 1],\n",
    "    'n_estimators': [20, 40],\n",
    "    'max_depth': [4, 6, 8],\n",
    "    'num_leaves': [20, 30, 40],\n",
    "    'min_child_samples': [18, 19, 20, 21, 22],\n",
    "    'min_child_weight': [0.001, 0.002],\n",
    "    'feature_fraction': [0.6, 0.8, 1],\n",
    "    'bagging_fraction': [0.8, 0.9, 1],\n",
    "    'bagging_freq': [2, 3, 4],\n",
    "    'cat_smooth': [0, 10, 20]\n",
    "}\n",
    "lgbc = LGBC()\n",
    "clf_lgbc = RandomizedSearchCV(lgbc, param_distributions = param_LGBC, cv=3,n_iter=40, n_jobs=-1)\n",
    "clf_lgbc.fit(X_train_origin, y_train_origin)"
   ]
  },
  {
   "cell_type": "code",
   "execution_count": 31,
   "metadata": {
    "ExecuteTime": {
     "end_time": "2020-04-02T10:52:27.492329Z",
     "start_time": "2020-04-02T10:52:27.487342Z"
    }
   },
   "outputs": [
    {
     "data": {
      "text/plain": [
       "{'num_leaves': 20,\n",
       " 'n_estimators': 40,\n",
       " 'min_child_weight': 0.002,\n",
       " 'min_child_samples': 18,\n",
       " 'max_depth': 6,\n",
       " 'learning_rate': 1,\n",
       " 'feature_fraction': 1,\n",
       " 'cat_smooth': 10,\n",
       " 'bagging_freq': 2,\n",
       " 'bagging_fraction': 0.8}"
      ]
     },
     "execution_count": 31,
     "metadata": {},
     "output_type": "execute_result"
    }
   ],
   "source": [
    "clf_lgbc.best_params_"
   ]
  },
  {
   "cell_type": "markdown",
   "metadata": {},
   "source": [
    "###  Train best models"
   ]
  },
  {
   "cell_type": "code",
   "execution_count": 8,
   "metadata": {
    "ExecuteTime": {
     "end_time": "2020-04-03T20:12:15.956995Z",
     "start_time": "2020-04-03T19:49:40.923124Z"
    }
   },
   "outputs": [
    {
     "data": {
      "text/plain": [
       "['../models/svc.m']"
      ]
     },
     "execution_count": 8,
     "metadata": {},
     "output_type": "execute_result"
    }
   ],
   "source": [
    "best_svc = SVC(C=100,gamma=0.01,kernel='rbf')\n",
    "best_svc.fit(X_train_origin,y_train_origin)\n",
    "joblib.dump(best_svc, '../models/svc.m') "
   ]
  },
  {
   "cell_type": "code",
   "execution_count": 9,
   "metadata": {
    "ExecuteTime": {
     "end_time": "2020-04-03T20:14:33.733645Z",
     "start_time": "2020-04-03T20:12:15.970622Z"
    }
   },
   "outputs": [
    {
     "data": {
      "text/plain": [
       "['../models/rf.m']"
      ]
     },
     "execution_count": 9,
     "metadata": {},
     "output_type": "execute_result"
    }
   ],
   "source": [
    "best_rf = RF(criterion='gini',max_depth=80,max_features='sqrt',n_estimators=200)\n",
    "best_rf.fit(X_train_origin,y_train_origin)\n",
    "joblib.dump(best_rf, '../models/rf.m') "
   ]
  },
  {
   "cell_type": "code",
   "execution_count": 10,
   "metadata": {
    "ExecuteTime": {
     "end_time": "2020-04-03T20:14:34.922782Z",
     "start_time": "2020-04-03T20:14:33.738250Z"
    }
   },
   "outputs": [
    {
     "data": {
      "text/plain": [
       "['../models/lgbc.m']"
      ]
     },
     "execution_count": 10,
     "metadata": {},
     "output_type": "execute_result"
    }
   ],
   "source": [
    "best_lgbc = LGBC(num_leaves=20, n_estimators=40, min_child_weight=0.002,\n",
    "                 min_child_samples=18, max_depth=6, learning_rate=1, feature_fraction=1, cat_smooth=10, bagging_freq=2, bagging_fraction=0.8)\n",
    "best_lgbc.fit(X_train_origin, y_train_origin)\n",
    "joblib.dump(best_lgbc, '../models/lgbc.m')"
   ]
  },
  {
   "cell_type": "markdown",
   "metadata": {},
   "source": [
    "### Combine 3 best models into a voter"
   ]
  },
  {
   "cell_type": "code",
   "execution_count": 12,
   "metadata": {
    "ExecuteTime": {
     "end_time": "2020-04-03T20:58:12.179668Z",
     "start_time": "2020-04-03T20:39:39.081996Z"
    }
   },
   "outputs": [
    {
     "data": {
      "text/plain": [
       "['../models/voter.m']"
      ]
     },
     "execution_count": 12,
     "metadata": {},
     "output_type": "execute_result"
    }
   ],
   "source": [
    "voting_clf = VotingClassifier(\n",
    "    estimators=[ ('svc',best_svc), ('rf', best_rf), ('lgbc', best_lgbc)], voting='hard')\n",
    "voting_clf.fit(X_train_origin,y_train_origin)\n",
    "joblib.dump(voting_clf, '../models/voter.m')"
   ]
  },
  {
   "cell_type": "code",
   "execution_count": null,
   "metadata": {},
   "outputs": [],
   "source": []
  }
 ],
 "metadata": {
  "kernelspec": {
   "display_name": "Python 3",
   "language": "python",
   "name": "python3"
  },
  "language_info": {
   "codemirror_mode": {
    "name": "ipython",
    "version": 3
   },
   "file_extension": ".py",
   "mimetype": "text/x-python",
   "name": "python",
   "nbconvert_exporter": "python",
   "pygments_lexer": "ipython3",
   "version": "3.6.9"
  },
  "latex_envs": {
   "LaTeX_envs_menu_present": true,
   "autoclose": false,
   "autocomplete": true,
   "bibliofile": "biblio.bib",
   "cite_by": "apalike",
   "current_citInitial": 1,
   "eqLabelWithNumbers": true,
   "eqNumInitial": 1,
   "hotkeys": {
    "equation": "Ctrl-E",
    "itemize": "Ctrl-I"
   },
   "labels_anchors": false,
   "latex_user_defs": false,
   "report_style_numbering": false,
   "user_envs_cfg": false
  },
  "toc": {
   "base_numbering": 1,
   "nav_menu": {},
   "number_sections": true,
   "sideBar": true,
   "skip_h1_title": false,
   "title_cell": "Table of Contents",
   "title_sidebar": "Contents",
   "toc_cell": false,
   "toc_position": {},
   "toc_section_display": true,
   "toc_window_display": false
  }
 },
 "nbformat": 4,
 "nbformat_minor": 4
}
