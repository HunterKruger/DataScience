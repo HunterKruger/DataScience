{
 "cells": [
  {
   "cell_type": "code",
   "execution_count": 1,
   "metadata": {
    "ExecuteTime": {
     "end_time": "2020-04-03T22:11:49.532187Z",
     "start_time": "2020-04-03T22:11:47.832235Z"
    }
   },
   "outputs": [],
   "source": [
    "import pandas as pd \n",
    "import numpy as np\n",
    "from sklearn.model_selection import train_test_split\n",
    "\n",
    "import matplotlib.pyplot as plt\n",
    "%matplotlib inline\n",
    "\n",
    "import joblib\n",
    "from sklearn.metrics import classification_report\n",
    "from sklearn.metrics import confusion_matrix\n",
    "from sklearn.metrics import roc_auc_score\n",
    "from sklearn.metrics import accuracy_score"
   ]
  },
  {
   "cell_type": "code",
   "execution_count": 2,
   "metadata": {
    "ExecuteTime": {
     "end_time": "2020-04-03T22:11:49.565715Z",
     "start_time": "2020-04-03T22:11:49.534659Z"
    }
   },
   "outputs": [
    {
     "data": {
      "text/plain": [
       "((1409, 25), (1409, 1))"
      ]
     },
     "execution_count": 2,
     "metadata": {},
     "output_type": "execute_result"
    }
   ],
   "source": [
    "X_test=pd.read_csv('../data/featured_data/X_test.csv')\n",
    "y_test=pd.read_csv('../data/featured_data/y_test.csv')\n",
    "X_test.shape,y_test.shape"
   ]
  },
  {
   "cell_type": "code",
   "execution_count": 3,
   "metadata": {
    "ExecuteTime": {
     "end_time": "2020-04-03T22:11:49.584181Z",
     "start_time": "2020-04-03T22:11:49.576248Z"
    }
   },
   "outputs": [],
   "source": [
    "X_test = X_test.to_numpy()\n",
    "y_test = y_test.to_numpy()\n",
    "y_test = y_test.ravel()"
   ]
  },
  {
   "cell_type": "code",
   "execution_count": 4,
   "metadata": {
    "ExecuteTime": {
     "end_time": "2020-04-03T22:11:50.821972Z",
     "start_time": "2020-04-03T22:11:50.815087Z"
    }
   },
   "outputs": [],
   "source": [
    "def result_overview(y_test,y_pred):\n",
    "    print(\"Confusion_Matrix:\")\n",
    "    print(str(confusion_matrix(y_test, y_pred)))\n",
    "    print(classification_report(y_test, y_pred))\n",
    "    print(\"Accuracy:\" + str(accuracy_score(y_test, y_pred)))\n",
    "    print(\"AUC_ROC:\" + str(roc_auc_score(y_test, y_pred)))"
   ]
  },
  {
   "cell_type": "markdown",
   "metadata": {},
   "source": [
    "### Test Voter"
   ]
  },
  {
   "cell_type": "code",
   "execution_count": 5,
   "metadata": {
    "ExecuteTime": {
     "end_time": "2020-04-03T22:11:52.135437Z",
     "start_time": "2020-04-03T22:11:51.767590Z"
    }
   },
   "outputs": [
    {
     "name": "stdout",
     "output_type": "stream",
     "text": [
      "Confusion_Matrix:\n",
      "[[824 237]\n",
      " [ 79 269]]\n",
      "              precision    recall  f1-score   support\n",
      "\n",
      "           0       0.91      0.78      0.84      1061\n",
      "           1       0.53      0.77      0.63       348\n",
      "\n",
      "    accuracy                           0.78      1409\n",
      "   macro avg       0.72      0.77      0.73      1409\n",
      "weighted avg       0.82      0.78      0.79      1409\n",
      "\n",
      "Accuracy:0.7757274662881476\n",
      "AUC_ROC:0.7748071652204058\n"
     ]
    }
   ],
   "source": [
    "voter=joblib.load(\"../models/voter.m\")\n",
    "y_pred = voter.predict(X_test)\n",
    "result_overview(y_test,y_pred)\n",
    "# voter is better than the 3 single learners "
   ]
  },
  {
   "cell_type": "markdown",
   "metadata": {},
   "source": [
    "### Test LR"
   ]
  },
  {
   "cell_type": "code",
   "execution_count": 6,
   "metadata": {
    "ExecuteTime": {
     "end_time": "2020-04-03T22:11:53.447056Z",
     "start_time": "2020-04-03T22:11:53.416709Z"
    }
   },
   "outputs": [
    {
     "name": "stdout",
     "output_type": "stream",
     "text": [
      "Confusion_Matrix:\n",
      "[[797 264]\n",
      " [ 69 279]]\n",
      "              precision    recall  f1-score   support\n",
      "\n",
      "           0       0.92      0.75      0.83      1061\n",
      "           1       0.51      0.80      0.63       348\n",
      "\n",
      "    accuracy                           0.76      1409\n",
      "   macro avg       0.72      0.78      0.73      1409\n",
      "weighted avg       0.82      0.76      0.78      1409\n",
      "\n",
      "Accuracy:0.7636621717530163\n",
      "AUC_ROC:0.7764511358835191\n"
     ]
    }
   ],
   "source": [
    "lr=joblib.load(\"../models/lr.m\")\n",
    "y_pred = lr.predict(X_test)\n",
    "result_overview(y_test,y_pred)"
   ]
  },
  {
   "cell_type": "markdown",
   "metadata": {},
   "source": [
    "### Test SVC"
   ]
  },
  {
   "cell_type": "code",
   "execution_count": 7,
   "metadata": {
    "ExecuteTime": {
     "end_time": "2020-04-03T22:11:54.616272Z",
     "start_time": "2020-04-03T22:11:54.434493Z"
    }
   },
   "outputs": [
    {
     "name": "stdout",
     "output_type": "stream",
     "text": [
      "Confusion_Matrix:\n",
      "[[777 284]\n",
      " [ 63 285]]\n",
      "              precision    recall  f1-score   support\n",
      "\n",
      "           0       0.93      0.73      0.82      1061\n",
      "           1       0.50      0.82      0.62       348\n",
      "\n",
      "    accuracy                           0.75      1409\n",
      "   macro avg       0.71      0.78      0.72      1409\n",
      "weighted avg       0.82      0.75      0.77      1409\n",
      "\n",
      "Accuracy:0.7537260468417317\n",
      "AUC_ROC:0.7756467548506615\n"
     ]
    }
   ],
   "source": [
    "svc=joblib.load(\"../models/svc.m\")\n",
    "y_pred = svc.predict(X_test)\n",
    "result_overview(y_test,y_pred)"
   ]
  },
  {
   "cell_type": "markdown",
   "metadata": {},
   "source": [
    "### Test XGBC"
   ]
  },
  {
   "cell_type": "code",
   "execution_count": 8,
   "metadata": {
    "ExecuteTime": {
     "end_time": "2020-04-03T22:11:56.408917Z",
     "start_time": "2020-04-03T22:11:56.330107Z"
    }
   },
   "outputs": [
    {
     "name": "stdout",
     "output_type": "stream",
     "text": [
      "Confusion_Matrix:\n",
      "[[959 102]\n",
      " [174 174]]\n",
      "              precision    recall  f1-score   support\n",
      "\n",
      "           0       0.85      0.90      0.87      1061\n",
      "           1       0.63      0.50      0.56       348\n",
      "\n",
      "    accuracy                           0.80      1409\n",
      "   macro avg       0.74      0.70      0.72      1409\n",
      "weighted avg       0.79      0.80      0.80      1409\n",
      "\n",
      "Accuracy:0.8041163946061036\n",
      "AUC_ROC:0.7019321394910462\n"
     ]
    }
   ],
   "source": [
    "xgbc=joblib.load(\"../models/xgbc.m\")\n",
    "y_pred = xgbc.predict(X_test)\n",
    "result_overview(y_test,y_pred)"
   ]
  },
  {
   "cell_type": "code",
   "execution_count": null,
   "metadata": {},
   "outputs": [],
   "source": []
  }
 ],
 "metadata": {
  "kernelspec": {
   "display_name": "Python 3",
   "language": "python",
   "name": "python3"
  },
  "language_info": {
   "codemirror_mode": {
    "name": "ipython",
    "version": 3
   },
   "file_extension": ".py",
   "mimetype": "text/x-python",
   "name": "python",
   "nbconvert_exporter": "python",
   "pygments_lexer": "ipython3",
   "version": "3.6.8"
  },
  "latex_envs": {
   "LaTeX_envs_menu_present": true,
   "autoclose": false,
   "autocomplete": true,
   "bibliofile": "biblio.bib",
   "cite_by": "apalike",
   "current_citInitial": 1,
   "eqLabelWithNumbers": true,
   "eqNumInitial": 1,
   "hotkeys": {
    "equation": "Ctrl-E",
    "itemize": "Ctrl-I"
   },
   "labels_anchors": false,
   "latex_user_defs": false,
   "report_style_numbering": false,
   "user_envs_cfg": false
  },
  "toc": {
   "base_numbering": 1,
   "nav_menu": {},
   "number_sections": true,
   "sideBar": true,
   "skip_h1_title": false,
   "title_cell": "Table of Contents",
   "title_sidebar": "Contents",
   "toc_cell": false,
   "toc_position": {},
   "toc_section_display": true,
   "toc_window_display": false
  }
 },
 "nbformat": 4,
 "nbformat_minor": 4
}
