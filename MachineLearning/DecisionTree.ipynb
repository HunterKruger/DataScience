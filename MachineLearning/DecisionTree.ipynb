{
 "cells": [
  {
   "cell_type": "code",
   "execution_count": 1,
   "metadata": {},
   "outputs": [
    {
     "data": {
      "text/plain": [
       "[['Green', 3, 'Mongo'],\n",
       " ['Yellow', 3, 'Mongo'],\n",
       " ['Red', 1, 'Grape'],\n",
       " ['Red', 1, 'Grape'],\n",
       " ['Yellow', 3, 'Lemon']]"
      ]
     },
     "execution_count": 1,
     "metadata": {},
     "output_type": "execute_result"
    }
   ],
   "source": [
    "trainingData=[['Green',3,'Mongo'],['Yellow',3,'Mongo'],['Red',1,'Grape'],['Red',1,'Grape'],['Yellow',3,'Lemon']]\n",
    "trainingData"
   ]
  },
  {
   "cell_type": "code",
   "execution_count": 2,
   "metadata": {},
   "outputs": [],
   "source": [
    "header = ['color','diameter','label']"
   ]
  },
  {
   "cell_type": "code",
   "execution_count": 3,
   "metadata": {},
   "outputs": [],
   "source": [
    "#find the unique values for a column in a dataset\n",
    "def uniqueVals(rows,col):\n",
    "    return set([row[col] for row in rows])"
   ]
  },
  {
   "cell_type": "code",
   "execution_count": 4,
   "metadata": {},
   "outputs": [
    {
     "data": {
      "text/plain": [
       "{'Green', 'Red', 'Yellow'}"
      ]
     },
     "execution_count": 4,
     "metadata": {},
     "output_type": "execute_result"
    }
   ],
   "source": [
    "#demo of uniqueVals\n",
    "uniqueVals(trainingData,0)  #{}is dictionnary"
   ]
  },
  {
   "cell_type": "code",
   "execution_count": 5,
   "metadata": {},
   "outputs": [],
   "source": [
    "#count the number of each type of example in a dataset\n",
    "def classCounts(rows):\n",
    "    counts={}\n",
    "    for row in rows:\n",
    "        label=row[-1] #read the last element of each row \n",
    "        if label not in counts:\n",
    "            counts[label]=0\n",
    "        counts[label]+=1\n",
    "    return counts"
   ]
  },
  {
   "cell_type": "code",
   "execution_count": 6,
   "metadata": {},
   "outputs": [
    {
     "data": {
      "text/plain": [
       "{'Mongo': 2, 'Grape': 2, 'Lemon': 1}"
      ]
     },
     "execution_count": 6,
     "metadata": {},
     "output_type": "execute_result"
    }
   ],
   "source": [
    "#demo of classCounts\n",
    "classCounts(trainingData)"
   ]
  },
  {
   "cell_type": "code",
   "execution_count": 7,
   "metadata": {},
   "outputs": [],
   "source": [
    "#test is a value numeric or not\n",
    "def isNumeric(value):\n",
    "    return isinstance(value,int) or isinstance(value,float)"
   ]
  },
  {
   "cell_type": "code",
   "execution_count": 8,
   "metadata": {},
   "outputs": [
    {
     "data": {
      "text/plain": [
       "True"
      ]
     },
     "execution_count": 8,
     "metadata": {},
     "output_type": "execute_result"
    }
   ],
   "source": [
    "#demo of isNumeric\n",
    "isNumeric(6)"
   ]
  },
  {
   "cell_type": "code",
   "execution_count": 9,
   "metadata": {},
   "outputs": [
    {
     "data": {
      "text/plain": [
       "False"
      ]
     },
     "execution_count": 9,
     "metadata": {},
     "output_type": "execute_result"
    }
   ],
   "source": [
    "isNumeric('dsd')"
   ]
  },
  {
   "cell_type": "code",
   "execution_count": 10,
   "metadata": {},
   "outputs": [],
   "source": [
    "#compare the feature value in an example of the one in this Question\n",
    "class Question:\n",
    "    def __init__(self,column,value):\n",
    "        self.column=column\n",
    "        self.value=value\n",
    "        \n",
    "    def match(self,emample):\n",
    "        val=emample[self.column]\n",
    "        if isNumeric(val):\n",
    "            return val>=self.value\n",
    "        else:\n",
    "            return val==self.value\n",
    "        \n",
    "    def __repr__(self):\n",
    "        condition=\"==\"\n",
    "        if isNumeric(self.value):\n",
    "            condition=\">=\"\n",
    "        return \"Is %s %s %s?\" % (header[self.column],condition,str(self.value))\n"
   ]
  },
  {
   "cell_type": "code",
   "execution_count": 11,
   "metadata": {},
   "outputs": [],
   "source": [
    "#do partition for a dataset\n",
    "#For each row in the dataset, check if it matches the question. If so, add it to true rows; otherwise, false rows;\n",
    "def partition(rows,question):\n",
    "    trueRows,falseRows=[],[]\n",
    "    for row in rows:\n",
    "        if question.match(row):\n",
    "            trueRows.append(row)\n",
    "        else:\n",
    "            falseRows.append(row)\n",
    "    return trueRows,falseRows"
   ]
  },
  {
   "cell_type": "code",
   "execution_count": 12,
   "metadata": {},
   "outputs": [],
   "source": [
    "#demo \n",
    "trueRows,falseRows=partition(trainingData,Question(2,'Mongo')) #is the 3rd column mongo?"
   ]
  },
  {
   "cell_type": "code",
   "execution_count": 13,
   "metadata": {},
   "outputs": [
    {
     "data": {
      "text/plain": [
       "[['Green', 3, 'Mongo'], ['Yellow', 3, 'Mongo']]"
      ]
     },
     "execution_count": 13,
     "metadata": {},
     "output_type": "execute_result"
    }
   ],
   "source": [
    "trueRows"
   ]
  },
  {
   "cell_type": "code",
   "execution_count": 14,
   "metadata": {},
   "outputs": [
    {
     "data": {
      "text/plain": [
       "[['Red', 1, 'Grape'], ['Red', 1, 'Grape'], ['Yellow', 3, 'Lemon']]"
      ]
     },
     "execution_count": 14,
     "metadata": {},
     "output_type": "execute_result"
    }
   ],
   "source": [
    "falseRows"
   ]
  },
  {
   "cell_type": "code",
   "execution_count": 15,
   "metadata": {},
   "outputs": [],
   "source": [
    "#demo \n",
    "trueRows,falseRows=partition(trainingData,Question(1,2)) #is the 2nd column >=2?"
   ]
  },
  {
   "cell_type": "code",
   "execution_count": 16,
   "metadata": {},
   "outputs": [
    {
     "data": {
      "text/plain": [
       "[['Green', 3, 'Mongo'], ['Yellow', 3, 'Mongo'], ['Yellow', 3, 'Lemon']]"
      ]
     },
     "execution_count": 16,
     "metadata": {},
     "output_type": "execute_result"
    }
   ],
   "source": [
    "trueRows"
   ]
  },
  {
   "cell_type": "code",
   "execution_count": 17,
   "metadata": {},
   "outputs": [
    {
     "data": {
      "text/plain": [
       "[['Red', 1, 'Grape'], ['Red', 1, 'Grape']]"
      ]
     },
     "execution_count": 17,
     "metadata": {},
     "output_type": "execute_result"
    }
   ],
   "source": [
    "falseRows"
   ]
  },
  {
   "cell_type": "code",
   "execution_count": 18,
   "metadata": {},
   "outputs": [],
   "source": [
    "#demo \n",
    "trueRows,falseRows=partition(trainingData,Question(2,'Mongo'))"
   ]
  },
  {
   "cell_type": "code",
   "execution_count": 19,
   "metadata": {},
   "outputs": [
    {
     "data": {
      "text/plain": [
       "[['Green', 3, 'Mongo'], ['Yellow', 3, 'Mongo']]"
      ]
     },
     "execution_count": 19,
     "metadata": {},
     "output_type": "execute_result"
    }
   ],
   "source": [
    "trueRows"
   ]
  },
  {
   "cell_type": "code",
   "execution_count": 20,
   "metadata": {},
   "outputs": [
    {
     "data": {
      "text/plain": [
       "[['Red', 1, 'Grape'], ['Red', 1, 'Grape'], ['Yellow', 3, 'Lemon']]"
      ]
     },
     "execution_count": 20,
     "metadata": {},
     "output_type": "execute_result"
    }
   ],
   "source": [
    "falseRows"
   ]
  },
  {
   "cell_type": "code",
   "execution_count": 21,
   "metadata": {},
   "outputs": [
    {
     "data": {
      "text/plain": [
       "0.6399999999999999"
      ]
     },
     "execution_count": 21,
     "metadata": {},
     "output_type": "execute_result"
    }
   ],
   "source": [
    "#calculate the Gini impurity index(uncertainty) for a list of rows\n",
    "def gini(rows):\n",
    "    counts=classCounts(rows)  # counts = {'Mongo': 2, 'Grape': 2, 'Lemon': 1}\n",
    "    impurity=1\n",
    "    for label in counts:\n",
    "        probilityOfLabel=counts[label]/float(len(rows))\n",
    "        impurity-=probilityOfLabel**2\n",
    "    return impurity\n",
    "#demo, calculate the uncertainty\n",
    "gini(trainingData)"
   ]
  },
  {
   "cell_type": "code",
   "execution_count": 22,
   "metadata": {},
   "outputs": [
    {
     "data": {
      "text/plain": [
       "0.37333333333333324"
      ]
     },
     "execution_count": 22,
     "metadata": {},
     "output_type": "execute_result"
    }
   ],
   "source": [
    "#calculate the information gain = the uncertainty of the starting node - weighted impurity of two child nodes\n",
    "def infoGain(left, right, currentUncertainty):\n",
    "    p=float(len(left))/(len(left)+len(right))\n",
    "    return currentUncertainty-p*gini(left)-(1-p)*gini(right)\n",
    "#demo\n",
    "infoGain(trueRows,falseRows,gini(trainingData))"
   ]
  },
  {
   "cell_type": "code",
   "execution_count": 23,
   "metadata": {},
   "outputs": [
    {
     "name": "stdout",
     "output_type": "stream",
     "text": [
      "0.37333333333333324\n",
      "Is diameter >= 3?\n"
     ]
    }
   ],
   "source": [
    "#find the best question to ask by iterating over every feature/value and calculating the infoGain\n",
    "def findBestSplit(rows):\n",
    "    bestGain=0\n",
    "    bestQuestion=None\n",
    "    currentUncertainty=gini(rows)\n",
    "    nFeatures=len(rows[0])-1 #number of columns\n",
    "    for col in range(nFeatures): #for each feature\n",
    "        values = set([row[col] for row in rows]) #unique values in the column\n",
    "        for value in values: #for each value\n",
    "            question = Question(col,value)\n",
    "            trueRows,falseRows=partition(rows,question)   #try splitting the dataset\n",
    "            if len(trueRows)==0 or len(falseRows)==0: #skip this splitting if it cannot devide the dataset\n",
    "                continue\n",
    "            gain = infoGain(trueRows,falseRows,currentUncertainty) #calculate the infoGain from this split\n",
    "            if gain>=bestGain:\n",
    "                bestGain,bestQuestion=gain,question\n",
    "    return bestGain,bestQuestion\n",
    "#demo\n",
    "bestGain,bestQuestion=findBestSplit(trainingData)\n",
    "print(bestGain)\n",
    "print(bestQuestion)"
   ]
  },
  {
   "cell_type": "code",
   "execution_count": 24,
   "metadata": {},
   "outputs": [],
   "source": [
    "#a leaf node classifies data\n",
    "#this holds a dictionary of class (e.g., 'Mango')->number of times it appears in the rows from the training data that reach this leaf\n",
    "class Leaf:\n",
    "    def __init__(self,rows):\n",
    "        self.predictions=classCounts(rows)"
   ]
  },
  {
   "cell_type": "code",
   "execution_count": 25,
   "metadata": {},
   "outputs": [],
   "source": [
    "#a decision node asks a question, this holds a reference to the question and two child nodes\n",
    "class DecisionNode:\n",
    "    def __init__(self, question, trueBranch, falseBranch):\n",
    "        self.question=question\n",
    "        self.trueBranch=trueBranch\n",
    "        self.falseBranch=falseBranch"
   ]
  },
  {
   "cell_type": "code",
   "execution_count": 26,
   "metadata": {},
   "outputs": [],
   "source": [
    "def buildTree(rows):\n",
    "    gain,question=findBestSplit(rows)\n",
    "    #base case: if no further info gain, we cannot ask further questions, return a leaf\n",
    "    if(gain==0):\n",
    "        return Leaf(rows)\n",
    "    #if we reach here, we have found a useful feature/value to do a partition\n",
    "    trueRows,falseRows=partition(rows,question)\n",
    "    #Recursion\n",
    "    trueBranch=buildTree(trueRows)\n",
    "    falseBranch=buildTree(falseRows)\n",
    "    return DecisionNode(question,trueBranch,falseBranch)"
   ]
  },
  {
   "cell_type": "code",
   "execution_count": 27,
   "metadata": {},
   "outputs": [],
   "source": [
    "def printTree(node, spacing=\"\"):\n",
    "    #base case: we have reached the leaf\n",
    "    if isinstance(node, Leaf):\n",
    "        print(spacing+\"Predict\",node.predictions)\n",
    "        return\n",
    "    #print the question of this node\n",
    "    print(spacing+str(node.question))\n",
    "    #call this function recursively on the true branch\n",
    "    print(spacing+'--> True')\n",
    "    printTree(node.trueBranch,spacing+\" \")\n",
    "    #call this function recursively on the false branch\n",
    "    print(spacing+'--> False')\n",
    "    printTree(node.falseBranch,spacing+\" \")"
   ]
  },
  {
   "cell_type": "code",
   "execution_count": 28,
   "metadata": {},
   "outputs": [
    {
     "data": {
      "text/plain": [
       "{'Mongo': 1}"
      ]
     },
     "execution_count": 28,
     "metadata": {},
     "output_type": "execute_result"
    }
   ],
   "source": [
    "def classify(row,node):\n",
    "    if isinstance(node,Leaf):   #if we reach a leaf\n",
    "        return node.predictions   \n",
    "    \n",
    "    #not reach a leaf, continue following a branch\n",
    "    if node.question.match(row):   #decide to follow which branch\n",
    "        return classify(row,node.trueBranch)     #Recursion\n",
    "    else:\n",
    "        return classify(row,node.falseBranch)    #Recursion\n",
    "#demo\n",
    "myTree=buildTree(trainingData)\n",
    "classify(trainingData[0],myTree)"
   ]
  },
  {
   "cell_type": "code",
   "execution_count": 29,
   "metadata": {},
   "outputs": [
    {
     "data": {
      "text/plain": [
       "{'Mongo': '100%'}"
      ]
     },
     "execution_count": 29,
     "metadata": {},
     "output_type": "execute_result"
    }
   ],
   "source": [
    "#print the leaf prettier\n",
    "def printLeaf(counts):\n",
    "    total=sum(counts.values())*1.0\n",
    "    probilities={}\n",
    "    for label in counts.keys():\n",
    "        probilities[label]=str(int(counts[label]/total*100))+\"%\"\n",
    "    return probilities\n",
    "#demo\n",
    "printLeaf(classify(trainingData[0],myTree))"
   ]
  },
  {
   "cell_type": "code",
   "execution_count": 30,
   "metadata": {},
   "outputs": [
    {
     "name": "stdout",
     "output_type": "stream",
     "text": [
      "Is diameter >= 3?\n",
      "--> True\n",
      " Is color == Yellow?\n",
      " --> True\n",
      "  Predict {'Mongo': 1, 'Lemon': 1}\n",
      " --> False\n",
      "  Predict {'Mongo': 1}\n",
      "--> False\n",
      " Predict {'Grape': 2}\n",
      "Actual: Mango. Predicted: {'Mongo': '100%'}\n",
      "Actual: Mango. Predicted: {'Mongo': '50%', 'Lemon': '50%'}\n",
      "Actual: Grape. Predicted: {'Grape': '100%'}\n",
      "Actual: Grape. Predicted: {'Grape': '100%'}\n",
      "Actual: Lemon. Predicted: {'Mongo': '50%', 'Lemon': '50%'}\n"
     ]
    }
   ],
   "source": [
    "if __name__=='__main__':\n",
    "    myTree=buildTree(trainingData)\n",
    "    printTree(myTree)\n",
    "    testingData=[['Green',3,'Mango'],['Yellow',4,'Mango'],['Red',2,'Grape'],['Red',1,'Grape'],['Yellow',3,'Lemon']]\n",
    "    for row in testingData:\n",
    "        print(\"Actual: %s. Predicted: %s\" % (row[-1], printLeaf(classify(row,myTree))))"
   ]
  }
 ],
 "metadata": {
  "kernelspec": {
   "display_name": "Python 3",
   "language": "python",
   "name": "python3"
  },
  "language_info": {
   "codemirror_mode": {
    "name": "ipython",
    "version": 3
   },
   "file_extension": ".py",
   "mimetype": "text/x-python",
   "name": "python",
   "nbconvert_exporter": "python",
   "pygments_lexer": "ipython3",
   "version": "3.7.4"
  }
 },
 "nbformat": 4,
 "nbformat_minor": 2
}
