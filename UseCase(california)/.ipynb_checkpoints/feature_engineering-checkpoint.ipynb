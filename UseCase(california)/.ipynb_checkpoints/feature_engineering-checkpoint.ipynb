{
 "cells": [
  {
   "cell_type": "code",
   "execution_count": 30,
   "metadata": {},
   "outputs": [
    {
     "name": "stderr",
     "output_type": "stream",
     "text": [
      "/Users/FY/opt/anaconda3/lib/python3.7/site-packages/sklearn/externals/joblib/__init__.py:15: DeprecationWarning: sklearn.externals.joblib is deprecated in 0.21 and will be removed in 0.23. Please import this functionality directly from joblib, which can be installed with: pip install joblib. If this warning is raised when loading pickled models, you may need to re-serialize those models with scikit-learn 0.21+.\n",
      "  warnings.warn(msg, category=DeprecationWarning)\n"
     ]
    }
   ],
   "source": [
    "import pandas as pd\n",
    "from sklearn.externals import joblib"
   ]
  },
  {
   "cell_type": "code",
   "execution_count": 26,
   "metadata": {},
   "outputs": [
    {
     "data": {
      "text/plain": [
       "(1460, 289)"
      ]
     },
     "execution_count": 26,
     "metadata": {},
     "output_type": "execute_result"
    }
   ],
   "source": [
    "train = pd.read_csv('cleaned/train_cleaned.csv')\n",
    "train.shape"
   ]
  },
  {
   "cell_type": "code",
   "execution_count": 38,
   "metadata": {},
   "outputs": [
    {
     "data": {
      "text/plain": [
       "SalePrice            1459\n",
       "Utilities_NoSeWa        0\n",
       "ExterCond_Fa            0\n",
       "Electrical_FuseA        0\n",
       "Electrical_FuseF        0\n",
       "                     ... \n",
       "HouseStyle_1Story       0\n",
       "HouseStyle_2.5Fin       0\n",
       "HouseStyle_2.5Unf       0\n",
       "HouseStyle_2Story       0\n",
       "Unnamed: 0              0\n",
       "Length: 289, dtype: int64"
      ]
     },
     "execution_count": 38,
     "metadata": {},
     "output_type": "execute_result"
    }
   ],
   "source": [
    "test = pd.read_csv('cleaned/test_cleaned.csv')\n",
    "test.isnull().sum().sort_values(ascending=False)"
   ]
  },
  {
   "cell_type": "code",
   "execution_count": 41,
   "metadata": {},
   "outputs": [],
   "source": [
    "X_train = train.drop(['SalePrice'],axis=1)\n",
    "y_train = train['SalePrice']\n",
    "X_test = test.drop(['SalePrice'],axis=1)"
   ]
  },
  {
   "cell_type": "code",
   "execution_count": 46,
   "metadata": {},
   "outputs": [
    {
     "data": {
      "text/plain": [
       "((1460, 288), (1459, 288), (1460,))"
      ]
     },
     "execution_count": 46,
     "metadata": {},
     "output_type": "execute_result"
    }
   ],
   "source": [
    "X_train.shape, X_test.shape,y_train.shape"
   ]
  },
  {
   "cell_type": "markdown",
   "metadata": {},
   "source": [
    "## Reduce demension"
   ]
  },
  {
   "cell_type": "code",
   "execution_count": 47,
   "metadata": {},
   "outputs": [
    {
     "data": {
      "text/plain": [
       "['pca.m']"
      ]
     },
     "execution_count": 47,
     "metadata": {},
     "output_type": "execute_result"
    }
   ],
   "source": [
    "from sklearn.decomposition import PCA\n",
    "pca = PCA(n_components=0.999)\n",
    "X_train_reduced = pca.fit_transform(X_train)\n",
    "joblib.dump(pca, 'pca.m') # save pca model as pca.m"
   ]
  },
  {
   "cell_type": "code",
   "execution_count": 48,
   "metadata": {},
   "outputs": [
    {
     "data": {
      "text/html": [
       "<div>\n",
       "<style scoped>\n",
       "    .dataframe tbody tr th:only-of-type {\n",
       "        vertical-align: middle;\n",
       "    }\n",
       "\n",
       "    .dataframe tbody tr th {\n",
       "        vertical-align: top;\n",
       "    }\n",
       "\n",
       "    .dataframe thead th {\n",
       "        text-align: right;\n",
       "    }\n",
       "</style>\n",
       "<table border=\"1\" class=\"dataframe\">\n",
       "  <thead>\n",
       "    <tr style=\"text-align: right;\">\n",
       "      <th></th>\n",
       "      <th>0</th>\n",
       "      <th>1</th>\n",
       "      <th>2</th>\n",
       "      <th>3</th>\n",
       "      <th>4</th>\n",
       "      <th>5</th>\n",
       "      <th>6</th>\n",
       "      <th>7</th>\n",
       "    </tr>\n",
       "  </thead>\n",
       "  <tbody>\n",
       "    <tr>\n",
       "      <th>0</th>\n",
       "      <td>-2063.484568</td>\n",
       "      <td>-11.850026</td>\n",
       "      <td>-959.335404</td>\n",
       "      <td>-413.720529</td>\n",
       "      <td>777.011075</td>\n",
       "      <td>-184.270056</td>\n",
       "      <td>-170.188046</td>\n",
       "      <td>-65.515757</td>\n",
       "    </tr>\n",
       "    <tr>\n",
       "      <th>1</th>\n",
       "      <td>-909.986376</td>\n",
       "      <td>-41.030561</td>\n",
       "      <td>-1109.539086</td>\n",
       "      <td>603.697498</td>\n",
       "      <td>265.612501</td>\n",
       "      <td>-63.869386</td>\n",
       "      <td>-61.133917</td>\n",
       "      <td>56.613023</td>\n",
       "    </tr>\n",
       "    <tr>\n",
       "      <th>2</th>\n",
       "      <td>736.208148</td>\n",
       "      <td>56.746432</td>\n",
       "      <td>-940.855834</td>\n",
       "      <td>-600.340489</td>\n",
       "      <td>453.713194</td>\n",
       "      <td>-143.792195</td>\n",
       "      <td>-159.092521</td>\n",
       "      <td>-85.878619</td>\n",
       "    </tr>\n",
       "    <tr>\n",
       "      <th>3</th>\n",
       "      <td>-968.791440</td>\n",
       "      <td>-84.329569</td>\n",
       "      <td>-928.155742</td>\n",
       "      <td>-709.004391</td>\n",
       "      <td>221.702616</td>\n",
       "      <td>-113.472384</td>\n",
       "      <td>25.777169</td>\n",
       "      <td>-111.949616</td>\n",
       "    </tr>\n",
       "    <tr>\n",
       "      <th>4</th>\n",
       "      <td>3760.010238</td>\n",
       "      <td>608.337491</td>\n",
       "      <td>-936.418193</td>\n",
       "      <td>-665.664945</td>\n",
       "      <td>581.050123</td>\n",
       "      <td>-154.051555</td>\n",
       "      <td>-168.839906</td>\n",
       "      <td>-247.756239</td>\n",
       "    </tr>\n",
       "  </tbody>\n",
       "</table>\n",
       "</div>"
      ],
      "text/plain": [
       "             0           1            2           3           4           5  \\\n",
       "0 -2063.484568  -11.850026  -959.335404 -413.720529  777.011075 -184.270056   \n",
       "1  -909.986376  -41.030561 -1109.539086  603.697498  265.612501  -63.869386   \n",
       "2   736.208148   56.746432  -940.855834 -600.340489  453.713194 -143.792195   \n",
       "3  -968.791440  -84.329569  -928.155742 -709.004391  221.702616 -113.472384   \n",
       "4  3760.010238  608.337491  -936.418193 -665.664945  581.050123 -154.051555   \n",
       "\n",
       "            6           7  \n",
       "0 -170.188046  -65.515757  \n",
       "1  -61.133917   56.613023  \n",
       "2 -159.092521  -85.878619  \n",
       "3   25.777169 -111.949616  \n",
       "4 -168.839906 -247.756239  "
      ]
     },
     "execution_count": 48,
     "metadata": {},
     "output_type": "execute_result"
    }
   ],
   "source": [
    "pd.DataFrame(X_train_reduced).head()"
   ]
  },
  {
   "cell_type": "code",
   "execution_count": 49,
   "metadata": {},
   "outputs": [],
   "source": [
    "pca2 = joblib.load('pca.m') # load pca.m as pca2\n",
    "X_test_reduced = pca2.transform(X_test)"
   ]
  },
  {
   "cell_type": "code",
   "execution_count": 50,
   "metadata": {},
   "outputs": [
    {
     "data": {
      "text/html": [
       "<div>\n",
       "<style scoped>\n",
       "    .dataframe tbody tr th:only-of-type {\n",
       "        vertical-align: middle;\n",
       "    }\n",
       "\n",
       "    .dataframe tbody tr th {\n",
       "        vertical-align: top;\n",
       "    }\n",
       "\n",
       "    .dataframe thead th {\n",
       "        text-align: right;\n",
       "    }\n",
       "</style>\n",
       "<table border=\"1\" class=\"dataframe\">\n",
       "  <thead>\n",
       "    <tr style=\"text-align: right;\">\n",
       "      <th></th>\n",
       "      <th>0</th>\n",
       "      <th>1</th>\n",
       "      <th>2</th>\n",
       "      <th>3</th>\n",
       "      <th>4</th>\n",
       "      <th>5</th>\n",
       "      <th>6</th>\n",
       "      <th>7</th>\n",
       "    </tr>\n",
       "  </thead>\n",
       "  <tbody>\n",
       "    <tr>\n",
       "      <th>0</th>\n",
       "      <td>1089.553429</td>\n",
       "      <td>-675.989026</td>\n",
       "      <td>996.186452</td>\n",
       "      <td>530.533355</td>\n",
       "      <td>-28.979450</td>\n",
       "      <td>-44.615110</td>\n",
       "      <td>-65.785559</td>\n",
       "      <td>-231.507261</td>\n",
       "    </tr>\n",
       "    <tr>\n",
       "      <th>1</th>\n",
       "      <td>3776.970129</td>\n",
       "      <td>-449.397832</td>\n",
       "      <td>895.299709</td>\n",
       "      <td>295.913817</td>\n",
       "      <td>1984.432094</td>\n",
       "      <td>12308.177344</td>\n",
       "      <td>-66.494861</td>\n",
       "      <td>-31.330123</td>\n",
       "    </tr>\n",
       "    <tr>\n",
       "      <th>2</th>\n",
       "      <td>3311.646357</td>\n",
       "      <td>-96.266522</td>\n",
       "      <td>1076.506361</td>\n",
       "      <td>38.341695</td>\n",
       "      <td>616.047273</td>\n",
       "      <td>-144.196432</td>\n",
       "      <td>-174.670564</td>\n",
       "      <td>57.336005</td>\n",
       "    </tr>\n",
       "    <tr>\n",
       "      <th>3</th>\n",
       "      <td>-541.209689</td>\n",
       "      <td>-21.504902</td>\n",
       "      <td>1070.143579</td>\n",
       "      <td>-57.196199</td>\n",
       "      <td>404.199484</td>\n",
       "      <td>-105.290585</td>\n",
       "      <td>-159.324536</td>\n",
       "      <td>40.791017</td>\n",
       "    </tr>\n",
       "    <tr>\n",
       "      <th>4</th>\n",
       "      <td>-5514.627480</td>\n",
       "      <td>164.593803</td>\n",
       "      <td>957.349968</td>\n",
       "      <td>367.951069</td>\n",
       "      <td>-662.878202</td>\n",
       "      <td>97.465284</td>\n",
       "      <td>-67.903864</td>\n",
       "      <td>22.465504</td>\n",
       "    </tr>\n",
       "  </tbody>\n",
       "</table>\n",
       "</div>"
      ],
      "text/plain": [
       "             0           1            2           3            4  \\\n",
       "0  1089.553429 -675.989026   996.186452  530.533355   -28.979450   \n",
       "1  3776.970129 -449.397832   895.299709  295.913817  1984.432094   \n",
       "2  3311.646357  -96.266522  1076.506361   38.341695   616.047273   \n",
       "3  -541.209689  -21.504902  1070.143579  -57.196199   404.199484   \n",
       "4 -5514.627480  164.593803   957.349968  367.951069  -662.878202   \n",
       "\n",
       "              5           6           7  \n",
       "0    -44.615110  -65.785559 -231.507261  \n",
       "1  12308.177344  -66.494861  -31.330123  \n",
       "2   -144.196432 -174.670564   57.336005  \n",
       "3   -105.290585 -159.324536   40.791017  \n",
       "4     97.465284  -67.903864   22.465504  "
      ]
     },
     "execution_count": 50,
     "metadata": {},
     "output_type": "execute_result"
    }
   ],
   "source": [
    "pd.DataFrame(X_test_reduced).head()"
   ]
  },
  {
   "cell_type": "markdown",
   "metadata": {},
   "source": [
    "## Model selection"
   ]
  },
  {
   "cell_type": "code",
   "execution_count": 51,
   "metadata": {},
   "outputs": [],
   "source": [
    "from sklearn.model_selection import cross_val_score \n",
    "from sklearn.model_selection import GridSearchCV,RandomizedSearchCV\n",
    "\n",
    "from sklearn.linear_model import LinearRegression as LR\n",
    "from sklearn.linear_model import Ridge\n",
    "from sklearn.linear_model import Lasso\n",
    "from sklearn.linear_model import ElasticNet\n",
    "\n",
    "from sklearn.neighbors import KNeighborsRegressor as KNR\n",
    "from sklearn.svm import SVR\n",
    "from sklearn.ensemble import RandomForestRegressor as RFR\n",
    "from sklearn.ensemble import GradientBoostingRegressor as GBR\n",
    "from xgboost import XGBRegressor as XGBR"
   ]
  },
  {
   "cell_type": "code",
   "execution_count": 52,
   "metadata": {},
   "outputs": [],
   "source": [
    "lr = LR()\n",
    "lr_result = cross_val_score(lr,X,y,cv=5,n_jobs=-1,scoring='neg_mean_squared_error').mean()"
   ]
  },
  {
   "cell_type": "code",
   "execution_count": 53,
   "metadata": {},
   "outputs": [],
   "source": [
    "ridge = Ridge()\n",
    "ridge_result = cross_val_score(ridge,X,y,cv=5,n_jobs=-1,scoring='neg_mean_squared_error').mean()"
   ]
  },
  {
   "cell_type": "code",
   "execution_count": 54,
   "metadata": {},
   "outputs": [],
   "source": [
    "lasso = Lasso()\n",
    "lasso_result = cross_val_score(lasso,X,y,cv=5,n_jobs=-1,scoring='neg_mean_squared_error').mean()"
   ]
  },
  {
   "cell_type": "code",
   "execution_count": 55,
   "metadata": {},
   "outputs": [],
   "source": [
    "en = ElasticNet()\n",
    "en_result = cross_val_score(en,X,y,cv=5,n_jobs=-1,scoring='neg_mean_squared_error').mean()"
   ]
  },
  {
   "cell_type": "code",
   "execution_count": 56,
   "metadata": {},
   "outputs": [],
   "source": [
    "svr = SVR()\n",
    "svr_result = cross_val_score(svr,X,y,cv=5,n_jobs=-1,scoring='neg_mean_squared_error').mean()"
   ]
  },
  {
   "cell_type": "code",
   "execution_count": 57,
   "metadata": {},
   "outputs": [],
   "source": [
    "knr = KNR()\n",
    "knr_result = cross_val_score(knr,X,y,cv=5,n_jobs=-1,scoring='neg_mean_squared_error').mean()"
   ]
  },
  {
   "cell_type": "code",
   "execution_count": 58,
   "metadata": {},
   "outputs": [],
   "source": [
    "rfr = RFR()\n",
    "rfr_result = cross_val_score(rfr,X,y,cv=5,n_jobs=-1,scoring='neg_mean_squared_error').mean()"
   ]
  },
  {
   "cell_type": "code",
   "execution_count": 59,
   "metadata": {},
   "outputs": [],
   "source": [
    "gbr = GBR()\n",
    "gbr_result = cross_val_score(gbr,X,y,cv=5,n_jobs=-1,scoring='neg_mean_squared_error').mean()"
   ]
  },
  {
   "cell_type": "code",
   "execution_count": 60,
   "metadata": {},
   "outputs": [],
   "source": [
    "xgbr = XGBR()\n",
    "xgbr_result = cross_val_score(xgbr,X,y,cv=5,n_jobs=-1,scoring='neg_mean_squared_error').mean()"
   ]
  },
  {
   "cell_type": "code",
   "execution_count": 61,
   "metadata": {},
   "outputs": [
    {
     "name": "stdout",
     "output_type": "stream",
     "text": [
      "MSE of LR is: 5.33041267207878e+18\n",
      "MSE of Ridge is: 1081140399.4743972\n",
      "MSE of Lasso is: 1187235383.1210105\n",
      "MSE of EN is: 1257138303.7288868\n",
      "MSE of SVR is: 6624638773.308963\n",
      "MSE of KNR is: 2470967567.3733153\n",
      "MSE of RFR is: 1001461145.0936712\n",
      "MSE of GBR is: 731665598.4530817\n",
      "MSE of XBR is: 731514496.735886\n"
     ]
    }
   ],
   "source": [
    "print(\"MSE of LR is: \"+str(-lr_result))\n",
    "print(\"MSE of Ridge is: \"+str(-ridge_result))\n",
    "print(\"MSE of Lasso is: \"+str(-lasso_result))\n",
    "print(\"MSE of EN is: \"+str(-en_result))\n",
    "\n",
    "print(\"MSE of SVR is: \"+str(-svr_result))\n",
    "print(\"MSE of KNR is: \"+str(-knr_result))\n",
    "print(\"MSE of RFR is: \"+str(-rfr_result))\n",
    "print(\"MSE of GBR is: \"+str(-gbr_result))\n",
    "print(\"MSE of XBR is: \"+str(-xgbr_result))"
   ]
  },
  {
   "cell_type": "markdown",
   "metadata": {},
   "source": [
    "## Train the best GBR model"
   ]
  },
  {
   "cell_type": "code",
   "execution_count": 23,
   "metadata": {},
   "outputs": [
    {
     "data": {
      "text/plain": [
       "{'subsample': 0.5, 'n_estimators': 1000, 'max_depth': 6, 'learning_rate': 0.01}"
      ]
     },
     "execution_count": 23,
     "metadata": {},
     "output_type": "execute_result"
    }
   ],
   "source": [
    "params_GBR = {'learning_rate': [0.01, 0.02, 0.03],\n",
    "             'subsample': [0.9, 0.5, 0.2],\n",
    "             'n_estimators': [100, 500, 1000],\n",
    "             'max_depth': [4, 6, 8]\n",
    "             }\n",
    "gbr = GBR()\n",
    "clf = RandomizedSearchCV(gbr, param_distributions=params_GBR, cv=3, n_iter=10)\n",
    "clf.fit(X, y)\n",
    "clf.best_params_"
   ]
  },
  {
   "cell_type": "code",
   "execution_count": null,
   "metadata": {},
   "outputs": [],
   "source": [
    "clf.cv_results_"
   ]
  },
  {
   "cell_type": "code",
   "execution_count": null,
   "metadata": {},
   "outputs": [],
   "source": [
    "gbr_best = GBR(subsample=0.5, n_estimators=500, max_depth=8, learning_rate=0.02)\n",
    "gbr_best.fit(X,y) # use all training set to fit the model\n",
    "# use test_cleaned to test"
   ]
  },
  {
   "cell_type": "code",
   "execution_count": null,
   "metadata": {},
   "outputs": [],
   "source": []
  }
 ],
 "metadata": {
  "kernelspec": {
   "display_name": "Python 3",
   "language": "python",
   "name": "python3"
  },
  "language_info": {
   "codemirror_mode": {
    "name": "ipython",
    "version": 3
   },
   "file_extension": ".py",
   "mimetype": "text/x-python",
   "name": "python",
   "nbconvert_exporter": "python",
   "pygments_lexer": "ipython3",
   "version": "3.7.5"
  },
  "latex_envs": {
   "LaTeX_envs_menu_present": true,
   "autoclose": false,
   "autocomplete": true,
   "bibliofile": "biblio.bib",
   "cite_by": "apalike",
   "current_citInitial": 1,
   "eqLabelWithNumbers": true,
   "eqNumInitial": 1,
   "hotkeys": {
    "equation": "Ctrl-E",
    "itemize": "Ctrl-I"
   },
   "labels_anchors": false,
   "latex_user_defs": false,
   "report_style_numbering": false,
   "user_envs_cfg": false
  }
 },
 "nbformat": 4,
 "nbformat_minor": 2
}
