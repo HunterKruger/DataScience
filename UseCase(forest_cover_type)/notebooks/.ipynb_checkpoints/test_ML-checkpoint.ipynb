{
 "cells": [
  {
   "cell_type": "code",
   "execution_count": 3,
   "metadata": {
    "ExecuteTime": {
     "end_time": "2020-04-14T14:35:58.112686Z",
     "start_time": "2020-04-14T14:35:58.099735Z"
    }
   },
   "outputs": [],
   "source": [
    "import pandas as pd \n",
    "import numpy as np\n",
    "from sklearn.model_selection import train_test_split\n",
    "\n",
    "import matplotlib.pyplot as plt\n",
    "%matplotlib inline\n",
    "\n",
    "import joblib\n",
    "from sklearn.metrics import classification_report\n",
    "from sklearn.metrics import confusion_matrix\n",
    "from sklearn.metrics import accuracy_score"
   ]
  },
  {
   "cell_type": "code",
   "execution_count": 4,
   "metadata": {
    "ExecuteTime": {
     "end_time": "2020-04-14T14:36:03.810148Z",
     "start_time": "2020-04-14T14:36:03.772663Z"
    }
   },
   "outputs": [
    {
     "data": {
      "text/plain": [
       "((3024, 50), (3024, 1))"
      ]
     },
     "execution_count": 4,
     "metadata": {},
     "output_type": "execute_result"
    }
   ],
   "source": [
    "X_test=pd.read_csv('../data/featured_data/X_test.csv')\n",
    "y_test=pd.read_csv('../data/featured_data/y_test.csv')\n",
    "X_test.shape,y_test.shape"
   ]
  },
  {
   "cell_type": "code",
   "execution_count": 5,
   "metadata": {
    "ExecuteTime": {
     "end_time": "2020-04-14T14:36:12.570737Z",
     "start_time": "2020-04-14T14:36:12.561062Z"
    }
   },
   "outputs": [],
   "source": [
    "def result_overview(y_test,y_pred):\n",
    "    print(\"Confusion_Matrix:\")\n",
    "    print(str(confusion_matrix(y_test, y_pred)))\n",
    "    print(classification_report(y_test, y_pred))\n",
    "    print(\"Accuracy:\" + str(accuracy_score(y_test, y_pred)))"
   ]
  },
  {
   "cell_type": "code",
   "execution_count": 6,
   "metadata": {
    "ExecuteTime": {
     "end_time": "2020-04-14T14:36:38.030278Z",
     "start_time": "2020-04-14T14:36:37.446692Z"
    }
   },
   "outputs": [
    {
     "name": "stderr",
     "output_type": "stream",
     "text": [
      "/Users/FY/anaconda3/lib/python3.6/importlib/_bootstrap.py:219: RuntimeWarning: numpy.ufunc size changed, may indicate binary incompatibility. Expected 192 from C header, got 216 from PyObject\n",
      "  return f(*args, **kwds)\n",
      "/Users/FY/anaconda3/lib/python3.6/importlib/_bootstrap.py:219: RuntimeWarning: numpy.ufunc size changed, may indicate binary incompatibility. Expected 192 from C header, got 216 from PyObject\n",
      "  return f(*args, **kwds)\n",
      "/Users/FY/anaconda3/lib/python3.6/importlib/_bootstrap.py:219: RuntimeWarning: numpy.ufunc size changed, may indicate binary incompatibility. Expected 192 from C header, got 216 from PyObject\n",
      "  return f(*args, **kwds)\n"
     ]
    },
    {
     "name": "stdout",
     "output_type": "stream",
     "text": [
      "Confusion_Matrix:\n",
      "[[312  69   0   0   7   3  43]\n",
      " [ 95 300  10   0  39  12   2]\n",
      " [  0   2 369  17   4  45   0]\n",
      " [  0   0   5 435   0   7   0]\n",
      " [  0  25   7   0 378   8   0]\n",
      " [  0   3  25   6   2 375   0]\n",
      " [ 14   1   0   0   0   0 404]]\n",
      "              precision    recall  f1-score   support\n",
      "\n",
      "           1       0.74      0.72      0.73       434\n",
      "           2       0.75      0.66      0.70       458\n",
      "           3       0.89      0.84      0.87       437\n",
      "           4       0.95      0.97      0.96       447\n",
      "           5       0.88      0.90      0.89       418\n",
      "           6       0.83      0.91      0.87       411\n",
      "           7       0.90      0.96      0.93       419\n",
      "\n",
      "    accuracy                           0.85      3024\n",
      "   macro avg       0.85      0.85      0.85      3024\n",
      "weighted avg       0.85      0.85      0.85      3024\n",
      "\n",
      "Accuracy:0.8508597883597884\n"
     ]
    }
   ],
   "source": [
    "rf=joblib.load(\"../models/rf.m\")\n",
    "y_pred = rf.predict(X_test)\n",
    "result_overview(y_test,y_pred)"
   ]
  },
  {
   "cell_type": "code",
   "execution_count": null,
   "metadata": {},
   "outputs": [],
   "source": []
  }
 ],
 "metadata": {
  "kernelspec": {
   "display_name": "Python 3",
   "language": "python",
   "name": "python3"
  },
  "language_info": {
   "codemirror_mode": {
    "name": "ipython",
    "version": 3
   },
   "file_extension": ".py",
   "mimetype": "text/x-python",
   "name": "python",
   "nbconvert_exporter": "python",
   "pygments_lexer": "ipython3",
   "version": "3.6.8"
  },
  "latex_envs": {
   "LaTeX_envs_menu_present": true,
   "autoclose": false,
   "autocomplete": true,
   "bibliofile": "biblio.bib",
   "cite_by": "apalike",
   "current_citInitial": 1,
   "eqLabelWithNumbers": true,
   "eqNumInitial": 1,
   "hotkeys": {
    "equation": "Ctrl-E",
    "itemize": "Ctrl-I"
   },
   "labels_anchors": false,
   "latex_user_defs": false,
   "report_style_numbering": false,
   "user_envs_cfg": false
  },
  "toc": {
   "base_numbering": 1,
   "nav_menu": {},
   "number_sections": true,
   "sideBar": true,
   "skip_h1_title": false,
   "title_cell": "Table of Contents",
   "title_sidebar": "Contents",
   "toc_cell": false,
   "toc_position": {},
   "toc_section_display": true,
   "toc_window_display": false
  }
 },
 "nbformat": 4,
 "nbformat_minor": 4
}
