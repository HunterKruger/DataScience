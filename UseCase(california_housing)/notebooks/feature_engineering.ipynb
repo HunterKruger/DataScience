{
 "cells": [
  {
   "cell_type": "code",
   "execution_count": 1,
   "metadata": {
    "ExecuteTime": {
     "end_time": "2020-04-08T13:57:00.704891Z",
     "start_time": "2020-04-08T13:56:57.634491Z"
    }
   },
   "outputs": [],
   "source": [
    "import pandas as pd\n",
    "import numpy as np\n",
    "from matplotlib import pyplot as plt\n",
    "import seaborn as sns\n",
    "from scipy import stats\n",
    "from scipy import special\n",
    "%matplotlib inline\n",
    "from sklearn.preprocessing import StandardScaler, LabelEncoder, OneHotEncoder\n",
    "import joblib\n",
    "from sklearn.decomposition import PCA"
   ]
  },
  {
   "cell_type": "code",
   "execution_count": 2,
   "metadata": {
    "ExecuteTime": {
     "end_time": "2020-04-08T13:57:00.784822Z",
     "start_time": "2020-04-08T13:57:00.707360Z"
    }
   },
   "outputs": [],
   "source": [
    "train = pd.read_csv('../data/raw_data/train.csv')\n",
    "test = pd.read_csv('../data/raw_data/test.csv')"
   ]
  },
  {
   "cell_type": "code",
   "execution_count": 3,
   "metadata": {
    "ExecuteTime": {
     "end_time": "2020-04-08T13:57:00.802739Z",
     "start_time": "2020-04-08T13:57:00.789114Z"
    }
   },
   "outputs": [],
   "source": [
    "num_col=[] # to do: missing values, outlier, skewness(log1p, Box-cox)\n",
    "multi_cat_col=[] # to do: Onehot\n",
    "bin_cat_col=[] # to do: Label-encoding\n",
    "ord_col=[]\n",
    "\n",
    "def train_test_column_same():\n",
    "    train_col=train.columns.to_list()\n",
    "    test_col=test.columns.to_list()\n",
    "    train_col.remove('SalePrice')\n",
    "    print(train_col==test_col) \n",
    "\n",
    "def col_overview():\n",
    "    print(\"num_col: \")\n",
    "    print(num_col)\n",
    "    print(\"multi_cat_col\")\n",
    "    print(multi_cat_col)\n",
    "    print(\"ord_col\")\n",
    "    print(ord_col)\n",
    "    print(\"bin_cat_col\")\n",
    "    print(bin_cat_col)\n",
    "    \n",
    "def merge_rare(dataframe, col, percentage):\n",
    "    series = pd.value_counts(dataframe[col])\n",
    "    mask = (series / series.sum() * 100).lt(percentage)  # 10 is the percentage\n",
    "    dataframe = dataframe.assign(temp=np.where(dataframe[col].isin(\n",
    "    series[mask].index), 'Other', dataframe[col]))\n",
    "    dataframe[col] = dataframe.temp\n",
    "    dataframe.drop('temp', axis=1, inplace=True)\n",
    "    print(dataframe[col].value_counts())\n",
    "    \n",
    "def mean_encoder(col):\n",
    "    means = pd.read_csv('../data/raw_data/train.csv').groupby(col).SalePrice.mean()\n",
    "    train[col+'_mean_target'] = train[col].map(means)\n",
    "    test[col+'_mean_target'] = test[col].map(means)\n",
    "    train.drop(col,axis=1,inplace=True)\n",
    "    test.drop(col,axis=1,inplace=True)"
   ]
  },
  {
   "cell_type": "code",
   "execution_count": 4,
   "metadata": {
    "ExecuteTime": {
     "end_time": "2020-04-08T13:57:00.819887Z",
     "start_time": "2020-04-08T13:57:00.806637Z"
    }
   },
   "outputs": [],
   "source": [
    "# SalePrice\n",
    "train['SalePrice'] = np.log1p(train['SalePrice'])"
   ]
  },
  {
   "cell_type": "code",
   "execution_count": 5,
   "metadata": {
    "ExecuteTime": {
     "end_time": "2020-04-08T13:57:00.858447Z",
     "start_time": "2020-04-08T13:57:00.846819Z"
    }
   },
   "outputs": [],
   "source": [
    "# Id\n",
    "train.drop('Id',axis=1,inplace=True)\n",
    "test.drop('Id',axis=1,inplace=True)"
   ]
  },
  {
   "cell_type": "code",
   "execution_count": 6,
   "metadata": {
    "ExecuteTime": {
     "end_time": "2020-04-08T13:57:00.927006Z",
     "start_time": "2020-04-08T13:57:00.863934Z"
    }
   },
   "outputs": [],
   "source": [
    "# MSSubClass \n",
    "# impute new category in test set by mode in training set\n",
    "test.loc[test.MSSubClass==150,'MSSubClass'] = 20\n",
    "mean_encoder('MSSubClass')\n",
    "num_col.append('MSSubClass_mean_target')"
   ]
  },
  {
   "cell_type": "code",
   "execution_count": 7,
   "metadata": {
    "ExecuteTime": {
     "end_time": "2020-04-08T13:57:00.939716Z",
     "start_time": "2020-04-08T13:57:00.934198Z"
    }
   },
   "outputs": [],
   "source": [
    "# MSZoning\n",
    "multi_cat_col.append('MSZoning')"
   ]
  },
  {
   "cell_type": "code",
   "execution_count": 8,
   "metadata": {
    "ExecuteTime": {
     "end_time": "2020-04-08T13:57:00.950384Z",
     "start_time": "2020-04-08T13:57:00.944561Z"
    }
   },
   "outputs": [],
   "source": [
    "# LotFrontage\n",
    "num_col.append('LotFrontage')"
   ]
  },
  {
   "cell_type": "code",
   "execution_count": 9,
   "metadata": {
    "ExecuteTime": {
     "end_time": "2020-04-08T13:57:00.964585Z",
     "start_time": "2020-04-08T13:57:00.958343Z"
    }
   },
   "outputs": [],
   "source": [
    "# LotArea\n",
    "num_col.append('LotArea')"
   ]
  },
  {
   "cell_type": "code",
   "execution_count": 10,
   "metadata": {
    "ExecuteTime": {
     "end_time": "2020-04-08T13:57:00.974523Z",
     "start_time": "2020-04-08T13:57:00.968160Z"
    }
   },
   "outputs": [],
   "source": [
    "# Street\n",
    "bin_cat_col.append('Street')"
   ]
  },
  {
   "cell_type": "code",
   "execution_count": 11,
   "metadata": {
    "ExecuteTime": {
     "end_time": "2020-04-08T13:57:00.995644Z",
     "start_time": "2020-04-08T13:57:00.984542Z"
    }
   },
   "outputs": [],
   "source": [
    "# Alley\n",
    "train.Alley.fillna('No alley access',inplace=True)\n",
    "test.Alley.fillna('No alley access',inplace=True)\n",
    "multi_cat_col.append('Alley')"
   ]
  },
  {
   "cell_type": "code",
   "execution_count": 12,
   "metadata": {
    "ExecuteTime": {
     "end_time": "2020-04-08T13:57:01.010159Z",
     "start_time": "2020-04-08T13:57:01.002156Z"
    }
   },
   "outputs": [],
   "source": [
    "# LotShape\n",
    "multi_cat_col.append('LotShape')"
   ]
  },
  {
   "cell_type": "code",
   "execution_count": 13,
   "metadata": {
    "ExecuteTime": {
     "end_time": "2020-04-08T13:57:01.022892Z",
     "start_time": "2020-04-08T13:57:01.016086Z"
    }
   },
   "outputs": [],
   "source": [
    "# LandContour\n",
    "multi_cat_col.append('LandContour')"
   ]
  },
  {
   "cell_type": "code",
   "execution_count": 14,
   "metadata": {
    "ExecuteTime": {
     "end_time": "2020-04-08T13:57:01.038072Z",
     "start_time": "2020-04-08T13:57:01.026294Z"
    }
   },
   "outputs": [],
   "source": [
    "# Utilities\n",
    "train.drop('Utilities',axis=1,inplace=True)\n",
    "test.drop('Utilities',axis=1,inplace=True)"
   ]
  },
  {
   "cell_type": "code",
   "execution_count": 15,
   "metadata": {
    "ExecuteTime": {
     "end_time": "2020-04-08T13:57:01.049848Z",
     "start_time": "2020-04-08T13:57:01.042817Z"
    }
   },
   "outputs": [],
   "source": [
    "# LotConfig\n",
    "multi_cat_col.append('LotConfig')"
   ]
  },
  {
   "cell_type": "code",
   "execution_count": 16,
   "metadata": {
    "ExecuteTime": {
     "end_time": "2020-04-08T13:57:01.071966Z",
     "start_time": "2020-04-08T13:57:01.058740Z"
    }
   },
   "outputs": [],
   "source": [
    "# LandSlope\n",
    "train.LandSlope=train.LandSlope.map({'Gtl':2,'Mod':1,'Sev':0})\n",
    "test.LandSlope=test.LandSlope.map({'Gtl':2,'Mod':1,'Sev':0})\n",
    "ord_col.append('LandSlope')"
   ]
  },
  {
   "cell_type": "code",
   "execution_count": 17,
   "metadata": {
    "ExecuteTime": {
     "end_time": "2020-04-08T13:57:01.130327Z",
     "start_time": "2020-04-08T13:57:01.077919Z"
    }
   },
   "outputs": [],
   "source": [
    "# Neighborhood\n",
    "mean_encoder('Neighborhood')\n",
    "num_col.append('Neighborhood_mean_target')"
   ]
  },
  {
   "cell_type": "code",
   "execution_count": 18,
   "metadata": {
    "ExecuteTime": {
     "end_time": "2020-04-08T13:57:01.204274Z",
     "start_time": "2020-04-08T13:57:01.136905Z"
    }
   },
   "outputs": [],
   "source": [
    "# Condition1\n",
    "mean_encoder('Condition1')\n",
    "num_col.append('Condition1_mean_target')"
   ]
  },
  {
   "cell_type": "code",
   "execution_count": 19,
   "metadata": {
    "ExecuteTime": {
     "end_time": "2020-04-08T13:57:01.259276Z",
     "start_time": "2020-04-08T13:57:01.211126Z"
    }
   },
   "outputs": [],
   "source": [
    "# Condition2\n",
    "mean_encoder('Condition2')\n",
    "num_col.append('Condition2_mean_target')"
   ]
  },
  {
   "cell_type": "code",
   "execution_count": 20,
   "metadata": {
    "ExecuteTime": {
     "end_time": "2020-04-08T13:57:01.278079Z",
     "start_time": "2020-04-08T13:57:01.273934Z"
    }
   },
   "outputs": [],
   "source": [
    "# BldgType\n",
    "multi_cat_col.append('BldgType')"
   ]
  },
  {
   "cell_type": "code",
   "execution_count": 21,
   "metadata": {
    "ExecuteTime": {
     "end_time": "2020-04-08T13:57:01.347194Z",
     "start_time": "2020-04-08T13:57:01.297936Z"
    }
   },
   "outputs": [
    {
     "name": "stdout",
     "output_type": "stream",
     "text": [
      "1Story    726\n",
      "2Story    445\n",
      "1.5Fin    154\n",
      "Other     135\n",
      "Name: HouseStyle, dtype: int64\n",
      "1Story    745\n",
      "2Story    427\n",
      "1.5Fin    160\n",
      "Other     127\n",
      "Name: HouseStyle, dtype: int64\n"
     ]
    }
   ],
   "source": [
    "# HouseStyle\n",
    "merge_rare(train, 'HouseStyle', 10)\n",
    "merge_rare(test, 'HouseStyle', 10)\n",
    "multi_cat_col.append('HouseStyle')"
   ]
  },
  {
   "cell_type": "code",
   "execution_count": 22,
   "metadata": {
    "ExecuteTime": {
     "end_time": "2020-04-08T13:57:01.362644Z",
     "start_time": "2020-04-08T13:57:01.353272Z"
    }
   },
   "outputs": [],
   "source": [
    "# OverallQual\n",
    "# already numerial, ordinary\n",
    "ord_col.append('OverallQual')"
   ]
  },
  {
   "cell_type": "code",
   "execution_count": 23,
   "metadata": {
    "ExecuteTime": {
     "end_time": "2020-04-08T13:57:01.371884Z",
     "start_time": "2020-04-08T13:57:01.367483Z"
    }
   },
   "outputs": [],
   "source": [
    "# OverallCond\n",
    "# already numerial, ordinary\n",
    "ord_col.append('OverallCond')"
   ]
  },
  {
   "cell_type": "code",
   "execution_count": 24,
   "metadata": {
    "ExecuteTime": {
     "end_time": "2020-04-08T13:57:01.388038Z",
     "start_time": "2020-04-08T13:57:01.378249Z"
    }
   },
   "outputs": [],
   "source": [
    "# YearBuilt\n",
    "train['AgeBuilt'] = 2010 - train['YearBuilt']\n",
    "test['AgeBuilt'] = 2010 - test['YearBuilt']\n",
    "num_col.append('AgeBuilt')"
   ]
  },
  {
   "cell_type": "code",
   "execution_count": 25,
   "metadata": {
    "ExecuteTime": {
     "end_time": "2020-04-08T13:57:01.406367Z",
     "start_time": "2020-04-08T13:57:01.390367Z"
    }
   },
   "outputs": [],
   "source": [
    "# YearRemodAdd\n",
    "train['AgeRemodAdd'] = 2010 - train['YearRemodAdd']\n",
    "test['AgeRemodAdd'] = 2010 - test['YearRemodAdd']\n",
    "train.drop('YearRemodAdd',axis=1,inplace=True)\n",
    "test.drop('YearRemodAdd',axis=1,inplace=True)\n",
    "num_col.append('AgeRemodAdd')"
   ]
  },
  {
   "cell_type": "code",
   "execution_count": 26,
   "metadata": {
    "ExecuteTime": {
     "end_time": "2020-04-08T13:57:01.416226Z",
     "start_time": "2020-04-08T13:57:01.410244Z"
    }
   },
   "outputs": [],
   "source": [
    "# RoofStyle\n",
    "multi_cat_col.append('RoofStyle')"
   ]
  },
  {
   "cell_type": "code",
   "execution_count": 27,
   "metadata": {
    "ExecuteTime": {
     "end_time": "2020-04-08T13:57:01.493661Z",
     "start_time": "2020-04-08T13:57:01.420878Z"
    }
   },
   "outputs": [],
   "source": [
    "# RoofMatl\n",
    "mean_encoder('RoofMatl')\n",
    "num_col.append('RoofMatl_mean_target')"
   ]
  },
  {
   "cell_type": "code",
   "execution_count": 28,
   "metadata": {
    "ExecuteTime": {
     "end_time": "2020-04-08T13:57:01.528266Z",
     "start_time": "2020-04-08T13:57:01.499153Z"
    }
   },
   "outputs": [
    {
     "name": "stdout",
     "output_type": "stream",
     "text": [
      "VinylSd    515\n",
      "Other      297\n",
      "HdBoard    222\n",
      "MetalSd    220\n",
      "Wd Sdng    206\n",
      "Name: Exterior1st, dtype: int64\n",
      "VinylSd    510\n",
      "Other      293\n",
      "MetalSd    230\n",
      "HdBoard    220\n",
      "Wd Sdng    205\n",
      "Name: Exterior1st, dtype: int64\n"
     ]
    }
   ],
   "source": [
    "# Exterior1st\n",
    "merge_rare(train, 'Exterior1st', 10)\n",
    "merge_rare(test, 'Exterior1st', 10)\n",
    "multi_cat_col.append('Exterior1st')"
   ]
  },
  {
   "cell_type": "code",
   "execution_count": 29,
   "metadata": {
    "ExecuteTime": {
     "end_time": "2020-04-08T13:57:01.592739Z",
     "start_time": "2020-04-08T13:57:01.531862Z"
    }
   },
   "outputs": [],
   "source": [
    "# Exterior2nd\n",
    "mean_encoder('Exterior2nd')\n",
    "num_col.append('Exterior2nd_mean_target')"
   ]
  },
  {
   "cell_type": "code",
   "execution_count": 30,
   "metadata": {
    "ExecuteTime": {
     "end_time": "2020-04-08T13:57:01.601606Z",
     "start_time": "2020-04-08T13:57:01.596118Z"
    }
   },
   "outputs": [],
   "source": [
    "# MasVnrType\n",
    "multi_cat_col.append('MasVnrType')"
   ]
  },
  {
   "cell_type": "code",
   "execution_count": 31,
   "metadata": {
    "ExecuteTime": {
     "end_time": "2020-04-08T13:57:01.613957Z",
     "start_time": "2020-04-08T13:57:01.608121Z"
    }
   },
   "outputs": [],
   "source": [
    "# MasVnrArea\n",
    "num_col.append('MasVnrArea')"
   ]
  },
  {
   "cell_type": "code",
   "execution_count": 32,
   "metadata": {
    "ExecuteTime": {
     "end_time": "2020-04-08T13:57:01.632673Z",
     "start_time": "2020-04-08T13:57:01.618062Z"
    }
   },
   "outputs": [],
   "source": [
    "# ExterQual\n",
    "train.ExterQual=train.ExterQual.map({'Po':1,'Fa':2,'TA':3,'Gd':4,'Ex':5})\n",
    "test.ExterQual=test.ExterQual.map({'Po':1,'Fa':2,'TA':3,'Gd':4,'Ex':5})\n",
    "ord_col.append('ExterQual')"
   ]
  },
  {
   "cell_type": "code",
   "execution_count": 33,
   "metadata": {
    "ExecuteTime": {
     "end_time": "2020-04-08T13:57:01.669226Z",
     "start_time": "2020-04-08T13:57:01.642707Z"
    }
   },
   "outputs": [],
   "source": [
    "# ExterCond\n",
    "train.ExterCond=train.ExterCond.map({'Po':1,'Fa':2,'TA':3,'Gd':4,'Ex':5})\n",
    "test.ExterCond=test.ExterCond.map({'Po':1,'Fa':2,'TA':3,'Gd':4,'Ex':5})\n",
    "ord_col.append('ExterCond')"
   ]
  },
  {
   "cell_type": "code",
   "execution_count": 34,
   "metadata": {
    "ExecuteTime": {
     "end_time": "2020-04-08T13:57:01.684503Z",
     "start_time": "2020-04-08T13:57:01.679563Z"
    }
   },
   "outputs": [],
   "source": [
    "# Foundation\n",
    "multi_cat_col.append('Foundation')"
   ]
  },
  {
   "cell_type": "code",
   "execution_count": 35,
   "metadata": {
    "ExecuteTime": {
     "end_time": "2020-04-08T13:57:01.713927Z",
     "start_time": "2020-04-08T13:57:01.693353Z"
    }
   },
   "outputs": [],
   "source": [
    "# BsmtQual\n",
    "train.BsmtQual.fillna('No basement',inplace=True) \n",
    "test.BsmtQual.fillna('No basement',inplace=True) \n",
    "train.BsmtQual=train.BsmtQual.map({'No basement':0,'Po':1,'Fa':2,'TA':3,'Gd':4,'Ex':5})\n",
    "test.BsmtQual=test.BsmtQual.map({'No basement':0,'Po':1,'Fa':2,'TA':3,'Gd':4,'Ex':5})\n",
    "ord_col.append('BsmtQual')"
   ]
  },
  {
   "cell_type": "code",
   "execution_count": 36,
   "metadata": {
    "ExecuteTime": {
     "end_time": "2020-04-08T13:57:01.736847Z",
     "start_time": "2020-04-08T13:57:01.718509Z"
    }
   },
   "outputs": [],
   "source": [
    "# BsmtCond\n",
    "train.BsmtCond.fillna('No basement',inplace=True) \n",
    "test.BsmtCond.fillna('No basement',inplace=True) \n",
    "train.BsmtCond=train.BsmtCond.map({'No basement':0,'Po':1,'Fa':2,'TA':3,'Gd':4,'Ex':5})\n",
    "test.BsmtCond=test.BsmtCond.map({'No basement':0,'Po':1,'Fa':2,'TA':3,'Gd':4,'Ex':5})\n",
    "ord_col.append('BsmtCond')"
   ]
  },
  {
   "cell_type": "code",
   "execution_count": 37,
   "metadata": {
    "ExecuteTime": {
     "end_time": "2020-04-08T13:57:01.766506Z",
     "start_time": "2020-04-08T13:57:01.742878Z"
    }
   },
   "outputs": [],
   "source": [
    "# BsmtExposure\n",
    "train.BsmtExposure.fillna('No basement',inplace=True) \n",
    "test.BsmtExposure.fillna('No basement',inplace=True) \n",
    "train.BsmtExposure=train.BsmtExposure.map({'No basement':0,'No':1,'Mn':2,'Av':3,'Gd':4})\n",
    "test.BsmtExposure=test.BsmtExposure.map({'No basement':0,'No':1,'Mn':2,'Av':3,'Gd':4})\n",
    "ord_col.append('BsmtExposure')"
   ]
  },
  {
   "cell_type": "code",
   "execution_count": 38,
   "metadata": {
    "ExecuteTime": {
     "end_time": "2020-04-08T13:57:01.797235Z",
     "start_time": "2020-04-08T13:57:01.772334Z"
    }
   },
   "outputs": [],
   "source": [
    "# BsmtFinType1\n",
    "train.BsmtFinType1.fillna('No basement', inplace=True)\n",
    "test.BsmtFinType1.fillna('No basement', inplace=True)\n",
    "train.BsmtFinType1 = train.BsmtFinType1.map({'No basement':0, 'Unf':1, 'LwQ':2, 'Rec':3, 'BLQ':4, 'ALQ':5, 'GLQ':6})\n",
    "test.BsmtFinType1 = test.BsmtFinType1.map({'No basement':0, 'Unf':1, 'LwQ':2, 'Rec':3, 'BLQ':4, 'ALQ':5, 'GLQ':6})\n",
    "ord_col.append('BsmtFinType1')"
   ]
  },
  {
   "cell_type": "code",
   "execution_count": 39,
   "metadata": {
    "ExecuteTime": {
     "end_time": "2020-04-08T13:57:01.827500Z",
     "start_time": "2020-04-08T13:57:01.804335Z"
    }
   },
   "outputs": [],
   "source": [
    "# BsmtFinType2\n",
    "train.BsmtFinType2.fillna('No basement', inplace=True)\n",
    "test.BsmtFinType2.fillna('No basement', inplace=True)\n",
    "train.BsmtFinType2 = train.BsmtFinType2.map({'No basement':0, 'Unf':1, 'LwQ':2, 'Rec':3, 'BLQ':4, 'ALQ':5, 'GLQ':6})\n",
    "test.BsmtFinType2 = test.BsmtFinType2.map({'No basement':0, 'Unf':1, 'LwQ':2, 'Rec':3, 'BLQ':4, 'ALQ':5, 'GLQ':6})\n",
    "ord_col.append('BsmtFinType2')"
   ]
  },
  {
   "cell_type": "code",
   "execution_count": 40,
   "metadata": {
    "ExecuteTime": {
     "end_time": "2020-04-08T13:57:01.847212Z",
     "start_time": "2020-04-08T13:57:01.838006Z"
    }
   },
   "outputs": [],
   "source": [
    "# BsmtFinSF1\n",
    "num_col.append('BsmtFinSF1')"
   ]
  },
  {
   "cell_type": "code",
   "execution_count": 41,
   "metadata": {
    "ExecuteTime": {
     "end_time": "2020-04-08T13:57:01.862190Z",
     "start_time": "2020-04-08T13:57:01.853775Z"
    }
   },
   "outputs": [],
   "source": [
    "# BsmtFinSF2\n",
    "num_col.append('BsmtFinSF2')"
   ]
  },
  {
   "cell_type": "code",
   "execution_count": 42,
   "metadata": {
    "ExecuteTime": {
     "end_time": "2020-04-08T13:57:01.878638Z",
     "start_time": "2020-04-08T13:57:01.870929Z"
    }
   },
   "outputs": [],
   "source": [
    "# BsmtUnfSF\n",
    "num_col.append('BsmtUnfSF')"
   ]
  },
  {
   "cell_type": "code",
   "execution_count": 43,
   "metadata": {
    "ExecuteTime": {
     "end_time": "2020-04-08T13:57:01.896335Z",
     "start_time": "2020-04-08T13:57:01.887266Z"
    }
   },
   "outputs": [],
   "source": [
    "# Heating\n",
    "multi_cat_col.append('Heating')"
   ]
  },
  {
   "cell_type": "code",
   "execution_count": 44,
   "metadata": {
    "ExecuteTime": {
     "end_time": "2020-04-08T13:57:01.927230Z",
     "start_time": "2020-04-08T13:57:01.905547Z"
    }
   },
   "outputs": [],
   "source": [
    "# HeatingQC\n",
    "train.HeatingQC=train.HeatingQC.map({'Po':1,'Fa':2,'TA':3,'Gd':4,'Ex':5})\n",
    "test.HeatingQC=test.HeatingQC.map({'Po':1,'Fa':2,'TA':3,'Gd':4,'Ex':5})\n",
    "ord_col.append('HeatingQC')"
   ]
  },
  {
   "cell_type": "code",
   "execution_count": 45,
   "metadata": {
    "ExecuteTime": {
     "end_time": "2020-04-08T13:57:01.943386Z",
     "start_time": "2020-04-08T13:57:01.935009Z"
    }
   },
   "outputs": [],
   "source": [
    "# CentralAir\n",
    "bin_cat_col.append('CentralAir')"
   ]
  },
  {
   "cell_type": "code",
   "execution_count": 46,
   "metadata": {
    "ExecuteTime": {
     "end_time": "2020-04-08T13:57:01.982059Z",
     "start_time": "2020-04-08T13:57:01.957841Z"
    }
   },
   "outputs": [],
   "source": [
    "# Electrical\n",
    "mode = train['Electrical'].value_counts().index[0]\n",
    "train.loc[train.Electrical == 'Mix','Electrical'] = mode\n",
    "test.loc[test.Electrical == 'Mix','Electrical'] = mode\n",
    "train['Electrical'].fillna(mode, inplace=True)\n",
    "test['Electrical'].fillna(mode, inplace=True)\n",
    "multi_cat_col.append('Electrical')"
   ]
  },
  {
   "cell_type": "code",
   "execution_count": 47,
   "metadata": {
    "ExecuteTime": {
     "end_time": "2020-04-08T13:57:02.006606Z",
     "start_time": "2020-04-08T13:57:01.988041Z"
    }
   },
   "outputs": [],
   "source": [
    "# 1stFlrSF + 2ndFlrSF = #GrLivArea\n",
    "train.drop('1stFlrSF',axis=1,inplace=True)\n",
    "test.drop('1stFlrSF',axis=1,inplace=True)\n",
    "train.drop('2ndFlrSF',axis=1,inplace=True)\n",
    "test.drop('2ndFlrSF',axis=1,inplace=True)\n",
    "num_col.append('GrLivArea')"
   ]
  },
  {
   "cell_type": "code",
   "execution_count": 48,
   "metadata": {
    "ExecuteTime": {
     "end_time": "2020-04-08T13:57:02.023842Z",
     "start_time": "2020-04-08T13:57:02.012406Z"
    }
   },
   "outputs": [],
   "source": [
    "# LowQualFinSF\n",
    "train['LowQualFinSF']=['=0' if x == 0 else '>0' for x in train['LowQualFinSF']]\n",
    "test['LowQualFinSF']=['=0' if x == 0 else '>0' for x in test['LowQualFinSF']]\n",
    "bin_cat_col.append('LowQualFinSF')"
   ]
  },
  {
   "cell_type": "code",
   "execution_count": 49,
   "metadata": {
    "ExecuteTime": {
     "end_time": "2020-04-08T13:57:02.507676Z",
     "start_time": "2020-04-08T13:57:02.028715Z"
    }
   },
   "outputs": [],
   "source": [
    "# BsmtFullBath #BsmtHalfBath #FullBath #HalfBath #merge\n",
    "\n",
    "train['Bath'] = train.apply(lambda x: x['BsmtFullBath'] + 0.5 * x['BsmtHalfBath']+x['FullBath'] + 0.5 * x['HalfBath'], axis=1)\n",
    "test['Bath'] = test.apply(lambda x: x['BsmtFullBath'] + 0.5 * x['BsmtHalfBath']+x['FullBath'] + 0.5 * x['HalfBath'], axis=1)\n",
    "\n",
    "train.drop('BsmtFullBath',axis=1,inplace=True)\n",
    "test.drop('BsmtFullBath',axis=1,inplace=True)\n",
    "train.drop('BsmtHalfBath',axis=1,inplace=True)\n",
    "test.drop('BsmtHalfBath',axis=1,inplace=True)\n",
    "train.drop('FullBath',axis=1,inplace=True)\n",
    "test.drop('FullBath',axis=1,inplace=True)\n",
    "train.drop('HalfBath',axis=1,inplace=True)\n",
    "test.drop('HalfBath',axis=1,inplace=True)\n",
    "\n",
    "num_col.append('Bath')"
   ]
  },
  {
   "cell_type": "code",
   "execution_count": 50,
   "metadata": {
    "ExecuteTime": {
     "end_time": "2020-04-08T13:57:02.557654Z",
     "start_time": "2020-04-08T13:57:02.526101Z"
    }
   },
   "outputs": [],
   "source": [
    "# KitchenAbvGr #BedroomAbvGr are related to #TotRmsAbvGrd\n",
    "train.drop('KitchenAbvGr', axis=1, inplace=True)\n",
    "test.drop('KitchenAbvGr', axis=1, inplace=True)\n",
    "train.drop('BedroomAbvGr', axis=1, inplace=True)\n",
    "test.drop('BedroomAbvGr', axis=1, inplace=True)\n",
    "num_col.append('TotRmsAbvGrd')"
   ]
  },
  {
   "cell_type": "code",
   "execution_count": 51,
   "metadata": {
    "ExecuteTime": {
     "end_time": "2020-04-08T13:57:02.601903Z",
     "start_time": "2020-04-08T13:57:02.576426Z"
    }
   },
   "outputs": [],
   "source": [
    "# KitchenQual\n",
    "train['KitchenQual'].fillna('Po',inplace=True)\n",
    "test['KitchenQual'].fillna('Po',inplace=True)\n",
    "train.KitchenQual=train.KitchenQual.map({'Po':1,'Fa':2,'TA':3,'Gd':4,'Ex':5})\n",
    "test.KitchenQual=test.KitchenQual.map({'Po':1,'Fa':2,'TA':3,'Gd':4,'Ex':5})\n",
    "ord_col.append('KitchenQual')"
   ]
  },
  {
   "cell_type": "code",
   "execution_count": 52,
   "metadata": {
    "ExecuteTime": {
     "end_time": "2020-04-08T13:57:02.623039Z",
     "start_time": "2020-04-08T13:57:02.611032Z"
    }
   },
   "outputs": [],
   "source": [
    "# Functional\n",
    "mode = train['Functional'].value_counts().index[0]\n",
    "train['Functional'].fillna(mode, inplace=True)\n",
    "test['Functional'].fillna(mode, inplace=True)\n",
    "multi_cat_col.append('Functional')"
   ]
  },
  {
   "cell_type": "code",
   "execution_count": 53,
   "metadata": {
    "ExecuteTime": {
     "end_time": "2020-04-08T13:57:02.638983Z",
     "start_time": "2020-04-08T13:57:02.632182Z"
    }
   },
   "outputs": [],
   "source": [
    "# Fireplaces\n",
    "num_col.append('Fireplaces')"
   ]
  },
  {
   "cell_type": "code",
   "execution_count": 54,
   "metadata": {
    "ExecuteTime": {
     "end_time": "2020-04-08T13:57:02.663062Z",
     "start_time": "2020-04-08T13:57:02.643887Z"
    }
   },
   "outputs": [],
   "source": [
    "# FireplaceQu\n",
    "train.FireplaceQu.fillna('No Fireplace', inplace=True)\n",
    "test.FireplaceQu.fillna('No Fireplace', inplace=True)\n",
    "train.FireplaceQu=train.FireplaceQu.map({'No Fireplace':0,'Po':1,'Fa':2,'TA':3,'Gd':4,'Ex':5})\n",
    "test.FireplaceQu=test.FireplaceQu.map({'No Fireplace':0,'Po':1,'Fa':2,'TA':3,'Gd':4,'Ex':5})\n",
    "ord_col.append('FireplaceQu')"
   ]
  },
  {
   "cell_type": "code",
   "execution_count": 55,
   "metadata": {
    "ExecuteTime": {
     "end_time": "2020-04-08T13:57:02.810049Z",
     "start_time": "2020-04-08T13:57:02.669245Z"
    }
   },
   "outputs": [],
   "source": [
    "# GarageType\n",
    "train['GarageType'].fillna('No Garage',inplace=True)\n",
    "test['GarageType'].fillna('No Garage',inplace=True)\n",
    "mean_encoder('GarageType')\n",
    "num_col.append('GarageType_mean_target')"
   ]
  },
  {
   "cell_type": "code",
   "execution_count": 56,
   "metadata": {
    "ExecuteTime": {
     "end_time": "2020-04-08T13:57:02.858545Z",
     "start_time": "2020-04-08T13:57:02.825769Z"
    }
   },
   "outputs": [],
   "source": [
    "# GarageYrBlt \n",
    "median=train.GarageYrBlt.median()\n",
    "train['GarageYrBlt'].fillna(median,inplace=True)\n",
    "test['GarageYrBlt'].fillna(median,inplace=True)\n",
    "max_value=train.GarageYrBlt.max()\n",
    "test.loc[test['GarageYrBlt']>=max_value,'GarageYrBlt']=median\n",
    "train['GarageAgeBlt']=max_value-train['GarageYrBlt']\n",
    "test['GarageAgeBlt']=max_value-test['GarageYrBlt']\n",
    "train.drop('GarageYrBlt', axis=1, inplace=True)\n",
    "test.drop('GarageYrBlt', axis=1, inplace=True)\n",
    "num_col.append('GarageAgeBlt')"
   ]
  },
  {
   "cell_type": "code",
   "execution_count": 57,
   "metadata": {
    "ExecuteTime": {
     "end_time": "2020-04-08T13:57:02.899908Z",
     "start_time": "2020-04-08T13:57:02.867045Z"
    }
   },
   "outputs": [],
   "source": [
    "# GarageFinish\n",
    "train.GarageFinish.fillna('No Garage', inplace=True)\n",
    "test.GarageFinish.fillna('No Garage', inplace=True)\n",
    "train.GarageFinish=train.GarageFinish.map({'No Garage':0,'Unf':1,'RFn':2,'Fin':3})\n",
    "test.GarageFinish=test.GarageFinish.map({'No Garage':0,'Unf':1,'RFn':2,'Fin':3})\n",
    "ord_col.append('GarageFinish')"
   ]
  },
  {
   "cell_type": "code",
   "execution_count": 58,
   "metadata": {
    "ExecuteTime": {
     "end_time": "2020-04-08T13:57:02.918307Z",
     "start_time": "2020-04-08T13:57:02.904946Z"
    }
   },
   "outputs": [],
   "source": [
    "# GarageCars, drop, high corr with GarageArea\n",
    "# GarageArea\n",
    "train.drop('GarageCars', axis=1, inplace=True)\n",
    "test.drop('GarageCars', axis=1, inplace=True)\n",
    "num_col.append('GarageArea')"
   ]
  },
  {
   "cell_type": "code",
   "execution_count": 59,
   "metadata": {
    "ExecuteTime": {
     "end_time": "2020-04-08T13:57:02.947520Z",
     "start_time": "2020-04-08T13:57:02.927505Z"
    }
   },
   "outputs": [],
   "source": [
    "# GarageQual\n",
    "train.GarageQual.fillna('No Garage', inplace=True)\n",
    "test.GarageQual.fillna('No Garage', inplace=True)\n",
    "train.GarageQual=train.GarageQual.map({'No Garage':0,'Po':1,'Fa':2,'TA':3,'Gd':4,'Ex':5})\n",
    "test.GarageQual=test.GarageQual.map({'No Garage':0,'Po':1,'Fa':2,'TA':3,'Gd':4,'Ex':5})\n",
    "ord_col.append('GarageQual')"
   ]
  },
  {
   "cell_type": "code",
   "execution_count": 60,
   "metadata": {
    "ExecuteTime": {
     "end_time": "2020-04-08T13:57:02.967471Z",
     "start_time": "2020-04-08T13:57:02.953210Z"
    }
   },
   "outputs": [],
   "source": [
    "# GarageCond\n",
    "train.GarageCond.fillna('No Garage', inplace=True)\n",
    "test.GarageCond.fillna('No Garage', inplace=True)\n",
    "multi_cat_col.append('GarageCond')"
   ]
  },
  {
   "cell_type": "code",
   "execution_count": 61,
   "metadata": {
    "ExecuteTime": {
     "end_time": "2020-04-08T13:57:02.989362Z",
     "start_time": "2020-04-08T13:57:02.977945Z"
    }
   },
   "outputs": [],
   "source": [
    "# PavedDrive\n",
    "multi_cat_col.append('PavedDrive')"
   ]
  },
  {
   "cell_type": "code",
   "execution_count": 62,
   "metadata": {
    "ExecuteTime": {
     "end_time": "2020-04-08T13:57:03.062307Z",
     "start_time": "2020-04-08T13:57:02.999270Z"
    }
   },
   "outputs": [],
   "source": [
    "# WoodDeckSF, OpenPorchSF, EnclosedPorch, 3SsnPorch, ScreenPorch\n",
    "train['FiveArea'] = train['WoodDeckSF']+train['OpenPorchSF'] + \\\n",
    "    train['EnclosedPorch']+train['3SsnPorch']+train['ScreenPorch']\n",
    "test['FiveArea'] = test['WoodDeckSF']+test['OpenPorchSF'] + \\\n",
    "    test['EnclosedPorch']+test['3SsnPorch']+test['ScreenPorch']\n",
    "train.drop('WoodDeckSF', axis=1, inplace=True)\n",
    "test.drop('WoodDeckSF', axis=1, inplace=True)\n",
    "train.drop('OpenPorchSF', axis=1, inplace=True)\n",
    "test.drop('OpenPorchSF', axis=1, inplace=True)\n",
    "train.drop('EnclosedPorch', axis=1, inplace=True)\n",
    "test.drop('EnclosedPorch', axis=1, inplace=True)\n",
    "train.drop('3SsnPorch', axis=1, inplace=True)\n",
    "test.drop('3SsnPorch', axis=1, inplace=True)\n",
    "train.drop('ScreenPorch', axis=1, inplace=True)\n",
    "test.drop('ScreenPorch', axis=1, inplace=True)\n",
    "num_col.append('FiveArea')"
   ]
  },
  {
   "cell_type": "code",
   "execution_count": 63,
   "metadata": {
    "ExecuteTime": {
     "end_time": "2020-04-08T13:57:03.100630Z",
     "start_time": "2020-04-08T13:57:03.070713Z"
    }
   },
   "outputs": [],
   "source": [
    "# PoolArea\n",
    "train['PoolArea']=['=0' if x == 0 else '>0' for x in train['PoolArea']]\n",
    "test['PoolArea']=['=0' if x == 0 else '>0' for x in test['PoolArea']]\n",
    "bin_cat_col.append('PoolArea')"
   ]
  },
  {
   "cell_type": "code",
   "execution_count": 64,
   "metadata": {
    "ExecuteTime": {
     "end_time": "2020-04-08T13:57:03.143651Z",
     "start_time": "2020-04-08T13:57:03.108912Z"
    }
   },
   "outputs": [],
   "source": [
    "# PoolQC\n",
    "train.PoolQC.fillna('No Pool',inplace=True)\n",
    "test.PoolQC.fillna('No Pool',inplace=True)\n",
    "train.PoolQC=train.PoolQC.map({'No Pool':0,'Fa':1,'TA':2,'Gd':3,'Ex':4})\n",
    "test.PoolQC=test.PoolQC.map({'No Pool':0,'Fa':1,'TA':2,'Gd':3,'Ex':4})"
   ]
  },
  {
   "cell_type": "code",
   "execution_count": 65,
   "metadata": {
    "ExecuteTime": {
     "end_time": "2020-04-08T13:57:03.232979Z",
     "start_time": "2020-04-08T13:57:03.219686Z"
    }
   },
   "outputs": [],
   "source": [
    "# Fence\n",
    "train.Fence.fillna('No Fence',inplace=True)\n",
    "test.Fence.fillna('No Fence',inplace=True)\n",
    "multi_cat_col.append('Fence')"
   ]
  },
  {
   "cell_type": "code",
   "execution_count": 66,
   "metadata": {
    "ExecuteTime": {
     "end_time": "2020-04-08T13:57:03.267184Z",
     "start_time": "2020-04-08T13:57:03.256467Z"
    }
   },
   "outputs": [],
   "source": [
    "# MiscFeature\n",
    "train.MiscFeature.fillna('None',inplace=True)\n",
    "test.MiscFeature.fillna('None',inplace=True)\n",
    "multi_cat_col.append('MiscFeature')"
   ]
  },
  {
   "cell_type": "code",
   "execution_count": 67,
   "metadata": {
    "ExecuteTime": {
     "end_time": "2020-04-08T13:57:03.294202Z",
     "start_time": "2020-04-08T13:57:03.277938Z"
    }
   },
   "outputs": [],
   "source": [
    "# MiscVal\n",
    "train.drop('MiscVal', axis=1, inplace=True)\n",
    "test.drop('MiscVal', axis=1, inplace=True)"
   ]
  },
  {
   "cell_type": "code",
   "execution_count": 68,
   "metadata": {
    "ExecuteTime": {
     "end_time": "2020-04-08T13:57:03.311886Z",
     "start_time": "2020-04-08T13:57:03.303411Z"
    }
   },
   "outputs": [],
   "source": [
    "# MoSold\n",
    "multi_cat_col.append('MoSold')"
   ]
  },
  {
   "cell_type": "code",
   "execution_count": 69,
   "metadata": {
    "ExecuteTime": {
     "end_time": "2020-04-08T13:57:03.350119Z",
     "start_time": "2020-04-08T13:57:03.327091Z"
    }
   },
   "outputs": [],
   "source": [
    "# YrSold\n",
    "train['NewHouse?'] = (train['YrSold']==train['YearBuilt'])\n",
    "test['NewHouse?'] = (test['YrSold']==test['YearBuilt'])\n",
    "train.drop('YearBuilt',axis=1,inplace=True)\n",
    "test.drop('YearBuilt',axis=1,inplace=True)\n",
    "train.drop('YrSold',axis=1,inplace=True)\n",
    "test.drop('YrSold',axis=1,inplace=True)\n",
    "bin_cat_col.append('NewHouse?')"
   ]
  },
  {
   "cell_type": "code",
   "execution_count": 70,
   "metadata": {
    "ExecuteTime": {
     "end_time": "2020-04-08T13:57:03.375464Z",
     "start_time": "2020-04-08T13:57:03.356446Z"
    }
   },
   "outputs": [],
   "source": [
    "# SaleType\n",
    "mode = train['SaleType'].value_counts().index[0]\n",
    "train.SaleType.fillna(mode,inplace=True)\n",
    "test.SaleType.fillna(mode,inplace=True)\n",
    "multi_cat_col.append('SaleType')"
   ]
  },
  {
   "cell_type": "code",
   "execution_count": 71,
   "metadata": {
    "ExecuteTime": {
     "end_time": "2020-04-08T13:57:03.398772Z",
     "start_time": "2020-04-08T13:57:03.387002Z"
    }
   },
   "outputs": [],
   "source": [
    "# SaleCondition\n",
    "multi_cat_col.append('SaleCondition')"
   ]
  },
  {
   "cell_type": "code",
   "execution_count": 72,
   "metadata": {
    "ExecuteTime": {
     "end_time": "2020-04-08T13:57:04.975816Z",
     "start_time": "2020-04-08T13:57:03.405806Z"
    }
   },
   "outputs": [
    {
     "data": {
      "image/png": "[encoded data removed]",
      "text/plain": [
       "<Figure size 576x576 with 2 Axes>"
      ]
     },
     "metadata": {},
     "output_type": "display_data"
    }
   ],
   "source": [
    "# Corr of features\n",
    "corrmat = train.corr(method='kendall')\n",
    "cols = corrmat.nlargest(11, 'SalePrice')['SalePrice'].index # top 11-1 features having the highest corr with y\n",
    "cm = np.corrcoef(train[cols].values.T)\n",
    "sns.set(font_scale=1.25)\n",
    "plt.figure(figsize=(8, 8))\n",
    "hm = sns.heatmap(cm, cbar=True, annot=True, square=True, fmt='.2f', cmap='coolwarm', \n",
    "                 annot_kws={'size': 10}, yticklabels=cols.values, xticklabels=cols.values)\n",
    "plt.show()\n",
    "# all >0.8 eliminated!"
   ]
  },
  {
   "cell_type": "code",
   "execution_count": 73,
   "metadata": {
    "ExecuteTime": {
     "end_time": "2020-04-08T13:57:05.115752Z",
     "start_time": "2020-04-08T13:57:04.979734Z"
    }
   },
   "outputs": [
    {
     "name": "stdout",
     "output_type": "stream",
     "text": [
      "num_col:\n",
      "    LotFrontage: 259 0.1773972602739726\n",
      "    MasVnrArea: 8 0.005479452054794521\n",
      "    GarageType_mean_target: 81 0.05547945205479452\n",
      "ord_col:\n",
      "bin_cat_col:\n",
      "multi_cat_col:\n",
      "    MasVnrType: 8 0.005479452054794521\n",
      "+++++++++++++++++++++++++++++++++++++\n",
      "num_col:\n",
      "    LotFrontage: 227 0.15558601782042494\n",
      "    Exterior2nd_mean_target: 1 0.0006854009595613434\n",
      "    MasVnrArea: 15 0.01028101439342015\n",
      "    BsmtFinSF1: 1 0.0006854009595613434\n",
      "    BsmtFinSF2: 1 0.0006854009595613434\n",
      "    BsmtUnfSF: 1 0.0006854009595613434\n",
      "    Bath: 2 0.0013708019191226869\n",
      "    GarageType_mean_target: 76 0.0520904729266621\n",
      "    GarageArea: 1 0.0006854009595613434\n",
      "ord_col:\n",
      "bin_cat_col:\n",
      "multi_cat_col:\n",
      "    MSZoning: 4 0.0027416038382453737\n",
      "    Exterior1st: 1 0.0006854009595613434\n",
      "    MasVnrType: 16 0.010966415352981495\n"
     ]
    }
   ],
   "source": [
    "# looking for missing values\n",
    "def missing_values(df):\n",
    "    print(\"num_col:\")\n",
    "    for col in num_col:\n",
    "        if df[col].isnull().sum()>0:\n",
    "            print(\"    \"+str(col)+\": \"+str(df[col].isnull().sum())+\" \"+str(df[col].isnull().sum()/df.shape[0]))\n",
    "    print(\"ord_col:\")\n",
    "    for col in ord_col:\n",
    "        if df[col].isnull().sum()>0:\n",
    "            print(\"    \"+str(col)+\": \"+str(df[col].isnull().sum())+\" \"+str(df[col].isnull().sum()/df.shape[0]))\n",
    "    print(\"bin_cat_col:\")\n",
    "    for col in bin_cat_col:\n",
    "        if df[col].isnull().sum()>0:\n",
    "            print(\"    \"+str(col)+\": \"+str(df[col].isnull().sum())+\" \"+str(df[col].isnull().sum()/df.shape[0]))\n",
    "    print('multi_cat_col:')        \n",
    "    for col in multi_cat_col:\n",
    "        if df[col].isnull().sum()>0:\n",
    "            print(\"    \"+str(col)+\": \"+str(df[col].isnull().sum())+\" \"+str(df[col].isnull().sum()/df.shape[0]))\n",
    "\n",
    "missing_values(train)\n",
    "print('+++++++++++++++++++++++++++++++++++++')\n",
    "missing_values(test)"
   ]
  },
  {
   "cell_type": "code",
   "execution_count": 74,
   "metadata": {
    "ExecuteTime": {
     "end_time": "2020-04-08T13:57:05.218627Z",
     "start_time": "2020-04-08T13:57:05.122577Z"
    }
   },
   "outputs": [],
   "source": [
    "for col in multi_cat_col:  # impute by mode \n",
    "    if train[col].isnull().sum()>0 or test[col].isnull().sum()>0:\n",
    "        mode = train[col].value_counts().index[0]\n",
    "        train[col].fillna(mode,inplace=True)\n",
    "        test[col].fillna(mode,inplace=True)\n",
    "\n",
    "for col in num_col:  # impute by median \n",
    "    if train[col].isnull().sum()>0 or test[col].isnull().sum()>0:\n",
    "        median = train[col].median()\n",
    "        train[col].fillna(median,inplace=True)\n",
    "        test[col].fillna(median,inplace=True)"
   ]
  },
  {
   "cell_type": "code",
   "execution_count": 75,
   "metadata": {
    "ExecuteTime": {
     "end_time": "2020-04-08T13:57:05.308834Z",
     "start_time": "2020-04-08T13:57:05.223848Z"
    }
   },
   "outputs": [
    {
     "name": "stdout",
     "output_type": "stream",
     "text": [
      "num_col:\n",
      "ord_col:\n",
      "bin_cat_col:\n",
      "multi_cat_col:\n",
      "+++++++++++++++++++++++++++++++++++++\n",
      "num_col:\n",
      "ord_col:\n",
      "bin_cat_col:\n",
      "multi_cat_col:\n"
     ]
    }
   ],
   "source": [
    "# looking for missing values, check again\n",
    "missing_values(train)\n",
    "print('+++++++++++++++++++++++++++++++++++++')\n",
    "missing_values(test)"
   ]
  },
  {
   "cell_type": "code",
   "execution_count": 76,
   "metadata": {
    "ExecuteTime": {
     "end_time": "2020-04-08T13:57:05.569821Z",
     "start_time": "2020-04-08T13:57:05.317104Z"
    }
   },
   "outputs": [],
   "source": [
    "def find_outliers_tukey(feature):\n",
    "    q1 = np.percentile(feature, 25)\n",
    "    q3 = np.percentile(feature, 75)\n",
    "    iqr = q3-q1\n",
    "    upbound = q3+1.5*iqr\n",
    "    downbound = q1 - 1.5*iqr\n",
    "    outlier_indices = list(feature.index[(feature>upbound)|(feature<downbound)])\n",
    "    outlier_values = list(feature[outlier_indices])\n",
    "    return outlier_indices,outlier_values\n",
    "\n",
    "# find outlier by 1.5IQR, then impute with median in train set\n",
    "for col in num_col:\n",
    "    outlier_indices_train,outlier_values_train = find_outliers_tukey(train[col])\n",
    "    train.loc[outlier_indices_train,col]=train[col].median()\n",
    "    outlier_indices_test,outlier_values_test = find_outliers_tukey(test[col])\n",
    "    test.loc[outlier_indices_test,col]=train[col].median()"
   ]
  },
  {
   "cell_type": "code",
   "execution_count": 77,
   "metadata": {
    "ExecuteTime": {
     "end_time": "2020-04-08T13:57:05.660571Z",
     "start_time": "2020-04-08T13:57:05.572654Z"
    }
   },
   "outputs": [
    {
     "name": "stdout",
     "output_type": "stream",
     "text": [
      "['MSSubClass_mean_target', 'LotFrontage', 'LotArea', 'Neighborhood_mean_target', 'Condition1_mean_target', 'Condition2_mean_target', 'AgeBuilt', 'AgeRemodAdd', 'RoofMatl_mean_target', 'Exterior2nd_mean_target', 'MasVnrArea', 'BsmtFinSF1', 'BsmtFinSF2', 'BsmtUnfSF', 'GrLivArea', 'Bath', 'TotRmsAbvGrd', 'Fireplaces', 'GarageType_mean_target', 'GarageAgeBlt', 'GarageArea', 'FiveArea']\n",
      "['MSSubClass_mean_target', 'LotFrontage', 'LotArea', 'Neighborhood_mean_target', 'Condition1_mean_target', 'Condition2_mean_target', 'AgeBuilt', 'AgeRemodAdd', 'RoofMatl_mean_target', 'Exterior2nd_mean_target', 'MasVnrArea', 'BsmtFinSF1', 'BsmtFinSF2', 'BsmtUnfSF', 'GrLivArea', 'Bath', 'TotRmsAbvGrd', 'Fireplaces', 'GarageType_mean_target', 'GarageAgeBlt', 'GarageArea', 'FiveArea']\n"
     ]
    }
   ],
   "source": [
    "pos_num_col=[] # choose features whose data all >= 0, then do skewness test, log1p\n",
    "for col in num_col:\n",
    "    if (train[train[col]<0].shape[0])==0 and (test[test[col]<0].shape[0])==0:\n",
    "        pos_num_col.append(col)\n",
    "print(pos_num_col)\n",
    "print(num_col)"
   ]
  },
  {
   "cell_type": "code",
   "execution_count": 78,
   "metadata": {
    "ExecuteTime": {
     "end_time": "2020-04-08T13:57:05.743885Z",
     "start_time": "2020-04-08T13:57:05.667574Z"
    }
   },
   "outputs": [
    {
     "name": "stdout",
     "output_type": "stream",
     "text": [
      "Skewness for AgeRemodAdd: 0.5035620027004843\n",
      "Skewness for AgeRemodAdd: -0.3141818014149802\n",
      "Skewness for MasVnrArea: 1.547163075851295\n",
      "Skewness for MasVnrArea: 0.7712166989144196\n",
      "Skewness for BsmtFinSF1: 0.6888884892219916\n",
      "Skewness for BsmtFinSF1: -0.621796943698809\n",
      "Skewness for Bath: 0.6445717759178284\n",
      "Skewness for Bath: 0.3485777363069534\n",
      "Skewness for Fireplaces: 0.5435174999880907\n",
      "Skewness for Fireplaces: 0.15206194915851154\n",
      "Skewness for GarageAgeBlt: 0.6683937940441372\n",
      "Skewness for GarageAgeBlt: -0.6017251631081343\n"
     ]
    }
   ],
   "source": [
    "for col in pos_num_col:\n",
    "    if abs(train[col].skew()) > 0.5  and abs(np.log1p(train[col]).skew())<abs(train[col].skew()):\n",
    "        print(\"Skewness for \"+str(col)+\": \" + str(train[col].skew()))\n",
    "        train[col] = np.log1p(train[col])\n",
    "        test[col] = np.log1p(test[col])\n",
    "        print(\"Skewness for \"+str(col)+\": \" + str(train[col].skew()))"
   ]
  },
  {
   "cell_type": "code",
   "execution_count": 79,
   "metadata": {
    "ExecuteTime": {
     "end_time": "2020-04-08T13:57:05.762617Z",
     "start_time": "2020-04-08T13:57:05.757896Z"
    }
   },
   "outputs": [
    {
     "name": "stdout",
     "output_type": "stream",
     "text": [
      "num_col: \n",
      "['MSSubClass_mean_target', 'LotFrontage', 'LotArea', 'Neighborhood_mean_target', 'Condition1_mean_target', 'Condition2_mean_target', 'AgeBuilt', 'AgeRemodAdd', 'RoofMatl_mean_target', 'Exterior2nd_mean_target', 'MasVnrArea', 'BsmtFinSF1', 'BsmtFinSF2', 'BsmtUnfSF', 'GrLivArea', 'Bath', 'TotRmsAbvGrd', 'Fireplaces', 'GarageType_mean_target', 'GarageAgeBlt', 'GarageArea', 'FiveArea']\n",
      "multi_cat_col\n",
      "['MSZoning', 'Alley', 'LotShape', 'LandContour', 'LotConfig', 'BldgType', 'HouseStyle', 'RoofStyle', 'Exterior1st', 'MasVnrType', 'Foundation', 'Heating', 'Electrical', 'Functional', 'GarageCond', 'PavedDrive', 'Fence', 'MiscFeature', 'MoSold', 'SaleType', 'SaleCondition']\n",
      "ord_col\n",
      "['LandSlope', 'OverallQual', 'OverallCond', 'ExterQual', 'ExterCond', 'BsmtQual', 'BsmtCond', 'BsmtExposure', 'BsmtFinType1', 'BsmtFinType2', 'HeatingQC', 'KitchenQual', 'FireplaceQu', 'GarageFinish', 'GarageQual']\n",
      "bin_cat_col\n",
      "['Street', 'CentralAir', 'LowQualFinSF', 'PoolArea', 'NewHouse?']\n"
     ]
    }
   ],
   "source": [
    "col_overview()"
   ]
  },
  {
   "cell_type": "code",
   "execution_count": 80,
   "metadata": {
    "ExecuteTime": {
     "end_time": "2020-04-08T13:57:05.939037Z",
     "start_time": "2020-04-08T13:57:05.771619Z"
    }
   },
   "outputs": [
    {
     "name": "stderr",
     "output_type": "stream",
     "text": [
      "/Users/FY/anaconda3/lib/python3.6/site-packages/ipykernel_launcher.py:6: SettingWithCopyWarning: \n",
      "A value is trying to be set on a copy of a slice from a DataFrame.\n",
      "Try using .loc[row_indexer,col_indexer] = value instead\n",
      "\n",
      "See the caveats in the documentation: https://pandas.pydata.org/pandas-docs/stable/user_guide/indexing.html#returning-a-view-versus-a-copy\n",
      "  \n",
      "/Users/FY/anaconda3/lib/python3.6/site-packages/ipykernel_launcher.py:7: SettingWithCopyWarning: \n",
      "A value is trying to be set on a copy of a slice from a DataFrame.\n",
      "Try using .loc[row_indexer,col_indexer] = value instead\n",
      "\n",
      "See the caveats in the documentation: https://pandas.pydata.org/pandas-docs/stable/user_guide/indexing.html#returning-a-view-versus-a-copy\n",
      "  import sys\n"
     ]
    }
   ],
   "source": [
    "# encode bin categorical features\n",
    "train_bin = train[bin_cat_col]\n",
    "test_bin = test[bin_cat_col]\n",
    "for col in bin_cat_col:\n",
    "    le = LabelEncoder()\n",
    "    train_bin[col] = le.fit_transform(train_bin[col])\n",
    "    test_bin[col] = le.transform(test_bin[col])\n",
    "\n",
    "# encode multi categorical features\n",
    "train_multi = train[multi_cat_col]\n",
    "test_multi = test[multi_cat_col]\n",
    "len_train_multi = len(train_multi)\n",
    "train_test_multi = pd.concat([train_multi, test_multi],axis=0)\n",
    "train_test_ohe = pd.get_dummies(train_test_multi)  # drop_first = True if you want drop one col for each feature\n",
    "train_ohe, test_ohe = train_test_ohe.iloc[:len_train_multi, :], train_test_ohe.iloc[len_train_multi:, :]    \n",
    "\n",
    "# scaling numerical features\n",
    "ss = StandardScaler()\n",
    "train_num = ss.fit_transform(train[num_col])\n",
    "train_num = pd.DataFrame(train_num,columns=num_col)\n",
    "test_num = ss.transform(test[num_col])\n",
    "test_num = pd.DataFrame(test_num,columns=num_col)\n",
    "\n",
    "# scaling ordinal features\n",
    "ss2 = StandardScaler()\n",
    "train_ord = ss2.fit_transform(train[ord_col])\n",
    "train_ord = pd.DataFrame(train_ord,columns=ord_col)\n",
    "test_ord = ss2.transform(test[ord_col])\n",
    "test_ord = pd.DataFrame(test_ord,columns=ord_col)"
   ]
  },
  {
   "cell_type": "code",
   "execution_count": 81,
   "metadata": {
    "ExecuteTime": {
     "end_time": "2020-04-08T13:57:05.965135Z",
     "start_time": "2020-04-08T13:57:05.950096Z"
    }
   },
   "outputs": [
    {
     "data": {
      "text/plain": [
       "((1460, 117), (1459, 117))"
      ]
     },
     "execution_count": 81,
     "metadata": {},
     "output_type": "execute_result"
    }
   ],
   "source": [
    "train_ohe.shape,test_ohe.shape"
   ]
  },
  {
   "cell_type": "code",
   "execution_count": 82,
   "metadata": {
    "ExecuteTime": {
     "end_time": "2020-04-08T13:57:05.997539Z",
     "start_time": "2020-04-08T13:57:05.975598Z"
    }
   },
   "outputs": [
    {
     "data": {
      "text/plain": [
       "((1460, 159), (1459, 159))"
      ]
     },
     "execution_count": 82,
     "metadata": {},
     "output_type": "execute_result"
    }
   ],
   "source": [
    "new_train = pd.concat([train_bin,train_ohe,train_num,train_ord],axis=1)\n",
    "new_test = pd.concat([test_bin,test_ohe,test_num,test_ord],axis=1)\n",
    "new_train.shape,new_test.shape"
   ]
  },
  {
   "cell_type": "code",
   "execution_count": 83,
   "metadata": {
    "ExecuteTime": {
     "end_time": "2020-04-08T13:57:06.035469Z",
     "start_time": "2020-04-08T13:57:06.014418Z"
    }
   },
   "outputs": [
    {
     "name": "stdout",
     "output_type": "stream",
     "text": [
      "True\n"
     ]
    }
   ],
   "source": [
    "new_train_col=new_train.columns.to_list()\n",
    "new_test_col=new_test.columns.to_list()\n",
    "print(new_train_col==new_test_col) "
   ]
  },
  {
   "cell_type": "code",
   "execution_count": 84,
   "metadata": {
    "ExecuteTime": {
     "end_time": "2020-04-08T13:57:06.686083Z",
     "start_time": "2020-04-08T13:57:06.041556Z"
    }
   },
   "outputs": [],
   "source": [
    "new_train.to_csv('../data/featured_data/featured_train.csv',index=False)\n",
    "new_test.to_csv('../data/featured_data/featured_test.csv',index=False)"
   ]
  },
  {
   "cell_type": "code",
   "execution_count": 85,
   "metadata": {
    "ExecuteTime": {
     "end_time": "2020-04-08T13:57:06.714248Z",
     "start_time": "2020-04-08T13:57:06.688954Z"
    }
   },
   "outputs": [],
   "source": [
    "X_train = new_train\n",
    "y_train = train['SalePrice']\n",
    "X_test = new_test"
   ]
  },
  {
   "cell_type": "code",
   "execution_count": 86,
   "metadata": {
    "ExecuteTime": {
     "end_time": "2020-04-08T13:57:06.901609Z",
     "start_time": "2020-04-08T13:57:06.719475Z"
    }
   },
   "outputs": [
    {
     "data": {
      "text/plain": [
       "['../models/pca.m']"
      ]
     },
     "execution_count": 86,
     "metadata": {},
     "output_type": "execute_result"
    }
   ],
   "source": [
    "pca = PCA(n_components=0.99)\n",
    "X_train_pca = pca.fit_transform(X_train)\n",
    "X_test_pca = pca.transform(X_train)\n",
    "joblib.dump(pca, '../models/pca.m') # save pca model as pca.m"
   ]
  },
  {
   "cell_type": "code",
   "execution_count": 87,
   "metadata": {
    "ExecuteTime": {
     "end_time": "2020-04-08T13:57:06.941939Z",
     "start_time": "2020-04-08T13:57:06.908476Z"
    }
   },
   "outputs": [
    {
     "data": {
      "text/plain": [
       "((1460, 74), (1460, 74))"
      ]
     },
     "execution_count": 87,
     "metadata": {},
     "output_type": "execute_result"
    }
   ],
   "source": [
    "X_train_pca.shape,X_test_pca.shape"
   ]
  },
  {
   "cell_type": "code",
   "execution_count": 88,
   "metadata": {
    "ExecuteTime": {
     "end_time": "2020-04-08T13:57:07.623406Z",
     "start_time": "2020-04-08T13:57:07.014920Z"
    }
   },
   "outputs": [],
   "source": [
    "pd.DataFrame(X_train_pca).to_csv('../data/featured_data/X_train.csv',index=False)\n",
    "pd.DataFrame(X_test_pca).to_csv('../data/featured_data/X_test.csv',index=False)\n",
    "pd.DataFrame(y_train).to_csv('../data/featured_data/y_train.csv',index=False)"
   ]
  },
  {
   "cell_type": "code",
   "execution_count": null,
   "metadata": {},
   "outputs": [],
   "source": []
  }
 ],
 "metadata": {
  "kernelspec": {
   "display_name": "Python 3",
   "language": "python",
   "name": "python3"
  },
  "language_info": {
   "codemirror_mode": {
    "name": "ipython",
    "version": 3
   },
   "file_extension": ".py",
   "mimetype": "text/x-python",
   "name": "python",
   "nbconvert_exporter": "python",
   "pygments_lexer": "ipython3",
   "version": "3.6.8"
  },
  "latex_envs": {
   "LaTeX_envs_menu_present": true,
   "autoclose": false,
   "autocomplete": true,
   "bibliofile": "biblio.bib",
   "cite_by": "apalike",
   "current_citInitial": 1,
   "eqLabelWithNumbers": true,
   "eqNumInitial": 1,
   "hotkeys": {
    "equation": "Ctrl-E",
    "itemize": "Ctrl-I"
   },
   "labels_anchors": false,
   "latex_user_defs": false,
   "report_style_numbering": false,
   "user_envs_cfg": false
  },
  "toc": {
   "base_numbering": 1,
   "nav_menu": {},
   "number_sections": true,
   "sideBar": true,
   "skip_h1_title": false,
   "title_cell": "Table of Contents",
   "title_sidebar": "Contents",
   "toc_cell": false,
   "toc_position": {},
   "toc_section_display": true,
   "toc_window_display": false
  }
 },
 "nbformat": 4,
 "nbformat_minor": 4
}
