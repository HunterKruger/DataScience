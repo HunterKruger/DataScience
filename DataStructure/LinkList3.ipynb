{
 "cells": [
  {
   "cell_type": "code",
   "execution_count": 3,
   "metadata": {},
   "outputs": [],
   "source": [
    "from LinkList import Node, LinkListUnderflow"
   ]
  },
  {
   "cell_type": "code",
   "execution_count": 10,
   "metadata": {},
   "outputs": [],
   "source": [
    "class LinkList3:  # 循环单链表\n",
    "    \n",
    "    def __init__(self):\n",
    "        self._rear = None   #只需要一个节点引用域\n",
    "    \n",
    "    def is_empty(self):\n",
    "        return self._rear is None\n",
    "    \n",
    "    def prepend(self, elem):     #链表头加一个节点\n",
    "        p = Node(elem)\n",
    "        if self._rear is None:\n",
    "            p.next = p\n",
    "            self._rear = p\n",
    "        else:\n",
    "            p.next = self._rear.next\n",
    "            self._rear.next = p\n",
    "        \n",
    "            \n",
    "    def pop(self): #链表头删除节点\n",
    "        if self._rear is None:\n",
    "            raise LinkListUnderflow('in pop of LinkList3')\n",
    "        p = self._rear.next\n",
    "        if self._rear is p:\n",
    "            self._rear = None\n",
    "        else:\n",
    "            self._rear.next = p.next      \n",
    "        return p.element\n",
    "    \n",
    "    def append(self, elem):\n",
    "        self.prepend(elem)\n",
    "        self._rear = self._rear.next\n",
    "    \n",
    "    def print_all(self):\n",
    "        if self.is_empty():\n",
    "            return\n",
    "        p = self._rear.next\n",
    "        while True:\n",
    "            print(p.element)\n",
    "            if p is self._rear:\n",
    "                break\n",
    "            p = p.next\n",
    "    \n",
    "    def is_loop(self):\n",
    "        p1 = self._rear\n",
    "        p2 = self._rear\n",
    "        while p1 is not None and p2 is not None:\n",
    "            p1 = p1.next\n",
    "            p2 = p2.next.next\n",
    "            if p1 == p2:\n",
    "                return True\n",
    "        return False"
   ]
  },
  {
   "cell_type": "code",
   "execution_count": 11,
   "metadata": {},
   "outputs": [
    {
     "name": "stdout",
     "output_type": "stream",
     "text": [
      "9\n",
      "8\n",
      "7\n",
      "6\n",
      "5\n",
      "4\n",
      "3\n",
      "2\n",
      "1\n",
      "0\n",
      "10\n",
      "11\n",
      "12\n",
      "13\n",
      "14\n",
      "15\n",
      "16\n",
      "17\n",
      "18\n",
      "19\n"
     ]
    }
   ],
   "source": [
    "fylist = LinkList3()\n",
    "for i in range(10):\n",
    "    fylist.prepend(i)\n",
    "for i in range(10,20):\n",
    "    fylist.append(i)\n",
    "fylist.print_all()"
   ]
  },
  {
   "cell_type": "code",
   "execution_count": 12,
   "metadata": {},
   "outputs": [
    {
     "data": {
      "text/plain": [
       "True"
      ]
     },
     "execution_count": 12,
     "metadata": {},
     "output_type": "execute_result"
    }
   ],
   "source": [
    "fylist.is_loop()"
   ]
  },
  {
   "cell_type": "code",
   "execution_count": null,
   "metadata": {},
   "outputs": [],
   "source": []
  },
  {
   "cell_type": "code",
   "execution_count": null,
   "metadata": {},
   "outputs": [],
   "source": []
  }
 ],
 "metadata": {
  "kernelspec": {
   "display_name": "Python 3",
   "language": "python",
   "name": "python3"
  },
  "language_info": {
   "codemirror_mode": {
    "name": "ipython",
    "version": 3
   },
   "file_extension": ".py",
   "mimetype": "text/x-python",
   "name": "python",
   "nbconvert_exporter": "python",
   "pygments_lexer": "ipython3",
   "version": "3.6.9"
  }
 },
 "nbformat": 4,
 "nbformat_minor": 4
}
