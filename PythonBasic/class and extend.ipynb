{
 "cells": [
  {
   "cell_type": "code",
   "execution_count": 1,
   "metadata": {},
   "outputs": [],
   "source": [
    "class Chef:\n",
    "    def cookBurger(self):\n",
    "        print(\"Cook burger\")\n",
    "    def cookPizza(self):\n",
    "        print(\"Cook pizza\")\n"
   ]
  },
  {
   "cell_type": "code",
   "execution_count": 2,
   "metadata": {},
   "outputs": [],
   "source": [
    "class ChineseChef(Chef):\n",
    "    def cookRice(self):\n",
    "        print(\"Cook rice\")\n",
    "    def cookBurger(self):\n",
    "        print(\"Cook burger in chinese style\")"
   ]
  },
  {
   "cell_type": "code",
   "execution_count": 3,
   "metadata": {},
   "outputs": [
    {
     "name": "stdout",
     "output_type": "stream",
     "text": [
      "Cook burger\n",
      "Cook pizza\n",
      "Cook rice\n",
      "Cook pizza\n",
      "Cook burger in chinese style\n"
     ]
    }
   ],
   "source": [
    "usChef = Chef()\n",
    "usChef.cookBurger()\n",
    "usChef.cookPizza()\n",
    "cnChef = ChineseChef()\n",
    "cnChef.cookRice()\n",
    "cnChef.cookPizza()\n",
    "cnChef.cookBurger()"
   ]
  },
  {
   "cell_type": "code",
   "execution_count": null,
   "metadata": {},
   "outputs": [],
   "source": []
  }
 ],
 "metadata": {
  "kernelspec": {
   "display_name": "Python 3",
   "language": "python",
   "name": "python3"
  },
  "language_info": {
   "codemirror_mode": {
    "name": "ipython",
    "version": 3
   },
   "file_extension": ".py",
   "mimetype": "text/x-python",
   "name": "python",
   "nbconvert_exporter": "python",
   "pygments_lexer": "ipython3",
   "version": "3.7.4"
  }
 },
 "nbformat": 4,
 "nbformat_minor": 2
}
