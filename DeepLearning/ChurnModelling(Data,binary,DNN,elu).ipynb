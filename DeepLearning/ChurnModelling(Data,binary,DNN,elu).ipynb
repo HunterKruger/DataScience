{
 "cells": [
  {
   "cell_type": "code",
   "execution_count": 21,
   "metadata": {
    "ExecuteTime": {
     "end_time": "2020-05-03T14:34:55.422394Z",
     "start_time": "2020-05-03T14:34:55.412420Z"
    }
   },
   "outputs": [],
   "source": [
    "from sklearn.preprocessing import StandardScaler\n",
    "from sklearn.preprocessing import LabelEncoder\n",
    "from sklearn.model_selection import train_test_split\n",
    "import matplotlib.pyplot as plt\n",
    "import pandas as pd\n",
    "import numpy as np\n",
    "import tensorflow as tf\n",
    "from tensorflow import keras\n",
    "from tensorflow.keras import Sequential\n",
    "from tensorflow.keras.layers import Flatten, Dense, BatchNormalization, Dropout\n",
    "from sklearn.metrics import confusion_matrix, accuracy_score\n",
    "%matplotlib inline"
   ]
  },
  {
   "cell_type": "code",
   "execution_count": 2,
   "metadata": {
    "ExecuteTime": {
     "end_time": "2020-05-03T14:34:37.157707Z",
     "start_time": "2020-05-03T14:34:37.100888Z"
    }
   },
   "outputs": [
    {
     "data": {
      "text/html": [
       "<div>\n",
       "<style scoped>\n",
       "    .dataframe tbody tr th:only-of-type {\n",
       "        vertical-align: middle;\n",
       "    }\n",
       "\n",
       "    .dataframe tbody tr th {\n",
       "        vertical-align: top;\n",
       "    }\n",
       "\n",
       "    .dataframe thead th {\n",
       "        text-align: right;\n",
       "    }\n",
       "</style>\n",
       "<table border=\"1\" class=\"dataframe\">\n",
       "  <thead>\n",
       "    <tr style=\"text-align: right;\">\n",
       "      <th></th>\n",
       "      <th>RowNumber</th>\n",
       "      <th>CustomerId</th>\n",
       "      <th>Surname</th>\n",
       "      <th>CreditScore</th>\n",
       "      <th>Geography</th>\n",
       "      <th>Gender</th>\n",
       "      <th>Age</th>\n",
       "      <th>Tenure</th>\n",
       "      <th>Balance</th>\n",
       "      <th>NumOfProducts</th>\n",
       "      <th>HasCrCard</th>\n",
       "      <th>IsActiveMember</th>\n",
       "      <th>EstimatedSalary</th>\n",
       "      <th>Exited</th>\n",
       "    </tr>\n",
       "  </thead>\n",
       "  <tbody>\n",
       "    <tr>\n",
       "      <th>0</th>\n",
       "      <td>1</td>\n",
       "      <td>15634602</td>\n",
       "      <td>Hargrave</td>\n",
       "      <td>619</td>\n",
       "      <td>France</td>\n",
       "      <td>Female</td>\n",
       "      <td>42</td>\n",
       "      <td>2</td>\n",
       "      <td>0.00</td>\n",
       "      <td>1</td>\n",
       "      <td>1</td>\n",
       "      <td>1</td>\n",
       "      <td>101348.88</td>\n",
       "      <td>1</td>\n",
       "    </tr>\n",
       "    <tr>\n",
       "      <th>1</th>\n",
       "      <td>2</td>\n",
       "      <td>15647311</td>\n",
       "      <td>Hill</td>\n",
       "      <td>608</td>\n",
       "      <td>Spain</td>\n",
       "      <td>Female</td>\n",
       "      <td>41</td>\n",
       "      <td>1</td>\n",
       "      <td>83807.86</td>\n",
       "      <td>1</td>\n",
       "      <td>0</td>\n",
       "      <td>1</td>\n",
       "      <td>112542.58</td>\n",
       "      <td>0</td>\n",
       "    </tr>\n",
       "    <tr>\n",
       "      <th>2</th>\n",
       "      <td>3</td>\n",
       "      <td>15619304</td>\n",
       "      <td>Onio</td>\n",
       "      <td>502</td>\n",
       "      <td>France</td>\n",
       "      <td>Female</td>\n",
       "      <td>42</td>\n",
       "      <td>8</td>\n",
       "      <td>159660.80</td>\n",
       "      <td>3</td>\n",
       "      <td>1</td>\n",
       "      <td>0</td>\n",
       "      <td>113931.57</td>\n",
       "      <td>1</td>\n",
       "    </tr>\n",
       "    <tr>\n",
       "      <th>3</th>\n",
       "      <td>4</td>\n",
       "      <td>15701354</td>\n",
       "      <td>Boni</td>\n",
       "      <td>699</td>\n",
       "      <td>France</td>\n",
       "      <td>Female</td>\n",
       "      <td>39</td>\n",
       "      <td>1</td>\n",
       "      <td>0.00</td>\n",
       "      <td>2</td>\n",
       "      <td>0</td>\n",
       "      <td>0</td>\n",
       "      <td>93826.63</td>\n",
       "      <td>0</td>\n",
       "    </tr>\n",
       "    <tr>\n",
       "      <th>4</th>\n",
       "      <td>5</td>\n",
       "      <td>15737888</td>\n",
       "      <td>Mitchell</td>\n",
       "      <td>850</td>\n",
       "      <td>Spain</td>\n",
       "      <td>Female</td>\n",
       "      <td>43</td>\n",
       "      <td>2</td>\n",
       "      <td>125510.82</td>\n",
       "      <td>1</td>\n",
       "      <td>1</td>\n",
       "      <td>1</td>\n",
       "      <td>79084.10</td>\n",
       "      <td>0</td>\n",
       "    </tr>\n",
       "  </tbody>\n",
       "</table>\n",
       "</div>"
      ],
      "text/plain": [
       "   RowNumber  CustomerId   Surname  CreditScore Geography  Gender  Age  \\\n",
       "0          1    15634602  Hargrave          619    France  Female   42   \n",
       "1          2    15647311      Hill          608     Spain  Female   41   \n",
       "2          3    15619304      Onio          502    France  Female   42   \n",
       "3          4    15701354      Boni          699    France  Female   39   \n",
       "4          5    15737888  Mitchell          850     Spain  Female   43   \n",
       "\n",
       "   Tenure    Balance  NumOfProducts  HasCrCard  IsActiveMember  \\\n",
       "0       2       0.00              1          1               1   \n",
       "1       1   83807.86              1          0               1   \n",
       "2       8  159660.80              3          1               0   \n",
       "3       1       0.00              2          0               0   \n",
       "4       2  125510.82              1          1               1   \n",
       "\n",
       "   EstimatedSalary  Exited  \n",
       "0        101348.88       1  \n",
       "1        112542.58       0  \n",
       "2        113931.57       1  \n",
       "3         93826.63       0  \n",
       "4         79084.10       0  "
      ]
     },
     "execution_count": 2,
     "metadata": {},
     "output_type": "execute_result"
    }
   ],
   "source": [
    "dataset = pd.read_csv('Churn_Modelling.csv')\n",
    "dataset.head(5)"
   ]
  },
  {
   "cell_type": "code",
   "execution_count": 3,
   "metadata": {
    "ExecuteTime": {
     "end_time": "2020-05-03T14:34:37.166687Z",
     "start_time": "2020-05-03T14:34:37.159702Z"
    }
   },
   "outputs": [],
   "source": [
    "X = dataset.drop(labels=['CustomerId','Surname','RowNumber','Exited'],axis=1)"
   ]
  },
  {
   "cell_type": "code",
   "execution_count": 4,
   "metadata": {
    "ExecuteTime": {
     "end_time": "2020-05-03T14:34:37.175660Z",
     "start_time": "2020-05-03T14:34:37.168678Z"
    }
   },
   "outputs": [],
   "source": [
    "y = dataset['Exited']"
   ]
  },
  {
   "cell_type": "code",
   "execution_count": 5,
   "metadata": {
    "ExecuteTime": {
     "end_time": "2020-05-03T14:34:37.187629Z",
     "start_time": "2020-05-03T14:34:37.177656Z"
    }
   },
   "outputs": [],
   "source": [
    "label1 = LabelEncoder()\n",
    "X['Geography']=label1.fit_transform(X['Geography'])"
   ]
  },
  {
   "cell_type": "code",
   "execution_count": 6,
   "metadata": {
    "ExecuteTime": {
     "end_time": "2020-05-03T14:34:37.201592Z",
     "start_time": "2020-05-03T14:34:37.189623Z"
    }
   },
   "outputs": [],
   "source": [
    "label2 = LabelEncoder()\n",
    "X['Gender']=label1.fit_transform(X['Gender'])"
   ]
  },
  {
   "cell_type": "code",
   "execution_count": 7,
   "metadata": {
    "ExecuteTime": {
     "end_time": "2020-05-03T14:34:37.222564Z",
     "start_time": "2020-05-03T14:34:37.205579Z"
    }
   },
   "outputs": [],
   "source": [
    "X = pd.get_dummies(X, drop_first=True, columns=['Geography'])"
   ]
  },
  {
   "cell_type": "code",
   "execution_count": 8,
   "metadata": {
    "ExecuteTime": {
     "end_time": "2020-05-03T14:34:37.237563Z",
     "start_time": "2020-05-03T14:34:37.224547Z"
    }
   },
   "outputs": [],
   "source": [
    "X = pd.get_dummies(X, drop_first=True, columns=['Gender'])"
   ]
  },
  {
   "cell_type": "markdown",
   "metadata": {},
   "source": [
    "## Feature standardization"
   ]
  },
  {
   "cell_type": "code",
   "execution_count": 9,
   "metadata": {
    "ExecuteTime": {
     "end_time": "2020-05-03T14:34:37.260432Z",
     "start_time": "2020-05-03T14:34:37.239489Z"
    }
   },
   "outputs": [],
   "source": [
    "X_train, X_test, y_train, y_test = train_test_split(X ,y, test_size=0.2, random_state=0, stratify=y)"
   ]
  },
  {
   "cell_type": "code",
   "execution_count": 10,
   "metadata": {
    "ExecuteTime": {
     "end_time": "2020-05-03T14:34:37.275415Z",
     "start_time": "2020-05-03T14:34:37.262429Z"
    }
   },
   "outputs": [],
   "source": [
    "scaler = StandardScaler()\n",
    "X_train = scaler.fit_transform(X_train)\n",
    "X_test = scaler.transform(X_test)"
   ]
  },
  {
   "cell_type": "markdown",
   "metadata": {},
   "source": [
    "## Build DNN"
   ]
  },
  {
   "cell_type": "code",
   "execution_count": 11,
   "metadata": {
    "ExecuteTime": {
     "end_time": "2020-05-03T14:34:39.577265Z",
     "start_time": "2020-05-03T14:34:37.277388Z"
    }
   },
   "outputs": [],
   "source": [
    "model = Sequential()\n",
    "model.add(Dense(128,activation='elu',kernel_initializer='he_normal',input_dim=X.shape[1]))\n",
    "#1st hidden layer with 128 nodes & input layer with 11 nodes (11 features)\n",
    "model.add(BatchNormalization()) # it is ok to use it with elu\n",
    "model.add(Dropout(0.3)) # it is ok to use it with elu\n",
    "model.add(Dense(32,activation='elu',kernel_initializer='he_normal'))  \n",
    "model.add(BatchNormalization())\n",
    "model.add(Dropout(0.2))\n",
    "model.add(Dense(1,activation='sigmoid')) #output layer, binary-classification"
   ]
  },
  {
   "cell_type": "code",
   "execution_count": 12,
   "metadata": {
    "ExecuteTime": {
     "end_time": "2020-05-03T14:34:39.640077Z",
     "start_time": "2020-05-03T14:34:39.578232Z"
    }
   },
   "outputs": [],
   "source": [
    "model.compile(optimizer='adam',loss='binary_crossentropy',metrics=['accuracy'])"
   ]
  },
  {
   "cell_type": "code",
   "execution_count": 13,
   "metadata": {
    "ExecuteTime": {
     "end_time": "2020-05-03T14:34:39.645057Z",
     "start_time": "2020-05-03T14:34:39.641094Z"
    }
   },
   "outputs": [],
   "source": [
    "epochs=30"
   ]
  },
  {
   "cell_type": "code",
   "execution_count": 14,
   "metadata": {
    "ExecuteTime": {
     "end_time": "2020-05-03T14:34:54.586629Z",
     "start_time": "2020-05-03T14:34:39.646052Z"
    }
   },
   "outputs": [
    {
     "name": "stdout",
     "output_type": "stream",
     "text": [
      "Train on 8000 samples, validate on 2000 samples\n",
      "Epoch 1/30\n",
      "8000/8000 [==============================] - 3s 376us/sample - loss: 0.6931 - accuracy: 0.6351 - val_loss: 0.5884 - val_accuracy: 0.7040\n",
      "Epoch 2/30\n",
      "8000/8000 [==============================] - ETA: 0s - loss: 0.5509 - accuracy: 0.72 - 0s 57us/sample - loss: 0.5477 - accuracy: 0.7296 - val_loss: 0.4604 - val_accuracy: 0.8015\n",
      "Epoch 3/30\n",
      "8000/8000 [==============================] - 0s 53us/sample - loss: 0.4799 - accuracy: 0.7865 - val_loss: 0.4001 - val_accuracy: 0.8395\n",
      "Epoch 4/30\n",
      "8000/8000 [==============================] - 0s 50us/sample - loss: 0.4270 - accuracy: 0.8204 - val_loss: 0.3704 - val_accuracy: 0.8475\n",
      "Epoch 5/30\n",
      "8000/8000 [==============================] - 0s 49us/sample - loss: 0.4097 - accuracy: 0.8260 - val_loss: 0.3577 - val_accuracy: 0.8560\n",
      "Epoch 6/30\n",
      "8000/8000 [==============================] - 0s 54us/sample - loss: 0.3995 - accuracy: 0.8320 - val_loss: 0.3523 - val_accuracy: 0.8565\n",
      "Epoch 7/30\n",
      "8000/8000 [==============================] - 0s 52us/sample - loss: 0.3931 - accuracy: 0.8353 - val_loss: 0.3499 - val_accuracy: 0.8580\n",
      "Epoch 8/30\n",
      "8000/8000 [==============================] - 0s 55us/sample - loss: 0.3887 - accuracy: 0.8342 - val_loss: 0.3501 - val_accuracy: 0.8570\n",
      "Epoch 9/30\n",
      "8000/8000 [==============================] - 0s 47us/sample - loss: 0.3812 - accuracy: 0.8385 - val_loss: 0.3482 - val_accuracy: 0.8555\n",
      "Epoch 10/30\n",
      "8000/8000 [==============================] - 0s 52us/sample - loss: 0.3779 - accuracy: 0.8363 - val_loss: 0.3481 - val_accuracy: 0.8565\n",
      "Epoch 11/30\n",
      "8000/8000 [==============================] - 0s 57us/sample - loss: 0.3762 - accuracy: 0.8432 - val_loss: 0.3471 - val_accuracy: 0.8600\n",
      "Epoch 12/30\n",
      "8000/8000 [==============================] - 0s 48us/sample - loss: 0.3745 - accuracy: 0.8438 - val_loss: 0.3474 - val_accuracy: 0.8580\n",
      "Epoch 13/30\n",
      "8000/8000 [==============================] - 0s 49us/sample - loss: 0.3751 - accuracy: 0.8436 - val_loss: 0.3469 - val_accuracy: 0.8580\n",
      "Epoch 14/30\n",
      "8000/8000 [==============================] - 0s 49us/sample - loss: 0.3683 - accuracy: 0.8422 - val_loss: 0.3476 - val_accuracy: 0.8570\n",
      "Epoch 15/30\n",
      "8000/8000 [==============================] - 0s 50us/sample - loss: 0.3701 - accuracy: 0.8455 - val_loss: 0.3468 - val_accuracy: 0.8560\n",
      "Epoch 16/30\n",
      "8000/8000 [==============================] - 0s 49us/sample - loss: 0.3623 - accuracy: 0.8482 - val_loss: 0.3469 - val_accuracy: 0.8570\n",
      "Epoch 17/30\n",
      "8000/8000 [==============================] - 0s 51us/sample - loss: 0.3642 - accuracy: 0.8459 - val_loss: 0.3470 - val_accuracy: 0.8575\n",
      "Epoch 18/30\n",
      "8000/8000 [==============================] - 0s 52us/sample - loss: 0.3654 - accuracy: 0.8478 - val_loss: 0.3458 - val_accuracy: 0.8585\n",
      "Epoch 19/30\n",
      "8000/8000 [==============================] - 0s 48us/sample - loss: 0.3631 - accuracy: 0.8497 - val_loss: 0.3446 - val_accuracy: 0.8570\n",
      "Epoch 20/30\n",
      "8000/8000 [==============================] - 0s 48us/sample - loss: 0.3634 - accuracy: 0.8456 - val_loss: 0.3457 - val_accuracy: 0.8580\n",
      "Epoch 21/30\n",
      "8000/8000 [==============================] - 0s 53us/sample - loss: 0.3626 - accuracy: 0.8485 - val_loss: 0.3454 - val_accuracy: 0.8605\n",
      "Epoch 22/30\n",
      "8000/8000 [==============================] - 0s 50us/sample - loss: 0.3621 - accuracy: 0.8472 - val_loss: 0.3450 - val_accuracy: 0.8575\n",
      "Epoch 23/30\n",
      "8000/8000 [==============================] - 0s 53us/sample - loss: 0.3586 - accuracy: 0.8490 - val_loss: 0.3448 - val_accuracy: 0.8580\n",
      "Epoch 24/30\n",
      "8000/8000 [==============================] - 0s 48us/sample - loss: 0.3589 - accuracy: 0.8496 - val_loss: 0.3451 - val_accuracy: 0.8575\n",
      "Epoch 25/30\n",
      "8000/8000 [==============================] - 0s 47us/sample - loss: 0.3541 - accuracy: 0.8528 - val_loss: 0.3432 - val_accuracy: 0.8595\n",
      "Epoch 26/30\n",
      "8000/8000 [==============================] - 0s 48us/sample - loss: 0.3580 - accuracy: 0.8505 - val_loss: 0.3446 - val_accuracy: 0.8590\n",
      "Epoch 27/30\n",
      "8000/8000 [==============================] - 0s 48us/sample - loss: 0.3559 - accuracy: 0.8504 - val_loss: 0.3439 - val_accuracy: 0.8595\n",
      "Epoch 28/30\n",
      "8000/8000 [==============================] - 0s 54us/sample - loss: 0.3568 - accuracy: 0.8522 - val_loss: 0.3434 - val_accuracy: 0.8595\n",
      "Epoch 29/30\n",
      "8000/8000 [==============================] - 0s 49us/sample - loss: 0.3557 - accuracy: 0.8484 - val_loss: 0.3427 - val_accuracy: 0.8570\n",
      "Epoch 30/30\n",
      "8000/8000 [==============================] - 0s 49us/sample - loss: 0.3566 - accuracy: 0.8514 - val_loss: 0.3431 - val_accuracy: 0.8585\n"
     ]
    }
   ],
   "source": [
    "history=model.fit(X_train, y_train.to_numpy(), validation_data=(X_test,y_test.to_numpy()), batch_size=128, epochs=epochs, verbose=1)"
   ]
  },
  {
   "cell_type": "code",
   "execution_count": 15,
   "metadata": {
    "ExecuteTime": {
     "end_time": "2020-05-03T14:34:54.928742Z",
     "start_time": "2020-05-03T14:34:54.587626Z"
    }
   },
   "outputs": [
    {
     "data": {
      "image/png": "[encoded data removed]",
      "text/plain": [
       "<Figure size 432x288 with 1 Axes>"
      ]
     },
     "metadata": {
      "needs_background": "light"
     },
     "output_type": "display_data"
    },
    {
     "data": {
      "image/png": "[encoded data removed]",
      "text/plain": [
       "<Figure size 432x288 with 1 Axes>"
      ]
     },
     "metadata": {
      "needs_background": "light"
     },
     "output_type": "display_data"
    }
   ],
   "source": [
    "epoch_range=range(1,epochs+1)\n",
    "plt.plot(epoch_range,history.history['accuracy'])\n",
    "plt.plot(epoch_range,history.history['val_accuracy'])\n",
    "plt.title('Model accuracy')\n",
    "plt.ylabel('Accuracy')\n",
    "plt.xlabel('Epoch')\n",
    "plt.legend(['Train','Val'],loc='upper left')\n",
    "plt.show()\n",
    "\n",
    "plt.plot(history.history['loss'])\n",
    "plt.plot(history.history['val_loss'])\n",
    "plt.title('Model loss')\n",
    "plt.ylabel('Loss')\n",
    "plt.xlabel('Epoch')\n",
    "plt.legend(['Train','Val'],loc='upper left')\n",
    "plt.show()"
   ]
  },
  {
   "cell_type": "markdown",
   "metadata": {},
   "source": [
    "## Evaluate"
   ]
  },
  {
   "cell_type": "code",
   "execution_count": 16,
   "metadata": {
    "ExecuteTime": {
     "end_time": "2020-05-03T14:34:55.150142Z",
     "start_time": "2020-05-03T14:34:54.929751Z"
    }
   },
   "outputs": [],
   "source": [
    "y_pred = model.predict_classes(X_test)"
   ]
  },
  {
   "cell_type": "code",
   "execution_count": 19,
   "metadata": {
    "ExecuteTime": {
     "end_time": "2020-05-03T14:34:55.381503Z",
     "start_time": "2020-05-03T14:34:55.370531Z"
    }
   },
   "outputs": [
    {
     "data": {
      "text/plain": [
       "array([[1546,   47],\n",
       "       [ 236,  171]], dtype=int64)"
      ]
     },
     "execution_count": 19,
     "metadata": {},
     "output_type": "execute_result"
    }
   ],
   "source": [
    "confusion_matrix(y_test, y_pred)"
   ]
  },
  {
   "cell_type": "code",
   "execution_count": 20,
   "metadata": {
    "ExecuteTime": {
     "end_time": "2020-05-03T14:34:55.390479Z",
     "start_time": "2020-05-03T14:34:55.383498Z"
    }
   },
   "outputs": [
    {
     "data": {
      "text/plain": [
       "0.8585"
      ]
     },
     "execution_count": 20,
     "metadata": {},
     "output_type": "execute_result"
    }
   ],
   "source": [
    "accuracy_score(y_test,y_pred)"
   ]
  }
 ],
 "metadata": {
  "kernelspec": {
   "display_name": "Python 3",
   "language": "python",
   "name": "python3"
  },
  "language_info": {
   "codemirror_mode": {
    "name": "ipython",
    "version": 3
   },
   "file_extension": ".py",
   "mimetype": "text/x-python",
   "name": "python",
   "nbconvert_exporter": "python",
   "pygments_lexer": "ipython3",
   "version": "3.6.9"
  },
  "latex_envs": {
   "LaTeX_envs_menu_present": true,
   "autoclose": false,
   "autocomplete": true,
   "bibliofile": "biblio.bib",
   "cite_by": "apalike",
   "current_citInitial": 1,
   "eqLabelWithNumbers": true,
   "eqNumInitial": 1,
   "hotkeys": {
    "equation": "Ctrl-E",
    "itemize": "Ctrl-I"
   },
   "labels_anchors": false,
   "latex_user_defs": false,
   "report_style_numbering": false,
   "user_envs_cfg": false
  },
  "toc": {
   "base_numbering": 1,
   "nav_menu": {},
   "number_sections": true,
   "sideBar": true,
   "skip_h1_title": false,
   "title_cell": "Table of Contents",
   "title_sidebar": "Contents",
   "toc_cell": false,
   "toc_position": {},
   "toc_section_display": true,
   "toc_window_display": false
  }
 },
 "nbformat": 4,
 "nbformat_minor": 4
}
