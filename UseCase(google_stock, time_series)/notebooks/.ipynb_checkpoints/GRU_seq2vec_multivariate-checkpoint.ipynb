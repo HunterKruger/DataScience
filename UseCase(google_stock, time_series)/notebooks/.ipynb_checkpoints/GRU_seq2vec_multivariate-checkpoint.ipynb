{
 "cells": [
  {
   "cell_type": "code",
   "execution_count": 1,
   "metadata": {
    "ExecuteTime": {
     "end_time": "2020-04-28T21:41:09.695580Z",
     "start_time": "2020-04-28T21:41:06.821266Z"
    }
   },
   "outputs": [],
   "source": [
    "import pandas as pd\n",
    "import numpy as np\n",
    "from sklearn.preprocessing import MinMaxScaler\n",
    "import tensorflow as tf\n",
    "from tensorflow.keras import Sequential\n",
    "from tensorflow.keras.optimizers import Adam\n",
    "from tensorflow.keras.layers import GRU,LSTM,Dense,BatchNormalization,Dropout,Flatten\n",
    "from sklearn.preprocessing import MinMaxScaler\n",
    "from sklearn.metrics import mean_squared_error\n",
    "import matplotlib.pyplot as plt\n",
    "%matplotlib inline"
   ]
  },
  {
   "cell_type": "code",
   "execution_count": 2,
   "metadata": {
    "ExecuteTime": {
     "end_time": "2020-04-28T21:41:09.714167Z",
     "start_time": "2020-04-28T21:41:09.697212Z"
    }
   },
   "outputs": [
    {
     "data": {
      "text/plain": [
       "(3809, 7)"
      ]
     },
     "execution_count": 2,
     "metadata": {},
     "output_type": "execute_result"
    }
   ],
   "source": [
    "data = pd.read_csv('../data/google_stock.csv')\n",
    "data.shape"
   ]
  },
  {
   "cell_type": "code",
   "execution_count": 3,
   "metadata": {
    "ExecuteTime": {
     "end_time": "2020-04-28T21:41:09.731122Z",
     "start_time": "2020-04-28T21:41:09.715165Z"
    }
   },
   "outputs": [
    {
     "data": {
      "text/html": [
       "<div>\n",
       "<style scoped>\n",
       "    .dataframe tbody tr th:only-of-type {\n",
       "        vertical-align: middle;\n",
       "    }\n",
       "\n",
       "    .dataframe tbody tr th {\n",
       "        vertical-align: top;\n",
       "    }\n",
       "\n",
       "    .dataframe thead th {\n",
       "        text-align: right;\n",
       "    }\n",
       "</style>\n",
       "<table border=\"1\" class=\"dataframe\">\n",
       "  <thead>\n",
       "    <tr style=\"text-align: right;\">\n",
       "      <th></th>\n",
       "      <th>Date</th>\n",
       "      <th>Open</th>\n",
       "      <th>High</th>\n",
       "      <th>Low</th>\n",
       "      <th>Close</th>\n",
       "      <th>Adj Close</th>\n",
       "      <th>Volume</th>\n",
       "    </tr>\n",
       "  </thead>\n",
       "  <tbody>\n",
       "    <tr>\n",
       "      <th>0</th>\n",
       "      <td>2004-08-19</td>\n",
       "      <td>49.813286</td>\n",
       "      <td>51.835709</td>\n",
       "      <td>47.800831</td>\n",
       "      <td>49.982655</td>\n",
       "      <td>49.982655</td>\n",
       "      <td>44871300</td>\n",
       "    </tr>\n",
       "    <tr>\n",
       "      <th>1</th>\n",
       "      <td>2004-08-20</td>\n",
       "      <td>50.316402</td>\n",
       "      <td>54.336334</td>\n",
       "      <td>50.062355</td>\n",
       "      <td>53.952770</td>\n",
       "      <td>53.952770</td>\n",
       "      <td>22942800</td>\n",
       "    </tr>\n",
       "    <tr>\n",
       "      <th>2</th>\n",
       "      <td>2004-08-23</td>\n",
       "      <td>55.168217</td>\n",
       "      <td>56.528118</td>\n",
       "      <td>54.321388</td>\n",
       "      <td>54.495735</td>\n",
       "      <td>54.495735</td>\n",
       "      <td>18342800</td>\n",
       "    </tr>\n",
       "    <tr>\n",
       "      <th>3</th>\n",
       "      <td>2004-08-24</td>\n",
       "      <td>55.412300</td>\n",
       "      <td>55.591629</td>\n",
       "      <td>51.591621</td>\n",
       "      <td>52.239193</td>\n",
       "      <td>52.239193</td>\n",
       "      <td>15319700</td>\n",
       "    </tr>\n",
       "    <tr>\n",
       "      <th>4</th>\n",
       "      <td>2004-08-25</td>\n",
       "      <td>52.284027</td>\n",
       "      <td>53.798351</td>\n",
       "      <td>51.746044</td>\n",
       "      <td>52.802086</td>\n",
       "      <td>52.802086</td>\n",
       "      <td>9232100</td>\n",
       "    </tr>\n",
       "  </tbody>\n",
       "</table>\n",
       "</div>"
      ],
      "text/plain": [
       "         Date       Open       High        Low      Close  Adj Close    Volume\n",
       "0  2004-08-19  49.813286  51.835709  47.800831  49.982655  49.982655  44871300\n",
       "1  2004-08-20  50.316402  54.336334  50.062355  53.952770  53.952770  22942800\n",
       "2  2004-08-23  55.168217  56.528118  54.321388  54.495735  54.495735  18342800\n",
       "3  2004-08-24  55.412300  55.591629  51.591621  52.239193  52.239193  15319700\n",
       "4  2004-08-25  52.284027  53.798351  51.746044  52.802086  52.802086   9232100"
      ]
     },
     "execution_count": 3,
     "metadata": {},
     "output_type": "execute_result"
    }
   ],
   "source": [
    "data.head()"
   ]
  },
  {
   "cell_type": "code",
   "execution_count": 4,
   "metadata": {
    "ExecuteTime": {
     "end_time": "2020-04-28T21:41:09.741095Z",
     "start_time": "2020-04-28T21:41:09.733116Z"
    }
   },
   "outputs": [],
   "source": [
    "data.drop('Date',axis=1,inplace=True)\n",
    "data.drop('Volume',axis=1,inplace=True)\n",
    "data.drop('Adj Close',axis=1,inplace=True)"
   ]
  },
  {
   "cell_type": "code",
   "execution_count": 5,
   "metadata": {
    "ExecuteTime": {
     "end_time": "2020-04-28T21:41:09.750079Z",
     "start_time": "2020-04-28T21:41:09.742092Z"
    }
   },
   "outputs": [
    {
     "data": {
      "text/html": [
       "<div>\n",
       "<style scoped>\n",
       "    .dataframe tbody tr th:only-of-type {\n",
       "        vertical-align: middle;\n",
       "    }\n",
       "\n",
       "    .dataframe tbody tr th {\n",
       "        vertical-align: top;\n",
       "    }\n",
       "\n",
       "    .dataframe thead th {\n",
       "        text-align: right;\n",
       "    }\n",
       "</style>\n",
       "<table border=\"1\" class=\"dataframe\">\n",
       "  <thead>\n",
       "    <tr style=\"text-align: right;\">\n",
       "      <th></th>\n",
       "      <th>Open</th>\n",
       "      <th>High</th>\n",
       "      <th>Low</th>\n",
       "      <th>Close</th>\n",
       "    </tr>\n",
       "  </thead>\n",
       "  <tbody>\n",
       "    <tr>\n",
       "      <th>0</th>\n",
       "      <td>49.813286</td>\n",
       "      <td>51.835709</td>\n",
       "      <td>47.800831</td>\n",
       "      <td>49.982655</td>\n",
       "    </tr>\n",
       "    <tr>\n",
       "      <th>1</th>\n",
       "      <td>50.316402</td>\n",
       "      <td>54.336334</td>\n",
       "      <td>50.062355</td>\n",
       "      <td>53.952770</td>\n",
       "    </tr>\n",
       "    <tr>\n",
       "      <th>2</th>\n",
       "      <td>55.168217</td>\n",
       "      <td>56.528118</td>\n",
       "      <td>54.321388</td>\n",
       "      <td>54.495735</td>\n",
       "    </tr>\n",
       "    <tr>\n",
       "      <th>3</th>\n",
       "      <td>55.412300</td>\n",
       "      <td>55.591629</td>\n",
       "      <td>51.591621</td>\n",
       "      <td>52.239193</td>\n",
       "    </tr>\n",
       "    <tr>\n",
       "      <th>4</th>\n",
       "      <td>52.284027</td>\n",
       "      <td>53.798351</td>\n",
       "      <td>51.746044</td>\n",
       "      <td>52.802086</td>\n",
       "    </tr>\n",
       "  </tbody>\n",
       "</table>\n",
       "</div>"
      ],
      "text/plain": [
       "        Open       High        Low      Close\n",
       "0  49.813286  51.835709  47.800831  49.982655\n",
       "1  50.316402  54.336334  50.062355  53.952770\n",
       "2  55.168217  56.528118  54.321388  54.495735\n",
       "3  55.412300  55.591629  51.591621  52.239193\n",
       "4  52.284027  53.798351  51.746044  52.802086"
      ]
     },
     "execution_count": 5,
     "metadata": {},
     "output_type": "execute_result"
    }
   ],
   "source": [
    "data.head()"
   ]
  },
  {
   "cell_type": "markdown",
   "metadata": {},
   "source": [
    "### Train, Val, Test spliting"
   ]
  },
  {
   "cell_type": "code",
   "execution_count": 6,
   "metadata": {
    "ExecuteTime": {
     "end_time": "2020-04-28T21:41:09.760045Z",
     "start_time": "2020-04-28T21:41:09.751069Z"
    }
   },
   "outputs": [
    {
     "data": {
      "text/plain": [
       "((3048, 4), (761, 4))"
      ]
     },
     "execution_count": 6,
     "metadata": {},
     "output_type": "execute_result"
    }
   ],
   "source": [
    "train_org = data.iloc[:3048,:]\n",
    "test = data.iloc[3048:,:]\n",
    "train_org.shape, test.shape   "
   ]
  },
  {
   "cell_type": "code",
   "execution_count": 7,
   "metadata": {
    "ExecuteTime": {
     "end_time": "2020-04-28T21:41:09.771015Z",
     "start_time": "2020-04-28T21:41:09.763044Z"
    }
   },
   "outputs": [],
   "source": [
    "scaler = MinMaxScaler()\n",
    "train_org = scaler.fit_transform(train_org)\n",
    "test = scaler.transform(test)"
   ]
  },
  {
   "cell_type": "code",
   "execution_count": 8,
   "metadata": {
    "ExecuteTime": {
     "end_time": "2020-04-28T21:41:09.778011Z",
     "start_time": "2020-04-28T21:41:09.773010Z"
    }
   },
   "outputs": [
    {
     "data": {
      "text/plain": [
       "((2287, 4), (761, 4))"
      ]
     },
     "execution_count": 8,
     "metadata": {},
     "output_type": "execute_result"
    }
   ],
   "source": [
    "train = train_org[:2287, :]\n",
    "val = train_org[2287:, :]\n",
    "train.shape, val.shape                     # train: 2287 seqs, val: 761 seqs, test: 761 seqs"
   ]
  },
  {
   "cell_type": "code",
   "execution_count": 9,
   "metadata": {
    "ExecuteTime": {
     "end_time": "2020-04-28T21:41:09.791976Z",
     "start_time": "2020-04-28T21:41:09.778994Z"
    }
   },
   "outputs": [
    {
     "data": {
      "text/plain": [
       "((2256, 30, 4), (2256, 1))"
      ]
     },
     "execution_count": 9,
     "metadata": {},
     "output_type": "execute_result"
    }
   ],
   "source": [
    "X_train=[]\n",
    "y_train=[]\n",
    "\n",
    "for i in range(0,train.shape[0]-31):         # idea: use 30 previous day to predict next 1 day\n",
    "    X_train.append(train[i:i+30,:])\n",
    "    y_train.append(train[i+30:i+31,0])\n",
    "\n",
    "X_train,y_train=np.array(X_train),np.array(y_train)\n",
    "X_train.shape,y_train.shape"
   ]
  },
  {
   "cell_type": "code",
   "execution_count": 10,
   "metadata": {
    "ExecuteTime": {
     "end_time": "2020-04-28T21:41:09.801932Z",
     "start_time": "2020-04-28T21:41:09.792957Z"
    }
   },
   "outputs": [
    {
     "data": {
      "text/plain": [
       "((730, 30, 4), (730, 1))"
      ]
     },
     "execution_count": 10,
     "metadata": {},
     "output_type": "execute_result"
    }
   ],
   "source": [
    "X_val=[]\n",
    "y_val=[]\n",
    "\n",
    "for i in range(0,val.shape[0]-31):         # idea: use 30 previous day to predict next 1 day\n",
    "    X_val.append(val[i:i+30,:])\n",
    "    y_val.append(val[i+30:i+31,0])\n",
    "\n",
    "X_val,y_val=np.array(X_val),np.array(y_val)\n",
    "X_val.shape,y_val.shape"
   ]
  },
  {
   "cell_type": "code",
   "execution_count": 11,
   "metadata": {
    "ExecuteTime": {
     "end_time": "2020-04-28T21:41:09.810919Z",
     "start_time": "2020-04-28T21:41:09.802930Z"
    }
   },
   "outputs": [
    {
     "data": {
      "text/plain": [
       "((730, 30, 4), (730, 1))"
      ]
     },
     "execution_count": 11,
     "metadata": {},
     "output_type": "execute_result"
    }
   ],
   "source": [
    "X_test=[]\n",
    "y_test=[]\n",
    "\n",
    "for i in range(0,test.shape[0]-31):         # idea: use 30 previous day to predict next 1 day\n",
    "    X_test.append(test[i:i+30,:])\n",
    "    y_test.append(test[i+30:i+31,0])\n",
    "\n",
    "X_test,y_test=np.array(X_test),np.array(y_test)\n",
    "X_test.shape,y_test.shape"
   ]
  },
  {
   "cell_type": "markdown",
   "metadata": {
    "ExecuteTime": {
     "end_time": "2020-04-24T16:26:33.498263Z",
     "start_time": "2020-04-24T16:26:33.491281Z"
    }
   },
   "source": [
    "### Modeling"
   ]
  },
  {
   "cell_type": "code",
   "execution_count": 12,
   "metadata": {
    "ExecuteTime": {
     "end_time": "2020-04-28T21:41:10.892182Z",
     "start_time": "2020-04-28T21:41:09.812929Z"
    }
   },
   "outputs": [],
   "source": [
    "model=Sequential() \n",
    "\n",
    "model.add(GRU(units = 30,activation='tanh',return_sequences=False,input_shape=(X_train.shape[1],X_train.shape[2]))) \n",
    "model.add(Dense(1,activation='linear')) "
   ]
  },
  {
   "cell_type": "code",
   "execution_count": 13,
   "metadata": {
    "ExecuteTime": {
     "end_time": "2020-04-28T21:41:10.912024Z",
     "start_time": "2020-04-28T21:41:10.893946Z"
    }
   },
   "outputs": [],
   "source": [
    "opt = Adam(learning_rate=0.001)\n",
    "model.compile(optimizer=opt,loss='mse')"
   ]
  },
  {
   "cell_type": "code",
   "execution_count": 14,
   "metadata": {
    "ExecuteTime": {
     "end_time": "2020-04-28T21:41:37.578568Z",
     "start_time": "2020-04-28T21:41:10.914984Z"
    }
   },
   "outputs": [
    {
     "name": "stdout",
     "output_type": "stream",
     "text": [
      "Train on 2256 samples, validate on 730 samples\n",
      "Epoch 1/50\n",
      "2256/2256 [==============================] - 4s 2ms/sample - loss: 5.3817e-04 - val_loss: 5.1815e-04\n",
      "Epoch 2/50\n",
      "2256/2256 [==============================] - 0s 195us/sample - loss: 4.2272e-05 - val_loss: 4.1041e-04\n",
      "Epoch 3/50\n",
      "2256/2256 [==============================] - 0s 197us/sample - loss: 3.7809e-05 - val_loss: 3.5741e-04\n",
      "Epoch 4/50\n",
      "2256/2256 [==============================] - 0s 197us/sample - loss: 3.5074e-05 - val_loss: 4.6418e-04\n",
      "Epoch 5/50\n",
      "2256/2256 [==============================] - 0s 193us/sample - loss: 3.3678e-05 - val_loss: 3.4899e-04\n",
      "Epoch 6/50\n",
      "2256/2256 [==============================] - 0s 192us/sample - loss: 3.0175e-05 - val_loss: 4.9645e-04\n",
      "Epoch 7/50\n",
      "2256/2256 [==============================] - 0s 197us/sample - loss: 2.8993e-05 - val_loss: 3.6335e-04\n",
      "Epoch 8/50\n",
      "2256/2256 [==============================] - 0s 189us/sample - loss: 2.6890e-05 - val_loss: 2.9619e-04\n",
      "Epoch 9/50\n",
      "2256/2256 [==============================] - 0s 195us/sample - loss: 2.5696e-05 - val_loss: 3.1457e-04\n",
      "Epoch 10/50\n",
      "2256/2256 [==============================] - 0s 198us/sample - loss: 2.5140e-05 - val_loss: 2.8027e-04\n",
      "Epoch 11/50\n",
      "2256/2256 [==============================] - 0s 191us/sample - loss: 2.5721e-05 - val_loss: 1.2343e-04\n",
      "Epoch 12/50\n",
      "2256/2256 [==============================] - 0s 194us/sample - loss: 2.4710e-05 - val_loss: 2.4575e-04\n",
      "Epoch 13/50\n",
      "2256/2256 [==============================] - 0s 198us/sample - loss: 2.5037e-05 - val_loss: 2.3296e-04\n",
      "Epoch 14/50\n",
      "2256/2256 [==============================] - 0s 197us/sample - loss: 2.4291e-05 - val_loss: 1.6458e-04\n",
      "Epoch 15/50\n",
      "2256/2256 [==============================] - 0s 198us/sample - loss: 2.3444e-05 - val_loss: 1.1125e-04\n",
      "Epoch 16/50\n",
      "2256/2256 [==============================] - 0s 201us/sample - loss: 2.2071e-05 - val_loss: 1.1054e-04\n",
      "Epoch 17/50\n",
      "2256/2256 [==============================] - 0s 202us/sample - loss: 2.3491e-05 - val_loss: 2.0502e-04\n",
      "Epoch 18/50\n",
      "2256/2256 [==============================] - 1s 227us/sample - loss: 2.2326e-05 - val_loss: 1.3960e-04\n",
      "Epoch 19/50\n",
      "2256/2256 [==============================] - 1s 232us/sample - loss: 2.2232e-05 - val_loss: 1.1172e-04\n",
      "Epoch 20/50\n",
      "2256/2256 [==============================] - 0s 210us/sample - loss: 2.1699e-05 - val_loss: 1.6284e-04\n",
      "Epoch 21/50\n",
      "2256/2256 [==============================] - 0s 198us/sample - loss: 2.3500e-05 - val_loss: 1.1442e-04\n",
      "Epoch 22/50\n",
      "2256/2256 [==============================] - 0s 203us/sample - loss: 2.2263e-05 - val_loss: 1.3943e-04\n",
      "Epoch 23/50\n",
      "2256/2256 [==============================] - 1s 232us/sample - loss: 2.3856e-05 - val_loss: 9.7233e-05\n",
      "Epoch 24/50\n",
      "2256/2256 [==============================] - 0s 200us/sample - loss: 2.1706e-05 - val_loss: 1.0594e-04\n",
      "Epoch 25/50\n",
      "2256/2256 [==============================] - 0s 214us/sample - loss: 2.2421e-05 - val_loss: 1.2940e-04\n",
      "Epoch 26/50\n",
      "2256/2256 [==============================] - 0s 205us/sample - loss: 2.3365e-05 - val_loss: 1.4843e-04\n",
      "Epoch 27/50\n",
      "2256/2256 [==============================] - 0s 198us/sample - loss: 2.4276e-05 - val_loss: 1.0939e-04\n",
      "Epoch 28/50\n",
      "2256/2256 [==============================] - 0s 202us/sample - loss: 2.2663e-05 - val_loss: 1.3453e-04\n",
      "Epoch 29/50\n",
      "2256/2256 [==============================] - 0s 197us/sample - loss: 2.1160e-05 - val_loss: 1.0204e-04\n",
      "Epoch 30/50\n",
      "2256/2256 [==============================] - 0s 197us/sample - loss: 2.0512e-05 - val_loss: 1.0898e-04\n",
      "Epoch 31/50\n",
      "2256/2256 [==============================] - 0s 202us/sample - loss: 2.0236e-05 - val_loss: 1.0418e-04\n",
      "Epoch 32/50\n",
      "2256/2256 [==============================] - 0s 197us/sample - loss: 2.3067e-05 - val_loss: 1.1818e-04\n",
      "Epoch 33/50\n",
      "2256/2256 [==============================] - 1s 226us/sample - loss: 2.2628e-05 - val_loss: 9.5342e-05\n",
      "Epoch 34/50\n",
      "2256/2256 [==============================] - 1s 224us/sample - loss: 2.1067e-05 - val_loss: 1.2200e-04\n",
      "Epoch 35/50\n",
      "2256/2256 [==============================] - 0s 200us/sample - loss: 2.0014e-05 - val_loss: 1.4407e-04\n",
      "Epoch 36/50\n",
      "2256/2256 [==============================] - 1s 236us/sample - loss: 2.4826e-05 - val_loss: 9.5445e-05\n",
      "Epoch 37/50\n",
      "2256/2256 [==============================] - 0s 199us/sample - loss: 2.0323e-05 - val_loss: 9.8272e-05\n",
      "Epoch 38/50\n",
      "2256/2256 [==============================] - 0s 211us/sample - loss: 1.9725e-05 - val_loss: 1.1922e-04\n",
      "Epoch 39/50\n",
      "2256/2256 [==============================] - 0s 204us/sample - loss: 2.0559e-05 - val_loss: 1.7373e-04\n",
      "Epoch 40/50\n",
      "2256/2256 [==============================] - 0s 200us/sample - loss: 1.9496e-05 - val_loss: 9.5753e-05\n",
      "Epoch 41/50\n",
      "2256/2256 [==============================] - 0s 221us/sample - loss: 1.9210e-05 - val_loss: 1.1080e-04\n",
      "Epoch 42/50\n",
      "2256/2256 [==============================] - 0s 193us/sample - loss: 2.2123e-05 - val_loss: 1.0094e-04\n",
      "Epoch 43/50\n",
      "2256/2256 [==============================] - 0s 193us/sample - loss: 2.2258e-05 - val_loss: 1.2713e-04\n",
      "Epoch 44/50\n",
      "2256/2256 [==============================] - 0s 193us/sample - loss: 2.1358e-05 - val_loss: 9.8271e-05\n",
      "Epoch 45/50\n",
      "2256/2256 [==============================] - 0s 197us/sample - loss: 1.8742e-05 - val_loss: 1.5771e-04\n",
      "Epoch 46/50\n",
      "2256/2256 [==============================] - 0s 195us/sample - loss: 1.8472e-05 - val_loss: 1.4826e-04\n",
      "Epoch 47/50\n",
      "2256/2256 [==============================] - 0s 195us/sample - loss: 1.9122e-05 - val_loss: 1.5923e-04\n",
      "Epoch 48/50\n",
      "2256/2256 [==============================] - 0s 201us/sample - loss: 2.0918e-05 - val_loss: 9.7575e-05\n",
      "Epoch 49/50\n",
      "2256/2256 [==============================] - 0s 198us/sample - loss: 2.0622e-05 - val_loss: 1.1074e-04\n",
      "Epoch 50/50\n",
      "2256/2256 [==============================] - 0s 194us/sample - loss: 2.2627e-05 - val_loss: 9.3722e-05\n"
     ]
    }
   ],
   "source": [
    "history = model.fit(X_train, y_train, epochs=50, batch_size=32,\n",
    "                    validation_data=(X_val, y_val), verbose=1)"
   ]
  },
  {
   "cell_type": "code",
   "execution_count": 15,
   "metadata": {
    "ExecuteTime": {
     "end_time": "2020-04-28T21:41:37.700282Z",
     "start_time": "2020-04-28T21:41:37.579580Z"
    }
   },
   "outputs": [
    {
     "data": {
      "image/png": "[encoded data removed]",
      "text/plain": [
       "<Figure size 432x288 with 1 Axes>"
      ]
     },
     "metadata": {
      "needs_background": "light"
     },
     "output_type": "display_data"
    }
   ],
   "source": [
    "epoch_range=range(1,50+1)\n",
    "plt.plot(history.history['loss'])\n",
    "plt.plot(history.history['val_loss'])\n",
    "plt.title('Model loss')\n",
    "plt.ylabel('Loss')\n",
    "plt.xlabel('Epoch')\n",
    "# plt.xticks([x for x in range(epoch+1)])\n",
    "plt.legend(['Train','Val'],loc='upper left')\n",
    "plt.show()"
   ]
  },
  {
   "cell_type": "markdown",
   "metadata": {},
   "source": [
    "### Evaluation"
   ]
  },
  {
   "cell_type": "code",
   "execution_count": 16,
   "metadata": {
    "ExecuteTime": {
     "end_time": "2020-04-28T21:41:38.129549Z",
     "start_time": "2020-04-28T21:41:37.701243Z"
    }
   },
   "outputs": [
    {
     "data": {
      "text/plain": [
       "(730, 1)"
      ]
     },
     "execution_count": 16,
     "metadata": {},
     "output_type": "execute_result"
    }
   ],
   "source": [
    "y_pred = model.predict(X_test)\n",
    "y_pred.shape"
   ]
  },
  {
   "cell_type": "code",
   "execution_count": 17,
   "metadata": {
    "ExecuteTime": {
     "end_time": "2020-04-28T21:41:38.136530Z",
     "start_time": "2020-04-28T21:41:38.131545Z"
    }
   },
   "outputs": [
    {
     "data": {
      "text/plain": [
       "0.0013565203795903229"
      ]
     },
     "execution_count": 17,
     "metadata": {},
     "output_type": "execute_result"
    }
   ],
   "source": [
    "scale = scaler.scale_[0]\n",
    "scale"
   ]
  },
  {
   "cell_type": "code",
   "execution_count": 18,
   "metadata": {
    "ExecuteTime": {
     "end_time": "2020-04-28T21:41:38.152554Z",
     "start_time": "2020-04-28T21:41:38.139046Z"
    }
   },
   "outputs": [
    {
     "data": {
      "text/plain": [
       "-0.06702540200800232"
      ]
     },
     "execution_count": 18,
     "metadata": {},
     "output_type": "execute_result"
    }
   ],
   "source": [
    "bias = scaler.min_[0]\n",
    "bias"
   ]
  },
  {
   "cell_type": "code",
   "execution_count": 19,
   "metadata": {
    "ExecuteTime": {
     "end_time": "2020-04-28T21:41:38.158538Z",
     "start_time": "2020-04-28T21:41:38.153535Z"
    }
   },
   "outputs": [],
   "source": [
    "y_test = (y_test-bias)/scale\n",
    "y_pred = (y_pred-bias)/scale"
   ]
  },
  {
   "cell_type": "code",
   "execution_count": 20,
   "metadata": {
    "ExecuteTime": {
     "end_time": "2020-04-28T21:41:38.164515Z",
     "start_time": "2020-04-28T21:41:38.159500Z"
    }
   },
   "outputs": [],
   "source": [
    "y_test = y_test.reshape(730, 1)\n",
    "y_pred = y_pred.reshape(730, 1)"
   ]
  },
  {
   "cell_type": "code",
   "execution_count": 21,
   "metadata": {
    "ExecuteTime": {
     "end_time": "2020-04-28T21:41:38.338718Z",
     "start_time": "2020-04-28T21:41:38.166481Z"
    }
   },
   "outputs": [
    {
     "data": {
      "image/png": "[encoded data removed]",
      "text/plain": [
       "<Figure size 1008x360 with 1 Axes>"
      ]
     },
     "metadata": {
      "needs_background": "light"
     },
     "output_type": "display_data"
    }
   ],
   "source": [
    "plt.figure(figsize=(14,5))\n",
    "plt.plot(y_test,label='real')\n",
    "plt.plot(y_pred,label='pred')\n",
    "plt.ylabel('Open')\n",
    "plt.legend()\n",
    "plt.show()"
   ]
  },
  {
   "cell_type": "code",
   "execution_count": 23,
   "metadata": {
    "ExecuteTime": {
     "end_time": "2020-04-28T21:42:03.128510Z",
     "start_time": "2020-04-28T21:42:03.104727Z"
    }
   },
   "outputs": [],
   "source": [
    "model.save('../model/GRU_seq2vec_mutilvariate.h5')"
   ]
  },
  {
   "cell_type": "code",
   "execution_count": null,
   "metadata": {},
   "outputs": [],
   "source": []
  }
 ],
 "metadata": {
  "kernelspec": {
   "display_name": "Python 3",
   "language": "python",
   "name": "python3"
  },
  "language_info": {
   "codemirror_mode": {
    "name": "ipython",
    "version": 3
   },
   "file_extension": ".py",
   "mimetype": "text/x-python",
   "name": "python",
   "nbconvert_exporter": "python",
   "pygments_lexer": "ipython3",
   "version": "3.6.5"
  },
  "toc": {
   "base_numbering": 1,
   "nav_menu": {},
   "number_sections": true,
   "sideBar": true,
   "skip_h1_title": false,
   "title_cell": "Table of Contents",
   "title_sidebar": "Contents",
   "toc_cell": false,
   "toc_position": {},
   "toc_section_display": true,
   "toc_window_display": false
  }
 },
 "nbformat": 4,
 "nbformat_minor": 4
}
