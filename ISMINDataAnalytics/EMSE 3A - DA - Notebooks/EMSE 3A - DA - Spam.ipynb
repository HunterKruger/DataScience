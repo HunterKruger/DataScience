{
 "cells": [
  {
   "cell_type": "markdown",
   "metadata": {
    "colab_type": "text",
    "id": "WL8R4Zx1V92v"
   },
   "source": [
    "Download data and unzip"
   ]
  },
  {
   "cell_type": "code",
   "execution_count": 5,
   "metadata": {
    "colab": {
     "base_uri": "https://localhost:8080/",
     "height": 118
    },
    "colab_type": "code",
    "executionInfo": {
     "elapsed": 3747,
     "status": "ok",
     "timestamp": 1575385031552,
     "user": {
      "displayName": "Olivier Philip",
      "photoUrl": "https://lh3.googleusercontent.com/a-/AAuE7mA-9XHTwVJuXrnAMG4v34ZyOrygPjznFCIy0j0Q=s64",
      "userId": "17360170734010401955"
     },
     "user_tz": -60
    },
    "id": "yhAEs26gQehi",
    "outputId": "dda53b82-4ddc-46c1-a1e1-9282c463f04e"
   },
   "outputs": [
    {
     "name": "stdout",
     "output_type": "stream",
     "text": [
      "total 708\n",
      "2621475 drwxr-xr-x 2 root root   4096 Dec  3 14:56 .\n",
      "7077894 drwxr-xr-x 1 root root   4096 Dec  3 14:56 ..\n",
      "2621477 -rw-rw-rw- 1 root root 702942 Aug 16  1999 spambase.data\n",
      "2621476 -rw-rw-rw- 1 root root   6429 Aug 17  1999 spambase.DOCUMENTATION\n",
      "2621478 -rw-rw-rw- 1 root root   3566 Aug 17  1999 spambase.names\n"
     ]
    }
   ],
   "source": [
    "!ls -lia data"
   ]
  },
  {
   "cell_type": "code",
   "execution_count": 3,
   "metadata": {
    "colab": {
     "base_uri": "https://localhost:8080/",
     "height": 222
    },
    "colab_type": "code",
    "executionInfo": {
     "elapsed": 9342,
     "status": "ok",
     "timestamp": 1575384995592,
     "user": {
      "displayName": "Olivier Philip",
      "photoUrl": "https://lh3.googleusercontent.com/a-/AAuE7mA-9XHTwVJuXrnAMG4v34ZyOrygPjznFCIy0j0Q=s64",
      "userId": "17360170734010401955"
     },
     "user_tz": -60
    },
    "id": "ec-HPaVzUyYh",
    "outputId": "a99eba90-8072-4383-eb25-bdd734213b46"
   },
   "outputs": [
    {
     "name": "stdout",
     "output_type": "stream",
     "text": [
      "--2019-12-03 14:56:27--  http://archive.ics.uci.edu/ml/machine-learning-databases/spambase/spambase.zip\n",
      "Resolving archive.ics.uci.edu (archive.ics.uci.edu)... 128.195.10.252\n",
      "Connecting to archive.ics.uci.edu (archive.ics.uci.edu)|128.195.10.252|:80... connected.\n",
      "HTTP request sent, awaiting response... 200 OK\n",
      "Length: 125447 (123K) [application/x-httpd-php]\n",
      "Saving to: ‘spambase.zip’\n",
      "\n",
      "spambase.zip        100%[===================>] 122.51K   260KB/s    in 0.5s    \n",
      "\n",
      "2019-12-03 14:56:28 (260 KB/s) - ‘spambase.zip’ saved [125447/125447]\n",
      "\n"
     ]
    }
   ],
   "source": [
    "!wget http://archive.ics.uci.edu/ml/machine-learning-databases/spambase/spambase.zip\n",
    "!mkdir data\n",
    "!unzip -q spambase.zip -d data/\n",
    "!rm spambase.zip"
   ]
  },
  {
   "cell_type": "code",
   "execution_count": 6,
   "metadata": {
    "colab": {
     "base_uri": "https://localhost:8080/",
     "height": 67
    },
    "colab_type": "code",
    "executionInfo": {
     "elapsed": 1450,
     "status": "ok",
     "timestamp": 1575385413974,
     "user": {
      "displayName": "Olivier Philip",
      "photoUrl": "https://lh3.googleusercontent.com/a-/AAuE7mA-9XHTwVJuXrnAMG4v34ZyOrygPjznFCIy0j0Q=s64",
      "userId": "17360170734010401955"
     },
     "user_tz": -60
    },
    "id": "Ye14QvJ0Vmrs",
    "outputId": "01a21e25-5a67-43dc-ebb1-9039ba89f59b"
   },
   "outputs": [
    {
     "name": "stdout",
     "output_type": "stream",
     "text": [
      "Data size: (4601, 58)\n",
      "Nb features: 57\n",
      "5 First features: ['make', 'address', 'all', '3d', 'our']\n"
     ]
    }
   ],
   "source": [
    "from os.path import join\n",
    "from csv import reader\n",
    "import numpy as np\n",
    "\n",
    "with open(join('data', 'spambase.data')) as f:\n",
    "  csv_reader = reader(f, delimiter=',')\n",
    "  data = np.array(list(csv_reader)).astype(np.float)\n",
    "\n",
    "def get_name(d, start):\n",
    "  if not d.startswith(start):\n",
    "    return None\n",
    "  return d[len(start):d.find(':')]\n",
    "\n",
    "with open(join('data', 'spambase.names')) as f:\n",
    "  csv_reader = reader(f, delimiter=',')\n",
    "  names = list()\n",
    "  for row in csv_reader:\n",
    "    if len(row) == 0:\n",
    "      continue\n",
    "    d = row[0]\n",
    "    for s in ['word_freq_', 'char_freq_', 'capital_run_length_']:\n",
    "      n = get_name(d, s)\n",
    "      if n is not None:\n",
    "        names.append(n)\n",
    "        break\n",
    "\n",
    "print('Data size: %s' % str(data.shape))\n",
    "print('Nb features: %s' % len(names))\n",
    "print('5 First features: %s' % str(names[:5]))"
   ]
  },
  {
   "cell_type": "code",
   "execution_count": 14,
   "metadata": {
    "colab": {
     "base_uri": "https://localhost:8080/",
     "height": 269
    },
    "colab_type": "code",
    "executionInfo": {
     "elapsed": 1166,
     "status": "ok",
     "timestamp": 1575386469860,
     "user": {
      "displayName": "Olivier Philip",
      "photoUrl": "https://lh3.googleusercontent.com/a-/AAuE7mA-9XHTwVJuXrnAMG4v34ZyOrygPjznFCIy0j0Q=s64",
      "userId": "17360170734010401955"
     },
     "user_tz": -60
    },
    "id": "Fpyi5AvcSeZj",
    "outputId": "dcf614a7-f582-4702-8a9a-580498a4a5e5"
   },
   "outputs": [
    {
     "name": "stdout",
     "output_type": "stream",
     "text": [
      "[1.04553358e-01 2.13014562e-01 2.80656379e-01 6.54249076e-02\n",
      " 3.12223430e-01 9.59008911e-02 1.14207781e-01 1.05294501e-01\n",
      " 9.00673767e-02 2.39413171e-01 5.98239513e-02 5.41701804e-01\n",
      " 9.39295805e-02 5.86263856e-02 4.92045208e-02 2.48848077e-01\n",
      " 1.42586394e-01 1.84744621e-01 1.66209954e+00 8.55770485e-02\n",
      " 8.09760922e-01 1.21201913e-01 1.01645295e-01 9.42686373e-02\n",
      " 5.49504456e-01 2.65383612e-01 7.67304934e-01 1.24844599e-01\n",
      " 9.89154532e-02 1.02851554e-01 6.47533145e-02 4.70484677e-02\n",
      " 9.72288633e-02 4.78352532e-02 1.05411867e-01 9.74766355e-02\n",
      " 1.36952836e-01 1.32014779e-02 7.86285590e-02 6.48337318e-02\n",
      " 4.36665942e-02 1.32338622e-01 4.60986742e-02 7.91958270e-02\n",
      " 3.01223647e-01 1.79823951e-01 5.44446859e-03 3.18691589e-02\n",
      " 3.85746577e-02 1.39030428e-01 1.69758748e-02 2.69070854e-01\n",
      " 7.58106933e-02 4.42382091e-02 5.19151511e+00 5.21727885e+01\n",
      " 2.83289285e+02 3.94044773e-01]\n"
     ]
    }
   ],
   "source": [
    "print(np.mean(data, axis=0))"
   ]
  },
  {
   "cell_type": "code",
   "execution_count": 15,
   "metadata": {
    "colab": {
     "base_uri": "https://localhost:8080/",
     "height": 935
    },
    "colab_type": "code",
    "executionInfo": {
     "elapsed": 3010,
     "status": "ok",
     "timestamp": 1575387562644,
     "user": {
      "displayName": "Olivier Philip",
      "photoUrl": "https://lh3.googleusercontent.com/a-/AAuE7mA-9XHTwVJuXrnAMG4v34ZyOrygPjznFCIy0j0Q=s64",
      "userId": "17360170734010401955"
     },
     "user_tz": -60
    },
    "id": "nsZj6shE0RbW",
    "outputId": "70648750-f15d-408b-ab6d-551e7bff1836"
   },
   "outputs": [
    {
     "name": "stdout",
     "output_type": "stream",
     "text": [
      "Data contain NaN: False\n",
      "Data contain Inf: False\n",
      "#spam: 1813 ( 39%)\n"
     ]
    },
    {
     "data": {
      "image/png": "[encoded data removed]",
      "text/plain": [
       "<Figure size 864x432 with 1 Axes>"
      ]
     },
     "metadata": {
      "tags": []
     },
     "output_type": "display_data"
    },
    {
     "data": {
      "image/png": "[encoded data removed]",
      "text/plain": [
       "<Figure size 864x432 with 1 Axes>"
      ]
     },
     "metadata": {
      "tags": []
     },
     "output_type": "display_data"
    }
   ],
   "source": [
    "from matplotlib import pyplot as plt\n",
    "\n",
    "print('Data contain NaN: %s' % str(np.any(np.isnan(data))))\n",
    "print('Data contain Inf: %s' % str(np.any(np.isinf(data))))\n",
    "\n",
    "def graph_expla(start=None, stop=None):\n",
    "  start = 0 if start is None else start\n",
    "  stop = data.shape[1] if stop is None else stop\n",
    "  ticks = np.arange(start, stop)\n",
    "  fig = plt.figure(figsize=(12, 6))\n",
    "  plt.title('Exploratory %d - %d' % (start, stop - 1))\n",
    "  plt.plot(np.min(data[:, start:stop], axis=0), label='min')\n",
    "  plt.plot(np.max(data[:, start:stop], axis=0), label='max')\n",
    "  plt.xticks(ticks - start, names[start:stop], rotation=90)\n",
    "  plt.legend()\n",
    "  plt.grid(True)\n",
    "  plt.tight_layout()\n",
    "  fig.show()\n",
    "\n",
    "graph_expla(0, 54)\n",
    "graph_expla(54, 57)\n",
    "\n",
    "nb_spam = np.sum(data[:, 57] > 0)\n",
    "print('#spam: {:>4d} ({:3d}%)'.format(nb_spam, 100 * nb_spam // data.shape[0]))"
   ]
  },
  {
   "cell_type": "code",
   "execution_count": 0,
   "metadata": {
    "colab": {},
    "colab_type": "code",
    "id": "i1nZZmsNEPxJ"
   },
   "outputs": [],
   "source": [
    "pct_val = .2\n",
    "\n",
    "np.random.seed(13540)\n",
    "nb_sample = data.shape[0]\n",
    "sep = int(np.ceil(nb_sample * pct_val))\n",
    "perm = np.random.permutation(nb_sample)\n",
    "data_valid = data[perm[:sep]]\n",
    "data_train = data[perm[sep:]]\n",
    "print('#data valid {:4d} - #data train {:4d}'.format(data_valid.shape[0], data_train.shape[0]))"
   ]
  },
  {
   "cell_type": "code",
   "execution_count": 0,
   "metadata": {
    "colab": {},
    "colab_type": "code",
    "id": "lZV_iguBM649"
   },
   "outputs": [],
   "source": [
    "from sklearn.model_selection import train_test_split\n",
    "\n",
    "x_train, x_test, y_train, y_test = train_test_split(data[:, :-1], data[:, -1],\n",
    "                                                    test_size=.2, random_state=13540)"
   ]
  },
  {
   "cell_type": "code",
   "execution_count": 0,
   "metadata": {
    "colab": {},
    "colab_type": "code",
    "id": "bUo08J4WyzN5"
   },
   "outputs": [],
   "source": [
    "from sklearn.linear_model import LogisticRegression\n",
    "\n",
    "nb_feat = data_train.shape[1] - 1\n",
    "ticks = np.arange(nb_feat)\n",
    "res = list()\n",
    "for feat in ticks:\n",
    "  x, y = data_train[:, feat:feat + 1], data_train[:, -1]\n",
    "  reg = LogisticRegression(solver='lbfgs').fit(x, y)\n",
    "  x, y = data_valid[:, feat:feat + 1], data_valid[:, -1]\n",
    "  res.append(reg.score(x, y))\n",
    "\n",
    "fig = plt.figure(figsize=(12, 6))\n",
    "plt.title('Logistic Regression Single Feature')\n",
    "plt.plot(res)\n",
    "plt.xticks(ticks, names, rotation=90)\n",
    "plt.grid(True)\n",
    "plt.tight_layout()\n",
    "fig.show()"
   ]
  },
  {
   "cell_type": "code",
   "execution_count": 0,
   "metadata": {
    "colab": {},
    "colab_type": "code",
    "id": "id_q8Xk2yz35"
   },
   "outputs": [],
   "source": [
    "x, y = data_train[:, :-1], data_train[:, -1]\n",
    "reg = LogisticRegression(solver='lbfgs', max_iter=2000).fit(x, y)\n",
    "x, y = data_valid[:, :-1], data_valid[:, -1]\n",
    "print('Score of LR on all features: %.3f' % reg.score(x, y))\n",
    "pred = reg.predict(x)\n",
    "acc = 100 * np.sum((pred >= .5) == y) / data_valid.shape[0]\n",
    "print('Accuracy of LR on all features: %.2f%%' % acc)"
   ]
  },
  {
   "cell_type": "code",
   "execution_count": 0,
   "metadata": {
    "colab": {},
    "colab_type": "code",
    "id": "i2UVjdIXMcpv"
   },
   "outputs": [],
   "source": [
    "from sklearn.metrics import confusion_matrix\n",
    "from sklearn.utils.multiclass import unique_labels\n",
    "\n",
    "def plot_confusion_matrix(y_true, y_pred, classes,\n",
    "                          normalize=False,\n",
    "                          title=None,\n",
    "                          cmap=plt.cm.Blues):\n",
    "    \"\"\"\n",
    "    This function prints and plots the confusion matrix.\n",
    "    Normalization can be applied by setting `normalize=True`.\n",
    "    \"\"\"\n",
    "    if not title:\n",
    "        if normalize:\n",
    "            title = 'Normalized confusion matrix'\n",
    "        else:\n",
    "            title = 'Confusion matrix, without normalization'\n",
    "\n",
    "    # Compute confusion matrix\n",
    "    cm = confusion_matrix(y_true, y_pred)\n",
    "    # Only use the labels that appear in the data\n",
    "    classes = classes[unique_labels(y_true, y_pred)]\n",
    "    if normalize:\n",
    "        cm = cm.astype('float') / cm.sum(axis=1)[:, np.newaxis]\n",
    "\n",
    "    fig, ax = plt.subplots()\n",
    "    im = ax.imshow(cm, interpolation='nearest', cmap=cmap)\n",
    "    # ax.figure.colorbar(im, ax=ax)\n",
    "    # We want to show all ticks...\n",
    "    ax.set(xticks=np.arange(cm.shape[1]),\n",
    "           yticks=np.arange(cm.shape[0]),\n",
    "           # ... and label them with the respective list entries\n",
    "           xticklabels=classes, yticklabels=classes,\n",
    "           title=title,\n",
    "           ylabel='True label',\n",
    "           xlabel='Predicted label')\n",
    "    ax.set_ylim(-.5, cm.shape[0] - .5)\n",
    "\n",
    "    # Rotate the tick labels and set their alignment.\n",
    "    plt.setp(ax.get_xticklabels(), rotation=45, ha=\"right\",\n",
    "             rotation_mode=\"anchor\")\n",
    "\n",
    "    # Loop over data dimensions and create text annotations.\n",
    "    fmt = '.2f' if normalize else 'd'\n",
    "    thresh = cm.max() / 2.\n",
    "    for i in range(cm.shape[0]):\n",
    "        for j in range(cm.shape[1]):\n",
    "            ax.text(j, i, format(cm[i, j], fmt),\n",
    "                    ha=\"center\", va=\"center\",\n",
    "                    color=\"white\" if cm[i, j] > thresh else \"black\")\n",
    "    fig.tight_layout()\n",
    "    plt.show()"
   ]
  },
  {
   "cell_type": "code",
   "execution_count": 0,
   "metadata": {
    "colab": {},
    "colab_type": "code",
    "id": "CcFpsFPGIXSf"
   },
   "outputs": [],
   "source": [
    "plot_confusion_matrix(y.astype(np.int), (pred >= .5).astype(np.int),\n",
    "                      np.array(['ham', 'spam']), normalize=False,\n",
    "                      title='LR on all features')"
   ]
  },
  {
   "cell_type": "code",
   "execution_count": 0,
   "metadata": {
    "colab": {},
    "colab_type": "code",
    "id": "lxfj3LxnODTz"
   },
   "outputs": [],
   "source": [
    "unique_labels(y.astype(np.int), (pred >= .5).astype(np.int))"
   ]
  },
  {
   "cell_type": "code",
   "execution_count": 0,
   "metadata": {
    "colab": {},
    "colab_type": "code",
    "id": "BgBTCXGCOjZm"
   },
   "outputs": [],
   "source": [
    "norm = np.concatenate((np.array([100] * 54), np.max(data_train[:, 54:-1], axis=0) * 1.05))\n",
    "norm = np.expand_dims(norm, 0)\n",
    "data_train_nn = data_train[:, :-1] / norm"
   ]
  },
  {
   "cell_type": "code",
   "execution_count": 0,
   "metadata": {
    "colab": {},
    "colab_type": "code",
    "id": "S1rJxro0crwp"
   },
   "outputs": [],
   "source": [
    "from tensorflow.python.keras.layers import Input, Dense, Dropout\n",
    "from tensorflow.python.keras.models import Model\n",
    "\n",
    "lin = Input(shape=(data_train_nn.shape[1],))\n",
    "lact = lin\n",
    "lact = Dense(24, activation='relu')(lact)\n",
    "lact = Dense(16, activation='relu')(lact)\n",
    "lact = Dense(8, activation='relu')(lact)\n",
    "lout = Dense(1, activation='sigmoid')(lact)\n",
    "model = Model(lin, lout)\n",
    "model.summary()\n",
    "\n",
    "model.compile(optimizer='rmsprop', loss='binary_crossentropy', metrics=['binary_accuracy'])"
   ]
  },
  {
   "cell_type": "code",
   "execution_count": 0,
   "metadata": {
    "colab": {},
    "colab_type": "code",
    "id": "yBxXz-vkeM8t"
   },
   "outputs": [],
   "source": [
    "data_valid_nn = data_valid[:, :-1] / norm\n",
    "model.fit(x=data_train_nn, y=data_train[:, -1], batch_size=256, epochs=200,\n",
    "          validation_data=(data_valid_nn, data_valid[:, -1]))"
   ]
  },
  {
   "cell_type": "code",
   "execution_count": 0,
   "metadata": {
    "colab": {},
    "colab_type": "code",
    "id": "c4VPcJiXfASD"
   },
   "outputs": [],
   "source": []
  }
 ],
 "metadata": {
  "accelerator": "GPU",
  "colab": {
   "collapsed_sections": [],
   "name": "EMSE 3A - DA - Spam.ipynb",
   "provenance": []
  },
  "kernelspec": {
   "display_name": "Python 3",
   "language": "python",
   "name": "python3"
  },
  "language_info": {
   "codemirror_mode": {
    "name": "ipython",
    "version": 3
   },
   "file_extension": ".py",
   "mimetype": "text/x-python",
   "name": "python",
   "nbconvert_exporter": "python",
   "pygments_lexer": "ipython3",
   "version": "3.7.5"
  }
 },
 "nbformat": 4,
 "nbformat_minor": 1
}
