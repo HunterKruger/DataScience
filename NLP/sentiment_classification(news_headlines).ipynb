{
 "cells": [
  {
   "cell_type": "code",
   "execution_count": 12,
   "metadata": {
    "ExecuteTime": {
     "end_time": "2020-05-20T20:19:24.810825Z",
     "start_time": "2020-05-20T20:19:24.255872Z"
    }
   },
   "outputs": [],
   "source": [
    "import json\n",
    "import tensorflow as tf\n",
    "import numpy as np\n",
    "from tensorflow import keras\n",
    "from tensorflow.keras.preprocessing.text import Tokenizer\n",
    "from tensorflow.keras.preprocessing.sequence import pad_sequences\n",
    "from tensorflow.keras import Sequential\n",
    "from tensorflow.keras.layers import LSTM,Dropout,Dense,Embedding,BatchNormalization,Dropout,GlobalAveragePooling1D\n",
    "from tensorflow.keras.optimizers import Adam,SGD\n",
    "import matplotlib.pyplot as plt\n",
    "%matplotlib inline"
   ]
  },
  {
   "cell_type": "code",
   "execution_count": 2,
   "metadata": {
    "ExecuteTime": {
     "end_time": "2020-05-20T20:04:54.936524Z",
     "start_time": "2020-05-20T20:04:54.828791Z"
    }
   },
   "outputs": [],
   "source": [
    "# load data\n",
    "file = open(\"Sarcasm_Headlines_Dataset_v2.json\", 'r', encoding='utf-8')\n",
    "sentences = []\n",
    "labels= []\n",
    "urls=[]\n",
    "for line in file.readlines():\n",
    "    dic = json.loads(line)\n",
    "    sentences.append(dic['headline'])\n",
    "    labels.append(dic['is_sarcastic'])\n",
    "    urls.append(dic['article_link'])"
   ]
  },
  {
   "cell_type": "code",
   "execution_count": 3,
   "metadata": {
    "ExecuteTime": {
     "end_time": "2020-05-20T20:04:54.940493Z",
     "start_time": "2020-05-20T20:04:54.937501Z"
    }
   },
   "outputs": [],
   "source": [
    "# parameters\n",
    "\n",
    "vocab_size = 5000\n",
    "embedding_dim = 300\n",
    "max_length = 150\n",
    "training_size = 25000\n",
    "epochs = 30\n",
    "batch_size = 32"
   ]
  },
  {
   "cell_type": "code",
   "execution_count": 4,
   "metadata": {
    "ExecuteTime": {
     "end_time": "2020-05-20T20:04:54.949433Z",
     "start_time": "2020-05-20T20:04:54.941470Z"
    }
   },
   "outputs": [],
   "source": [
    "# split data\n",
    "X_train = sentences[0:training_size]  # corpus\n",
    "X_val = sentences[training_size:]  # corpus\n",
    "y_train = labels[0:training_size]\n",
    "y_val = labels[training_size:]"
   ]
  },
  {
   "cell_type": "code",
   "execution_count": 5,
   "metadata": {
    "ExecuteTime": {
     "end_time": "2020-05-20T20:04:55.940829Z",
     "start_time": "2020-05-20T20:04:54.951427Z"
    }
   },
   "outputs": [],
   "source": [
    "# tokenize data\n",
    "tokenizer = Tokenizer(num_words=vocab_size, oov_token=\"<OOV>\")\n",
    "tokenizer.fit_on_texts(X_train)\n",
    "\n",
    "word_index = tokenizer.word_index\n",
    "\n",
    "X_train_seq = tokenizer.texts_to_sequences(X_train)\n",
    "X_train_padded = pad_sequences(X_train_seq, padding='post', maxlen=max_length, truncating='post')\n",
    "\n",
    "X_val_seq = tokenizer.texts_to_sequences(X_val)\n",
    "X_val_padded = pad_sequences(X_val_seq, padding='post', maxlen=max_length, truncating='post')"
   ]
  },
  {
   "cell_type": "code",
   "execution_count": 6,
   "metadata": {
    "ExecuteTime": {
     "end_time": "2020-05-20T20:04:55.959802Z",
     "start_time": "2020-05-20T20:04:55.941781Z"
    }
   },
   "outputs": [
    {
     "name": "stdout",
     "output_type": "stream",
     "text": [
      "[   1  325 3239    1 2479    3  672 1050    0    0    0    0    0    0\n",
      "    0    0    0    0    0    0    0    0    0    0    0    0    0    0\n",
      "    0    0    0    0    0    0    0    0    0    0    0    0    0    0\n",
      "    0    0    0    0    0    0    0    0    0    0    0    0    0    0\n",
      "    0    0    0    0    0    0    0    0    0    0    0    0    0    0\n",
      "    0    0    0    0    0    0    0    0    0    0    0    0    0    0\n",
      "    0    0    0    0    0    0    0    0    0    0    0    0    0    0\n",
      "    0    0    0    0    0    0    0    0    0    0    0    0    0    0\n",
      "    0    0    0    0    0    0    0    0    0    0    0    0    0    0\n",
      "    0    0    0    0    0    0    0    0    0    0    0    0    0    0\n",
      "    0    0    0    0    0    0    0    0    0    0]\n",
      "(25000, 150)\n"
     ]
    }
   ],
   "source": [
    "print(X_train_padded[0])\n",
    "print(X_train_padded.shape)\n",
    "\n",
    "X_train_padded = np.array(X_train_padded)\n",
    "X_val_padded = np.array(X_val_padded)\n",
    "y_train = np.array(y_train)\n",
    "y_val = np.array(y_val)"
   ]
  },
  {
   "cell_type": "code",
   "execution_count": 8,
   "metadata": {
    "ExecuteTime": {
     "end_time": "2020-05-20T20:05:08.405733Z",
     "start_time": "2020-05-20T20:05:07.459081Z"
    }
   },
   "outputs": [],
   "source": [
    "# modeling\n",
    "\n",
    "model = Sequential()\n",
    "model.add(Embedding(vocab_size,embedding_dim,input_length=max_length))\n",
    "model.add(GlobalAveragePooling1D())\n",
    "model.add(Dense(24,activation='relu'))\n",
    "model.add(Dense(1,activation='sigmoid'))\n",
    "model.compile(loss='binary_crossentropy',optimizer='adam',metrics=['accuracy'])"
   ]
  },
  {
   "cell_type": "code",
   "execution_count": 9,
   "metadata": {
    "ExecuteTime": {
     "end_time": "2020-05-20T20:12:47.840202Z",
     "start_time": "2020-05-20T20:05:08.542061Z"
    },
    "scrolled": true
   },
   "outputs": [
    {
     "name": "stdout",
     "output_type": "stream",
     "text": [
      "Train on 25000 samples, validate on 3619 samples\n",
      "Epoch 1/30\n",
      "25000/25000 [==============================] - 15s 602us/sample - loss: 0.5517 - accuracy: 0.7105 - val_loss: 0.3878 - val_accuracy: 0.8326\n",
      "Epoch 2/30\n",
      "25000/25000 [==============================] - 14s 568us/sample - loss: 0.3355 - accuracy: 0.8552 - val_loss: 0.3574 - val_accuracy: 0.8386\n",
      "Epoch 3/30\n",
      "25000/25000 [==============================] - 14s 571us/sample - loss: 0.2862 - accuracy: 0.8798 - val_loss: 0.3443 - val_accuracy: 0.8486\n",
      "Epoch 4/30\n",
      "25000/25000 [==============================] - 14s 576us/sample - loss: 0.2621 - accuracy: 0.8911 - val_loss: 0.3583 - val_accuracy: 0.8389\n",
      "Epoch 5/30\n",
      "25000/25000 [==============================] - 14s 571us/sample - loss: 0.2461 - accuracy: 0.8991 - val_loss: 0.3866 - val_accuracy: 0.8312\n",
      "Epoch 6/30\n",
      "25000/25000 [==============================] - 14s 573us/sample - loss: 0.2359 - accuracy: 0.9028 - val_loss: 0.3751 - val_accuracy: 0.8455\n",
      "Epoch 7/30\n",
      "25000/25000 [==============================] - 14s 577us/sample - loss: 0.2291 - accuracy: 0.9061 - val_loss: 0.3844 - val_accuracy: 0.8444\n",
      "Epoch 8/30\n",
      "25000/25000 [==============================] - 14s 577us/sample - loss: 0.2204 - accuracy: 0.9093 - val_loss: 0.4285 - val_accuracy: 0.8248\n",
      "Epoch 9/30\n",
      "25000/25000 [==============================] - 14s 577us/sample - loss: 0.2162 - accuracy: 0.9104 - val_loss: 0.4083 - val_accuracy: 0.8395\n",
      "Epoch 10/30\n",
      "25000/25000 [==============================] - 14s 575us/sample - loss: 0.2137 - accuracy: 0.9132 - val_loss: 0.4230 - val_accuracy: 0.8312\n",
      "Epoch 11/30\n",
      "25000/25000 [==============================] - 14s 575us/sample - loss: 0.2095 - accuracy: 0.9141 - val_loss: 0.4276 - val_accuracy: 0.8317\n",
      "Epoch 12/30\n",
      "25000/25000 [==============================] - 14s 576us/sample - loss: 0.2072 - accuracy: 0.9160 - val_loss: 0.4389 - val_accuracy: 0.8317\n",
      "Epoch 13/30\n",
      "25000/25000 [==============================] - 15s 581us/sample - loss: 0.2033 - accuracy: 0.9173 - val_loss: 0.4737 - val_accuracy: 0.8226\n",
      "Epoch 14/30\n",
      "25000/25000 [==============================] - 15s 590us/sample - loss: 0.2049 - accuracy: 0.9165 - val_loss: 0.4493 - val_accuracy: 0.8273\n",
      "Epoch 15/30\n",
      "25000/25000 [==============================] - 14s 565us/sample - loss: 0.2004 - accuracy: 0.9196 - val_loss: 0.4543 - val_accuracy: 0.8290\n",
      "Epoch 16/30\n",
      "25000/25000 [==============================] - 14s 574us/sample - loss: 0.1991 - accuracy: 0.9193 - val_loss: 0.4615 - val_accuracy: 0.8312\n",
      "Epoch 17/30\n",
      "25000/25000 [==============================] - 14s 573us/sample - loss: 0.1990 - accuracy: 0.9187 - val_loss: 0.4615 - val_accuracy: 0.8262\n",
      "Epoch 18/30\n",
      "25000/25000 [==============================] - 14s 573us/sample - loss: 0.1949 - accuracy: 0.9207 - val_loss: 0.4781 - val_accuracy: 0.8256\n",
      "Epoch 19/30\n",
      "25000/25000 [==============================] - 15s 605us/sample - loss: 0.1936 - accuracy: 0.9229 - val_loss: 0.4930 - val_accuracy: 0.8237\n",
      "Epoch 20/30\n",
      "25000/25000 [==============================] - 18s 732us/sample - loss: 0.1948 - accuracy: 0.9209 - val_loss: 0.4878 - val_accuracy: 0.8223\n",
      "Epoch 21/30\n",
      "25000/25000 [==============================] - 19s 748us/sample - loss: 0.1940 - accuracy: 0.9213 - val_loss: 0.4876 - val_accuracy: 0.8284\n",
      "Epoch 22/30\n",
      "25000/25000 [==============================] - 18s 739us/sample - loss: 0.1897 - accuracy: 0.9236 - val_loss: 0.5207 - val_accuracy: 0.8193\n",
      "Epoch 23/30\n",
      "25000/25000 [==============================] - 20s 803us/sample - loss: 0.1882 - accuracy: 0.9244 - val_loss: 0.5043 - val_accuracy: 0.8276\n",
      "Epoch 24/30\n",
      "25000/25000 [==============================] - 17s 698us/sample - loss: 0.1878 - accuracy: 0.9246 - val_loss: 0.5197 - val_accuracy: 0.8174\n",
      "Epoch 25/30\n",
      "25000/25000 [==============================] - 16s 630us/sample - loss: 0.1871 - accuracy: 0.9238 - val_loss: 0.5066 - val_accuracy: 0.8240\n",
      "Epoch 26/30\n",
      "25000/25000 [==============================] - 16s 656us/sample - loss: 0.1841 - accuracy: 0.9266 - val_loss: 0.4923 - val_accuracy: 0.8248\n",
      "Epoch 27/30\n",
      "25000/25000 [==============================] - 15s 593us/sample - loss: 0.1796 - accuracy: 0.9277 - val_loss: 0.4872 - val_accuracy: 0.8234\n",
      "Epoch 28/30\n",
      "25000/25000 [==============================] - 15s 597us/sample - loss: 0.1779 - accuracy: 0.9274 - val_loss: 0.5014 - val_accuracy: 0.8229\n",
      "Epoch 29/30\n",
      "25000/25000 [==============================] - 15s 594us/sample - loss: 0.1694 - accuracy: 0.9306 - val_loss: 0.5337 - val_accuracy: 0.8267\n",
      "Epoch 30/30\n",
      "25000/25000 [==============================] - 15s 598us/sample - loss: 0.1630 - accuracy: 0.9307 - val_loss: 0.4975 - val_accuracy: 0.8259\n"
     ]
    }
   ],
   "source": [
    "# training\n",
    "history = model.fit(X_train_padded, y_train, epochs=epochs , validation_data=(X_val_padded, y_val))"
   ]
  },
  {
   "cell_type": "code",
   "execution_count": 13,
   "metadata": {
    "ExecuteTime": {
     "end_time": "2020-05-20T20:19:27.167508Z",
     "start_time": "2020-05-20T20:19:26.913963Z"
    },
    "scrolled": true
   },
   "outputs": [
    {
     "data": {
      "image/png": "[encoded data removed]",
      "text/plain": [
       "<Figure size 432x288 with 1 Axes>"
      ]
     },
     "metadata": {
      "needs_background": "light"
     },
     "output_type": "display_data"
    },
    {
     "data": {
      "image/png": "[encoded data removed]",
      "text/plain": [
       "<Figure size 432x288 with 1 Axes>"
      ]
     },
     "metadata": {
      "needs_background": "light"
     },
     "output_type": "display_data"
    }
   ],
   "source": [
    "epoch_range=range(1,epochs+1)\n",
    "plt.plot(epoch_range,history.history['accuracy'])\n",
    "plt.plot(epoch_range,history.history['val_accuracy'])\n",
    "plt.title('Model accuracy')\n",
    "plt.ylabel('Accuracy')\n",
    "plt.xlabel('Epoch')\n",
    "plt.legend(['Train','Val'],loc='upper left')\n",
    "plt.show()\n",
    "\n",
    "plt.plot(history.history['loss'])\n",
    "plt.plot(history.history['val_loss'])\n",
    "plt.title('Model loss')\n",
    "plt.ylabel('Loss')\n",
    "plt.xlabel('Epoch')\n",
    "plt.legend(['Train','Val'],loc='upper left')\n",
    "plt.show()"
   ]
  },
  {
   "cell_type": "code",
   "execution_count": 14,
   "metadata": {
    "ExecuteTime": {
     "end_time": "2020-05-20T20:22:03.509432Z",
     "start_time": "2020-05-20T20:22:03.433577Z"
    }
   },
   "outputs": [
    {
     "name": "stdout",
     "output_type": "stream",
     "text": [
      "[[0.88373864]\n",
      " [0.00143081]]\n"
     ]
    }
   ],
   "source": [
    "# testing\n",
    "\n",
    "sentences = [\n",
    "    'granny starting to fear spiders in the garden might be real', # ironical\n",
    "    'the weather today is bright and sunny'               # not ironical\n",
    "]\n",
    "\n",
    "sequences = tokenizer.texts_to_sequences(sentences)\n",
    "padded = pad_sequences(sequences, padding='post', maxlen=max_length, truncating='post')\n",
    "\n",
    "print(model.predict(padded)) "
   ]
  },
  {
   "cell_type": "code",
   "execution_count": null,
   "metadata": {},
   "outputs": [],
   "source": []
  }
 ],
 "metadata": {
  "kernelspec": {
   "display_name": "Python 3",
   "language": "python",
   "name": "python3"
  },
  "language_info": {
   "codemirror_mode": {
    "name": "ipython",
    "version": 3
   },
   "file_extension": ".py",
   "mimetype": "text/x-python",
   "name": "python",
   "nbconvert_exporter": "python",
   "pygments_lexer": "ipython3",
   "version": "3.6.9"
  },
  "toc": {
   "base_numbering": 1,
   "nav_menu": {},
   "number_sections": true,
   "sideBar": true,
   "skip_h1_title": false,
   "title_cell": "Table of Contents",
   "title_sidebar": "Contents",
   "toc_cell": false,
   "toc_position": {},
   "toc_section_display": true,
   "toc_window_display": false
  }
 },
 "nbformat": 4,
 "nbformat_minor": 4
}
