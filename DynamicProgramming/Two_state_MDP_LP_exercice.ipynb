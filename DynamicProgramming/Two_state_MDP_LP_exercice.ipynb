{
 "cells": [
  {
   "cell_type": "markdown",
   "metadata": {},
   "source": [
    "# A two-state Markov decision process\n"
   ]
  },
  {
   "cell_type": "markdown",
   "metadata": {},
   "source": [
    "Consider a two-state Markov decision process. At each decision epoch the system occupies either state $s_1$, or $s_2$. In state $s_1$, the decision maker can choose either action $a_{1,1}$ or action $a_{1,2}$. In state $s_2$, only action $a_{2,1}$ is available. Choosing action $a_{1,1}$ in $s_1$ provides the decision maker with an immediate reward of 5 units, and at the next decision epoch the system is in state $s_1$ with probability 0.5, and state $s_2$ with probability 0.5. If instead he chooses action $a_{1,2}$ in state $s_1$, he receives an immediate reward of 10 units, and at the next decision epoch the system moves to state $s_2$ with probability 1. In state $s_2$, the decision maker must choose action $a_{2,1}$. As a consequence of this choice, the decision maker incurs a cost of 1 unit and the system occupies state $s_2$ at the next decision epoch with certainty."
   ]
  },
  {
   "cell_type": "markdown",
   "metadata": {},
   "source": [
    "### <font color='blue'> <u> MDP formulation: </u> </font> "
   ]
  },
  {
   "cell_type": "markdown",
   "metadata": {},
   "source": [
    "%%latex\n",
    "\\begin{itemize} \n",
    "\t\\item \\textbf{Decision epochs:} $T=\\{1,2, \\dots, \\infty\\}$ \n",
    "\t\\item \\textbf{States:} $S=\\{s_1,s_2\\}$  \n",
    "\t\\item \\textbf{Actions:} $A_{s_1} = \\{a_{1,1},a_{1,2}\\}, A_{s_2} = \\{a_{2,1}\\}$\n",
    "\t\\item \\textbf{Rewards:}\t\n",
    "        \\begin{itemize} \n",
    "            \\item $r_t(s_1,a_{1,1}) = 5, r_t(s_1,a_{1,2}) = 10, r_t(s_2, a_{2,1})= -1$   \n",
    "\t\t\\end{itemize} \n",
    "\t\\item \\textbf{Transition probabilities:}\t\n",
    "        \\begin{itemize} \n",
    "\t\t\t\\item $\\mathbb{P}(s_1|s_1,a_{1,1}) =0.5$, $\\mathbb{P}(s_1|s_1,a_{1,2}) =0$  and $\\mathbb{P}(s_1|s_2,a_{2,1}) =0$   \n",
    "\t\t\t\\item $\\mathbb{P}(s_2|s_1,a_{1,1}) =0.5$, $\\mathbb{P}(s_2|s_1,a_{1,2}) =1$  and $\\mathbb{P}(s_2|s_2,a_{2,1}) =1$ \n",
    "\t\\end{itemize}\n",
    "\\end{itemize}"
   ]
  },
  {
   "cell_type": "code",
   "execution_count": 1,
   "metadata": {},
   "outputs": [
    {
     "ename": "LoadError",
     "evalue": "syntax: extra token \"IPython\" after end of expression",
     "output_type": "error",
     "traceback": [
      "syntax: extra token \"IPython\" after end of expression",
      ""
     ]
    }
   ],
   "source": [
    "# Draw the two-state Markov decision process\n",
    "#------------------------------------\n",
    "from IPython.display import Image\n",
    "Image(filename='two_state_mdp_min.png')"
   ]
  },
  {
   "cell_type": "markdown",
   "metadata": {},
   "source": [
    "### <font color='red'> <u> Linear programming formulation: </u> </font>\n",
    "\n"
   ]
  },
  {
   "cell_type": "markdown",
   "metadata": {},
   "source": [
    "- __Primal model:__\n",
    "$$ \\min \\alpha(s_1)\\cdot V(s_1) + \\alpha(s_2)\\cdot V(s_2)$$ \n",
    "subject to\n",
    "\\begin{align*}  \n",
    "& (1-0.5\\lambda)\\cdot V(s_1) & -& 0.5 \\lambda \\cdot V(s_2) & \\geq 5  \\\\\n",
    "& V(s_1) & - &\\lambda\\cdot V(s_2) &\\geq 10  \\\\\n",
    "& (1-\\lambda) \\cdot V(s_2)& & &\\geq -1  \n",
    "\\end{align*}\n",
    "\n",
    "- __Dual model:__\n",
    "$$ \\max 5 x(s_1, a_{1,1}) +  10  x(s_1, a_{1,2}) - x(s_2, a_{2,1})$$ \n",
    "subject to\n",
    "\\begin{align*}  \n",
    "& (1-0.5\\lambda)\\cdot x(s_1, a_{1,1})& + x(s_1, a_{1,2}) & & =\\alpha(s_1)  \\\\\n",
    "& -0.5\\lambda \\cdot x(s_1, a_{1,1}) & - \\lambda x(s_1, a_{1,2}) & + (1-\\lambda) \\cdot x(s_2, a_{2,1}) &=\\alpha(s_2)  \\\\ \n",
    "\\end{align*}\n",
    "\n",
    "\n"
   ]
  },
  {
   "cell_type": "code",
   "execution_count": 2,
   "metadata": {},
   "outputs": [
    {
     "data": {
      "text/plain": [
       "0.2"
      ]
     },
     "execution_count": 2,
     "metadata": {},
     "output_type": "execute_result"
    }
   ],
   "source": [
    "# Instanciate the problem parameters \n",
    "#------------------------------------\n",
    "LAMBDA = 0.95\n",
    "ALPHA_1 = 0.8  # alpha1+alpha2=1, but how to set them?\n",
    "ALPHA_2 = 0.2"
   ]
  },
  {
   "cell_type": "code",
   "execution_count": 3,
   "metadata": {},
   "outputs": [
    {
     "name": "stdout",
     "output_type": "stream",
     "text": [
      "\u001b[32m\u001b[1m  Updating\u001b[22m\u001b[39m registry at `~/.julia/registries/General`\n",
      "\u001b[32m\u001b[1m  Updating\u001b[22m\u001b[39m git-repo `https://github.com/JuliaRegistries/General.git`\n",
      "\u001b[2K\u001b[?25h[1mFetching:\u001b[22m\u001b[39m [========================================>]  100.0 %.0 %\u001b[32m\u001b[1m Resolving\u001b[22m\u001b[39m package versions...\n",
      "\u001b[32m\u001b[1m  Updating\u001b[22m\u001b[39m `~/.julia/environments/v1.3/Project.toml`\n",
      "\u001b[90m [no changes]\u001b[39m\n",
      "\u001b[32m\u001b[1m  Updating\u001b[22m\u001b[39m `~/.julia/environments/v1.3/Manifest.toml`\n",
      "\u001b[90m [no changes]\u001b[39m\n",
      "\u001b[32m\u001b[1m Resolving\u001b[22m\u001b[39m package versions...\n",
      "\u001b[32m\u001b[1m  Updating\u001b[22m\u001b[39m `~/.julia/environments/v1.3/Project.toml`\n",
      "\u001b[90m [no changes]\u001b[39m\n",
      "\u001b[32m\u001b[1m  Updating\u001b[22m\u001b[39m `~/.julia/environments/v1.3/Manifest.toml`\n",
      "\u001b[90m [no changes]\u001b[39m\n"
     ]
    }
   ],
   "source": [
    "# Add JuMP and GLPK packages\n",
    "#------------------------------------\n",
    "import Pkg\n",
    "Pkg.add(\"JuMP\")\n",
    "Pkg.add(\"GLPK\") #solver \n",
    "\n",
    "using JuMP, GLPK"
   ]
  },
  {
   "cell_type": "code",
   "execution_count": 4,
   "metadata": {},
   "outputs": [
    {
     "data": {
      "text/plain": [
       "GLPK.Optimizer"
      ]
     },
     "execution_count": 4,
     "metadata": {},
     "output_type": "execute_result"
    }
   ],
   "source": [
    "# Specify the optimizer to be used\n",
    "#------------------------------------\n",
    "OPTIMIZER = GLPK.Optimizer "
   ]
  },
  {
   "cell_type": "markdown",
   "metadata": {},
   "source": [
    "## Primal model"
   ]
  },
  {
   "cell_type": "code",
   "execution_count": 5,
   "metadata": {
    "scrolled": false
   },
   "outputs": [
    {
     "data": {
      "text/latex": [
       "$ 0.050000000000000044 V_s2 \\geq -1.0 $"
      ],
      "text/plain": [
       "0.050000000000000044 V_s2 ≥ -1.0"
      ]
     },
     "execution_count": 5,
     "metadata": {},
     "output_type": "execute_result"
    }
   ],
   "source": [
    "# Write the model to be solved\n",
    "#------------------------------------\n",
    "m = Model(with_optimizer(OPTIMIZER))\n",
    "\n",
    "@variable(m, V_s1)\n",
    "@variable(m, V_s2)\n",
    "\n",
    "@objective(m, Min, ALPHA_1*V_s1 + ALPHA_2*V_s2)\n",
    "\n",
    "@constraint(m, (1-0.5*LAMBDA)*V_s1 - 0.5*LAMBDA*V_s2 >= 5)\n",
    "@constraint(m, V_s1 - LAMBDA*V_s2 >= 10 )\n",
    "@constraint(m, (1-LAMBDA)*V_s2 >= -1 )"
   ]
  },
  {
   "cell_type": "code",
   "execution_count": 6,
   "metadata": {},
   "outputs": [
    {
     "name": "stdout",
     "output_type": "stream",
     "text": [
      "The optimization problem to be solved is:\n",
      "\n",
      "Min 0.8 V_s1 + 0.2 V_s2\n",
      "Subject to\n",
      " 0.525 V_s1 - 0.475 V_s2 ≥ 5.0\n",
      " V_s1 - 0.95 V_s2 ≥ 10.0\n",
      " 0.050000000000000044 V_s2 ≥ -1.0\n"
     ]
    }
   ],
   "source": [
    "# Print the model in a human-readable form\n",
    "#------------------------------------\n",
    "println(\"The optimization problem to be solved is:\")\n",
    "println()\n",
    "print(m) "
   ]
  },
  {
   "cell_type": "code",
   "execution_count": 7,
   "metadata": {},
   "outputs": [
    {
     "name": "stdout",
     "output_type": "stream",
     "text": [
      "Objective value: -10.85714285714284\n",
      "V_best_s1 = -8.571428571428553\n",
      "V_best_s1 = -19.999999999999982\n"
     ]
    }
   ],
   "source": [
    "# Solve the model and display the output\n",
    "#------------------------------------\n",
    "status = optimize!(m)\n",
    "\n",
    "if termination_status(m) == MOI.OPTIMAL \n",
    "    println(\"Objective value: \", objective_value(m)) \n",
    "    println(\"V_best_s1 = \", value(V_s1))\n",
    "    println(\"V_best_s1 = \", value(V_s2))\n",
    "    \n",
    "else\n",
    "    error(\"No result is found for this model.\")\n",
    "end"
   ]
  },
  {
   "cell_type": "markdown",
   "metadata": {},
   "source": [
    "## Dual model  对偶模型"
   ]
  },
  {
   "cell_type": "code",
   "execution_count": 8,
   "metadata": {},
   "outputs": [
    {
     "data": {
      "text/latex": [
       "$ -0.475 x_s1_a11 - 0.95 x_s1_a12 + 0.050000000000000044 x_s2_a21 \\leq 0.2 $"
      ],
      "text/plain": [
       "-0.475 x_s1_a11 - 0.95 x_s1_a12 + 0.050000000000000044 x_s2_a21 ≤ 0.2"
      ]
     },
     "execution_count": 8,
     "metadata": {},
     "output_type": "execute_result"
    }
   ],
   "source": [
    "# Write the model to be solved\n",
    "#------------------------------------\n",
    "m2 = Model(with_optimizer(OPTIMIZER))\n",
    "\n",
    "@variable(m2, x_s1_a11)\n",
    "@variable(m2, x_s1_a12)\n",
    "@variable(m2, x_s2_a21)\n",
    "\n",
    "@objective(m2, Max, 5*x_s1_a11 + 10*x_s1_a12 - x_s2_a21)\n",
    "\n",
    "@constraint(m2, (1-0.5*LAMBDA)*x_s1_a11 + x_s1_a12 = ALPHA_1)\n",
    "@constraint(m2, -0.5*LAMBDA*x_s1_a11 - LAMBDA*x_s1_a12 + (1-LAMBDA)*x_s2_a21 = ALPHA_2)\n"
   ]
  },
  {
   "cell_type": "code",
   "execution_count": 9,
   "metadata": {},
   "outputs": [
    {
     "name": "stdout",
     "output_type": "stream",
     "text": [
      "The optimization problem to be solved is:\n",
      "\n",
      "Max 5 x_s1_a11 + 10 x_s1_a12 - x_s2_a21\n",
      "Subject to\n",
      " 0.525 x_s1_a11 + x_s1_a12 ≤ 0.8\n",
      " -0.475 x_s1_a11 - 0.95 x_s1_a12 + 0.050000000000000044 x_s2_a21 ≤ 0.2\n"
     ]
    }
   ],
   "source": [
    "# Print the model in a human-readable form\n",
    "#------------------------------------\n",
    "println(\"The optimization problem to be solved is:\")\n",
    "println()\n",
    "print(m2) "
   ]
  },
  {
   "cell_type": "code",
   "execution_count": 10,
   "metadata": {},
   "outputs": [
    {
     "ename": "ErrorException",
     "evalue": "No result is found for this model.",
     "output_type": "error",
     "traceback": [
      "No result is found for this model.",
      "",
      "Stacktrace:",
      " [1] error(::String) at ./error.jl:33",
      " [2] top-level scope at In[10]:12"
     ]
    }
   ],
   "source": [
    "# Solve the model and display the output\n",
    "#------------------------------------\n",
    "status = optimize!(m2)\n",
    "\n",
    "if termination_status(m2) == MOI.OPTIMAL \n",
    "    println(\"Objective value: \", objective_value(m2)) \n",
    "    println(\"x_s1_a11_best = \", value(x_s1_a11))\n",
    "    println(\"x_s1_a12_best = \", value(x_s1_a12))\n",
    "    println(\"x_s2_a21_best = \", value(x_s2_a21))\n",
    "\n",
    "else\n",
    "    error(\"No result is found for this model.\")\n",
    "end"
   ]
  },
  {
   "cell_type": "code",
   "execution_count": null,
   "metadata": {},
   "outputs": [],
   "source": []
  }
 ],
 "metadata": {
  "kernelspec": {
   "display_name": "Julia 1.3.1",
   "language": "julia",
   "name": "julia-1.3"
  },
  "language_info": {
   "file_extension": ".jl",
   "mimetype": "application/julia",
   "name": "julia",
   "version": "1.3.1"
  },
  "latex_envs": {
   "LaTeX_envs_menu_present": true,
   "autoclose": false,
   "autocomplete": true,
   "bibliofile": "biblio.bib",
   "cite_by": "apalike",
   "current_citInitial": 1,
   "eqLabelWithNumbers": true,
   "eqNumInitial": 1,
   "hotkeys": {
    "equation": "Ctrl-E",
    "itemize": "Ctrl-I"
   },
   "labels_anchors": false,
   "latex_user_defs": false,
   "report_style_numbering": false,
   "user_envs_cfg": false
  }
 },
 "nbformat": 4,
 "nbformat_minor": 2
}
