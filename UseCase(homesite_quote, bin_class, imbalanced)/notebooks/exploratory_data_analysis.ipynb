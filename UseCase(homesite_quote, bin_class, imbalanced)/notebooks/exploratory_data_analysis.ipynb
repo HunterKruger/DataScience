{
 "cells": [
  {
   "cell_type": "code",
   "execution_count": 27,
   "metadata": {
    "ExecuteTime": {
     "end_time": "2020-05-09T11:06:33.289358Z",
     "start_time": "2020-05-09T11:06:33.278809Z"
    }
   },
   "outputs": [],
   "source": [
    "import pandas as pd\n",
    "import numpy as np\n",
    "from matplotlib import pyplot as plt\n",
    "import seaborn as sns\n",
    "%matplotlib inline\n",
    "import warnings\n",
    "warnings.filterwarnings(action='once')\n",
    "from pprint import pprint\n",
    "from datetime import datetime"
   ]
  },
  {
   "cell_type": "markdown",
   "metadata": {},
   "source": [
    "## Data overview"
   ]
  },
  {
   "cell_type": "code",
   "execution_count": 51,
   "metadata": {
    "ExecuteTime": {
     "end_time": "2020-05-09T11:08:53.761851Z",
     "start_time": "2020-05-09T11:08:45.409410Z"
    }
   },
   "outputs": [],
   "source": [
    "train = pd.read_csv('../data/raw_data/train.csv')"
   ]
  },
  {
   "cell_type": "code",
   "execution_count": 29,
   "metadata": {
    "ExecuteTime": {
     "end_time": "2020-05-09T11:06:42.894763Z",
     "start_time": "2020-05-09T11:06:42.883956Z"
    }
   },
   "outputs": [],
   "source": [
    "def data_overview(df):\n",
    "    print(\"Rows :  \", df.shape[0])\n",
    "    print(\"Columns:  \", df.shape[1])\n",
    "    print()\n",
    "    print('Missing rates : ')\n",
    "    print(df.isnull().sum().sort_values(ascending=False)[:10]/df.shape[0])\n",
    "    print()\n",
    "    print('Unique values:')\n",
    "    print(df.nunique().sort_values(ascending=False)[:10])\n",
    "    print()\n",
    "    print(\"List of columns:\")\n",
    "    pprint(df.columns.to_list())"
   ]
  },
  {
   "cell_type": "code",
   "execution_count": 30,
   "metadata": {
    "ExecuteTime": {
     "end_time": "2020-05-09T11:06:50.765024Z",
     "start_time": "2020-05-09T11:06:42.906962Z"
    },
    "scrolled": true
   },
   "outputs": [
    {
     "name": "stdout",
     "output_type": "stream",
     "text": [
      "Rows :   260753\n",
      "Columns:   299\n",
      "\n",
      "Missing rates : \n",
      "PropertyField29      0.769636\n",
      "PersonalField84      0.476344\n",
      "PropertyField38      0.004679\n",
      "PropertyField36      0.000433\n",
      "PersonalField7       0.000433\n",
      "PropertyField3       0.000311\n",
      "PropertyField34      0.000268\n",
      "PropertyField32      0.000268\n",
      "PropertyField4       0.000242\n",
      "GeographicField64    0.000000\n",
      "dtype: float64\n",
      "\n",
      "Unique values:\n",
      "QuoteNumber            260753\n",
      "SalesField8             61530\n",
      "Original_Quote_Date       868\n",
      "PersonalField17            66\n",
      "PersonalField18            61\n",
      "PersonalField19            57\n",
      "PersonalField16            50\n",
      "Field8                     38\n",
      "PersonalField14            30\n",
      "Field7                     28\n",
      "dtype: int64\n",
      "\n",
      "List of columns:\n",
      "['QuoteNumber',\n",
      " 'Original_Quote_Date',\n",
      " 'QuoteConversion_Flag',\n",
      " 'Field6',\n",
      " 'Field7',\n",
      " 'Field8',\n",
      " 'Field9',\n",
      " 'Field10',\n",
      " 'Field11',\n",
      " 'Field12',\n",
      " 'CoverageField1A',\n",
      " 'CoverageField1B',\n",
      " 'CoverageField2A',\n",
      " 'CoverageField2B',\n",
      " 'CoverageField3A',\n",
      " 'CoverageField3B',\n",
      " 'CoverageField4A',\n",
      " 'CoverageField4B',\n",
      " 'CoverageField5A',\n",
      " 'CoverageField5B',\n",
      " 'CoverageField6A',\n",
      " 'CoverageField6B',\n",
      " 'CoverageField8',\n",
      " 'CoverageField9',\n",
      " 'CoverageField11A',\n",
      " 'CoverageField11B',\n",
      " 'SalesField1A',\n",
      " 'SalesField1B',\n",
      " 'SalesField2A',\n",
      " 'SalesField2B',\n",
      " 'SalesField3',\n",
      " 'SalesField4',\n",
      " 'SalesField5',\n",
      " 'SalesField6',\n",
      " 'SalesField7',\n",
      " 'SalesField8',\n",
      " 'SalesField9',\n",
      " 'SalesField10',\n",
      " 'SalesField11',\n",
      " 'SalesField12',\n",
      " 'SalesField13',\n",
      " 'SalesField14',\n",
      " 'SalesField15',\n",
      " 'PersonalField1',\n",
      " 'PersonalField2',\n",
      " 'PersonalField4A',\n",
      " 'PersonalField4B',\n",
      " 'PersonalField5',\n",
      " 'PersonalField6',\n",
      " 'PersonalField7',\n",
      " 'PersonalField8',\n",
      " 'PersonalField9',\n",
      " 'PersonalField10A',\n",
      " 'PersonalField10B',\n",
      " 'PersonalField11',\n",
      " 'PersonalField12',\n",
      " 'PersonalField13',\n",
      " 'PersonalField14',\n",
      " 'PersonalField15',\n",
      " 'PersonalField16',\n",
      " 'PersonalField17',\n",
      " 'PersonalField18',\n",
      " 'PersonalField19',\n",
      " 'PersonalField22',\n",
      " 'PersonalField23',\n",
      " 'PersonalField24',\n",
      " 'PersonalField25',\n",
      " 'PersonalField26',\n",
      " 'PersonalField27',\n",
      " 'PersonalField28',\n",
      " 'PersonalField29',\n",
      " 'PersonalField30',\n",
      " 'PersonalField31',\n",
      " 'PersonalField32',\n",
      " 'PersonalField33',\n",
      " 'PersonalField34',\n",
      " 'PersonalField35',\n",
      " 'PersonalField36',\n",
      " 'PersonalField37',\n",
      " 'PersonalField38',\n",
      " 'PersonalField39',\n",
      " 'PersonalField40',\n",
      " 'PersonalField41',\n",
      " 'PersonalField42',\n",
      " 'PersonalField43',\n",
      " 'PersonalField44',\n",
      " 'PersonalField45',\n",
      " 'PersonalField46',\n",
      " 'PersonalField47',\n",
      " 'PersonalField48',\n",
      " 'PersonalField49',\n",
      " 'PersonalField50',\n",
      " 'PersonalField51',\n",
      " 'PersonalField52',\n",
      " 'PersonalField53',\n",
      " 'PersonalField54',\n",
      " 'PersonalField55',\n",
      " 'PersonalField56',\n",
      " 'PersonalField57',\n",
      " 'PersonalField58',\n",
      " 'PersonalField59',\n",
      " 'PersonalField60',\n",
      " 'PersonalField61',\n",
      " 'PersonalField62',\n",
      " 'PersonalField63',\n",
      " 'PersonalField64',\n",
      " 'PersonalField65',\n",
      " 'PersonalField66',\n",
      " 'PersonalField67',\n",
      " 'PersonalField68',\n",
      " 'PersonalField69',\n",
      " 'PersonalField70',\n",
      " 'PersonalField71',\n",
      " 'PersonalField72',\n",
      " 'PersonalField73',\n",
      " 'PersonalField74',\n",
      " 'PersonalField75',\n",
      " 'PersonalField76',\n",
      " 'PersonalField77',\n",
      " 'PersonalField78',\n",
      " 'PersonalField79',\n",
      " 'PersonalField80',\n",
      " 'PersonalField81',\n",
      " 'PersonalField82',\n",
      " 'PersonalField83',\n",
      " 'PersonalField84',\n",
      " 'PropertyField1A',\n",
      " 'PropertyField1B',\n",
      " 'PropertyField2A',\n",
      " 'PropertyField2B',\n",
      " 'PropertyField3',\n",
      " 'PropertyField4',\n",
      " 'PropertyField5',\n",
      " 'PropertyField6',\n",
      " 'PropertyField7',\n",
      " 'PropertyField8',\n",
      " 'PropertyField9',\n",
      " 'PropertyField10',\n",
      " 'PropertyField11A',\n",
      " 'PropertyField11B',\n",
      " 'PropertyField12',\n",
      " 'PropertyField13',\n",
      " 'PropertyField14',\n",
      " 'PropertyField15',\n",
      " 'PropertyField16A',\n",
      " 'PropertyField16B',\n",
      " 'PropertyField17',\n",
      " 'PropertyField18',\n",
      " 'PropertyField19',\n",
      " 'PropertyField20',\n",
      " 'PropertyField21A',\n",
      " 'PropertyField21B',\n",
      " 'PropertyField22',\n",
      " 'PropertyField23',\n",
      " 'PropertyField24A',\n",
      " 'PropertyField24B',\n",
      " 'PropertyField25',\n",
      " 'PropertyField26A',\n",
      " 'PropertyField26B',\n",
      " 'PropertyField27',\n",
      " 'PropertyField28',\n",
      " 'PropertyField29',\n",
      " 'PropertyField30',\n",
      " 'PropertyField31',\n",
      " 'PropertyField32',\n",
      " 'PropertyField33',\n",
      " 'PropertyField34',\n",
      " 'PropertyField35',\n",
      " 'PropertyField36',\n",
      " 'PropertyField37',\n",
      " 'PropertyField38',\n",
      " 'PropertyField39A',\n",
      " 'PropertyField39B',\n",
      " 'GeographicField1A',\n",
      " 'GeographicField1B',\n",
      " 'GeographicField2A',\n",
      " 'GeographicField2B',\n",
      " 'GeographicField3A',\n",
      " 'GeographicField3B',\n",
      " 'GeographicField4A',\n",
      " 'GeographicField4B',\n",
      " 'GeographicField5A',\n",
      " 'GeographicField5B',\n",
      " 'GeographicField6A',\n",
      " 'GeographicField6B',\n",
      " 'GeographicField7A',\n",
      " 'GeographicField7B',\n",
      " 'GeographicField8A',\n",
      " 'GeographicField8B',\n",
      " 'GeographicField9A',\n",
      " 'GeographicField9B',\n",
      " 'GeographicField10A',\n",
      " 'GeographicField10B',\n",
      " 'GeographicField11A',\n",
      " 'GeographicField11B',\n",
      " 'GeographicField12A',\n",
      " 'GeographicField12B',\n",
      " 'GeographicField13A',\n",
      " 'GeographicField13B',\n",
      " 'GeographicField14A',\n",
      " 'GeographicField14B',\n",
      " 'GeographicField15A',\n",
      " 'GeographicField15B',\n",
      " 'GeographicField16A',\n",
      " 'GeographicField16B',\n",
      " 'GeographicField17A',\n",
      " 'GeographicField17B',\n",
      " 'GeographicField18A',\n",
      " 'GeographicField18B',\n",
      " 'GeographicField19A',\n",
      " 'GeographicField19B',\n",
      " 'GeographicField20A',\n",
      " 'GeographicField20B',\n",
      " 'GeographicField21A',\n",
      " 'GeographicField21B',\n",
      " 'GeographicField22A',\n",
      " 'GeographicField22B',\n",
      " 'GeographicField23A',\n",
      " 'GeographicField23B',\n",
      " 'GeographicField24A',\n",
      " 'GeographicField24B',\n",
      " 'GeographicField25A',\n",
      " 'GeographicField25B',\n",
      " 'GeographicField26A',\n",
      " 'GeographicField26B',\n",
      " 'GeographicField27A',\n",
      " 'GeographicField27B',\n",
      " 'GeographicField28A',\n",
      " 'GeographicField28B',\n",
      " 'GeographicField29A',\n",
      " 'GeographicField29B',\n",
      " 'GeographicField30A',\n",
      " 'GeographicField30B',\n",
      " 'GeographicField31A',\n",
      " 'GeographicField31B',\n",
      " 'GeographicField32A',\n",
      " 'GeographicField32B',\n",
      " 'GeographicField33A',\n",
      " 'GeographicField33B',\n",
      " 'GeographicField34A',\n",
      " 'GeographicField34B',\n",
      " 'GeographicField35A',\n",
      " 'GeographicField35B',\n",
      " 'GeographicField36A',\n",
      " 'GeographicField36B',\n",
      " 'GeographicField37A',\n",
      " 'GeographicField37B',\n",
      " 'GeographicField38A',\n",
      " 'GeographicField38B',\n",
      " 'GeographicField39A',\n",
      " 'GeographicField39B',\n",
      " 'GeographicField40A',\n",
      " 'GeographicField40B',\n",
      " 'GeographicField41A',\n",
      " 'GeographicField41B',\n",
      " 'GeographicField42A',\n",
      " 'GeographicField42B',\n",
      " 'GeographicField43A',\n",
      " 'GeographicField43B',\n",
      " 'GeographicField44A',\n",
      " 'GeographicField44B',\n",
      " 'GeographicField45A',\n",
      " 'GeographicField45B',\n",
      " 'GeographicField46A',\n",
      " 'GeographicField46B',\n",
      " 'GeographicField47A',\n",
      " 'GeographicField47B',\n",
      " 'GeographicField48A',\n",
      " 'GeographicField48B',\n",
      " 'GeographicField49A',\n",
      " 'GeographicField49B',\n",
      " 'GeographicField50A',\n",
      " 'GeographicField50B',\n",
      " 'GeographicField51A',\n",
      " 'GeographicField51B',\n",
      " 'GeographicField52A',\n",
      " 'GeographicField52B',\n",
      " 'GeographicField53A',\n",
      " 'GeographicField53B',\n",
      " 'GeographicField54A',\n",
      " 'GeographicField54B',\n",
      " 'GeographicField55A',\n",
      " 'GeographicField55B',\n",
      " 'GeographicField56A',\n",
      " 'GeographicField56B',\n",
      " 'GeographicField57A',\n",
      " 'GeographicField57B',\n",
      " 'GeographicField58A',\n",
      " 'GeographicField58B',\n",
      " 'GeographicField59A',\n",
      " 'GeographicField59B',\n",
      " 'GeographicField60A',\n",
      " 'GeographicField60B',\n",
      " 'GeographicField61A',\n",
      " 'GeographicField61B',\n",
      " 'GeographicField62A',\n",
      " 'GeographicField62B',\n",
      " 'GeographicField63',\n",
      " 'GeographicField64']\n"
     ]
    }
   ],
   "source": [
    "data_overview(train) \n",
    "# PropertyField29 to drop or to create indicator\n",
    "# PersonalField84 to drop or to impute"
   ]
  },
  {
   "cell_type": "markdown",
   "metadata": {},
   "source": [
    "## Exploration functions"
   ]
  },
  {
   "cell_type": "code",
   "execution_count": 48,
   "metadata": {
    "ExecuteTime": {
     "end_time": "2020-05-09T11:08:06.073282Z",
     "start_time": "2020-05-09T11:08:06.064157Z"
    }
   },
   "outputs": [],
   "source": [
    "def feature_overview(df, feature):\n",
    "    print(\"Data type: \"+str(df[feature].dtypes))\n",
    "    print(\"Missing values count: \"+str(df[feature].isnull().sum()))\n",
    "    print(\"Missing rate: \" +str(df[feature].isnull().sum()/df.shape[0]))\n",
    "    print('Unique values: '+str(df[feature].nunique()))\n",
    "    if df[feature].nunique()>5:\n",
    "        print(df[feature].value_counts(dropna=False).iloc[:5])\n",
    "    else:\n",
    "        print(df[feature].value_counts(dropna=False))\n",
    "    if df[feature].dtype!= 'object':\n",
    "        print(\"Mean: \"+str(df[feature].mean()))\n",
    "        print(\"Std: \"+str(df[feature].std()))\n",
    "        print(\"Min: \"+str(df[feature].min()))\n",
    "        print(\"Max: \"+str(df[feature].max()))"
   ]
  },
  {
   "cell_type": "code",
   "execution_count": 32,
   "metadata": {
    "ExecuteTime": {
     "end_time": "2020-05-09T11:06:50.898886Z",
     "start_time": "2020-05-09T11:06:50.864842Z"
    }
   },
   "outputs": [],
   "source": [
    "def feature_plot(df,feature,target='QuoteConversion_Flag'):\n",
    "    if df[feature].dtype == 'object':\n",
    "        sns.countplot(x=feature, hue=target, data=df)\n",
    "    else:\n",
    "        print(\"Skewness:\"+str(round(df[feature].skew(),2)))\n",
    "        sns.distplot(df[feature])"
   ]
  },
  {
   "cell_type": "code",
   "execution_count": 33,
   "metadata": {
    "ExecuteTime": {
     "end_time": "2020-05-09T11:06:50.931560Z",
     "start_time": "2020-05-09T11:06:50.916752Z"
    }
   },
   "outputs": [],
   "source": [
    "def numeric2object(df,feature):\n",
    "    if df[feature].dtype != 'object':\n",
    "        df[feature]=df[feature].astype('object')"
   ]
  },
  {
   "cell_type": "markdown",
   "metadata": {},
   "source": [
    "## Target exploration"
   ]
  },
  {
   "cell_type": "code",
   "execution_count": 34,
   "metadata": {
    "ExecuteTime": {
     "end_time": "2020-05-09T11:06:50.999425Z",
     "start_time": "2020-05-09T11:06:50.936568Z"
    }
   },
   "outputs": [
    {
     "name": "stdout",
     "output_type": "stream",
     "text": [
      "Missing values count: 0\n",
      "Missing rate: 0.0\n",
      "Unique values: 2\n",
      "0    211859\n",
      "1     48894\n",
      "Name: QuoteConversion_Flag, dtype: int64\n",
      "Mean: 0.1875107860695754\n",
      "Std: 0.39032175887423204\n",
      "Min: 0\n",
      "Max: 1\n"
     ]
    }
   ],
   "source": [
    "feature_overview(train,'QuoteConversion_Flag') # imbalanced target"
   ]
  },
  {
   "cell_type": "code",
   "execution_count": 35,
   "metadata": {
    "ExecuteTime": {
     "end_time": "2020-05-09T11:06:51.015380Z",
     "start_time": "2020-05-09T11:06:51.004487Z"
    }
   },
   "outputs": [
    {
     "name": "stdout",
     "output_type": "stream",
     "text": [
      "4.333026547224608\n"
     ]
    }
   ],
   "source": [
    "imbalance_ratio = 211859/48894\n",
    "print(imbalance_ratio)"
   ]
  },
  {
   "cell_type": "markdown",
   "metadata": {},
   "source": [
    "## Feature exploration"
   ]
  },
  {
   "cell_type": "code",
   "execution_count": 36,
   "metadata": {
    "ExecuteTime": {
     "end_time": "2020-05-09T11:06:51.166761Z",
     "start_time": "2020-05-09T11:06:51.023009Z"
    }
   },
   "outputs": [
    {
     "name": "stdout",
     "output_type": "stream",
     "text": [
      "Missing values count: 0\n",
      "Missing rate: 0.0\n",
      "Unique values: 868\n",
      "2014-03-03    646\n",
      "2015-03-31    608\n",
      "2014-02-24    600\n",
      "2015-03-23    594\n",
      "2015-03-17    586\n",
      "Name: Original_Quote_Date, dtype: int64\n"
     ]
    }
   ],
   "source": [
    "feature_overview(train,'Original_Quote_Date')  # to parse it with DATE"
   ]
  },
  {
   "cell_type": "code",
   "execution_count": 37,
   "metadata": {
    "ExecuteTime": {
     "end_time": "2020-05-09T11:06:51.341589Z",
     "start_time": "2020-05-09T11:06:51.172997Z"
    }
   },
   "outputs": [],
   "source": [
    "train['Original_Quote_Date'] = pd.to_datetime(train['Original_Quote_Date'], errors='coerce')\n",
    "train['Original_Quote_Date'] = train['Original_Quote_Date'].dt.dayofweek\n",
    "transform_num_day_of_week = {0: 'Monday',\n",
    "                             1: 'Tuesday',\n",
    "                             2: 'Wednesday',\n",
    "                             3: 'Thursday',\n",
    "                             4: 'Friday',\n",
    "                             5: 'Saturday',\n",
    "                             6: 'Sunday'}\n",
    "train['Original_Quote_day_of_week'] = train['Original_Quote_Date'].map(transform_num_day_of_week)"
   ]
  },
  {
   "cell_type": "code",
   "execution_count": 50,
   "metadata": {
    "ExecuteTime": {
     "end_time": "2020-05-09T11:08:20.571602Z",
     "start_time": "2020-05-09T11:08:20.460862Z"
    }
   },
   "outputs": [
    {
     "name": "stdout",
     "output_type": "stream",
     "text": [
      "Data type: object\n",
      "Missing values count: 0\n",
      "Missing rate: 0.0\n",
      "Unique values: 7\n",
      "Monday       49924\n",
      "Tuesday      48954\n",
      "Wednesday    44880\n",
      "Thursday     40377\n",
      "Friday       37435\n",
      "Name: Original_Quote_day_of_week, dtype: int64\n"
     ]
    }
   ],
   "source": [
    "feature_overview(train,'Original_Quote_day_of_week')"
   ]
  },
  {
   "cell_type": "code",
   "execution_count": 39,
   "metadata": {
    "ExecuteTime": {
     "end_time": "2020-05-09T11:06:51.920123Z",
     "start_time": "2020-05-09T11:06:51.436347Z"
    }
   },
   "outputs": [
    {
     "data": {
      "image/png": "[encoded data removed]",
      "text/plain": [
       "<Figure size 432x288 with 1 Axes>"
      ]
     },
     "metadata": {
      "needs_background": "light"
     },
     "output_type": "display_data"
    }
   ],
   "source": [
    "feature_plot(train,'Original_Quote_day_of_week')  # slight impact on target # Original_Quote_Date to drop"
   ]
  },
  {
   "cell_type": "code",
   "execution_count": 41,
   "metadata": {
    "ExecuteTime": {
     "end_time": "2020-05-09T11:06:54.264995Z",
     "start_time": "2020-05-09T11:06:53.532797Z"
    }
   },
   "outputs": [
    {
     "name": "stdout",
     "output_type": "stream",
     "text": [
      "Missing values count: 0\n",
      "Missing rate: 0.0\n",
      "Unique values: 260753\n",
      "4094      1\n",
      "24921     1\n",
      "127339    1\n",
      "129386    1\n",
      "123241    1\n",
      "Name: QuoteNumber, dtype: int64\n",
      "Mean: 217201.2460105924\n",
      "Std: 125478.52263343293\n",
      "Min: 1\n",
      "Max: 434588\n"
     ]
    }
   ],
   "source": [
    "feature_overview(train,'QuoteNumber') # Unique values == rows, this is an id, to drop\n",
    "train.drop('QuoteNumber',axis=1,inplace=True)"
   ]
  },
  {
   "cell_type": "code",
   "execution_count": 42,
   "metadata": {
    "ExecuteTime": {
     "end_time": "2020-05-09T11:06:54.356967Z",
     "start_time": "2020-05-09T11:06:54.270660Z"
    }
   },
   "outputs": [
    {
     "name": "stdout",
     "output_type": "stream",
     "text": [
      "Missing values count: 0\n",
      "Missing rate: 0.0\n",
      "Unique values: 61530\n",
      "36088    19\n",
      "2879     19\n",
      "39076    19\n",
      "64578    18\n",
      "64197    18\n",
      "Name: SalesField8, dtype: int64\n",
      "Mean: 33734.85831419006\n",
      "Std: 19444.146851238515\n",
      "Min: 1\n",
      "Max: 67164\n"
     ]
    }
   ],
   "source": [
    "feature_overview(train,'SalesField8')"
   ]
  },
  {
   "cell_type": "code",
   "execution_count": 43,
   "metadata": {
    "ExecuteTime": {
     "end_time": "2020-05-09T11:06:54.909812Z",
     "start_time": "2020-05-09T11:06:54.364442Z"
    }
   },
   "outputs": [
    {
     "name": "stdout",
     "output_type": "stream",
     "text": [
      "Skewness:-0.01\n"
     ]
    },
    {
     "data": {
      "image/png": "[encoded data removed]",
      "text/plain": [
       "<Figure size 432x288 with 1 Axes>"
      ]
     },
     "metadata": {
      "needs_background": "light"
     },
     "output_type": "display_data"
    }
   ],
   "source": [
    "feature_plot(train,'SalesField8') \n",
    "# close to uniform distribution \n",
    "# in fact it is a categorical feature\n",
    "# to many classes, to drop"
   ]
  },
  {
   "cell_type": "code",
   "execution_count": 52,
   "metadata": {
    "ExecuteTime": {
     "end_time": "2020-05-09T11:08:53.854759Z",
     "start_time": "2020-05-09T11:08:53.804558Z"
    }
   },
   "outputs": [
    {
     "name": "stdout",
     "output_type": "stream",
     "text": [
      "Data type: float64\n",
      "Missing values count: 124208\n",
      "Missing rate: 0.47634351282631454\n",
      "Unique values: 7\n",
      "2.0    134906\n",
      "NaN    124208\n",
      "1.0      1564\n",
      "5.0        62\n",
      "3.0         7\n",
      "Name: PersonalField84, dtype: int64\n",
      "Mean: 1.990142443882969\n",
      "Std: 0.12793117450534922\n",
      "Min: 1.0\n",
      "Max: 8.0\n"
     ]
    }
   ],
   "source": [
    "feature_overview(train,'PersonalField84')"
   ]
  },
  {
   "cell_type": "code",
   "execution_count": 53,
   "metadata": {
    "ExecuteTime": {
     "end_time": "2020-05-09T11:11:51.393594Z",
     "start_time": "2020-05-09T11:11:51.386319Z"
    }
   },
   "outputs": [],
   "source": [
    "train['PersonalField84'].fillna(999, inplace=True)"
   ]
  },
  {
   "cell_type": "code",
   "execution_count": 54,
   "metadata": {
    "ExecuteTime": {
     "end_time": "2020-05-09T11:11:55.358348Z",
     "start_time": "2020-05-09T11:11:55.328457Z"
    }
   },
   "outputs": [
    {
     "name": "stdout",
     "output_type": "stream",
     "text": [
      "Data type: float64\n",
      "Missing values count: 0\n",
      "Missing rate: 0.0\n",
      "Unique values: 8\n",
      "2.0      134906\n",
      "999.0    124208\n",
      "1.0        1564\n",
      "5.0          62\n",
      "3.0           7\n",
      "Name: PersonalField84, dtype: int64\n",
      "Mean: 476.9093203146273\n",
      "Std: 497.94762359849744\n",
      "Min: 1.0\n",
      "Max: 999.0\n"
     ]
    }
   ],
   "source": [
    "feature_overview(train,'PersonalField84')"
   ]
  },
  {
   "cell_type": "code",
   "execution_count": null,
   "metadata": {},
   "outputs": [],
   "source": []
  }
 ],
 "metadata": {
  "kernelspec": {
   "display_name": "Python 3",
   "language": "python",
   "name": "python3"
  },
  "language_info": {
   "codemirror_mode": {
    "name": "ipython",
    "version": 3
   },
   "file_extension": ".py",
   "mimetype": "text/x-python",
   "name": "python",
   "nbconvert_exporter": "python",
   "pygments_lexer": "ipython3",
   "version": "3.6.9"
  },
  "latex_envs": {
   "LaTeX_envs_menu_present": true,
   "autoclose": false,
   "autocomplete": true,
   "bibliofile": "biblio.bib",
   "cite_by": "apalike",
   "current_citInitial": 1,
   "eqLabelWithNumbers": true,
   "eqNumInitial": 1,
   "hotkeys": {
    "equation": "Ctrl-E",
    "itemize": "Ctrl-I"
   },
   "labels_anchors": false,
   "latex_user_defs": false,
   "report_style_numbering": false,
   "user_envs_cfg": false
  },
  "toc": {
   "base_numbering": 1,
   "nav_menu": {},
   "number_sections": true,
   "sideBar": true,
   "skip_h1_title": false,
   "title_cell": "Table of Contents",
   "title_sidebar": "Contents",
   "toc_cell": false,
   "toc_position": {},
   "toc_section_display": true,
   "toc_window_display": false
  }
 },
 "nbformat": 4,
 "nbformat_minor": 4
}
