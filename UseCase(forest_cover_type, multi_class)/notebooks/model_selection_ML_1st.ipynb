{
 "cells": [
  {
   "cell_type": "code",
   "execution_count": 31,
   "metadata": {
    "ExecuteTime": {
     "end_time": "2020-04-14T13:24:11.214630Z",
     "start_time": "2020-04-14T13:24:11.202205Z"
    }
   },
   "outputs": [],
   "source": [
    "import pandas as pd \n",
    "import numpy as np\n",
    "from matplotlib import pyplot as plt\n",
    "import seaborn as sns\n",
    "%matplotlib inline\n",
    "\n",
    "from sklearn.model_selection import train_test_split\n",
    "from sklearn.model_selection import cross_val_score \n",
    "from sklearn.model_selection import GridSearchCV,RandomizedSearchCV\n",
    "\n",
    "from sklearn.metrics import classification_report\n",
    "from sklearn.metrics import confusion_matrix\n",
    "from sklearn.metrics import roc_auc_score\n",
    "from sklearn.metrics import accuracy_score\n",
    "\n",
    "from sklearn.neighbors import KNeighborsClassifier as KNN\n",
    "from sklearn.linear_model import LogisticRegression as LR\n",
    "from sklearn.naive_bayes import GaussianNB as NB\n",
    "from sklearn.svm import SVC\n",
    "\n",
    "from sklearn.ensemble import RandomForestClassifier as RF\n",
    "from sklearn.ensemble import GradientBoostingClassifier as GBC\n",
    "from sklearn.ensemble import AdaBoostClassifier as ABC\n",
    "from xgboost import XGBClassifier as XGBC\n",
    "from lightgbm import LGBMClassifier as LGBC\n",
    "from sklearn.ensemble import VotingClassifier\n",
    "\n",
    "import joblib"
   ]
  },
  {
   "cell_type": "code",
   "execution_count": 32,
   "metadata": {
    "ExecuteTime": {
     "end_time": "2020-04-14T13:24:11.698894Z",
     "start_time": "2020-04-14T13:24:11.575004Z"
    }
   },
   "outputs": [],
   "source": [
    "X_train_origin = pd.read_csv('../data/featured_data/X_train.csv')\n",
    "y_train_origin = pd.read_csv('../data/featured_data/y_train.csv')"
   ]
  },
  {
   "cell_type": "code",
   "execution_count": 33,
   "metadata": {
    "ExecuteTime": {
     "end_time": "2020-04-14T13:24:12.393031Z",
     "start_time": "2020-04-14T13:24:12.389195Z"
    }
   },
   "outputs": [],
   "source": [
    "# X_train_origin = X_train_origin.to_numpy()\n",
    "# y_train_origin = y_train_origin.to_numpy()\n",
    "# y_train_origin = y_train_origin.ravel()"
   ]
  },
  {
   "cell_type": "code",
   "execution_count": 34,
   "metadata": {
    "ExecuteTime": {
     "end_time": "2020-04-14T13:24:12.904838Z",
     "start_time": "2020-04-14T13:24:12.881308Z"
    }
   },
   "outputs": [],
   "source": [
    "X_train, X_val, y_train, y_val = train_test_split(X_train_origin, y_train_origin, test_size=0.25, random_state=1) "
   ]
  },
  {
   "cell_type": "code",
   "execution_count": 35,
   "metadata": {
    "ExecuteTime": {
     "end_time": "2020-04-14T13:24:14.019869Z",
     "start_time": "2020-04-14T13:24:14.012159Z"
    }
   },
   "outputs": [
    {
     "data": {
      "text/plain": [
       "((12096, 50), (12096, 1), (9072, 50), (3024, 50), (9072, 1), (3024, 1))"
      ]
     },
     "execution_count": 35,
     "metadata": {},
     "output_type": "execute_result"
    }
   ],
   "source": [
    "X_train_origin.shape,y_train_origin.shape,X_train.shape, X_val.shape, y_train.shape, y_val.shape"
   ]
  },
  {
   "cell_type": "code",
   "execution_count": 36,
   "metadata": {
    "ExecuteTime": {
     "end_time": "2020-04-14T13:24:15.586786Z",
     "start_time": "2020-04-14T13:24:15.579758Z"
    }
   },
   "outputs": [],
   "source": [
    "def modeling(model_name):\n",
    "    model=model_name()\n",
    "    model.fit(X_train,y_train)\n",
    "    y_pred = model.predict(X_val)\n",
    "    print(\"Confusion_Matrix:\")\n",
    "    print(str(confusion_matrix(y_val,y_pred)))\n",
    "    print(classification_report(y_val,y_pred))\n",
    "    print(\"Accuracy:\" + str(accuracy_score(y_val, y_pred)))\n",
    "    \n",
    "# Some algorithms (such as SGD classifiers, Random Forest classifiers, and naive Bayes classifiers)\n",
    "# are capable of handling multiple classes natively. \n",
    "# Others (such as Logistic Regression or Support Vector Machine classifiers) are strictly binary classifiers."
   ]
  },
  {
   "cell_type": "markdown",
   "metadata": {},
   "source": [
    "### Baseline"
   ]
  },
  {
   "cell_type": "code",
   "execution_count": 37,
   "metadata": {
    "ExecuteTime": {
     "end_time": "2020-04-14T13:24:17.991666Z",
     "start_time": "2020-04-14T13:24:17.077637Z"
    }
   },
   "outputs": [
    {
     "name": "stderr",
     "output_type": "stream",
     "text": [
      "/Users/FY/anaconda3/lib/python3.6/site-packages/ipykernel_launcher.py:3: DataConversionWarning: A column-vector y was passed when a 1d array was expected. Please change the shape of y to (n_samples, ), for example using ravel().\n",
      "  This is separate from the ipykernel package so we can avoid doing imports until\n"
     ]
    },
    {
     "name": "stdout",
     "output_type": "stream",
     "text": [
      "Confusion_Matrix:\n",
      "[[270  93   2   0  13   4  38]\n",
      " [ 98 228  12   0  63  19  13]\n",
      " [  0   2 301  35  14  87   1]\n",
      " [  0   0  14 402   0   9   0]\n",
      " [ 12  28   5   0 369  10   0]\n",
      " [  3   7  59  20  13 336   0]\n",
      " [ 30   8   0   0   0   0 406]]\n",
      "              precision    recall  f1-score   support\n",
      "\n",
      "           1       0.65      0.64      0.65       420\n",
      "           2       0.62      0.53      0.57       433\n",
      "           3       0.77      0.68      0.72       440\n",
      "           4       0.88      0.95      0.91       425\n",
      "           5       0.78      0.87      0.82       424\n",
      "           6       0.72      0.77      0.74       438\n",
      "           7       0.89      0.91      0.90       444\n",
      "\n",
      "    accuracy                           0.76      3024\n",
      "   macro avg       0.76      0.76      0.76      3024\n",
      "weighted avg       0.76      0.76      0.76      3024\n",
      "\n",
      "Accuracy:0.7645502645502645\n"
     ]
    }
   ],
   "source": [
    "modeling(KNN)\n",
    "# accept"
   ]
  },
  {
   "cell_type": "code",
   "execution_count": 38,
   "metadata": {
    "ExecuteTime": {
     "end_time": "2020-04-14T13:24:26.968665Z",
     "start_time": "2020-04-14T13:24:25.344088Z"
    }
   },
   "outputs": [
    {
     "name": "stderr",
     "output_type": "stream",
     "text": [
      "/Users/FY/anaconda3/lib/python3.6/site-packages/sklearn/utils/validation.py:760: DataConversionWarning: A column-vector y was passed when a 1d array was expected. Please change the shape of y to (n_samples, ), for example using ravel().\n",
      "  y = column_or_1d(y, warn=True)\n"
     ]
    },
    {
     "name": "stdout",
     "output_type": "stream",
     "text": [
      "Confusion_Matrix:\n",
      "[[273  86   0   0  20   0  41]\n",
      " [107 223   5   0  79  15   4]\n",
      " [  0   3 252  45  13 127   0]\n",
      " [  0   0  33 371   0  21   0]\n",
      " [  7  66   3   0 325  23   0]\n",
      " [  0   3 108  33  20 274   0]\n",
      " [ 60   0   0   0   1   0 383]]\n",
      "              precision    recall  f1-score   support\n",
      "\n",
      "           1       0.61      0.65      0.63       420\n",
      "           2       0.59      0.52      0.55       433\n",
      "           3       0.63      0.57      0.60       440\n",
      "           4       0.83      0.87      0.85       425\n",
      "           5       0.71      0.77      0.74       424\n",
      "           6       0.60      0.63      0.61       438\n",
      "           7       0.89      0.86      0.88       444\n",
      "\n",
      "    accuracy                           0.69      3024\n",
      "   macro avg       0.69      0.70      0.69      3024\n",
      "weighted avg       0.69      0.69      0.69      3024\n",
      "\n",
      "Accuracy:0.6947751322751323\n"
     ]
    }
   ],
   "source": [
    "lr = LR(multi_class='multinomial', solver='newton-cg') # only one model will be trained, \n",
    "                                                        # activition func:softmax\n",
    "                                                        # actually, this is softmax regression\n",
    "lr.fit(X_train, y_train)\n",
    "y_pred = lr.predict(X_val)\n",
    "print(\"Confusion_Matrix:\")\n",
    "print(str(confusion_matrix(y_val, y_pred)))\n",
    "print(classification_report(y_val, y_pred))\n",
    "print(\"Accuracy:\" + str(accuracy_score(y_val, y_pred)))\n",
    "# softmax is better than ovr\n",
    "# reject"
   ]
  },
  {
   "cell_type": "code",
   "execution_count": 39,
   "metadata": {
    "ExecuteTime": {
     "end_time": "2020-04-14T13:24:32.257392Z",
     "start_time": "2020-04-14T13:24:30.624962Z"
    }
   },
   "outputs": [
    {
     "name": "stderr",
     "output_type": "stream",
     "text": [
      "/Users/FY/anaconda3/lib/python3.6/site-packages/sklearn/utils/validation.py:760: DataConversionWarning: A column-vector y was passed when a 1d array was expected. Please change the shape of y to (n_samples, ), for example using ravel().\n",
      "  y = column_or_1d(y, warn=True)\n"
     ]
    },
    {
     "name": "stdout",
     "output_type": "stream",
     "text": [
      "Confusion_Matrix:\n",
      "[[258  84   1   0  31   1  45]\n",
      " [107 206   6   0  92  18   4]\n",
      " [  0  10 241  43  16 130   0]\n",
      " [  0   0  32 375   0  18   0]\n",
      " [ 12  59  21   0 306  26   0]\n",
      " [  2   6  96  43  50 241   0]\n",
      " [ 63   4   1   0   0   0 376]]\n",
      "              precision    recall  f1-score   support\n",
      "\n",
      "           1       0.58      0.61      0.60       420\n",
      "           2       0.56      0.48      0.51       433\n",
      "           3       0.61      0.55      0.58       440\n",
      "           4       0.81      0.88      0.85       425\n",
      "           5       0.62      0.72      0.67       424\n",
      "           6       0.56      0.55      0.55       438\n",
      "           7       0.88      0.85      0.87       444\n",
      "\n",
      "    accuracy                           0.66      3024\n",
      "   macro avg       0.66      0.66      0.66      3024\n",
      "weighted avg       0.66      0.66      0.66      3024\n",
      "\n",
      "Accuracy:0.6623677248677249\n"
     ]
    }
   ],
   "source": [
    "lr2 = LR(multi_class='ovr', solver='newton-cg') # one-vs-rest, 7 models will be trained\n",
    "                                                # activition:sigmoid\n",
    "lr2.fit(X_train, y_train)\n",
    "y_pred = lr2.predict(X_val)\n",
    "print(\"Confusion_Matrix:\")\n",
    "print(str(confusion_matrix(y_val, y_pred)))\n",
    "print(classification_report(y_val, y_pred))\n",
    "print(\"Accuracy:\" + str(accuracy_score(y_val, y_pred)))\n",
    "# reject"
   ]
  },
  {
   "cell_type": "code",
   "execution_count": 40,
   "metadata": {
    "ExecuteTime": {
     "end_time": "2020-04-14T13:24:38.365497Z",
     "start_time": "2020-04-14T13:24:32.266247Z"
    }
   },
   "outputs": [
    {
     "name": "stderr",
     "output_type": "stream",
     "text": [
      "/Users/FY/anaconda3/lib/python3.6/site-packages/sklearn/utils/validation.py:760: DataConversionWarning: A column-vector y was passed when a 1d array was expected. Please change the shape of y to (n_samples, ), for example using ravel().\n",
      "  y = column_or_1d(y, warn=True)\n"
     ]
    },
    {
     "name": "stdout",
     "output_type": "stream",
     "text": [
      "Confusion_Matrix:\n",
      "[[284  91   0   0  14   0  31]\n",
      " [ 95 255  10   0  51  17   5]\n",
      " [  0   2 288  36   8 106   0]\n",
      " [  0   0   9 402   0  14   0]\n",
      " [  4  28   9   0 368  15   0]\n",
      " [  0   8  67  18   5 340   0]\n",
      " [ 41   0   0   0   0   0 403]]\n",
      "              precision    recall  f1-score   support\n",
      "\n",
      "           1       0.67      0.68      0.67       420\n",
      "           2       0.66      0.59      0.62       433\n",
      "           3       0.75      0.65      0.70       440\n",
      "           4       0.88      0.95      0.91       425\n",
      "           5       0.83      0.87      0.85       424\n",
      "           6       0.69      0.78      0.73       438\n",
      "           7       0.92      0.91      0.91       444\n",
      "\n",
      "    accuracy                           0.77      3024\n",
      "   macro avg       0.77      0.77      0.77      3024\n",
      "weighted avg       0.77      0.77      0.77      3024\n",
      "\n",
      "Accuracy:0.7738095238095238\n"
     ]
    }
   ],
   "source": [
    "svm = SVC(decision_function_shape='ovo') \n",
    "# one-vs-one, C(7,2) models will be trained, then vote, \n",
    "# ovo is preferable for SVM                                 \n",
    "svm.fit(X_train, y_train)\n",
    "y_pred = svm.predict(X_val)\n",
    "print(\"Confusion_Matrix:\")\n",
    "print(str(confusion_matrix(y_val, y_pred)))\n",
    "print(classification_report(y_val, y_pred))\n",
    "print(\"Accuracy:\" + str(accuracy_score(y_val, y_pred)))\n",
    "# reject"
   ]
  },
  {
   "cell_type": "code",
   "execution_count": 41,
   "metadata": {
    "ExecuteTime": {
     "end_time": "2020-04-14T13:24:44.250363Z",
     "start_time": "2020-04-14T13:24:38.405611Z"
    }
   },
   "outputs": [
    {
     "name": "stderr",
     "output_type": "stream",
     "text": [
      "/Users/FY/anaconda3/lib/python3.6/site-packages/sklearn/utils/validation.py:760: DataConversionWarning: A column-vector y was passed when a 1d array was expected. Please change the shape of y to (n_samples, ), for example using ravel().\n",
      "  y = column_or_1d(y, warn=True)\n"
     ]
    },
    {
     "name": "stdout",
     "output_type": "stream",
     "text": [
      "Confusion_Matrix:\n",
      "[[284  91   0   0  14   0  31]\n",
      " [ 95 255  10   0  51  17   5]\n",
      " [  0   2 288  36   8 106   0]\n",
      " [  0   0   9 402   0  14   0]\n",
      " [  4  28   9   0 368  15   0]\n",
      " [  0   8  67  18   5 340   0]\n",
      " [ 41   0   0   0   0   0 403]]\n",
      "              precision    recall  f1-score   support\n",
      "\n",
      "           1       0.67      0.68      0.67       420\n",
      "           2       0.66      0.59      0.62       433\n",
      "           3       0.75      0.65      0.70       440\n",
      "           4       0.88      0.95      0.91       425\n",
      "           5       0.83      0.87      0.85       424\n",
      "           6       0.69      0.78      0.73       438\n",
      "           7       0.92      0.91      0.91       444\n",
      "\n",
      "    accuracy                           0.77      3024\n",
      "   macro avg       0.77      0.77      0.77      3024\n",
      "weighted avg       0.77      0.77      0.77      3024\n",
      "\n",
      "Accuracy:0.7738095238095238\n"
     ]
    }
   ],
   "source": [
    "svm2 = SVC(decision_function_shape='ovr') # one-vs-rest, 7 models will be trained                                             \n",
    "svm2.fit(X_train, y_train)\n",
    "y_pred = svm2.predict(X_val)\n",
    "print(\"Confusion_Matrix:\")\n",
    "print(str(confusion_matrix(y_val, y_pred)))\n",
    "print(classification_report(y_val, y_pred))\n",
    "print(\"Accuracy:\" + str(accuracy_score(y_val, y_pred)))\n",
    "# same result as ovo\n",
    "# reject"
   ]
  },
  {
   "cell_type": "code",
   "execution_count": 42,
   "metadata": {
    "ExecuteTime": {
     "end_time": "2020-04-14T13:24:44.352782Z",
     "start_time": "2020-04-14T13:24:44.256667Z"
    }
   },
   "outputs": [
    {
     "name": "stdout",
     "output_type": "stream",
     "text": [
      "Confusion_Matrix:\n",
      "[[ 61   1   2   0 126   6 224]\n",
      " [ 62   2  28   4 203  11 123]\n",
      " [  0   0 181 258   1   0   0]\n",
      " [  0   0   0 425   0   0   0]\n",
      " [  0   0  92   0 314   8  10]\n",
      " [  0   0 128 256  23  28   3]\n",
      " [  4   1   1   0  10   0 428]]\n",
      "              precision    recall  f1-score   support\n",
      "\n",
      "           1       0.48      0.15      0.22       420\n",
      "           2       0.50      0.00      0.01       433\n",
      "           3       0.42      0.41      0.42       440\n",
      "           4       0.45      1.00      0.62       425\n",
      "           5       0.46      0.74      0.57       424\n",
      "           6       0.53      0.06      0.11       438\n",
      "           7       0.54      0.96      0.69       444\n",
      "\n",
      "    accuracy                           0.48      3024\n",
      "   macro avg       0.48      0.48      0.38      3024\n",
      "weighted avg       0.48      0.48      0.38      3024\n",
      "\n",
      "Accuracy:0.47585978835978837\n"
     ]
    },
    {
     "name": "stderr",
     "output_type": "stream",
     "text": [
      "/Users/FY/anaconda3/lib/python3.6/site-packages/sklearn/naive_bayes.py:206: DataConversionWarning: A column-vector y was passed when a 1d array was expected. Please change the shape of y to (n_samples, ), for example using ravel().\n",
      "  y = column_or_1d(y, warn=True)\n"
     ]
    }
   ],
   "source": [
    "modeling(NB) # reject"
   ]
  },
  {
   "cell_type": "code",
   "execution_count": 43,
   "metadata": {
    "ExecuteTime": {
     "end_time": "2020-04-14T13:24:46.230516Z",
     "start_time": "2020-04-14T13:24:44.356757Z"
    }
   },
   "outputs": [
    {
     "name": "stderr",
     "output_type": "stream",
     "text": [
      "/Users/FY/anaconda3/lib/python3.6/site-packages/ipykernel_launcher.py:3: DataConversionWarning: A column-vector y was passed when a 1d array was expected. Please change the shape of y to (n_samples,), for example using ravel().\n",
      "  This is separate from the ipykernel package so we can avoid doing imports until\n"
     ]
    },
    {
     "name": "stdout",
     "output_type": "stream",
     "text": [
      "Confusion_Matrix:\n",
      "[[311  71   0   0  11   0  27]\n",
      " [ 77 295   8   0  39  11   3]\n",
      " [  0   2 347  18   7  66   0]\n",
      " [  0   0   9 413   0   3   0]\n",
      " [  1  23   2   0 392   6   0]\n",
      " [  0   2  39  15   5 377   0]\n",
      " [ 22   0   0   0   0   0 422]]\n",
      "              precision    recall  f1-score   support\n",
      "\n",
      "           1       0.76      0.74      0.75       420\n",
      "           2       0.75      0.68      0.71       433\n",
      "           3       0.86      0.79      0.82       440\n",
      "           4       0.93      0.97      0.95       425\n",
      "           5       0.86      0.92      0.89       424\n",
      "           6       0.81      0.86      0.84       438\n",
      "           7       0.93      0.95      0.94       444\n",
      "\n",
      "    accuracy                           0.85      3024\n",
      "   macro avg       0.84      0.85      0.84      3024\n",
      "weighted avg       0.84      0.85      0.84      3024\n",
      "\n",
      "Accuracy:0.845568783068783\n"
     ]
    }
   ],
   "source": [
    "modeling(RF) # accept"
   ]
  },
  {
   "cell_type": "code",
   "execution_count": 44,
   "metadata": {
    "ExecuteTime": {
     "end_time": "2020-04-14T13:24:47.227884Z",
     "start_time": "2020-04-14T13:24:46.237246Z"
    }
   },
   "outputs": [
    {
     "name": "stderr",
     "output_type": "stream",
     "text": [
      "/Users/FY/anaconda3/lib/python3.6/site-packages/sklearn/utils/validation.py:760: DataConversionWarning: A column-vector y was passed when a 1d array was expected. Please change the shape of y to (n_samples, ), for example using ravel().\n",
      "  y = column_or_1d(y, warn=True)\n"
     ]
    },
    {
     "name": "stdout",
     "output_type": "stream",
     "text": [
      "Confusion_Matrix:\n",
      "[[ 89   6   0   0 200   0 125]\n",
      " [ 36  21   1   0 307  41  27]\n",
      " [  0   1  18   0  22 399   0]\n",
      " [  0   0   0   0   0 425   0]\n",
      " [  0   9   0   0 370  45   0]\n",
      " [  0   0  13   0  30 395   0]\n",
      " [ 34   1   0   0   0   0 409]]\n",
      "              precision    recall  f1-score   support\n",
      "\n",
      "           1       0.56      0.21      0.31       420\n",
      "           2       0.55      0.05      0.09       433\n",
      "           3       0.56      0.04      0.08       440\n",
      "           4       0.00      0.00      0.00       425\n",
      "           5       0.40      0.87      0.55       424\n",
      "           6       0.30      0.90      0.45       438\n",
      "           7       0.73      0.92      0.81       444\n",
      "\n",
      "    accuracy                           0.43      3024\n",
      "   macro avg       0.44      0.43      0.33      3024\n",
      "weighted avg       0.45      0.43      0.33      3024\n",
      "\n",
      "Accuracy:0.4305555555555556\n"
     ]
    },
    {
     "name": "stderr",
     "output_type": "stream",
     "text": [
      "/Users/FY/anaconda3/lib/python3.6/site-packages/sklearn/metrics/_classification.py:1272: UndefinedMetricWarning: Precision and F-score are ill-defined and being set to 0.0 in labels with no predicted samples. Use `zero_division` parameter to control this behavior.\n",
      "  _warn_prf(average, modifier, msg_start, len(result))\n"
     ]
    }
   ],
   "source": [
    "modeling(ABC) # reject"
   ]
  },
  {
   "cell_type": "code",
   "execution_count": 45,
   "metadata": {
    "ExecuteTime": {
     "end_time": "2020-04-14T13:25:01.521860Z",
     "start_time": "2020-04-14T13:24:47.237494Z"
    }
   },
   "outputs": [
    {
     "name": "stderr",
     "output_type": "stream",
     "text": [
      "/Users/FY/anaconda3/lib/python3.6/site-packages/sklearn/ensemble/_gb.py:1454: DataConversionWarning: A column-vector y was passed when a 1d array was expected. Please change the shape of y to (n_samples, ), for example using ravel().\n",
      "  y = column_or_1d(y, warn=True)\n"
     ]
    },
    {
     "name": "stdout",
     "output_type": "stream",
     "text": [
      "Confusion_Matrix:\n",
      "[[299  68   0   0  17   0  36]\n",
      " [108 243   7   0  57  14   4]\n",
      " [  0   1 298  26  14 101   0]\n",
      " [  0   0  11 406   0   8   0]\n",
      " [  3  22   8   0 377  14   0]\n",
      " [  0   6  78  12  17 325   0]\n",
      " [ 28   1   0   0   0   0 415]]\n",
      "              precision    recall  f1-score   support\n",
      "\n",
      "           1       0.68      0.71      0.70       420\n",
      "           2       0.71      0.56      0.63       433\n",
      "           3       0.74      0.68      0.71       440\n",
      "           4       0.91      0.96      0.93       425\n",
      "           5       0.78      0.89      0.83       424\n",
      "           6       0.70      0.74      0.72       438\n",
      "           7       0.91      0.93      0.92       444\n",
      "\n",
      "    accuracy                           0.78      3024\n",
      "   macro avg       0.78      0.78      0.78      3024\n",
      "weighted avg       0.78      0.78      0.78      3024\n",
      "\n",
      "Accuracy:0.781415343915344\n"
     ]
    }
   ],
   "source": [
    "modeling(GBC) # reject"
   ]
  },
  {
   "cell_type": "code",
   "execution_count": 46,
   "metadata": {
    "ExecuteTime": {
     "end_time": "2020-04-14T13:25:19.627821Z",
     "start_time": "2020-04-14T13:25:01.530312Z"
    }
   },
   "outputs": [
    {
     "name": "stderr",
     "output_type": "stream",
     "text": [
      "/Users/FY/anaconda3/lib/python3.6/site-packages/sklearn/preprocessing/_label.py:235: DataConversionWarning: A column-vector y was passed when a 1d array was expected. Please change the shape of y to (n_samples, ), for example using ravel().\n",
      "  y = column_or_1d(y, warn=True)\n",
      "/Users/FY/anaconda3/lib/python3.6/site-packages/sklearn/preprocessing/_label.py:268: DataConversionWarning: A column-vector y was passed when a 1d array was expected. Please change the shape of y to (n_samples, ), for example using ravel().\n",
      "  y = column_or_1d(y, warn=True)\n"
     ]
    },
    {
     "name": "stdout",
     "output_type": "stream",
     "text": [
      "Confusion_Matrix:\n",
      "[[281  59   0   0  25   0  55]\n",
      " [121 196   6   0  92  13   5]\n",
      " [  0   0 271  36  15 118   0]\n",
      " [  0   0   9 411   0   5   0]\n",
      " [  3  24  10   0 367  20   0]\n",
      " [  0   0  96  26  19 297   0]\n",
      " [ 36   0   0   0   0   0 408]]\n",
      "              precision    recall  f1-score   support\n",
      "\n",
      "           1       0.64      0.67      0.65       420\n",
      "           2       0.70      0.45      0.55       433\n",
      "           3       0.69      0.62      0.65       440\n",
      "           4       0.87      0.97      0.92       425\n",
      "           5       0.71      0.87      0.78       424\n",
      "           6       0.66      0.68      0.67       438\n",
      "           7       0.87      0.92      0.89       444\n",
      "\n",
      "    accuracy                           0.74      3024\n",
      "   macro avg       0.73      0.74      0.73      3024\n",
      "weighted avg       0.73      0.74      0.73      3024\n",
      "\n",
      "Accuracy:0.7377645502645502\n"
     ]
    }
   ],
   "source": [
    "modeling(XGBC) # reject"
   ]
  },
  {
   "cell_type": "code",
   "execution_count": 47,
   "metadata": {
    "ExecuteTime": {
     "end_time": "2020-04-14T13:25:21.359531Z",
     "start_time": "2020-04-14T13:25:19.633567Z"
    }
   },
   "outputs": [
    {
     "name": "stdout",
     "output_type": "stream",
     "text": [
      "Confusion_Matrix:\n",
      "[[312  72   0   0   9   0  27]\n",
      " [ 97 267   8   0  46  12   3]\n",
      " [  0   2 330  17   7  84   0]\n",
      " [  0   0   7 413   0   5   0]\n",
      " [  0  22   3   0 389  10   0]\n",
      " [  1   4  48  12   5 368   0]\n",
      " [ 16   0   0   0   0   0 428]]\n",
      "              precision    recall  f1-score   support\n",
      "\n",
      "           1       0.73      0.74      0.74       420\n",
      "           2       0.73      0.62      0.67       433\n",
      "           3       0.83      0.75      0.79       440\n",
      "           4       0.93      0.97      0.95       425\n",
      "           5       0.85      0.92      0.88       424\n",
      "           6       0.77      0.84      0.80       438\n",
      "           7       0.93      0.96      0.95       444\n",
      "\n",
      "    accuracy                           0.83      3024\n",
      "   macro avg       0.83      0.83      0.83      3024\n",
      "weighted avg       0.83      0.83      0.83      3024\n",
      "\n",
      "Accuracy:0.8290343915343915\n"
     ]
    }
   ],
   "source": [
    "modeling(LGBC) # reject"
   ]
  },
  {
   "cell_type": "code",
   "execution_count": null,
   "metadata": {},
   "outputs": [],
   "source": [
    "# conlusion: only use RF, no voter"
   ]
  },
  {
   "cell_type": "markdown",
   "metadata": {},
   "source": [
    "### Final tuning"
   ]
  },
  {
   "cell_type": "code",
   "execution_count": 19,
   "metadata": {
    "ExecuteTime": {
     "end_time": "2020-04-14T13:06:07.379386Z",
     "start_time": "2020-04-14T13:04:52.811634Z"
    }
   },
   "outputs": [
    {
     "data": {
      "text/plain": [
       "{'criterion': 'gini',\n",
       " 'max_depth': 40,\n",
       " 'max_features': 'auto',\n",
       " 'n_estimators': 200}"
      ]
     },
     "execution_count": 19,
     "metadata": {},
     "output_type": "execute_result"
    }
   ],
   "source": [
    "param_RF = {\n",
    "    'n_estimators': [50, 100, 200],\n",
    "    'max_features': ['auto', 'sqrt', 'log2'],\n",
    "    'max_depth': [10, 20, 40, 80],\n",
    "    'criterion': ['gini']\n",
    "}\n",
    "rf = RF()\n",
    "clf_rf = GridSearchCV(rf, param_grid=param_RF, cv=3,n_jobs=-1)\n",
    "clf_rf.fit(X_train_origin, y_train_origin)\n",
    "clf_rf.best_params_"
   ]
  },
  {
   "cell_type": "code",
   "execution_count": 22,
   "metadata": {
    "ExecuteTime": {
     "end_time": "2020-04-14T13:18:37.166124Z",
     "start_time": "2020-04-14T13:18:37.149500Z"
    }
   },
   "outputs": [
    {
     "data": {
      "text/plain": [
       "RandomForestClassifier(bootstrap=True, ccp_alpha=0.0, class_weight=None,\n",
       "                       criterion='gini', max_depth=40, max_features='auto',\n",
       "                       max_leaf_nodes=None, max_samples=None,\n",
       "                       min_impurity_decrease=0.0, min_impurity_split=None,\n",
       "                       min_samples_leaf=1, min_samples_split=2,\n",
       "                       min_weight_fraction_leaf=0.0, n_estimators=200,\n",
       "                       n_jobs=None, oob_score=False, random_state=None,\n",
       "                       verbose=0, warm_start=False)"
      ]
     },
     "execution_count": 22,
     "metadata": {},
     "output_type": "execute_result"
    }
   ],
   "source": [
    "clf_rf.best_estimator_"
   ]
  },
  {
   "cell_type": "markdown",
   "metadata": {},
   "source": [
    "### Train the best RF model"
   ]
  },
  {
   "cell_type": "code",
   "execution_count": 52,
   "metadata": {
    "ExecuteTime": {
     "end_time": "2020-04-14T13:29:34.457260Z",
     "start_time": "2020-04-14T13:29:31.622509Z"
    }
   },
   "outputs": [
    {
     "name": "stderr",
     "output_type": "stream",
     "text": [
      "/Users/FY/anaconda3/lib/python3.6/site-packages/ipykernel_launcher.py:3: DataConversionWarning: A column-vector y was passed when a 1d array was expected. Please change the shape of y to (n_samples,), for example using ravel().\n",
      "  This is separate from the ipykernel package so we can avoid doing imports until\n"
     ]
    },
    {
     "data": {
      "text/plain": [
       "RandomForestClassifier(bootstrap=True, ccp_alpha=0.0, class_weight=None,\n",
       "                       criterion='gini', max_depth=40, max_features='auto',\n",
       "                       max_leaf_nodes=None, max_samples=None,\n",
       "                       min_impurity_decrease=0.0, min_impurity_split=None,\n",
       "                       min_samples_leaf=1, min_samples_split=2,\n",
       "                       min_weight_fraction_leaf=0.0, n_estimators=200,\n",
       "                       n_jobs=-1, oob_score=True, random_state=None, verbose=0,\n",
       "                       warm_start=False)"
      ]
     },
     "execution_count": 52,
     "metadata": {},
     "output_type": "execute_result"
    }
   ],
   "source": [
    "rf_best = RF(criterion='gini', max_depth=40,\n",
    "             max_features='auto', n_estimators=200,n_jobs=-1,oob_score=True)\n",
    "rf_best.fit(X_train_origin, y_train_origin)"
   ]
  },
  {
   "cell_type": "code",
   "execution_count": 53,
   "metadata": {
    "ExecuteTime": {
     "end_time": "2020-04-14T13:29:40.592995Z",
     "start_time": "2020-04-14T13:29:40.585583Z"
    }
   },
   "outputs": [
    {
     "data": {
      "text/plain": [
       "0.8585482804232805"
      ]
     },
     "execution_count": 53,
     "metadata": {},
     "output_type": "execute_result"
    }
   ],
   "source": [
    "rf_best.oob_score_  # 0.8585 accuract achieved by the best RF model"
   ]
  },
  {
   "cell_type": "code",
   "execution_count": 73,
   "metadata": {
    "ExecuteTime": {
     "end_time": "2020-04-14T14:22:25.958248Z",
     "start_time": "2020-04-14T14:22:25.843232Z"
    }
   },
   "outputs": [
    {
     "data": {
      "text/plain": [
       "[(0.2435204902947709, 'Elevation'),\n",
       " (0.09649667894132256, 'Horizontal_Distance_To_Roadways'),\n",
       " (0.07814696812795978, 'Horizontal_Distance_To_Hydrology'),\n",
       " (0.07798322771441787, 'Horizontal_Distance_To_Fire_Points'),\n",
       " (0.0636560341664477, 'Aspect'),\n",
       " (0.061000487892991256, 'Hillshade_9am'),\n",
       " (0.053620444303198955, 'Hillshade_Noon'),\n",
       " (0.04745119252263426, 'Slope'),\n",
       " (0.045511389479393614, 'Wilderness_Area4'),\n",
       " (0.02365282793444987, 'Soil_Type10'),\n",
       " (0.02135918282471204, 'Soil_Type38'),\n",
       " (0.01884409998156855, 'Soil_Type3'),\n",
       " (0.01872305100853074, 'Wilderness_Area1'),\n",
       " (0.01811532987714495, 'Soil_Type39'),\n",
       " (0.01758593150412376, 'Wilderness_Area3'),\n",
       " (0.012871538990281718, 'Soil_Type4'),\n",
       " (0.011109389074177285, 'Soil_Type40'),\n",
       " (0.009027039164294749, 'Soil_Type30'),\n",
       " (0.006764007225663668, 'Soil_Type17'),\n",
       " (0.006464705862647276, 'Soil_Type13'),\n",
       " (0.006184539742625265, 'Soil_Type22'),\n",
       " (0.006046111134299491, 'Soil_Type2'),\n",
       " (0.005792126535632175, 'Soil_Type29'),\n",
       " (0.005626657701931169, 'Soil_Type23'),\n",
       " (0.0051267246796381635, 'Soil_Type32'),\n",
       " (0.005074889232017305, 'Soil_Type12'),\n",
       " (0.004125395619089926, 'Soil_Type33'),\n",
       " (0.0036587593826021897, 'Wilderness_Area2'),\n",
       " (0.003511644663113226, 'Soil_Type11'),\n",
       " (0.003305885676985384, 'Soil_Type6'),\n",
       " (0.0028827440425768366, 'Soil_Type35'),\n",
       " (0.0028639299949563767, 'Soil_Type24'),\n",
       " (0.0025903413652411315, 'Soil_Type31'),\n",
       " (0.002008548156828971, 'Soil_Type1'),\n",
       " (0.0016688144216241239, 'Soil_Type20'),\n",
       " (0.0013397161722590253, 'Soil_Type5'),\n",
       " (0.0012816058616184824, 'Soil_Type16'),\n",
       " (0.0011129051944152816, 'Soil_Type14'),\n",
       " (0.0010746481204448005, 'Soil_Type18'),\n",
       " (0.0006484098354242108, 'Soil_Type37'),\n",
       " (0.000503024227051649, 'Soil_Type26'),\n",
       " (0.0004517684380334622, 'Soil_Type19'),\n",
       " (0.0002935563531140487, 'Soil_Type34'),\n",
       " (0.00027964065674299213, 'Soil_Type21'),\n",
       " (0.00018964411266115923, 'Soil_Type27'),\n",
       " (0.0001592748488658372, 'Soil_Type9'),\n",
       " (0.0001583836209915587, 'Soil_Type28'),\n",
       " (9.307758485821102e-05, 'Soil_Type36'),\n",
       " (3.0554596544859374e-05, 'Soil_Type25'),\n",
       " (1.2661137081309706e-05, 'Soil_Type8')]"
      ]
     },
     "execution_count": 73,
     "metadata": {},
     "output_type": "execute_result"
    }
   ],
   "source": [
    "importance_list = sorted(zip(rf_best.feature_importances_, X_train_origin.columns.to_list()), reverse=True)\n",
    "importance_list"
   ]
  },
  {
   "cell_type": "code",
   "execution_count": 74,
   "metadata": {
    "ExecuteTime": {
     "end_time": "2020-04-14T14:22:54.320292Z",
     "start_time": "2020-04-14T14:22:53.815007Z"
    }
   },
   "outputs": [
    {
     "data": {
      "text/plain": [
       "['../models/rf.m']"
      ]
     },
     "execution_count": 74,
     "metadata": {},
     "output_type": "execute_result"
    }
   ],
   "source": [
    "joblib.dump(rf_best,'../models/rf.m')"
   ]
  },
  {
   "cell_type": "code",
   "execution_count": null,
   "metadata": {},
   "outputs": [],
   "source": []
  }
 ],
 "metadata": {
  "kernelspec": {
   "display_name": "Python 3",
   "language": "python",
   "name": "python3"
  },
  "language_info": {
   "codemirror_mode": {
    "name": "ipython",
    "version": 3
   },
   "file_extension": ".py",
   "mimetype": "text/x-python",
   "name": "python",
   "nbconvert_exporter": "python",
   "pygments_lexer": "ipython3",
   "version": "3.6.9"
  },
  "latex_envs": {
   "LaTeX_envs_menu_present": true,
   "autoclose": false,
   "autocomplete": true,
   "bibliofile": "biblio.bib",
   "cite_by": "apalike",
   "current_citInitial": 1,
   "eqLabelWithNumbers": true,
   "eqNumInitial": 1,
   "hotkeys": {
    "equation": "Ctrl-E",
    "itemize": "Ctrl-I"
   },
   "labels_anchors": false,
   "latex_user_defs": false,
   "report_style_numbering": false,
   "user_envs_cfg": false
  },
  "toc": {
   "base_numbering": 1,
   "nav_menu": {},
   "number_sections": true,
   "sideBar": true,
   "skip_h1_title": false,
   "title_cell": "Table of Contents",
   "title_sidebar": "Contents",
   "toc_cell": false,
   "toc_position": {},
   "toc_section_display": true,
   "toc_window_display": false
  }
 },
 "nbformat": 4,
 "nbformat_minor": 4
}
