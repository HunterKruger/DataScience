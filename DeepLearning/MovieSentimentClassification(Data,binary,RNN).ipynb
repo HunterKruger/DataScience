{
 "cells": [
  {
   "cell_type": "code",
   "execution_count": 1,
   "metadata": {
    "ExecuteTime": {
     "end_time": "2020-04-28T22:24:23.509542Z",
     "start_time": "2020-04-28T22:24:21.327376Z"
    }
   },
   "outputs": [],
   "source": [
    "import numpy as np\n",
    "import matplotlib.pyplot as plt\n",
    "import tensorflow as tf\n",
    "from tensorflow.keras.datasets import imdb\n",
    "from tensorflow.keras.preprocessing.sequence import pad_sequences\n",
    "from tensorflow.keras import Sequential\n",
    "from tensorflow.keras.layers import LSTM,Dropout,Dense,Embedding,BatchNormalization,Dropout"
   ]
  },
  {
   "cell_type": "markdown",
   "metadata": {},
   "source": [
    "## Data preprocessing"
   ]
  },
  {
   "cell_type": "code",
   "execution_count": 2,
   "metadata": {
    "ExecuteTime": {
     "end_time": "2020-04-28T22:24:26.584899Z",
     "start_time": "2020-04-28T22:24:23.510536Z"
    }
   },
   "outputs": [],
   "source": [
    "(X_train, y_train),(X_test, y_test) = imdb.load_data(num_words=20000)  # use 20000 words dictionary"
   ]
  },
  {
   "cell_type": "code",
   "execution_count": 3,
   "metadata": {
    "ExecuteTime": {
     "end_time": "2020-04-28T22:24:26.591760Z",
     "start_time": "2020-04-28T22:24:26.586582Z"
    }
   },
   "outputs": [
    {
     "name": "stdout",
     "output_type": "stream",
     "text": [
      "[1, 14, 22, 16, 43, 530, 973, 1622, 1385, 65, 458, 4468, 66, 3941, 4, 173, 36, 256, 5, 25, 100, 43, 838, 112, 50, 670, 2, 9, 35, 480, 284, 5, 150, 4, 172, 112, 167, 2, 336, 385, 39, 4, 172, 4536, 1111, 17, 546, 38, 13, 447, 4, 192, 50, 16, 6, 147, 2025, 19, 14, 22, 4, 1920, 4613, 469, 4, 22, 71, 87, 12, 16, 43, 530, 38, 76, 15, 13, 1247, 4, 22, 17, 515, 17, 12, 16, 626, 18, 19193, 5, 62, 386, 12, 8, 316, 8, 106, 5, 4, 2223, 5244, 16, 480, 66, 3785, 33, 4, 130, 12, 16, 38, 619, 5, 25, 124, 51, 36, 135, 48, 25, 1415, 33, 6, 22, 12, 215, 28, 77, 52, 5, 14, 407, 16, 82, 10311, 8, 4, 107, 117, 5952, 15, 256, 4, 2, 7, 3766, 5, 723, 36, 71, 43, 530, 476, 26, 400, 317, 46, 7, 4, 12118, 1029, 13, 104, 88, 4, 381, 15, 297, 98, 32, 2071, 56, 26, 141, 6, 194, 7486, 18, 4, 226, 22, 21, 134, 476, 26, 480, 5, 144, 30, 5535, 18, 51, 36, 28, 224, 92, 25, 104, 4, 226, 65, 16, 38, 1334, 88, 12, 16, 283, 5, 16, 4472, 113, 103, 32, 15, 16, 5345, 19, 178, 32]\n"
     ]
    }
   ],
   "source": [
    "print(X_train[0]) #each list is a sample (comment)"
   ]
  },
  {
   "cell_type": "code",
   "execution_count": 4,
   "metadata": {
    "ExecuteTime": {
     "end_time": "2020-04-28T22:24:26.606219Z",
     "start_time": "2020-04-28T22:24:26.593648Z"
    }
   },
   "outputs": [
    {
     "data": {
      "text/plain": [
       "(25000,)"
      ]
     },
     "execution_count": 4,
     "metadata": {},
     "output_type": "execute_result"
    }
   ],
   "source": [
    "X_train.shape"
   ]
  },
  {
   "cell_type": "code",
   "execution_count": 5,
   "metadata": {
    "ExecuteTime": {
     "end_time": "2020-04-28T22:24:27.189672Z",
     "start_time": "2020-04-28T22:24:26.607187Z"
    }
   },
   "outputs": [],
   "source": [
    "X_train=pad_sequences(X_train,maxlen=100)                  \n",
    "X_test=pad_sequences(X_test,maxlen=100)  \n",
    "#为了实现的简便，keras只能接受长度相同的序列输入。因此如果目前序列长度参差不齐，这时需要使用pad_sequences()。\n",
    "#该函数是将序列转化为经过填充以后的一个长度相同的新序列\n",
    "#返回的是个2维张量，长度为maxlen"
   ]
  },
  {
   "cell_type": "code",
   "execution_count": 6,
   "metadata": {
    "ExecuteTime": {
     "end_time": "2020-04-28T22:24:27.195614Z",
     "start_time": "2020-04-28T22:24:27.190628Z"
    }
   },
   "outputs": [
    {
     "name": "stdout",
     "output_type": "stream",
     "text": [
      "[ 1415    33     6    22    12   215    28    77    52     5    14   407\n",
      "    16    82 10311     8     4   107   117  5952    15   256     4     2\n",
      "     7  3766     5   723    36    71    43   530   476    26   400   317\n",
      "    46     7     4 12118  1029    13   104    88     4   381    15   297\n",
      "    98    32  2071    56    26   141     6   194  7486    18     4   226\n",
      "    22    21   134   476    26   480     5   144    30  5535    18    51\n",
      "    36    28   224    92    25   104     4   226    65    16    38  1334\n",
      "    88    12    16   283     5    16  4472   113   103    32    15    16\n",
      "  5345    19   178    32]\n"
     ]
    }
   ],
   "source": [
    "print(X_train[0])  # 取每条评论最后100个词"
   ]
  },
  {
   "cell_type": "code",
   "execution_count": 7,
   "metadata": {
    "ExecuteTime": {
     "end_time": "2020-04-28T22:24:27.210136Z",
     "start_time": "2020-04-28T22:24:27.197610Z"
    }
   },
   "outputs": [
    {
     "data": {
      "text/plain": [
       "(25000, 100)"
      ]
     },
     "execution_count": 7,
     "metadata": {},
     "output_type": "execute_result"
    }
   ],
   "source": [
    "X_train.shape # 25000 seqs, 100 timesteps in each seq"
   ]
  },
  {
   "cell_type": "code",
   "execution_count": 8,
   "metadata": {
    "ExecuteTime": {
     "end_time": "2020-04-28T22:24:27.216109Z",
     "start_time": "2020-04-28T22:24:27.211092Z"
    }
   },
   "outputs": [],
   "source": [
    "vocab_size=20000 # use 20000 words dictionary, input size of embedding layer\n",
    "embed_size=128  # output size of embedding layer"
   ]
  },
  {
   "cell_type": "markdown",
   "metadata": {},
   "source": [
    "## Build LSTM RNN"
   ]
  },
  {
   "cell_type": "code",
   "execution_count": 12,
   "metadata": {
    "ExecuteTime": {
     "end_time": "2020-04-28T22:26:34.447058Z",
     "start_time": "2020-04-28T22:26:34.046771Z"
    }
   },
   "outputs": [],
   "source": [
    "model=Sequential()\n",
    "model.add(Embedding(vocab_size,embed_size,input_length=X_train.shape[1]))  \n",
    "#https://keras-cn.readthedocs.io/en/latest/layers/embedding_layer/\n",
    "#https://kknews.cc/education/9gpn5bj.html\n",
    "model.add(LSTM(units=60,activation='tanh',return_sequences=False))\n",
    "model.add(BatchNormalization())\n",
    "model.add(Dense(units=1,activation='sigmoid'))\n",
    "model.compile(optimizer='adam',loss='binary_crossentropy',metrics=['accuracy'])"
   ]
  },
  {
   "cell_type": "code",
   "execution_count": 13,
   "metadata": {
    "ExecuteTime": {
     "end_time": "2020-04-28T22:26:34.547442Z",
     "start_time": "2020-04-28T22:26:34.542445Z"
    }
   },
   "outputs": [
    {
     "name": "stdout",
     "output_type": "stream",
     "text": [
      "Model: \"sequential_1\"\n",
      "_________________________________________________________________\n",
      "Layer (type)                 Output Shape              Param #   \n",
      "=================================================================\n",
      "embedding_1 (Embedding)      (None, 100, 128)          2560000   \n",
      "_________________________________________________________________\n",
      "lstm_1 (LSTM)                (None, 60)                45360     \n",
      "_________________________________________________________________\n",
      "batch_normalization_1 (Batch (None, 60)                240       \n",
      "_________________________________________________________________\n",
      "dense_1 (Dense)              (None, 1)                 61        \n",
      "=================================================================\n",
      "Total params: 2,605,661\n",
      "Trainable params: 2,605,541\n",
      "Non-trainable params: 120\n",
      "_________________________________________________________________\n"
     ]
    }
   ],
   "source": [
    "model.summary()"
   ]
  },
  {
   "cell_type": "code",
   "execution_count": 14,
   "metadata": {
    "ExecuteTime": {
     "end_time": "2020-04-28T22:31:12.413864Z",
     "start_time": "2020-04-28T22:26:34.573362Z"
    }
   },
   "outputs": [
    {
     "name": "stdout",
     "output_type": "stream",
     "text": [
      "Train on 25000 samples, validate on 25000 samples\n",
      "Epoch 1/15\n",
      "25000/25000 [==============================] - 23s 914us/sample - loss: 0.4076 - accuracy: 0.8084 - val_loss: 0.3758 - val_accuracy: 0.8404\n",
      "Epoch 2/15\n",
      "25000/25000 [==============================] - 18s 726us/sample - loss: 0.2096 - accuracy: 0.9170 - val_loss: 0.3837 - val_accuracy: 0.8382\n",
      "Epoch 3/15\n",
      "25000/25000 [==============================] - 18s 727us/sample - loss: 0.1215 - accuracy: 0.9549 - val_loss: 0.5390 - val_accuracy: 0.8265\n",
      "Epoch 4/15\n",
      "25000/25000 [==============================] - 18s 735us/sample - loss: 0.0679 - accuracy: 0.9758 - val_loss: 0.6954 - val_accuracy: 0.8125\n",
      "Epoch 5/15\n",
      "25000/25000 [==============================] - 18s 722us/sample - loss: 0.0433 - accuracy: 0.9851 - val_loss: 0.9337 - val_accuracy: 0.8115\n",
      "Epoch 6/15\n",
      "25000/25000 [==============================] - 18s 722us/sample - loss: 0.0375 - accuracy: 0.9864 - val_loss: 1.2207 - val_accuracy: 0.8040\n",
      "Epoch 7/15\n",
      "25000/25000 [==============================] - 18s 727us/sample - loss: 0.0274 - accuracy: 0.9904 - val_loss: 1.0392 - val_accuracy: 0.8164\n",
      "Epoch 8/15\n",
      "25000/25000 [==============================] - 18s 730us/sample - loss: 0.0261 - accuracy: 0.9914 - val_loss: 0.9643 - val_accuracy: 0.8206\n",
      "Epoch 9/15\n",
      "25000/25000 [==============================] - 18s 729us/sample - loss: 0.0196 - accuracy: 0.9929 - val_loss: 1.0885 - val_accuracy: 0.8103\n",
      "Epoch 10/15\n",
      "25000/25000 [==============================] - 18s 730us/sample - loss: 0.0251 - accuracy: 0.9922 - val_loss: 1.0230 - val_accuracy: 0.7920\n",
      "Epoch 11/15\n",
      "25000/25000 [==============================] - 18s 732us/sample - loss: 0.0206 - accuracy: 0.9931 - val_loss: 0.9469 - val_accuracy: 0.8076\n",
      "Epoch 12/15\n",
      "25000/25000 [==============================] - 18s 734us/sample - loss: 0.0151 - accuracy: 0.9949 - val_loss: 1.0518 - val_accuracy: 0.8198\n",
      "Epoch 13/15\n",
      "25000/25000 [==============================] - 18s 735us/sample - loss: 0.0129 - accuracy: 0.9959 - val_loss: 1.1823 - val_accuracy: 0.8153\n",
      "Epoch 14/15\n",
      "25000/25000 [==============================] - 18s 725us/sample - loss: 0.0098 - accuracy: 0.9966 - val_loss: 1.2306 - val_accuracy: 0.8202\n",
      "Epoch 15/15\n",
      "25000/25000 [==============================] - 18s 721us/sample - loss: 0.0171 - accuracy: 0.9940 - val_loss: 1.2194 - val_accuracy: 0.8020\n"
     ]
    }
   ],
   "source": [
    "history=model.fit(X_train,y_train,epochs=15,batch_size=64,validation_data=(X_test,y_test))"
   ]
  },
  {
   "cell_type": "markdown",
   "metadata": {},
   "source": [
    "## Evaluation"
   ]
  },
  {
   "cell_type": "code",
   "execution_count": 15,
   "metadata": {
    "ExecuteTime": {
     "end_time": "2020-04-28T22:31:12.669710Z",
     "start_time": "2020-04-28T22:31:12.414861Z"
    }
   },
   "outputs": [
    {
     "data": {
      "image/png": "[encoded data removed]",
      "text/plain": [
       "<Figure size 432x288 with 1 Axes>"
      ]
     },
     "metadata": {
      "needs_background": "light"
     },
     "output_type": "display_data"
    },
    {
     "data": {
      "image/png": "[encoded data removed]",
      "text/plain": [
       "<Figure size 432x288 with 1 Axes>"
      ]
     },
     "metadata": {
      "needs_background": "light"
     },
     "output_type": "display_data"
    }
   ],
   "source": [
    "epoch_range=range(1,15+1)\n",
    "plt.plot(epoch_range,history.history['accuracy'])\n",
    "plt.plot(epoch_range,history.history['val_accuracy'])\n",
    "plt.title('Model accuracy')\n",
    "plt.ylabel('Accuracy')\n",
    "plt.xlabel('Epoch')\n",
    "plt.legend(['Train','Val'],loc='upper left')\n",
    "plt.show()\n",
    "\n",
    "plt.plot(history.history['loss'])\n",
    "plt.plot(history.history['val_loss'])\n",
    "plt.title('Model loss')\n",
    "plt.ylabel('Loss')\n",
    "plt.xlabel('Epoch')\n",
    "plt.legend(['Train','Val'],loc='upper left')\n",
    "plt.show()\n",
    "\n",
    "# 2 epoch is enough"
   ]
  },
  {
   "cell_type": "code",
   "execution_count": null,
   "metadata": {},
   "outputs": [],
   "source": []
  }
 ],
 "metadata": {
  "kernelspec": {
   "display_name": "Python 3",
   "language": "python",
   "name": "python3"
  },
  "language_info": {
   "codemirror_mode": {
    "name": "ipython",
    "version": 3
   },
   "file_extension": ".py",
   "mimetype": "text/x-python",
   "name": "python",
   "nbconvert_exporter": "python",
   "pygments_lexer": "ipython3",
   "version": "3.6.5"
  },
  "toc": {
   "base_numbering": 1,
   "nav_menu": {},
   "number_sections": true,
   "sideBar": true,
   "skip_h1_title": false,
   "title_cell": "Table of Contents",
   "title_sidebar": "Contents",
   "toc_cell": false,
   "toc_position": {},
   "toc_section_display": true,
   "toc_window_display": false
  }
 },
 "nbformat": 4,
 "nbformat_minor": 2
}
