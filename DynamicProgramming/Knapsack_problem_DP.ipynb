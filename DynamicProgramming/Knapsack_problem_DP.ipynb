{
 "cells": [
  {
   "cell_type": "code",
   "execution_count": 1,
   "metadata": {},
   "outputs": [],
   "source": [
    "from IPython.display import Latex"
   ]
  },
  {
   "cell_type": "markdown",
   "metadata": {},
   "source": [
    "# Exercise 1 (Part 1): Knapsack problem"
   ]
  },
  {
   "cell_type": "markdown",
   "metadata": {},
   "source": [
    "Minister Radin is about to finish his holidays and fly home. He carefully weighs his luggage and finds out that he can still take $W=7$ kg without paying over-weight fee. He decides to take advantage of it and look for some local products that he can sale at home for extra gain. He selects $n$ most interesting objects, weighs each of them, and bargains the price. He  then  takes  a  sheet  of  paper  and  calculates  the  best  combination  of  objects  to  buy  in  order  to  maximize  his  gain without paying over-weight fee of his luggage that is more expensive then eventual gain. Which objects should he buy? \n",
    "\n",
    "\n",
    "|item $i$ |    1    |    2    |    3    |    4    |    5    |    6 |\n",
    "| --- | --- | --- | --- | --- | --- | --- | \n",
    "|weight $w_i$ |    2    |    1    |    1    |    3    |    2    |    1 | \n",
    "|gain $p_i$ |    8    |    5    |    5    |    6    |    3    |    2|\n",
    " \n",
    "              "
   ]
  },
  {
   "cell_type": "markdown",
   "metadata": {},
   "source": [
    "\\underline{Solution:} Let us apply the dynamic programming (DP) approach to solve the above problem.\t\n",
    "  \\begin{itemize}\n",
    "  \t\\item \\textbf{Stages $t$:} subsets of items $\\{0, 1, 2, \\dots, t\\}, \\forall t = \\overline{1, n}$\n",
    "  \t\\item \\textbf{States $s_t$:} capacity used up to stage $t$\n",
    "     \\begin{itemize}\n",
    "        \\item State space: $s_t \\in \\{0,1,\\dots, W\\}$\n",
    "       \\end{itemize}\n",
    "    \\item \\textbf{Action $x_t$:}  select or not item $t$, $x_t \\in A_t(b) $\n",
    "     \\begin{itemize}\n",
    "        \\item Action space: $ A_t(s_t) = \\left\\{\n",
    "    \t\t\\begin{array}{rl}\n",
    "    \t\t\\{0, 1\\}, & \\text{if } b \\geq w_t\\\\\n",
    "    \t\t\\{0\\}, & \\text{otherwise} \t\\end{array}\n",
    "    \t\t\\right.\n",
    "           $\n",
    "    \\end{itemize}\n",
    "   \\item   \\textbf{System dynamics:} i.e. state transition\n",
    "       \t\t$$ s_t = \\left\\{\n",
    "    \t\t\\begin{array}{rl}\n",
    "    \t\ts_{t-1} + w_t, & \\text{if } x_t = 1\\\\\n",
    "    \t\ts_{t-1}, & \\text{otherwise} \t\\end{array}\n",
    "    \t\t\\right.\n",
    "    \t\t$$  \n",
    "  \t\\item \\textbf{Instantaneous reward} \n",
    "        $$ g_t(s_t, x_t)  = \\left\\{\n",
    "    \t\t\\begin{array}{rl}\n",
    "    \t\tp_t, & \\text{if } x_t = 1\\\\\n",
    "    \t\t0, & \\text{otherwise} \t\\end{array}\n",
    "    \t\t\\right.\n",
    "    \t\t$$ \n",
    "   \\item \\textbf{Value function $V_t(s_t)$:} maximal gain from items $0,1,\\dots,t$ involving a capacity of $s_t$ kg \n",
    "   \\item \\textbf{Optimality equations:}\n",
    "   $$ \\left\\{\n",
    "    \t\t\\begin{array}{rl}\n",
    "    \t\tV_t(s_t) = \\max \\big\\{ \\underbrace{V_{t-1} (s_t)}_{x_t=0} ,   \\underbrace{ V_{t-1} (s_t-w_{t}) + p_t }_{x_t=1}\\big\\}, & \\forall t=\\overline{1,n}, s_t =\\overline{0, W} \\\\\n",
    "    \t\tV_0(s_0) = 0, & s_0 =\\overline{0, W} \t\\end{array}\n",
    "    \t\t\\right.\n",
    "    \t\t$$ \n",
    "   \n",
    "   \\end{itemize}"
   ]
  },
  {
   "cell_type": "markdown",
   "metadata": {},
   "source": [
    "<font color='red'>\\textbf{Dynamic programming algorithm for the knapsack problem:}</font>"
   ]
  },
  {
   "cell_type": "markdown",
   "metadata": {},
   "source": [
    "\\textbf{Step 0.} Instanciate the problem under study:"
   ]
  },
  {
   "cell_type": "code",
   "execution_count": 18,
   "metadata": {},
   "outputs": [],
   "source": [
    "import numpy as np\n",
    "np.set_printoptions(formatter={'float': '{: 0.1f}'.format})\n",
    "\n",
    "n = 6  # overall item's quantity\n",
    "W = 7  # overall weight\n",
    "w = [0, 2, 1, 1, 3, 2, 1]\n",
    "p = [0, 8, 5, 5, 6, 3, 2]"
   ]
  },
  {
   "cell_type": "markdown",
   "metadata": {},
   "source": [
    "\\textbf{Step 1.}  Define matrix $V$ and initialize: $ V_0(s_0) =0, \\forall s_0 =\\overline{0, W}$"
   ]
  },
  {
   "cell_type": "code",
   "execution_count": 19,
   "metadata": {},
   "outputs": [],
   "source": [
    "V = np.zeros(shape=(W+1, n+1))\n",
    "V[:,0] = 0"
   ]
  },
  {
   "cell_type": "code",
   "execution_count": 20,
   "metadata": {},
   "outputs": [
    {
     "data": {
      "text/plain": [
       "array([[ 0.0,  0.0,  0.0,  0.0,  0.0,  0.0,  0.0],\n",
       "       [ 0.0,  0.0,  0.0,  0.0,  0.0,  0.0,  0.0],\n",
       "       [ 0.0,  0.0,  0.0,  0.0,  0.0,  0.0,  0.0],\n",
       "       [ 0.0,  0.0,  0.0,  0.0,  0.0,  0.0,  0.0],\n",
       "       [ 0.0,  0.0,  0.0,  0.0,  0.0,  0.0,  0.0],\n",
       "       [ 0.0,  0.0,  0.0,  0.0,  0.0,  0.0,  0.0],\n",
       "       [ 0.0,  0.0,  0.0,  0.0,  0.0,  0.0,  0.0],\n",
       "       [ 0.0,  0.0,  0.0,  0.0,  0.0,  0.0,  0.0]])"
      ]
     },
     "execution_count": 20,
     "metadata": {},
     "output_type": "execute_result"
    }
   ],
   "source": [
    "V"
   ]
  },
  {
   "cell_type": "markdown",
   "metadata": {},
   "source": [
    "\\textbf{Step 2.}  Recursively compute: \n",
    "                \n",
    "%%latex\n",
    "                $$ V_t(s_t) = \\max \\big\\{ \\underbrace{V_{t-1} (s_t)}_{x_t=0} ,   \\underbrace{ V_{t-1} (s_t-w_{t}) + p_t }_{x_t=1}\\big\\}, \\forall t=\\overline{1,n}, s_t =\\overline{0, W} $$ \n",
    "                \n",
    "To \\textit{record} the associated \\textit{actions}, keep track of:\n",
    "    \t\t\n",
    "$$ x_t(s_t) = \\left\\{\n",
    "\\begin{array}{rl}\n",
    "    \t\t1, & \\text{if } V_{t-1} (s_t-w_t) + p_t > V_{t-1} (s_t)\\\\\n",
    "    \t\t0, & \\text{otherwise} \t\\end{array}\n",
    "\\right.\n",
    "$$ "
   ]
  },
  {
   "cell_type": "code",
   "execution_count": 21,
   "metadata": {},
   "outputs": [],
   "source": [
    "keep_x = np.zeros(shape=(W+1, n+1))\n",
    "\n",
    "for s in range(0, W+1):\n",
    "    for t in range(1, n+1):\n",
    "        if w[t] <= s:\n",
    "            V[s, t] = max(V[s, t-1], V[s-w[t], t-1] + p[t])\n",
    "        else:\n",
    "            V[s, t] = V[s, t-1]\n",
    "\n",
    "        ''' Record the associated actions '''\n",
    "        if V[s-w[t], t] + p[t] > V[s, t-1]:\n",
    "            keep_x[s, t] = 1"
   ]
  },
  {
   "cell_type": "code",
   "execution_count": 22,
   "metadata": {},
   "outputs": [
    {
     "data": {
      "text/plain": [
       "array([[ 0.0,  1.0,  1.0,  1.0,  1.0,  1.0,  1.0],\n",
       "       [ 0.0,  1.0,  1.0,  0.0,  1.0,  0.0,  0.0],\n",
       "       [ 0.0,  1.0,  1.0,  1.0,  0.0,  0.0,  0.0],\n",
       "       [ 0.0,  1.0,  1.0,  1.0,  0.0,  0.0,  0.0],\n",
       "       [ 0.0,  1.0,  1.0,  1.0,  0.0,  0.0,  0.0],\n",
       "       [ 0.0,  1.0,  1.0,  1.0,  0.0,  0.0,  1.0],\n",
       "       [ 0.0,  1.0,  1.0,  1.0,  1.0,  1.0,  1.0],\n",
       "       [ 0.0,  1.0,  1.0,  1.0,  1.0,  0.0,  0.0]])"
      ]
     },
     "execution_count": 22,
     "metadata": {},
     "output_type": "execute_result"
    }
   ],
   "source": [
    "keep_x"
   ]
  },
  {
   "cell_type": "code",
   "execution_count": 23,
   "metadata": {},
   "outputs": [
    {
     "data": {
      "text/plain": [
       "array([[ 0.0,  0.0,  0.0,  0.0,  0.0,  0.0,  0.0],\n",
       "       [ 0.0,  0.0,  5.0,  5.0,  5.0,  5.0,  5.0],\n",
       "       [ 0.0,  8.0,  8.0,  10.0,  10.0,  10.0,  10.0],\n",
       "       [ 0.0,  8.0,  13.0,  13.0,  13.0,  13.0,  13.0],\n",
       "       [ 0.0,  8.0,  13.0,  18.0,  18.0,  18.0,  18.0],\n",
       "       [ 0.0,  8.0,  13.0,  18.0,  18.0,  18.0,  20.0],\n",
       "       [ 0.0,  8.0,  13.0,  18.0,  19.0,  21.0,  21.0],\n",
       "       [ 0.0,  8.0,  13.0,  18.0,  24.0,  24.0,  24.0]])"
      ]
     },
     "execution_count": 23,
     "metadata": {},
     "output_type": "execute_result"
    }
   ],
   "source": [
    "V"
   ]
  },
  {
   "cell_type": "markdown",
   "metadata": {},
   "source": [
    "\\textbf{Step 4.}  Reconstruct the optimal solution:"
   ]
  },
  {
   "cell_type": "code",
   "execution_count": 24,
   "metadata": {},
   "outputs": [],
   "source": [
    "x = np.zeros(n+1)\n",
    "K = W \n",
    "for t in range(n, 0, -1):\n",
    "    if keep_x[K,t] == 1:\n",
    "        x[t] = 1\n",
    "        K = K - w[t]  "
   ]
  },
  {
   "cell_type": "markdown",
   "metadata": {},
   "source": [
    "\\textbf{Step 5.}  The value of the optimal solution is given by $V_n(W)$:"
   ]
  },
  {
   "cell_type": "code",
   "execution_count": 25,
   "metadata": {},
   "outputs": [
    {
     "name": "stdout",
     "output_type": "stream",
     "text": [
      "The value of the optimal solution is: 24\n"
     ]
    }
   ],
   "source": [
    "print('The value of the optimal solution is: %d' % V[W,n])\n"
   ]
  },
  {
   "cell_type": "code",
   "execution_count": 26,
   "metadata": {},
   "outputs": [
    {
     "name": "stdout",
     "output_type": "stream",
     "text": [
      "The optimal solution is:  [ 0.0  1.0  1.0  1.0  1.0  0.0  0.0]\n",
      "Minister Radin should buy the following items:\n",
      "1\n",
      "2\n",
      "3\n",
      "4\n"
     ]
    }
   ],
   "source": [
    "print('The optimal solution is: ', x)\n",
    "print('Minister Radin should buy the following items:')\n",
    "for i in range(1, n+1):\n",
    "    if x[i] > 0:\n",
    "        print(i)"
   ]
  },
  {
   "cell_type": "code",
   "execution_count": null,
   "metadata": {},
   "outputs": [],
   "source": []
  },
  {
   "cell_type": "code",
   "execution_count": null,
   "metadata": {},
   "outputs": [],
   "source": []
  },
  {
   "cell_type": "code",
   "execution_count": null,
   "metadata": {},
   "outputs": [],
   "source": []
  }
 ],
 "metadata": {
  "kernelspec": {
   "display_name": "Python 3",
   "language": "python",
   "name": "python3"
  },
  "language_info": {
   "codemirror_mode": {
    "name": "ipython",
    "version": 3
   },
   "file_extension": ".py",
   "mimetype": "text/x-python",
   "name": "python",
   "nbconvert_exporter": "python",
   "pygments_lexer": "ipython3",
   "version": "3.7.5"
  },
  "latex_envs": {
   "LaTeX_envs_menu_present": true,
   "autoclose": false,
   "autocomplete": true,
   "bibliofile": "biblio.bib",
   "cite_by": "apalike",
   "current_citInitial": 1,
   "eqLabelWithNumbers": true,
   "eqNumInitial": 1,
   "hotkeys": {
    "equation": "Ctrl-E",
    "itemize": "Ctrl-I"
   },
   "labels_anchors": false,
   "latex_user_defs": false,
   "report_style_numbering": false,
   "user_envs_cfg": false
  }
 },
 "nbformat": 4,
 "nbformat_minor": 2
}
