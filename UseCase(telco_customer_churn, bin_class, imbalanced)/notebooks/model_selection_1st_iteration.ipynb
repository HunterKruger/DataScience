{
 "cells": [
  {
   "cell_type": "code",
   "execution_count": 1,
   "metadata": {
    "ExecuteTime": {
     "end_time": "2020-05-06T21:49:44.853020Z",
     "start_time": "2020-05-06T21:49:43.874259Z"
    }
   },
   "outputs": [
    {
     "name": "stderr",
     "output_type": "stream",
     "text": [
      "/Users/FY/anaconda3/lib/python3.6/site-packages/lightgbm/__init__.py:48: UserWarning: Starting from version 2.2.1, the library file in distribution wheels for macOS is built by the Apple Clang (Xcode_8.3.3) compiler.\n",
      "This means that in case of installing LightGBM from PyPI via the ``pip install lightgbm`` command, you don't need to install the gcc compiler anymore.\n",
      "Instead of that, you need to install the OpenMP library, which is required for running LightGBM on the system with the Apple Clang compiler.\n",
      "You can install the OpenMP library by the following command: ``brew install libomp``.\n",
      "  \"You can install the OpenMP library by the following command: ``brew install libomp``.\", UserWarning)\n"
     ]
    }
   ],
   "source": [
    "import pandas as pd \n",
    "import numpy as np\n",
    "\n",
    "from sklearn.model_selection import train_test_split\n",
    "from sklearn.model_selection import cross_val_score \n",
    "from sklearn.model_selection import GridSearchCV,RandomizedSearchCV\n",
    "\n",
    "from sklearn.metrics import classification_report\n",
    "from sklearn.metrics import confusion_matrix\n",
    "from sklearn.metrics import roc_auc_score\n",
    "from sklearn.metrics import accuracy_score\n",
    "\n",
    "from sklearn.neighbors import KNeighborsClassifier as KNN\n",
    "from sklearn.linear_model import LogisticRegression as LR\n",
    "from sklearn.naive_bayes import GaussianNB as NB\n",
    "from sklearn.svm import SVC\n",
    "\n",
    "from sklearn.ensemble import RandomForestClassifier as RF\n",
    "from sklearn.ensemble import GradientBoostingClassifier as GBC\n",
    "from sklearn.ensemble import AdaBoostClassifier as ABC\n",
    "from xgboost import XGBClassifier as XGBC\n",
    "from lightgbm import LGBMClassifier as LGBC\n",
    "from sklearn.ensemble import VotingClassifier\n",
    "\n",
    "import joblib"
   ]
  },
  {
   "cell_type": "code",
   "execution_count": 2,
   "metadata": {
    "ExecuteTime": {
     "end_time": "2020-05-06T21:49:03.931458Z",
     "start_time": "2020-05-06T21:49:03.862744Z"
    }
   },
   "outputs": [],
   "source": [
    "X_train_origin = pd.read_csv('../data/featured_data/X_train.csv')\n",
    "y_train_origin = pd.read_csv('../data/featured_data/y_train.csv')"
   ]
  },
  {
   "cell_type": "code",
   "execution_count": 3,
   "metadata": {
    "ExecuteTime": {
     "end_time": "2020-05-06T21:49:04.086375Z",
     "start_time": "2020-05-06T21:49:04.082237Z"
    }
   },
   "outputs": [],
   "source": [
    "X_train_origin = X_train_origin.to_numpy()\n",
    "y_train_origin = y_train_origin.to_numpy()\n",
    "y_train_origin = y_train_origin.ravel()"
   ]
  },
  {
   "cell_type": "code",
   "execution_count": 4,
   "metadata": {
    "ExecuteTime": {
     "end_time": "2020-05-06T21:49:04.280001Z",
     "start_time": "2020-05-06T21:49:04.264446Z"
    }
   },
   "outputs": [
    {
     "data": {
      "text/plain": [
       "((5634, 25), (5634,))"
      ]
     },
     "execution_count": 4,
     "metadata": {},
     "output_type": "execute_result"
    }
   ],
   "source": [
    "X_train_origin.shape,y_train_origin.shape"
   ]
  },
  {
   "cell_type": "code",
   "execution_count": 5,
   "metadata": {
    "ExecuteTime": {
     "end_time": "2020-05-06T21:49:04.457277Z",
     "start_time": "2020-05-06T21:49:04.449428Z"
    }
   },
   "outputs": [],
   "source": [
    "X_train, X_val, y_train, y_val = train_test_split(X_train_origin, y_train_origin, test_size=0.2, random_state=1)"
   ]
  },
  {
   "cell_type": "code",
   "execution_count": 6,
   "metadata": {
    "ExecuteTime": {
     "end_time": "2020-05-06T21:49:04.617556Z",
     "start_time": "2020-05-06T21:49:04.612842Z"
    }
   },
   "outputs": [
    {
     "data": {
      "text/plain": [
       "((4507, 25), (1127, 25), (4507,), (1127,))"
      ]
     },
     "execution_count": 6,
     "metadata": {},
     "output_type": "execute_result"
    }
   ],
   "source": [
    "X_train.shape, X_val.shape, y_train.shape, y_val.shape"
   ]
  },
  {
   "cell_type": "markdown",
   "metadata": {},
   "source": [
    "### Baseline (class weight modification)"
   ]
  },
  {
   "cell_type": "code",
   "execution_count": 7,
   "metadata": {
    "ExecuteTime": {
     "end_time": "2020-05-06T21:49:07.358297Z",
     "start_time": "2020-05-06T21:49:07.313674Z"
    }
   },
   "outputs": [
    {
     "data": {
      "text/plain": [
       "2.7683253076511503"
      ]
     },
     "execution_count": 7,
     "metadata": {},
     "output_type": "execute_result"
    }
   ],
   "source": [
    "data=pd.read_csv('../data/raw_data/WA_Fn-UseC_-Telco-Customer-Churn.csv')\n",
    "ratio = data[data.Churn=='No'].shape[0]/data[data.Churn=='Yes'].shape[0]\n",
    "ratio"
   ]
  },
  {
   "cell_type": "code",
   "execution_count": 8,
   "metadata": {
    "ExecuteTime": {
     "end_time": "2020-05-06T21:49:08.070662Z",
     "start_time": "2020-05-06T21:49:08.057860Z"
    }
   },
   "outputs": [],
   "source": [
    "def modeling(model_name):\n",
    "    model=model_name(class_weight={0: 1, 1: ratio})\n",
    "    model.fit(X_train,y_train)\n",
    "    y_pred = model.predict(X_val)\n",
    "    print(\"Confusion_Matrix:\")\n",
    "    print(str(confusion_matrix(y_val,y_pred)))\n",
    "    print(classification_report(y_val,y_pred))\n",
    "    print(\"Accuracy:\" + str(accuracy_score(y_val, y_pred)))\n",
    "    print(\"AUC_ROC:\" + str(roc_auc_score(y_val, y_pred)))"
   ]
  },
  {
   "cell_type": "code",
   "execution_count": 9,
   "metadata": {
    "ExecuteTime": {
     "end_time": "2020-04-03T17:17:26.426857Z",
     "start_time": "2020-04-03T17:17:26.384215Z"
    }
   },
   "outputs": [
    {
     "name": "stdout",
     "output_type": "stream",
     "text": [
      "Confusion_Matrix:\n",
      "[[596 218]\n",
      " [ 67 246]]\n",
      "              precision    recall  f1-score   support\n",
      "\n",
      "           0       0.90      0.73      0.81       814\n",
      "           1       0.53      0.79      0.63       313\n",
      "\n",
      "    accuracy                           0.75      1127\n",
      "   macro avg       0.71      0.76      0.72      1127\n",
      "weighted avg       0.80      0.75      0.76      1127\n",
      "\n",
      "Accuracy:0.7471162377994676\n",
      "AUC_ROC:0.7590646120997558\n"
     ]
    }
   ],
   "source": [
    "modeling(LR)  # accept"
   ]
  },
  {
   "cell_type": "code",
   "execution_count": 10,
   "metadata": {
    "ExecuteTime": {
     "end_time": "2020-04-03T17:17:27.328699Z",
     "start_time": "2020-04-03T17:17:26.431961Z"
    }
   },
   "outputs": [
    {
     "name": "stdout",
     "output_type": "stream",
     "text": [
      "Confusion_Matrix:\n",
      "[[601 213]\n",
      " [ 67 246]]\n",
      "              precision    recall  f1-score   support\n",
      "\n",
      "           0       0.90      0.74      0.81       814\n",
      "           1       0.54      0.79      0.64       313\n",
      "\n",
      "    accuracy                           0.75      1127\n",
      "   macro avg       0.72      0.76      0.72      1127\n",
      "weighted avg       0.80      0.75      0.76      1127\n",
      "\n",
      "Accuracy:0.7515527950310559\n",
      "AUC_ROC:0.762135865171009\n"
     ]
    }
   ],
   "source": [
    "modeling(SVC) # accept"
   ]
  },
  {
   "cell_type": "code",
   "execution_count": 11,
   "metadata": {
    "ExecuteTime": {
     "end_time": "2020-04-03T17:17:29.151074Z",
     "start_time": "2020-04-03T17:17:27.332967Z"
    }
   },
   "outputs": [
    {
     "name": "stdout",
     "output_type": "stream",
     "text": [
      "Confusion_Matrix:\n",
      "[[741  73]\n",
      " [168 145]]\n",
      "              precision    recall  f1-score   support\n",
      "\n",
      "           0       0.82      0.91      0.86       814\n",
      "           1       0.67      0.46      0.55       313\n",
      "\n",
      "    accuracy                           0.79      1127\n",
      "   macro avg       0.74      0.69      0.70      1127\n",
      "weighted avg       0.77      0.79      0.77      1127\n",
      "\n",
      "Accuracy:0.7861579414374446\n",
      "AUC_ROC:0.6867890981309512\n"
     ]
    }
   ],
   "source": [
    "modeling(RF) # reject"
   ]
  },
  {
   "cell_type": "code",
   "execution_count": 12,
   "metadata": {
    "ExecuteTime": {
     "end_time": "2020-04-03T17:17:31.650894Z",
     "start_time": "2020-04-03T17:17:29.165003Z"
    }
   },
   "outputs": [
    {
     "name": "stdout",
     "output_type": "stream",
     "text": [
      "0.7800851970181044\n"
     ]
    }
   ],
   "source": [
    "# use Out-of-bag data as validation set\n",
    "model = RF(oob_score=True,class_weight={0: 1, 1: ratio})\n",
    "model.fit(X_train_origin, y_train_origin)\n",
    "print(model.oob_score_)  # almost the same"
   ]
  },
  {
   "cell_type": "code",
   "execution_count": 9,
   "metadata": {
    "ExecuteTime": {
     "end_time": "2020-05-06T21:49:15.223491Z",
     "start_time": "2020-05-06T21:49:14.809350Z"
    }
   },
   "outputs": [
    {
     "name": "stdout",
     "output_type": "stream",
     "text": [
      "Confusion_Matrix:\n",
      "[[666 148]\n",
      " [115 198]]\n",
      "              precision    recall  f1-score   support\n",
      "\n",
      "           0       0.85      0.82      0.84       814\n",
      "           1       0.57      0.63      0.60       313\n",
      "\n",
      "    accuracy                           0.77      1127\n",
      "   macro avg       0.71      0.73      0.72      1127\n",
      "weighted avg       0.77      0.77      0.77      1127\n",
      "\n",
      "Accuracy:0.7666370896184561\n",
      "AUC_ROC:0.7253848388033691\n"
     ]
    }
   ],
   "source": [
    "modeling(LGBC) # reject"
   ]
  },
  {
   "cell_type": "code",
   "execution_count": 10,
   "metadata": {
    "ExecuteTime": {
     "end_time": "2020-05-06T21:49:19.626536Z",
     "start_time": "2020-05-06T21:49:18.413462Z"
    }
   },
   "outputs": [
    {
     "name": "stdout",
     "output_type": "stream",
     "text": [
      "Confusion_Matrix:\n",
      "[[737  77]\n",
      " [150 163]]\n",
      "              precision    recall  f1-score   support\n",
      "\n",
      "           0       0.83      0.91      0.87       814\n",
      "           1       0.68      0.52      0.59       313\n",
      "\n",
      "    accuracy                           0.80      1127\n",
      "   macro avg       0.76      0.71      0.73      1127\n",
      "weighted avg       0.79      0.80      0.79      1127\n",
      "\n",
      "Accuracy:0.7985803016858918\n",
      "AUC_ROC:0.7130860892841723\n"
     ]
    }
   ],
   "source": [
    "modeling(XGBC) #accept"
   ]
  },
  {
   "cell_type": "code",
   "execution_count": 26,
   "metadata": {
    "ExecuteTime": {
     "end_time": "2020-04-03T17:43:51.769184Z",
     "start_time": "2020-04-03T17:43:51.750816Z"
    }
   },
   "outputs": [
    {
     "data": {
      "text/plain": [
       "(0.7657497781721384, 0.7447621888516457)"
      ]
     },
     "execution_count": 26,
     "metadata": {},
     "output_type": "execute_result"
    }
   ],
   "source": [
    "# for accepted 3 models: XGBC,SVC,LR\n",
    "acc_avg = (0.7985803016858918+0.7515527950310559+0.7471162377994676)/3\n",
    "auc_avg = (0.7130860892841723+0.762135865171009+0.7590646120997558)/3\n",
    "acc_avg,auc_avg"
   ]
  },
  {
   "cell_type": "markdown",
   "metadata": {
    "ExecuteTime": {
     "end_time": "2020-04-03T17:03:34.125813Z",
     "start_time": "2020-04-03T17:03:34.113897Z"
    }
   },
   "source": [
    "### Baseline (Upsampling by SMOTE)"
   ]
  },
  {
   "cell_type": "code",
   "execution_count": 15,
   "metadata": {
    "ExecuteTime": {
     "end_time": "2020-04-03T17:17:34.081746Z",
     "start_time": "2020-04-03T17:17:33.745725Z"
    }
   },
   "outputs": [],
   "source": [
    "from imblearn.over_sampling import SMOTE\n",
    "smote = SMOTE(sampling_strategy='auto', k_neighbors=5, random_state=2) \n",
    "X_train_res,y_train_res=smote.fit_resample(X_train,y_train)"
   ]
  },
  {
   "cell_type": "code",
   "execution_count": 17,
   "metadata": {
    "ExecuteTime": {
     "end_time": "2020-04-03T17:17:54.572359Z",
     "start_time": "2020-04-03T17:17:54.563817Z"
    }
   },
   "outputs": [
    {
     "data": {
      "text/plain": [
       "((6598, 25), (6598,))"
      ]
     },
     "execution_count": 17,
     "metadata": {},
     "output_type": "execute_result"
    }
   ],
   "source": [
    "X_train_res.shape,y_train_res.shape"
   ]
  },
  {
   "cell_type": "code",
   "execution_count": 18,
   "metadata": {
    "ExecuteTime": {
     "end_time": "2020-04-03T17:18:08.510272Z",
     "start_time": "2020-04-03T17:18:08.502007Z"
    }
   },
   "outputs": [],
   "source": [
    "def modeling2(model_name):\n",
    "    model=model_name()\n",
    "    model.fit(X_train,y_train)\n",
    "    y_pred = model.predict(X_val)\n",
    "    print(\"Confusion_Matrix:\")\n",
    "    print(str(confusion_matrix(y_val,y_pred)))\n",
    "    print(classification_report(y_val,y_pred))\n",
    "    print(\"Accuracy:\" + str(accuracy_score(y_val, y_pred)))\n",
    "    print(\"AUC_ROC:\" + str(roc_auc_score(y_val, y_pred)))"
   ]
  },
  {
   "cell_type": "code",
   "execution_count": 19,
   "metadata": {
    "ExecuteTime": {
     "end_time": "2020-04-03T17:18:28.800253Z",
     "start_time": "2020-04-03T17:18:28.760635Z"
    }
   },
   "outputs": [
    {
     "name": "stdout",
     "output_type": "stream",
     "text": [
      "Confusion_Matrix:\n",
      "[[747  67]\n",
      " [156 157]]\n",
      "              precision    recall  f1-score   support\n",
      "\n",
      "           0       0.83      0.92      0.87       814\n",
      "           1       0.70      0.50      0.58       313\n",
      "\n",
      "    accuracy                           0.80      1127\n",
      "   macro avg       0.76      0.71      0.73      1127\n",
      "weighted avg       0.79      0.80      0.79      1127\n",
      "\n",
      "Accuracy:0.8021295474711624\n",
      "AUC_ROC:0.7096439308899373\n"
     ]
    }
   ],
   "source": [
    "modeling2(LR)  # acc up, auc down  # accept"
   ]
  },
  {
   "cell_type": "code",
   "execution_count": 20,
   "metadata": {
    "ExecuteTime": {
     "end_time": "2020-04-03T17:18:36.975755Z",
     "start_time": "2020-04-03T17:18:36.212426Z"
    }
   },
   "outputs": [
    {
     "name": "stdout",
     "output_type": "stream",
     "text": [
      "Confusion_Matrix:\n",
      "[[748  66]\n",
      " [153 160]]\n",
      "              precision    recall  f1-score   support\n",
      "\n",
      "           0       0.83      0.92      0.87       814\n",
      "           1       0.71      0.51      0.59       313\n",
      "\n",
      "    accuracy                           0.81      1127\n",
      "   macro avg       0.77      0.72      0.73      1127\n",
      "weighted avg       0.80      0.81      0.79      1127\n",
      "\n",
      "Accuracy:0.805678793256433\n",
      "AUC_ROC:0.7150505137725585\n"
     ]
    }
   ],
   "source": [
    "modeling2(SVC) # acc up, auc down # accept"
   ]
  },
  {
   "cell_type": "code",
   "execution_count": 21,
   "metadata": {
    "ExecuteTime": {
     "end_time": "2020-04-03T17:24:06.588619Z",
     "start_time": "2020-04-03T17:24:04.443467Z"
    }
   },
   "outputs": [
    {
     "name": "stdout",
     "output_type": "stream",
     "text": [
      "Confusion_Matrix:\n",
      "[[742  72]\n",
      " [161 152]]\n",
      "              precision    recall  f1-score   support\n",
      "\n",
      "           0       0.82      0.91      0.86       814\n",
      "           1       0.68      0.49      0.57       313\n",
      "\n",
      "    accuracy                           0.79      1127\n",
      "   macro avg       0.75      0.70      0.72      1127\n",
      "weighted avg       0.78      0.79      0.78      1127\n",
      "\n",
      "Accuracy:0.7932564330079858\n",
      "AUC_ROC:0.6985854573713999\n"
     ]
    }
   ],
   "source": [
    "modeling2(RF) # all up  # reject"
   ]
  },
  {
   "cell_type": "code",
   "execution_count": 22,
   "metadata": {
    "ExecuteTime": {
     "end_time": "2020-04-03T17:24:13.936937Z",
     "start_time": "2020-04-03T17:24:13.358582Z"
    }
   },
   "outputs": [
    {
     "name": "stdout",
     "output_type": "stream",
     "text": [
      "Confusion_Matrix:\n",
      "[[723  91]\n",
      " [155 158]]\n",
      "              precision    recall  f1-score   support\n",
      "\n",
      "           0       0.82      0.89      0.85       814\n",
      "           1       0.63      0.50      0.56       313\n",
      "\n",
      "    accuracy                           0.78      1127\n",
      "   macro avg       0.73      0.70      0.71      1127\n",
      "weighted avg       0.77      0.78      0.77      1127\n",
      "\n",
      "Accuracy:0.7817213842058562\n",
      "AUC_ROC:0.6964993602373794\n"
     ]
    }
   ],
   "source": [
    "modeling2(LGBC) # acc up, auc down  # reject"
   ]
  },
  {
   "cell_type": "code",
   "execution_count": 23,
   "metadata": {
    "ExecuteTime": {
     "end_time": "2020-04-03T17:24:23.932467Z",
     "start_time": "2020-04-03T17:24:22.639273Z"
    }
   },
   "outputs": [
    {
     "name": "stdout",
     "output_type": "stream",
     "text": [
      "Confusion_Matrix:\n",
      "[[737  77]\n",
      " [150 163]]\n",
      "              precision    recall  f1-score   support\n",
      "\n",
      "           0       0.83      0.91      0.87       814\n",
      "           1       0.68      0.52      0.59       313\n",
      "\n",
      "    accuracy                           0.80      1127\n",
      "   macro avg       0.76      0.71      0.73      1127\n",
      "weighted avg       0.79      0.80      0.79      1127\n",
      "\n",
      "Accuracy:0.7985803016858918\n",
      "AUC_ROC:0.7130860892841723\n"
     ]
    }
   ],
   "source": [
    "modeling2(XGBC) # no difference # accept"
   ]
  },
  {
   "cell_type": "code",
   "execution_count": 25,
   "metadata": {
    "ExecuteTime": {
     "end_time": "2020-04-03T17:41:37.610892Z",
     "start_time": "2020-04-03T17:41:37.603566Z"
    }
   },
   "outputs": [
    {
     "data": {
      "text/plain": [
       "(0.8021295474711624, 0.712593511315556)"
      ]
     },
     "execution_count": 25,
     "metadata": {},
     "output_type": "execute_result"
    }
   ],
   "source": [
    "# for accepted 3 models: XGBC,SVC,LR\n",
    "acc_avg = (0.7985803016858918+0.805678793256433+0.8021295474711624)/3\n",
    "auc_avg = (0.7130860892841723+0.7150505137725585+0.7096439308899373)/3\n",
    "acc_avg,auc_avg"
   ]
  },
  {
   "cell_type": "markdown",
   "metadata": {},
   "source": [
    "### Final tuning"
   ]
  },
  {
   "cell_type": "code",
   "execution_count": 27,
   "metadata": {
    "ExecuteTime": {
     "end_time": "2020-04-03T17:53:11.105124Z",
     "start_time": "2020-04-03T17:53:11.092522Z"
    }
   },
   "outputs": [],
   "source": [
    "# For imblance dataset, auc_roc ignore the imbalance, which is a better metric than accuracy\n",
    "# So the class_weight modification solution is better"
   ]
  },
  {
   "cell_type": "code",
   "execution_count": 32,
   "metadata": {
    "ExecuteTime": {
     "end_time": "2020-04-03T18:34:03.290961Z",
     "start_time": "2020-04-03T18:33:38.982811Z"
    }
   },
   "outputs": [
    {
     "data": {
      "text/plain": [
       "GridSearchCV(cv=3, error_score=nan,\n",
       "             estimator=SVC(C=1.0, break_ties=False, cache_size=200,\n",
       "                           class_weight=None, coef0=0.0,\n",
       "                           decision_function_shape='ovr', degree=3,\n",
       "                           gamma='scale', kernel='rbf', max_iter=-1,\n",
       "                           probability=False, random_state=None, shrinking=True,\n",
       "                           tol=0.001, verbose=False),\n",
       "             iid='deprecated', n_jobs=-1,\n",
       "             param_grid=[{'C': [0.1, 1, 10, 100],\n",
       "                          'class_weight': [{0: 1, 1: 2.7683253076511503}],\n",
       "                          'gamma': [0.01, 0.001, 0.0001], 'kernel': ['rbf']}],\n",
       "             pre_dispatch='2*n_jobs', refit=True, return_train_score=False,\n",
       "             scoring=None, verbose=0)"
      ]
     },
     "execution_count": 32,
     "metadata": {},
     "output_type": "execute_result"
    }
   ],
   "source": [
    "params_SVC = [{'kernel': ['rbf'],       # Gaussian kernel\n",
    "               # punishment, inverse of regularization, bigger C -> overfitting\n",
    "               'C': [0.1, 1, 10, 100],\n",
    "               'class_weight': [{0: 1, 1: ratio}],\n",
    "               'gamma': [1e-2, 1e-3, 1e-4]  # bigger gamma -> overfitting\n",
    "               }\n",
    "              ]\n",
    "svm = SVC()\n",
    "clf_SVC = GridSearchCV(svm, param_grid=params_SVC, cv=3,n_jobs=-1)\n",
    "clf_SVC.fit(X_train_origin, y_train_origin)"
   ]
  },
  {
   "cell_type": "code",
   "execution_count": 33,
   "metadata": {
    "ExecuteTime": {
     "end_time": "2020-04-03T18:34:03.364201Z",
     "start_time": "2020-04-03T18:34:03.346595Z"
    }
   },
   "outputs": [
    {
     "data": {
      "text/plain": [
       "{'C': 100,\n",
       " 'class_weight': {0: 1, 1: 2.7683253076511503},\n",
       " 'gamma': 0.01,\n",
       " 'kernel': 'rbf'}"
      ]
     },
     "execution_count": 33,
     "metadata": {},
     "output_type": "execute_result"
    }
   ],
   "source": [
    "clf_SVC.best_params_"
   ]
  },
  {
   "cell_type": "code",
   "execution_count": 39,
   "metadata": {
    "ExecuteTime": {
     "end_time": "2020-04-03T18:35:52.916320Z",
     "start_time": "2020-04-03T18:35:52.571460Z"
    }
   },
   "outputs": [
    {
     "data": {
      "text/plain": [
       "{'C': 0.01, 'class_weight': {0: 1, 1: 2.7683253076511503}}"
      ]
     },
     "execution_count": 39,
     "metadata": {},
     "output_type": "execute_result"
    }
   ],
   "source": [
    "params_LR = {'C': [0.001, 0.01, 0.1, 1, 10],  # C is the inverse of lambda\n",
    "             'class_weight': [{0: 1, 1: ratio}],\n",
    "             }\n",
    "lr = LR()\n",
    "clf_LR = GridSearchCV(lr, param_grid=params_LR, cv=5)\n",
    "clf_LR.fit(X_train_origin, y_train_origin)\n",
    "clf_LR.best_params_"
   ]
  },
  {
   "cell_type": "code",
   "execution_count": 43,
   "metadata": {
    "ExecuteTime": {
     "end_time": "2020-04-03T20:00:50.274184Z",
     "start_time": "2020-04-03T19:33:41.014203Z"
    }
   },
   "outputs": [
    {
     "data": {
      "text/plain": [
       "{'subsample': 0.85,\n",
       " 'scale_pos_weight': 1,\n",
       " 'reg_lambda': 0.8,\n",
       " 'reg_alpha': 0.25,\n",
       " 'n_estimators': 500,\n",
       " 'min_child_weight': 5,\n",
       " 'max_depth': 10,\n",
       " 'max_delta_step': 1,\n",
       " 'learning_rate': 0.01,\n",
       " 'colsample_bytree': 0.9,\n",
       " 'class_weight': {0: 1, 1: 2.7683253076511503}}"
      ]
     },
     "execution_count": 43,
     "metadata": {},
     "output_type": "execute_result"
    }
   ],
   "source": [
    "params_XGB = {\n",
    "    'max_depth': [5, 10, 15, 20, 25],\n",
    "    'learning_rate': [0.01, 0.02, 0.05, 0.1, 0.15],\n",
    "    'n_estimators': [500, 1000, 2000, 3000, 5000],\n",
    "    'min_child_weight': [0, 2, 5, 10, 20],\n",
    "    'max_delta_step': [0, 0.2, 0.6, 1, 2],\n",
    "    'subsample': [0.6, 0.7, 0.8, 0.85, 0.95],\n",
    "    'colsample_bytree': [0.5, 0.6, 0.7, 0.8, 0.9],\n",
    "    'reg_alpha': [0, 0.25, 0.5, 0.75, 1],\n",
    "    'reg_lambda': [0.2, 0.4, 0.6, 0.8, 1],\n",
    "    'scale_pos_weight': [0.2, 0.4, 0.6, 0.8, 1],\n",
    "    'class_weight': [{0: 1, 1: ratio}]\n",
    "}\n",
    "xgbc = XGBC()\n",
    "clf_XGBC = RandomizedSearchCV(xgbc, n_iter=20, param_distributions=params_XGB, cv=3,n_jobs=-1)\n",
    "clf_XGBC.fit(X_train_origin, y_train_origin)\n",
    "clf_XGBC.best_params_"
   ]
  },
  {
   "cell_type": "markdown",
   "metadata": {},
   "source": [
    "### Train best models"
   ]
  },
  {
   "cell_type": "code",
   "execution_count": 50,
   "metadata": {
    "ExecuteTime": {
     "end_time": "2020-04-03T21:46:16.547703Z",
     "start_time": "2020-04-03T21:46:14.250403Z"
    }
   },
   "outputs": [
    {
     "data": {
      "text/plain": [
       "['../models/svc.m']"
      ]
     },
     "execution_count": 50,
     "metadata": {},
     "output_type": "execute_result"
    }
   ],
   "source": [
    "best_svc = SVC(C=100,gamma=0.01,kernel='rbf',class_weight={0: 1, 1: ratio})\n",
    "best_svc.fit(X_train_origin,y_train_origin)\n",
    "joblib.dump(best_svc, '../models/svc.m')"
   ]
  },
  {
   "cell_type": "code",
   "execution_count": 51,
   "metadata": {
    "ExecuteTime": {
     "end_time": "2020-04-03T21:46:16.596485Z",
     "start_time": "2020-04-03T21:46:16.551146Z"
    }
   },
   "outputs": [
    {
     "data": {
      "text/plain": [
       "['../models/lr.m']"
      ]
     },
     "execution_count": 51,
     "metadata": {},
     "output_type": "execute_result"
    }
   ],
   "source": [
    "best_lr = LR(C=0.01,class_weight={0: 1, 1: ratio})\n",
    "best_lr.fit(X_train_origin,y_train_origin)\n",
    "joblib.dump(best_lr, '../models/lr.m')"
   ]
  },
  {
   "cell_type": "code",
   "execution_count": 64,
   "metadata": {
    "ExecuteTime": {
     "end_time": "2020-04-03T21:54:42.709794Z",
     "start_time": "2020-04-03T21:54:17.383652Z"
    }
   },
   "outputs": [
    {
     "data": {
      "text/plain": [
       "['../models/xgbc.m']"
      ]
     },
     "execution_count": 64,
     "metadata": {},
     "output_type": "execute_result"
    }
   ],
   "source": [
    "best_xgbc = XGBC(class_weight={0: 1, 1: ratio}, subsample=0.85, scale_pos_weight=1, reg_lambda=0.8, reg_alpha=0.25,\n",
    "                 n_estimators=500, min_child_weight=5, max_depth=10, max_delta_step=1,\n",
    "                 learning_rate=0.01, colsample_bytree=0.9)\n",
    "best_xgbc.fit(X_train_origin, y_train_origin)\n",
    "joblib.dump(best_xgbc, '../models/xgbc.m')"
   ]
  },
  {
   "cell_type": "markdown",
   "metadata": {
    "ExecuteTime": {
     "end_time": "2020-04-03T20:05:11.355878Z",
     "start_time": "2020-04-03T20:05:11.338982Z"
    }
   },
   "source": [
    "### Combine 3 best models into a voter"
   ]
  },
  {
   "cell_type": "code",
   "execution_count": 63,
   "metadata": {
    "ExecuteTime": {
     "end_time": "2020-04-03T21:54:17.379632Z",
     "start_time": "2020-04-03T21:53:49.144160Z"
    }
   },
   "outputs": [
    {
     "data": {
      "text/plain": [
       "['../models/voter.m']"
      ]
     },
     "execution_count": 63,
     "metadata": {},
     "output_type": "execute_result"
    }
   ],
   "source": [
    "voting_clf = VotingClassifier(\n",
    "    estimators=[('svc', best_svc), ('lr', best_lr), ('xgbc', best_xgbc)], voting='hard')\n",
    "voting_clf.fit(X_train_origin, y_train_origin)\n",
    "joblib.dump(voting_clf, '../models/voter.m')"
   ]
  },
  {
   "cell_type": "code",
   "execution_count": null,
   "metadata": {},
   "outputs": [],
   "source": []
  }
 ],
 "metadata": {
  "kernelspec": {
   "display_name": "Python 3",
   "language": "python",
   "name": "python3"
  },
  "language_info": {
   "codemirror_mode": {
    "name": "ipython",
    "version": 3
   },
   "file_extension": ".py",
   "mimetype": "text/x-python",
   "name": "python",
   "nbconvert_exporter": "python",
   "pygments_lexer": "ipython3",
   "version": "3.6.9"
  },
  "latex_envs": {
   "LaTeX_envs_menu_present": true,
   "autoclose": false,
   "autocomplete": true,
   "bibliofile": "biblio.bib",
   "cite_by": "apalike",
   "current_citInitial": 1,
   "eqLabelWithNumbers": true,
   "eqNumInitial": 1,
   "hotkeys": {
    "equation": "Ctrl-E",
    "itemize": "Ctrl-I"
   },
   "labels_anchors": false,
   "latex_user_defs": false,
   "report_style_numbering": false,
   "user_envs_cfg": false
  },
  "toc": {
   "base_numbering": 1,
   "nav_menu": {},
   "number_sections": true,
   "sideBar": true,
   "skip_h1_title": false,
   "title_cell": "Table of Contents",
   "title_sidebar": "Contents",
   "toc_cell": false,
   "toc_position": {},
   "toc_section_display": true,
   "toc_window_display": false
  }
 },
 "nbformat": 4,
 "nbformat_minor": 4
}
