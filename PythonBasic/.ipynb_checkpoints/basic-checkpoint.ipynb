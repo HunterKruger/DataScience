{
 "cells": [
  {
   "cell_type": "code",
   "execution_count": 1,
   "metadata": {
    "ExecuteTime": {
     "end_time": "2020-05-06T20:06:44.032688Z",
     "start_time": "2020-05-06T20:06:44.026141Z"
    }
   },
   "outputs": [
    {
     "name": "stdout",
     "output_type": "stream",
     "text": [
      "Hello world!\n"
     ]
    }
   ],
   "source": [
    "print(\"Hello world!\")"
   ]
  },
  {
   "cell_type": "code",
   "execution_count": 2,
   "metadata": {
    "ExecuteTime": {
     "end_time": "2020-05-06T20:06:44.054372Z",
     "start_time": "2020-05-06T20:06:44.043228Z"
    }
   },
   "outputs": [
    {
     "name": "stdout",
     "output_type": "stream",
     "text": [
      "   /|\n",
      "  / |\n",
      " /  |\n",
      "/___| \n"
     ]
    }
   ],
   "source": [
    "print(\"   /|\")\n",
    "print(\"  / |\")\n",
    "print(\" /  |\")\n",
    "print(\"/___| \")"
   ]
  },
  {
   "cell_type": "code",
   "execution_count": 3,
   "metadata": {
    "ExecuteTime": {
     "end_time": "2020-05-06T20:06:44.072273Z",
     "start_time": "2020-05-06T20:06:44.063062Z"
    }
   },
   "outputs": [
    {
     "name": "stdout",
     "output_type": "stream",
     "text": [
      "My name is Yuan, and I am 21 years old!\n",
      "My name is Yuan, and I am 21 years old!\n"
     ]
    }
   ],
   "source": [
    "name = \"Yuan\"\n",
    "age = \"21\"\n",
    "print(\"My name is \" + name + \", and I am \" + age + \" years old!\")\n",
    "print(\"My name is %s, and I am %s years old!\"%(name,age))"
   ]
  },
  {
   "cell_type": "code",
   "execution_count": 4,
   "metadata": {
    "ExecuteTime": {
     "end_time": "2020-05-06T20:06:44.082998Z",
     "start_time": "2020-05-06T20:06:44.077503Z"
    }
   },
   "outputs": [
    {
     "name": "stdout",
     "output_type": "stream",
     "text": [
      "My name is Tom, and I am 23 years old!\n"
     ]
    }
   ],
   "source": [
    "name = \"Tom\"\n",
    "age2 = 23\n",
    "print(\"My name is \" + name + \", and I am \" + str(age2) + \" years old!\")"
   ]
  },
  {
   "cell_type": "code",
   "execution_count": 5,
   "metadata": {
    "ExecuteTime": {
     "end_time": "2020-05-06T20:06:44.095010Z",
     "start_time": "2020-05-06T20:06:44.087879Z"
    }
   },
   "outputs": [
    {
     "name": "stdout",
     "output_type": "stream",
     "text": [
      "15\n"
     ]
    }
   ],
   "source": [
    "print(5 + 10)"
   ]
  },
  {
   "cell_type": "code",
   "execution_count": 6,
   "metadata": {
    "ExecuteTime": {
     "end_time": "2020-05-06T20:06:44.105499Z",
     "start_time": "2020-05-06T20:06:44.099450Z"
    }
   },
   "outputs": [
    {
     "name": "stdout",
     "output_type": "stream",
     "text": [
      "21 120\n"
     ]
    }
   ],
   "source": [
    "print(3 * 7, (17 - 2) * 8)"
   ]
  },
  {
   "cell_type": "code",
   "execution_count": 7,
   "metadata": {
    "ExecuteTime": {
     "end_time": "2020-05-06T20:06:44.120668Z",
     "start_time": "2020-05-06T20:06:44.113789Z"
    }
   },
   "outputs": [
    {
     "name": "stdout",
     "output_type": "stream",
     "text": [
      "65536\n"
     ]
    }
   ],
   "source": [
    "print(2 ** 16)  #(2 to the power of 16)"
   ]
  },
  {
   "cell_type": "code",
   "execution_count": 8,
   "metadata": {
    "ExecuteTime": {
     "end_time": "2020-05-06T20:06:44.148952Z",
     "start_time": "2020-05-06T20:06:44.139523Z"
    }
   },
   "outputs": [
    {
     "name": "stdout",
     "output_type": "stream",
     "text": [
      "65536\n"
     ]
    }
   ],
   "source": [
    "print(pow(2, 16))  #(2 to the power of 16)"
   ]
  },
  {
   "cell_type": "code",
   "execution_count": 9,
   "metadata": {
    "ExecuteTime": {
     "end_time": "2020-05-06T20:06:44.169564Z",
     "start_time": "2020-05-06T20:06:44.156229Z"
    }
   },
   "outputs": [
    {
     "name": "stdout",
     "output_type": "stream",
     "text": [
      "3\n"
     ]
    }
   ],
   "source": [
    "print(round(3.4)) "
   ]
  },
  {
   "cell_type": "code",
   "execution_count": 10,
   "metadata": {
    "ExecuteTime": {
     "end_time": "2020-05-06T20:06:44.187104Z",
     "start_time": "2020-05-06T20:06:44.177800Z"
    }
   },
   "outputs": [
    {
     "name": "stdout",
     "output_type": "stream",
     "text": [
      "4\n"
     ]
    }
   ],
   "source": [
    "print(round(3.6)) "
   ]
  },
  {
   "cell_type": "code",
   "execution_count": 11,
   "metadata": {
    "ExecuteTime": {
     "end_time": "2020-05-06T20:06:44.209239Z",
     "start_time": "2020-05-06T20:06:44.195657Z"
    }
   },
   "outputs": [
    {
     "name": "stdout",
     "output_type": "stream",
     "text": [
      "4\n"
     ]
    }
   ],
   "source": [
    "print(abs(-4))"
   ]
  },
  {
   "cell_type": "code",
   "execution_count": 12,
   "metadata": {
    "ExecuteTime": {
     "end_time": "2020-05-06T20:06:44.225562Z",
     "start_time": "2020-05-06T20:06:44.217687Z"
    }
   },
   "outputs": [
    {
     "name": "stdout",
     "output_type": "stream",
     "text": [
      "12.333333333333334\n"
     ]
    }
   ],
   "source": [
    "print(37 / 3)"
   ]
  },
  {
   "cell_type": "code",
   "execution_count": 13,
   "metadata": {
    "ExecuteTime": {
     "end_time": "2020-05-06T20:06:44.239609Z",
     "start_time": "2020-05-06T20:06:44.231508Z"
    }
   },
   "outputs": [
    {
     "name": "stdout",
     "output_type": "stream",
     "text": [
      "12\n"
     ]
    }
   ],
   "source": [
    "print(37 // 3)"
   ]
  },
  {
   "cell_type": "code",
   "execution_count": 14,
   "metadata": {
    "ExecuteTime": {
     "end_time": "2020-05-06T20:06:44.259166Z",
     "start_time": "2020-05-06T20:06:44.253032Z"
    }
   },
   "outputs": [
    {
     "name": "stdout",
     "output_type": "stream",
     "text": [
      "1\n"
     ]
    }
   ],
   "source": [
    "print(37 % 3)"
   ]
  },
  {
   "cell_type": "code",
   "execution_count": 15,
   "metadata": {
    "ExecuteTime": {
     "end_time": "2020-05-06T20:06:44.271013Z",
     "start_time": "2020-05-06T20:06:44.263924Z"
    }
   },
   "outputs": [
    {
     "name": "stdout",
     "output_type": "stream",
     "text": [
      "Fuck\"You\n"
     ]
    }
   ],
   "source": [
    "print(\"Fuck\\\"You\")"
   ]
  },
  {
   "cell_type": "code",
   "execution_count": 16,
   "metadata": {
    "ExecuteTime": {
     "end_time": "2020-05-06T20:06:44.287126Z",
     "start_time": "2020-05-06T20:06:44.281003Z"
    }
   },
   "outputs": [
    {
     "name": "stdout",
     "output_type": "stream",
     "text": [
      "Fuck\n",
      "You\n"
     ]
    }
   ],
   "source": [
    "print(\"Fuck\\nYou\")"
   ]
  },
  {
   "cell_type": "code",
   "execution_count": 17,
   "metadata": {
    "ExecuteTime": {
     "end_time": "2020-05-06T20:06:44.301619Z",
     "start_time": "2020-05-06T20:06:44.294548Z"
    }
   },
   "outputs": [
    {
     "name": "stdout",
     "output_type": "stream",
     "text": [
      "You Asshole\n"
     ]
    }
   ],
   "source": [
    "curseA = \"Ass\"\n",
    "curseB = \"hole\"\n",
    "print(\"You \"+curseA+curseB)"
   ]
  },
  {
   "cell_type": "code",
   "execution_count": 18,
   "metadata": {
    "ExecuteTime": {
     "end_time": "2020-05-06T20:06:44.322039Z",
     "start_time": "2020-05-06T20:06:44.311079Z"
    }
   },
   "outputs": [
    {
     "name": "stdout",
     "output_type": "stream",
     "text": [
      "ass\n",
      "ASS\n",
      "True\n",
      "True\n"
     ]
    }
   ],
   "source": [
    "print(curseA.lower())\n",
    "print(curseA.upper())\n",
    "print(curseA.upper().isupper())\n",
    "print(curseA.lower().islower())"
   ]
  },
  {
   "cell_type": "code",
   "execution_count": 19,
   "metadata": {
    "ExecuteTime": {
     "end_time": "2020-05-06T20:06:44.336747Z",
     "start_time": "2020-05-06T20:06:44.327333Z"
    }
   },
   "outputs": [
    {
     "name": "stdout",
     "output_type": "stream",
     "text": [
      "12\n",
      "e\n",
      "2\n",
      "6\n",
      "MotherSucker\n"
     ]
    }
   ],
   "source": [
    "curseC = \"MotherFucker\"\n",
    "print(len(curseC))\n",
    "print(curseC[4])\n",
    "print(curseC.index(\"t\"))\n",
    "print(curseC.index(\"Fuc\"))\n",
    "print(curseC.replace(\"Fucker\", \"Sucker\"))"
   ]
  },
  {
   "cell_type": "code",
   "execution_count": 20,
   "metadata": {
    "ExecuteTime": {
     "end_time": "2020-05-06T20:06:50.817595Z",
     "start_time": "2020-05-06T20:06:44.344372Z"
    }
   },
   "outputs": [
    {
     "name": "stdout",
     "output_type": "stream",
     "text": [
      "a\n",
      "d\n",
      "ad\n"
     ]
    }
   ],
   "source": [
    "a = input()   #1\n",
    "b = input()   #2\n",
    "print(a + b)  #12"
   ]
  },
  {
   "cell_type": "code",
   "execution_count": 21,
   "metadata": {
    "ExecuteTime": {
     "end_time": "2020-05-06T20:06:50.845485Z",
     "start_time": "2020-05-06T20:06:50.821288Z"
    }
   },
   "outputs": [
    {
     "name": "stdout",
     "output_type": "stream",
     "text": [
      "3\n",
      "4\n",
      "6.0\n"
     ]
    }
   ],
   "source": [
    "from math import *\n",
    "print(floor(3.6))   #3\n",
    "print(ceil(3.6))   #4\n",
    "print(sqrt(36))   #6"
   ]
  },
  {
   "cell_type": "code",
   "execution_count": 22,
   "metadata": {
    "ExecuteTime": {
     "end_time": "2020-05-06T20:06:53.246991Z",
     "start_time": "2020-05-06T20:06:50.878982Z"
    }
   },
   "outputs": [
    {
     "name": "stdout",
     "output_type": "stream",
     "text": [
      "What s your name?yuan\n",
      "Hello yuan\n"
     ]
    }
   ],
   "source": [
    "name2 = input(\"What s your name?\")\n",
    "print(\"Hello \" + name2)"
   ]
  },
  {
   "cell_type": "code",
   "execution_count": 23,
   "metadata": {
    "ExecuteTime": {
     "end_time": "2020-05-06T20:06:53.266947Z",
     "start_time": "2020-05-06T20:06:53.250799Z"
    }
   },
   "outputs": [
    {
     "name": "stdout",
     "output_type": "stream",
     "text": [
      "6.6\n",
      "6\n",
      "6.6\n"
     ]
    }
   ],
   "source": [
    "num = 3.6\n",
    "num2 = 3\n",
    "result = num + num2\n",
    "print(result) #6.6\n",
    "print(int(result)) #6\n",
    "print(float(result)) #6.6"
   ]
  },
  {
   "cell_type": "code",
   "execution_count": 24,
   "metadata": {
    "ExecuteTime": {
     "end_time": "2020-05-06T20:07:05.190880Z",
     "start_time": "2020-05-06T20:06:53.273863Z"
    }
   },
   "outputs": [
    {
     "name": "stdout",
     "output_type": "stream",
     "text": [
      "Enter a color:red\n",
      "Enter a plural noun:dicks\n",
      "Enter a celebrity:jack\n",
      "Roses are red\n",
      "dicks are blue\n",
      "I love jack\n"
     ]
    }
   ],
   "source": [
    "color = input(\"Enter a color:\")\n",
    "pluralNoun = input(\"Enter a plural noun:\")\n",
    "celebrity = input(\"Enter a celebrity:\")\n",
    "print(\"Roses are \" + color)\n",
    "print(pluralNoun + \" are blue\")\n",
    "print(\"I love \" + celebrity)"
   ]
  },
  {
   "cell_type": "code",
   "execution_count": null,
   "metadata": {},
   "outputs": [],
   "source": []
  }
 ],
 "metadata": {
  "kernelspec": {
   "display_name": "Python 3",
   "language": "python",
   "name": "python3"
  },
  "language_info": {
   "codemirror_mode": {
    "name": "ipython",
    "version": 3
   },
   "file_extension": ".py",
   "mimetype": "text/x-python",
   "name": "python",
   "nbconvert_exporter": "python",
   "pygments_lexer": "ipython3",
   "version": "3.6.8"
  },
  "latex_envs": {
   "LaTeX_envs_menu_present": true,
   "autoclose": false,
   "autocomplete": true,
   "bibliofile": "biblio.bib",
   "cite_by": "apalike",
   "current_citInitial": 1,
   "eqLabelWithNumbers": true,
   "eqNumInitial": 1,
   "hotkeys": {
    "equation": "Ctrl-E",
    "itemize": "Ctrl-I"
   },
   "labels_anchors": false,
   "latex_user_defs": false,
   "report_style_numbering": false,
   "user_envs_cfg": false
  },
  "toc": {
   "base_numbering": 1,
   "nav_menu": {},
   "number_sections": true,
   "sideBar": true,
   "skip_h1_title": false,
   "title_cell": "Table of Contents",
   "title_sidebar": "Contents",
   "toc_cell": false,
   "toc_position": {},
   "toc_section_display": true,
   "toc_window_display": false
  }
 },
 "nbformat": 4,
 "nbformat_minor": 2
}
