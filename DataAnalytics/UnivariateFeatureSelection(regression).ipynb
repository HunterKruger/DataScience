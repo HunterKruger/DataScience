{
 "cells": [
  {
   "cell_type": "code",
   "execution_count": 25,
   "metadata": {
    "ExecuteTime": {
     "end_time": "2020-05-14T16:53:05.910723Z",
     "start_time": "2020-05-14T16:53:05.783704Z"
    }
   },
   "outputs": [],
   "source": [
    "import pandas as pd\n",
    "from pprint import pprint\n",
    "from sklearn.feature_selection import SelectKBest\n",
    "import seaborn as sns\n",
    "from matplotlib import pyplot as plt"
   ]
  },
  {
   "cell_type": "code",
   "execution_count": 3,
   "metadata": {
    "ExecuteTime": {
     "end_time": "2020-05-14T16:29:44.722007Z",
     "start_time": "2020-05-14T16:29:44.702273Z"
    }
   },
   "outputs": [],
   "source": [
    "data = pd.read_csv('winequality-red.csv')"
   ]
  },
  {
   "cell_type": "markdown",
   "metadata": {},
   "source": [
    "## Data preprocessing"
   ]
  },
  {
   "cell_type": "code",
   "execution_count": 4,
   "metadata": {
    "ExecuteTime": {
     "end_time": "2020-05-14T16:29:47.625030Z",
     "start_time": "2020-05-14T16:29:47.618267Z"
    }
   },
   "outputs": [],
   "source": [
    "def data_overview(df):\n",
    "    print(\"Rows :  \", df.shape[0])\n",
    "    print(\"Columns:  \", df.shape[1])\n",
    "    print()\n",
    "    print(df.dtypes)\n",
    "    print()\n",
    "    print('Missing rates : ')\n",
    "    print(df.isnull().sum().sort_values(ascending=False)[:10]/df.shape[0])\n",
    "    print()\n",
    "    print('Unique values:')\n",
    "    print(df.nunique().sort_values(ascending=False)[:10])\n",
    "    print()\n",
    "    print(\"List of columns:\")\n",
    "    pprint(df.columns.to_list())"
   ]
  },
  {
   "cell_type": "code",
   "execution_count": 5,
   "metadata": {
    "ExecuteTime": {
     "end_time": "2020-05-14T16:29:48.167905Z",
     "start_time": "2020-05-14T16:29:48.122513Z"
    },
    "scrolled": true
   },
   "outputs": [
    {
     "name": "stdout",
     "output_type": "stream",
     "text": [
      "Rows :   1599\n",
      "Columns:   12\n",
      "\n",
      "fixed acidity           float64\n",
      "volatile acidity        float64\n",
      "citric acid             float64\n",
      "residual sugar          float64\n",
      "chlorides               float64\n",
      "free sulfur dioxide     float64\n",
      "total sulfur dioxide    float64\n",
      "density                 float64\n",
      "pH                      float64\n",
      "sulphates               float64\n",
      "alcohol                 float64\n",
      "quality                   int64\n",
      "dtype: object\n",
      "\n",
      "Missing rates : \n",
      "quality                 0.0\n",
      "alcohol                 0.0\n",
      "sulphates               0.0\n",
      "pH                      0.0\n",
      "density                 0.0\n",
      "total sulfur dioxide    0.0\n",
      "free sulfur dioxide     0.0\n",
      "chlorides               0.0\n",
      "residual sugar          0.0\n",
      "citric acid             0.0\n",
      "dtype: float64\n",
      "\n",
      "Unique values:\n",
      "density                 436\n",
      "chlorides               153\n",
      "total sulfur dioxide    144\n",
      "volatile acidity        143\n",
      "sulphates                96\n",
      "fixed acidity            96\n",
      "residual sugar           91\n",
      "pH                       89\n",
      "citric acid              80\n",
      "alcohol                  65\n",
      "dtype: int64\n",
      "\n",
      "List of columns:\n",
      "['fixed acidity',\n",
      " 'volatile acidity',\n",
      " 'citric acid',\n",
      " 'residual sugar',\n",
      " 'chlorides',\n",
      " 'free sulfur dioxide',\n",
      " 'total sulfur dioxide',\n",
      " 'density',\n",
      " 'pH',\n",
      " 'sulphates',\n",
      " 'alcohol',\n",
      " 'quality']\n"
     ]
    }
   ],
   "source": [
    "data_overview(data)"
   ]
  },
  {
   "cell_type": "code",
   "execution_count": 6,
   "metadata": {
    "ExecuteTime": {
     "end_time": "2020-05-14T16:34:02.412585Z",
     "start_time": "2020-05-14T16:34:02.405677Z"
    }
   },
   "outputs": [],
   "source": [
    "X = data.drop('quality', axis=1)\n",
    "y = data['quality']"
   ]
  },
  {
   "cell_type": "markdown",
   "metadata": {
    "ExecuteTime": {
     "end_time": "2020-05-14T13:07:30.025104Z",
     "start_time": "2020-05-14T13:07:30.021551Z"
    }
   },
   "source": [
    "## Feature selection"
   ]
  },
  {
   "cell_type": "markdown",
   "metadata": {},
   "source": [
    "### Variance Threshold\n",
    "+ numerical features"
   ]
  },
  {
   "cell_type": "code",
   "execution_count": 7,
   "metadata": {
    "ExecuteTime": {
     "end_time": "2020-05-14T16:34:04.941090Z",
     "start_time": "2020-05-14T16:34:04.936794Z"
    }
   },
   "outputs": [],
   "source": [
    "from sklearn.feature_selection import VarianceThreshold"
   ]
  },
  {
   "cell_type": "code",
   "execution_count": 9,
   "metadata": {
    "ExecuteTime": {
     "end_time": "2020-05-14T16:34:09.523051Z",
     "start_time": "2020-05-14T16:34:09.505256Z"
    }
   },
   "outputs": [
    {
     "data": {
      "text/plain": [
       "VarianceThreshold(threshold=3)"
      ]
     },
     "execution_count": 9,
     "metadata": {},
     "output_type": "execute_result"
    }
   ],
   "source": [
    "vt = VarianceThreshold(threshold=3)\n",
    "vt.fit(X)"
   ]
  },
  {
   "cell_type": "code",
   "execution_count": 10,
   "metadata": {
    "ExecuteTime": {
     "end_time": "2020-05-14T16:34:14.595006Z",
     "start_time": "2020-05-14T16:34:14.589041Z"
    }
   },
   "outputs": [
    {
     "name": "stdout",
     "output_type": "stream",
     "text": [
      "{'fixed acidity': 3.0295205688671114, 'volatile acidity': 0.0320423261333205, 'citric acid': 0.03792375112494089, 'residual sugar': 1.9866539202698996, 'chlorides': 0.0022137573233114347, 'free sulfur dioxide': 109.34645676374501, 'total sulfur dioxide': 1081.42563558916, 'density': 3.5598017926307083e-06, 'pH': 0.023820274241131787, 'sulphates': 0.02871464701398349, 'alcohol': 1.1349371714889036}\n"
     ]
    }
   ],
   "source": [
    "# check variances for all num_cols\n",
    "dict_variance = {}\n",
    "for i, j in zip(X.columns.values, vt.variances_):\n",
    "    dict_variance[i] = j\n",
    "print(dict_variance)"
   ]
  },
  {
   "cell_type": "code",
   "execution_count": 12,
   "metadata": {
    "ExecuteTime": {
     "end_time": "2020-05-14T16:35:11.125724Z",
     "start_time": "2020-05-14T16:35:11.115718Z"
    }
   },
   "outputs": [
    {
     "name": "stdout",
     "output_type": "stream",
     "text": [
      "['fixed acidity', 'free sulfur dioxide', 'total sulfur dioxide']\n"
     ]
    }
   ],
   "source": [
    "# check filtered num_cols\n",
    "ls = list()\n",
    "for i,j in dict_variance.items():\n",
    "    if j>=3:\n",
    "        ls.append(i)\n",
    "print(ls)\n",
    "\n",
    "X_filtered = pd.DataFrame(vt.fit_transform(X),columns=ls)"
   ]
  },
  {
   "cell_type": "markdown",
   "metadata": {},
   "source": [
    "### Pearson Correlation"
   ]
  },
  {
   "cell_type": "code",
   "execution_count": 31,
   "metadata": {
    "ExecuteTime": {
     "end_time": "2020-05-14T16:57:12.865938Z",
     "start_time": "2020-05-14T16:57:11.714615Z"
    }
   },
   "outputs": [
    {
     "data": {
      "image/png": "[encoded data removed]",
      "text/plain": [
       "<Figure size 720x720 with 2 Axes>"
      ]
     },
     "metadata": {
      "needs_background": "light"
     },
     "output_type": "display_data"
    }
   ],
   "source": [
    "# method{‘pearson’, ‘kendall’, ‘spearman’}\n",
    "correlations = pd.concat([y,X],axis=1).corr(method='pearson')\n",
    "fig, ax = plt.subplots(figsize=(10, 10))\n",
    "sns.heatmap(correlations, vmax=1.0, center=0, fmt='.2f',\n",
    "            square=True, linewidths=.5, annot=True, cbar_kws={\"shrink\": .70}, cmap='coolwarm')\n",
    "plt.show()    "
   ]
  },
  {
   "cell_type": "markdown",
   "metadata": {},
   "source": [
    "+ choose features having high correlation with the target\n",
    "    + eg: alcohol ...\n",
    "+ delete the feature having high correlation with another feature\n",
    "    + eg: critic acid & fixed acidity, drop critic acid\n",
    "    + eg: density & fixed acidity, drop fixed acidity\n",
    "    + eg: pH & fixed acidity,drop fixed acidity"
   ]
  },
  {
   "cell_type": "code",
   "execution_count": 34,
   "metadata": {
    "ExecuteTime": {
     "end_time": "2020-05-14T17:09:31.148109Z",
     "start_time": "2020-05-14T17:09:31.138616Z"
    }
   },
   "outputs": [
    {
     "data": {
      "text/plain": [
       "quality                 3.079591\n",
       "fixed acidity           4.123043\n",
       "volatile acidity        3.069612\n",
       "citric acid             4.224007\n",
       "residual sugar          2.208228\n",
       "chlorides               2.654364\n",
       "free sulfur dioxide     2.349599\n",
       "total sulfur dioxide    2.714744\n",
       "density                 3.865456\n",
       "pH                      3.749081\n",
       "sulphates               2.918300\n",
       "alcohol                 3.183711\n",
       "dtype: float64"
      ]
     },
     "execution_count": 34,
     "metadata": {},
     "output_type": "execute_result"
    }
   ],
   "source": [
    "correlations.abs().sum() # choose the bigger feature to drop"
   ]
  },
  {
   "cell_type": "markdown",
   "metadata": {},
   "source": [
    "### Mutual Information\n",
    "+ categorical or numerical features\n",
    "+ use mutual_info_classif for classification tasks\n",
    "+ use mutual_info_regression for regression tasks\n",
    "+ use an boolean array to index categorical features, send it to discrete_features\n",
    "+ pro: can detect inter-variable relations"
   ]
  },
  {
   "cell_type": "code",
   "execution_count": 13,
   "metadata": {
    "ExecuteTime": {
     "end_time": "2020-05-14T16:46:57.092258Z",
     "start_time": "2020-05-14T16:46:56.815346Z"
    }
   },
   "outputs": [],
   "source": [
    "from sklearn.feature_selection import mutual_info_regression\n",
    "mir = mutual_info_regression(X, y, discrete_features='auto', n_neighbors=3, copy=True, random_state=None)"
   ]
  },
  {
   "cell_type": "code",
   "execution_count": 14,
   "metadata": {
    "ExecuteTime": {
     "end_time": "2020-05-14T16:47:02.582383Z",
     "start_time": "2020-05-14T16:47:02.576223Z"
    }
   },
   "outputs": [
    {
     "name": "stdout",
     "output_type": "stream",
     "text": [
      "{'fixed acidity': 0.06324617033190805, 'volatile acidity': 0.12363645345103169, 'citric acid': 0.08492584304728634, 'residual sugar': 0.04070095562739251, 'chlorides': 0.04536215069094318, 'free sulfur dioxide': 0.03208739570887875, 'total sulfur dioxide': 0.064939527290238, 'density': 0.0920983180690893, 'pH': 0.00039046256457719863, 'sulphates': 0.08204643171066994, 'alcohol': 0.18215543310076132}\n"
     ]
    }
   ],
   "source": [
    "dict_feature = {}\n",
    "for i, j in zip(X.columns.values, mir):\n",
    "    dict_feature[i] = j\n",
    "print(dict_feature)"
   ]
  },
  {
   "cell_type": "code",
   "execution_count": 15,
   "metadata": {
    "ExecuteTime": {
     "end_time": "2020-05-14T16:47:07.682158Z",
     "start_time": "2020-05-14T16:47:07.676191Z"
    }
   },
   "outputs": [
    {
     "name": "stdout",
     "output_type": "stream",
     "text": [
      "[('alcohol', 0.18215543310076132), ('volatile acidity', 0.12363645345103169), ('density', 0.0920983180690893), ('citric acid', 0.08492584304728634), ('sulphates', 0.08204643171066994), ('total sulfur dioxide', 0.064939527290238), ('fixed acidity', 0.06324617033190805), ('chlorides', 0.04536215069094318), ('residual sugar', 0.04070095562739251), ('free sulfur dioxide', 0.03208739570887875), ('pH', 0.00039046256457719863)]\n"
     ]
    }
   ],
   "source": [
    "# sort features\n",
    "ls = sorted(dict_feature.items(), key = lambda item:item[1], reverse=True)\n",
    "print(ls)"
   ]
  },
  {
   "cell_type": "code",
   "execution_count": 16,
   "metadata": {
    "ExecuteTime": {
     "end_time": "2020-05-14T16:47:13.777626Z",
     "start_time": "2020-05-14T16:47:13.771509Z"
    }
   },
   "outputs": [],
   "source": [
    "# keep top 5 features\n",
    "k = 5\n",
    "ls_new = []\n",
    "for i in range(k):\n",
    "    ls_new.append(ls[i][0])\n",
    "\n",
    "X_filtered = X[ls_new]"
   ]
  },
  {
   "cell_type": "code",
   "execution_count": 17,
   "metadata": {
    "ExecuteTime": {
     "end_time": "2020-05-14T16:47:14.398804Z",
     "start_time": "2020-05-14T16:47:14.380349Z"
    }
   },
   "outputs": [
    {
     "data": {
      "text/html": [
       "<div>\n",
       "<style scoped>\n",
       "    .dataframe tbody tr th:only-of-type {\n",
       "        vertical-align: middle;\n",
       "    }\n",
       "\n",
       "    .dataframe tbody tr th {\n",
       "        vertical-align: top;\n",
       "    }\n",
       "\n",
       "    .dataframe thead th {\n",
       "        text-align: right;\n",
       "    }\n",
       "</style>\n",
       "<table border=\"1\" class=\"dataframe\">\n",
       "  <thead>\n",
       "    <tr style=\"text-align: right;\">\n",
       "      <th></th>\n",
       "      <th>alcohol</th>\n",
       "      <th>volatile acidity</th>\n",
       "      <th>density</th>\n",
       "      <th>citric acid</th>\n",
       "      <th>sulphates</th>\n",
       "    </tr>\n",
       "  </thead>\n",
       "  <tbody>\n",
       "    <tr>\n",
       "      <th>0</th>\n",
       "      <td>9.4</td>\n",
       "      <td>0.70</td>\n",
       "      <td>0.9978</td>\n",
       "      <td>0.00</td>\n",
       "      <td>0.56</td>\n",
       "    </tr>\n",
       "    <tr>\n",
       "      <th>1</th>\n",
       "      <td>9.8</td>\n",
       "      <td>0.88</td>\n",
       "      <td>0.9968</td>\n",
       "      <td>0.00</td>\n",
       "      <td>0.68</td>\n",
       "    </tr>\n",
       "    <tr>\n",
       "      <th>2</th>\n",
       "      <td>9.8</td>\n",
       "      <td>0.76</td>\n",
       "      <td>0.9970</td>\n",
       "      <td>0.04</td>\n",
       "      <td>0.65</td>\n",
       "    </tr>\n",
       "    <tr>\n",
       "      <th>3</th>\n",
       "      <td>9.8</td>\n",
       "      <td>0.28</td>\n",
       "      <td>0.9980</td>\n",
       "      <td>0.56</td>\n",
       "      <td>0.58</td>\n",
       "    </tr>\n",
       "    <tr>\n",
       "      <th>4</th>\n",
       "      <td>9.4</td>\n",
       "      <td>0.70</td>\n",
       "      <td>0.9978</td>\n",
       "      <td>0.00</td>\n",
       "      <td>0.56</td>\n",
       "    </tr>\n",
       "  </tbody>\n",
       "</table>\n",
       "</div>"
      ],
      "text/plain": [
       "   alcohol  volatile acidity  density  citric acid  sulphates\n",
       "0      9.4              0.70   0.9978         0.00       0.56\n",
       "1      9.8              0.88   0.9968         0.00       0.68\n",
       "2      9.8              0.76   0.9970         0.04       0.65\n",
       "3      9.8              0.28   0.9980         0.56       0.58\n",
       "4      9.4              0.70   0.9978         0.00       0.56"
      ]
     },
     "execution_count": 17,
     "metadata": {},
     "output_type": "execute_result"
    }
   ],
   "source": [
    "X_filtered.head()"
   ]
  },
  {
   "cell_type": "markdown",
   "metadata": {
    "ExecuteTime": {
     "end_time": "2020-05-14T12:44:41.697427Z",
     "start_time": "2020-05-14T12:44:41.689329Z"
    }
   },
   "source": [
    "### ANOVA F-test\n",
    "+ numerical features\n",
    "+ use f_classif for classification tasks\n",
    "+ use f_regression for regression tasks\n",
    "+ con: can only detect linear correlations"
   ]
  },
  {
   "cell_type": "code",
   "execution_count": 18,
   "metadata": {
    "ExecuteTime": {
     "end_time": "2020-05-14T16:47:48.592159Z",
     "start_time": "2020-05-14T16:47:48.584144Z"
    }
   },
   "outputs": [],
   "source": [
    "from sklearn.feature_selection import f_regression"
   ]
  },
  {
   "cell_type": "code",
   "execution_count": 20,
   "metadata": {
    "ExecuteTime": {
     "end_time": "2020-05-14T16:48:01.351828Z",
     "start_time": "2020-05-14T16:48:01.339861Z"
    }
   },
   "outputs": [
    {
     "name": "stdout",
     "output_type": "stream",
     "text": [
      "{'fixed acidity': 24.960037517470248, 'volatile acidity': 287.4444497061144, 'citric acid': 86.25772620091435, 'residual sugar': 0.301183699425499, 'chlorides': 26.98560839352944, 'free sulfur dioxide': 4.108502273747403, 'total sulfur dioxide': 56.65781755813237, 'density': 50.405223111723515, 'pH': 5.340462206974324, 'sulphates': 107.7404330156073, 'alcohol': 468.2670106420927}\n"
     ]
    }
   ],
   "source": [
    "(f_regression,pval)=f_regression(X,y)\n",
    "dict_feature = {}\n",
    "for i, j in zip(X.columns.values, f_regression):\n",
    "    dict_feature[i] = j\n",
    "print(dict_feature)"
   ]
  },
  {
   "cell_type": "code",
   "execution_count": 21,
   "metadata": {
    "ExecuteTime": {
     "end_time": "2020-05-14T16:48:04.576843Z",
     "start_time": "2020-05-14T16:48:04.571235Z"
    }
   },
   "outputs": [
    {
     "name": "stdout",
     "output_type": "stream",
     "text": [
      "[('alcohol', 468.2670106420927), ('volatile acidity', 287.4444497061144), ('sulphates', 107.7404330156073), ('citric acid', 86.25772620091435), ('total sulfur dioxide', 56.65781755813237), ('density', 50.405223111723515), ('chlorides', 26.98560839352944), ('fixed acidity', 24.960037517470248), ('pH', 5.340462206974324), ('free sulfur dioxide', 4.108502273747403), ('residual sugar', 0.301183699425499)]\n"
     ]
    }
   ],
   "source": [
    "# sort features\n",
    "ls = sorted(dict_feature.items(), key = lambda item:item[1], reverse=True)\n",
    "print(ls)"
   ]
  },
  {
   "cell_type": "code",
   "execution_count": 22,
   "metadata": {
    "ExecuteTime": {
     "end_time": "2020-05-14T16:48:07.020746Z",
     "start_time": "2020-05-14T16:48:07.016243Z"
    }
   },
   "outputs": [],
   "source": [
    "# keep top 5 features\n",
    "k = 5\n",
    "ls_new = []\n",
    "for i in range(k):\n",
    "    ls_new.append(ls[i][0])"
   ]
  },
  {
   "cell_type": "code",
   "execution_count": 23,
   "metadata": {
    "ExecuteTime": {
     "end_time": "2020-05-14T16:48:14.458994Z",
     "start_time": "2020-05-14T16:48:14.444218Z"
    }
   },
   "outputs": [
    {
     "data": {
      "text/html": [
       "<div>\n",
       "<style scoped>\n",
       "    .dataframe tbody tr th:only-of-type {\n",
       "        vertical-align: middle;\n",
       "    }\n",
       "\n",
       "    .dataframe tbody tr th {\n",
       "        vertical-align: top;\n",
       "    }\n",
       "\n",
       "    .dataframe thead th {\n",
       "        text-align: right;\n",
       "    }\n",
       "</style>\n",
       "<table border=\"1\" class=\"dataframe\">\n",
       "  <thead>\n",
       "    <tr style=\"text-align: right;\">\n",
       "      <th></th>\n",
       "      <th>alcohol</th>\n",
       "      <th>volatile acidity</th>\n",
       "      <th>sulphates</th>\n",
       "      <th>citric acid</th>\n",
       "      <th>total sulfur dioxide</th>\n",
       "    </tr>\n",
       "  </thead>\n",
       "  <tbody>\n",
       "    <tr>\n",
       "      <th>0</th>\n",
       "      <td>9.4</td>\n",
       "      <td>0.70</td>\n",
       "      <td>0.56</td>\n",
       "      <td>0.00</td>\n",
       "      <td>34.0</td>\n",
       "    </tr>\n",
       "    <tr>\n",
       "      <th>1</th>\n",
       "      <td>9.8</td>\n",
       "      <td>0.88</td>\n",
       "      <td>0.68</td>\n",
       "      <td>0.00</td>\n",
       "      <td>67.0</td>\n",
       "    </tr>\n",
       "    <tr>\n",
       "      <th>2</th>\n",
       "      <td>9.8</td>\n",
       "      <td>0.76</td>\n",
       "      <td>0.65</td>\n",
       "      <td>0.04</td>\n",
       "      <td>54.0</td>\n",
       "    </tr>\n",
       "    <tr>\n",
       "      <th>3</th>\n",
       "      <td>9.8</td>\n",
       "      <td>0.28</td>\n",
       "      <td>0.58</td>\n",
       "      <td>0.56</td>\n",
       "      <td>60.0</td>\n",
       "    </tr>\n",
       "    <tr>\n",
       "      <th>4</th>\n",
       "      <td>9.4</td>\n",
       "      <td>0.70</td>\n",
       "      <td>0.56</td>\n",
       "      <td>0.00</td>\n",
       "      <td>34.0</td>\n",
       "    </tr>\n",
       "  </tbody>\n",
       "</table>\n",
       "</div>"
      ],
      "text/plain": [
       "   alcohol  volatile acidity  sulphates  citric acid  total sulfur dioxide\n",
       "0      9.4              0.70       0.56         0.00                  34.0\n",
       "1      9.8              0.88       0.68         0.00                  67.0\n",
       "2      9.8              0.76       0.65         0.04                  54.0\n",
       "3      9.8              0.28       0.58         0.56                  60.0\n",
       "4      9.4              0.70       0.56         0.00                  34.0"
      ]
     },
     "execution_count": 23,
     "metadata": {},
     "output_type": "execute_result"
    }
   ],
   "source": [
    "X_filtered = X[ls_new]\n",
    "X_filtered.head()"
   ]
  },
  {
   "cell_type": "code",
   "execution_count": null,
   "metadata": {},
   "outputs": [],
   "source": []
  }
 ],
 "metadata": {
  "kernelspec": {
   "display_name": "Python 3",
   "language": "python",
   "name": "python3"
  },
  "language_info": {
   "codemirror_mode": {
    "name": "ipython",
    "version": 3
   },
   "file_extension": ".py",
   "mimetype": "text/x-python",
   "name": "python",
   "nbconvert_exporter": "python",
   "pygments_lexer": "ipython3",
   "version": "3.6.9"
  },
  "latex_envs": {
   "LaTeX_envs_menu_present": true,
   "autoclose": false,
   "autocomplete": true,
   "bibliofile": "biblio.bib",
   "cite_by": "apalike",
   "current_citInitial": 1,
   "eqLabelWithNumbers": true,
   "eqNumInitial": 1,
   "hotkeys": {
    "equation": "Ctrl-E",
    "itemize": "Ctrl-I"
   },
   "labels_anchors": false,
   "latex_user_defs": false,
   "report_style_numbering": false,
   "user_envs_cfg": false
  },
  "toc": {
   "base_numbering": 1,
   "nav_menu": {},
   "number_sections": true,
   "sideBar": true,
   "skip_h1_title": false,
   "title_cell": "Table of Contents",
   "title_sidebar": "Contents",
   "toc_cell": false,
   "toc_position": {},
   "toc_section_display": true,
   "toc_window_display": false
  }
 },
 "nbformat": 4,
 "nbformat_minor": 4
}
