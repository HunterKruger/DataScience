{
 "cells": [
  {
   "cell_type": "code",
   "execution_count": 7,
   "metadata": {},
   "outputs": [],
   "source": [
    "#https://python-data-structures-and-algorithms.readthedocs.io/zh/latest/14_%E6%A0%91%E4%B8%8E%E4%BA%8C%E5%8F%89%E6%A0%91/tree/#_6\n",
    "\n",
    "class BinTreeNode:\n",
    "    def __init__(self, data, left=None, right=None):\n",
    "        self.data = data\n",
    "        self.left = left\n",
    "        self.right = right\n",
    "        \n",
    "class BinTree:\n",
    "    def __init__(self, root=None):\n",
    "        self.root = root\n",
    "\n",
    "    @classmethod\n",
    "    def build_from(cls, node_list):  #类方法，不需要实例化类，可直接通过 class.method() 调用\n",
    "        \"\"\"通过节点信息构造二叉树\n",
    "        第一次遍历我们构造 node 节点\n",
    "        第二次遍历我们给 root 和 孩子赋值\n",
    "\n",
    "        :param node_list: {'data': 'A', 'left': None, 'right': None, 'is_root': False}\n",
    "        \"\"\"\n",
    "        node_dict = {}\n",
    "        for node_data in node_list:\n",
    "            data = node_data['data']\n",
    "            node_dict[data] = BinTreeNode(data)\n",
    "        for node_data in node_list:\n",
    "            data = node_data['data']\n",
    "            node = node_dict[data]\n",
    "            if node_data['is_root']:\n",
    "                root = node\n",
    "            node.left = node_dict.get(node_data['left'])\n",
    "            node.right = node_dict.get(node_data['right'])\n",
    "        return cls(root)\n",
    "\n",
    "    def preorder_trav(self, subtree):   # 先根遍历\n",
    "        if subtree is not None:\n",
    "            print(subtree.data)    # 递归函数里先处理根\n",
    "            self.preorder_trav(subtree.left)   # 递归处理左子树\n",
    "            self.preorder_trav(subtree.right)    # 递归处理右子树\n",
    "            \n",
    "    def midorder_trav(self, subtree):  # 中根遍历\n",
    "        if subtree is not None:\n",
    "            self.midorder_trav(subtree.left)\n",
    "            print(subtree.data)\n",
    "            self.midorder_trav(subtree.right)\n",
    "    \n",
    "    def lastorder_trav(self, subtree):  # 后根遍历\n",
    "        if subtree is not None:\n",
    "            self.lastorder_trav(subtree.left)\n",
    "            self.lastorder_trav(subtree.right)\n",
    "            print(subtree.data)\n",
    "            \n",
    "    def layer_trav(self, subtree): #层序遍历\n",
    "        cur_nodes = [subtree]\n",
    "        next_nodes = []\n",
    "        while cur_nodes or next_nodes:\n",
    "            for node in cur_nodes:\n",
    "                print(node.data)\n",
    "                if node.left:\n",
    "                    next_nodes.append(node.left)\n",
    "                if node.right:\n",
    "                    next_nodes.append(node.right)\n",
    "            cur_nodes = next_nodes\n",
    "            next_nodes = []\n",
    "        \n",
    "    def layer_trav_list(self, subtree):\n",
    "        cur_nodes = [subtree]\n",
    "        next_nodes = []\n",
    "        nodes_values = []\n",
    "        all_nodes_values = [[subtree.data]]\n",
    "        \n",
    "        while cur_nodes or next_nodes:\n",
    "            for node in cur_nodes:\n",
    "                if node.left:\n",
    "                    next_nodes.append(node.left)\n",
    "                    nodes_values.append(node.left.data)\n",
    "                if node.right:\n",
    "                    next_nodes.append(node.right)\n",
    "                    nodes_values.append(node.right.data)\n",
    "            if len(nodes_values) != 0: \n",
    "                all_nodes_values.append(nodes_values)\n",
    "            cur_nodes = next_nodes\n",
    "            next_nodes = []\n",
    "            nodes_values = []\n",
    "        return all_nodes_values\n",
    "\n",
    "    \n",
    "    def reverse(self, subtree): #翻转\n",
    "        if subtree is not None:\n",
    "            subtree.left, subtree.right = subtree.right, subtree.left\n",
    "            self.reverse(subtree.left)\n",
    "            self.reverse(subtree.right)\n",
    "            \n",
    "    def max_depth(self, subtree):\n",
    "        if subtree is None:\n",
    "            return 0\n",
    "        left_depth = self.max_depth(subtree.left)\n",
    "        right_depth = self.max_depth(subtree.right)\n",
    "        return max(left_depth,right_depth)+1\n",
    "            "
   ]
  },
  {
   "cell_type": "code",
   "execution_count": 8,
   "metadata": {},
   "outputs": [
    {
     "name": "stdout",
     "output_type": "stream",
     "text": [
      "A\n",
      "B\n",
      "D\n",
      "E\n",
      "H\n",
      "C\n",
      "F\n",
      "G\n",
      "I\n",
      "J\n"
     ]
    }
   ],
   "source": [
    "\n",
    "node_list = [\n",
    "    {'data': 'A', 'left': 'B', 'right': 'C', 'is_root': True},\n",
    "    {'data': 'B', 'left': 'D', 'right': 'E', 'is_root': False},\n",
    "    {'data': 'D', 'left': None, 'right': None, 'is_root': False},\n",
    "    {'data': 'E', 'left': 'H', 'right': None, 'is_root': False},\n",
    "    {'data': 'H', 'left': None, 'right': None, 'is_root': False},\n",
    "    {'data': 'C', 'left': 'F', 'right': 'G', 'is_root': False},\n",
    "    {'data': 'F', 'left': None, 'right': None, 'is_root': False},\n",
    "    {'data': 'G', 'left': 'I', 'right': 'J', 'is_root': False},\n",
    "    {'data': 'I', 'left': None, 'right': None, 'is_root': False},\n",
    "    {'data': 'J', 'left': None, 'right': None, 'is_root': False},\n",
    "]\n",
    "btree = BinTree.build_from(node_list)\n",
    "btree.preorder_trav(btree.root)    # 输出 A, B, D, E, H, C, F, G, I, J"
   ]
  },
  {
   "cell_type": "code",
   "execution_count": 15,
   "metadata": {
    "collapsed": true,
    "jupyter": {
     "outputs_hidden": true
    }
   },
   "outputs": [
    {
     "name": "stdout",
     "output_type": "stream",
     "text": [
      "D\n",
      "B\n",
      "H\n",
      "E\n",
      "A\n",
      "F\n",
      "C\n",
      "I\n",
      "G\n",
      "J\n"
     ]
    }
   ],
   "source": [
    "btree = BinTree.build_from(node_list)\n",
    "btree.midorder_trav(btree.root)  "
   ]
  },
  {
   "cell_type": "code",
   "execution_count": 16,
   "metadata": {
    "collapsed": true,
    "jupyter": {
     "outputs_hidden": true
    }
   },
   "outputs": [
    {
     "name": "stdout",
     "output_type": "stream",
     "text": [
      "D\n",
      "H\n",
      "E\n",
      "B\n",
      "F\n",
      "I\n",
      "J\n",
      "G\n",
      "C\n",
      "A\n"
     ]
    }
   ],
   "source": [
    "btree = BinTree.build_from(node_list)\n",
    "btree.lastorder_trav(btree.root)  "
   ]
  },
  {
   "cell_type": "code",
   "execution_count": 17,
   "metadata": {
    "collapsed": true,
    "jupyter": {
     "outputs_hidden": true
    }
   },
   "outputs": [
    {
     "name": "stdout",
     "output_type": "stream",
     "text": [
      "A\n",
      "B\n",
      "C\n",
      "D\n",
      "E\n",
      "F\n",
      "G\n",
      "H\n",
      "I\n",
      "J\n"
     ]
    }
   ],
   "source": [
    "btree = BinTree.build_from(node_list)\n",
    "btree.layer_trav(btree.root)  "
   ]
  },
  {
   "cell_type": "code",
   "execution_count": 19,
   "metadata": {
    "collapsed": true,
    "jupyter": {
     "outputs_hidden": true
    }
   },
   "outputs": [
    {
     "name": "stdout",
     "output_type": "stream",
     "text": [
      "A\n",
      "C\n",
      "B\n",
      "G\n",
      "F\n",
      "E\n",
      "D\n",
      "J\n",
      "I\n",
      "H\n"
     ]
    }
   ],
   "source": [
    "btree = BinTree.build_from(node_list)\n",
    "btree.reverse(btree.root)\n",
    "btree.layer_trav(btree.root)  "
   ]
  },
  {
   "cell_type": "code",
   "execution_count": 31,
   "metadata": {
    "collapsed": true,
    "jupyter": {
     "outputs_hidden": true
    }
   },
   "outputs": [
    {
     "data": {
      "text/plain": [
       "4"
      ]
     },
     "execution_count": 31,
     "metadata": {},
     "output_type": "execute_result"
    }
   ],
   "source": [
    "btree = BinTree.build_from(node_list)\n",
    "btree.max_depth(btree.root)"
   ]
  },
  {
   "cell_type": "code",
   "execution_count": 64,
   "metadata": {},
   "outputs": [
    {
     "data": {
      "text/plain": [
       "[['A'], ['C', 'B'], ['G', 'F', 'E', 'D'], ['J', 'I', 'H']]"
      ]
     },
     "execution_count": 64,
     "metadata": {},
     "output_type": "execute_result"
    }
   ],
   "source": [
    "btree = BinTree.build_from(node_list)\n",
    "btree.reverse(btree.root)\n",
    "btree.layer_trav_list(btree.root)  "
   ]
  },
  {
   "cell_type": "code",
   "execution_count": null,
   "metadata": {},
   "outputs": [],
   "source": []
  }
 ],
 "metadata": {
  "kernelspec": {
   "display_name": "Python 3",
   "language": "python",
   "name": "python3"
  },
  "language_info": {
   "codemirror_mode": {
    "name": "ipython",
    "version": 3
   },
   "file_extension": ".py",
   "mimetype": "text/x-python",
   "name": "python",
   "nbconvert_exporter": "python",
   "pygments_lexer": "ipython3",
   "version": "3.6.9"
  }
 },
 "nbformat": 4,
 "nbformat_minor": 4
}
