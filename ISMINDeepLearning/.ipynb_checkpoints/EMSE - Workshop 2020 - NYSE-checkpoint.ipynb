{
 "cells": [
  {
   "cell_type": "markdown",
   "metadata": {
    "colab_type": "text",
    "id": "CJvi9KAlHxvi"
   },
   "source": [
    "## NYSE\n",
    "\n",
    "Original notebook: https://www.kaggle.com/raoulma/ny-stock-price-prediction-rnn-lstm-gru\n",
    "\n",
    "\n",
    "\n",
    "First, let's download data."
   ]
  },
  {
   "cell_type": "code",
   "execution_count": 2,
   "metadata": {
    "colab": {
     "base_uri": "https://localhost:8080/",
     "height": 156
    },
    "colab_type": "code",
    "executionInfo": {
     "elapsed": 6289,
     "status": "ok",
     "timestamp": 1583391577326,
     "user": {
      "displayName": "Olivier Philip",
      "photoUrl": "https://lh3.googleusercontent.com/a-/AOh14GhSlC4IFIi3qV3GYRUYlVLA1jCussK8N9U9oxXbrg=s64",
      "userId": "17360170734010401955"
     },
     "user_tz": -60
    },
    "id": "sf4SOSofLcN5",
    "outputId": "6e5aa5c1-4479-41ae-e00e-c06ad706aa90"
   },
   "outputs": [
    {
     "name": "stdout",
     "output_type": "stream",
     "text": [
      "Requirement already satisfied: gdown in /usr/local/lib/python3.6/dist-packages (3.6.4)\n",
      "Requirement already satisfied: six in /usr/local/lib/python3.6/dist-packages (from gdown) (1.12.0)\n",
      "Requirement already satisfied: tqdm in /usr/local/lib/python3.6/dist-packages (from gdown) (4.28.1)\n",
      "Requirement already satisfied: requests in /usr/local/lib/python3.6/dist-packages (from gdown) (2.21.0)\n",
      "Requirement already satisfied: urllib3<1.25,>=1.21.1 in /usr/local/lib/python3.6/dist-packages (from requests->gdown) (1.24.3)\n",
      "Requirement already satisfied: certifi>=2017.4.17 in /usr/local/lib/python3.6/dist-packages (from requests->gdown) (2019.11.28)\n",
      "Requirement already satisfied: chardet<3.1.0,>=3.0.2 in /usr/local/lib/python3.6/dist-packages (from requests->gdown) (3.0.4)\n",
      "Requirement already satisfied: idna<2.9,>=2.5 in /usr/local/lib/python3.6/dist-packages (from requests->gdown) (2.8)\n"
     ]
    }
   ],
   "source": [
    "!pip install gdown"
   ]
  },
  {
   "cell_type": "code",
   "execution_count": 3,
   "metadata": {
    "colab": {
     "base_uri": "https://localhost:8080/",
     "height": 86
    },
    "colab_type": "code",
    "executionInfo": {
     "elapsed": 4996,
     "status": "ok",
     "timestamp": 1583391583253,
     "user": {
      "displayName": "Olivier Philip",
      "photoUrl": "https://lh3.googleusercontent.com/a-/AOh14GhSlC4IFIi3qV3GYRUYlVLA1jCussK8N9U9oxXbrg=s64",
      "userId": "17360170734010401955"
     },
     "user_tz": -60
    },
    "id": "OpU73UzGKsTE",
    "outputId": "6ae767ef-13e7-4fce-b4c5-7eb94b78342a"
   },
   "outputs": [
    {
     "name": "stdout",
     "output_type": "stream",
     "text": [
      "Downloading...\n",
      "From: https://drive.google.com/uc?id=1BsBVz1QCN3-KQnrHRx7tFm84yNrZdSdi\n",
      "To: /content/nyse.zip\n",
      "32.1MB [00:00, 121MB/s] \n"
     ]
    }
   ],
   "source": [
    "!gdown https://drive.google.com/uc?id=1BsBVz1QCN3-KQnrHRx7tFm84yNrZdSdi"
   ]
  },
  {
   "cell_type": "markdown",
   "metadata": {
    "colab_type": "text",
    "id": "ITWFdptdIZ73"
   },
   "source": [
    "We unzip (silently) data and delete zip file afterward."
   ]
  },
  {
   "cell_type": "code",
   "execution_count": 0,
   "metadata": {
    "colab": {},
    "colab_type": "code",
    "id": "4rjOBbQtJQnc"
   },
   "outputs": [],
   "source": [
    "!unzip -qo 'nyse.zip'\n",
    "!rm 'nyse.zip'"
   ]
  },
  {
   "cell_type": "code",
   "execution_count": 5,
   "metadata": {
    "colab": {
     "base_uri": "https://localhost:8080/",
     "height": 52
    },
    "colab_type": "code",
    "executionInfo": {
     "elapsed": 10532,
     "status": "ok",
     "timestamp": 1583391596069,
     "user": {
      "displayName": "Olivier Philip",
      "photoUrl": "https://lh3.googleusercontent.com/a-/AOh14GhSlC4IFIi3qV3GYRUYlVLA1jCussK8N9U9oxXbrg=s64",
      "userId": "17360170734010401955"
     },
     "user_tz": -60
    },
    "id": "hUH4x37VFD2r",
    "outputId": "7be47783-8f7b-4141-ce7c-934fecea0f86"
   },
   "outputs": [
    {
     "name": "stdout",
     "output_type": "stream",
     "text": [
      "fundamentals.csv  prices-split-adjusted.csv  securities.csv\n",
      "prices.csv\t  sample_data\n"
     ]
    }
   ],
   "source": [
    "!ls"
   ]
  },
  {
   "cell_type": "markdown",
   "metadata": {
    "colab_type": "text",
    "id": "3N1YYr6cRo1Z"
   },
   "source": [
    "Import, load data and first glance"
   ]
  },
  {
   "cell_type": "code",
   "execution_count": 6,
   "metadata": {
    "colab": {
     "base_uri": "https://localhost:8080/",
     "height": 706
    },
    "colab_type": "code",
    "executionInfo": {
     "elapsed": 3705,
     "status": "ok",
     "timestamp": 1583391601340,
     "user": {
      "displayName": "Olivier Philip",
      "photoUrl": "https://lh3.googleusercontent.com/a-/AOh14GhSlC4IFIi3qV3GYRUYlVLA1jCussK8N9U9oxXbrg=s64",
      "userId": "17360170734010401955"
     },
     "user_tz": -60
    },
    "id": "E-oGT43rEgNc",
    "outputId": "77624e8d-43cf-494a-b2f9-b0486d8cccbd"
   },
   "outputs": [
    {
     "data": {
      "text/html": [
       "<p style=\"color: red;\">\n",
       "The default version of TensorFlow in Colab will soon switch to TensorFlow 2.x.<br>\n",
       "We recommend you <a href=\"https://www.tensorflow.org/guide/migrate\" target=\"_blank\">upgrade</a> now \n",
       "or ensure your notebook will continue to use TensorFlow 1.x via the <code>%tensorflow_version 1.x</code> magic:\n",
       "<a href=\"https://colab.research.google.com/notebooks/tensorflow_version.ipynb\" target=\"_blank\">more info</a>.</p>\n"
      ],
      "text/plain": [
       "<IPython.core.display.HTML object>"
      ]
     },
     "metadata": {
      "tags": []
     },
     "output_type": "display_data"
    },
    {
     "name": "stdout",
     "output_type": "stream",
     "text": [
      "<class 'pandas.core.frame.DataFrame'>\n",
      "Index: 851264 entries, 2016-01-05 to 2016-12-30\n",
      "Data columns (total 6 columns):\n",
      "symbol    851264 non-null object\n",
      "open      851264 non-null float64\n",
      "close     851264 non-null float64\n",
      "low       851264 non-null float64\n",
      "high      851264 non-null float64\n",
      "volume    851264 non-null float64\n",
      "dtypes: float64(5), object(1)\n",
      "memory usage: 45.5+ MB\n",
      "\n",
      "number of different stocks:  501\n",
      "['ETN', 'PBCT', 'PVH', 'TRIP', 'BAX', 'CHRW', 'DVN', 'TRV', 'MAA', 'LUK']\n",
      "========================================\n",
      "                open          close            low           high        volume\n",
      "count  851264.000000  851264.000000  851264.000000  851264.000000  8.512640e+05\n",
      "mean       64.993618      65.011913      64.336541      65.639748  5.415113e+06\n",
      "std        75.203893      75.201216      74.459518      75.906861  1.249468e+07\n",
      "min         1.660000       1.590000       1.500000       1.810000  0.000000e+00\n",
      "25%        31.270000      31.292776      30.940001      31.620001  1.221500e+06\n",
      "50%        48.459999      48.480000      47.970001      48.959999  2.476250e+06\n",
      "75%        75.120003      75.139999      74.400002      75.849998  5.222500e+06\n",
      "max      1584.439941    1578.130005    1549.939941    1600.930054  8.596434e+08\n",
      "========================================\n",
      "<class 'pandas.core.frame.DataFrame'>\n",
      "Index: 851264 entries, 2016-01-05 to 2016-12-30\n",
      "Data columns (total 6 columns):\n",
      "symbol    851264 non-null object\n",
      "open      851264 non-null float64\n",
      "close     851264 non-null float64\n",
      "low       851264 non-null float64\n",
      "high      851264 non-null float64\n",
      "volume    851264 non-null float64\n",
      "dtypes: float64(5), object(1)\n",
      "memory usage: 45.5+ MB\n",
      "None\n"
     ]
    }
   ],
   "source": [
    "import numpy as np\n",
    "import pandas as pd\n",
    "import math\n",
    "import sklearn\n",
    "import sklearn.preprocessing\n",
    "import datetime\n",
    "import os\n",
    "import matplotlib.pyplot as plt\n",
    "import tensorflow as tf\n",
    "\n",
    "# split data in 80%/10%/10% train/validation/test sets\n",
    "valid_set_size_percentage = 10\n",
    "test_set_size_percentage = 10\n",
    "\n",
    "# import all stock prices\n",
    "df = pd.read_csv(\"prices-split-adjusted.csv\", index_col = 0)\n",
    "df.info()\n",
    "df.head()\n",
    "\n",
    "# number of different stocks\n",
    "print('\\nnumber of different stocks: ', len(list(set(df.symbol))))\n",
    "print(list(set(df.symbol))[:10])\n",
    "print('=' * 40)\n",
    "\n",
    "print(df.describe())\n",
    "print('=' * 40)\n",
    "\n",
    "print(df.info())"
   ]
  },
  {
   "cell_type": "code",
   "execution_count": 8,
   "metadata": {
    "colab": {
     "base_uri": "https://localhost:8080/",
     "height": 621
    },
    "colab_type": "code",
    "executionInfo": {
     "elapsed": 1639,
     "status": "ok",
     "timestamp": 1583391614178,
     "user": {
      "displayName": "Olivier Philip",
      "photoUrl": "https://lh3.googleusercontent.com/a-/AOh14GhSlC4IFIi3qV3GYRUYlVLA1jCussK8N9U9oxXbrg=s64",
      "userId": "17360170734010401955"
     },
     "user_tz": -60
    },
    "id": "ZT3iGmQyE0fD",
    "outputId": "c32f3cb9-bbe0-4aa0-c3ad-f882da3d2426"
   },
   "outputs": [
    {
     "data": {
      "image/png": "[encoded data removed]",
      "text/plain": [
       "<Figure size 1080x720 with 2 Axes>"
      ]
     },
     "metadata": {
      "tags": []
     },
     "output_type": "display_data"
    }
   ],
   "source": [
    "plt.figure(figsize=(15, 10));\n",
    "plt.subplot(2, 1, 1)\n",
    "plt.plot(df[df.symbol == 'EQIX'].open.values, color='red', label='open')\n",
    "plt.plot(df[df.symbol == 'EQIX'].close.values, color='green', label='close')\n",
    "plt.plot(df[df.symbol == 'EQIX'].low.values, color='blue', label='low')\n",
    "plt.plot(df[df.symbol == 'EQIX'].high.values, color='black', label='high')\n",
    "plt.title('stock price')\n",
    "plt.xlabel('time [days]')\n",
    "plt.ylabel('price')\n",
    "plt.legend(loc='best')\n",
    "\n",
    "plt.subplot(2, 1, 2);\n",
    "plt.plot(df[df.symbol == 'EQIX'].volume.values, color='black', label='volume')\n",
    "plt.title('stock volume')\n",
    "plt.xlabel('time [days]')\n",
    "plt.ylabel('volume')\n",
    "plt.legend(loc='best')\n",
    "plt.show()"
   ]
  },
  {
   "cell_type": "code",
   "execution_count": 22,
   "metadata": {
    "colab": {
     "base_uri": "https://localhost:8080/",
     "height": 139
    },
    "colab_type": "code",
    "executionInfo": {
     "elapsed": 1007,
     "status": "ok",
     "timestamp": 1583392533357,
     "user": {
      "displayName": "Olivier Philip",
      "photoUrl": "https://lh3.googleusercontent.com/a-/AOh14GhSlC4IFIi3qV3GYRUYlVLA1jCussK8N9U9oxXbrg=s64",
      "userId": "17360170734010401955"
     },
     "user_tz": -60
    },
    "id": "HIUj4tZYFOnV",
    "outputId": "25628655-8eac-46dc-9839-f59aaaa2b99f"
   },
   "outputs": [
    {
     "name": "stdout",
     "output_type": "stream",
     "text": [
      "df_stock.columns.values =  ['open', 'close', 'low', 'high']\n",
      "x_train.shape =  (1394, 19, 4)\n",
      "y_train.shape =  (1394, 4)\n",
      "x_valid.shape =  (174, 19, 4)\n",
      "y_valid.shape =  (174, 4)\n",
      "x_test.shape =  (174, 19, 4)\n",
      "y_test.shape =  (174, 4)\n"
     ]
    }
   ],
   "source": [
    "# function for min-max normalization of stock\n",
    "def normalize_data(df):\n",
    "    min_max_scaler = sklearn.preprocessing.MinMaxScaler()\n",
    "    df['open'] = min_max_scaler.fit_transform(df.open.values.reshape(-1,1))\n",
    "    df['high'] = min_max_scaler.fit_transform(df.high.values.reshape(-1,1))\n",
    "    df['low'] = min_max_scaler.fit_transform(df.low.values.reshape(-1,1))\n",
    "    df['close'] = min_max_scaler.fit_transform(df['close'].values.reshape(-1,1))\n",
    "    if 'volume' in df:\n",
    "      df['volume'] = min_max_scaler.fit_transform(df['volume'].values.reshape(-1,1))\n",
    "    return df\n",
    "\n",
    "# function to create train, validation, test data given stock data and sequence length\n",
    "def load_data(stock, seq_len):\n",
    "    data_raw = stock.values  # convert to numpy array\n",
    "    data = []\n",
    "    \n",
    "    # create all possible sequences of length seq_len\n",
    "    for index in range(len(data_raw) - seq_len): \n",
    "        data.append(data_raw[index: index + seq_len])\n",
    "    \n",
    "    data = np.array(data);\n",
    "    valid_set_size = int(np.round(valid_set_size_percentage/100*data.shape[0]));  \n",
    "    test_set_size = int(np.round(test_set_size_percentage/100*data.shape[0]));\n",
    "    train_set_size = data.shape[0] - (valid_set_size + test_set_size);\n",
    "    \n",
    "    x_train = data[:train_set_size,:-1,:]\n",
    "    y_train = data[:train_set_size,-1,:]\n",
    "    \n",
    "    x_valid = data[train_set_size:train_set_size+valid_set_size,:-1,:]\n",
    "    y_valid = data[train_set_size:train_set_size+valid_set_size,-1,:]\n",
    "    \n",
    "    x_test = data[train_set_size+valid_set_size:,:-1,:]\n",
    "    y_test = data[train_set_size+valid_set_size:,-1,:]\n",
    "    \n",
    "    return [x_train, y_train, x_valid, y_valid, x_test, y_test]\n",
    "\n",
    "# choose one stock\n",
    "df_stock = df[df.symbol == 'EQIX'].copy()\n",
    "df_stock.drop(['symbol'],1,inplace=True)\n",
    "# Comment next line to use volume\n",
    "df_stock.drop(['volume'],1,inplace=True)\n",
    "\n",
    "cols = list(df_stock.columns.values)\n",
    "print('df_stock.columns.values = ', cols)\n",
    "\n",
    "# normalize stock\n",
    "df_stock_norm = df_stock.copy()\n",
    "df_stock_norm = normalize_data(df_stock_norm)\n",
    "\n",
    "# create train, test data\n",
    "seq_len = 20 # choose sequence length\n",
    "x_train, y_train, x_valid, y_valid, x_test, y_test = load_data(df_stock_norm, seq_len)\n",
    "print('x_train.shape = ',x_train.shape)\n",
    "print('y_train.shape = ', y_train.shape)\n",
    "print('x_valid.shape = ',x_valid.shape)\n",
    "print('y_valid.shape = ', y_valid.shape)\n",
    "print('x_test.shape = ', x_test.shape)\n",
    "print('y_test.shape = ',y_test.shape)"
   ]
  },
  {
   "cell_type": "code",
   "execution_count": 23,
   "metadata": {
    "colab": {
     "base_uri": "https://localhost:8080/",
     "height": 608
    },
    "colab_type": "code",
    "executionInfo": {
     "elapsed": 1817,
     "status": "ok",
     "timestamp": 1583392549149,
     "user": {
      "displayName": "Olivier Philip",
      "photoUrl": "https://lh3.googleusercontent.com/a-/AOh14GhSlC4IFIi3qV3GYRUYlVLA1jCussK8N9U9oxXbrg=s64",
      "userId": "17360170734010401955"
     },
     "user_tz": -60
    },
    "id": "p1d0i8U6Frgx",
    "outputId": "90447f46-5615-49b1-d04a-bd0d94c8aa86"
   },
   "outputs": [
    {
     "data": {
      "text/plain": [
       "<Figure size 1080x360 with 0 Axes>"
      ]
     },
     "metadata": {
      "tags": []
     },
     "output_type": "display_data"
    },
    {
     "data": {
      "image/png": "[encoded data removed]",
      "text/plain": [
       "<Figure size 432x288 with 1 Axes>"
      ]
     },
     "metadata": {
      "tags": []
     },
     "output_type": "display_data"
    },
    {
     "data": {
      "text/plain": [
       "<Figure size 1080x360 with 0 Axes>"
      ]
     },
     "metadata": {
      "tags": []
     },
     "output_type": "display_data"
    },
    {
     "data": {
      "image/png": "[encoded data removed]",
      "text/plain": [
       "<Figure size 432x288 with 1 Axes>"
      ]
     },
     "metadata": {
      "tags": []
     },
     "output_type": "display_data"
    }
   ],
   "source": [
    "plt.figure(figsize=(15, 5))\n",
    "fig, ax1 = plt.subplots()\n",
    "ax1.plot(df_stock_norm.open.values, color='red', label='open')\n",
    "ax1.plot(df_stock_norm.close.values, color='green', label='low')\n",
    "ax1.plot(df_stock_norm.low.values, color='blue', label='low')\n",
    "ax1.plot(df_stock_norm.high.values, color='black', label='high')\n",
    "ax1.set_ylabel('normalized price')\n",
    "if 'volume' in df_stock_norm:\n",
    "  ax2 = ax1.twinx()\n",
    "  ax2.plot(df_stock_norm.volume.values, color='gray', label='volume')\n",
    "  ax2.set_ylabel('normalized volume')\n",
    "plt.title('stock')\n",
    "plt.xlabel('time [days]')\n",
    "plt.legend(loc='best')\n",
    "plt.show()\n",
    "\n",
    "st_zoom, si_zoom = 0, 200\n",
    "zoom = np.arange(st_zoom, st_zoom + si_zoom).astype(np.int)\n",
    "plt.figure(figsize=(15, 5))\n",
    "fig, ax1 = plt.subplots()\n",
    "ax1.plot(df_stock_norm.open.values[zoom], color='red', label='open')\n",
    "ax1.plot(df_stock_norm.close.values[zoom], color='green', label='low')\n",
    "ax1.plot(df_stock_norm.low.values[zoom], color='blue', label='low')\n",
    "ax1.plot(df_stock_norm.high.values[zoom], color='black', label='high')\n",
    "ax1.set_ylabel('normalized price')\n",
    "if 'volume' in df_stock_norm:\n",
    "  ax2 = ax1.twinx()\n",
    "  ax2.plot(df_stock_norm.volume.values[zoom], color='gray', label='volume')\n",
    "  ax2.set_ylabel('normalized volume')\n",
    "plt.title('stock')\n",
    "plt.xlabel('time [days]')\n",
    "plt.legend(loc='best')\n",
    "plt.show()"
   ]
  },
  {
   "cell_type": "code",
   "execution_count": 0,
   "metadata": {
    "colab": {},
    "colab_type": "code",
    "id": "FF8J721sZ0-u"
   },
   "outputs": [],
   "source": [
    "# parameters\n",
    "n_steps = seq_len-1 \n",
    "n_inputs = 4 if 'volume' not in df_stock_norm else 5\n",
    "n_neurons = 200 \n",
    "n_outputs = 4 if 'volume' not in df_stock_norm else 5\n",
    "n_layers = 2\n",
    "learning_rate = 0.001\n",
    "batch_size = 50\n",
    "n_epochs = 100"
   ]
  },
  {
   "cell_type": "code",
   "execution_count": 0,
   "metadata": {
    "colab": {
     "base_uri": "https://localhost:8080/",
     "height": 905
    },
    "colab_type": "code",
    "executionInfo": {
     "elapsed": 109445,
     "status": "ok",
     "timestamp": 1583384977910,
     "user": {
      "displayName": "Olivier Philip",
      "photoUrl": "https://lh3.googleusercontent.com/a-/AOh14GhSlC4IFIi3qV3GYRUYlVLA1jCussK8N9U9oxXbrg=s64",
      "userId": "17360170734010401955"
     },
     "user_tz": -60
    },
    "id": "tpjFeOoeF0Sf",
    "outputId": "2130de59-7c64-41c6-d75c-b266122b30ac"
   },
   "outputs": [
    {
     "name": "stdout",
     "output_type": "stream",
     "text": [
      "WARNING:tensorflow:\n",
      "The TensorFlow contrib module will not be included in TensorFlow 2.0.\n",
      "For more information, please see:\n",
      "  * https://github.com/tensorflow/community/blob/master/rfcs/20180907-contrib-sunset.md\n",
      "  * https://github.com/tensorflow/addons\n",
      "  * https://github.com/tensorflow/io (for I/O related ops)\n",
      "If you depend on functionality not listed there, please file an issue.\n",
      "\n",
      "WARNING:tensorflow:From <ipython-input-14-49ed2536ad3c>:39: BasicRNNCell.__init__ (from tensorflow.python.ops.rnn_cell_impl) is deprecated and will be removed in a future version.\n",
      "Instructions for updating:\n",
      "This class is equivalent as tf.keras.layers.SimpleRNNCell, and will be replaced by that in Tensorflow 2.0.\n",
      "WARNING:tensorflow:From <ipython-input-14-49ed2536ad3c>:54: MultiRNNCell.__init__ (from tensorflow.python.ops.rnn_cell_impl) is deprecated and will be removed in a future version.\n",
      "Instructions for updating:\n",
      "This class is equivalent as tf.keras.layers.StackedRNNCells, and will be replaced by that in Tensorflow 2.0.\n",
      "WARNING:tensorflow:From <ipython-input-14-49ed2536ad3c>:55: dynamic_rnn (from tensorflow.python.ops.rnn) is deprecated and will be removed in a future version.\n",
      "Instructions for updating:\n",
      "Please use `keras.layers.RNN(cell)`, which is equivalent to this API\n",
      "WARNING:tensorflow:From /usr/local/lib/python3.6/dist-packages/tensorflow_core/python/ops/rnn_cell_impl.py:456: Layer.add_variable (from tensorflow.python.keras.engine.base_layer) is deprecated and will be removed in a future version.\n",
      "Instructions for updating:\n",
      "Please use `layer.add_weight` method instead.\n",
      "WARNING:tensorflow:From /usr/local/lib/python3.6/dist-packages/tensorflow_core/python/ops/rnn_cell_impl.py:460: calling Zeros.__init__ (from tensorflow.python.ops.init_ops) with dtype is deprecated and will be removed in a future version.\n",
      "Instructions for updating:\n",
      "Call initializer instance with the dtype argument instead of passing it to the constructor\n",
      "WARNING:tensorflow:From <ipython-input-14-49ed2536ad3c>:58: dense (from tensorflow.python.layers.core) is deprecated and will be removed in a future version.\n",
      "Instructions for updating:\n",
      "Use keras.layers.Dense instead.\n",
      "WARNING:tensorflow:From /usr/local/lib/python3.6/dist-packages/tensorflow_core/python/layers/core.py:187: Layer.apply (from tensorflow.python.keras.engine.base_layer) is deprecated and will be removed in a future version.\n",
      "Instructions for updating:\n",
      "Please use `layer.__call__` method instead.\n",
      "0.00 epochs: MSE train/valid = 0.100654/0.157301\n",
      "4.99 epochs: MSE train/valid = 0.000179/0.000848\n",
      "9.97 epochs: MSE train/valid = 0.000160/0.000961\n",
      "14.96 epochs: MSE train/valid = 0.000133/0.000412\n",
      "19.94 epochs: MSE train/valid = 0.000134/0.000383\n",
      "24.93 epochs: MSE train/valid = 0.000088/0.000373\n",
      "29.91 epochs: MSE train/valid = 0.000092/0.000357\n",
      "34.90 epochs: MSE train/valid = 0.000092/0.000439\n",
      "39.89 epochs: MSE train/valid = 0.000088/0.000265\n",
      "44.87 epochs: MSE train/valid = 0.000070/0.000238\n",
      "49.86 epochs: MSE train/valid = 0.000068/0.000223\n",
      "54.84 epochs: MSE train/valid = 0.000065/0.000221\n",
      "59.83 epochs: MSE train/valid = 0.000069/0.000246\n",
      "64.81 epochs: MSE train/valid = 0.000069/0.000230\n",
      "69.80 epochs: MSE train/valid = 0.000064/0.000225\n",
      "74.78 epochs: MSE train/valid = 0.000076/0.000211\n",
      "79.77 epochs: MSE train/valid = 0.000068/0.000203\n",
      "84.76 epochs: MSE train/valid = 0.000062/0.000222\n",
      "89.74 epochs: MSE train/valid = 0.000095/0.000259\n",
      "94.73 epochs: MSE train/valid = 0.000081/0.000198\n",
      "99.71 epochs: MSE train/valid = 0.000058/0.000200\n"
     ]
    }
   ],
   "source": [
    "## Basic Cell RNN in tensorflow\n",
    "\n",
    "index_in_epoch = 0;\n",
    "perm_array  = np.arange(x_train.shape[0])\n",
    "np.random.shuffle(perm_array)\n",
    "\n",
    "# function to get the next batch\n",
    "def get_next_batch(batch_size):\n",
    "    global index_in_epoch, x_train, perm_array   \n",
    "    start = index_in_epoch\n",
    "    index_in_epoch += batch_size\n",
    "    \n",
    "    if index_in_epoch > x_train.shape[0]:\n",
    "        np.random.shuffle(perm_array) # shuffle permutation array\n",
    "        start = 0 # start next epoch\n",
    "        index_in_epoch = batch_size\n",
    "        \n",
    "    end = index_in_epoch\n",
    "    return x_train[perm_array[start:end]], y_train[perm_array[start:end]]\n",
    "\n",
    "train_set_size = x_train.shape[0]\n",
    "test_set_size = x_test.shape[0]\n",
    "\n",
    "tf.reset_default_graph()\n",
    "\n",
    "X = tf.placeholder(tf.float32, [None, n_steps, n_inputs])\n",
    "y = tf.placeholder(tf.float32, [None, n_outputs])\n",
    "\n",
    "# use Basic RNN Cell\n",
    "layers = [tf.contrib.rnn.BasicRNNCell(num_units=n_neurons, activation=tf.nn.elu)\n",
    "          for layer in range(n_layers)]\n",
    "\n",
    "# use Basic LSTM Cell \n",
    "#layers = [tf.contrib.rnn.BasicLSTMCell(num_units=n_neurons, activation=tf.nn.elu)\n",
    "#          for layer in range(n_layers)]\n",
    "\n",
    "# use LSTM Cell with peephole connections\n",
    "#layers = [tf.contrib.rnn.LSTMCell(num_units=n_neurons, \n",
    "#                                  activation=tf.nn.leaky_relu, use_peepholes = True)\n",
    "#          for layer in range(n_layers)]\n",
    "\n",
    "# use GRU cell\n",
    "#layers = [tf.contrib.rnn.GRUCell(num_units=n_neurons, activation=tf.nn.leaky_relu)\n",
    "#          for layer in range(n_layers)]\n",
    "                                                                     \n",
    "multi_layer_cell = tf.contrib.rnn.MultiRNNCell(layers)\n",
    "rnn_outputs, states = tf.nn.dynamic_rnn(multi_layer_cell, X, dtype=tf.float32)\n",
    "\n",
    "stacked_rnn_outputs = tf.reshape(rnn_outputs, [-1, n_neurons]) \n",
    "stacked_outputs = tf.layers.dense(stacked_rnn_outputs, n_outputs)\n",
    "outputs = tf.reshape(stacked_outputs, [-1, n_steps, n_outputs])\n",
    "outputs = outputs[:,n_steps-1,:] # keep only last output of sequence\n",
    "                                              \n",
    "loss = tf.reduce_mean(tf.square(outputs - y)) # loss function = mean squared error \n",
    "optimizer = tf.train.AdamOptimizer(learning_rate=learning_rate) \n",
    "training_op = optimizer.minimize(loss)\n",
    "                                              \n",
    "# run graph\n",
    "with tf.Session() as sess: \n",
    "    sess.run(tf.global_variables_initializer())\n",
    "    for iteration in range(int(n_epochs*train_set_size/batch_size)):\n",
    "        x_batch, y_batch = get_next_batch(batch_size) # fetch the next training batch \n",
    "        sess.run(training_op, feed_dict={X: x_batch, y: y_batch}) \n",
    "        if iteration % int(5*train_set_size/batch_size) == 0:\n",
    "            mse_train = loss.eval(feed_dict={X: x_train, y: y_train}) \n",
    "            mse_valid = loss.eval(feed_dict={X: x_valid, y: y_valid}) \n",
    "            print('%.2f epochs: MSE train/valid = %.6f/%.6f'%(\n",
    "                iteration*batch_size/train_set_size, mse_train, mse_valid))\n",
    "\n",
    "    y_train_pred = sess.run(outputs, feed_dict={X: x_train})\n",
    "    y_valid_pred = sess.run(outputs, feed_dict={X: x_valid})\n",
    "    y_test_pred = sess.run(outputs, feed_dict={X: x_test})"
   ]
  },
  {
   "cell_type": "markdown",
   "metadata": {
    "colab_type": "text",
    "id": "uAPI3lkSjqfl"
   },
   "source": [
    "Let's do the same network using Keras"
   ]
  },
  {
   "cell_type": "code",
   "execution_count": 0,
   "metadata": {
    "colab": {},
    "colab_type": "code",
    "id": "ZlplusgNTuFR"
   },
   "outputs": [],
   "source": [
    "# ==== Do some magic here ====\n",
    "# ==== Do some magic here ====\n",
    "from tensorflow.keras import Sequential\n",
    "from tensorflow.keras.layers import Flatten, Dense, LSTM, Dropout, Input\n",
    "\n",
    "model = Sequential()\n",
    "\n",
    "model.add(Input(shape=(n_steps,n_inputs)))\n",
    "\n",
    "for _ in range(n_layers):\n",
    "  model.add(LSTM(units=n_neurons,return_sequences=True,activation='relu'))\n",
    "\n",
    "model.add(Flatten())\n",
    "model.add(Dense(units=n_outputs,activation='linear'))\n",
    "\n",
    "model.compile(optimizer=tf.keras.optimizers.Adam(learning_rate=learning_rate),loss=tf.keras.losses.MSE)\n",
    "\n",
    "model.fit(x_train,y_train,validation_data=(x_valid,y_valid),epochs=n_epochs,batch_size=batch_size)"
   ]
  },
  {
   "cell_type": "code",
   "execution_count": 0,
   "metadata": {
    "colab": {},
    "colab_type": "code",
    "id": "U6b7AuDZatLU"
   },
   "outputs": [],
   "source": [
    "  y_train_pred = model.predict(x_train)\n",
    "  y_valid_pred = model.predict(x_valid)\n",
    "  y_test_pred = model.predict(x_test)"
   ]
  },
  {
   "cell_type": "code",
   "execution_count": 0,
   "metadata": {
    "colab": {
     "base_uri": "https://localhost:8080/",
     "height": 34
    },
    "colab_type": "code",
    "executionInfo": {
     "elapsed": 407,
     "status": "ok",
     "timestamp": 1583385009274,
     "user": {
      "displayName": "Olivier Philip",
      "photoUrl": "https://lh3.googleusercontent.com/a-/AOh14GhSlC4IFIi3qV3GYRUYlVLA1jCussK8N9U9oxXbrg=s64",
      "userId": "17360170734010401955"
     },
     "user_tz": -60
    },
    "id": "BTJGmzuKF7Xd",
    "outputId": "15018d5f-61be-4de0-b206-04829a6becd7"
   },
   "outputs": [
    {
     "data": {
      "text/plain": [
       "(1394, 4)"
      ]
     },
     "execution_count": 15,
     "metadata": {
      "tags": []
     },
     "output_type": "execute_result"
    }
   ],
   "source": [
    "y_train.shape"
   ]
  },
  {
   "cell_type": "code",
   "execution_count": 0,
   "metadata": {
    "colab": {},
    "colab_type": "code",
    "id": "_RahynRRGHy1"
   },
   "outputs": [],
   "source": [
    "ft = 0 # 0 = open, 1 = close, 2 = highest, 3 = lowest\n",
    "\n",
    "## show predictions\n",
    "plt.figure(figsize=(15, 10));\n",
    "plt.subplot(2, 1, 1);\n",
    "\n",
    "plt.plot(np.arange(y_train.shape[0]), y_train[:,ft], color='blue', label='train target')\n",
    "\n",
    "plt.plot(np.arange(y_train.shape[0], y_train.shape[0]+y_valid.shape[0]), y_valid[:,ft],\n",
    "         color='gray', label='valid target')\n",
    "\n",
    "plt.plot(np.arange(y_train.shape[0]+y_valid.shape[0],\n",
    "                   y_train.shape[0]+y_test.shape[0]+y_test.shape[0]),\n",
    "         y_test[:,ft], color='black', label='test target')\n",
    "\n",
    "plt.plot(np.arange(y_train_pred.shape[0]),y_train_pred[:,ft], color='red',\n",
    "         label='train prediction')\n",
    "\n",
    "plt.plot(np.arange(y_train_pred.shape[0], y_train_pred.shape[0]+y_valid_pred.shape[0]),\n",
    "         y_valid_pred[:,ft], color='orange', label='valid prediction')\n",
    "\n",
    "plt.plot(np.arange(y_train_pred.shape[0]+y_valid_pred.shape[0],\n",
    "                   y_train_pred.shape[0]+y_valid_pred.shape[0]+y_test_pred.shape[0]),\n",
    "         y_test_pred[:,ft], color='green', label='test prediction')\n",
    "\n",
    "plt.title('past and future stock prices')\n",
    "plt.xlabel('time [days]')\n",
    "plt.ylabel('normalized price')\n",
    "plt.legend(loc='best');\n",
    "\n",
    "plt.subplot(2, 1, 2);\n",
    "\n",
    "plt.plot(np.arange(y_train.shape[0], y_train.shape[0]+y_test.shape[0]),\n",
    "         y_test[:,ft], color='black', label='test target')\n",
    "\n",
    "plt.plot(np.arange(y_train_pred.shape[0], y_train_pred.shape[0]+y_test_pred.shape[0]),\n",
    "         y_test_pred[:,ft], color='green', label='test prediction')\n",
    "\n",
    "plt.title('future stock prices')\n",
    "plt.xlabel('time [days]')\n",
    "plt.ylabel('normalized price')\n",
    "plt.legend(loc='best');\n",
    "\n",
    "corr_price_development_train = np.sum(np.equal(np.sign(y_train[:,1]-y_train[:,0]),\n",
    "            np.sign(y_train_pred[:,1]-y_train_pred[:,0])).astype(int)) / y_train.shape[0]\n",
    "corr_price_development_valid = np.sum(np.equal(np.sign(y_valid[:,1]-y_valid[:,0]),\n",
    "            np.sign(y_valid_pred[:,1]-y_valid_pred[:,0])).astype(int)) / y_valid.shape[0]\n",
    "corr_price_development_test = np.sum(np.equal(np.sign(y_test[:,1]-y_test[:,0]),\n",
    "            np.sign(y_test_pred[:,1]-y_test_pred[:,0])).astype(int)) / y_test.shape[0]\n",
    "\n",
    "print('correct sign prediction for close - open price for train/valid/test: %.2f/%.2f/%.2f'%(\n",
    "    corr_price_development_train, corr_price_development_valid, corr_price_development_test))"
   ]
  },
  {
   "cell_type": "code",
   "execution_count": 0,
   "metadata": {
    "colab": {},
    "colab_type": "code",
    "id": "E_ol_WaZGeL9"
   },
   "outputs": [],
   "source": []
  }
 ],
 "metadata": {
  "accelerator": "GPU",
  "colab": {
   "collapsed_sections": [],
   "name": "EMSE - Workshop 2020 - NYSE.ipynb",
   "provenance": [
    {
     "file_id": "1XmvfXpkQdgcC6KW7ox4bOZ921uIqY8tM",
     "timestamp": 1552608122161
    }
   ]
  },
  "kernelspec": {
   "display_name": "Python 3",
   "language": "python",
   "name": "python3"
  },
  "language_info": {
   "codemirror_mode": {
    "name": "ipython",
    "version": 3
   },
   "file_extension": ".py",
   "mimetype": "text/x-python",
   "name": "python",
   "nbconvert_exporter": "python",
   "pygments_lexer": "ipython3",
   "version": "3.6.5"
  }
 },
 "nbformat": 4,
 "nbformat_minor": 1
}
