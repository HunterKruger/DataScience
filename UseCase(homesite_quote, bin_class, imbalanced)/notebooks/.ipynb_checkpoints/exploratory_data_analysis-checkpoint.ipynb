{
 "cells": [
  {
   "cell_type": "code",
   "execution_count": 1,
   "metadata": {
    "ExecuteTime": {
     "end_time": "2020-05-08T12:31:19.277959Z",
     "start_time": "2020-05-08T12:31:17.963499Z"
    }
   },
   "outputs": [],
   "source": [
    "import pandas as pd\n",
    "import numpy as np\n",
    "from matplotlib import pyplot as plt\n",
    "import seaborn as sns\n",
    "%matplotlib inline\n",
    "import warnings\n",
    "warnings.filterwarnings(action='once')\n",
    "from pprint import pprint"
   ]
  },
  {
   "cell_type": "markdown",
   "metadata": {},
   "source": [
    "## Data overview"
   ]
  },
  {
   "cell_type": "code",
   "execution_count": 2,
   "metadata": {
    "ExecuteTime": {
     "end_time": "2020-05-08T12:31:25.975255Z",
     "start_time": "2020-05-08T12:31:19.280875Z"
    }
   },
   "outputs": [],
   "source": [
    "train = pd.read_csv('../data/raw_data/train.csv')"
   ]
  },
  {
   "cell_type": "code",
   "execution_count": 3,
   "metadata": {
    "ExecuteTime": {
     "end_time": "2020-05-08T12:31:25.992145Z",
     "start_time": "2020-05-08T12:31:25.977907Z"
    }
   },
   "outputs": [],
   "source": [
    "def data_overview(df):\n",
    "    print(\"Rows :  \", df.shape[0])\n",
    "    print(\"Columns:  \", df.shape[1])\n",
    "    print(\"List of columns:\")\n",
    "    pprint(df.columns.to_list())"
   ]
  },
  {
   "cell_type": "code",
   "execution_count": 4,
   "metadata": {
    "ExecuteTime": {
     "end_time": "2020-05-08T12:31:26.010880Z",
     "start_time": "2020-05-08T12:31:25.994431Z"
    }
   },
   "outputs": [
    {
     "name": "stdout",
     "output_type": "stream",
     "text": [
      "Rows :   260753\n",
      "Columns:   299\n",
      "List of columns:\n",
      "['QuoteNumber',\n",
      " 'Original_Quote_Date',\n",
      " 'QuoteConversion_Flag',\n",
      " 'Field6',\n",
      " 'Field7',\n",
      " 'Field8',\n",
      " 'Field9',\n",
      " 'Field10',\n",
      " 'Field11',\n",
      " 'Field12',\n",
      " 'CoverageField1A',\n",
      " 'CoverageField1B',\n",
      " 'CoverageField2A',\n",
      " 'CoverageField2B',\n",
      " 'CoverageField3A',\n",
      " 'CoverageField3B',\n",
      " 'CoverageField4A',\n",
      " 'CoverageField4B',\n",
      " 'CoverageField5A',\n",
      " 'CoverageField5B',\n",
      " 'CoverageField6A',\n",
      " 'CoverageField6B',\n",
      " 'CoverageField8',\n",
      " 'CoverageField9',\n",
      " 'CoverageField11A',\n",
      " 'CoverageField11B',\n",
      " 'SalesField1A',\n",
      " 'SalesField1B',\n",
      " 'SalesField2A',\n",
      " 'SalesField2B',\n",
      " 'SalesField3',\n",
      " 'SalesField4',\n",
      " 'SalesField5',\n",
      " 'SalesField6',\n",
      " 'SalesField7',\n",
      " 'SalesField8',\n",
      " 'SalesField9',\n",
      " 'SalesField10',\n",
      " 'SalesField11',\n",
      " 'SalesField12',\n",
      " 'SalesField13',\n",
      " 'SalesField14',\n",
      " 'SalesField15',\n",
      " 'PersonalField1',\n",
      " 'PersonalField2',\n",
      " 'PersonalField4A',\n",
      " 'PersonalField4B',\n",
      " 'PersonalField5',\n",
      " 'PersonalField6',\n",
      " 'PersonalField7',\n",
      " 'PersonalField8',\n",
      " 'PersonalField9',\n",
      " 'PersonalField10A',\n",
      " 'PersonalField10B',\n",
      " 'PersonalField11',\n",
      " 'PersonalField12',\n",
      " 'PersonalField13',\n",
      " 'PersonalField14',\n",
      " 'PersonalField15',\n",
      " 'PersonalField16',\n",
      " 'PersonalField17',\n",
      " 'PersonalField18',\n",
      " 'PersonalField19',\n",
      " 'PersonalField22',\n",
      " 'PersonalField23',\n",
      " 'PersonalField24',\n",
      " 'PersonalField25',\n",
      " 'PersonalField26',\n",
      " 'PersonalField27',\n",
      " 'PersonalField28',\n",
      " 'PersonalField29',\n",
      " 'PersonalField30',\n",
      " 'PersonalField31',\n",
      " 'PersonalField32',\n",
      " 'PersonalField33',\n",
      " 'PersonalField34',\n",
      " 'PersonalField35',\n",
      " 'PersonalField36',\n",
      " 'PersonalField37',\n",
      " 'PersonalField38',\n",
      " 'PersonalField39',\n",
      " 'PersonalField40',\n",
      " 'PersonalField41',\n",
      " 'PersonalField42',\n",
      " 'PersonalField43',\n",
      " 'PersonalField44',\n",
      " 'PersonalField45',\n",
      " 'PersonalField46',\n",
      " 'PersonalField47',\n",
      " 'PersonalField48',\n",
      " 'PersonalField49',\n",
      " 'PersonalField50',\n",
      " 'PersonalField51',\n",
      " 'PersonalField52',\n",
      " 'PersonalField53',\n",
      " 'PersonalField54',\n",
      " 'PersonalField55',\n",
      " 'PersonalField56',\n",
      " 'PersonalField57',\n",
      " 'PersonalField58',\n",
      " 'PersonalField59',\n",
      " 'PersonalField60',\n",
      " 'PersonalField61',\n",
      " 'PersonalField62',\n",
      " 'PersonalField63',\n",
      " 'PersonalField64',\n",
      " 'PersonalField65',\n",
      " 'PersonalField66',\n",
      " 'PersonalField67',\n",
      " 'PersonalField68',\n",
      " 'PersonalField69',\n",
      " 'PersonalField70',\n",
      " 'PersonalField71',\n",
      " 'PersonalField72',\n",
      " 'PersonalField73',\n",
      " 'PersonalField74',\n",
      " 'PersonalField75',\n",
      " 'PersonalField76',\n",
      " 'PersonalField77',\n",
      " 'PersonalField78',\n",
      " 'PersonalField79',\n",
      " 'PersonalField80',\n",
      " 'PersonalField81',\n",
      " 'PersonalField82',\n",
      " 'PersonalField83',\n",
      " 'PersonalField84',\n",
      " 'PropertyField1A',\n",
      " 'PropertyField1B',\n",
      " 'PropertyField2A',\n",
      " 'PropertyField2B',\n",
      " 'PropertyField3',\n",
      " 'PropertyField4',\n",
      " 'PropertyField5',\n",
      " 'PropertyField6',\n",
      " 'PropertyField7',\n",
      " 'PropertyField8',\n",
      " 'PropertyField9',\n",
      " 'PropertyField10',\n",
      " 'PropertyField11A',\n",
      " 'PropertyField11B',\n",
      " 'PropertyField12',\n",
      " 'PropertyField13',\n",
      " 'PropertyField14',\n",
      " 'PropertyField15',\n",
      " 'PropertyField16A',\n",
      " 'PropertyField16B',\n",
      " 'PropertyField17',\n",
      " 'PropertyField18',\n",
      " 'PropertyField19',\n",
      " 'PropertyField20',\n",
      " 'PropertyField21A',\n",
      " 'PropertyField21B',\n",
      " 'PropertyField22',\n",
      " 'PropertyField23',\n",
      " 'PropertyField24A',\n",
      " 'PropertyField24B',\n",
      " 'PropertyField25',\n",
      " 'PropertyField26A',\n",
      " 'PropertyField26B',\n",
      " 'PropertyField27',\n",
      " 'PropertyField28',\n",
      " 'PropertyField29',\n",
      " 'PropertyField30',\n",
      " 'PropertyField31',\n",
      " 'PropertyField32',\n",
      " 'PropertyField33',\n",
      " 'PropertyField34',\n",
      " 'PropertyField35',\n",
      " 'PropertyField36',\n",
      " 'PropertyField37',\n",
      " 'PropertyField38',\n",
      " 'PropertyField39A',\n",
      " 'PropertyField39B',\n",
      " 'GeographicField1A',\n",
      " 'GeographicField1B',\n",
      " 'GeographicField2A',\n",
      " 'GeographicField2B',\n",
      " 'GeographicField3A',\n",
      " 'GeographicField3B',\n",
      " 'GeographicField4A',\n",
      " 'GeographicField4B',\n",
      " 'GeographicField5A',\n",
      " 'GeographicField5B',\n",
      " 'GeographicField6A',\n",
      " 'GeographicField6B',\n",
      " 'GeographicField7A',\n",
      " 'GeographicField7B',\n",
      " 'GeographicField8A',\n",
      " 'GeographicField8B',\n",
      " 'GeographicField9A',\n",
      " 'GeographicField9B',\n",
      " 'GeographicField10A',\n",
      " 'GeographicField10B',\n",
      " 'GeographicField11A',\n",
      " 'GeographicField11B',\n",
      " 'GeographicField12A',\n",
      " 'GeographicField12B',\n",
      " 'GeographicField13A',\n",
      " 'GeographicField13B',\n",
      " 'GeographicField14A',\n",
      " 'GeographicField14B',\n",
      " 'GeographicField15A',\n",
      " 'GeographicField15B',\n",
      " 'GeographicField16A',\n",
      " 'GeographicField16B',\n",
      " 'GeographicField17A',\n",
      " 'GeographicField17B',\n",
      " 'GeographicField18A',\n",
      " 'GeographicField18B',\n",
      " 'GeographicField19A',\n",
      " 'GeographicField19B',\n",
      " 'GeographicField20A',\n",
      " 'GeographicField20B',\n",
      " 'GeographicField21A',\n",
      " 'GeographicField21B',\n",
      " 'GeographicField22A',\n",
      " 'GeographicField22B',\n",
      " 'GeographicField23A',\n",
      " 'GeographicField23B',\n",
      " 'GeographicField24A',\n",
      " 'GeographicField24B',\n",
      " 'GeographicField25A',\n",
      " 'GeographicField25B',\n",
      " 'GeographicField26A',\n",
      " 'GeographicField26B',\n",
      " 'GeographicField27A',\n",
      " 'GeographicField27B',\n",
      " 'GeographicField28A',\n",
      " 'GeographicField28B',\n",
      " 'GeographicField29A',\n",
      " 'GeographicField29B',\n",
      " 'GeographicField30A',\n",
      " 'GeographicField30B',\n",
      " 'GeographicField31A',\n",
      " 'GeographicField31B',\n",
      " 'GeographicField32A',\n",
      " 'GeographicField32B',\n",
      " 'GeographicField33A',\n",
      " 'GeographicField33B',\n",
      " 'GeographicField34A',\n",
      " 'GeographicField34B',\n",
      " 'GeographicField35A',\n",
      " 'GeographicField35B',\n",
      " 'GeographicField36A',\n",
      " 'GeographicField36B',\n",
      " 'GeographicField37A',\n",
      " 'GeographicField37B',\n",
      " 'GeographicField38A',\n",
      " 'GeographicField38B',\n",
      " 'GeographicField39A',\n",
      " 'GeographicField39B',\n",
      " 'GeographicField40A',\n",
      " 'GeographicField40B',\n",
      " 'GeographicField41A',\n",
      " 'GeographicField41B',\n",
      " 'GeographicField42A',\n",
      " 'GeographicField42B',\n",
      " 'GeographicField43A',\n",
      " 'GeographicField43B',\n",
      " 'GeographicField44A',\n",
      " 'GeographicField44B',\n",
      " 'GeographicField45A',\n",
      " 'GeographicField45B',\n",
      " 'GeographicField46A',\n",
      " 'GeographicField46B',\n",
      " 'GeographicField47A',\n",
      " 'GeographicField47B',\n",
      " 'GeographicField48A',\n",
      " 'GeographicField48B',\n",
      " 'GeographicField49A',\n",
      " 'GeographicField49B',\n",
      " 'GeographicField50A',\n",
      " 'GeographicField50B',\n",
      " 'GeographicField51A',\n",
      " 'GeographicField51B',\n",
      " 'GeographicField52A',\n",
      " 'GeographicField52B',\n",
      " 'GeographicField53A',\n",
      " 'GeographicField53B',\n",
      " 'GeographicField54A',\n",
      " 'GeographicField54B',\n",
      " 'GeographicField55A',\n",
      " 'GeographicField55B',\n",
      " 'GeographicField56A',\n",
      " 'GeographicField56B',\n",
      " 'GeographicField57A',\n",
      " 'GeographicField57B',\n",
      " 'GeographicField58A',\n",
      " 'GeographicField58B',\n",
      " 'GeographicField59A',\n",
      " 'GeographicField59B',\n",
      " 'GeographicField60A',\n",
      " 'GeographicField60B',\n",
      " 'GeographicField61A',\n",
      " 'GeographicField61B',\n",
      " 'GeographicField62A',\n",
      " 'GeographicField62B',\n",
      " 'GeographicField63',\n",
      " 'GeographicField64']\n"
     ]
    }
   ],
   "source": [
    "data_overview(train)"
   ]
  },
  {
   "cell_type": "markdown",
   "metadata": {},
   "source": [
    "## Exploration functions"
   ]
  },
  {
   "cell_type": "code",
   "execution_count": 5,
   "metadata": {
    "ExecuteTime": {
     "end_time": "2020-05-08T12:31:26.021076Z",
     "start_time": "2020-05-08T12:31:26.013291Z"
    }
   },
   "outputs": [],
   "source": [
    "def feature_overview(df, feature):\n",
    "    print(\"Data type: \"+str(df[feature].dtypes))\n",
    "    print(\"Missing values count: \"+str(df[feature].isnull().sum()))\n",
    "    print(\"Missing rate: \" +str(df[feature].isnull().sum()/df.shape[0]))\n",
    "    print('Unique values: '+str(df[feature].nunique()))\n",
    "    if df[feature].nunique()>5:\n",
    "        print(df[feature].value_counts(dropna=False).iloc[:5])\n",
    "    else:\n",
    "        print(df[feature].value_counts(dropna=False))"
   ]
  },
  {
   "cell_type": "code",
   "execution_count": 16,
   "metadata": {
    "ExecuteTime": {
     "end_time": "2020-05-08T12:31:40.865954Z",
     "start_time": "2020-05-08T12:31:40.860161Z"
    }
   },
   "outputs": [],
   "source": [
    "def feature_plot(df,feature,target='QuoteConversion_Flag'):\n",
    "    if df[feature].dtype == 'object':\n",
    "        sns.countplot(x=feature, hue=target, data=df)\n",
    "    else:\n",
    "        print(\"Skewness:\"+str(round(df[feature].skew(),2)))\n",
    "        sns.distplot(df[feature])"
   ]
  },
  {
   "cell_type": "code",
   "execution_count": 7,
   "metadata": {
    "ExecuteTime": {
     "end_time": "2020-05-08T12:31:26.042584Z",
     "start_time": "2020-05-08T12:31:26.036541Z"
    }
   },
   "outputs": [],
   "source": [
    "col_to_transform = []\n",
    "def numeric_object(df,feature,add_to_list=True):\n",
    "    if (feature not in col_to_transform) and add_to_list==True:\n",
    "        col_to_transform.append(feature)\n",
    "    if df[feature].dtype == 'object':\n",
    "        df[feature]=pd.to_numeric(df[feature], errors='coerce').fillna(0)\n",
    "    else:\n",
    "        df[feature]=df[feature].astype('object')"
   ]
  },
  {
   "cell_type": "markdown",
   "metadata": {},
   "source": [
    "## Target exploration"
   ]
  },
  {
   "cell_type": "code",
   "execution_count": 8,
   "metadata": {
    "ExecuteTime": {
     "end_time": "2020-05-08T12:31:26.068683Z",
     "start_time": "2020-05-08T12:31:26.046057Z"
    }
   },
   "outputs": [
    {
     "name": "stdout",
     "output_type": "stream",
     "text": [
      "Data type: int64\n",
      "Missing values count: 0\n",
      "Missing rate: 0.0\n",
      "Unique values: 2\n",
      "0    211859\n",
      "1     48894\n",
      "Name: QuoteConversion_Flag, dtype: int64\n"
     ]
    }
   ],
   "source": [
    "feature_overview(train,'QuoteConversion_Flag') # imbalanced target"
   ]
  },
  {
   "cell_type": "code",
   "execution_count": 9,
   "metadata": {
    "ExecuteTime": {
     "end_time": "2020-05-08T12:31:26.081000Z",
     "start_time": "2020-05-08T12:31:26.074887Z"
    }
   },
   "outputs": [
    {
     "name": "stdout",
     "output_type": "stream",
     "text": [
      "4.333026547224608\n"
     ]
    }
   ],
   "source": [
    "imbalance_ratio = 211859/48894\n",
    "print(imbalance_ratio)"
   ]
  },
  {
   "cell_type": "markdown",
   "metadata": {},
   "source": [
    "## Feature exploration"
   ]
  },
  {
   "cell_type": "code",
   "execution_count": 10,
   "metadata": {
    "ExecuteTime": {
     "end_time": "2020-05-08T12:31:26.251544Z",
     "start_time": "2020-05-08T12:31:26.087727Z"
    }
   },
   "outputs": [
    {
     "name": "stdout",
     "output_type": "stream",
     "text": [
      "Data type: object\n",
      "Missing values count: 0\n",
      "Missing rate: 0.0\n",
      "Unique values: 868\n",
      "2014-03-03    646\n",
      "2015-03-31    608\n",
      "2014-02-24    600\n",
      "2015-03-23    594\n",
      "2015-03-17    586\n",
      "Name: Original_Quote_Date, dtype: int64\n"
     ]
    }
   ],
   "source": [
    "feature_overview(train,'Original_Quote_Date')  # to parse it with DATE"
   ]
  },
  {
   "cell_type": "code",
   "execution_count": 11,
   "metadata": {
    "ExecuteTime": {
     "end_time": "2020-05-08T12:31:26.389554Z",
     "start_time": "2020-05-08T12:31:26.259381Z"
    }
   },
   "outputs": [
    {
     "name": "stdout",
     "output_type": "stream",
     "text": [
      "Data type: int64\n",
      "Missing values count: 0\n",
      "Missing rate: 0.0\n",
      "Unique values: 260753\n",
      "4094      1\n",
      "24921     1\n",
      "127339    1\n",
      "129386    1\n",
      "123241    1\n",
      "Name: QuoteNumber, dtype: int64\n"
     ]
    }
   ],
   "source": [
    "feature_overview(train,'QuoteNumber') # Unique values == rows, this is an id, to drop"
   ]
  },
  {
   "cell_type": "code",
   "execution_count": 12,
   "metadata": {
    "ExecuteTime": {
     "end_time": "2020-05-08T12:31:26.484984Z",
     "start_time": "2020-05-08T12:31:26.393825Z"
    },
    "scrolled": false
   },
   "outputs": [
    {
     "name": "stdout",
     "output_type": "stream",
     "text": [
      "Data type: object\n",
      "Missing values count: 0\n",
      "Missing rate: 0.0\n",
      "Unique values: 8\n",
      "B    94694\n",
      "F    69053\n",
      "J    51782\n",
      "E    26063\n",
      "K    13226\n",
      "Name: Field6, dtype: int64\n"
     ]
    }
   ],
   "source": [
    "feature_overview(train,'Field6')"
   ]
  },
  {
   "cell_type": "code",
   "execution_count": 13,
   "metadata": {
    "ExecuteTime": {
     "end_time": "2020-05-08T12:31:26.849045Z",
     "start_time": "2020-05-08T12:31:26.489255Z"
    },
    "scrolled": false
   },
   "outputs": [
    {
     "data": {
      "image/png": "[encoded data removed]",
      "text/plain": [
       "<Figure size 432x288 with 1 Axes>"
      ]
     },
     "metadata": {
      "needs_background": "light"
     },
     "output_type": "display_data"
    }
   ],
   "source": [
    "feature_plot(train,'Field6')"
   ]
  },
  {
   "cell_type": "code",
   "execution_count": 14,
   "metadata": {
    "ExecuteTime": {
     "end_time": "2020-05-08T12:31:26.866999Z",
     "start_time": "2020-05-08T12:31:26.852017Z"
    }
   },
   "outputs": [
    {
     "name": "stdout",
     "output_type": "stream",
     "text": [
      "Data type: int64\n",
      "Missing values count: 0\n",
      "Missing rate: 0.0\n",
      "Unique values: 28\n",
      "23    66474\n",
      "25    39059\n",
      "11    26685\n",
      "7     22050\n",
      "26    16137\n",
      "Name: Field7, dtype: int64\n"
     ]
    }
   ],
   "source": [
    "feature_overview(train,'Field7')"
   ]
  },
  {
   "cell_type": "code",
   "execution_count": 17,
   "metadata": {
    "ExecuteTime": {
     "end_time": "2020-05-08T12:31:44.450809Z",
     "start_time": "2020-05-08T12:31:44.133306Z"
    }
   },
   "outputs": [
    {
     "name": "stdout",
     "output_type": "stream",
     "text": [
      "Skewness:-0.82\n"
     ]
    },
    {
     "data": {
      "image/png": "[encoded data removed]",
      "text/plain": [
       "<Figure size 432x288 with 1 Axes>"
      ]
     },
     "metadata": {
      "needs_background": "light"
     },
     "output_type": "display_data"
    }
   ],
   "source": [
    "feature_plot(train,'Field7')"
   ]
  },
  {
   "cell_type": "code",
   "execution_count": 18,
   "metadata": {
    "ExecuteTime": {
     "end_time": "2020-05-08T12:31:48.349985Z",
     "start_time": "2020-05-08T12:31:47.451830Z"
    }
   },
   "outputs": [
    {
     "data": {
      "image/png": "[encoded data removed]",
      "text/plain": [
       "<Figure size 432x288 with 1 Axes>"
      ]
     },
     "metadata": {
      "needs_background": "light"
     },
     "output_type": "display_data"
    }
   ],
   "source": [
    "numeric_object(train,'Field7')\n",
    "feature_plot(train,'Field7')"
   ]
  },
  {
   "cell_type": "code",
   "execution_count": 19,
   "metadata": {
    "ExecuteTime": {
     "end_time": "2020-05-08T12:32:02.655555Z",
     "start_time": "2020-05-08T12:32:02.634641Z"
    }
   },
   "outputs": [
    {
     "name": "stdout",
     "output_type": "stream",
     "text": [
      "Data type: float64\n",
      "Missing values count: 0\n",
      "Missing rate: 0.0\n",
      "Unique values: 38\n",
      "0.9403    48161\n",
      "0.9153    44198\n",
      "0.8870    18476\n",
      "1.0006    18371\n",
      "0.9919    16845\n",
      "Name: Field8, dtype: int64\n"
     ]
    }
   ],
   "source": [
    "feature_overview(train,'Field8')"
   ]
  },
  {
   "cell_type": "code",
   "execution_count": 20,
   "metadata": {
    "ExecuteTime": {
     "end_time": "2020-05-08T12:32:12.754608Z",
     "start_time": "2020-05-08T12:32:12.370486Z"
    }
   },
   "outputs": [
    {
     "name": "stdout",
     "output_type": "stream",
     "text": [
      "Skewness:0.35\n"
     ]
    },
    {
     "data": {
      "image/png": "[encoded data removed]",
      "text/plain": [
       "<Figure size 432x288 with 1 Axes>"
      ]
     },
     "metadata": {
      "needs_background": "light"
     },
     "output_type": "display_data"
    }
   ],
   "source": [
    "feature_plot(train,'Field8')"
   ]
  },
  {
   "cell_type": "code",
   "execution_count": 21,
   "metadata": {
    "ExecuteTime": {
     "end_time": "2020-05-08T12:32:26.270327Z",
     "start_time": "2020-05-08T12:32:25.474695Z"
    }
   },
   "outputs": [
    {
     "data": {
      "image/png": "[encoded data removed]",
      "text/plain": [
       "<Figure size 432x288 with 1 Axes>"
      ]
     },
     "metadata": {
      "needs_background": "light"
     },
     "output_type": "display_data"
    }
   ],
   "source": [
    "numeric_object(train,'Field8')\n",
    "feature_plot(train,'Field8')"
   ]
  },
  {
   "cell_type": "code",
   "execution_count": null,
   "metadata": {},
   "outputs": [],
   "source": []
  }
 ],
 "metadata": {
  "kernelspec": {
   "display_name": "Python 3",
   "language": "python",
   "name": "python3"
  },
  "language_info": {
   "codemirror_mode": {
    "name": "ipython",
    "version": 3
   },
   "file_extension": ".py",
   "mimetype": "text/x-python",
   "name": "python",
   "nbconvert_exporter": "python",
   "pygments_lexer": "ipython3",
   "version": "3.6.9"
  },
  "latex_envs": {
   "LaTeX_envs_menu_present": true,
   "autoclose": false,
   "autocomplete": true,
   "bibliofile": "biblio.bib",
   "cite_by": "apalike",
   "current_citInitial": 1,
   "eqLabelWithNumbers": true,
   "eqNumInitial": 1,
   "hotkeys": {
    "equation": "Ctrl-E",
    "itemize": "Ctrl-I"
   },
   "labels_anchors": false,
   "latex_user_defs": false,
   "report_style_numbering": false,
   "user_envs_cfg": false
  },
  "toc": {
   "base_numbering": 1,
   "nav_menu": {},
   "number_sections": true,
   "sideBar": true,
   "skip_h1_title": false,
   "title_cell": "Table of Contents",
   "title_sidebar": "Contents",
   "toc_cell": false,
   "toc_position": {},
   "toc_section_display": true,
   "toc_window_display": false
  }
 },
 "nbformat": 4,
 "nbformat_minor": 4
}
