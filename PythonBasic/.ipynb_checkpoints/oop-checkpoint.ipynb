{
 "cells": [
  {
   "cell_type": "code",
   "execution_count": 17,
   "metadata": {},
   "outputs": [],
   "source": [
    "#encapsulation\n",
    "class City:\n",
    "    def __init__(self, name, population, country):\n",
    "        self.population = population\n",
    "        self.country = country\n",
    "        self.name = name\n",
    "\n",
    "    def intro(self):\n",
    "        print(self.name)\n",
    "        \n",
    "    def getName(self):\n",
    "        return self.name\n",
    "\n",
    "    def getPopulation(self):\n",
    "        return self.population\n",
    "\n",
    "    def setPopulation(self, population):\n",
    "        self.population = population\n",
    "\n"
   ]
  },
  {
   "cell_type": "code",
   "execution_count": 18,
   "metadata": {},
   "outputs": [
    {
     "name": "stdout",
     "output_type": "stream",
     "text": [
      "Shanghai\n",
      "Shanghai\n",
      "23,000,000\n",
      "23123124\n"
     ]
    }
   ],
   "source": [
    "sh = City(\"Shanghai\", \"23,000,000\", \"China\")\n",
    "#print(sh.population)  cannot do this, encapsulated\n",
    "sh.intro() \n",
    "print(sh.getName())\n",
    "print(sh.getPopulation())\n",
    "sh.setPopulation(\"23123124\")\n",
    "print(sh.getPopulation())"
   ]
  },
  {
   "cell_type": "code",
   "execution_count": null,
   "metadata": {},
   "outputs": [],
   "source": []
  },
  {
   "cell_type": "code",
   "execution_count": null,
   "metadata": {},
   "outputs": [],
   "source": [
    "\n"
   ]
  },
  {
   "cell_type": "code",
   "execution_count": null,
   "metadata": {},
   "outputs": [],
   "source": []
  },
  {
   "cell_type": "code",
   "execution_count": null,
   "metadata": {},
   "outputs": [],
   "source": []
  }
 ],
 "metadata": {
  "kernelspec": {
   "display_name": "Python 3",
   "language": "python",
   "name": "python3"
  },
  "language_info": {
   "codemirror_mode": {
    "name": "ipython",
    "version": 3
   },
   "file_extension": ".py",
   "mimetype": "text/x-python",
   "name": "python",
   "nbconvert_exporter": "python",
   "pygments_lexer": "ipython3",
   "version": "3.7.4"
  }
 },
 "nbformat": 4,
 "nbformat_minor": 2
}
