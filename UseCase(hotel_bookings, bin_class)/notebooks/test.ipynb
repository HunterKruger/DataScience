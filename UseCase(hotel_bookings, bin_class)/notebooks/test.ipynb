{
 "cells": [
  {
   "cell_type": "code",
   "execution_count": 4,
   "metadata": {
    "ExecuteTime": {
     "end_time": "2020-04-03T20:38:28.248511Z",
     "start_time": "2020-04-03T20:38:27.815520Z"
    }
   },
   "outputs": [],
   "source": [
    "import pandas as pd \n",
    "import numpy as np\n",
    "from sklearn.model_selection import train_test_split\n",
    "# import tensorflow as tf\n",
    "# from tensorflow import keras\n",
    "# from tensorflow.keras import Sequential\n",
    "# from tensorflow.keras.layers import Flatten,Dense,Input,Dropout\n",
    "import matplotlib.pyplot as plt\n",
    "%matplotlib inline\n",
    "\n",
    "import joblib\n",
    "from sklearn.metrics import classification_report\n",
    "from sklearn.metrics import confusion_matrix\n",
    "from sklearn.metrics import roc_auc_score\n",
    "from sklearn.metrics import accuracy_score"
   ]
  },
  {
   "cell_type": "code",
   "execution_count": 5,
   "metadata": {
    "ExecuteTime": {
     "end_time": "2020-04-03T20:38:30.698895Z",
     "start_time": "2020-04-03T20:38:30.336648Z"
    }
   },
   "outputs": [
    {
     "data": {
      "text/plain": [
       "((23878, 48), (23878, 1))"
      ]
     },
     "execution_count": 5,
     "metadata": {},
     "output_type": "execute_result"
    }
   ],
   "source": [
    "X_test=pd.read_csv('../data/featured_data/X_test.csv')\n",
    "y_test=pd.read_csv('../data/featured_data/y_test.csv')\n",
    "X_test.shape,y_test.shape"
   ]
  },
  {
   "cell_type": "code",
   "execution_count": 6,
   "metadata": {
    "ExecuteTime": {
     "end_time": "2020-04-03T20:38:32.041191Z",
     "start_time": "2020-04-03T20:38:32.036466Z"
    }
   },
   "outputs": [],
   "source": [
    "X_test_NN = X_test.to_numpy()\n",
    "y_test_NN = y_test.to_numpy()\n",
    "y_test_NN = y_test_NN.ravel()"
   ]
  },
  {
   "cell_type": "code",
   "execution_count": 7,
   "metadata": {
    "ExecuteTime": {
     "end_time": "2020-04-03T20:38:32.418102Z",
     "start_time": "2020-04-03T20:38:32.410628Z"
    }
   },
   "outputs": [],
   "source": [
    "def result_overview(y_test,y_pred):\n",
    "    print(\"Confusion_Matrix:\")\n",
    "    print(str(confusion_matrix(y_test, y_pred)))\n",
    "    print(classification_report(y_test, y_pred))\n",
    "    print(\"Accuracy:\" + str(accuracy_score(y_test, y_pred)))\n",
    "    print(\"AUC_ROC:\" + str(roc_auc_score(y_test, y_pred)))"
   ]
  },
  {
   "cell_type": "markdown",
   "metadata": {},
   "source": [
    "### Test NN"
   ]
  },
  {
   "cell_type": "code",
   "execution_count": 8,
   "metadata": {
    "ExecuteTime": {
     "end_time": "2020-04-02T11:56:28.316115Z",
     "start_time": "2020-04-02T11:56:27.537988Z"
    }
   },
   "outputs": [],
   "source": [
    "nn = keras.models.load_model(\"../models/NN.h5\")"
   ]
  },
  {
   "cell_type": "code",
   "execution_count": 6,
   "metadata": {
    "ExecuteTime": {
     "end_time": "2020-04-02T11:11:29.230580Z",
     "start_time": "2020-04-02T11:11:27.816335Z"
    }
   },
   "outputs": [],
   "source": [
    "y_pred=nn.predict_classes(X_test_NN)"
   ]
  },
  {
   "cell_type": "code",
   "execution_count": 7,
   "metadata": {
    "ExecuteTime": {
     "end_time": "2020-04-02T11:11:29.285442Z",
     "start_time": "2020-04-02T11:11:29.231549Z"
    }
   },
   "outputs": [
    {
     "name": "stdout",
     "output_type": "stream",
     "text": [
      "Confusion_Matrix:\n",
      "[[14204   897]\n",
      " [ 1867  6910]]\n",
      "              precision    recall  f1-score   support\n",
      "\n",
      "           0       0.88      0.94      0.91     15101\n",
      "           1       0.89      0.79      0.83      8777\n",
      "\n",
      "    accuracy                           0.88     23878\n",
      "   macro avg       0.88      0.86      0.87     23878\n",
      "weighted avg       0.88      0.88      0.88     23878\n",
      "\n",
      "Accuracy:0.8842449116341402\n",
      "AUC_ROC:0.8639424547834185\n"
     ]
    }
   ],
   "source": [
    "result_overview(y_test_NN,y_pred)"
   ]
  },
  {
   "cell_type": "markdown",
   "metadata": {},
   "source": [
    "### Test SVC"
   ]
  },
  {
   "cell_type": "code",
   "execution_count": 12,
   "metadata": {
    "ExecuteTime": {
     "end_time": "2020-04-02T11:57:53.388176Z",
     "start_time": "2020-04-02T11:57:53.357413Z"
    }
   },
   "outputs": [],
   "source": [
    "svc=joblib.load(\"../models/svc.m\")"
   ]
  },
  {
   "cell_type": "code",
   "execution_count": 10,
   "metadata": {
    "ExecuteTime": {
     "end_time": "2020-04-02T11:02:48.861316Z",
     "start_time": "2020-04-02T11:02:15.049407Z"
    }
   },
   "outputs": [],
   "source": [
    "y_pred = svc.predict(X_test)"
   ]
  },
  {
   "cell_type": "code",
   "execution_count": 11,
   "metadata": {
    "ExecuteTime": {
     "end_time": "2020-04-02T11:02:51.946104Z",
     "start_time": "2020-04-02T11:02:51.893068Z"
    }
   },
   "outputs": [
    {
     "name": "stdout",
     "output_type": "stream",
     "text": [
      "Confusion_Matrix:\n",
      "[[14093  1008]\n",
      " [ 1858  6919]]\n",
      "              precision    recall  f1-score   support\n",
      "\n",
      "           0       0.88      0.93      0.91     15101\n",
      "           1       0.87      0.79      0.83      8777\n",
      "\n",
      "    accuracy                           0.88     23878\n",
      "   macro avg       0.88      0.86      0.87     23878\n",
      "weighted avg       0.88      0.88      0.88     23878\n",
      "\n",
      "Accuracy:0.8799731970851831\n",
      "AUC_ROC:0.8607799051462207\n"
     ]
    }
   ],
   "source": [
    "result_overview(y_test,y_pred)"
   ]
  },
  {
   "cell_type": "markdown",
   "metadata": {},
   "source": [
    "### Test RF"
   ]
  },
  {
   "cell_type": "code",
   "execution_count": 14,
   "metadata": {
    "ExecuteTime": {
     "end_time": "2020-04-02T11:58:05.595398Z",
     "start_time": "2020-04-02T11:58:04.242925Z"
    }
   },
   "outputs": [
    {
     "name": "stdout",
     "output_type": "stream",
     "text": [
      "Confusion_Matrix:\n",
      "[[14343   758]\n",
      " [ 1866  6911]]\n",
      "              precision    recall  f1-score   support\n",
      "\n",
      "           0       0.88      0.95      0.92     15101\n",
      "           1       0.90      0.79      0.84      8777\n",
      "\n",
      "    accuracy                           0.89     23878\n",
      "   macro avg       0.89      0.87      0.88     23878\n",
      "weighted avg       0.89      0.89      0.89     23878\n",
      "\n",
      "Accuracy:0.890108049250356\n",
      "AUC_ROC:0.8686017660720651\n"
     ]
    }
   ],
   "source": [
    "rf=joblib.load(\"../models/rf.m\")\n",
    "y_pred = rf.predict(X_test)\n",
    "result_overview(y_test,y_pred)"
   ]
  },
  {
   "cell_type": "markdown",
   "metadata": {},
   "source": [
    "### Test LGBC"
   ]
  },
  {
   "cell_type": "code",
   "execution_count": 15,
   "metadata": {
    "ExecuteTime": {
     "end_time": "2020-04-02T11:58:16.478800Z",
     "start_time": "2020-04-02T11:58:16.313265Z"
    }
   },
   "outputs": [
    {
     "name": "stdout",
     "output_type": "stream",
     "text": [
      "Confusion_Matrix:\n",
      "[[13724  1377]\n",
      " [ 2006  6771]]\n",
      "              precision    recall  f1-score   support\n",
      "\n",
      "           0       0.87      0.91      0.89     15101\n",
      "           1       0.83      0.77      0.80      8777\n",
      "\n",
      "    accuracy                           0.86     23878\n",
      "   macro avg       0.85      0.84      0.85     23878\n",
      "weighted avg       0.86      0.86      0.86     23878\n",
      "\n",
      "Accuracy:0.8583214674595863\n",
      "AUC_ROC:0.8401310444126107\n"
     ]
    }
   ],
   "source": [
    "lgbc=joblib.load(\"../models/lgbc.m\")\n",
    "y_pred = lgbc.predict(X_test)\n",
    "result_overview(y_test,y_pred)"
   ]
  },
  {
   "cell_type": "markdown",
   "metadata": {},
   "source": [
    "### Test Voter"
   ]
  },
  {
   "cell_type": "code",
   "execution_count": 12,
   "metadata": {
    "ExecuteTime": {
     "end_time": "2020-04-03T20:58:22.485656Z",
     "start_time": "2020-04-03T20:58:20.447307Z"
    }
   },
   "outputs": [],
   "source": [
    "voter=joblib.load(\"../models/voter.m\")"
   ]
  },
  {
   "cell_type": "code",
   "execution_count": 13,
   "metadata": {
    "ExecuteTime": {
     "end_time": "2020-04-03T20:59:04.529195Z",
     "start_time": "2020-04-03T20:58:22.488899Z"
    }
   },
   "outputs": [
    {
     "name": "stdout",
     "output_type": "stream",
     "text": [
      "Confusion_Matrix:\n",
      "[[14258   843]\n",
      " [ 1894  6883]]\n",
      "              precision    recall  f1-score   support\n",
      "\n",
      "           0       0.88      0.94      0.91     15101\n",
      "           1       0.89      0.78      0.83      8777\n",
      "\n",
      "    accuracy                           0.89     23878\n",
      "   macro avg       0.89      0.86      0.87     23878\n",
      "weighted avg       0.89      0.89      0.88     23878\n",
      "\n",
      "Accuracy:0.8853756596029818\n",
      "AUC_ROC:0.8641923048737414\n"
     ]
    }
   ],
   "source": [
    "y_pred = voter.predict(X_test)\n",
    "result_overview(y_test,y_pred)"
   ]
  },
  {
   "cell_type": "code",
   "execution_count": null,
   "metadata": {},
   "outputs": [],
   "source": []
  }
 ],
 "metadata": {
  "kernelspec": {
   "display_name": "Python 3",
   "language": "python",
   "name": "python3"
  },
  "language_info": {
   "codemirror_mode": {
    "name": "ipython",
    "version": 3
   },
   "file_extension": ".py",
   "mimetype": "text/x-python",
   "name": "python",
   "nbconvert_exporter": "python",
   "pygments_lexer": "ipython3",
   "version": "3.6.5"
  },
  "latex_envs": {
   "LaTeX_envs_menu_present": true,
   "autoclose": false,
   "autocomplete": true,
   "bibliofile": "biblio.bib",
   "cite_by": "apalike",
   "current_citInitial": 1,
   "eqLabelWithNumbers": true,
   "eqNumInitial": 1,
   "hotkeys": {
    "equation": "Ctrl-E",
    "itemize": "Ctrl-I"
   },
   "labels_anchors": false,
   "latex_user_defs": false,
   "report_style_numbering": false,
   "user_envs_cfg": false
  },
  "toc": {
   "base_numbering": 1,
   "nav_menu": {},
   "number_sections": true,
   "sideBar": true,
   "skip_h1_title": false,
   "title_cell": "Table of Contents",
   "title_sidebar": "Contents",
   "toc_cell": false,
   "toc_position": {},
   "toc_section_display": true,
   "toc_window_display": false
  }
 },
 "nbformat": 4,
 "nbformat_minor": 4
}
