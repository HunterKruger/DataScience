{
 "cells": [
  {
   "cell_type": "code",
   "execution_count": 1,
   "metadata": {},
   "outputs": [],
   "source": [
    "import numpy as np\n",
    "import matplotlib.pyplot as plt\n",
    "import pandas as pd \n",
    "import tensorflow as tf\n",
    "import math\n",
    "from tensorflow.keras import Sequential\n",
    "from tensorflow.keras.layers import LSTM,Dense\n",
    "from sklearn.preprocessing import MinMaxScaler\n",
    "from sklearn.metrics import mean_squared_error"
   ]
  },
  {
   "cell_type": "code",
   "execution_count": 2,
   "metadata": {},
   "outputs": [
    {
     "data": {
      "text/html": [
       "<div>\n",
       "<style scoped>\n",
       "    .dataframe tbody tr th:only-of-type {\n",
       "        vertical-align: middle;\n",
       "    }\n",
       "\n",
       "    .dataframe tbody tr th {\n",
       "        vertical-align: top;\n",
       "    }\n",
       "\n",
       "    .dataframe thead th {\n",
       "        text-align: right;\n",
       "    }\n",
       "</style>\n",
       "<table border=\"1\" class=\"dataframe\">\n",
       "  <thead>\n",
       "    <tr style=\"text-align: right;\">\n",
       "      <th></th>\n",
       "      <th>Month</th>\n",
       "      <th>Passengers</th>\n",
       "    </tr>\n",
       "  </thead>\n",
       "  <tbody>\n",
       "    <tr>\n",
       "      <td>0</td>\n",
       "      <td>Jan-49</td>\n",
       "      <td>112</td>\n",
       "    </tr>\n",
       "    <tr>\n",
       "      <td>1</td>\n",
       "      <td>Feb-49</td>\n",
       "      <td>118</td>\n",
       "    </tr>\n",
       "    <tr>\n",
       "      <td>2</td>\n",
       "      <td>Mar-49</td>\n",
       "      <td>132</td>\n",
       "    </tr>\n",
       "    <tr>\n",
       "      <td>3</td>\n",
       "      <td>Apr-49</td>\n",
       "      <td>129</td>\n",
       "    </tr>\n",
       "    <tr>\n",
       "      <td>4</td>\n",
       "      <td>May-49</td>\n",
       "      <td>121</td>\n",
       "    </tr>\n",
       "  </tbody>\n",
       "</table>\n",
       "</div>"
      ],
      "text/plain": [
       "    Month  Passengers\n",
       "0  Jan-49         112\n",
       "1  Feb-49         118\n",
       "2  Mar-49         132\n",
       "3  Apr-49         129\n",
       "4  May-49         121"
      ]
     },
     "execution_count": 2,
     "metadata": {},
     "output_type": "execute_result"
    }
   ],
   "source": [
    "data =pd.read_csv('AirPassengers.csv')\n",
    "data.head()"
   ]
  },
  {
   "cell_type": "code",
   "execution_count": 3,
   "metadata": {},
   "outputs": [
    {
     "data": {
      "text/plain": [
       "array([[112],\n",
       "       [118],\n",
       "       [132],\n",
       "       [129],\n",
       "       [121],\n",
       "       [135],\n",
       "       [148],\n",
       "       [148],\n",
       "       [136],\n",
       "       [119],\n",
       "       [104],\n",
       "       [118],\n",
       "       [115],\n",
       "       [126],\n",
       "       [141],\n",
       "       [135],\n",
       "       [125],\n",
       "       [149],\n",
       "       [170],\n",
       "       [170],\n",
       "       [158],\n",
       "       [133],\n",
       "       [114],\n",
       "       [140],\n",
       "       [145],\n",
       "       [150],\n",
       "       [178],\n",
       "       [163],\n",
       "       [172],\n",
       "       [178],\n",
       "       [199],\n",
       "       [199],\n",
       "       [184],\n",
       "       [162],\n",
       "       [146],\n",
       "       [166],\n",
       "       [171],\n",
       "       [180],\n",
       "       [193],\n",
       "       [181],\n",
       "       [183],\n",
       "       [218],\n",
       "       [230],\n",
       "       [242],\n",
       "       [209],\n",
       "       [191],\n",
       "       [172],\n",
       "       [194],\n",
       "       [196],\n",
       "       [196],\n",
       "       [236],\n",
       "       [235],\n",
       "       [229],\n",
       "       [243],\n",
       "       [264],\n",
       "       [272],\n",
       "       [237],\n",
       "       [211],\n",
       "       [180],\n",
       "       [201],\n",
       "       [204],\n",
       "       [188],\n",
       "       [235],\n",
       "       [227],\n",
       "       [234],\n",
       "       [264],\n",
       "       [302],\n",
       "       [293],\n",
       "       [259],\n",
       "       [229],\n",
       "       [203],\n",
       "       [229],\n",
       "       [242],\n",
       "       [233],\n",
       "       [267],\n",
       "       [269],\n",
       "       [270],\n",
       "       [315],\n",
       "       [364],\n",
       "       [347],\n",
       "       [312],\n",
       "       [274],\n",
       "       [237],\n",
       "       [278],\n",
       "       [284],\n",
       "       [277],\n",
       "       [317],\n",
       "       [313],\n",
       "       [318],\n",
       "       [374],\n",
       "       [413],\n",
       "       [405],\n",
       "       [355],\n",
       "       [306],\n",
       "       [271],\n",
       "       [306],\n",
       "       [315],\n",
       "       [301],\n",
       "       [356],\n",
       "       [348],\n",
       "       [355],\n",
       "       [422],\n",
       "       [465],\n",
       "       [467],\n",
       "       [404],\n",
       "       [347],\n",
       "       [305],\n",
       "       [336],\n",
       "       [340],\n",
       "       [318],\n",
       "       [362],\n",
       "       [348],\n",
       "       [363],\n",
       "       [435],\n",
       "       [491],\n",
       "       [505],\n",
       "       [404],\n",
       "       [359],\n",
       "       [310],\n",
       "       [337],\n",
       "       [360],\n",
       "       [342],\n",
       "       [406],\n",
       "       [396],\n",
       "       [420],\n",
       "       [472],\n",
       "       [548],\n",
       "       [559],\n",
       "       [463],\n",
       "       [407],\n",
       "       [362],\n",
       "       [405],\n",
       "       [417],\n",
       "       [391],\n",
       "       [419],\n",
       "       [461],\n",
       "       [472],\n",
       "       [535],\n",
       "       [622],\n",
       "       [606],\n",
       "       [508],\n",
       "       [461],\n",
       "       [390],\n",
       "       [432]], dtype=int64)"
      ]
     },
     "execution_count": 3,
     "metadata": {},
     "output_type": "execute_result"
    }
   ],
   "source": [
    "data = data['Passengers']\n",
    "data = np.array(data).reshape(-1,1)\n",
    "data"
   ]
  },
  {
   "cell_type": "code",
   "execution_count": 4,
   "metadata": {},
   "outputs": [
    {
     "data": {
      "text/plain": [
       "[<matplotlib.lines.Line2D at 0x1fbf7a8df98>]"
      ]
     },
     "execution_count": 4,
     "metadata": {},
     "output_type": "execute_result"
    },
    {
     "data": {
      "image/png": "[encoded data removed]",
      "text/plain": [
       "<Figure size 432x288 with 1 Axes>"
      ]
     },
     "metadata": {
      "needs_background": "light"
     },
     "output_type": "display_data"
    }
   ],
   "source": [
    "plt.plot(data)"
   ]
  },
  {
   "cell_type": "code",
   "execution_count": 5,
   "metadata": {},
   "outputs": [
    {
     "data": {
      "text/plain": [
       "0.0"
      ]
     },
     "execution_count": 5,
     "metadata": {},
     "output_type": "execute_result"
    }
   ],
   "source": [
    "scaler =MinMaxScaler()\n",
    "data = scaler.fit_transform(data)\n",
    "data.min()"
   ]
  },
  {
   "cell_type": "code",
   "execution_count": 6,
   "metadata": {},
   "outputs": [
    {
     "data": {
      "text/plain": [
       "[<matplotlib.lines.Line2D at 0x1fbf7b2eb38>]"
      ]
     },
     "execution_count": 6,
     "metadata": {},
     "output_type": "execute_result"
    },
    {
     "data": {
      "image/png": "[encoded data removed]",
      "text/plain": [
       "<Figure size 432x288 with 1 Axes>"
      ]
     },
     "metadata": {
      "needs_background": "light"
     },
     "output_type": "display_data"
    }
   ],
   "source": [
    "plt.plot(data)"
   ]
  },
  {
   "cell_type": "code",
   "execution_count": 7,
   "metadata": {},
   "outputs": [
    {
     "data": {
      "text/plain": [
       "array([[0.01544402],\n",
       "       [0.02702703],\n",
       "       [0.05405405],\n",
       "       [0.04826255],\n",
       "       [0.03281853],\n",
       "       [0.05984556],\n",
       "       [0.08494208],\n",
       "       [0.08494208],\n",
       "       [0.06177606],\n",
       "       [0.02895753],\n",
       "       [0.        ],\n",
       "       [0.02702703],\n",
       "       [0.02123552],\n",
       "       [0.04247104],\n",
       "       [0.07142857],\n",
       "       [0.05984556],\n",
       "       [0.04054054],\n",
       "       [0.08687259],\n",
       "       [0.12741313],\n",
       "       [0.12741313],\n",
       "       [0.1042471 ],\n",
       "       [0.05598456],\n",
       "       [0.01930502],\n",
       "       [0.06949807],\n",
       "       [0.07915058],\n",
       "       [0.08880309],\n",
       "       [0.14285714],\n",
       "       [0.11389961],\n",
       "       [0.13127413],\n",
       "       [0.14285714],\n",
       "       [0.18339768],\n",
       "       [0.18339768],\n",
       "       [0.15444015],\n",
       "       [0.11196911],\n",
       "       [0.08108108],\n",
       "       [0.11969112],\n",
       "       [0.12934363],\n",
       "       [0.14671815],\n",
       "       [0.17181467],\n",
       "       [0.14864865],\n",
       "       [0.15250965],\n",
       "       [0.22007722],\n",
       "       [0.24324324],\n",
       "       [0.26640927],\n",
       "       [0.2027027 ],\n",
       "       [0.16795367],\n",
       "       [0.13127413],\n",
       "       [0.17374517],\n",
       "       [0.17760618],\n",
       "       [0.17760618],\n",
       "       [0.25482625],\n",
       "       [0.25289575],\n",
       "       [0.24131274],\n",
       "       [0.26833977],\n",
       "       [0.30888031],\n",
       "       [0.32432432],\n",
       "       [0.25675676],\n",
       "       [0.20656371],\n",
       "       [0.14671815],\n",
       "       [0.18725869],\n",
       "       [0.19305019],\n",
       "       [0.16216216],\n",
       "       [0.25289575],\n",
       "       [0.23745174],\n",
       "       [0.25096525],\n",
       "       [0.30888031],\n",
       "       [0.38223938],\n",
       "       [0.36486486],\n",
       "       [0.2992278 ],\n",
       "       [0.24131274],\n",
       "       [0.19111969],\n",
       "       [0.24131274],\n",
       "       [0.26640927],\n",
       "       [0.24903475],\n",
       "       [0.31467181],\n",
       "       [0.31853282],\n",
       "       [0.32046332],\n",
       "       [0.40733591],\n",
       "       [0.5019305 ],\n",
       "       [0.46911197],\n",
       "       [0.4015444 ],\n",
       "       [0.32818533],\n",
       "       [0.25675676],\n",
       "       [0.33590734],\n",
       "       [0.34749035],\n",
       "       [0.33397683],\n",
       "       [0.41119691],\n",
       "       [0.4034749 ],\n",
       "       [0.41312741],\n",
       "       [0.52123552],\n",
       "       [0.5965251 ],\n",
       "       [0.58108108],\n",
       "       [0.48455598],\n",
       "       [0.38996139],\n",
       "       [0.32239382],\n",
       "       [0.38996139],\n",
       "       [0.40733591],\n",
       "       [0.38030888],\n",
       "       [0.48648649],\n",
       "       [0.47104247],\n",
       "       [0.48455598],\n",
       "       [0.61389961],\n",
       "       [0.6969112 ],\n",
       "       [0.7007722 ],\n",
       "       [0.57915058],\n",
       "       [0.46911197],\n",
       "       [0.38803089],\n",
       "       [0.44787645],\n",
       "       [0.45559846],\n",
       "       [0.41312741],\n",
       "       [0.4980695 ],\n",
       "       [0.47104247],\n",
       "       [0.5       ],\n",
       "       [0.63899614],\n",
       "       [0.74710425],\n",
       "       [0.77413127],\n",
       "       [0.57915058],\n",
       "       [0.49227799],\n",
       "       [0.3976834 ],\n",
       "       [0.44980695],\n",
       "       [0.49420849],\n",
       "       [0.45945946],\n",
       "       [0.58301158],\n",
       "       [0.56370656],\n",
       "       [0.61003861],\n",
       "       [0.71042471],\n",
       "       [0.85714286],\n",
       "       [0.87837838],\n",
       "       [0.69305019],\n",
       "       [0.58494208],\n",
       "       [0.4980695 ],\n",
       "       [0.58108108],\n",
       "       [0.6042471 ],\n",
       "       [0.55405405],\n",
       "       [0.60810811],\n",
       "       [0.68918919],\n",
       "       [0.71042471],\n",
       "       [0.83204633],\n",
       "       [1.        ],\n",
       "       [0.96911197],\n",
       "       [0.77992278],\n",
       "       [0.68918919],\n",
       "       [0.55212355],\n",
       "       [0.63320463]])"
      ]
     },
     "execution_count": 7,
     "metadata": {},
     "output_type": "execute_result"
    }
   ],
   "source": [
    "data"
   ]
  },
  {
   "cell_type": "code",
   "execution_count": 8,
   "metadata": {},
   "outputs": [],
   "source": [
    "train_size=100\n",
    "test_size=44"
   ]
  },
  {
   "cell_type": "code",
   "execution_count": 9,
   "metadata": {},
   "outputs": [
    {
     "data": {
      "text/plain": [
       "(100, 1)"
      ]
     },
     "execution_count": 9,
     "metadata": {},
     "output_type": "execute_result"
    }
   ],
   "source": [
    "train_set = data[0:train_size,:]\n",
    "train_set.shape"
   ]
  },
  {
   "cell_type": "code",
   "execution_count": 10,
   "metadata": {},
   "outputs": [
    {
     "data": {
      "text/plain": [
       "(44, 1)"
      ]
     },
     "execution_count": 10,
     "metadata": {},
     "output_type": "execute_result"
    }
   ],
   "source": [
    "test_set = data[train_size:train_size+test_size,:]\n",
    "test_set.shape"
   ]
  },
  {
   "cell_type": "code",
   "execution_count": 11,
   "metadata": {},
   "outputs": [],
   "source": [
    "def get_data(data,look_back):\n",
    "    dataX,dataY=[],[]\n",
    "    for i in range(len(data)-look_back-1):\n",
    "        a = data[i:(i+look_back),0]\n",
    "        dataX.append(a)\n",
    "        dataY.append(data[i+look_back,0])\n",
    "    return np.array(dataX),np.array(dataY)"
   ]
  },
  {
   "cell_type": "code",
   "execution_count": 12,
   "metadata": {},
   "outputs": [],
   "source": [
    "look_back=1\n",
    "X_train,y_train=get_data(train_set,look_back)"
   ]
  },
  {
   "cell_type": "code",
   "execution_count": 13,
   "metadata": {},
   "outputs": [
    {
     "data": {
      "text/plain": [
       "array([[0.01544402],\n",
       "       [0.02702703],\n",
       "       [0.05405405],\n",
       "       [0.04826255],\n",
       "       [0.03281853],\n",
       "       [0.05984556],\n",
       "       [0.08494208],\n",
       "       [0.08494208],\n",
       "       [0.06177606],\n",
       "       [0.02895753],\n",
       "       [0.        ],\n",
       "       [0.02702703],\n",
       "       [0.02123552],\n",
       "       [0.04247104],\n",
       "       [0.07142857],\n",
       "       [0.05984556],\n",
       "       [0.04054054],\n",
       "       [0.08687259],\n",
       "       [0.12741313],\n",
       "       [0.12741313],\n",
       "       [0.1042471 ],\n",
       "       [0.05598456],\n",
       "       [0.01930502],\n",
       "       [0.06949807],\n",
       "       [0.07915058],\n",
       "       [0.08880309],\n",
       "       [0.14285714],\n",
       "       [0.11389961],\n",
       "       [0.13127413],\n",
       "       [0.14285714],\n",
       "       [0.18339768],\n",
       "       [0.18339768],\n",
       "       [0.15444015],\n",
       "       [0.11196911],\n",
       "       [0.08108108],\n",
       "       [0.11969112],\n",
       "       [0.12934363],\n",
       "       [0.14671815],\n",
       "       [0.17181467],\n",
       "       [0.14864865],\n",
       "       [0.15250965],\n",
       "       [0.22007722],\n",
       "       [0.24324324],\n",
       "       [0.26640927],\n",
       "       [0.2027027 ],\n",
       "       [0.16795367],\n",
       "       [0.13127413],\n",
       "       [0.17374517],\n",
       "       [0.17760618],\n",
       "       [0.17760618],\n",
       "       [0.25482625],\n",
       "       [0.25289575],\n",
       "       [0.24131274],\n",
       "       [0.26833977],\n",
       "       [0.30888031],\n",
       "       [0.32432432],\n",
       "       [0.25675676],\n",
       "       [0.20656371],\n",
       "       [0.14671815],\n",
       "       [0.18725869],\n",
       "       [0.19305019],\n",
       "       [0.16216216],\n",
       "       [0.25289575],\n",
       "       [0.23745174],\n",
       "       [0.25096525],\n",
       "       [0.30888031],\n",
       "       [0.38223938],\n",
       "       [0.36486486],\n",
       "       [0.2992278 ],\n",
       "       [0.24131274],\n",
       "       [0.19111969],\n",
       "       [0.24131274],\n",
       "       [0.26640927],\n",
       "       [0.24903475],\n",
       "       [0.31467181],\n",
       "       [0.31853282],\n",
       "       [0.32046332],\n",
       "       [0.40733591],\n",
       "       [0.5019305 ],\n",
       "       [0.46911197],\n",
       "       [0.4015444 ],\n",
       "       [0.32818533],\n",
       "       [0.25675676],\n",
       "       [0.33590734],\n",
       "       [0.34749035],\n",
       "       [0.33397683],\n",
       "       [0.41119691],\n",
       "       [0.4034749 ],\n",
       "       [0.41312741],\n",
       "       [0.52123552],\n",
       "       [0.5965251 ],\n",
       "       [0.58108108],\n",
       "       [0.48455598],\n",
       "       [0.38996139],\n",
       "       [0.32239382],\n",
       "       [0.38996139],\n",
       "       [0.40733591],\n",
       "       [0.38030888]])"
      ]
     },
     "execution_count": 13,
     "metadata": {},
     "output_type": "execute_result"
    }
   ],
   "source": [
    "X_train"
   ]
  },
  {
   "cell_type": "code",
   "execution_count": 14,
   "metadata": {},
   "outputs": [
    {
     "data": {
      "text/plain": [
       "array([0.02702703, 0.05405405, 0.04826255, 0.03281853, 0.05984556,\n",
       "       0.08494208, 0.08494208, 0.06177606, 0.02895753, 0.        ,\n",
       "       0.02702703, 0.02123552, 0.04247104, 0.07142857, 0.05984556,\n",
       "       0.04054054, 0.08687259, 0.12741313, 0.12741313, 0.1042471 ,\n",
       "       0.05598456, 0.01930502, 0.06949807, 0.07915058, 0.08880309,\n",
       "       0.14285714, 0.11389961, 0.13127413, 0.14285714, 0.18339768,\n",
       "       0.18339768, 0.15444015, 0.11196911, 0.08108108, 0.11969112,\n",
       "       0.12934363, 0.14671815, 0.17181467, 0.14864865, 0.15250965,\n",
       "       0.22007722, 0.24324324, 0.26640927, 0.2027027 , 0.16795367,\n",
       "       0.13127413, 0.17374517, 0.17760618, 0.17760618, 0.25482625,\n",
       "       0.25289575, 0.24131274, 0.26833977, 0.30888031, 0.32432432,\n",
       "       0.25675676, 0.20656371, 0.14671815, 0.18725869, 0.19305019,\n",
       "       0.16216216, 0.25289575, 0.23745174, 0.25096525, 0.30888031,\n",
       "       0.38223938, 0.36486486, 0.2992278 , 0.24131274, 0.19111969,\n",
       "       0.24131274, 0.26640927, 0.24903475, 0.31467181, 0.31853282,\n",
       "       0.32046332, 0.40733591, 0.5019305 , 0.46911197, 0.4015444 ,\n",
       "       0.32818533, 0.25675676, 0.33590734, 0.34749035, 0.33397683,\n",
       "       0.41119691, 0.4034749 , 0.41312741, 0.52123552, 0.5965251 ,\n",
       "       0.58108108, 0.48455598, 0.38996139, 0.32239382, 0.38996139,\n",
       "       0.40733591, 0.38030888, 0.48648649])"
      ]
     },
     "execution_count": 14,
     "metadata": {},
     "output_type": "execute_result"
    }
   ],
   "source": [
    "y_train"
   ]
  },
  {
   "cell_type": "code",
   "execution_count": 15,
   "metadata": {},
   "outputs": [],
   "source": [
    "X_test,y_test=get_data(test_set,look_back)"
   ]
  },
  {
   "cell_type": "code",
   "execution_count": 16,
   "metadata": {},
   "outputs": [],
   "source": [
    "X_train=X_train.reshape(X_train.shape[0],X_train.shape[1],1)\n",
    "X_test=X_test.reshape(X_test.shape[0],X_test.shape[1],1)"
   ]
  },
  {
   "cell_type": "code",
   "execution_count": 17,
   "metadata": {},
   "outputs": [
    {
     "data": {
      "text/plain": [
       "(98, 1, 1)"
      ]
     },
     "execution_count": 17,
     "metadata": {},
     "output_type": "execute_result"
    }
   ],
   "source": [
    "X_train.shape"
   ]
  },
  {
   "cell_type": "markdown",
   "metadata": {},
   "source": [
    "## RNN + LSTM"
   ]
  },
  {
   "cell_type": "code",
   "execution_count": 18,
   "metadata": {},
   "outputs": [
    {
     "name": "stdout",
     "output_type": "stream",
     "text": [
      "WARNING:tensorflow:From C:\\Utilities\\Anaconda3\\lib\\site-packages\\tensorflow\\python\\ops\\init_ops.py:1251: calling VarianceScaling.__init__ (from tensorflow.python.ops.init_ops) with dtype is deprecated and will be removed in a future version.\n",
      "Instructions for updating:\n",
      "Call initializer instance with the dtype argument instead of passing it to the constructor\n"
     ]
    }
   ],
   "source": [
    "model=Sequential()\n",
    "model.add(LSTM(5,input_shape=(1,look_back)))\n",
    "model.add(Dense(1))\n",
    "model.compile(loss='mean_squared_error',optimizer='adam')"
   ]
  },
  {
   "cell_type": "code",
   "execution_count": 19,
   "metadata": {},
   "outputs": [
    {
     "name": "stdout",
     "output_type": "stream",
     "text": [
      "Model: \"sequential\"\n",
      "_________________________________________________________________\n",
      "Layer (type)                 Output Shape              Param #   \n",
      "=================================================================\n",
      "lstm (LSTM)                  (None, 5)                 140       \n",
      "_________________________________________________________________\n",
      "dense (Dense)                (None, 1)                 6         \n",
      "=================================================================\n",
      "Total params: 146\n",
      "Trainable params: 146\n",
      "Non-trainable params: 0\n",
      "_________________________________________________________________\n"
     ]
    }
   ],
   "source": [
    "model.summary()"
   ]
  },
  {
   "cell_type": "code",
   "execution_count": 20,
   "metadata": {},
   "outputs": [
    {
     "name": "stdout",
     "output_type": "stream",
     "text": [
      "WARNING:tensorflow:From C:\\Utilities\\Anaconda3\\lib\\site-packages\\tensorflow\\python\\ops\\math_grad.py:1250: add_dispatch_support.<locals>.wrapper (from tensorflow.python.ops.array_ops) is deprecated and will be removed in a future version.\n",
      "Instructions for updating:\n",
      "Use tf.where in 2.0, which has the same broadcast rule as np.where\n",
      "Epoch 1/50\n",
      "98/98 [==============================] - 2s 18ms/sample - loss: 0.0422\n",
      "Epoch 2/50\n",
      "98/98 [==============================] - 0s 4ms/sample - loss: 0.0183\n",
      "Epoch 3/50\n",
      "98/98 [==============================] - 0s 4ms/sample - loss: 0.0145\n",
      "Epoch 4/50\n",
      "98/98 [==============================] - 0s 4ms/sample - loss: 0.0132\n",
      "Epoch 5/50\n",
      "98/98 [==============================] - 0s 4ms/sample - loss: 0.0118\n",
      "Epoch 6/50\n",
      "98/98 [==============================] - 0s 4ms/sample - loss: 0.0105\n",
      "Epoch 7/50\n",
      "98/98 [==============================] - 0s 4ms/sample - loss: 0.0095\n",
      "Epoch 8/50\n",
      "98/98 [==============================] - 0s 4ms/sample - loss: 0.0084\n",
      "Epoch 9/50\n",
      "98/98 [==============================] - 0s 4ms/sample - loss: 0.0073\n",
      "Epoch 10/50\n",
      "98/98 [==============================] - 0s 4ms/sample - loss: 0.0063\n",
      "Epoch 11/50\n",
      "98/98 [==============================] - 0s 4ms/sample - loss: 0.0055\n",
      "Epoch 12/50\n",
      "98/98 [==============================] - 0s 4ms/sample - loss: 0.0047\n",
      "Epoch 13/50\n",
      "98/98 [==============================] - 0s 4ms/sample - loss: 0.0041\n",
      "Epoch 14/50\n",
      "98/98 [==============================] - 0s 4ms/sample - loss: 0.0037\n",
      "Epoch 15/50\n",
      "98/98 [==============================] - 0s 4ms/sample - loss: 0.0032\n",
      "Epoch 16/50\n",
      "98/98 [==============================] - 0s 4ms/sample - loss: 0.0029\n",
      "Epoch 17/50\n",
      "98/98 [==============================] - 0s 4ms/sample - loss: 0.0027\n",
      "Epoch 18/50\n",
      "98/98 [==============================] - 0s 4ms/sample - loss: 0.0025\n",
      "Epoch 19/50\n",
      "98/98 [==============================] - 0s 4ms/sample - loss: 0.0024\n",
      "Epoch 20/50\n",
      "98/98 [==============================] - 0s 4ms/sample - loss: 0.0023\n",
      "Epoch 21/50\n",
      "98/98 [==============================] - 0s 4ms/sample - loss: 0.0023\n",
      "Epoch 22/50\n",
      "98/98 [==============================] - 0s 4ms/sample - loss: 0.0022\n",
      "Epoch 23/50\n",
      "98/98 [==============================] - 0s 4ms/sample - loss: 0.0022\n",
      "Epoch 24/50\n",
      "98/98 [==============================] - 0s 4ms/sample - loss: 0.0022\n",
      "Epoch 25/50\n",
      "98/98 [==============================] - 0s 4ms/sample - loss: 0.0022\n",
      "Epoch 26/50\n",
      "98/98 [==============================] - 0s 4ms/sample - loss: 0.0022\n",
      "Epoch 27/50\n",
      "98/98 [==============================] - 0s 4ms/sample - loss: 0.0022\n",
      "Epoch 28/50\n",
      "98/98 [==============================] - 0s 4ms/sample - loss: 0.0023\n",
      "Epoch 29/50\n",
      "98/98 [==============================] - 0s 4ms/sample - loss: 0.0023\n",
      "Epoch 30/50\n",
      "98/98 [==============================] - 0s 5ms/sample - loss: 0.0021\n",
      "Epoch 31/50\n",
      "98/98 [==============================] - 0s 4ms/sample - loss: 0.0022\n",
      "Epoch 32/50\n",
      "98/98 [==============================] - 0s 4ms/sample - loss: 0.0023\n",
      "Epoch 33/50\n",
      "98/98 [==============================] - 0s 4ms/sample - loss: 0.0022\n",
      "Epoch 34/50\n",
      "98/98 [==============================] - 0s 4ms/sample - loss: 0.0022\n",
      "Epoch 35/50\n",
      "98/98 [==============================] - 0s 4ms/sample - loss: 0.0022\n",
      "Epoch 36/50\n",
      "98/98 [==============================] - 0s 4ms/sample - loss: 0.0022\n",
      "Epoch 37/50\n",
      "98/98 [==============================] - 0s 5ms/sample - loss: 0.0022\n",
      "Epoch 38/50\n",
      "98/98 [==============================] - 0s 5ms/sample - loss: 0.0022\n",
      "Epoch 39/50\n",
      "98/98 [==============================] - 0s 4ms/sample - loss: 0.0022\n",
      "Epoch 40/50\n",
      "98/98 [==============================] - 0s 4ms/sample - loss: 0.0022\n",
      "Epoch 41/50\n",
      "98/98 [==============================] - 0s 4ms/sample - loss: 0.0022\n",
      "Epoch 42/50\n",
      "98/98 [==============================] - 0s 4ms/sample - loss: 0.0022\n",
      "Epoch 43/50\n",
      "98/98 [==============================] - 0s 4ms/sample - loss: 0.0022\n",
      "Epoch 44/50\n",
      "98/98 [==============================] - 0s 4ms/sample - loss: 0.0022\n",
      "Epoch 45/50\n",
      "98/98 [==============================] - 0s 4ms/sample - loss: 0.0022\n",
      "Epoch 46/50\n",
      "98/98 [==============================] - 0s 4ms/sample - loss: 0.0023\n",
      "Epoch 47/50\n",
      "98/98 [==============================] - 0s 4ms/sample - loss: 0.0022\n",
      "Epoch 48/50\n",
      "98/98 [==============================] - 0s 4ms/sample - loss: 0.0022\n",
      "Epoch 49/50\n",
      "98/98 [==============================] - 0s 4ms/sample - loss: 0.0022\n",
      "Epoch 50/50\n",
      "98/98 [==============================] - 0s 4ms/sample - loss: 0.0022\n"
     ]
    },
    {
     "data": {
      "text/plain": [
       "<tensorflow.python.keras.callbacks.History at 0x1fbf87abc18>"
      ]
     },
     "execution_count": 20,
     "metadata": {},
     "output_type": "execute_result"
    }
   ],
   "source": [
    "model.fit(X_train,y_train,epochs=50,batch_size=1)"
   ]
  },
  {
   "cell_type": "markdown",
   "metadata": {},
   "source": [
    "## Evaluation"
   ]
  },
  {
   "cell_type": "code",
   "execution_count": 21,
   "metadata": {},
   "outputs": [],
   "source": [
    "y_pred = model.predict(X_test)"
   ]
  },
  {
   "cell_type": "code",
   "execution_count": 22,
   "metadata": {},
   "outputs": [],
   "source": [
    "y_pred =scaler.inverse_transform(y_pred)"
   ]
  },
  {
   "cell_type": "code",
   "execution_count": 23,
   "metadata": {},
   "outputs": [
    {
     "data": {
      "text/plain": [
       "array([[351.7552 ],\n",
       "       [421.1298 ],\n",
       "       [465.75095],\n",
       "       [467.82132],\n",
       "       [402.43518],\n",
       "       [343.53683],\n",
       "       [300.81982],\n",
       "       [332.27374],\n",
       "       [336.36404],\n",
       "       [313.9527 ],\n",
       "       [358.96268],\n",
       "       [344.56293],\n",
       "       [359.9935 ],\n",
       "       [434.6337 ],\n",
       "       [492.6055 ],\n",
       "       [506.99985],\n",
       "       [402.43518],\n",
       "       [355.87198],\n",
       "       [305.86017],\n",
       "       [333.29575],\n",
       "       [356.90192],\n",
       "       [338.41156],\n",
       "       [404.5115 ],\n",
       "       [394.1334 ],\n",
       "       [419.05212],\n",
       "       [472.99423],\n",
       "       [550.82294],\n",
       "       [561.9221 ],\n",
       "       [463.6799 ],\n",
       "       [405.5498 ],\n",
       "       [358.96268],\n",
       "       [403.47333],\n",
       "       [415.93567],\n",
       "       [388.94843],\n",
       "       [418.01328],\n",
       "       [461.60822],\n",
       "       [472.99423],\n",
       "       [537.6435 ],\n",
       "       [624.42596],\n",
       "       [608.7361 ],\n",
       "       [510.0772 ],\n",
       "       [461.60822]], dtype=float32)"
      ]
     },
     "execution_count": 23,
     "metadata": {},
     "output_type": "execute_result"
    }
   ],
   "source": [
    "y_pred"
   ]
  },
  {
   "cell_type": "code",
   "execution_count": 24,
   "metadata": {},
   "outputs": [],
   "source": [
    "y_test=np.array(y_test)\n",
    "y_test=y_test.reshape(-1,1)\n",
    "y_test=scaler.inverse_transform(y_test)"
   ]
  },
  {
   "cell_type": "code",
   "execution_count": 25,
   "metadata": {},
   "outputs": [
    {
     "data": {
      "text/plain": [
       "array([[422.],\n",
       "       [465.],\n",
       "       [467.],\n",
       "       [404.],\n",
       "       [347.],\n",
       "       [305.],\n",
       "       [336.],\n",
       "       [340.],\n",
       "       [318.],\n",
       "       [362.],\n",
       "       [348.],\n",
       "       [363.],\n",
       "       [435.],\n",
       "       [491.],\n",
       "       [505.],\n",
       "       [404.],\n",
       "       [359.],\n",
       "       [310.],\n",
       "       [337.],\n",
       "       [360.],\n",
       "       [342.],\n",
       "       [406.],\n",
       "       [396.],\n",
       "       [420.],\n",
       "       [472.],\n",
       "       [548.],\n",
       "       [559.],\n",
       "       [463.],\n",
       "       [407.],\n",
       "       [362.],\n",
       "       [405.],\n",
       "       [417.],\n",
       "       [391.],\n",
       "       [419.],\n",
       "       [461.],\n",
       "       [472.],\n",
       "       [535.],\n",
       "       [622.],\n",
       "       [606.],\n",
       "       [508.],\n",
       "       [461.],\n",
       "       [390.]])"
      ]
     },
     "execution_count": 25,
     "metadata": {},
     "output_type": "execute_result"
    }
   ],
   "source": [
    "y_test"
   ]
  },
  {
   "cell_type": "code",
   "execution_count": 26,
   "metadata": {},
   "outputs": [
    {
     "data": {
      "image/png": "[encoded data removed]",
      "text/plain": [
       "<Figure size 1008x360 with 1 Axes>"
      ]
     },
     "metadata": {
      "needs_background": "light"
     },
     "output_type": "display_data"
    }
   ],
   "source": [
    "plt.figure(figsize=(14,5))\n",
    "plt.plot(y_test,label='real number of passengers')\n",
    "plt.plot(y_pred,label='predicted number of passengers')\n",
    "plt.ylabel('passengers')\n",
    "plt.legend()\n",
    "plt.show()"
   ]
  },
  {
   "cell_type": "code",
   "execution_count": null,
   "metadata": {},
   "outputs": [],
   "source": []
  },
  {
   "cell_type": "code",
   "execution_count": null,
   "metadata": {},
   "outputs": [],
   "source": []
  }
 ],
 "metadata": {
  "kernelspec": {
   "display_name": "Python 3",
   "language": "python",
   "name": "python3"
  },
  "language_info": {
   "codemirror_mode": {
    "name": "ipython",
    "version": 3
   },
   "file_extension": ".py",
   "mimetype": "text/x-python",
   "name": "python",
   "nbconvert_exporter": "python",
   "pygments_lexer": "ipython3",
   "version": "3.6.9"
  }
 },
 "nbformat": 4,
 "nbformat_minor": 2
}
