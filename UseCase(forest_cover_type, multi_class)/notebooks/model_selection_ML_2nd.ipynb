{
 "cells": [
  {
   "cell_type": "code",
   "execution_count": 1,
   "metadata": {
    "ExecuteTime": {
     "end_time": "2020-04-14T11:32:42.388898Z",
     "start_time": "2020-04-14T11:32:40.799777Z"
    }
   },
   "outputs": [
    {
     "name": "stderr",
     "output_type": "stream",
     "text": [
      "/Users/FY/anaconda3/lib/python3.6/site-packages/lightgbm/__init__.py:48: UserWarning: Starting from version 2.2.1, the library file in distribution wheels for macOS is built by the Apple Clang (Xcode_8.3.3) compiler.\n",
      "This means that in case of installing LightGBM from PyPI via the ``pip install lightgbm`` command, you don't need to install the gcc compiler anymore.\n",
      "Instead of that, you need to install the OpenMP library, which is required for running LightGBM on the system with the Apple Clang compiler.\n",
      "You can install the OpenMP library by the following command: ``brew install libomp``.\n",
      "  \"You can install the OpenMP library by the following command: ``brew install libomp``.\", UserWarning)\n"
     ]
    }
   ],
   "source": [
    "import pandas as pd \n",
    "import numpy as np\n",
    "\n",
    "from sklearn.model_selection import train_test_split\n",
    "from sklearn.model_selection import cross_val_score \n",
    "from sklearn.model_selection import GridSearchCV,RandomizedSearchCV\n",
    "\n",
    "from sklearn.metrics import classification_report\n",
    "from sklearn.metrics import confusion_matrix\n",
    "from sklearn.metrics import roc_auc_score\n",
    "from sklearn.metrics import accuracy_score\n",
    "\n",
    "from sklearn.neighbors import KNeighborsClassifier as KNN\n",
    "from sklearn.linear_model import LogisticRegression as LR\n",
    "from sklearn.naive_bayes import GaussianNB as NB\n",
    "from sklearn.svm import SVC\n",
    "\n",
    "from sklearn.ensemble import RandomForestClassifier as RF\n",
    "from sklearn.ensemble import GradientBoostingClassifier as GBC\n",
    "from sklearn.ensemble import AdaBoostClassifier as ABC\n",
    "from xgboost import XGBClassifier as XGBC\n",
    "from lightgbm import LGBMClassifier as LGBC\n",
    "from sklearn.ensemble import VotingClassifier\n",
    "\n",
    "import joblib"
   ]
  },
  {
   "cell_type": "code",
   "execution_count": 2,
   "metadata": {
    "ExecuteTime": {
     "end_time": "2020-04-14T11:32:42.510497Z",
     "start_time": "2020-04-14T11:32:42.394363Z"
    }
   },
   "outputs": [],
   "source": [
    "X_train_origin = pd.read_csv('../data/featured_data/X_train.csv')\n",
    "y_train_origin = pd.read_csv('../data/featured_data/y_train.csv')"
   ]
  },
  {
   "cell_type": "code",
   "execution_count": 3,
   "metadata": {
    "ExecuteTime": {
     "end_time": "2020-04-14T11:32:42.521141Z",
     "start_time": "2020-04-14T11:32:42.513261Z"
    }
   },
   "outputs": [],
   "source": [
    "X_train_origin = X_train_origin.to_numpy()\n",
    "y_train_origin = y_train_origin.to_numpy()\n",
    "y_train_origin = y_train_origin.ravel()"
   ]
  },
  {
   "cell_type": "code",
   "execution_count": 4,
   "metadata": {
    "ExecuteTime": {
     "end_time": "2020-04-14T11:32:42.546442Z",
     "start_time": "2020-04-14T11:32:42.525451Z"
    }
   },
   "outputs": [],
   "source": [
    "X_train, X_val, y_train, y_val = train_test_split(X_train_origin, y_train_origin, test_size=0.25, random_state=1) "
   ]
  },
  {
   "cell_type": "code",
   "execution_count": 5,
   "metadata": {
    "ExecuteTime": {
     "end_time": "2020-04-14T11:32:42.574305Z",
     "start_time": "2020-04-14T11:32:42.550128Z"
    }
   },
   "outputs": [
    {
     "data": {
      "text/plain": [
       "((12096, 52), (12096,), (9072, 52), (3024, 52), (9072,), (3024,))"
      ]
     },
     "execution_count": 5,
     "metadata": {},
     "output_type": "execute_result"
    }
   ],
   "source": [
    "X_train_origin.shape,y_train_origin.shape,X_train.shape, X_val.shape, y_train.shape, y_val.shape"
   ]
  },
  {
   "cell_type": "code",
   "execution_count": 6,
   "metadata": {
    "ExecuteTime": {
     "end_time": "2020-04-14T11:32:42.594670Z",
     "start_time": "2020-04-14T11:32:42.579986Z"
    }
   },
   "outputs": [],
   "source": [
    "def modeling(model_name):\n",
    "    model=model_name()\n",
    "    model.fit(X_train,y_train)\n",
    "    y_pred = model.predict(X_val)\n",
    "    print(\"Confusion_Matrix:\")\n",
    "    print(str(confusion_matrix(y_val,y_pred)))\n",
    "    print(classification_report(y_val,y_pred))\n",
    "    print(\"Accuracy:\" + str(accuracy_score(y_val, y_pred)))\n",
    "    \n",
    "# Some algorithms (such as SGD classifiers, Random Forest classifiers, and naive Bayes classifiers)\n",
    "# are capable of handling multiple classes natively. \n",
    "# Others (such as Logistic Regression or Support Vector Machine classifiers) are strictly binary classifiers."
   ]
  },
  {
   "cell_type": "markdown",
   "metadata": {},
   "source": [
    "### Baseline"
   ]
  },
  {
   "cell_type": "code",
   "execution_count": 7,
   "metadata": {
    "ExecuteTime": {
     "end_time": "2020-04-14T11:32:43.771774Z",
     "start_time": "2020-04-14T11:32:42.605662Z"
    }
   },
   "outputs": [
    {
     "name": "stdout",
     "output_type": "stream",
     "text": [
      "Confusion_Matrix:\n",
      "[[253 105   1   0  18   3  40]\n",
      " [103 227  14   0  56  22  11]\n",
      " [  0   2 281  46  20  90   1]\n",
      " [  0   0  12 404   0   9   0]\n",
      " [ 14  26   7   0 369   8   0]\n",
      " [  3   5  60  21  15 334   0]\n",
      " [ 31   6   0   0   1   1 405]]\n",
      "              precision    recall  f1-score   support\n",
      "\n",
      "           1       0.63      0.60      0.61       420\n",
      "           2       0.61      0.52      0.56       433\n",
      "           3       0.75      0.64      0.69       440\n",
      "           4       0.86      0.95      0.90       425\n",
      "           5       0.77      0.87      0.82       424\n",
      "           6       0.72      0.76      0.74       438\n",
      "           7       0.89      0.91      0.90       444\n",
      "\n",
      "    accuracy                           0.75      3024\n",
      "   macro avg       0.75      0.75      0.75      3024\n",
      "weighted avg       0.75      0.75      0.75      3024\n",
      "\n",
      "Accuracy:0.7516534391534392\n"
     ]
    }
   ],
   "source": [
    "modeling(KNN)\n",
    "# accept"
   ]
  },
  {
   "cell_type": "code",
   "execution_count": 8,
   "metadata": {
    "ExecuteTime": {
     "end_time": "2020-04-14T11:32:45.429209Z",
     "start_time": "2020-04-14T11:32:43.780266Z"
    }
   },
   "outputs": [
    {
     "name": "stdout",
     "output_type": "stream",
     "text": [
      "Confusion_Matrix:\n",
      "[[274  83   0   0  20   0  43]\n",
      " [108 224   5   0  76  15   5]\n",
      " [  0   4 253  46  14 123   0]\n",
      " [  0   0  36 368   0  21   0]\n",
      " [  6  60   4   0 331  23   0]\n",
      " [  0   4 108  31  18 277   0]\n",
      " [ 60   0   0   0   1   0 383]]\n",
      "              precision    recall  f1-score   support\n",
      "\n",
      "           1       0.61      0.65      0.63       420\n",
      "           2       0.60      0.52      0.55       433\n",
      "           3       0.62      0.57      0.60       440\n",
      "           4       0.83      0.87      0.85       425\n",
      "           5       0.72      0.78      0.75       424\n",
      "           6       0.60      0.63      0.62       438\n",
      "           7       0.89      0.86      0.88       444\n",
      "\n",
      "    accuracy                           0.70      3024\n",
      "   macro avg       0.70      0.70      0.70      3024\n",
      "weighted avg       0.70      0.70      0.70      3024\n",
      "\n",
      "Accuracy:0.6977513227513228\n"
     ]
    }
   ],
   "source": [
    "lr = LR(multi_class='multinomial', solver='newton-cg') # one-vs-one, C(7,2) models will be trained, \n",
    "                                                        # then vote by activition:softmax\n",
    "lr.fit(X_train, y_train)\n",
    "y_pred = lr.predict(X_val)\n",
    "print(\"Confusion_Matrix:\")\n",
    "print(str(confusion_matrix(y_val, y_pred)))\n",
    "print(classification_report(y_val, y_pred))\n",
    "print(\"Accuracy:\" + str(accuracy_score(y_val, y_pred)))\n",
    "# ovo is better than ovr\n",
    "# reject"
   ]
  },
  {
   "cell_type": "code",
   "execution_count": 9,
   "metadata": {
    "ExecuteTime": {
     "end_time": "2020-04-14T11:32:48.758528Z",
     "start_time": "2020-04-14T11:32:45.468626Z"
    }
   },
   "outputs": [
    {
     "name": "stdout",
     "output_type": "stream",
     "text": [
      "Confusion_Matrix:\n",
      "[[258  84   1   0  29   1  47]\n",
      " [106 203   5   0  96  19   4]\n",
      " [  0  10 247  43  15 125   0]\n",
      " [  0   0  27 379   0  19   0]\n",
      " [ 12  59  21   0 306  26   0]\n",
      " [  1   7 103  38  47 242   0]\n",
      " [ 67   5   1   0   0   0 371]]\n",
      "              precision    recall  f1-score   support\n",
      "\n",
      "           1       0.58      0.61      0.60       420\n",
      "           2       0.55      0.47      0.51       433\n",
      "           3       0.61      0.56      0.58       440\n",
      "           4       0.82      0.89      0.86       425\n",
      "           5       0.62      0.72      0.67       424\n",
      "           6       0.56      0.55      0.56       438\n",
      "           7       0.88      0.84      0.86       444\n",
      "\n",
      "    accuracy                           0.66      3024\n",
      "   macro avg       0.66      0.66      0.66      3024\n",
      "weighted avg       0.66      0.66      0.66      3024\n",
      "\n",
      "Accuracy:0.6633597883597884\n"
     ]
    }
   ],
   "source": [
    "lr2 = LR(multi_class='ovr', solver='newton-cg') # one-vs-rest, 7 models will be trained\n",
    "                                                # activition:sigmoid\n",
    "lr2.fit(X_train, y_train)\n",
    "y_pred = lr2.predict(X_val)\n",
    "print(\"Confusion_Matrix:\")\n",
    "print(str(confusion_matrix(y_val, y_pred)))\n",
    "print(classification_report(y_val, y_pred))\n",
    "print(\"Accuracy:\" + str(accuracy_score(y_val, y_pred)))\n",
    "# reject"
   ]
  },
  {
   "cell_type": "code",
   "execution_count": 10,
   "metadata": {
    "ExecuteTime": {
     "end_time": "2020-04-14T11:32:55.133301Z",
     "start_time": "2020-04-14T11:32:48.768110Z"
    }
   },
   "outputs": [
    {
     "name": "stdout",
     "output_type": "stream",
     "text": [
      "Confusion_Matrix:\n",
      "[[277  94   0   0  14   1  34]\n",
      " [ 97 257   9   0  50  15   5]\n",
      " [  0   2 289  40   9 100   0]\n",
      " [  0   0   9 406   0  10   0]\n",
      " [  6  31   6   0 368  13   0]\n",
      " [  0   6  66  17   5 344   0]\n",
      " [ 46   0   0   0   0   0 398]]\n",
      "              precision    recall  f1-score   support\n",
      "\n",
      "           1       0.65      0.66      0.65       420\n",
      "           2       0.66      0.59      0.62       433\n",
      "           3       0.76      0.66      0.71       440\n",
      "           4       0.88      0.96      0.91       425\n",
      "           5       0.83      0.87      0.85       424\n",
      "           6       0.71      0.79      0.75       438\n",
      "           7       0.91      0.90      0.90       444\n",
      "\n",
      "    accuracy                           0.77      3024\n",
      "   macro avg       0.77      0.77      0.77      3024\n",
      "weighted avg       0.77      0.77      0.77      3024\n",
      "\n",
      "Accuracy:0.7734788359788359\n"
     ]
    }
   ],
   "source": [
    "svm = SVC(decision_function_shape='ovo') \n",
    "# one-vs-one, C(7,2) models will be trained, then vote, \n",
    "# ovo is preferable for SVM                                 \n",
    "svm.fit(X_train, y_train)\n",
    "y_pred = svm.predict(X_val)\n",
    "print(\"Confusion_Matrix:\")\n",
    "print(str(confusion_matrix(y_val, y_pred)))\n",
    "print(classification_report(y_val, y_pred))\n",
    "print(\"Accuracy:\" + str(accuracy_score(y_val, y_pred)))\n",
    "# reject"
   ]
  },
  {
   "cell_type": "code",
   "execution_count": 11,
   "metadata": {
    "ExecuteTime": {
     "end_time": "2020-04-14T11:33:01.106708Z",
     "start_time": "2020-04-14T11:32:55.137679Z"
    }
   },
   "outputs": [
    {
     "name": "stdout",
     "output_type": "stream",
     "text": [
      "Confusion_Matrix:\n",
      "[[277  94   0   0  14   1  34]\n",
      " [ 97 257   9   0  50  15   5]\n",
      " [  0   2 289  40   9 100   0]\n",
      " [  0   0   9 406   0  10   0]\n",
      " [  6  31   6   0 368  13   0]\n",
      " [  0   6  66  17   5 344   0]\n",
      " [ 46   0   0   0   0   0 398]]\n",
      "              precision    recall  f1-score   support\n",
      "\n",
      "           1       0.65      0.66      0.65       420\n",
      "           2       0.66      0.59      0.62       433\n",
      "           3       0.76      0.66      0.71       440\n",
      "           4       0.88      0.96      0.91       425\n",
      "           5       0.83      0.87      0.85       424\n",
      "           6       0.71      0.79      0.75       438\n",
      "           7       0.91      0.90      0.90       444\n",
      "\n",
      "    accuracy                           0.77      3024\n",
      "   macro avg       0.77      0.77      0.77      3024\n",
      "weighted avg       0.77      0.77      0.77      3024\n",
      "\n",
      "Accuracy:0.7734788359788359\n"
     ]
    }
   ],
   "source": [
    "svm2 = SVC(decision_function_shape='ovr') # one-vs-rest, 7 models will be trained                                             \n",
    "svm2.fit(X_train, y_train)\n",
    "y_pred = svm2.predict(X_val)\n",
    "print(\"Confusion_Matrix:\")\n",
    "print(str(confusion_matrix(y_val, y_pred)))\n",
    "print(classification_report(y_val, y_pred))\n",
    "print(\"Accuracy:\" + str(accuracy_score(y_val, y_pred)))\n",
    "# same result as ovo\n",
    "# reject"
   ]
  },
  {
   "cell_type": "code",
   "execution_count": 12,
   "metadata": {
    "ExecuteTime": {
     "end_time": "2020-04-14T11:33:01.207887Z",
     "start_time": "2020-04-14T11:33:01.112227Z"
    }
   },
   "outputs": [
    {
     "name": "stdout",
     "output_type": "stream",
     "text": [
      "Confusion_Matrix:\n",
      "[[ 61   1   2   0 125   7 224]\n",
      " [ 62   2  28   4 200  11 126]\n",
      " [  0   0 181 258   1   0   0]\n",
      " [  0   0   0 425   0   0   0]\n",
      " [  0   0  92   0 313   8  11]\n",
      " [  0   0 128 256  23  28   3]\n",
      " [  4   1   1   0  10   0 428]]\n",
      "              precision    recall  f1-score   support\n",
      "\n",
      "           1       0.48      0.15      0.22       420\n",
      "           2       0.50      0.00      0.01       433\n",
      "           3       0.42      0.41      0.42       440\n",
      "           4       0.45      1.00      0.62       425\n",
      "           5       0.47      0.74      0.57       424\n",
      "           6       0.52      0.06      0.11       438\n",
      "           7       0.54      0.96      0.69       444\n",
      "\n",
      "    accuracy                           0.48      3024\n",
      "   macro avg       0.48      0.48      0.38      3024\n",
      "weighted avg       0.48      0.48      0.38      3024\n",
      "\n",
      "Accuracy:0.4755291005291005\n"
     ]
    }
   ],
   "source": [
    "modeling(NB) # reject"
   ]
  },
  {
   "cell_type": "code",
   "execution_count": 13,
   "metadata": {
    "ExecuteTime": {
     "end_time": "2020-04-14T11:33:03.342400Z",
     "start_time": "2020-04-14T11:33:01.224962Z"
    }
   },
   "outputs": [
    {
     "name": "stdout",
     "output_type": "stream",
     "text": [
      "Confusion_Matrix:\n",
      "[[319  66   0   0  10   0  25]\n",
      " [ 85 284   6   0  44  11   3]\n",
      " [  0   3 336  24   6  71   0]\n",
      " [  0   0   7 413   0   5   0]\n",
      " [  1  17   3   0 394   9   0]\n",
      " [  0   2  46  15   5 370   0]\n",
      " [ 24   0   0   0   0   0 420]]\n",
      "              precision    recall  f1-score   support\n",
      "\n",
      "           1       0.74      0.76      0.75       420\n",
      "           2       0.76      0.66      0.71       433\n",
      "           3       0.84      0.76      0.80       440\n",
      "           4       0.91      0.97      0.94       425\n",
      "           5       0.86      0.93      0.89       424\n",
      "           6       0.79      0.84      0.82       438\n",
      "           7       0.94      0.95      0.94       444\n",
      "\n",
      "    accuracy                           0.84      3024\n",
      "   macro avg       0.84      0.84      0.84      3024\n",
      "weighted avg       0.84      0.84      0.84      3024\n",
      "\n",
      "Accuracy:0.8386243386243386\n"
     ]
    }
   ],
   "source": [
    "modeling(RF) # accept # worse than 1st"
   ]
  },
  {
   "cell_type": "code",
   "execution_count": 14,
   "metadata": {
    "ExecuteTime": {
     "end_time": "2020-04-14T11:33:04.334016Z",
     "start_time": "2020-04-14T11:33:03.349544Z"
    }
   },
   "outputs": [
    {
     "name": "stdout",
     "output_type": "stream",
     "text": [
      "Confusion_Matrix:\n",
      "[[ 89   6   0   0 200   0 125]\n",
      " [ 36  21   1   0 307  41  27]\n",
      " [  0   1  18   0  22 399   0]\n",
      " [  0   0   0   0   0 425   0]\n",
      " [  0   9   0   0 370  45   0]\n",
      " [  0   0  13   0  30 395   0]\n",
      " [ 34   1   0   0   0   0 409]]\n",
      "              precision    recall  f1-score   support\n",
      "\n",
      "           1       0.56      0.21      0.31       420\n",
      "           2       0.55      0.05      0.09       433\n",
      "           3       0.56      0.04      0.08       440\n",
      "           4       0.00      0.00      0.00       425\n",
      "           5       0.40      0.87      0.55       424\n",
      "           6       0.30      0.90      0.45       438\n",
      "           7       0.73      0.92      0.81       444\n",
      "\n",
      "    accuracy                           0.43      3024\n",
      "   macro avg       0.44      0.43      0.33      3024\n",
      "weighted avg       0.45      0.43      0.33      3024\n",
      "\n",
      "Accuracy:0.4305555555555556\n"
     ]
    },
    {
     "name": "stderr",
     "output_type": "stream",
     "text": [
      "/Users/FY/anaconda3/lib/python3.6/site-packages/sklearn/metrics/_classification.py:1272: UndefinedMetricWarning: Precision and F-score are ill-defined and being set to 0.0 in labels with no predicted samples. Use `zero_division` parameter to control this behavior.\n",
      "  _warn_prf(average, modifier, msg_start, len(result))\n"
     ]
    }
   ],
   "source": [
    "modeling(ABC) # reject"
   ]
  },
  {
   "cell_type": "code",
   "execution_count": 15,
   "metadata": {
    "ExecuteTime": {
     "end_time": "2020-04-14T11:33:23.015101Z",
     "start_time": "2020-04-14T11:33:04.338095Z"
    }
   },
   "outputs": [
    {
     "name": "stdout",
     "output_type": "stream",
     "text": [
      "Confusion_Matrix:\n",
      "[[293  68   0   0  16   0  43]\n",
      " [111 245   6   0  56  13   2]\n",
      " [  0   1 294  29  15 101   0]\n",
      " [  0   0  10 406   0   9   0]\n",
      " [  3  24   9   0 373  15   0]\n",
      " [  0   6  69  14  18 331   0]\n",
      " [ 29   0   0   0   0   0 415]]\n",
      "              precision    recall  f1-score   support\n",
      "\n",
      "           1       0.67      0.70      0.68       420\n",
      "           2       0.71      0.57      0.63       433\n",
      "           3       0.76      0.67      0.71       440\n",
      "           4       0.90      0.96      0.93       425\n",
      "           5       0.78      0.88      0.83       424\n",
      "           6       0.71      0.76      0.73       438\n",
      "           7       0.90      0.93      0.92       444\n",
      "\n",
      "    accuracy                           0.78      3024\n",
      "   macro avg       0.78      0.78      0.78      3024\n",
      "weighted avg       0.78      0.78      0.78      3024\n",
      "\n",
      "Accuracy:0.779431216931217\n"
     ]
    }
   ],
   "source": [
    "modeling(GBC) # reject # worse than 1st"
   ]
  },
  {
   "cell_type": "code",
   "execution_count": 16,
   "metadata": {
    "ExecuteTime": {
     "end_time": "2020-04-14T11:33:40.665550Z",
     "start_time": "2020-04-14T11:33:23.018288Z"
    }
   },
   "outputs": [
    {
     "name": "stdout",
     "output_type": "stream",
     "text": [
      "Confusion_Matrix:\n",
      "[[279  56   0   0  27   0  58]\n",
      " [120 199   5   0  90  14   5]\n",
      " [  0   0 270  36  21 113   0]\n",
      " [  0   0   9 411   0   5   0]\n",
      " [  2  23   7   0 374  18   0]\n",
      " [  0   0  99  24  17 298   0]\n",
      " [ 35   0   0   0   0   0 409]]\n",
      "              precision    recall  f1-score   support\n",
      "\n",
      "           1       0.64      0.66      0.65       420\n",
      "           2       0.72      0.46      0.56       433\n",
      "           3       0.69      0.61      0.65       440\n",
      "           4       0.87      0.97      0.92       425\n",
      "           5       0.71      0.88      0.78       424\n",
      "           6       0.67      0.68      0.67       438\n",
      "           7       0.87      0.92      0.89       444\n",
      "\n",
      "    accuracy                           0.74      3024\n",
      "   macro avg       0.74      0.74      0.73      3024\n",
      "weighted avg       0.74      0.74      0.73      3024\n",
      "\n",
      "Accuracy:0.7407407407407407\n"
     ]
    }
   ],
   "source": [
    "modeling(XGBC) # reject # better than 1st"
   ]
  },
  {
   "cell_type": "code",
   "execution_count": 17,
   "metadata": {
    "ExecuteTime": {
     "end_time": "2020-04-14T11:33:42.536400Z",
     "start_time": "2020-04-14T11:33:40.668693Z"
    }
   },
   "outputs": [
    {
     "name": "stdout",
     "output_type": "stream",
     "text": [
      "Confusion_Matrix:\n",
      "[[302  74   0   0  12   0  32]\n",
      " [ 95 271   9   0  44  11   3]\n",
      " [  0   1 336  15   7  81   0]\n",
      " [  0   0   7 412   0   6   0]\n",
      " [  1  19   2   0 392  10   0]\n",
      " [  2   6  38  12   5 375   0]\n",
      " [ 16   1   0   0   0   0 427]]\n",
      "              precision    recall  f1-score   support\n",
      "\n",
      "           1       0.73      0.72      0.72       420\n",
      "           2       0.73      0.63      0.67       433\n",
      "           3       0.86      0.76      0.81       440\n",
      "           4       0.94      0.97      0.95       425\n",
      "           5       0.85      0.92      0.89       424\n",
      "           6       0.78      0.86      0.81       438\n",
      "           7       0.92      0.96      0.94       444\n",
      "\n",
      "    accuracy                           0.83      3024\n",
      "   macro avg       0.83      0.83      0.83      3024\n",
      "weighted avg       0.83      0.83      0.83      3024\n",
      "\n",
      "Accuracy:0.8316798941798942\n"
     ]
    }
   ],
   "source": [
    "modeling(LGBC) # reject # better than 1st"
   ]
  },
  {
   "cell_type": "code",
   "execution_count": null,
   "metadata": {},
   "outputs": [],
   "source": [
    "# conclusion: use 1st iteration"
   ]
  }
 ],
 "metadata": {
  "kernelspec": {
   "display_name": "Python 3",
   "language": "python",
   "name": "python3"
  },
  "language_info": {
   "codemirror_mode": {
    "name": "ipython",
    "version": 3
   },
   "file_extension": ".py",
   "mimetype": "text/x-python",
   "name": "python",
   "nbconvert_exporter": "python",
   "pygments_lexer": "ipython3",
   "version": "3.6.8"
  },
  "latex_envs": {
   "LaTeX_envs_menu_present": true,
   "autoclose": false,
   "autocomplete": true,
   "bibliofile": "biblio.bib",
   "cite_by": "apalike",
   "current_citInitial": 1,
   "eqLabelWithNumbers": true,
   "eqNumInitial": 1,
   "hotkeys": {
    "equation": "Ctrl-E",
    "itemize": "Ctrl-I"
   },
   "labels_anchors": false,
   "latex_user_defs": false,
   "report_style_numbering": false,
   "user_envs_cfg": false
  },
  "toc": {
   "base_numbering": 1,
   "nav_menu": {},
   "number_sections": true,
   "sideBar": true,
   "skip_h1_title": false,
   "title_cell": "Table of Contents",
   "title_sidebar": "Contents",
   "toc_cell": false,
   "toc_position": {},
   "toc_section_display": true,
   "toc_window_display": false
  }
 },
 "nbformat": 4,
 "nbformat_minor": 4
}
