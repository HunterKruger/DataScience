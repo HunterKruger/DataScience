{
 "cells": [
  {
   "cell_type": "code",
   "execution_count": 1,
   "metadata": {
    "ExecuteTime": {
     "end_time": "2020-05-09T12:43:30.632051Z",
     "start_time": "2020-05-09T12:43:25.211788Z"
    }
   },
   "outputs": [
    {
     "name": "stderr",
     "output_type": "stream",
     "text": [
      "/Users/FY/anaconda3/lib/python3.6/site-packages/lightgbm/__init__.py:48: UserWarning: Starting from version 2.2.1, the library file in distribution wheels for macOS is built by the Apple Clang (Xcode_8.3.3) compiler.\n",
      "This means that in case of installing LightGBM from PyPI via the ``pip install lightgbm`` command, you don't need to install the gcc compiler anymore.\n",
      "Instead of that, you need to install the OpenMP library, which is required for running LightGBM on the system with the Apple Clang compiler.\n",
      "You can install the OpenMP library by the following command: ``brew install libomp``.\n",
      "  \"You can install the OpenMP library by the following command: ``brew install libomp``.\", UserWarning)\n",
      "Using TensorFlow backend.\n"
     ]
    }
   ],
   "source": [
    "import pandas as pd \n",
    "import numpy as np\n",
    "from pprint import pprint\n",
    "import joblib\n",
    "\n",
    "from sklearn.model_selection import train_test_split\n",
    "from sklearn.model_selection import cross_val_score \n",
    "from sklearn.model_selection import GridSearchCV,RandomizedSearchCV\n",
    "\n",
    "from sklearn.metrics import classification_report\n",
    "from sklearn.metrics import confusion_matrix\n",
    "from sklearn.metrics import roc_auc_score\n",
    "from sklearn.metrics import accuracy_score\n",
    "\n",
    "from sklearn.ensemble import RandomForestClassifier as RF\n",
    "from xgboost import XGBClassifier as XGBC\n",
    "from lightgbm import LGBMClassifier as LGBC\n",
    "\n",
    "from imblearn.over_sampling import SMOTE\n",
    "from imblearn.under_sampling import RandomUnderSampler as RUS"
   ]
  },
  {
   "cell_type": "markdown",
   "metadata": {},
   "source": [
    "## Import data"
   ]
  },
  {
   "cell_type": "code",
   "execution_count": 2,
   "metadata": {
    "ExecuteTime": {
     "end_time": "2020-05-09T12:43:31.525993Z",
     "start_time": "2020-05-09T12:43:30.635460Z"
    }
   },
   "outputs": [
    {
     "data": {
      "text/plain": [
       "(260753, 18)"
      ]
     },
     "execution_count": 2,
     "metadata": {},
     "output_type": "execute_result"
    }
   ],
   "source": [
    "train_origin = pd.read_csv('../data/featured_data/train.csv')\n",
    "train_origin.shape"
   ]
  },
  {
   "cell_type": "code",
   "execution_count": 3,
   "metadata": {
    "ExecuteTime": {
     "end_time": "2020-05-09T12:43:31.569434Z",
     "start_time": "2020-05-09T12:43:31.530167Z"
    }
   },
   "outputs": [],
   "source": [
    "X_train_origin = train_origin.drop('QuoteConversion_Flag',axis=1)\n",
    "y_train_origin = train_origin['QuoteConversion_Flag']"
   ]
  },
  {
   "cell_type": "code",
   "execution_count": 4,
   "metadata": {
    "ExecuteTime": {
     "end_time": "2020-05-09T12:43:31.677478Z",
     "start_time": "2020-05-09T12:43:31.573063Z"
    }
   },
   "outputs": [],
   "source": [
    "X_train, X_val, y_train, y_val = train_test_split(X_train_origin, y_train_origin, test_size=0.2, random_state=1)"
   ]
  },
  {
   "cell_type": "code",
   "execution_count": 5,
   "metadata": {
    "ExecuteTime": {
     "end_time": "2020-05-09T12:43:31.691206Z",
     "start_time": "2020-05-09T12:43:31.679970Z"
    }
   },
   "outputs": [
    {
     "data": {
      "text/plain": [
       "((208602, 17), (52151, 17), (208602,), (52151,))"
      ]
     },
     "execution_count": 5,
     "metadata": {},
     "output_type": "execute_result"
    }
   ],
   "source": [
    "X_train.shape, X_val.shape, y_train.shape, y_val.shape"
   ]
  },
  {
   "cell_type": "markdown",
   "metadata": {},
   "source": [
    "## 1st iteration: under sampling"
   ]
  },
  {
   "cell_type": "code",
   "execution_count": 6,
   "metadata": {
    "ExecuteTime": {
     "end_time": "2020-05-09T12:43:31.849576Z",
     "start_time": "2020-05-09T12:43:31.703889Z"
    }
   },
   "outputs": [],
   "source": [
    "rus = RUS(random_state=1) \n",
    "X_train_res,y_train_res=rus.fit_resample(X_train,y_train)"
   ]
  },
  {
   "cell_type": "code",
   "execution_count": 7,
   "metadata": {
    "ExecuteTime": {
     "end_time": "2020-05-09T12:43:31.866617Z",
     "start_time": "2020-05-09T12:43:31.853812Z"
    }
   },
   "outputs": [
    {
     "data": {
      "text/plain": [
       "((78268, 17), (52151, 17), (78268,), (52151,))"
      ]
     },
     "execution_count": 7,
     "metadata": {},
     "output_type": "execute_result"
    }
   ],
   "source": [
    "X_train_res.shape, X_val.shape, y_train_res.shape, y_val.shape"
   ]
  },
  {
   "cell_type": "code",
   "execution_count": 8,
   "metadata": {
    "ExecuteTime": {
     "end_time": "2020-05-09T12:43:31.903125Z",
     "start_time": "2020-05-09T12:43:31.873510Z"
    }
   },
   "outputs": [],
   "source": [
    "def modeling2(model_name):\n",
    "    model=model_name()\n",
    "    model.fit(X_train_res,y_train_res)\n",
    "    y_pred = model.predict(X_val)\n",
    "    print(\"Confusion_Matrix:\")\n",
    "    print(str(confusion_matrix(y_val,y_pred)))\n",
    "    print(classification_report(y_val,y_pred))\n",
    "    print(\"Accuracy:\" + str(accuracy_score(y_val, y_pred)))\n",
    "    print(\"AUC_ROC:\" + str(roc_auc_score(y_val, y_pred)))\n",
    "    importance_list = sorted(zip(model.feature_importances_, X_train_origin.columns.to_list()), reverse=True)\n",
    "    print(\"Feature importance: \")\n",
    "    pprint(importance_list[:10])"
   ]
  },
  {
   "cell_type": "code",
   "execution_count": 9,
   "metadata": {
    "ExecuteTime": {
     "end_time": "2020-05-09T12:43:39.667680Z",
     "start_time": "2020-05-09T12:43:31.917712Z"
    }
   },
   "outputs": [
    {
     "name": "stdout",
     "output_type": "stream",
     "text": [
      "Confusion_Matrix:\n",
      "[[36295  6096]\n",
      " [ 1306  8454]]\n",
      "              precision    recall  f1-score   support\n",
      "\n",
      "           0       0.97      0.86      0.91     42391\n",
      "           1       0.58      0.87      0.70      9760\n",
      "\n",
      "    accuracy                           0.86     52151\n",
      "   macro avg       0.77      0.86      0.80     52151\n",
      "weighted avg       0.89      0.86      0.87     52151\n",
      "\n",
      "Accuracy:0.8580660006519529\n",
      "AUC_ROC:0.8611922076136638\n",
      "Feature importance: \n",
      "[(0.16170486406259307, 'Field7'),\n",
      " (0.14525574568320862, 'SalesField5'),\n",
      " (0.09556599104988064, 'PropertyField37'),\n",
      " (0.08791906145486568, 'SalesField1B'),\n",
      " (0.06675894501979951, 'PersonalField10A'),\n",
      " (0.06079400186967433, 'PersonalField10B'),\n",
      " (0.06055120560411137, 'PersonalField10B.1'),\n",
      " (0.057630070346702096, 'PropertyField29'),\n",
      " (0.052508615661978154, 'SalesField6'),\n",
      " (0.04401829851122269, 'SalesField1A')]\n"
     ]
    }
   ],
   "source": [
    "modeling2(RF) # 3rd # a bit worse than 2nd iter: 0.8765639822248072"
   ]
  },
  {
   "cell_type": "code",
   "execution_count": 10,
   "metadata": {
    "ExecuteTime": {
     "end_time": "2020-05-09T12:43:41.215297Z",
     "start_time": "2020-05-09T12:43:39.671223Z"
    }
   },
   "outputs": [
    {
     "name": "stdout",
     "output_type": "stream",
     "text": [
      "Confusion_Matrix:\n",
      "[[36929  5462]\n",
      " [ 1050  8710]]\n",
      "              precision    recall  f1-score   support\n",
      "\n",
      "           0       0.97      0.87      0.92     42391\n",
      "           1       0.61      0.89      0.73      9760\n",
      "\n",
      "    accuracy                           0.88     52151\n",
      "   macro avg       0.79      0.88      0.82     52151\n",
      "weighted avg       0.91      0.88      0.88     52151\n",
      "\n",
      "Accuracy:0.8751318287281165\n",
      "AUC_ROC:0.8817849641181955\n",
      "Feature importance: \n",
      "[(485, 'Field7'),\n",
      " (384, 'PersonalField10B'),\n",
      " (325, 'SalesField1B'),\n",
      " (262, 'SalesField6'),\n",
      " (225, 'SalesField1A'),\n",
      " (190, 'PersonalField10A'),\n",
      " (184, 'PersonalField82'),\n",
      " (168, 'SalesField5'),\n",
      " (142, 'PersonalField84'),\n",
      " (126, 'PersonalField9')]\n"
     ]
    }
   ],
   "source": [
    "modeling2(LGBC) # 1st # a bit worse than 2nd iter: 0.8901793222521329"
   ]
  },
  {
   "cell_type": "code",
   "execution_count": 11,
   "metadata": {
    "ExecuteTime": {
     "end_time": "2020-05-09T12:43:50.918642Z",
     "start_time": "2020-05-09T12:43:41.222704Z"
    }
   },
   "outputs": [
    {
     "name": "stdout",
     "output_type": "stream",
     "text": [
      "Confusion_Matrix:\n",
      "[[36430  5961]\n",
      " [ 1031  8729]]\n",
      "              precision    recall  f1-score   support\n",
      "\n",
      "           0       0.97      0.86      0.91     42391\n",
      "           1       0.59      0.89      0.71      9760\n",
      "\n",
      "    accuracy                           0.87     52151\n",
      "   macro avg       0.78      0.88      0.81     52151\n",
      "weighted avg       0.90      0.87      0.88     52151\n",
      "\n",
      "Accuracy:0.8659277866196238\n",
      "AUC_ROC:0.8768726414921044\n",
      "Feature importance: \n",
      "[(0.2569554, 'SalesField5'),\n",
      " (0.13814019, 'PersonalField10A'),\n",
      " (0.12736575, 'PropertyField37'),\n",
      " (0.12518091, 'PersonalField10B'),\n",
      " (0.123644345, 'Field7'),\n",
      " (0.05150102, 'PersonalField1'),\n",
      " (0.050158743, 'PersonalField2'),\n",
      " (0.03511158, 'SalesField1B'),\n",
      " (0.021583091, 'PersonalField12'),\n",
      " (0.020189526, 'PersonalField9')]\n"
     ]
    }
   ],
   "source": [
    "modeling2(XGBC) # 2nd # a bit worse than 2nd iter AUC_ROC:0.8816185077949193"
   ]
  },
  {
   "cell_type": "code",
   "execution_count": null,
   "metadata": {},
   "outputs": [],
   "source": []
  }
 ],
 "metadata": {
  "kernelspec": {
   "display_name": "Python 3",
   "language": "python",
   "name": "python3"
  },
  "language_info": {
   "codemirror_mode": {
    "name": "ipython",
    "version": 3
   },
   "file_extension": ".py",
   "mimetype": "text/x-python",
   "name": "python",
   "nbconvert_exporter": "python",
   "pygments_lexer": "ipython3",
   "version": "3.6.9"
  },
  "latex_envs": {
   "LaTeX_envs_menu_present": true,
   "autoclose": false,
   "autocomplete": true,
   "bibliofile": "biblio.bib",
   "cite_by": "apalike",
   "current_citInitial": 1,
   "eqLabelWithNumbers": true,
   "eqNumInitial": 1,
   "hotkeys": {
    "equation": "Ctrl-E",
    "itemize": "Ctrl-I"
   },
   "labels_anchors": false,
   "latex_user_defs": false,
   "report_style_numbering": false,
   "user_envs_cfg": false
  },
  "toc": {
   "base_numbering": 1,
   "nav_menu": {},
   "number_sections": true,
   "sideBar": true,
   "skip_h1_title": false,
   "title_cell": "Table of Contents",
   "title_sidebar": "Contents",
   "toc_cell": false,
   "toc_position": {},
   "toc_section_display": true,
   "toc_window_display": false
  }
 },
 "nbformat": 4,
 "nbformat_minor": 4
}
