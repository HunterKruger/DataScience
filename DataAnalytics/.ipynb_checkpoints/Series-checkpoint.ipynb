{
 "cells": [
  {
   "cell_type": "code",
   "execution_count": 1,
   "metadata": {},
   "outputs": [],
   "source": [
    "import pandas as pd\n",
    "import numpy as np\n",
    "#Series是一种类似于一维数组的对象，它由一组数据（各种NumPy数据类型）以及一组与之相关的数据标签（即索引）组成。"
   ]
  },
  {
   "cell_type": "code",
   "execution_count": 2,
   "metadata": {},
   "outputs": [
    {
     "data": {
      "text/plain": [
       "0       3\n",
       "1       5\n",
       "2    test\n",
       "3      -5\n",
       "4     0.3\n",
       "dtype: object"
      ]
     },
     "execution_count": 2,
     "metadata": {},
     "output_type": "execute_result"
    }
   ],
   "source": [
    "series1 = pd.Series([3, 5, 'test', -5, 0.3])\n",
    "series1   # auto create index "
   ]
  },
  {
   "cell_type": "code",
   "execution_count": 4,
   "metadata": {},
   "outputs": [
    {
     "data": {
      "text/plain": [
       "A       3\n",
       "B       5\n",
       "C    test\n",
       "D      -5\n",
       "E     0.3\n",
       "dtype: object"
      ]
     },
     "execution_count": 4,
     "metadata": {},
     "output_type": "execute_result"
    }
   ],
   "source": [
    "# use index   #创建Series带有一个可以对各个数据点进行标记的索引:\n",
    "series2 = pd.Series([3, 5, 'test', -5, 0.3], index = ['A', 'B', 'C', 'D', 'E'])\n",
    "series2"
   ]
  },
  {
   "cell_type": "code",
   "execution_count": 6,
   "metadata": {},
   "outputs": [
    {
     "data": {
      "text/plain": [
       "Baidu       400\n",
       "Alibaba     500\n",
       "Tecent      600\n",
       "Jingdong    300\n",
       "dtype: int64"
      ]
     },
     "execution_count": 6,
     "metadata": {},
     "output_type": "execute_result"
    }
   ],
   "source": [
    "# use dict to create Series\n",
    "companies = {'Baidu': 400, 'Alibaba': 500, 'Tecent': 600, 'Jingdong': 300}\n",
    "series3 = pd.Series(companies)\n",
    "series3"
   ]
  },
  {
   "cell_type": "code",
   "execution_count": 8,
   "metadata": {},
   "outputs": [
    {
     "data": {
      "text/plain": [
       "400"
      ]
     },
     "execution_count": 8,
     "metadata": {},
     "output_type": "execute_result"
    }
   ],
   "source": [
    "# Series数据选择\n",
    "\n",
    "# 通过index选择数据\n",
    "series3['Baidu']"
   ]
  },
  {
   "cell_type": "code",
   "execution_count": 9,
   "metadata": {},
   "outputs": [
    {
     "data": {
      "text/plain": [
       "Baidu     400\n",
       "Tecent    600\n",
       "dtype: int64"
      ]
     },
     "execution_count": 9,
     "metadata": {},
     "output_type": "execute_result"
    }
   ],
   "source": [
    "# 选择多个数据\n",
    "series3[['Baidu', 'Tecent']]"
   ]
  },
  {
   "cell_type": "code",
   "execution_count": 10,
   "metadata": {},
   "outputs": [
    {
     "data": {
      "text/plain": [
       "Baidu        True\n",
       "Alibaba     False\n",
       "Tecent      False\n",
       "Jingdong     True\n",
       "dtype: bool"
      ]
     },
     "execution_count": 10,
     "metadata": {},
     "output_type": "execute_result"
    }
   ],
   "source": [
    "series3 < 500"
   ]
  },
  {
   "cell_type": "code",
   "execution_count": 11,
   "metadata": {},
   "outputs": [
    {
     "data": {
      "text/plain": [
       "Baidu       400\n",
       "Jingdong    300\n",
       "dtype: int64"
      ]
     },
     "execution_count": 11,
     "metadata": {},
     "output_type": "execute_result"
    }
   ],
   "source": [
    "temp = series3 < 500\n",
    "series3[temp]"
   ]
  },
  {
   "cell_type": "code",
   "execution_count": 12,
   "metadata": {},
   "outputs": [
    {
     "name": "stdout",
     "output_type": "stream",
     "text": [
      "old value:  400\n",
      "new value:  450\n"
     ]
    }
   ],
   "source": [
    "# Series元素赋值\n",
    "print('old value: ', series3['Baidu'])\n",
    "series3['Baidu'] = 450\n",
    "print('new value: ', series3['Baidu'])"
   ]
  },
  {
   "cell_type": "code",
   "execution_count": 15,
   "metadata": {},
   "outputs": [
    {
     "name": "stdout",
     "output_type": "stream",
     "text": [
      "old series: \n",
      "Baidu       500\n",
      "Alibaba     500\n",
      "Tecent      600\n",
      "Jingdong    500\n",
      "dtype: int64\n",
      "new series: \n",
      "Baidu       500\n",
      "Alibaba     500\n",
      "Tecent      600\n",
      "Jingdong    500\n",
      "dtype: int64\n"
     ]
    }
   ],
   "source": [
    "# 根据条件赋值\n",
    "print ('old series: ')\n",
    "print(series3)\n",
    "series3[series3 < 500] = 500\n",
    "print ('new series: ')\n",
    "print(series3)"
   ]
  },
  {
   "cell_type": "code",
   "execution_count": 16,
   "metadata": {},
   "outputs": [
    {
     "name": "stdout",
     "output_type": "stream",
     "text": [
      "Division: \n",
      "Baidu       250.0\n",
      "Alibaba     250.0\n",
      "Tecent      300.0\n",
      "Jingdong    250.0\n",
      "dtype: float64\n",
      "Square: \n",
      "Baidu       250000\n",
      "Alibaba     250000\n",
      "Tecent      360000\n",
      "Jingdong    250000\n",
      "dtype: int64\n",
      "Baidu       250000\n",
      "Alibaba     250000\n",
      "Tecent      360000\n",
      "Jingdong    250000\n",
      "dtype: int64\n"
     ]
    }
   ],
   "source": [
    "# Series数学运算\n",
    "print ('Division: ')\n",
    "print (series3 / 2)\n",
    "print ('Square: ')\n",
    "print (series3 ** 2)\n",
    "print (np.square(series3))"
   ]
  },
  {
   "cell_type": "code",
   "execution_count": 17,
   "metadata": {},
   "outputs": [
    {
     "data": {
      "text/plain": [
       "Baidu       50000\n",
       "Alibaba     45000\n",
       "Tecent      60000\n",
       "Jingdong    80000\n",
       "Netease     30000\n",
       "dtype: int64"
      ]
     },
     "execution_count": 17,
     "metadata": {},
     "output_type": "execute_result"
    }
   ],
   "source": [
    "# 定义新的Series, 公司人数\n",
    "people = {'Baidu': 50000, 'Alibaba': 45000, 'Tecent': 60000, 'Jingdong': 80000, 'Netease': 30000}\n",
    "series4 = pd.Series(people)\n",
    "series4"
   ]
  },
  {
   "cell_type": "code",
   "execution_count": 18,
   "metadata": {},
   "outputs": [
    {
     "data": {
      "text/plain": [
       "Alibaba     45500.0\n",
       "Baidu       50500.0\n",
       "Jingdong    80500.0\n",
       "Netease         NaN\n",
       "Tecent      60600.0\n",
       "dtype: float64"
      ]
     },
     "execution_count": 18,
     "metadata": {},
     "output_type": "execute_result"
    }
   ],
   "source": [
    "# Series相加, series3没有Netease, 因此结果为NaN\n",
    "series3 + series4"
   ]
  },
  {
   "cell_type": "code",
   "execution_count": 19,
   "metadata": {},
   "outputs": [
    {
     "name": "stdout",
     "output_type": "stream",
     "text": [
      "False\n",
      "True\n"
     ]
    }
   ],
   "source": [
    "# 判断数据是否数据缺失\n",
    "print ('Netease' in series3)\n",
    "print ('Baidu' in series3)"
   ]
  },
  {
   "cell_type": "code",
   "execution_count": 24,
   "metadata": {},
   "outputs": [
    {
     "name": "stdout",
     "output_type": "stream",
     "text": [
      "Alibaba      True\n",
      "Baidu        True\n",
      "Jingdong     True\n",
      "Netease     False\n",
      "Tecent       True\n",
      "dtype: bool\n",
      "\n",
      "Alibaba     False\n",
      "Baidu       False\n",
      "Jingdong    False\n",
      "Netease      True\n",
      "Tecent      False\n",
      "dtype: bool\n",
      "\n",
      "Netease   NaN\n",
      "dtype: float64\n",
      "\n",
      "Alibaba     45500.0\n",
      "Baidu       50500.0\n",
      "Jingdong    80500.0\n",
      "Tecent      60600.0\n",
      "dtype: float64\n"
     ]
    }
   ],
   "source": [
    "# 找出数据为null或非null的元素\n",
    "result = series3 + series4\n",
    "print (result.notnull())\n",
    "print ()\n",
    "print (result.isnull())\n",
    "print ()\n",
    "print (result[result.isnull()])\n",
    "print ()\n",
    "print (result[result.isnull() != True])"
   ]
  },
  {
   "cell_type": "code",
   "execution_count": null,
   "metadata": {},
   "outputs": [],
   "source": []
  }
 ],
 "metadata": {
  "kernelspec": {
   "display_name": "Python 3",
   "language": "python",
   "name": "python3"
  },
  "language_info": {
   "codemirror_mode": {
    "name": "ipython",
    "version": 3
   },
   "file_extension": ".py",
   "mimetype": "text/x-python",
   "name": "python",
   "nbconvert_exporter": "python",
   "pygments_lexer": "ipython3",
   "version": "3.7.5"
  }
 },
 "nbformat": 4,
 "nbformat_minor": 2
}
