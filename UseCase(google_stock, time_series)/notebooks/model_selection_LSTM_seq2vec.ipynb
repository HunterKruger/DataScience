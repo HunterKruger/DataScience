{
 "cells": [
  {
   "cell_type": "code",
   "execution_count": 1,
   "metadata": {
    "ExecuteTime": {
     "end_time": "2020-04-25T12:38:31.341973Z",
     "start_time": "2020-04-25T12:38:27.906476Z"
    }
   },
   "outputs": [],
   "source": [
    "import pandas as pd\n",
    "import numpy as np\n",
    "from sklearn.preprocessing import MinMaxScaler\n",
    "import tensorflow as tf\n",
    "from tensorflow.keras import Sequential\n",
    "from tensorflow.keras.optimizers import Adam\n",
    "from tensorflow.keras.layers import LSTM,Dense,BatchNormalization,Dropout\n",
    "from sklearn.preprocessing import MinMaxScaler\n",
    "from sklearn.metrics import mean_squared_error\n",
    "import matplotlib.pyplot as plt\n",
    "%matplotlib inline"
   ]
  },
  {
   "cell_type": "code",
   "execution_count": 2,
   "metadata": {
    "ExecuteTime": {
     "end_time": "2020-04-25T12:38:31.354892Z",
     "start_time": "2020-04-25T12:38:31.343949Z"
    }
   },
   "outputs": [
    {
     "data": {
      "text/plain": [
       "(3809, 1)"
      ]
     },
     "execution_count": 2,
     "metadata": {},
     "output_type": "execute_result"
    }
   ],
   "source": [
    "data = pd.read_csv('../data/one_feature_data.csv')\n",
    "data.shape"
   ]
  },
  {
   "cell_type": "markdown",
   "metadata": {},
   "source": [
    "### Train, Val, Test spliting"
   ]
  },
  {
   "cell_type": "code",
   "execution_count": 3,
   "metadata": {
    "ExecuteTime": {
     "end_time": "2020-04-25T12:38:31.361899Z",
     "start_time": "2020-04-25T12:38:31.355916Z"
    }
   },
   "outputs": [
    {
     "data": {
      "text/plain": [
       "((3048, 1), (761, 1))"
      ]
     },
     "execution_count": 3,
     "metadata": {},
     "output_type": "execute_result"
    }
   ],
   "source": [
    "train_org = data.iloc[:3048,:]\n",
    "test = data.iloc[3048:,:]\n",
    "train_org.shape, test.shape   "
   ]
  },
  {
   "cell_type": "code",
   "execution_count": 4,
   "metadata": {
    "ExecuteTime": {
     "end_time": "2020-04-25T12:38:31.370847Z",
     "start_time": "2020-04-25T12:38:31.362897Z"
    }
   },
   "outputs": [],
   "source": [
    "scaler = MinMaxScaler()\n",
    "train_org = scaler.fit_transform(train_org)\n",
    "test = scaler.transform(test)"
   ]
  },
  {
   "cell_type": "code",
   "execution_count": 5,
   "metadata": {
    "ExecuteTime": {
     "end_time": "2020-04-25T12:38:31.378825Z",
     "start_time": "2020-04-25T12:38:31.371844Z"
    }
   },
   "outputs": [
    {
     "data": {
      "text/plain": [
       "((2287, 1), (761, 1))"
      ]
     },
     "execution_count": 5,
     "metadata": {},
     "output_type": "execute_result"
    }
   ],
   "source": [
    "train = train_org[:2287, :]\n",
    "val = train_org[2287:, :]\n",
    "train.shape, val.shape                     # train: 2287 seqs, val: 761 seqs, test: 761 seqs"
   ]
  },
  {
   "cell_type": "code",
   "execution_count": 6,
   "metadata": {
    "ExecuteTime": {
     "end_time": "2020-04-25T12:38:31.391810Z",
     "start_time": "2020-04-25T12:38:31.379823Z"
    }
   },
   "outputs": [
    {
     "data": {
      "text/plain": [
       "((2256, 30, 1), (2256, 1, 1))"
      ]
     },
     "execution_count": 6,
     "metadata": {},
     "output_type": "execute_result"
    }
   ],
   "source": [
    "X_train=[]\n",
    "y_train=[]\n",
    "\n",
    "for i in range(0,train.shape[0]-31):         # idea: use 30 previous day to predict next 1 day\n",
    "    X_train.append(train[i:i+30,:])\n",
    "    y_train.append(train[i+30:i+31,:])\n",
    "\n",
    "X_train,y_train=np.array(X_train),np.array(y_train)\n",
    "X_train.shape,y_train.shape"
   ]
  },
  {
   "cell_type": "code",
   "execution_count": 7,
   "metadata": {
    "ExecuteTime": {
     "end_time": "2020-04-25T12:38:31.404756Z",
     "start_time": "2020-04-25T12:38:31.393785Z"
    }
   },
   "outputs": [
    {
     "data": {
      "text/plain": [
       "((730, 30, 1), (730, 1, 1))"
      ]
     },
     "execution_count": 7,
     "metadata": {},
     "output_type": "execute_result"
    }
   ],
   "source": [
    "X_val=[]\n",
    "y_val=[]\n",
    "\n",
    "for i in range(0,val.shape[0]-31):         # idea: use 30 previous day to predict next 1 day\n",
    "    X_val.append(val[i:i+30,:])\n",
    "    y_val.append(val[i+30:i+31,:])\n",
    "\n",
    "X_val,y_val=np.array(X_val),np.array(y_val)\n",
    "X_val.shape,y_val.shape"
   ]
  },
  {
   "cell_type": "code",
   "execution_count": 8,
   "metadata": {
    "ExecuteTime": {
     "end_time": "2020-04-25T12:38:31.413743Z",
     "start_time": "2020-04-25T12:38:31.405754Z"
    }
   },
   "outputs": [
    {
     "data": {
      "text/plain": [
       "((730, 30, 1), (730, 1, 1))"
      ]
     },
     "execution_count": 8,
     "metadata": {},
     "output_type": "execute_result"
    }
   ],
   "source": [
    "X_test=[]\n",
    "y_test=[]\n",
    "\n",
    "for i in range(0,test.shape[0]-31):         # idea: use 30 previous day to predict next 1 day\n",
    "    X_test.append(test[i:i+30,:])\n",
    "    y_test.append(test[i+30:i+31,:])\n",
    "\n",
    "X_test,y_test=np.array(X_test),np.array(y_test)\n",
    "X_test.shape,y_test.shape"
   ]
  },
  {
   "cell_type": "markdown",
   "metadata": {
    "ExecuteTime": {
     "end_time": "2020-04-24T16:26:33.498263Z",
     "start_time": "2020-04-24T16:26:33.491281Z"
    }
   },
   "source": [
    "### Modeling"
   ]
  },
  {
   "cell_type": "code",
   "execution_count": 9,
   "metadata": {
    "ExecuteTime": {
     "end_time": "2020-04-25T12:38:32.594575Z",
     "start_time": "2020-04-25T12:38:31.414730Z"
    }
   },
   "outputs": [],
   "source": [
    "model=Sequential() \n",
    "\n",
    "model.add(LSTM(units = 16,activation='tanh',return_sequences=False,input_shape=(X_train.shape[1],X_train.shape[2]))) \n",
    "model.add(BatchNormalization())\n",
    "model.add(Dropout(0.2))\n",
    "\n",
    "model.add(Dense(1)) "
   ]
  },
  {
   "cell_type": "code",
   "execution_count": 10,
   "metadata": {
    "ExecuteTime": {
     "end_time": "2020-04-25T12:38:32.615819Z",
     "start_time": "2020-04-25T12:38:32.595375Z"
    }
   },
   "outputs": [],
   "source": [
    "opt = Adam(learning_rate=0.001)\n",
    "model.compile(optimizer=opt,loss='mean_squared_error')"
   ]
  },
  {
   "cell_type": "code",
   "execution_count": 11,
   "metadata": {
    "ExecuteTime": {
     "end_time": "2020-04-25T12:39:02.944088Z",
     "start_time": "2020-04-25T12:38:32.616470Z"
    }
   },
   "outputs": [
    {
     "name": "stdout",
     "output_type": "stream",
     "text": [
      "Train on 2256 samples, validate on 730 samples\n",
      "Epoch 1/50\n",
      "2256/2256 [==============================] - 5s 2ms/sample - loss: 0.1181 - val_loss: 0.2229\n",
      "Epoch 2/50\n",
      "2256/2256 [==============================] - 0s 207us/sample - loss: 0.0375 - val_loss: 0.2077\n",
      "Epoch 3/50\n",
      "2256/2256 [==============================] - 1s 223us/sample - loss: 0.0163 - val_loss: 0.1938\n",
      "Epoch 4/50\n",
      "2256/2256 [==============================] - 0s 211us/sample - loss: 0.0089 - val_loss: 0.1697\n",
      "Epoch 5/50\n",
      "2256/2256 [==============================] - 0s 219us/sample - loss: 0.0060 - val_loss: 0.1370\n",
      "Epoch 6/50\n",
      "2256/2256 [==============================] - 1s 246us/sample - loss: 0.0039 - val_loss: 0.0945\n",
      "Epoch 7/50\n",
      "2256/2256 [==============================] - 1s 223us/sample - loss: 0.0024 - val_loss: 0.0635\n",
      "Epoch 8/50\n",
      "2256/2256 [==============================] - 1s 226us/sample - loss: 0.0021 - val_loss: 0.0304\n",
      "Epoch 9/50\n",
      "2256/2256 [==============================] - 1s 223us/sample - loss: 0.0017 - val_loss: 0.0076\n",
      "Epoch 10/50\n",
      "2256/2256 [==============================] - 0s 218us/sample - loss: 0.0015 - val_loss: 0.0080\n",
      "Epoch 11/50\n",
      "2256/2256 [==============================] - 1s 247us/sample - loss: 0.0015 - val_loss: 0.0021\n",
      "Epoch 12/50\n",
      "2256/2256 [==============================] - 1s 226us/sample - loss: 0.0013 - val_loss: 0.0010\n",
      "Epoch 13/50\n",
      "2256/2256 [==============================] - 0s 221us/sample - loss: 0.0013 - val_loss: 5.2779e-04\n",
      "Epoch 14/50\n",
      "2256/2256 [==============================] - 0s 220us/sample - loss: 0.0014 - val_loss: 0.0034\n",
      "Epoch 15/50\n",
      "2256/2256 [==============================] - 0s 221us/sample - loss: 0.0013 - val_loss: 6.4302e-04\n",
      "Epoch 16/50\n",
      "2256/2256 [==============================] - 1s 225us/sample - loss: 0.0013 - val_loss: 0.0015\n",
      "Epoch 17/50\n",
      "2256/2256 [==============================] - 1s 255us/sample - loss: 0.0011 - val_loss: 8.7032e-04\n",
      "Epoch 18/50\n",
      "2256/2256 [==============================] - 1s 228us/sample - loss: 0.0014 - val_loss: 0.0013\n",
      "Epoch 19/50\n",
      "2256/2256 [==============================] - 0s 217us/sample - loss: 0.0011 - val_loss: 0.0020\n",
      "Epoch 20/50\n",
      "2256/2256 [==============================] - 0s 218us/sample - loss: 0.0012 - val_loss: 0.0025\n",
      "Epoch 21/50\n",
      "2256/2256 [==============================] - 0s 218us/sample - loss: 0.0010 - val_loss: 0.0012\n",
      "Epoch 22/50\n",
      "2256/2256 [==============================] - 1s 232us/sample - loss: 0.0011 - val_loss: 2.2246e-04\n",
      "Epoch 23/50\n",
      "2256/2256 [==============================] - 1s 248us/sample - loss: 9.7894e-04 - val_loss: 0.0025\n",
      "Epoch 24/50\n",
      "2256/2256 [==============================] - 1s 233us/sample - loss: 8.9042e-04 - val_loss: 0.0013\n",
      "Epoch 25/50\n",
      "2256/2256 [==============================] - 1s 234us/sample - loss: 8.9776e-04 - val_loss: 2.5471e-04\n",
      "Epoch 26/50\n",
      "2256/2256 [==============================] - 1s 233us/sample - loss: 0.0012 - val_loss: 2.4180e-04\n",
      "Epoch 27/50\n",
      "2256/2256 [==============================] - 1s 237us/sample - loss: 9.9609e-04 - val_loss: 7.0633e-04\n",
      "Epoch 28/50\n",
      "2256/2256 [==============================] - 1s 240us/sample - loss: 0.0011 - val_loss: 0.0014\n",
      "Epoch 29/50\n",
      "2256/2256 [==============================] - 1s 246us/sample - loss: 8.6856e-04 - val_loss: 4.7388e-04\n",
      "Epoch 30/50\n",
      "2256/2256 [==============================] - 1s 231us/sample - loss: 8.9783e-04 - val_loss: 0.0013\n",
      "Epoch 31/50\n",
      "2256/2256 [==============================] - 1s 235us/sample - loss: 9.3435e-04 - val_loss: 0.0037\n",
      "Epoch 32/50\n",
      "2256/2256 [==============================] - 1s 233us/sample - loss: 9.1270e-04 - val_loss: 3.1381e-04\n",
      "Epoch 33/50\n",
      "2256/2256 [==============================] - 1s 256us/sample - loss: 9.5529e-04 - val_loss: 0.0043\n",
      "Epoch 34/50\n",
      "2256/2256 [==============================] - 1s 227us/sample - loss: 8.8349e-04 - val_loss: 6.2171e-04\n",
      "Epoch 35/50\n",
      "2256/2256 [==============================] - 1s 230us/sample - loss: 8.2051e-04 - val_loss: 6.4107e-04\n",
      "Epoch 36/50\n",
      "2256/2256 [==============================] - 1s 225us/sample - loss: 0.0010 - val_loss: 6.7860e-04\n",
      "Epoch 37/50\n",
      "2256/2256 [==============================] - 0s 221us/sample - loss: 7.7598e-04 - val_loss: 1.9925e-04\n",
      "Epoch 38/50\n",
      "2256/2256 [==============================] - 1s 226us/sample - loss: 8.0314e-04 - val_loss: 2.6534e-04\n",
      "Epoch 39/50\n",
      "2256/2256 [==============================] - 1s 259us/sample - loss: 7.2892e-04 - val_loss: 7.2389e-04\n",
      "Epoch 40/50\n",
      "2256/2256 [==============================] - 1s 236us/sample - loss: 7.7838e-04 - val_loss: 5.5564e-04\n",
      "Epoch 41/50\n",
      "2256/2256 [==============================] - 1s 225us/sample - loss: 7.3855e-04 - val_loss: 2.1157e-04\n",
      "Epoch 42/50\n",
      "2256/2256 [==============================] - 1s 228us/sample - loss: 6.9627e-04 - val_loss: 8.1818e-04\n",
      "Epoch 43/50\n",
      "2256/2256 [==============================] - 1s 238us/sample - loss: 8.5760e-04 - val_loss: 1.9427e-04\n",
      "Epoch 44/50\n",
      "2256/2256 [==============================] - 1s 237us/sample - loss: 7.0753e-04 - val_loss: 3.3568e-04\n",
      "Epoch 45/50\n",
      "2256/2256 [==============================] - 1s 230us/sample - loss: 7.1487e-04 - val_loss: 2.0001e-04\n",
      "Epoch 46/50\n",
      "2256/2256 [==============================] - 1s 228us/sample - loss: 6.5366e-04 - val_loss: 0.0027\n",
      "Epoch 47/50\n",
      "2256/2256 [==============================] - 1s 255us/sample - loss: 7.2293e-04 - val_loss: 0.0019\n",
      "Epoch 48/50\n",
      "2256/2256 [==============================] - 1s 229us/sample - loss: 6.2136e-04 - val_loss: 3.4403e-04\n",
      "Epoch 49/50\n",
      "2256/2256 [==============================] - 1s 234us/sample - loss: 7.9883e-04 - val_loss: 2.9696e-04\n",
      "Epoch 50/50\n",
      "2256/2256 [==============================] - 1s 232us/sample - loss: 7.8585e-04 - val_loss: 2.5008e-04\n"
     ]
    }
   ],
   "source": [
    "history = model.fit(X_train, y_train, epochs=50, batch_size=32,\n",
    "                    validation_data=(X_val, y_val), verbose=1)"
   ]
  },
  {
   "cell_type": "code",
   "execution_count": 12,
   "metadata": {
    "ExecuteTime": {
     "end_time": "2020-04-25T12:39:03.070258Z",
     "start_time": "2020-04-25T12:39:02.945086Z"
    }
   },
   "outputs": [
    {
     "data": {
      "image/png": "[encoded data removed]",
      "text/plain": [
       "<Figure size 432x288 with 1 Axes>"
      ]
     },
     "metadata": {
      "needs_background": "light"
     },
     "output_type": "display_data"
    }
   ],
   "source": [
    "epoch_range=range(1,50+1)\n",
    "plt.plot(history.history['loss'])\n",
    "plt.plot(history.history['val_loss'])\n",
    "plt.title('Model loss')\n",
    "plt.ylabel('Loss')\n",
    "plt.xlabel('Epoch')\n",
    "# plt.xticks([x for x in range(epoch+1)])\n",
    "plt.legend(['Train','Val'],loc='upper left')\n",
    "plt.show()"
   ]
  },
  {
   "cell_type": "markdown",
   "metadata": {},
   "source": [
    "### Evaluation"
   ]
  },
  {
   "cell_type": "code",
   "execution_count": 13,
   "metadata": {
    "ExecuteTime": {
     "end_time": "2020-04-25T12:39:03.573912Z",
     "start_time": "2020-04-25T12:39:03.071255Z"
    }
   },
   "outputs": [
    {
     "data": {
      "text/plain": [
       "(730, 1)"
      ]
     },
     "execution_count": 13,
     "metadata": {},
     "output_type": "execute_result"
    }
   ],
   "source": [
    "y_pred = model.predict(X_test)\n",
    "y_pred.shape"
   ]
  },
  {
   "cell_type": "code",
   "execution_count": 14,
   "metadata": {
    "ExecuteTime": {
     "end_time": "2020-04-25T12:39:03.580931Z",
     "start_time": "2020-04-25T12:39:03.574911Z"
    }
   },
   "outputs": [
    {
     "data": {
      "text/plain": [
       "(730, 1)"
      ]
     },
     "execution_count": 14,
     "metadata": {},
     "output_type": "execute_result"
    }
   ],
   "source": [
    "y_pred = scaler.inverse_transform(y_pred)\n",
    "y_pred.shape"
   ]
  },
  {
   "cell_type": "code",
   "execution_count": 15,
   "metadata": {
    "ExecuteTime": {
     "end_time": "2020-04-25T12:39:03.595793Z",
     "start_time": "2020-04-25T12:39:03.582439Z"
    }
   },
   "outputs": [
    {
     "data": {
      "text/plain": [
       "0.0013565203795903229"
      ]
     },
     "execution_count": 15,
     "metadata": {},
     "output_type": "execute_result"
    }
   ],
   "source": [
    "scale = scaler.scale_[0]\n",
    "scale"
   ]
  },
  {
   "cell_type": "code",
   "execution_count": 16,
   "metadata": {
    "ExecuteTime": {
     "end_time": "2020-04-25T12:39:03.603772Z",
     "start_time": "2020-04-25T12:39:03.596790Z"
    }
   },
   "outputs": [
    {
     "data": {
      "text/plain": [
       "-0.06702540200800232"
      ]
     },
     "execution_count": 16,
     "metadata": {},
     "output_type": "execute_result"
    }
   ],
   "source": [
    "bias = scaler.min_[0]\n",
    "bias"
   ]
  },
  {
   "cell_type": "code",
   "execution_count": 17,
   "metadata": {
    "ExecuteTime": {
     "end_time": "2020-04-25T12:39:03.609756Z",
     "start_time": "2020-04-25T12:39:03.604769Z"
    }
   },
   "outputs": [],
   "source": [
    "y_test = (y_test-bias)/scale"
   ]
  },
  {
   "cell_type": "code",
   "execution_count": 18,
   "metadata": {
    "ExecuteTime": {
     "end_time": "2020-04-25T12:39:03.615777Z",
     "start_time": "2020-04-25T12:39:03.610755Z"
    }
   },
   "outputs": [],
   "source": [
    "y_test = y_test.reshape(730, 1)"
   ]
  },
  {
   "cell_type": "code",
   "execution_count": 19,
   "metadata": {
    "ExecuteTime": {
     "end_time": "2020-04-25T12:39:03.775364Z",
     "start_time": "2020-04-25T12:39:03.616739Z"
    }
   },
   "outputs": [
    {
     "data": {
      "image/png": "[encoded data removed]",
      "text/plain": [
       "<Figure size 1008x360 with 1 Axes>"
      ]
     },
     "metadata": {
      "needs_background": "light"
     },
     "output_type": "display_data"
    }
   ],
   "source": [
    "plt.figure(figsize=(14,5))\n",
    "plt.plot(y_test,label='real')\n",
    "plt.plot(y_pred,label='pred')\n",
    "plt.ylabel('Open')\n",
    "plt.legend()\n",
    "plt.show()"
   ]
  },
  {
   "cell_type": "code",
   "execution_count": 20,
   "metadata": {
    "ExecuteTime": {
     "end_time": "2020-04-25T12:39:03.803239Z",
     "start_time": "2020-04-25T12:39:03.776352Z"
    }
   },
   "outputs": [],
   "source": [
    "model.save('../model/LSTM_seq2vec.h5')"
   ]
  },
  {
   "cell_type": "code",
   "execution_count": null,
   "metadata": {},
   "outputs": [],
   "source": []
  }
 ],
 "metadata": {
  "kernelspec": {
   "display_name": "Python 3",
   "language": "python",
   "name": "python3"
  },
  "language_info": {
   "codemirror_mode": {
    "name": "ipython",
    "version": 3
   },
   "file_extension": ".py",
   "mimetype": "text/x-python",
   "name": "python",
   "nbconvert_exporter": "python",
   "pygments_lexer": "ipython3",
   "version": "3.6.8"
  },
  "latex_envs": {
   "LaTeX_envs_menu_present": true,
   "autoclose": false,
   "autocomplete": true,
   "bibliofile": "biblio.bib",
   "cite_by": "apalike",
   "current_citInitial": 1,
   "eqLabelWithNumbers": true,
   "eqNumInitial": 1,
   "hotkeys": {
    "equation": "Ctrl-E",
    "itemize": "Ctrl-I"
   },
   "labels_anchors": false,
   "latex_user_defs": false,
   "report_style_numbering": false,
   "user_envs_cfg": false
  },
  "toc": {
   "base_numbering": 1,
   "nav_menu": {},
   "number_sections": true,
   "sideBar": true,
   "skip_h1_title": false,
   "title_cell": "Table of Contents",
   "title_sidebar": "Contents",
   "toc_cell": false,
   "toc_position": {},
   "toc_section_display": true,
   "toc_window_display": false
  }
 },
 "nbformat": 4,
 "nbformat_minor": 4
}
