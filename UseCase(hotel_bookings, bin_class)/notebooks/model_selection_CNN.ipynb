{
 "cells": [
  {
   "cell_type": "code",
   "execution_count": 1,
   "metadata": {
    "ExecuteTime": {
     "end_time": "2020-05-01T16:51:29.662132Z",
     "start_time": "2020-05-01T16:51:27.284011Z"
    }
   },
   "outputs": [],
   "source": [
    "from sklearn.metrics import accuracy_score\n",
    "from sklearn.metrics import roc_auc_score\n",
    "from sklearn.metrics import confusion_matrix\n",
    "from sklearn.metrics import classification_report\n",
    "import pandas as pd\n",
    "import numpy as np\n",
    "from sklearn.model_selection import train_test_split\n",
    "import tensorflow as tf\n",
    "from tensorflow import keras\n",
    "from tensorflow.keras import Sequential\n",
    "from tensorflow.keras.layers import Flatten, Dense, Input, Dropout, BatchNormalization, Conv1D, MaxPool1D\n",
    "from tensorflow.keras.optimizers import Adam\n",
    "import matplotlib.pyplot as plt\n",
    "%matplotlib inline"
   ]
  },
  {
   "cell_type": "code",
   "execution_count": 2,
   "metadata": {
    "ExecuteTime": {
     "end_time": "2020-05-01T16:51:30.397381Z",
     "start_time": "2020-05-01T16:51:29.663091Z"
    }
   },
   "outputs": [],
   "source": [
    "X_train_origin = pd.read_csv('../data/featured_data/X_train.csv')\n",
    "y_train_origin = pd.read_csv('../data/featured_data/y_train.csv')"
   ]
  },
  {
   "cell_type": "code",
   "execution_count": 3,
   "metadata": {
    "ExecuteTime": {
     "end_time": "2020-05-01T16:51:30.403242Z",
     "start_time": "2020-05-01T16:51:30.398216Z"
    }
   },
   "outputs": [],
   "source": [
    "X_train_origin = X_train_origin.to_numpy()\n",
    "y_train_origin = y_train_origin.to_numpy()\n",
    "y_train_origin = y_train_origin.ravel()"
   ]
  },
  {
   "cell_type": "code",
   "execution_count": 4,
   "metadata": {
    "ExecuteTime": {
     "end_time": "2020-05-01T16:51:30.474537Z",
     "start_time": "2020-05-01T16:51:30.404237Z"
    }
   },
   "outputs": [],
   "source": [
    "X_train, X_val, y_train, y_val = train_test_split(X_train_origin, y_train_origin, test_size=0.2, random_state=1) "
   ]
  },
  {
   "cell_type": "code",
   "execution_count": 5,
   "metadata": {
    "ExecuteTime": {
     "end_time": "2020-05-01T16:51:30.482310Z",
     "start_time": "2020-05-01T16:51:30.475329Z"
    }
   },
   "outputs": [
    {
     "data": {
      "text/plain": [
       "((76409, 48), (19103, 48), (76409,), (19103,))"
      ]
     },
     "execution_count": 5,
     "metadata": {},
     "output_type": "execute_result"
    }
   ],
   "source": [
    "X_train.shape,X_val.shape,y_train.shape,y_val.shape"
   ]
  },
  {
   "cell_type": "code",
   "execution_count": 6,
   "metadata": {
    "ExecuteTime": {
     "end_time": "2020-05-01T16:51:30.489312Z",
     "start_time": "2020-05-01T16:51:30.483308Z"
    }
   },
   "outputs": [
    {
     "data": {
      "text/plain": [
       "((76409, 48, 1), (19103, 48, 1), (76409, 1), (19103, 1))"
      ]
     },
     "execution_count": 6,
     "metadata": {},
     "output_type": "execute_result"
    }
   ],
   "source": [
    "X_train=X_train.reshape(76409, 48, 1)\n",
    "X_val=X_val.reshape(19103, 48, 1)\n",
    "y_train=y_train.reshape(76409, 1)\n",
    "y_val=y_val.reshape(19103, 1)\n",
    "X_train.shape,X_val.shape,y_train.shape,y_val.shape"
   ]
  },
  {
   "cell_type": "code",
   "execution_count": 7,
   "metadata": {
    "ExecuteTime": {
     "end_time": "2020-05-01T16:51:31.457411Z",
     "start_time": "2020-05-01T16:51:30.491307Z"
    }
   },
   "outputs": [],
   "source": [
    "model = Sequential()\n",
    "\n",
    "model.add(Conv1D(filters=16, activation='relu', kernel_size=3,\n",
    "                 input_shape=(X_train.shape[1], X_train.shape[2])))\n",
    "model.add(Dropout(0.1))\n",
    "model.add(MaxPool1D(2))\n",
    "\n",
    "model.add(Conv1D(filters=32, activation='relu', kernel_size=3))\n",
    "model.add(Dropout(0.2))\n",
    "model.add(MaxPool1D(2))\n",
    "\n",
    "model.add(Conv1D(filters=64, activation='relu', kernel_size=3))\n",
    "model.add(Dropout(0.3))\n",
    "model.add(MaxPool1D(2))\n",
    "\n",
    "model.add(Flatten())\n",
    "model.add(Dense(8, activation='relu'))\n",
    "\n",
    "model.add(Dense(1))"
   ]
  },
  {
   "cell_type": "code",
   "execution_count": 8,
   "metadata": {
    "ExecuteTime": {
     "end_time": "2020-05-01T16:51:31.464953Z",
     "start_time": "2020-05-01T16:51:31.458409Z"
    }
   },
   "outputs": [
    {
     "name": "stdout",
     "output_type": "stream",
     "text": [
      "Model: \"sequential\"\n",
      "_________________________________________________________________\n",
      "Layer (type)                 Output Shape              Param #   \n",
      "=================================================================\n",
      "conv1d (Conv1D)              (None, 46, 16)            64        \n",
      "_________________________________________________________________\n",
      "dropout (Dropout)            (None, 46, 16)            0         \n",
      "_________________________________________________________________\n",
      "max_pooling1d (MaxPooling1D) (None, 23, 16)            0         \n",
      "_________________________________________________________________\n",
      "conv1d_1 (Conv1D)            (None, 21, 32)            1568      \n",
      "_________________________________________________________________\n",
      "dropout_1 (Dropout)          (None, 21, 32)            0         \n",
      "_________________________________________________________________\n",
      "max_pooling1d_1 (MaxPooling1 (None, 10, 32)            0         \n",
      "_________________________________________________________________\n",
      "conv1d_2 (Conv1D)            (None, 8, 64)             6208      \n",
      "_________________________________________________________________\n",
      "dropout_2 (Dropout)          (None, 8, 64)             0         \n",
      "_________________________________________________________________\n",
      "max_pooling1d_2 (MaxPooling1 (None, 4, 64)             0         \n",
      "_________________________________________________________________\n",
      "flatten (Flatten)            (None, 256)               0         \n",
      "_________________________________________________________________\n",
      "dense (Dense)                (None, 8)                 2056      \n",
      "_________________________________________________________________\n",
      "dense_1 (Dense)              (None, 1)                 9         \n",
      "=================================================================\n",
      "Total params: 9,905\n",
      "Trainable params: 9,905\n",
      "Non-trainable params: 0\n",
      "_________________________________________________________________\n"
     ]
    }
   ],
   "source": [
    "model.summary()"
   ]
  },
  {
   "cell_type": "code",
   "execution_count": 9,
   "metadata": {
    "ExecuteTime": {
     "end_time": "2020-05-01T16:51:31.516764Z",
     "start_time": "2020-05-01T16:51:31.467893Z"
    }
   },
   "outputs": [],
   "source": [
    "opt=Adam(learning_rate=0.001)\n",
    "model.compile(optimizer=opt ,loss='binary_crossentropy',metrics=['accuracy'])"
   ]
  },
  {
   "cell_type": "code",
   "execution_count": 10,
   "metadata": {
    "ExecuteTime": {
     "end_time": "2020-05-01T16:51:31.521749Z",
     "start_time": "2020-05-01T16:51:31.517760Z"
    }
   },
   "outputs": [],
   "source": [
    "epoch = 100"
   ]
  },
  {
   "cell_type": "code",
   "execution_count": 11,
   "metadata": {
    "ExecuteTime": {
     "end_time": "2020-05-01T16:53:50.917967Z",
     "start_time": "2020-05-01T16:51:31.522746Z"
    },
    "scrolled": true
   },
   "outputs": [
    {
     "name": "stdout",
     "output_type": "stream",
     "text": [
      "Train on 76409 samples, validate on 19103 samples\n",
      "Epoch 1/100\n",
      "76409/76409 [==============================] - 4s 55us/sample - loss: 0.6291 - accuracy: 0.6759 - val_loss: 0.4893 - val_accuracy: 0.7593\n",
      "Epoch 2/100\n",
      "76409/76409 [==============================] - 1s 19us/sample - loss: 0.4871 - accuracy: 0.7638 - val_loss: 0.4220 - val_accuracy: 0.8029\n",
      "Epoch 3/100\n",
      "76409/76409 [==============================] - 1s 17us/sample - loss: 0.4688 - accuracy: 0.7721 - val_loss: 0.4090 - val_accuracy: 0.7994\n",
      "Epoch 4/100\n",
      "76409/76409 [==============================] - 1s 18us/sample - loss: 0.4313 - accuracy: 0.7931 - val_loss: 0.3826 - val_accuracy: 0.8173\n",
      "Epoch 5/100\n",
      "76409/76409 [==============================] - 1s 18us/sample - loss: 0.4235 - accuracy: 0.8000 - val_loss: 0.3799 - val_accuracy: 0.8227\n",
      "Epoch 6/100\n",
      "76409/76409 [==============================] - 1s 17us/sample - loss: 0.4103 - accuracy: 0.8062 - val_loss: 0.3726 - val_accuracy: 0.8305\n",
      "Epoch 7/100\n",
      "76409/76409 [==============================] - 1s 18us/sample - loss: 0.4115 - accuracy: 0.8074 - val_loss: 0.3694 - val_accuracy: 0.8277\n",
      "Epoch 8/100\n",
      "76409/76409 [==============================] - 1s 17us/sample - loss: 0.4315 - accuracy: 0.7925 - val_loss: 0.4252 - val_accuracy: 0.8057\n",
      "Epoch 9/100\n",
      "76409/76409 [==============================] - 1s 18us/sample - loss: 0.4158 - accuracy: 0.8030 - val_loss: 0.3753 - val_accuracy: 0.8230\n",
      "Epoch 10/100\n",
      "76409/76409 [==============================] - 1s 17us/sample - loss: 0.4081 - accuracy: 0.8076 - val_loss: 0.3713 - val_accuracy: 0.8281\n",
      "Epoch 11/100\n",
      "76409/76409 [==============================] - 1s 18us/sample - loss: 0.3973 - accuracy: 0.8137 - val_loss: 0.3613 - val_accuracy: 0.8340\n",
      "Epoch 12/100\n",
      "76409/76409 [==============================] - 1s 18us/sample - loss: 0.3933 - accuracy: 0.8167 - val_loss: 0.3591 - val_accuracy: 0.8358\n",
      "Epoch 13/100\n",
      "76409/76409 [==============================] - 1s 17us/sample - loss: 0.3880 - accuracy: 0.8204 - val_loss: 0.3514 - val_accuracy: 0.8400\n",
      "Epoch 14/100\n",
      "76409/76409 [==============================] - 1s 18us/sample - loss: 0.3865 - accuracy: 0.8201 - val_loss: 0.3570 - val_accuracy: 0.8333\n",
      "Epoch 15/100\n",
      "76409/76409 [==============================] - 1s 18us/sample - loss: 0.4020 - accuracy: 0.8130 - val_loss: 0.4119 - val_accuracy: 0.8096\n",
      "Epoch 16/100\n",
      "76409/76409 [==============================] - 1s 18us/sample - loss: 0.3959 - accuracy: 0.8135 - val_loss: 0.3547 - val_accuracy: 0.8381\n",
      "Epoch 17/100\n",
      "76409/76409 [==============================] - 1s 18us/sample - loss: 0.3974 - accuracy: 0.8153 - val_loss: 0.4048 - val_accuracy: 0.8000\n",
      "Epoch 18/100\n",
      "76409/76409 [==============================] - 1s 18us/sample - loss: 0.3964 - accuracy: 0.8163 - val_loss: 0.3564 - val_accuracy: 0.8364\n",
      "Epoch 19/100\n",
      "76409/76409 [==============================] - 1s 18us/sample - loss: 0.3835 - accuracy: 0.8236 - val_loss: 0.3544 - val_accuracy: 0.8411\n",
      "Epoch 20/100\n",
      "76409/76409 [==============================] - 1s 18us/sample - loss: 0.3896 - accuracy: 0.8193 - val_loss: 0.3955 - val_accuracy: 0.8159\n",
      "Epoch 21/100\n",
      "76409/76409 [==============================] - 1s 18us/sample - loss: 0.3884 - accuracy: 0.8232 - val_loss: 0.3492 - val_accuracy: 0.8408\n",
      "Epoch 22/100\n",
      "76409/76409 [==============================] - 1s 17us/sample - loss: 0.3773 - accuracy: 0.8258 - val_loss: 0.3582 - val_accuracy: 0.8399\n",
      "Epoch 23/100\n",
      "76409/76409 [==============================] - 1s 18us/sample - loss: 0.4003 - accuracy: 0.8133 - val_loss: 0.3926 - val_accuracy: 0.8007\n",
      "Epoch 24/100\n",
      "76409/76409 [==============================] - 1s 18us/sample - loss: 0.4010 - accuracy: 0.8120 - val_loss: 0.3827 - val_accuracy: 0.8217\n",
      "Epoch 25/100\n",
      "76409/76409 [==============================] - 1s 18us/sample - loss: 0.4112 - accuracy: 0.8027 - val_loss: 0.3680 - val_accuracy: 0.8291\n",
      "Epoch 26/100\n",
      "76409/76409 [==============================] - 1s 18us/sample - loss: 0.3870 - accuracy: 0.8198 - val_loss: 0.3519 - val_accuracy: 0.8411\n",
      "Epoch 27/100\n",
      "76409/76409 [==============================] - 1s 18us/sample - loss: 0.3861 - accuracy: 0.8205 - val_loss: 0.3520 - val_accuracy: 0.8398\n",
      "Epoch 28/100\n",
      "76409/76409 [==============================] - 1s 18us/sample - loss: 0.3830 - accuracy: 0.8232 - val_loss: 0.3539 - val_accuracy: 0.8407\n",
      "Epoch 29/100\n",
      "76409/76409 [==============================] - 1s 18us/sample - loss: 0.3794 - accuracy: 0.8254 - val_loss: 0.3459 - val_accuracy: 0.8434\n",
      "Epoch 30/100\n",
      "76409/76409 [==============================] - 1s 18us/sample - loss: 0.3746 - accuracy: 0.8291 - val_loss: 0.3413 - val_accuracy: 0.8429\n",
      "Epoch 31/100\n",
      "76409/76409 [==============================] - 1s 18us/sample - loss: 0.3907 - accuracy: 0.8184 - val_loss: 0.3917 - val_accuracy: 0.8238\n",
      "Epoch 32/100\n",
      "76409/76409 [==============================] - 1s 18us/sample - loss: 0.3924 - accuracy: 0.8185 - val_loss: 0.3631 - val_accuracy: 0.8361\n",
      "Epoch 33/100\n",
      "76409/76409 [==============================] - 1s 18us/sample - loss: 0.3780 - accuracy: 0.8222 - val_loss: 0.3521 - val_accuracy: 0.8415\n",
      "Epoch 34/100\n",
      "76409/76409 [==============================] - 1s 18us/sample - loss: 0.3719 - accuracy: 0.8275 - val_loss: 0.3439 - val_accuracy: 0.8428\n",
      "Epoch 35/100\n",
      "76409/76409 [==============================] - 1s 18us/sample - loss: 0.3684 - accuracy: 0.8296 - val_loss: 0.3560 - val_accuracy: 0.8376\n",
      "Epoch 36/100\n",
      "76409/76409 [==============================] - 1s 18us/sample - loss: 0.3683 - accuracy: 0.8316 - val_loss: 0.3399 - val_accuracy: 0.8449\n",
      "Epoch 37/100\n",
      "76409/76409 [==============================] - 1s 18us/sample - loss: 0.3655 - accuracy: 0.8322 - val_loss: 0.3439 - val_accuracy: 0.8420\n",
      "Epoch 38/100\n",
      "76409/76409 [==============================] - 1s 18us/sample - loss: 0.3646 - accuracy: 0.8314 - val_loss: 0.3396 - val_accuracy: 0.8448\n",
      "Epoch 39/100\n",
      "76409/76409 [==============================] - 1s 18us/sample - loss: 0.3821 - accuracy: 0.8239 - val_loss: 0.3420 - val_accuracy: 0.8442\n",
      "Epoch 40/100\n",
      "76409/76409 [==============================] - 1s 18us/sample - loss: 0.3786 - accuracy: 0.8265 - val_loss: 0.3474 - val_accuracy: 0.8438\n",
      "Epoch 41/100\n",
      "76409/76409 [==============================] - 1s 18us/sample - loss: 0.4028 - accuracy: 0.8070 - val_loss: 0.3616 - val_accuracy: 0.8246\n",
      "Epoch 42/100\n",
      "76409/76409 [==============================] - 1s 18us/sample - loss: 0.3766 - accuracy: 0.8236 - val_loss: 0.3460 - val_accuracy: 0.8391\n",
      "Epoch 43/100\n",
      "76409/76409 [==============================] - 1s 19us/sample - loss: 0.3765 - accuracy: 0.8275 - val_loss: 0.3500 - val_accuracy: 0.8414\n",
      "Epoch 44/100\n",
      "76409/76409 [==============================] - 1s 18us/sample - loss: 0.3728 - accuracy: 0.8304 - val_loss: 0.3515 - val_accuracy: 0.8362\n",
      "Epoch 45/100\n",
      "76409/76409 [==============================] - 1s 18us/sample - loss: 0.3697 - accuracy: 0.8307 - val_loss: 0.3452 - val_accuracy: 0.8412\n",
      "Epoch 46/100\n",
      "76409/76409 [==============================] - 1s 18us/sample - loss: 0.3679 - accuracy: 0.8336 - val_loss: 0.3479 - val_accuracy: 0.8432\n",
      "Epoch 47/100\n",
      "76409/76409 [==============================] - 1s 18us/sample - loss: 0.3699 - accuracy: 0.8308 - val_loss: 0.3443 - val_accuracy: 0.8420\n",
      "Epoch 48/100\n",
      "76409/76409 [==============================] - 1s 18us/sample - loss: 0.3654 - accuracy: 0.8328 - val_loss: 0.3444 - val_accuracy: 0.8449\n",
      "Epoch 49/100\n",
      "76409/76409 [==============================] - 1s 18us/sample - loss: 0.3684 - accuracy: 0.8329 - val_loss: 0.3339 - val_accuracy: 0.8487\n",
      "Epoch 50/100\n",
      "76409/76409 [==============================] - 1s 18us/sample - loss: 0.3638 - accuracy: 0.8348 - val_loss: 0.3388 - val_accuracy: 0.8432\n",
      "Epoch 51/100\n",
      "76409/76409 [==============================] - 1s 18us/sample - loss: 0.3632 - accuracy: 0.8352 - val_loss: 0.3318 - val_accuracy: 0.8482\n",
      "Epoch 52/100\n",
      "76409/76409 [==============================] - 1s 18us/sample - loss: 0.3598 - accuracy: 0.8345 - val_loss: 0.3296 - val_accuracy: 0.8500\n",
      "Epoch 53/100\n",
      "76409/76409 [==============================] - 1s 18us/sample - loss: 0.3595 - accuracy: 0.8361 - val_loss: 0.3518 - val_accuracy: 0.8274\n",
      "Epoch 54/100\n",
      "76409/76409 [==============================] - 1s 18us/sample - loss: 0.3607 - accuracy: 0.8349 - val_loss: 0.3292 - val_accuracy: 0.8498\n"
     ]
    },
    {
     "name": "stdout",
     "output_type": "stream",
     "text": [
      "Epoch 55/100\n",
      "76409/76409 [==============================] - 1s 18us/sample - loss: 0.3631 - accuracy: 0.8324 - val_loss: 0.3342 - val_accuracy: 0.8499\n",
      "Epoch 56/100\n",
      "76409/76409 [==============================] - 1s 18us/sample - loss: 0.3614 - accuracy: 0.8329 - val_loss: 0.3353 - val_accuracy: 0.8463\n",
      "Epoch 57/100\n",
      "76409/76409 [==============================] - 1s 18us/sample - loss: 0.3660 - accuracy: 0.8306 - val_loss: 0.3387 - val_accuracy: 0.8486\n",
      "Epoch 58/100\n",
      "76409/76409 [==============================] - 1s 18us/sample - loss: 0.3861 - accuracy: 0.8213 - val_loss: 0.3840 - val_accuracy: 0.8223\n",
      "Epoch 59/100\n",
      "76409/76409 [==============================] - 1s 18us/sample - loss: 0.3806 - accuracy: 0.8239 - val_loss: 0.3448 - val_accuracy: 0.8428\n",
      "Epoch 60/100\n",
      "76409/76409 [==============================] - 1s 18us/sample - loss: 0.3834 - accuracy: 0.8208 - val_loss: 0.3905 - val_accuracy: 0.8247\n",
      "Epoch 61/100\n",
      "76409/76409 [==============================] - 1s 18us/sample - loss: 0.3907 - accuracy: 0.8174 - val_loss: 0.3678 - val_accuracy: 0.8312\n",
      "Epoch 62/100\n",
      "76409/76409 [==============================] - 1s 18us/sample - loss: 0.3744 - accuracy: 0.8260 - val_loss: 0.3390 - val_accuracy: 0.8456\n",
      "Epoch 63/100\n",
      "76409/76409 [==============================] - 1s 18us/sample - loss: 0.3656 - accuracy: 0.8309 - val_loss: 0.3384 - val_accuracy: 0.8495\n",
      "Epoch 64/100\n",
      "76409/76409 [==============================] - 1s 18us/sample - loss: 0.3609 - accuracy: 0.8363 - val_loss: 0.3382 - val_accuracy: 0.8498\n",
      "Epoch 65/100\n",
      "76409/76409 [==============================] - 1s 18us/sample - loss: 0.3717 - accuracy: 0.8240 - val_loss: 0.3411 - val_accuracy: 0.8455\n",
      "Epoch 66/100\n",
      "76409/76409 [==============================] - 1s 18us/sample - loss: 0.3611 - accuracy: 0.8340 - val_loss: 0.3302 - val_accuracy: 0.8501\n",
      "Epoch 67/100\n",
      "76409/76409 [==============================] - 1s 18us/sample - loss: 0.3544 - accuracy: 0.8368 - val_loss: 0.3301 - val_accuracy: 0.8509\n",
      "Epoch 68/100\n",
      "76409/76409 [==============================] - 1s 18us/sample - loss: 0.3677 - accuracy: 0.8334 - val_loss: 0.3532 - val_accuracy: 0.8458\n",
      "Epoch 69/100\n",
      "76409/76409 [==============================] - 1s 18us/sample - loss: 0.3593 - accuracy: 0.8358 - val_loss: 0.3288 - val_accuracy: 0.8523\n",
      "Epoch 70/100\n",
      "76409/76409 [==============================] - 1s 18us/sample - loss: 0.3506 - accuracy: 0.8378 - val_loss: 0.3330 - val_accuracy: 0.8514\n",
      "Epoch 71/100\n",
      "76409/76409 [==============================] - 1s 18us/sample - loss: 0.3777 - accuracy: 0.8225 - val_loss: 0.3394 - val_accuracy: 0.8432\n",
      "Epoch 72/100\n",
      "76409/76409 [==============================] - 1s 19us/sample - loss: 0.3642 - accuracy: 0.8315 - val_loss: 0.3336 - val_accuracy: 0.8487\n",
      "Epoch 73/100\n",
      "76409/76409 [==============================] - 1s 18us/sample - loss: 0.3648 - accuracy: 0.8301 - val_loss: 0.3717 - val_accuracy: 0.8284\n",
      "Epoch 74/100\n",
      "76409/76409 [==============================] - 1s 17us/sample - loss: 0.3679 - accuracy: 0.8284 - val_loss: 0.3347 - val_accuracy: 0.8485\n",
      "Epoch 75/100\n",
      "76409/76409 [==============================] - 1s 17us/sample - loss: 0.3580 - accuracy: 0.8362 - val_loss: 0.3347 - val_accuracy: 0.8449\n",
      "Epoch 76/100\n",
      "76409/76409 [==============================] - 1s 18us/sample - loss: 0.3546 - accuracy: 0.8371 - val_loss: 0.3275 - val_accuracy: 0.8520\n",
      "Epoch 77/100\n",
      "76409/76409 [==============================] - 1s 18us/sample - loss: 0.3587 - accuracy: 0.8349 - val_loss: 0.3746 - val_accuracy: 0.8338\n",
      "Epoch 78/100\n",
      "76409/76409 [==============================] - 1s 18us/sample - loss: 0.3728 - accuracy: 0.8297 - val_loss: 0.3402 - val_accuracy: 0.8476\n",
      "Epoch 79/100\n",
      "76409/76409 [==============================] - 1s 18us/sample - loss: 0.3577 - accuracy: 0.8363 - val_loss: 0.3303 - val_accuracy: 0.8521\n",
      "Epoch 80/100\n",
      "76409/76409 [==============================] - 1s 18us/sample - loss: 0.3592 - accuracy: 0.8364 - val_loss: 0.3382 - val_accuracy: 0.8498\n",
      "Epoch 81/100\n",
      "76409/76409 [==============================] - 1s 18us/sample - loss: 0.3528 - accuracy: 0.8373 - val_loss: 0.3288 - val_accuracy: 0.8530\n",
      "Epoch 82/100\n",
      "76409/76409 [==============================] - 1s 18us/sample - loss: 0.3527 - accuracy: 0.8369 - val_loss: 0.3276 - val_accuracy: 0.8531\n",
      "Epoch 83/100\n",
      "76409/76409 [==============================] - 1s 18us/sample - loss: 0.3642 - accuracy: 0.8305 - val_loss: 0.3379 - val_accuracy: 0.8496\n",
      "Epoch 84/100\n",
      "76409/76409 [==============================] - 1s 17us/sample - loss: 0.3557 - accuracy: 0.8377 - val_loss: 0.3270 - val_accuracy: 0.8524\n",
      "Epoch 85/100\n",
      "76409/76409 [==============================] - 1s 18us/sample - loss: 0.3473 - accuracy: 0.8408 - val_loss: 0.3236 - val_accuracy: 0.8547\n",
      "Epoch 86/100\n",
      "76409/76409 [==============================] - 1s 18us/sample - loss: 0.3495 - accuracy: 0.8398 - val_loss: 0.3241 - val_accuracy: 0.8554\n",
      "Epoch 87/100\n",
      "76409/76409 [==============================] - 1s 18us/sample - loss: 0.3527 - accuracy: 0.8375 - val_loss: 0.3373 - val_accuracy: 0.8479\n",
      "Epoch 88/100\n",
      "76409/76409 [==============================] - 1s 17us/sample - loss: 0.3526 - accuracy: 0.8393 - val_loss: 0.3268 - val_accuracy: 0.8529\n",
      "Epoch 89/100\n",
      "76409/76409 [==============================] - 1s 18us/sample - loss: 0.3502 - accuracy: 0.8396 - val_loss: 0.3412 - val_accuracy: 0.8485\n",
      "Epoch 90/100\n",
      "76409/76409 [==============================] - 1s 18us/sample - loss: 0.3537 - accuracy: 0.8397 - val_loss: 0.3273 - val_accuracy: 0.8530\n",
      "Epoch 91/100\n",
      "76409/76409 [==============================] - 1s 17us/sample - loss: 0.3504 - accuracy: 0.8394 - val_loss: 0.3259 - val_accuracy: 0.8534\n",
      "Epoch 92/100\n",
      "76409/76409 [==============================] - 1s 18us/sample - loss: 0.3543 - accuracy: 0.8377 - val_loss: 0.3316 - val_accuracy: 0.8509\n",
      "Epoch 93/100\n",
      "76409/76409 [==============================] - 1s 18us/sample - loss: 0.3600 - accuracy: 0.8331 - val_loss: 0.3433 - val_accuracy: 0.8434\n",
      "Epoch 94/100\n",
      "76409/76409 [==============================] - 1s 18us/sample - loss: 0.3587 - accuracy: 0.8332 - val_loss: 0.3397 - val_accuracy: 0.8459\n",
      "Epoch 95/100\n",
      "76409/76409 [==============================] - 1s 19us/sample - loss: 0.3534 - accuracy: 0.8381 - val_loss: 0.3298 - val_accuracy: 0.8486\n",
      "Epoch 96/100\n",
      "76409/76409 [==============================] - 1s 19us/sample - loss: 0.3526 - accuracy: 0.8393 - val_loss: 0.3319 - val_accuracy: 0.8446\n",
      "Epoch 97/100\n",
      "76409/76409 [==============================] - 1s 18us/sample - loss: 0.3504 - accuracy: 0.8397 - val_loss: 0.3229 - val_accuracy: 0.8526\n",
      "Epoch 98/100\n",
      "76409/76409 [==============================] - 2s 20us/sample - loss: 0.3506 - accuracy: 0.8395 - val_loss: 0.3294 - val_accuracy: 0.8508\n",
      "Epoch 99/100\n",
      "76409/76409 [==============================] - 1s 18us/sample - loss: 0.3625 - accuracy: 0.8355 - val_loss: 0.3289 - val_accuracy: 0.8537\n",
      "Epoch 100/100\n",
      "76409/76409 [==============================] - 2s 20us/sample - loss: 0.3611 - accuracy: 0.8345 - val_loss: 0.3274 - val_accuracy: 0.8515\n"
     ]
    }
   ],
   "source": [
    "history=model.fit(X_train, y_train,validation_data=(X_val,y_val),batch_size=256, epochs=epoch, verbose=1)"
   ]
  },
  {
   "cell_type": "code",
   "execution_count": 12,
   "metadata": {
    "ExecuteTime": {
     "end_time": "2020-05-01T16:53:51.202162Z",
     "start_time": "2020-05-01T16:53:50.918943Z"
    }
   },
   "outputs": [
    {
     "data": {
      "image/png": "[encoded data removed]",
      "text/plain": [
       "<Figure size 432x288 with 1 Axes>"
      ]
     },
     "metadata": {
      "needs_background": "light"
     },
     "output_type": "display_data"
    },
    {
     "data": {
      "image/png": "[encoded data removed]",
      "text/plain": [
       "<Figure size 432x288 with 1 Axes>"
      ]
     },
     "metadata": {
      "needs_background": "light"
     },
     "output_type": "display_data"
    }
   ],
   "source": [
    "epoch_range=range(1,epoch+1)\n",
    "plt.plot(epoch_range,history.history['accuracy'])\n",
    "plt.plot(epoch_range,history.history['val_accuracy'])\n",
    "plt.title('Model accuracy')\n",
    "plt.ylabel('Accuracy')\n",
    "plt.xlabel('Epoch')\n",
    "plt.legend(['Train','Val'],loc='upper left')\n",
    "plt.show()\n",
    "\n",
    "plt.plot(history.history['loss'])\n",
    "plt.plot(history.history['val_loss'])\n",
    "plt.title('Model loss')\n",
    "plt.ylabel('Loss')\n",
    "plt.xlabel('Epoch')\n",
    "plt.legend(['Train','Val'],loc='upper left')\n",
    "plt.show()\n",
    "\n",
    "## continue training for a better result\n",
    "## worse result than DNN, reject!"
   ]
  },
  {
   "cell_type": "code",
   "execution_count": 13,
   "metadata": {
    "ExecuteTime": {
     "end_time": "2020-05-01T16:53:51.237094Z",
     "start_time": "2020-05-01T16:53:51.203124Z"
    }
   },
   "outputs": [],
   "source": [
    "model.save(\"../models/CNN.h5\")"
   ]
  }
 ],
 "metadata": {
  "kernelspec": {
   "display_name": "Python 3",
   "language": "python",
   "name": "python3"
  },
  "language_info": {
   "codemirror_mode": {
    "name": "ipython",
    "version": 3
   },
   "file_extension": ".py",
   "mimetype": "text/x-python",
   "name": "python",
   "nbconvert_exporter": "python",
   "pygments_lexer": "ipython3",
   "version": "3.6.5"
  },
  "latex_envs": {
   "LaTeX_envs_menu_present": true,
   "autoclose": false,
   "autocomplete": true,
   "bibliofile": "biblio.bib",
   "cite_by": "apalike",
   "current_citInitial": 1,
   "eqLabelWithNumbers": true,
   "eqNumInitial": 1,
   "hotkeys": {
    "equation": "Ctrl-E",
    "itemize": "Ctrl-I"
   },
   "labels_anchors": false,
   "latex_user_defs": false,
   "report_style_numbering": false,
   "user_envs_cfg": false
  },
  "toc": {
   "base_numbering": 1,
   "nav_menu": {},
   "number_sections": true,
   "sideBar": true,
   "skip_h1_title": false,
   "title_cell": "Table of Contents",
   "title_sidebar": "Contents",
   "toc_cell": false,
   "toc_position": {},
   "toc_section_display": true,
   "toc_window_display": false
  }
 },
 "nbformat": 4,
 "nbformat_minor": 4
}
