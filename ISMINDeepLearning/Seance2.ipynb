{
 "cells": [
  {
   "cell_type": "code",
   "execution_count": 1,
   "metadata": {},
   "outputs": [
    {
     "name": "stderr",
     "output_type": "stream",
     "text": [
      "C:\\Utilities\\Anaconda3\\lib\\site-packages\\h5py\\__init__.py:36: FutureWarning: Conversion of the second argument of issubdtype from `float` to `np.floating` is deprecated. In future, it will be treated as `np.float64 == np.dtype(float).type`.\n",
      "  from ._conv import register_converters as _register_converters\n"
     ]
    },
    {
     "name": "stdout",
     "output_type": "stream",
     "text": [
      "GPU True\n"
     ]
    }
   ],
   "source": [
    "# check GPU version tf is installed\n",
    "import tensorflow as tf\n",
    "import os\n",
    "os.environ['TF_CPP_MIN_LOG_LEVEL'] = '2'  # 不显示等级2以下的提示信息\n",
    "print('GPU', tf.test.is_gpu_available())"
   ]
  },
  {
   "cell_type": "code",
   "execution_count": 2,
   "metadata": {
    "colab": {},
    "colab_type": "code",
    "id": "8-zo5Xt9aR0b"
   },
   "outputs": [],
   "source": [
    "import tensorflow as tf\n",
    "import numpy as np\n",
    "from sklearn.model_selection import train_test_split\n",
    "import matplotlib.pyplot as plt\n",
    "import warnings\n",
    "warnings.filterwarnings('ignore')"
   ]
  },
  {
   "cell_type": "code",
   "execution_count": 3,
   "metadata": {
    "colab": {},
    "colab_type": "code",
    "id": "OY6hmBozaR0h"
   },
   "outputs": [],
   "source": [
    "# load data: train, test\n",
    "(ox_train,oy_train),(x_test,y_test)=tf.keras.datasets.mnist.load_data()"
   ]
  },
  {
   "cell_type": "code",
   "execution_count": 4,
   "metadata": {
    "colab": {
     "base_uri": "https://localhost:8080/",
     "height": 34
    },
    "colab_type": "code",
    "id": "Sq_2KBeeaR0k",
    "outputId": "d687ed8e-d4f8-478e-fdb9-6f3a5f66ec30"
   },
   "outputs": [
    {
     "data": {
      "text/plain": [
       "((60000, 28, 28), (60000,))"
      ]
     },
     "execution_count": 4,
     "metadata": {},
     "output_type": "execute_result"
    }
   ],
   "source": [
    "ox_train.shape,oy_train.shape"
   ]
  },
  {
   "cell_type": "code",
   "execution_count": 5,
   "metadata": {
    "colab": {},
    "colab_type": "code",
    "id": "TXjR8KdOaR0n"
   },
   "outputs": [],
   "source": [
    "# split data:  train->train,valid\n",
    "x_train,x_valid,y_train,y_valid=train_test_split(ox_train,oy_train,test_size=0.2,random_state=111)"
   ]
  },
  {
   "cell_type": "code",
   "execution_count": 6,
   "metadata": {
    "colab": {
     "base_uri": "https://localhost:8080/",
     "height": 34
    },
    "colab_type": "code",
    "id": "jwzgjw4TaR0p",
    "outputId": "95c35e8c-db2f-43a8-8d60-dd1dd9b02d25"
   },
   "outputs": [
    {
     "data": {
      "text/plain": [
       "((48000, 28, 28), (48000,))"
      ]
     },
     "execution_count": 6,
     "metadata": {},
     "output_type": "execute_result"
    }
   ],
   "source": [
    "x_train.shape,y_train.shape"
   ]
  },
  {
   "cell_type": "code",
   "execution_count": 7,
   "metadata": {
    "colab": {
     "base_uri": "https://localhost:8080/",
     "height": 34
    },
    "colab_type": "code",
    "id": "ZKtVuhPFaR0s",
    "outputId": "e5b600e3-32d3-4671-8d31-5e48e5a4d9fb"
   },
   "outputs": [
    {
     "data": {
      "text/plain": [
       "(255, 9)"
      ]
     },
     "execution_count": 7,
     "metadata": {},
     "output_type": "execute_result"
    }
   ],
   "source": [
    "x_train.max(),y_train.max()"
   ]
  },
  {
   "cell_type": "code",
   "execution_count": 8,
   "metadata": {
    "colab": {},
    "colab_type": "code",
    "id": "_jNBV1_LaR0y"
   },
   "outputs": [],
   "source": [
    "# Normalization\n",
    "\n",
    "x_avg = np.mean(x_train,axis=0,keepdims=True)  # the axis contains 48000 \n",
    "x_train = x_train-x_avg\n",
    "x_norm = np.max(np.abs(x_train),axis=0,keepdims=True)\n",
    "x_norm[x_norm==0]=1 # when x_norm = 0\n",
    "x_train = x_train/x_norm\n",
    "\n",
    "x_valid=(x_valid-x_avg)/x_norm\n",
    "x_test=(x_test-x_avg)/x_norm\n",
    "\n",
    "# x_train=np.expand_dims(x_train,axis=-1)\n",
    "# x_valid=np.expand_dims(x_valid,axis=-1)\n",
    "# x_test=np.expand_dims(x_test,axis=-1)"
   ]
  },
  {
   "cell_type": "code",
   "execution_count": 9,
   "metadata": {
    "colab": {
     "base_uri": "https://localhost:8080/",
     "height": 1000
    },
    "colab_type": "code",
    "id": "rd88x3qgaR00",
    "outputId": "5988e2c2-7878-492f-c9c1-655a4e5551ff"
   },
   "outputs": [
    {
     "name": "stdout",
     "output_type": "stream",
     "text": [
      "Model: \"model\"\n",
      "_________________________________________________________________\n",
      "Layer (type)                 Output Shape              Param #   \n",
      "=================================================================\n",
      "input_1 (InputLayer)         [(None, 28, 28)]          0         \n",
      "_________________________________________________________________\n",
      "flatten (Flatten)            (None, 784)               0         \n",
      "_________________________________________________________________\n",
      "dense (Dense)                (None, 60)                47100     \n",
      "_________________________________________________________________\n",
      "dropout (Dropout)            (None, 60)                0         \n",
      "_________________________________________________________________\n",
      "dense_1 (Dense)              (None, 10)                610       \n",
      "=================================================================\n",
      "Total params: 47,710\n",
      "Trainable params: 47,710\n",
      "Non-trainable params: 0\n",
      "_________________________________________________________________\n",
      "Train on 48000 samples, validate on 12000 samples\n"
     ]
    },
    {
     "name": "stderr",
     "output_type": "stream",
     "text": [
      "Using TensorFlow backend.\n"
     ]
    },
    {
     "name": "stdout",
     "output_type": "stream",
     "text": [
      "Epoch 1/20\n",
      "48000/48000 [==============================] - 4s 91us/sample - loss: 0.3807 - categorical_accuracy: 0.8876 - val_loss: 0.1902 - val_categorical_accuracy: 0.9437\n",
      "Epoch 2/20\n",
      "48000/48000 [==============================] - 3s 65us/sample - loss: 0.2197 - categorical_accuracy: 0.9357 - val_loss: 0.1541 - val_categorical_accuracy: 0.9559\n",
      "Epoch 3/20\n",
      "48000/48000 [==============================] - 3s 67us/sample - loss: 0.1828 - categorical_accuracy: 0.9441 - val_loss: 0.1388 - val_categorical_accuracy: 0.9592\n",
      "Epoch 4/20\n",
      "48000/48000 [==============================] - 3s 66us/sample - loss: 0.1618 - categorical_accuracy: 0.9504 - val_loss: 0.1268 - val_categorical_accuracy: 0.9627\n",
      "Epoch 5/20\n",
      "48000/48000 [==============================] - 3s 67us/sample - loss: 0.1460 - categorical_accuracy: 0.9543 - val_loss: 0.1199 - val_categorical_accuracy: 0.9659\n",
      "Epoch 6/20\n",
      "48000/48000 [==============================] - 3s 66us/sample - loss: 0.1352 - categorical_accuracy: 0.9578 - val_loss: 0.1140 - val_categorical_accuracy: 0.9663\n",
      "Epoch 7/20\n",
      "48000/48000 [==============================] - 3s 66us/sample - loss: 0.1271 - categorical_accuracy: 0.9602 - val_loss: 0.1129 - val_categorical_accuracy: 0.9668\n",
      "Epoch 8/20\n",
      "48000/48000 [==============================] - 3s 69us/sample - loss: 0.1220 - categorical_accuracy: 0.9623 - val_loss: 0.1128 - val_categorical_accuracy: 0.9678\n",
      "Epoch 9/20\n",
      "48000/48000 [==============================] - 3s 65us/sample - loss: 0.1145 - categorical_accuracy: 0.9638 - val_loss: 0.1046 - val_categorical_accuracy: 0.9713\n",
      "Epoch 10/20\n",
      "48000/48000 [==============================] - 3s 66us/sample - loss: 0.1062 - categorical_accuracy: 0.9659 - val_loss: 0.1086 - val_categorical_accuracy: 0.9695\n",
      "Epoch 11/20\n",
      "48000/48000 [==============================] - 3s 67us/sample - loss: 0.1043 - categorical_accuracy: 0.9669 - val_loss: 0.1094 - val_categorical_accuracy: 0.9703\n",
      "Epoch 12/20\n",
      "48000/48000 [==============================] - 3s 67us/sample - loss: 0.1010 - categorical_accuracy: 0.9677 - val_loss: 0.1101 - val_categorical_accuracy: 0.9703\n",
      "Epoch 13/20\n",
      "48000/48000 [==============================] - 3s 67us/sample - loss: 0.0980 - categorical_accuracy: 0.9690 - val_loss: 0.1095 - val_categorical_accuracy: 0.9703\n",
      "Epoch 14/20\n",
      "48000/48000 [==============================] - 3s 66us/sample - loss: 0.0949 - categorical_accuracy: 0.9694 - val_loss: 0.1107 - val_categorical_accuracy: 0.9704\n",
      "Epoch 15/20\n",
      "48000/48000 [==============================] - 3s 66us/sample - loss: 0.0900 - categorical_accuracy: 0.9703 - val_loss: 0.1121 - val_categorical_accuracy: 0.9707\n",
      "Epoch 16/20\n",
      "48000/48000 [==============================] - 3s 65us/sample - loss: 0.0886 - categorical_accuracy: 0.9711 - val_loss: 0.1124 - val_categorical_accuracy: 0.9707\n",
      "Epoch 17/20\n",
      "48000/48000 [==============================] - 3s 70us/sample - loss: 0.0887 - categorical_accuracy: 0.9705 - val_loss: 0.1122 - val_categorical_accuracy: 0.9712\n",
      "Epoch 18/20\n",
      "48000/48000 [==============================] - 3s 65us/sample - loss: 0.0851 - categorical_accuracy: 0.9717 - val_loss: 0.1115 - val_categorical_accuracy: 0.9705\n",
      "Epoch 19/20\n",
      "48000/48000 [==============================] - 3s 67us/sample - loss: 0.0800 - categorical_accuracy: 0.9740 - val_loss: 0.1111 - val_categorical_accuracy: 0.9714\n",
      "Epoch 20/20\n",
      "48000/48000 [==============================] - 3s 65us/sample - loss: 0.0788 - categorical_accuracy: 0.9737 - val_loss: 0.1118 - val_categorical_accuracy: 0.9718\n"
     ]
    }
   ],
   "source": [
    "# model\n",
    "\n",
    "lin = tf.keras.layers.Input(shape=(28,28))\n",
    "lact = lin\n",
    "lact = tf.keras.layers.Flatten()(lact)  \n",
    "# lact = tf.keras.layers.Dense(150,activation='relu')(lact)\n",
    "lact = tf.keras.layers.Dense(60,activation='relu')(lact)\n",
    "lact = tf.keras.layers.Dropout(0.25)(lact)\n",
    "lact = tf.keras.layers.Dense(10,activation='softmax')(lact)      \n",
    "lout = lact\n",
    "\n",
    "model = tf.keras.Model(lin,lout)\n",
    "model.summary()\n",
    "model.compile(tf.keras.optimizers.Adam(learning_rate=1e-3),\n",
    "              tf.keras.losses.CategoricalCrossentropy(),\n",
    "              metrics=[tf.keras.metrics.categorical_accuracy])\n",
    "\n",
    "from keras.utils import to_categorical\n",
    "y_train = to_categorical(y_train)\n",
    "y_valid = to_categorical(y_valid)\n",
    "\n",
    "\n",
    "logs_base_dir = 'C:\\workspaceWin\\DataScience\\ISMINDeepLearning\\logs'\n",
    "%load_ext tensorboard\n",
    "cb=list()\n",
    "cb.append(tf.keras.callbacks.TensorBoard(log_dir=logs_base_dir))\n",
    "\n",
    "\n",
    "history=model.fit(x_train,y_train,validation_data=(x_valid,y_valid),epochs=20,callbacks=cb)"
   ]
  },
  {
   "cell_type": "code",
   "execution_count": 10,
   "metadata": {
    "colab": {},
    "colab_type": "code",
    "id": "Y39EMos8aR03"
   },
   "outputs": [
    {
     "data": {
      "text/plain": [
       "97.11"
      ]
     },
     "execution_count": 10,
     "metadata": {},
     "output_type": "execute_result"
    }
   ],
   "source": [
    "pred = model.predict(x_test)\n",
    "pred = np.argmax(pred,axis=1)\n",
    "acc=100*np.sum(pred==y_test)/x_test.shape[0]\n",
    "acc"
   ]
  },
  {
   "cell_type": "code",
   "execution_count": 13,
   "metadata": {
    "colab": {},
    "colab_type": "code",
    "id": "cXRCcTIyaR05"
   },
   "outputs": [
    {
     "data": {
      "text/plain": [
       "Reusing TensorBoard on port 6060 (pid 4176), started 0:01:00 ago. (Use '!kill 4176' to kill it.)"
      ]
     },
     "metadata": {},
     "output_type": "display_data"
    },
    {
     "data": {
      "text/html": [
       "\n",
       "      <iframe id=\"tensorboard-frame-6ae5a309972fd1d\" width=\"100%\" height=\"800\" frameborder=\"0\">\n",
       "      </iframe>\n",
       "      <script>\n",
       "        (function() {\n",
       "          const frame = document.getElementById(\"tensorboard-frame-6ae5a309972fd1d\");\n",
       "          const url = new URL(\"/\", window.location);\n",
       "          url.port = 6060;\n",
       "          frame.src = url;\n",
       "        })();\n",
       "      </script>\n",
       "  "
      ],
      "text/plain": [
       "<IPython.core.display.HTML object>"
      ]
     },
     "metadata": {},
     "output_type": "display_data"
    }
   ],
   "source": [
    "logs_base_dir = 'C:/workspaceWin/DataScience/ISMINDeepLearning/logs/'\n",
    "#%load_ext tensorboard\n",
    "# %reload_ext tensorboard\n",
    "%tensorboard --logdir {logs_base_dir} --port=6060\n",
    "# %kill 16928"
   ]
  },
  {
   "cell_type": "code",
   "execution_count": null,
   "metadata": {
    "colab": {},
    "colab_type": "code",
    "id": "nixkAqnkaR09"
   },
   "outputs": [],
   "source": []
  },
  {
   "cell_type": "code",
   "execution_count": null,
   "metadata": {
    "colab": {},
    "colab_type": "code",
    "id": "skwsmbbYaR0_"
   },
   "outputs": [],
   "source": []
  },
  {
   "cell_type": "code",
   "execution_count": null,
   "metadata": {
    "colab": {},
    "colab_type": "code",
    "id": "k__ypp6EaR1B"
   },
   "outputs": [],
   "source": []
  }
 ],
 "metadata": {
  "colab": {
   "name": "Seance2.ipynb",
   "provenance": []
  },
  "kernelspec": {
   "display_name": "Python 3",
   "language": "python",
   "name": "python3"
  },
  "language_info": {
   "codemirror_mode": {
    "name": "ipython",
    "version": 3
   },
   "file_extension": ".py",
   "mimetype": "text/x-python",
   "name": "python",
   "nbconvert_exporter": "python",
   "pygments_lexer": "ipython3",
   "version": "3.6.5"
  }
 },
 "nbformat": 4,
 "nbformat_minor": 1
}
