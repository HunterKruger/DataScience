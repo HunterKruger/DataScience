{
 "cells": [
  {
   "cell_type": "code",
   "execution_count": 30,
   "metadata": {
    "ExecuteTime": {
     "end_time": "2020-05-08T19:48:46.203336Z",
     "start_time": "2020-05-08T19:48:46.196436Z"
    }
   },
   "outputs": [],
   "source": [
    "import pandas as pd \n",
    "import numpy as np\n",
    "from pprint import pprint\n",
    "import joblib\n",
    "\n",
    "from sklearn.model_selection import train_test_split\n",
    "from sklearn.model_selection import cross_val_score \n",
    "from sklearn.model_selection import GridSearchCV,RandomizedSearchCV\n",
    "\n",
    "from sklearn.metrics import classification_report\n",
    "from sklearn.metrics import confusion_matrix\n",
    "from sklearn.metrics import roc_auc_score\n",
    "from sklearn.metrics import accuracy_score\n",
    "\n",
    "from sklearn.ensemble import RandomForestClassifier as RF\n",
    "from xgboost import XGBClassifier as XGBC\n",
    "from lightgbm import LGBMClassifier as LGBC\n",
    "\n",
    "from imblearn.over_sampling import SMOTE\n",
    "from imblearn.under_sampling import RandomUnderSampler as RUS"
   ]
  },
  {
   "cell_type": "markdown",
   "metadata": {},
   "source": [
    "## Import data"
   ]
  },
  {
   "cell_type": "code",
   "execution_count": 4,
   "metadata": {
    "ExecuteTime": {
     "end_time": "2020-05-08T18:03:35.099616Z",
     "start_time": "2020-05-08T18:03:26.475064Z"
    }
   },
   "outputs": [
    {
     "data": {
      "text/plain": [
       "(260753, 295)"
      ]
     },
     "execution_count": 4,
     "metadata": {},
     "output_type": "execute_result"
    }
   ],
   "source": [
    "train_origin = pd.read_csv('../data/featured_data/train.csv')\n",
    "train_origin.shape"
   ]
  },
  {
   "cell_type": "code",
   "execution_count": 7,
   "metadata": {
    "ExecuteTime": {
     "end_time": "2020-05-08T18:12:42.450673Z",
     "start_time": "2020-05-08T18:12:41.434949Z"
    }
   },
   "outputs": [],
   "source": [
    "X_train_origin = train_origin.drop('QuoteConversion_Flag',axis=1)\n",
    "y_train_origin = train_origin['QuoteConversion_Flag']"
   ]
  },
  {
   "cell_type": "code",
   "execution_count": 8,
   "metadata": {
    "ExecuteTime": {
     "end_time": "2020-05-08T18:13:11.062942Z",
     "start_time": "2020-05-08T18:13:09.506630Z"
    }
   },
   "outputs": [],
   "source": [
    "X_train, X_val, y_train, y_val = train_test_split(X_train_origin, y_train_origin, test_size=0.2, random_state=1)"
   ]
  },
  {
   "cell_type": "code",
   "execution_count": 9,
   "metadata": {
    "ExecuteTime": {
     "end_time": "2020-05-08T18:13:13.318554Z",
     "start_time": "2020-05-08T18:13:13.311324Z"
    }
   },
   "outputs": [
    {
     "data": {
      "text/plain": [
       "((208602, 294), (52151, 294), (208602,), (52151,))"
      ]
     },
     "execution_count": 9,
     "metadata": {},
     "output_type": "execute_result"
    }
   ],
   "source": [
    "X_train.shape, X_val.shape, y_train.shape, y_val.shape"
   ]
  },
  {
   "cell_type": "markdown",
   "metadata": {
    "ExecuteTime": {
     "end_time": "2020-05-08T18:13:32.108621Z",
     "start_time": "2020-05-08T18:13:32.104479Z"
    }
   },
   "source": [
    "## Baseline: class weight modification (rejected)"
   ]
  },
  {
   "cell_type": "code",
   "execution_count": 11,
   "metadata": {
    "ExecuteTime": {
     "end_time": "2020-05-08T18:14:50.329953Z",
     "start_time": "2020-05-08T18:14:50.324000Z"
    }
   },
   "outputs": [],
   "source": [
    "imbalance_ratio = 211859/48894\n",
    "\n",
    "def modeling(model_name):\n",
    "    model=model_name(class_weight={0: 1, 1: imbalance_ratio})\n",
    "    model.fit(X_train,y_train)\n",
    "    y_pred = model.predict(X_val)\n",
    "    print(\"Confusion_Matrix:\")\n",
    "    print(str(confusion_matrix(y_val,y_pred)))\n",
    "    print(classification_report(y_val,y_pred))\n",
    "    print(\"Accuracy:\" + str(accuracy_score(y_val, y_pred)))\n",
    "    print(\"AUC_ROC:\" + str(roc_auc_score(y_val, y_pred)))"
   ]
  },
  {
   "cell_type": "code",
   "execution_count": 12,
   "metadata": {
    "ExecuteTime": {
     "end_time": "2020-05-08T18:16:49.980239Z",
     "start_time": "2020-05-08T18:15:02.067755Z"
    }
   },
   "outputs": [
    {
     "name": "stdout",
     "output_type": "stream",
     "text": [
      "Confusion_Matrix:\n",
      "[[41773   618]\n",
      " [ 3957  5803]]\n",
      "              precision    recall  f1-score   support\n",
      "\n",
      "           0       0.91      0.99      0.95     42391\n",
      "           1       0.90      0.59      0.72      9760\n",
      "\n",
      "    accuracy                           0.91     52151\n",
      "   macro avg       0.91      0.79      0.83     52151\n",
      "weighted avg       0.91      0.91      0.90     52151\n",
      "\n",
      "Accuracy:0.9122739736534294\n",
      "AUC_ROC:0.7899955529630284\n"
     ]
    }
   ],
   "source": [
    "modeling(RF) # 3rd in AUC_ROC"
   ]
  },
  {
   "cell_type": "code",
   "execution_count": 14,
   "metadata": {
    "ExecuteTime": {
     "end_time": "2020-05-08T18:20:46.317765Z",
     "start_time": "2020-05-08T18:20:23.906945Z"
    }
   },
   "outputs": [
    {
     "name": "stdout",
     "output_type": "stream",
     "text": [
      "Confusion_Matrix:\n",
      "[[37584  4807]\n",
      " [ 1012  8748]]\n",
      "              precision    recall  f1-score   support\n",
      "\n",
      "           0       0.97      0.89      0.93     42391\n",
      "           1       0.65      0.90      0.75      9760\n",
      "\n",
      "    accuracy                           0.89     52151\n",
      "   macro avg       0.81      0.89      0.84     52151\n",
      "weighted avg       0.91      0.89      0.89     52151\n",
      "\n",
      "Accuracy:0.8884201645222527\n",
      "AUC_ROC:0.8914573819218509\n"
     ]
    }
   ],
   "source": [
    "modeling(LGBC) # 1st in AUC_ROC"
   ]
  },
  {
   "cell_type": "code",
   "execution_count": 15,
   "metadata": {
    "ExecuteTime": {
     "end_time": "2020-05-08T18:26:58.338603Z",
     "start_time": "2020-05-08T18:20:46.322893Z"
    }
   },
   "outputs": [
    {
     "name": "stdout",
     "output_type": "stream",
     "text": [
      "Confusion_Matrix:\n",
      "[[42010   381]\n",
      " [ 3682  6078]]\n",
      "              precision    recall  f1-score   support\n",
      "\n",
      "           0       0.92      0.99      0.95     42391\n",
      "           1       0.94      0.62      0.75      9760\n",
      "\n",
      "    accuracy                           0.92     52151\n",
      "   macro avg       0.93      0.81      0.85     52151\n",
      "weighted avg       0.92      0.92      0.92     52151\n",
      "\n",
      "Accuracy:0.922091618569155\n",
      "AUC_ROC:0.8068790724020835\n"
     ]
    }
   ],
   "source": [
    "modeling(XGBC) # 2nd in AUC_ROC"
   ]
  },
  {
   "cell_type": "markdown",
   "metadata": {},
   "source": [
    "## Baseline: under sampling"
   ]
  },
  {
   "cell_type": "code",
   "execution_count": 20,
   "metadata": {
    "ExecuteTime": {
     "end_time": "2020-05-08T18:46:26.372468Z",
     "start_time": "2020-05-08T18:46:24.794117Z"
    }
   },
   "outputs": [],
   "source": [
    "rus = RUS(random_state=1) \n",
    "X_train_res,y_train_res=rus.fit_resample(X_train,y_train)"
   ]
  },
  {
   "cell_type": "code",
   "execution_count": 21,
   "metadata": {
    "ExecuteTime": {
     "end_time": "2020-05-08T18:46:47.907934Z",
     "start_time": "2020-05-08T18:46:47.901065Z"
    }
   },
   "outputs": [
    {
     "data": {
      "text/plain": [
       "((78268, 294), (52151, 294), (78268,), (52151,))"
      ]
     },
     "execution_count": 21,
     "metadata": {},
     "output_type": "execute_result"
    }
   ],
   "source": [
    "X_train_res.shape, X_val.shape, y_train_res.shape, y_val.shape"
   ]
  },
  {
   "cell_type": "code",
   "execution_count": 31,
   "metadata": {
    "ExecuteTime": {
     "end_time": "2020-05-08T19:49:04.590909Z",
     "start_time": "2020-05-08T19:49:04.581901Z"
    }
   },
   "outputs": [],
   "source": [
    "def modeling2(model_name):\n",
    "    model=model_name()\n",
    "    model.fit(X_train_res,y_train_res)\n",
    "    y_pred = model.predict(X_val)\n",
    "    print(\"Confusion_Matrix:\")\n",
    "    print(str(confusion_matrix(y_val,y_pred)))\n",
    "    print(classification_report(y_val,y_pred))\n",
    "    print(\"Accuracy:\" + str(accuracy_score(y_val, y_pred)))\n",
    "    print(\"AUC_ROC:\" + str(roc_auc_score(y_val, y_pred)))\n",
    "    importance_list = sorted(zip(model.feature_importances_, X_train_origin.columns.to_list()), reverse=True)\n",
    "    print(\"Feature importance: \")\n",
    "    pprint(importance_list[:10])"
   ]
  },
  {
   "cell_type": "code",
   "execution_count": 32,
   "metadata": {
    "ExecuteTime": {
     "end_time": "2020-05-08T19:49:43.330229Z",
     "start_time": "2020-05-08T19:49:05.480029Z"
    }
   },
   "outputs": [
    {
     "name": "stdout",
     "output_type": "stream",
     "text": [
      "Confusion_Matrix:\n",
      "[[35884  6507]\n",
      " [  906  8854]]\n",
      "              precision    recall  f1-score   support\n",
      "\n",
      "           0       0.98      0.85      0.91     42391\n",
      "           1       0.58      0.91      0.70      9760\n",
      "\n",
      "    accuracy                           0.86     52151\n",
      "   macro avg       0.78      0.88      0.81     52151\n",
      "weighted avg       0.90      0.86      0.87     52151\n",
      "\n",
      "Accuracy:0.8578550746869666\n",
      "AUC_ROC:0.8768362837804653\n",
      "Feature importance: \n",
      "[(0.06698997416640434, 'SalesField5'),\n",
      " (0.050868327504337826, 'PropertyField37'),\n",
      " (0.046046335768336555, 'PersonalField10A'),\n",
      " (0.039599653706580154, 'PersonalField9'),\n",
      " (0.03771375336571674, 'PersonalField10B'),\n",
      " (0.03557530323940538, 'PersonalField12'),\n",
      " (0.02651518570974237, 'SalesField4'),\n",
      " (0.01948156723912268, 'Field7'),\n",
      " (0.017151338130285777, 'SalesField1B'),\n",
      " (0.015557004937778276, 'CoverageField9')]\n"
     ]
    }
   ],
   "source": [
    "modeling2(RF) # 3rd # far more better than previous baseline: 0.7899955529630284"
   ]
  },
  {
   "cell_type": "code",
   "execution_count": 33,
   "metadata": {
    "ExecuteTime": {
     "end_time": "2020-05-08T19:50:36.721873Z",
     "start_time": "2020-05-08T19:50:22.264808Z"
    }
   },
   "outputs": [
    {
     "name": "stdout",
     "output_type": "stream",
     "text": [
      "Confusion_Matrix:\n",
      "[[37456  4935]\n",
      " [ 1018  8742]]\n",
      "              precision    recall  f1-score   support\n",
      "\n",
      "           0       0.97      0.88      0.93     42391\n",
      "           1       0.64      0.90      0.75      9760\n",
      "\n",
      "    accuracy                           0.89     52151\n",
      "   macro avg       0.81      0.89      0.84     52151\n",
      "weighted avg       0.91      0.89      0.89     52151\n",
      "\n",
      "Accuracy:0.8858507027669652\n",
      "AUC_ROC:0.8896402504436643\n",
      "Feature importance: \n",
      "[(155, 'Field7'),\n",
      " (150, 'PersonalField9'),\n",
      " (112, 'SalesField1B'),\n",
      " (88, 'SalesField5'),\n",
      " (75, 'SalesField6'),\n",
      " (75, 'PropertyField37'),\n",
      " (67, 'SalesField1A'),\n",
      " (61, 'PersonalField4A'),\n",
      " (58, 'PersonalField27'),\n",
      " (55, 'PersonalField10B')]\n"
     ]
    }
   ],
   "source": [
    "modeling2(LGBC) # 1st # a bit worse than previous baseline: 0.8914573819218509"
   ]
  },
  {
   "cell_type": "code",
   "execution_count": 34,
   "metadata": {
    "ExecuteTime": {
     "end_time": "2020-05-08T19:52:46.431234Z",
     "start_time": "2020-05-08T19:50:36.725040Z"
    }
   },
   "outputs": [
    {
     "name": "stdout",
     "output_type": "stream",
     "text": [
      "Confusion_Matrix:\n",
      "[[36760  5631]\n",
      " [ 1028  8732]]\n",
      "              precision    recall  f1-score   support\n",
      "\n",
      "           0       0.97      0.87      0.92     42391\n",
      "           1       0.61      0.89      0.72      9760\n",
      "\n",
      "    accuracy                           0.87     52151\n",
      "   macro avg       0.79      0.88      0.82     52151\n",
      "weighted avg       0.90      0.87      0.88     52151\n",
      "\n",
      "Accuracy:0.8723130908323905\n",
      "AUC_ROC:0.8809186656539763\n",
      "Feature importance: \n",
      "[(0.12940016, 'SalesField5'),\n",
      " (0.10040153, 'PropertyField37'),\n",
      " (0.05713649, 'PersonalField9'),\n",
      " (0.05353324, 'PersonalField2'),\n",
      " (0.048973143, 'Field10'),\n",
      " (0.04658554, 'PersonalField1'),\n",
      " (0.043614905, 'GeographicField16A'),\n",
      " (0.043574575, 'PropertyField34'),\n",
      " (0.03977148, 'SalesField1B'),\n",
      " (0.035519417, 'PersonalField12')]\n"
     ]
    }
   ],
   "source": [
    "modeling2(XGBC) # 2nd # far more better than previous baseline AUC_ROC:0.8068790724020835"
   ]
  },
  {
   "cell_type": "code",
   "execution_count": null,
   "metadata": {},
   "outputs": [],
   "source": []
  }
 ],
 "metadata": {
  "kernelspec": {
   "display_name": "Python 3",
   "language": "python",
   "name": "python3"
  },
  "language_info": {
   "codemirror_mode": {
    "name": "ipython",
    "version": 3
   },
   "file_extension": ".py",
   "mimetype": "text/x-python",
   "name": "python",
   "nbconvert_exporter": "python",
   "pygments_lexer": "ipython3",
   "version": "3.6.9"
  },
  "latex_envs": {
   "LaTeX_envs_menu_present": true,
   "autoclose": false,
   "autocomplete": true,
   "bibliofile": "biblio.bib",
   "cite_by": "apalike",
   "current_citInitial": 1,
   "eqLabelWithNumbers": true,
   "eqNumInitial": 1,
   "hotkeys": {
    "equation": "Ctrl-E",
    "itemize": "Ctrl-I"
   },
   "labels_anchors": false,
   "latex_user_defs": false,
   "report_style_numbering": false,
   "user_envs_cfg": false
  },
  "toc": {
   "base_numbering": 1,
   "nav_menu": {},
   "number_sections": true,
   "sideBar": true,
   "skip_h1_title": false,
   "title_cell": "Table of Contents",
   "title_sidebar": "Contents",
   "toc_cell": false,
   "toc_position": {},
   "toc_section_display": true,
   "toc_window_display": false
  }
 },
 "nbformat": 4,
 "nbformat_minor": 4
}
