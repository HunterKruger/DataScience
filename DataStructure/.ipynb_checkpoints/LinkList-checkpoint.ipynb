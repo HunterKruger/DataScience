{
 "cells": [
  {
   "cell_type": "code",
   "execution_count": 10,
   "metadata": {},
   "outputs": [],
   "source": [
    "class Node:\n",
    "    def __init__(self,element,next_ = None):\n",
    "        self.element = element\n",
    "        self.next = next_   # 下划线避免与关键字重名"
   ]
  },
  {
   "cell_type": "code",
   "execution_count": 11,
   "metadata": {},
   "outputs": [],
   "source": [
    "class LinkListUnderflow(ValueError):\n",
    "    pass"
   ]
  },
  {
   "cell_type": "code",
   "execution_count": 15,
   "metadata": {},
   "outputs": [],
   "source": [
    "class LinkList:\n",
    "    \n",
    "    def __init__(self):\n",
    "        self._head = None    # 表头指针\n",
    "        # 前下划线 意味着Python社区一致认为它应该是什么意思，但程序的行为不受影响。\n",
    "    \n",
    "    \n",
    "    def is_empty(self):\n",
    "        return self._head is None\n",
    "    \n",
    "    \n",
    "    def delete_list(self):\n",
    "        self._head = None\n",
    "    \n",
    "    \n",
    "    def prepend(self, elem):     #链表头加一个节点\n",
    "        self._head = Node(elem, self._head)\n",
    "        \n",
    "        \n",
    "    def pop(self): #链表头删除节点\n",
    "        if self._head is None:\n",
    "            raise LinkListUnderflow('in pop')\n",
    "        e = self._head.element\n",
    "        self._head = self._head.next\n",
    "        return e\n",
    "    \n",
    "    \n",
    "    def append(self, elem):\n",
    "        if self._head is None:\n",
    "            self.element = Node(elem)\n",
    "            return\n",
    "        p = self._head\n",
    "        while p.next is not None:\n",
    "            p = p.next\n",
    "        p.next = Node(elem)\n",
    "            \n",
    "            \n",
    "    def pop_last(self):\n",
    "        \n",
    "        if self.is_empty():\n",
    "            raise LinkListUnderFlow('in link list pop last')\n",
    "        p = self._head\n",
    "        \n",
    "        if p.next is None:\n",
    "            e = p.element\n",
    "            p.next = None\n",
    "            return e\n",
    "        \n",
    "        while p.next.next is not None:\n",
    "            p = p.next\n",
    "        e = p.next.element\n",
    "        p.next = None\n",
    "        return e\n",
    "    \n",
    "\n",
    "    def for_each(self,proc):  # 遍历函数， proc 为函数名， 可以是print, pop ...\n",
    "        p = self._head\n",
    "        while p is not None:\n",
    "            proc(p.element)\n",
    "            p = p.next\n",
    "            \n",
    "    \n",
    "    def elements(self):  # 定义生成器函数 （迭代器）\n",
    "        p = self._head\n",
    "        while p is not None:\n",
    "            yield p.element\n",
    "            p = p.next\n",
    "            \n",
    "            \n",
    "    def counts(self):\n",
    "        p = self._head\n",
    "        count = 0\n",
    "        while p is not None:\n",
    "            count+=1\n",
    "            p = p.next\n",
    "        return count\n",
    "    \n",
    "    \n",
    "    def find(self, target):\n",
    "        p = self._head\n",
    "        while p is not None:\n",
    "            if target == p.element:\n",
    "                return True\n",
    "            p = p.next\n",
    "        return False\n",
    "    \n",
    "    \n",
    "    def print_all(self):\n",
    "        p = self._head\n",
    "        while p is not None:\n",
    "            print(p.element, end = '')\n",
    "            if p.next is not None:\n",
    "                print(', ', end='')\n",
    "            p = p.next\n",
    "        print('')      \n",
    "        \n",
    "    def sort(self):\n",
    "        p = self._head\n",
    "        if p is None or p.next is None:\n",
    "            return\n",
    "        rem = p.next\n",
    "        p.next = None\n",
    "        while rem is not None:\n",
    "            p = self._head\n",
    "            q = None\n",
    "            while p is not None and p.element <= rem.element:\n",
    "                q = p\n",
    "                p = p.next\n",
    "            if q is None:\n",
    "                self._head = rem\n",
    "            else:\n",
    "                q.next = rem\n",
    "            q = rem\n",
    "            rem = rem.next\n",
    "            q.next = p \n",
    "            \n",
    "    def reverse(self): # double pointer\n",
    "        pre = None  # previous\n",
    "        cur = self._head  # current\n",
    "        while cur is not None:\n",
    "            temp = cur.next\n",
    "            cur.next = pre\n",
    "            pre = cur\n",
    "            cur = temp\n",
    "        self._head = pre\n",
    "        \n",
    "    def is_loop(self):\n",
    "        p1 = self._head\n",
    "        p2 = self._head\n",
    "        while p1 is not None and p2 is not None:\n",
    "            p1 = p1.next\n",
    "            p2 = p2.next.next\n",
    "            if p1 == p2:\n",
    "                return True\n",
    "        return False\n",
    "    \n",
    "    def kthToLast(self, k) :  # 返回倒数第k个节点的数据\n",
    "        fast = self._head\n",
    "        slow = self._head\n",
    "        for i in range(k-1):\n",
    "            fast = fast.next\n",
    "\n",
    "        while fast.next is not None :\n",
    "            fast = fast.next\n",
    "            slow = slow.next\n",
    "        return slow.element\n",
    "    \n",
    "\n"
   ]
  },
  {
   "cell_type": "code",
   "execution_count": 22,
   "metadata": {},
   "outputs": [
    {
     "name": "stdout",
     "output_type": "stream",
     "text": [
      "9, 8, 7, 6, 5, 4, 3, 2, 1, 0, 10, 11, 12, 13, 14, 15, 16, 17, 18, 19\n"
     ]
    }
   ],
   "source": [
    "fylist = LinkList()\n",
    "for i in range(10):\n",
    "    fylist.prepend(i)\n",
    "for i in range(10,20):\n",
    "    fylist.append(i)\n",
    "fylist.print_all()"
   ]
  },
  {
   "cell_type": "code",
   "execution_count": 23,
   "metadata": {},
   "outputs": [
    {
     "data": {
      "text/plain": [
       "18"
      ]
     },
     "execution_count": 23,
     "metadata": {},
     "output_type": "execute_result"
    }
   ],
   "source": [
    "fylist.kthToLast(2)"
   ]
  },
  {
   "cell_type": "code",
   "execution_count": 13,
   "metadata": {},
   "outputs": [
    {
     "name": "stdout",
     "output_type": "stream",
     "text": [
      "19, 18, 17, 16, 15, 14, 13, 12, 11, 10, 0, 1, 2, 3, 4, 5, 6, 7, 8, 9\n"
     ]
    }
   ],
   "source": [
    "fylist.reverse2()\n",
    "fylist.print_all()"
   ]
  },
  {
   "cell_type": "code",
   "execution_count": 32,
   "metadata": {},
   "outputs": [
    {
     "data": {
      "text/plain": [
       "9"
      ]
     },
     "execution_count": 32,
     "metadata": {},
     "output_type": "execute_result"
    }
   ],
   "source": [
    "fylist.pop_last()"
   ]
  },
  {
   "cell_type": "code",
   "execution_count": 33,
   "metadata": {},
   "outputs": [
    {
     "data": {
      "text/plain": [
       "19"
      ]
     },
     "execution_count": 33,
     "metadata": {},
     "output_type": "execute_result"
    }
   ],
   "source": [
    "fylist.pop()"
   ]
  },
  {
   "cell_type": "code",
   "execution_count": 34,
   "metadata": {},
   "outputs": [
    {
     "data": {
      "text/plain": [
       "18"
      ]
     },
     "execution_count": 34,
     "metadata": {},
     "output_type": "execute_result"
    }
   ],
   "source": [
    "fylist.counts()"
   ]
  },
  {
   "cell_type": "code",
   "execution_count": 35,
   "metadata": {},
   "outputs": [
    {
     "name": "stdout",
     "output_type": "stream",
     "text": [
      "18, 17, 16, 15, 14, 13, 12, 11, 10, 0, 1, 2, 3, 4, 5, 6, 7, 8\n"
     ]
    }
   ],
   "source": [
    "fylist.print_all()"
   ]
  },
  {
   "cell_type": "code",
   "execution_count": 36,
   "metadata": {},
   "outputs": [
    {
     "data": {
      "text/plain": [
       "False"
      ]
     },
     "execution_count": 36,
     "metadata": {},
     "output_type": "execute_result"
    }
   ],
   "source": [
    "fylist.is_loop()"
   ]
  },
  {
   "cell_type": "code",
   "execution_count": null,
   "metadata": {},
   "outputs": [],
   "source": []
  }
 ],
 "metadata": {
  "kernelspec": {
   "display_name": "Python 3",
   "language": "python",
   "name": "python3"
  },
  "language_info": {
   "codemirror_mode": {
    "name": "ipython",
    "version": 3
   },
   "file_extension": ".py",
   "mimetype": "text/x-python",
   "name": "python",
   "nbconvert_exporter": "python",
   "pygments_lexer": "ipython3",
   "version": "3.6.9"
  }
 },
 "nbformat": 4,
 "nbformat_minor": 4
}
