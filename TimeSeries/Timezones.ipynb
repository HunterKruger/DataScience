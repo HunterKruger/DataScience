{
 "cells": [
  {
   "cell_type": "markdown",
   "metadata": {},
   "source": [
    "## Use pytz"
   ]
  },
  {
   "cell_type": "code",
   "execution_count": 1,
   "metadata": {},
   "outputs": [],
   "source": [
    "import pytz"
   ]
  },
  {
   "cell_type": "code",
   "execution_count": 8,
   "metadata": {},
   "outputs": [
    {
     "data": {
      "text/plain": [
       "['US/Eastern', 'US/Hawaii', 'US/Mountain', 'US/Pacific', 'UTC']"
      ]
     },
     "execution_count": 8,
     "metadata": {},
     "output_type": "execute_result"
    }
   ],
   "source": [
    "pytz.common_timezones[-5:]"
   ]
  },
  {
   "cell_type": "code",
   "execution_count": 24,
   "metadata": {},
   "outputs": [
    {
     "data": {
      "text/plain": [
       "<DstTzInfo 'US/Mountain' LMT-1 day, 17:00:00 STD>"
      ]
     },
     "execution_count": 24,
     "metadata": {},
     "output_type": "execute_result"
    }
   ],
   "source": [
    "tz=pytz.timezone('US/Mountain')\n",
    "tz"
   ]
  },
  {
   "cell_type": "markdown",
   "metadata": {},
   "source": [
    "## Timezone transformation and localization"
   ]
  },
  {
   "cell_type": "code",
   "execution_count": 15,
   "metadata": {},
   "outputs": [],
   "source": [
    "import pandas as pd\n",
    "import numpy as np\n",
    "rng = pd.date_range('2018/2/3 9:30', periods=6, freq='D')"
   ]
  },
  {
   "cell_type": "code",
   "execution_count": 16,
   "metadata": {},
   "outputs": [
    {
     "data": {
      "text/plain": [
       "2018-02-03 09:30:00    0.312729\n",
       "2018-02-04 09:30:00    2.299243\n",
       "2018-02-05 09:30:00    0.186806\n",
       "2018-02-06 09:30:00    0.066334\n",
       "2018-02-07 09:30:00    1.107590\n",
       "2018-02-08 09:30:00    0.532008\n",
       "Freq: D, dtype: float64"
      ]
     },
     "execution_count": 16,
     "metadata": {},
     "output_type": "execute_result"
    }
   ],
   "source": [
    "ts = pd.Series(np.random.randn(len(rng)),index=rng)\n",
    "ts"
   ]
  },
  {
   "cell_type": "code",
   "execution_count": 18,
   "metadata": {},
   "outputs": [
    {
     "name": "stdout",
     "output_type": "stream",
     "text": [
      "None\n"
     ]
    }
   ],
   "source": [
    "print(ts.index.tz)"
   ]
  },
  {
   "cell_type": "code",
   "execution_count": 19,
   "metadata": {},
   "outputs": [
    {
     "data": {
      "text/plain": [
       "DatetimeIndex(['2020-02-03 09:30:00+00:00', '2020-02-04 09:30:00+00:00',\n",
       "               '2020-02-05 09:30:00+00:00', '2020-02-06 09:30:00+00:00',\n",
       "               '2020-02-07 09:30:00+00:00', '2020-02-08 09:30:00+00:00',\n",
       "               '2020-02-09 09:30:00+00:00', '2020-02-10 09:30:00+00:00',\n",
       "               '2020-02-11 09:30:00+00:00', '2020-02-12 09:30:00+00:00'],\n",
       "              dtype='datetime64[ns, UTC]', freq='D')"
      ]
     },
     "execution_count": 19,
     "metadata": {},
     "output_type": "execute_result"
    }
   ],
   "source": [
    "pd.date_range('2020/2/3 9:30',periods=10,freq='D',tz='UTC')"
   ]
  },
  {
   "cell_type": "code",
   "execution_count": 20,
   "metadata": {},
   "outputs": [
    {
     "data": {
      "text/plain": [
       "2018-02-03 09:30:00+00:00    0.312729\n",
       "2018-02-04 09:30:00+00:00    2.299243\n",
       "2018-02-05 09:30:00+00:00    0.186806\n",
       "2018-02-06 09:30:00+00:00    0.066334\n",
       "2018-02-07 09:30:00+00:00    1.107590\n",
       "2018-02-08 09:30:00+00:00    0.532008\n",
       "Freq: D, dtype: float64"
      ]
     },
     "execution_count": 20,
     "metadata": {},
     "output_type": "execute_result"
    }
   ],
   "source": [
    "ts_utc = ts.tz_localize('UTC')\n",
    "ts_utc"
   ]
  },
  {
   "cell_type": "code",
   "execution_count": 21,
   "metadata": {},
   "outputs": [
    {
     "data": {
      "text/plain": [
       "DatetimeIndex(['2018-02-03 09:30:00+00:00', '2018-02-04 09:30:00+00:00',\n",
       "               '2018-02-05 09:30:00+00:00', '2018-02-06 09:30:00+00:00',\n",
       "               '2018-02-07 09:30:00+00:00', '2018-02-08 09:30:00+00:00'],\n",
       "              dtype='datetime64[ns, UTC]', freq='D')"
      ]
     },
     "execution_count": 21,
     "metadata": {},
     "output_type": "execute_result"
    }
   ],
   "source": [
    "ts_utc.index"
   ]
  },
  {
   "cell_type": "code",
   "execution_count": 22,
   "metadata": {},
   "outputs": [
    {
     "data": {
      "text/plain": [
       "2018-02-03 04:30:00-05:00    0.312729\n",
       "2018-02-04 04:30:00-05:00    2.299243\n",
       "2018-02-05 04:30:00-05:00    0.186806\n",
       "2018-02-06 04:30:00-05:00    0.066334\n",
       "2018-02-07 04:30:00-05:00    1.107590\n",
       "2018-02-08 04:30:00-05:00    0.532008\n",
       "Freq: D, dtype: float64"
      ]
     },
     "execution_count": 22,
     "metadata": {},
     "output_type": "execute_result"
    }
   ],
   "source": [
    "ts_utc.tz_convert('America/New_York')"
   ]
  },
  {
   "cell_type": "code",
   "execution_count": 26,
   "metadata": {},
   "outputs": [
    {
     "data": {
      "text/plain": [
       "2018-02-03 09:30:00-05:00    0.312729\n",
       "2018-02-04 09:30:00-05:00    2.299243\n",
       "2018-02-05 09:30:00-05:00    0.186806\n",
       "2018-02-06 09:30:00-05:00    0.066334\n",
       "2018-02-07 09:30:00-05:00    1.107590\n",
       "2018-02-08 09:30:00-05:00    0.532008\n",
       "Freq: D, dtype: float64"
      ]
     },
     "execution_count": 26,
     "metadata": {},
     "output_type": "execute_result"
    }
   ],
   "source": [
    "ts_eastern = ts.tz_localize('America/New_York')\n",
    "ts_eastern"
   ]
  },
  {
   "cell_type": "code",
   "execution_count": 27,
   "metadata": {},
   "outputs": [
    {
     "data": {
      "text/plain": [
       "2018-02-03 15:30:00+01:00    0.312729\n",
       "2018-02-04 15:30:00+01:00    2.299243\n",
       "2018-02-05 15:30:00+01:00    0.186806\n",
       "2018-02-06 15:30:00+01:00    0.066334\n",
       "2018-02-07 15:30:00+01:00    1.107590\n",
       "2018-02-08 15:30:00+01:00    0.532008\n",
       "Freq: D, dtype: float64"
      ]
     },
     "execution_count": 27,
     "metadata": {},
     "output_type": "execute_result"
    }
   ],
   "source": [
    "ts_eastern.tz_convert('Europe/Berlin')"
   ]
  },
  {
   "cell_type": "code",
   "execution_count": 28,
   "metadata": {},
   "outputs": [
    {
     "data": {
      "text/plain": [
       "DatetimeIndex(['2018-02-03 09:30:00+08:00', '2018-02-04 09:30:00+08:00',\n",
       "               '2018-02-05 09:30:00+08:00', '2018-02-06 09:30:00+08:00',\n",
       "               '2018-02-07 09:30:00+08:00', '2018-02-08 09:30:00+08:00'],\n",
       "              dtype='datetime64[ns, Asia/Shanghai]', freq='D')"
      ]
     },
     "execution_count": 28,
     "metadata": {},
     "output_type": "execute_result"
    }
   ],
   "source": [
    "ts.index.tz_localize('Asia/Shanghai')"
   ]
  },
  {
   "cell_type": "markdown",
   "metadata": {},
   "source": [
    "## Handle timezone-aware Timestamp object"
   ]
  },
  {
   "cell_type": "code",
   "execution_count": 30,
   "metadata": {},
   "outputs": [
    {
     "data": {
      "text/plain": [
       "Timestamp('1996-06-22 22:00:00+0000', tz='UTC')"
      ]
     },
     "execution_count": 30,
     "metadata": {},
     "output_type": "execute_result"
    }
   ],
   "source": [
    "stamp = pd.Timestamp('1996-06-23 6:00')\n",
    "stamp_utc = stamp.tz_localize('Asia/Shanghai')\n",
    "stamp_utc.tz_convert('utc')"
   ]
  },
  {
   "cell_type": "code",
   "execution_count": 32,
   "metadata": {},
   "outputs": [
    {
     "data": {
      "text/plain": [
       "Timestamp('1996-06-23 06:00:00+0400', tz='Europe/Moscow')"
      ]
     },
     "execution_count": 32,
     "metadata": {},
     "output_type": "execute_result"
    }
   ],
   "source": [
    "stamp_moscow = pd.Timestamp('1996/06/23 6:00',tz='Europe/Moscow')\n",
    "stamp_moscow"
   ]
  },
  {
   "cell_type": "code",
   "execution_count": 35,
   "metadata": {},
   "outputs": [
    {
     "data": {
      "text/plain": [
       "Timestamp('2012-11-13 02:30:00-0500', tz='US/Eastern')"
      ]
     },
     "execution_count": 35,
     "metadata": {},
     "output_type": "execute_result"
    }
   ],
   "source": [
    "from pandas.tseries.offsets import Hour\n",
    "stamp = pd.Timestamp('2012/11/13 0:30',tz='US/Eastern')\n",
    "stamp+2*Hour() # 夏令时！"
   ]
  },
  {
   "cell_type": "markdown",
   "metadata": {},
   "source": [
    "## Calculation between time in different timezones"
   ]
  },
  {
   "cell_type": "code",
   "execution_count": 43,
   "metadata": {},
   "outputs": [
    {
     "data": {
      "text/plain": [
       "2000-01-01 06:00:00+08:00    0.005243\n",
       "2000-01-02 06:00:00+08:00   -0.698018\n",
       "2000-01-03 06:00:00+08:00    0.399351\n",
       "2000-01-04 06:00:00+08:00    0.127663\n",
       "2000-01-05 06:00:00+08:00   -0.587496\n",
       "Freq: D, dtype: float64"
      ]
     },
     "execution_count": 43,
     "metadata": {},
     "output_type": "execute_result"
    }
   ],
   "source": [
    "t = pd.date_range('2000/1/1 6:00',periods=5,freq='D')\n",
    "ts = pd.Series(np.random.randn(len(t1)),index=t1)\n",
    "ts_sh = ts1.tz_localize('Asia/Shanghai')\n",
    "ts_sh"
   ]
  },
  {
   "cell_type": "code",
   "execution_count": 45,
   "metadata": {},
   "outputs": [
    {
     "data": {
      "text/plain": [
       "1999-12-31 17:00:00-05:00    0.005243\n",
       "2000-01-01 17:00:00-05:00   -0.698018\n",
       "2000-01-02 17:00:00-05:00    0.399351\n",
       "2000-01-03 17:00:00-05:00    0.127663\n",
       "2000-01-04 17:00:00-05:00   -0.587496\n",
       "Freq: D, dtype: float64"
      ]
     },
     "execution_count": 45,
     "metadata": {},
     "output_type": "execute_result"
    }
   ],
   "source": [
    "ts_ny = ts_sh.tz_convert('America/New_York')\n",
    "ts_ny"
   ]
  },
  {
   "cell_type": "code",
   "execution_count": 46,
   "metadata": {},
   "outputs": [],
   "source": [
    "result = ts_sh+ts_ny"
   ]
  },
  {
   "cell_type": "code",
   "execution_count": 47,
   "metadata": {},
   "outputs": [
    {
     "data": {
      "text/plain": [
       "DatetimeIndex(['1999-12-31 22:00:00+00:00', '2000-01-01 22:00:00+00:00',\n",
       "               '2000-01-02 22:00:00+00:00', '2000-01-03 22:00:00+00:00',\n",
       "               '2000-01-04 22:00:00+00:00'],\n",
       "              dtype='datetime64[ns, UTC]', freq='D')"
      ]
     },
     "execution_count": 47,
     "metadata": {},
     "output_type": "execute_result"
    }
   ],
   "source": [
    "result.index  # timestamps are saved in UTC"
   ]
  },
  {
   "cell_type": "code",
   "execution_count": null,
   "metadata": {},
   "outputs": [],
   "source": []
  }
 ],
 "metadata": {
  "kernelspec": {
   "display_name": "Python 3",
   "language": "python",
   "name": "python3"
  },
  "language_info": {
   "codemirror_mode": {
    "name": "ipython",
    "version": 3
   },
   "file_extension": ".py",
   "mimetype": "text/x-python",
   "name": "python",
   "nbconvert_exporter": "python",
   "pygments_lexer": "ipython3",
   "version": "3.7.5"
  },
  "latex_envs": {
   "LaTeX_envs_menu_present": true,
   "autoclose": false,
   "autocomplete": true,
   "bibliofile": "biblio.bib",
   "cite_by": "apalike",
   "current_citInitial": 1,
   "eqLabelWithNumbers": true,
   "eqNumInitial": 1,
   "hotkeys": {
    "equation": "Ctrl-E",
    "itemize": "Ctrl-I"
   },
   "labels_anchors": false,
   "latex_user_defs": false,
   "report_style_numbering": false,
   "user_envs_cfg": false
  }
 },
 "nbformat": 4,
 "nbformat_minor": 2
}
