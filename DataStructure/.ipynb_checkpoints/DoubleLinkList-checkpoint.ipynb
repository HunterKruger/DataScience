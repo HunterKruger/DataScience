{
 "cells": [
  {
   "cell_type": "code",
   "execution_count": 1,
   "metadata": {},
   "outputs": [],
   "source": [
    "from LinkList2 import LinkList2\n",
    "from LinkList import Node, LinkListUnderflow"
   ]
  },
  {
   "cell_type": "code",
   "execution_count": 2,
   "metadata": {},
   "outputs": [],
   "source": [
    "class DNode(Node):\n",
    "    \n",
    "    def __init__(self, element, prev = None, next_ = None):\n",
    "        Node.__init__(self,element,next_)\n",
    "        self.prev = prev"
   ]
  },
  {
   "cell_type": "code",
   "execution_count": 7,
   "metadata": {},
   "outputs": [],
   "source": [
    "class DoubleLinkList(LinkList2):  # 带有首、尾节点引用的双链表\n",
    "    \n",
    "    def __init__(self):\n",
    "        LinkList2.__init__(self)\n",
    "        \n",
    "    def prepend(self,element):\n",
    "        p = DNode(element, None, self._head)\n",
    "        if self._head is None:  #空表\n",
    "            self._rear = p\n",
    "        else:\n",
    "            p.next.prev = p\n",
    "        self._head = p\n",
    "    \n",
    "    def append(self, element):\n",
    "        p = DNode(element, self._rear, None)\n",
    "        if self._head is None:\n",
    "            self._head = p\n",
    "        else:\n",
    "            p.prev.next = p\n",
    "        self._rear = p\n",
    "    \n",
    "    def pop(self):  # 表头删除\n",
    "        if self._head is None:\n",
    "            raise LinkListUnderflow('in pop DoubleLinkList')\n",
    "        e = self._head.element\n",
    "        self._head = self._head.next\n",
    "        if self._head is not None:\n",
    "            self._head.prev = None\n",
    "        return e\n",
    "\n",
    "    def pop_last(self):\n",
    "        if self._head is None:\n",
    "            raise LinkListUnderflow('in pop DoubleLinkList')\n",
    "        e = self._rear.element\n",
    "        self._rear = self._rear.prev\n",
    "        if self._rear is None: # pop后表为空\n",
    "            self._head = None\n",
    "        else:\n",
    "            self._rear.next = None\n",
    "        return e"
   ]
  },
  {
   "cell_type": "code",
   "execution_count": 8,
   "metadata": {},
   "outputs": [
    {
     "name": "stdout",
     "output_type": "stream",
     "text": [
      "9, 8, 7, 6, 5, 4, 3, 2, 1, 0, 10, 11, 12, 13, 14, 15, 16, 17, 18, 19\n"
     ]
    }
   ],
   "source": [
    "fylist = DoubleLinkList()\n",
    "for i in range(10):\n",
    "    fylist.prepend(i)\n",
    "for i in range(10,20):\n",
    "    fylist.append(i)\n",
    "fylist.print_all()"
   ]
  },
  {
   "cell_type": "code",
   "execution_count": 9,
   "metadata": {},
   "outputs": [
    {
     "data": {
      "text/plain": [
       "9"
      ]
     },
     "execution_count": 9,
     "metadata": {},
     "output_type": "execute_result"
    }
   ],
   "source": [
    "fylist.pop()"
   ]
  },
  {
   "cell_type": "code",
   "execution_count": 10,
   "metadata": {},
   "outputs": [
    {
     "data": {
      "text/plain": [
       "19"
      ]
     },
     "execution_count": 10,
     "metadata": {},
     "output_type": "execute_result"
    }
   ],
   "source": [
    "fylist.pop_last()"
   ]
  },
  {
   "cell_type": "code",
   "execution_count": 11,
   "metadata": {},
   "outputs": [
    {
     "data": {
      "text/plain": [
       "18"
      ]
     },
     "execution_count": 11,
     "metadata": {},
     "output_type": "execute_result"
    }
   ],
   "source": [
    "fylist.counts()"
   ]
  },
  {
   "cell_type": "code",
   "execution_count": null,
   "metadata": {},
   "outputs": [],
   "source": []
  }
 ],
 "metadata": {
  "kernelspec": {
   "display_name": "Python 3",
   "language": "python",
   "name": "python3"
  },
  "language_info": {
   "codemirror_mode": {
    "name": "ipython",
    "version": 3
   },
   "file_extension": ".py",
   "mimetype": "text/x-python",
   "name": "python",
   "nbconvert_exporter": "python",
   "pygments_lexer": "ipython3",
   "version": "3.6.9"
  }
 },
 "nbformat": 4,
 "nbformat_minor": 4
}
