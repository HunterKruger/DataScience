{
 "cells": [
  {
   "cell_type": "code",
   "execution_count": 2,
   "metadata": {
    "ExecuteTime": {
     "end_time": "2020-05-29T16:07:17.717005Z",
     "start_time": "2020-05-29T16:07:17.712016Z"
    }
   },
   "outputs": [],
   "source": [
    "import pandas as pd \n",
    "import numpy as np\n",
    "from pprint import pprint\n",
    "import joblib\n",
    "\n",
    "from sklearn.model_selection import train_test_split\n",
    "from sklearn.model_selection import cross_val_score \n",
    "from sklearn.model_selection import GridSearchCV,RandomizedSearchCV\n",
    "\n",
    "from sklearn.metrics import classification_report\n",
    "from sklearn.metrics import confusion_matrix\n",
    "from sklearn.metrics import roc_auc_score\n",
    "from sklearn.metrics import accuracy_score\n",
    "\n",
    "from sklearn.ensemble import RandomForestClassifier as RF\n",
    "from xgboost import XGBClassifier as XGBC\n",
    "from lightgbm import LGBMClassifier as LGBC\n",
    "\n",
    "from hyperopt import hp,fmin,tpe,STATUS_OK,Trials\n",
    "\n",
    "from imblearn.over_sampling import SMOTE\n",
    "from imblearn.under_sampling import RandomUnderSampler as RUS"
   ]
  },
  {
   "cell_type": "markdown",
   "metadata": {},
   "source": [
    "## Import data"
   ]
  },
  {
   "cell_type": "code",
   "execution_count": 5,
   "metadata": {
    "ExecuteTime": {
     "end_time": "2020-05-29T16:14:01.799429Z",
     "start_time": "2020-05-29T16:13:57.966006Z"
    }
   },
   "outputs": [
    {
     "data": {
      "text/plain": [
       "(260753, 297)"
      ]
     },
     "execution_count": 5,
     "metadata": {},
     "output_type": "execute_result"
    }
   ],
   "source": [
    "train_origin = pd.read_csv('../data/featured_data/train.csv')\n",
    "train_origin.shape"
   ]
  },
  {
   "cell_type": "code",
   "execution_count": 6,
   "metadata": {
    "ExecuteTime": {
     "end_time": "2020-05-29T16:14:02.083730Z",
     "start_time": "2020-05-29T16:14:01.801418Z"
    }
   },
   "outputs": [],
   "source": [
    "X_train_origin = train_origin.drop('QuoteConversion_Flag',axis=1)\n",
    "y_train_origin = train_origin['QuoteConversion_Flag']"
   ]
  },
  {
   "cell_type": "code",
   "execution_count": 7,
   "metadata": {
    "ExecuteTime": {
     "end_time": "2020-05-29T16:14:06.298801Z",
     "start_time": "2020-05-29T16:14:06.294810Z"
    }
   },
   "outputs": [
    {
     "data": {
      "text/plain": [
       "((260753, 296), (260753,))"
      ]
     },
     "execution_count": 7,
     "metadata": {},
     "output_type": "execute_result"
    }
   ],
   "source": [
    "X_train_origin.shape,  y_train_origin.shape"
   ]
  },
  {
   "cell_type": "markdown",
   "metadata": {},
   "source": [
    "## Final iteration: under sampling + LGBC tuning"
   ]
  },
  {
   "cell_type": "code",
   "execution_count": 8,
   "metadata": {
    "ExecuteTime": {
     "end_time": "2020-05-29T16:14:21.261743Z",
     "start_time": "2020-05-29T16:14:20.272352Z"
    }
   },
   "outputs": [],
   "source": [
    "rus = RUS(random_state=1) \n",
    "X_train_res,y_train_res=rus.fit_resample(X_train_origin,y_train_origin)"
   ]
  },
  {
   "cell_type": "code",
   "execution_count": 9,
   "metadata": {
    "ExecuteTime": {
     "end_time": "2020-05-29T16:14:23.871729Z",
     "start_time": "2020-05-29T16:14:23.868551Z"
    }
   },
   "outputs": [
    {
     "data": {
      "text/plain": [
       "((97788, 296), (97788,))"
      ]
     },
     "execution_count": 9,
     "metadata": {},
     "output_type": "execute_result"
    }
   ],
   "source": [
    "X_train_res.shape, y_train_res.shape"
   ]
  },
  {
   "cell_type": "code",
   "execution_count": 10,
   "metadata": {
    "ExecuteTime": {
     "end_time": "2020-05-29T16:32:10.036329Z",
     "start_time": "2020-05-29T16:19:33.943573Z"
    }
   },
   "outputs": [
    {
     "name": "stdout",
     "output_type": "stream",
     "text": [
      "100%|█████████████████████████████████████████████| 100/100 [12:36<00:00,  7.56s/trial, best loss: -0.8891888310011954]\n",
      "best:\n",
      "{'bagging_fraction': 0.9765317624503994, 'bagging_freq': 1, 'cat_smooth': 0, 'feature_fraction': 0.6185567199763784, 'learning_rate': 0.26388294296050524, 'max_depth': 3, 'min_child_samples': 3, 'min_child_weight': 0.0015244539361763455, 'n_estimators': 19, 'num_leaves': 7}\n"
     ]
    }
   ],
   "source": [
    "def hyperopt_train_test(params):\n",
    "    clf = LGBC(**params)\n",
    "    return cross_val_score(clf, X_train_res, y_train_res).mean()\n",
    "\n",
    "\n",
    "space4LGBC = {\n",
    "    'learning_rate': hp.uniform('learning_rate', 0.01, 1),\n",
    "    'n_estimators': hp.choice('n_estimators', range(20, 40)),\n",
    "    'max_depth': hp.choice('max_depth', range(4, 8)),\n",
    "    'num_leaves': hp.choice('num_leaves', range(20, 40)),\n",
    "    'min_child_samples': hp.choice('min_child_samples', range(18, 22)),\n",
    "    'min_child_weight': hp.uniform('min_child_weight', 0.001, 0.002),\n",
    "    'feature_fraction': hp.uniform('feature_fraction', 0.6, 1),\n",
    "    'bagging_fraction': hp.uniform('bagging_fraction', 0.8, 1),\n",
    "    'bagging_freq': hp.choice('bagging_freq', range(2, 4)),\n",
    "    'cat_smooth': hp.choice('cat_smooth', range(18, 22))\n",
    "}\n",
    "\n",
    "def f(params):\n",
    "    acc = hyperopt_train_test(params)\n",
    "    return {'loss': -acc, 'status': STATUS_OK}\n",
    "\n",
    "trials = Trials()\n",
    "best = fmin(f, space4LGBC, algo=tpe.suggest, max_evals=100, trials=trials)\n",
    "print('best:')\n",
    "print(best)"
   ]
  },
  {
   "cell_type": "markdown",
   "metadata": {},
   "source": [
    "## Train the best model"
   ]
  },
  {
   "cell_type": "code",
   "execution_count": 11,
   "metadata": {
    "ExecuteTime": {
     "end_time": "2020-05-29T16:33:36.699934Z",
     "start_time": "2020-05-29T16:33:36.694947Z"
    }
   },
   "outputs": [],
   "source": [
    "best_lgbc = LGBC(bagging_fraction=0.9765317624503994, bagging_freq=1, boosting_type='gbdt',\n",
    "               cat_smooth=0, class_weight=None, colsample_bytree=1.0,\n",
    "               feature_fraction=0.6185567199763784, importance_type='split', learning_rate=0.26388294296050524,\n",
    "               max_depth=3, min_child_samples=3, min_child_weight=0.0015244539361763455,\n",
    "               min_split_gain=0.0, n_estimators=19, n_jobs=-1, num_leaves=7,\n",
    "               objective=None, random_state=None, reg_alpha=0.0, reg_lambda=0.0,\n",
    "               silent=True, subsample=1.0, subsample_for_bin=200000,\n",
    "               subsample_freq=0)"
   ]
  },
  {
   "cell_type": "code",
   "execution_count": 12,
   "metadata": {
    "ExecuteTime": {
     "end_time": "2020-05-29T16:33:39.899022Z",
     "start_time": "2020-05-29T16:33:38.638362Z"
    }
   },
   "outputs": [
    {
     "data": {
      "text/plain": [
       "LGBMClassifier(bagging_fraction=0.9765317624503994, bagging_freq=1,\n",
       "               boosting_type='gbdt', cat_smooth=0, class_weight=None,\n",
       "               colsample_bytree=1.0, feature_fraction=0.6185567199763784,\n",
       "               importance_type='split', learning_rate=0.26388294296050524,\n",
       "               max_depth=3, min_child_samples=3,\n",
       "               min_child_weight=0.0015244539361763455, min_split_gain=0.0,\n",
       "               n_estimators=19, n_jobs=-1, num_leaves=7, objective=None,\n",
       "               random_state=None, reg_alpha=0.0, reg_lambda=0.0, silent=True,\n",
       "               subsample=1.0, subsample_for_bin=200000, subsample_freq=0)"
      ]
     },
     "execution_count": 12,
     "metadata": {},
     "output_type": "execute_result"
    }
   ],
   "source": [
    "best_lgbc.fit(X_train_res,y_train_res)"
   ]
  },
  {
   "cell_type": "code",
   "execution_count": 14,
   "metadata": {
    "ExecuteTime": {
     "end_time": "2020-05-29T16:33:54.038710Z",
     "start_time": "2020-05-29T16:33:54.021766Z"
    }
   },
   "outputs": [
    {
     "data": {
      "text/plain": [
       "['../models/lgbc.m']"
      ]
     },
     "execution_count": 14,
     "metadata": {},
     "output_type": "execute_result"
    }
   ],
   "source": [
    "joblib.dump(best_lgbc,'../models/lgbc.m')"
   ]
  },
  {
   "cell_type": "code",
   "execution_count": null,
   "metadata": {},
   "outputs": [],
   "source": []
  }
 ],
 "metadata": {
  "kernelspec": {
   "display_name": "Python 3",
   "language": "python",
   "name": "python3"
  },
  "language_info": {
   "codemirror_mode": {
    "name": "ipython",
    "version": 3
   },
   "file_extension": ".py",
   "mimetype": "text/x-python",
   "name": "python",
   "nbconvert_exporter": "python",
   "pygments_lexer": "ipython3",
   "version": "3.6.9"
  },
  "latex_envs": {
   "LaTeX_envs_menu_present": true,
   "autoclose": false,
   "autocomplete": true,
   "bibliofile": "biblio.bib",
   "cite_by": "apalike",
   "current_citInitial": 1,
   "eqLabelWithNumbers": true,
   "eqNumInitial": 1,
   "hotkeys": {
    "equation": "Ctrl-E",
    "itemize": "Ctrl-I"
   },
   "labels_anchors": false,
   "latex_user_defs": false,
   "report_style_numbering": false,
   "user_envs_cfg": false
  },
  "toc": {
   "base_numbering": 1,
   "nav_menu": {},
   "number_sections": true,
   "sideBar": true,
   "skip_h1_title": false,
   "title_cell": "Table of Contents",
   "title_sidebar": "Contents",
   "toc_cell": false,
   "toc_position": {},
   "toc_section_display": true,
   "toc_window_display": false
  }
 },
 "nbformat": 4,
 "nbformat_minor": 4
}
