{
 "cells": [
  {
   "cell_type": "code",
   "execution_count": 7,
   "metadata": {},
   "outputs": [],
   "source": [
    "import nltk\n",
    "from nltk.tokenize import word_tokenize"
   ]
  },
  {
   "cell_type": "markdown",
   "metadata": {},
   "source": [
    "#### Stemming by NLTK (词根)"
   ]
  },
  {
   "cell_type": "code",
   "execution_count": 8,
   "metadata": {},
   "outputs": [
    {
     "name": "stdout",
     "output_type": "stream",
     "text": [
      "cats : cat\n",
      "catty : catti\n",
      "catlike : catlik\n",
      "kittens : kitten\n"
     ]
    }
   ],
   "source": [
    "from nltk import PorterStemmer\n",
    "ps = PorterStemmer()\n",
    "words = ['cats', 'catty', 'catlike', 'kittens']\n",
    "for word in words:\n",
    "    print(word, ':', ps.stem(word))"
   ]
  },
  {
   "cell_type": "code",
   "execution_count": 9,
   "metadata": {},
   "outputs": [
    {
     "name": "stdout",
     "output_type": "stream",
     "text": [
      "computer : comput\n",
      "compute : comput\n"
     ]
    }
   ],
   "source": [
    "words = ['computer', 'compute']\n",
    "for word in words:\n",
    "    print(word, ':', ps.stem(word))"
   ]
  },
  {
   "cell_type": "code",
   "execution_count": 10,
   "metadata": {},
   "outputs": [
    {
     "name": "stdout",
     "output_type": "stream",
     "text": [
      "programmer : programm\n",
      "programme : programm\n",
      "programs : program\n"
     ]
    }
   ],
   "source": [
    "words = ['programmer', 'programme', 'programs']\n",
    "for word in words:\n",
    "    print(word, ':', ps.stem(word))"
   ]
  },
  {
   "cell_type": "code",
   "execution_count": 11,
   "metadata": {},
   "outputs": [
    {
     "name": "stdout",
     "output_type": "stream",
     "text": [
      "cats : cat\n",
      "catty : catti\n",
      "catlike : catlik\n",
      "kittens : kitten\n"
     ]
    }
   ],
   "source": [
    "from nltk.stem.snowball import SnowballStemmer\n",
    "sbs = SnowballStemmer('english')\n",
    "words = ['cats', 'catty', 'catlike', 'kittens']\n",
    "for word in words:\n",
    "    print(word, ':', sbs.stem(word))"
   ]
  },
  {
   "cell_type": "code",
   "execution_count": 12,
   "metadata": {},
   "outputs": [
    {
     "name": "stdout",
     "output_type": "stream",
     "text": [
      "computer : comput\n",
      "compute : comput\n"
     ]
    }
   ],
   "source": [
    "words = ['computer', 'compute']\n",
    "for word in words:\n",
    "    print(word, ':', sbs.stem(word))"
   ]
  },
  {
   "cell_type": "code",
   "execution_count": 13,
   "metadata": {},
   "outputs": [
    {
     "name": "stdout",
     "output_type": "stream",
     "text": [
      "programmer : programm\n",
      "programme : programm\n",
      "programs : program\n"
     ]
    }
   ],
   "source": [
    "words = ['programmer', 'programme', 'programs']\n",
    "for word in words:\n",
    "    print(word, ':', sbs.stem(word))"
   ]
  },
  {
   "cell_type": "markdown",
   "metadata": {},
   "source": [
    "#### Lemmatization by NLTK (原形)"
   ]
  },
  {
   "cell_type": "code",
   "execution_count": 14,
   "metadata": {},
   "outputs": [
    {
     "name": "stdout",
     "output_type": "stream",
     "text": [
      "cats : cat\n",
      "catty : catty\n",
      "catlike : catlike\n",
      "kittens : kitten\n"
     ]
    }
   ],
   "source": [
    "from nltk.stem import WordNetLemmatizer\n",
    "wnl = WordNetLemmatizer()\n",
    "words = ['cats', 'catty', 'catlike', 'kittens']\n",
    "for word in words:\n",
    "    print(word, ':', wnl.lemmatize(word))"
   ]
  },
  {
   "cell_type": "code",
   "execution_count": 15,
   "metadata": {},
   "outputs": [
    {
     "name": "stdout",
     "output_type": "stream",
     "text": [
      "better : better\n",
      "good : good\n",
      "best : best\n"
     ]
    }
   ],
   "source": [
    "words = ['better', 'good', 'best']\n",
    "for word in words:\n",
    "    print(word, ':', wnl.lemmatize(word))"
   ]
  },
  {
   "cell_type": "code",
   "execution_count": 18,
   "metadata": {},
   "outputs": [
    {
     "name": "stdout",
     "output_type": "stream",
     "text": [
      "Lemm of programmer is programmer\n",
      "Stem of programmer is programm\n",
      "Lemm of programme is programme\n",
      "Stem of programme is programm\n",
      "Lemm of programs is program\n",
      "Stem of programs is program\n"
     ]
    }
   ],
   "source": [
    "words = ['programmer', 'programme', 'programs']\n",
    "for word in words:\n",
    "    print('Lemm of', word, 'is', wnl.lemmatize(word))\n",
    "    print('Stem of', word, 'is',  ps.stem(word))"
   ]
  },
  {
   "cell_type": "code",
   "execution_count": null,
   "metadata": {},
   "outputs": [],
   "source": []
  },
  {
   "cell_type": "code",
   "execution_count": null,
   "metadata": {},
   "outputs": [],
   "source": []
  }
 ],
 "metadata": {
  "kernelspec": {
   "display_name": "Python 3",
   "language": "python",
   "name": "python3"
  },
  "language_info": {
   "codemirror_mode": {
    "name": "ipython",
    "version": 3
   },
   "file_extension": ".py",
   "mimetype": "text/x-python",
   "name": "python",
   "nbconvert_exporter": "python",
   "pygments_lexer": "ipython3",
   "version": "3.6.9"
  }
 },
 "nbformat": 4,
 "nbformat_minor": 4
}
