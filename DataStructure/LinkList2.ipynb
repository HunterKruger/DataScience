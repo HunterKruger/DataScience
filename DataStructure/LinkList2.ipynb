{
 "cells": [
  {
   "cell_type": "code",
   "execution_count": 8,
   "metadata": {},
   "outputs": [],
   "source": [
    "from LinkList import LinkList,Node,LinkListUnderflow\n",
    "import random"
   ]
  },
  {
   "cell_type": "code",
   "execution_count": 14,
   "metadata": {},
   "outputs": [],
   "source": [
    "class LinkList2(LinkList): # 单链表变种，表对象加入一个表尾节点引用域\n",
    "    \n",
    "    def __init__(self):\n",
    "        LinkList.__init__(self)\n",
    "        self._rear = None    \n",
    "     \n",
    "    \n",
    "    def prepend(self, element):\n",
    "        if self._rear is None: #是空表\n",
    "            self._head = Node(element, self._head)\n",
    "            self._rear = self._head\n",
    "        else:    # 不是空表\n",
    "            self._head= Node(element, self._head)\n",
    "     \n",
    "    \n",
    "    def append(self, element):\n",
    "        if self._head is None:  # 用self._rear判断也行\n",
    "            self._head = Node(element,self._head)\n",
    "            self._rear = self._head\n",
    "        else:\n",
    "            self._rear.next = Node(element)\n",
    "            self._rear = self._rear.next\n",
    "    \n",
    "    \n",
    "    def pop_last(self):\n",
    "        \n",
    "        if self._head is None:\n",
    "            raise LinkListUnderflow('in linklist2 pop_last')\n",
    "        p = self._head\n",
    "        \n",
    "        if p.next is None: #表中只有一个元素\n",
    "            e = p.element\n",
    "            self._head = None\n",
    "            return e\n",
    "        \n",
    "        while p.next.next is not None:\n",
    "            p = p.next\n",
    "        e = p.next.element\n",
    "        p.next=None\n",
    "        \n",
    "        self._rear = p  # 相比原版多一行\n",
    "            \n",
    "        return e\n",
    " \n",
    "        \n",
    "    "
   ]
  },
  {
   "cell_type": "code",
   "execution_count": 15,
   "metadata": {},
   "outputs": [
    {
     "name": "stdout",
     "output_type": "stream",
     "text": [
      "2, 14, 17, 2, 13, 1, 4, 16, 14, 8, 16, 15, 7, 4, 2, 4, 10, 4, 9, 99\n"
     ]
    }
   ],
   "source": [
    "# test\n",
    "fyList = LinkList2()\n",
    "fyList.prepend(99)\n",
    "for i in range(1,20):\n",
    "    fyList.prepend(random.randint(1,20))\n",
    "    \n",
    "fyList.print_all()"
   ]
  },
  {
   "cell_type": "code",
   "execution_count": 16,
   "metadata": {},
   "outputs": [
    {
     "data": {
      "text/plain": [
       "99"
      ]
     },
     "execution_count": 16,
     "metadata": {},
     "output_type": "execute_result"
    }
   ],
   "source": [
    "fyList.pop_last()"
   ]
  },
  {
   "cell_type": "code",
   "execution_count": 17,
   "metadata": {},
   "outputs": [
    {
     "data": {
      "text/plain": [
       "9"
      ]
     },
     "execution_count": 17,
     "metadata": {},
     "output_type": "execute_result"
    }
   ],
   "source": [
    "fyList.pop_last()"
   ]
  },
  {
   "cell_type": "code",
   "execution_count": 18,
   "metadata": {},
   "outputs": [
    {
     "name": "stdout",
     "output_type": "stream",
     "text": [
      "2, 14, 17, 2, 13, 1, 4, 16, 14, 8, 16, 15, 7, 4, 2, 4, 10, 4\n"
     ]
    }
   ],
   "source": [
    "fyList.print_all()"
   ]
  },
  {
   "cell_type": "code",
   "execution_count": null,
   "metadata": {},
   "outputs": [],
   "source": []
  }
 ],
 "metadata": {
  "kernelspec": {
   "display_name": "Python 3",
   "language": "python",
   "name": "python3"
  },
  "language_info": {
   "codemirror_mode": {
    "name": "ipython",
    "version": 3
   },
   "file_extension": ".py",
   "mimetype": "text/x-python",
   "name": "python",
   "nbconvert_exporter": "python",
   "pygments_lexer": "ipython3",
   "version": "3.6.9"
  }
 },
 "nbformat": 4,
 "nbformat_minor": 4
}
