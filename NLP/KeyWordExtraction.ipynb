{
 "cells": [
  {
   "cell_type": "code",
   "execution_count": 2,
   "metadata": {},
   "outputs": [],
   "source": [
    "import jieba\n",
    "import jieba.posseg as psg"
   ]
  },
  {
   "cell_type": "code",
   "execution_count": 5,
   "metadata": {},
   "outputs": [],
   "source": [
    "def get_stop_word_list():\n",
    "    '''\n",
    "    get stop words from local file\n",
    "    path->String: path of the local file\n",
    "    stopword_list->list of Strings: stopwords\n",
    "    '''\n",
    "    path = './stopwords.txt'\n",
    "    stopword_list = [sw.replace('\\n','') for sw in open(path).readlines()]\n",
    "    return stopword_list"
   ]
  },
  {
   "cell_type": "code",
   "execution_count": 6,
   "metadata": {},
   "outputs": [],
   "source": [
    "def tokenization(sentence, pos = False):\n",
    "    '''\n",
    "    tokenize a sentence by jieba\n",
    "    sentence->String: a sentence to be tokenized\n",
    "    pos->Bool: activate POS tagging\n",
    "    tokens->list of Strings: tokenized sentence\n",
    "    '''\n",
    "    if not pos:\n",
    "        tokens = jieba.cut(sentence)\n",
    "    else:\n",
    "        tokens = psg.cut(sentence)\n",
    "    return tokens"
   ]
  },
  {
   "cell_type": "code",
   "execution_count": 7,
   "metadata": {},
   "outputs": [],
   "source": [
    "def word_filter(token, pos = False):\n",
    "    '''\n",
    "    tokens->list of Strings: tokenized sentence\n",
    "    pos->Bool: activate POS tag filtering\n",
    "    filter_list->list of Strings: filtered tokens\n",
    "    '''\n",
    "    stopword_list = get_stop_word_list()\n",
    "    filter_list = []\n",
    "    for token in tokens:\n",
    "        if not pos:  # 不进行词性过滤\n",
    "            word = token\n",
    "            flag = 'n'\n",
    "        else:  # 词性过滤\n",
    "            word = token.word\n",
    "            flag = token.flag\n",
    "        if not flag.startswith('n'):  #忽略非名词\n",
    "            continue\n",
    "        if not word in stopword_list and len(word)>1:  #过滤停止词和长度<2的词\n",
    "            filter_list.append(word)\n",
    "    return filter_list"
   ]
  },
  {
   "cell_type": "code",
   "execution_count": null,
   "metadata": {},
   "outputs": [],
   "source": []
  },
  {
   "cell_type": "code",
   "execution_count": null,
   "metadata": {},
   "outputs": [],
   "source": []
  }
 ],
 "metadata": {
  "kernelspec": {
   "display_name": "Python 3",
   "language": "python",
   "name": "python3"
  },
  "language_info": {
   "codemirror_mode": {
    "name": "ipython",
    "version": 3
   },
   "file_extension": ".py",
   "mimetype": "text/x-python",
   "name": "python",
   "nbconvert_exporter": "python",
   "pygments_lexer": "ipython3",
   "version": "3.6.9"
  }
 },
 "nbformat": 4,
 "nbformat_minor": 4
}
