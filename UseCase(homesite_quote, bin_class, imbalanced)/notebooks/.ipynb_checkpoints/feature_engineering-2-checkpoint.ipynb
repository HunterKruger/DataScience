{
 "cells": [
  {
   "cell_type": "code",
   "execution_count": 1,
   "metadata": {
    "ExecuteTime": {
     "end_time": "2020-05-09T12:05:38.124946Z",
     "start_time": "2020-05-09T12:05:36.884790Z"
    }
   },
   "outputs": [],
   "source": [
    "import pandas as pd\n",
    "from datetime import datetime\n",
    "from sklearn.preprocessing import StandardScaler, LabelEncoder, OneHotEncoder\n",
    "import warnings\n",
    "warnings.filterwarnings(action='once')"
   ]
  },
  {
   "cell_type": "code",
   "execution_count": 2,
   "metadata": {
    "ExecuteTime": {
     "end_time": "2020-05-09T12:05:51.101580Z",
     "start_time": "2020-05-09T12:05:38.130866Z"
    }
   },
   "outputs": [
    {
     "data": {
      "text/plain": [
       "((260753, 299), (173836, 298))"
      ]
     },
     "execution_count": 2,
     "metadata": {},
     "output_type": "execute_result"
    }
   ],
   "source": [
    "train = pd.read_csv('../data/raw_data/train.csv')\n",
    "test = pd.read_csv('../data/raw_data/test.csv')\n",
    "train.shape, test.shape"
   ]
  },
  {
   "cell_type": "code",
   "execution_count": 3,
   "metadata": {
    "ExecuteTime": {
     "end_time": "2020-05-09T12:05:51.358267Z",
     "start_time": "2020-05-09T12:05:51.105824Z"
    }
   },
   "outputs": [],
   "source": [
    "train['Original_Quote_Date'] = pd.to_datetime(train['Original_Quote_Date'], errors='coerce')\n",
    "test['Original_Quote_Date'] = pd.to_datetime(test['Original_Quote_Date'], errors='coerce')\n",
    "train['Original_Quote_Date'] = train['Original_Quote_Date'].dt.dayofweek\n",
    "test['Original_Quote_Date'] = test['Original_Quote_Date'].dt.dayofweek\n",
    "transform_num_day_of_week = {0: 'Monday',\n",
    "                             1: 'Tuesday',\n",
    "                             2: 'Wednesday',\n",
    "                             3: 'Thursday',\n",
    "                             4: 'Friday',\n",
    "                             5: 'Saturday',\n",
    "                             6: 'Sunday'}\n",
    "train['Original_Quote_day_of_week'] = train['Original_Quote_Date'].map(transform_num_day_of_week)\n",
    "test['Original_Quote_day_of_week'] = test['Original_Quote_Date'].map(transform_num_day_of_week)"
   ]
  },
  {
   "cell_type": "code",
   "execution_count": 4,
   "metadata": {
    "ExecuteTime": {
     "end_time": "2020-05-09T12:05:51.378671Z",
     "start_time": "2020-05-09T12:05:51.360599Z"
    }
   },
   "outputs": [],
   "source": [
    "# impute PersonalField84 by a new class\n",
    "train['PersonalField84'].fillna(999, inplace=True)\n",
    "test['PersonalField84'].fillna(999, inplace=True)\n",
    "# impute PropertyField29 by a new class\n",
    "train['PropertyField29'].fillna(999, inplace=True)\n",
    "test['PropertyField29'].fillna(999, inplace=True)"
   ]
  },
  {
   "cell_type": "code",
   "execution_count": 5,
   "metadata": {
    "ExecuteTime": {
     "end_time": "2020-05-09T12:05:54.801470Z",
     "start_time": "2020-05-09T12:05:51.383051Z"
    }
   },
   "outputs": [
    {
     "data": {
      "text/plain": [
       "((260753, 297), (173836, 296))"
      ]
     },
     "execution_count": 5,
     "metadata": {},
     "output_type": "execute_result"
    }
   ],
   "source": [
    "col_to_drop = ['Original_Quote_Date','QuoteNumber','SalesField8']\n",
    "for col in col_to_drop:\n",
    "    train.drop(col,axis=1,inplace=True)\n",
    "    test.drop(col,axis=1,inplace=True)\n",
    "train.shape, test.shape"
   ]
  },
  {
   "cell_type": "code",
   "execution_count": 6,
   "metadata": {
    "ExecuteTime": {
     "end_time": "2020-05-09T12:05:55.804918Z",
     "start_time": "2020-05-09T12:05:54.805678Z"
    }
   },
   "outputs": [],
   "source": [
    "for col in test.columns:  # impute by mode \n",
    "    if train[col].isnull().sum()>0 or test[col].isnull().sum()>0:\n",
    "        mode = train[col].value_counts().index[0]\n",
    "        train[col].fillna(mode,inplace=True)\n",
    "        test[col].fillna(mode,inplace=True)"
   ]
  },
  {
   "cell_type": "code",
   "execution_count": 7,
   "metadata": {
    "ExecuteTime": {
     "end_time": "2020-05-09T12:09:21.107591Z",
     "start_time": "2020-05-09T12:05:55.809439Z"
    }
   },
   "outputs": [
    {
     "name": "stderr",
     "output_type": "stream",
     "text": [
      "/Users/FY/anaconda3/lib/python3.6/importlib/_bootstrap.py:219: RuntimeWarning: numpy.ufunc size changed, may indicate binary incompatibility. Expected 192 from C header, got 216 from PyObject\n",
      "  return f(*args, **kwds)\n"
     ]
    }
   ],
   "source": [
    "X_train = train.drop('QuoteConversion_Flag',axis=1)\n",
    "y_train = train['QuoteConversion_Flag']\n",
    "X_test = test\n",
    "\n",
    "# try target encoding in this iteration!\n",
    "from category_encoders import TargetEncoder \n",
    "te = TargetEncoder(cols = test.columns.to_list()).fit(X_train,y_train)\n",
    "X_train_encoded = te.transform(X_train)\n",
    "X_test_encoded = te.transform(X_test)"
   ]
  },
  {
   "cell_type": "code",
   "execution_count": 8,
   "metadata": {
    "ExecuteTime": {
     "end_time": "2020-05-09T12:09:22.879359Z",
     "start_time": "2020-05-09T12:09:21.110563Z"
    }
   },
   "outputs": [],
   "source": [
    "new_train = pd.concat([X_train_encoded,y_train],axis=1)\n",
    "new_test = X_test_encoded"
   ]
  },
  {
   "cell_type": "code",
   "execution_count": 12,
   "metadata": {
    "ExecuteTime": {
     "end_time": "2020-05-09T12:13:58.288940Z",
     "start_time": "2020-05-09T12:13:58.281782Z"
    }
   },
   "outputs": [
    {
     "data": {
      "text/plain": [
       "((260753, 297), (173836, 296))"
      ]
     },
     "execution_count": 12,
     "metadata": {},
     "output_type": "execute_result"
    }
   ],
   "source": [
    "new_train.shape,new_test.shape"
   ]
  },
  {
   "cell_type": "code",
   "execution_count": 9,
   "metadata": {
    "ExecuteTime": {
     "end_time": "2020-05-09T12:13:19.749853Z",
     "start_time": "2020-05-09T12:09:22.884079Z"
    }
   },
   "outputs": [],
   "source": [
    "pd.DataFrame(new_train).to_csv('../data/featured_data/train.csv',index=False)\n",
    "pd.DataFrame(new_test).to_csv('../data/featured_data/test.csv',index=False)"
   ]
  },
  {
   "cell_type": "code",
   "execution_count": null,
   "metadata": {},
   "outputs": [],
   "source": []
  }
 ],
 "metadata": {
  "kernelspec": {
   "display_name": "Python 3",
   "language": "python",
   "name": "python3"
  },
  "language_info": {
   "codemirror_mode": {
    "name": "ipython",
    "version": 3
   },
   "file_extension": ".py",
   "mimetype": "text/x-python",
   "name": "python",
   "nbconvert_exporter": "python",
   "pygments_lexer": "ipython3",
   "version": "3.6.9"
  },
  "latex_envs": {
   "LaTeX_envs_menu_present": true,
   "autoclose": false,
   "autocomplete": true,
   "bibliofile": "biblio.bib",
   "cite_by": "apalike",
   "current_citInitial": 1,
   "eqLabelWithNumbers": true,
   "eqNumInitial": 1,
   "hotkeys": {
    "equation": "Ctrl-E",
    "itemize": "Ctrl-I"
   },
   "labels_anchors": false,
   "latex_user_defs": false,
   "report_style_numbering": false,
   "user_envs_cfg": false
  },
  "toc": {
   "base_numbering": 1,
   "nav_menu": {},
   "number_sections": true,
   "sideBar": true,
   "skip_h1_title": false,
   "title_cell": "Table of Contents",
   "title_sidebar": "Contents",
   "toc_cell": false,
   "toc_position": {},
   "toc_section_display": true,
   "toc_window_display": false
  }
 },
 "nbformat": 4,
 "nbformat_minor": 4
}
