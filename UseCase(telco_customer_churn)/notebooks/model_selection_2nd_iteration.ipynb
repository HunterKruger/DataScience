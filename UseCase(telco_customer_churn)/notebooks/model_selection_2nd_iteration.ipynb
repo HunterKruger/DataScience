{
 "cells": [
  {
   "cell_type": "code",
   "execution_count": 1,
   "metadata": {
    "ExecuteTime": {
     "end_time": "2020-04-03T16:38:26.105884Z",
     "start_time": "2020-04-03T16:38:24.719646Z"
    }
   },
   "outputs": [
    {
     "name": "stderr",
     "output_type": "stream",
     "text": [
      "/Users/FY/anaconda3/lib/python3.6/site-packages/lightgbm/__init__.py:48: UserWarning: Starting from version 2.2.1, the library file in distribution wheels for macOS is built by the Apple Clang (Xcode_8.3.3) compiler.\n",
      "This means that in case of installing LightGBM from PyPI via the ``pip install lightgbm`` command, you don't need to install the gcc compiler anymore.\n",
      "Instead of that, you need to install the OpenMP library, which is required for running LightGBM on the system with the Apple Clang compiler.\n",
      "You can install the OpenMP library by the following command: ``brew install libomp``.\n",
      "  \"You can install the OpenMP library by the following command: ``brew install libomp``.\", UserWarning)\n"
     ]
    }
   ],
   "source": [
    "import pandas as pd \n",
    "import numpy as np\n",
    "\n",
    "from sklearn.model_selection import train_test_split\n",
    "from sklearn.model_selection import cross_val_score \n",
    "from sklearn.model_selection import GridSearchCV,RandomizedSearchCV\n",
    "\n",
    "from sklearn.metrics import classification_report\n",
    "from sklearn.metrics import confusion_matrix\n",
    "from sklearn.metrics import roc_auc_score\n",
    "from sklearn.metrics import accuracy_score\n",
    "\n",
    "from sklearn.neighbors import KNeighborsClassifier as KNN\n",
    "from sklearn.linear_model import LogisticRegression as LR\n",
    "from sklearn.naive_bayes import GaussianNB as NB\n",
    "from sklearn.svm import SVC\n",
    "\n",
    "from sklearn.ensemble import RandomForestClassifier as RF\n",
    "from sklearn.ensemble import GradientBoostingClassifier as GBC\n",
    "from sklearn.ensemble import AdaBoostClassifier as ABC\n",
    "from xgboost import XGBClassifier as XGBC\n",
    "from lightgbm import LGBMClassifier as LGBC\n",
    "from sklearn.ensemble import VotingClassifier\n",
    "\n",
    "import joblib"
   ]
  },
  {
   "cell_type": "code",
   "execution_count": 2,
   "metadata": {
    "ExecuteTime": {
     "end_time": "2020-04-03T16:38:26.190666Z",
     "start_time": "2020-04-03T16:38:26.110973Z"
    }
   },
   "outputs": [],
   "source": [
    "X_train_origin = pd.read_csv('../data/featured_data/X_train.csv')\n",
    "y_train_origin = pd.read_csv('../data/featured_data/y_train.csv')"
   ]
  },
  {
   "cell_type": "code",
   "execution_count": 3,
   "metadata": {
    "ExecuteTime": {
     "end_time": "2020-04-03T16:38:26.200432Z",
     "start_time": "2020-04-03T16:38:26.194066Z"
    }
   },
   "outputs": [],
   "source": [
    "X_train_origin = X_train_origin.to_numpy()\n",
    "y_train_origin = y_train_origin.to_numpy()\n",
    "y_train_origin = y_train_origin.ravel()"
   ]
  },
  {
   "cell_type": "code",
   "execution_count": 4,
   "metadata": {
    "ExecuteTime": {
     "end_time": "2020-04-03T16:38:26.231681Z",
     "start_time": "2020-04-03T16:38:26.206425Z"
    }
   },
   "outputs": [
    {
     "data": {
      "text/plain": [
       "((5634, 24), (5634,))"
      ]
     },
     "execution_count": 4,
     "metadata": {},
     "output_type": "execute_result"
    }
   ],
   "source": [
    "X_train_origin.shape,y_train_origin.shape"
   ]
  },
  {
   "cell_type": "code",
   "execution_count": 5,
   "metadata": {
    "ExecuteTime": {
     "end_time": "2020-04-03T16:38:26.247475Z",
     "start_time": "2020-04-03T16:38:26.237425Z"
    }
   },
   "outputs": [],
   "source": [
    "X_train, X_val, y_train, y_val = train_test_split(X_train_origin, y_train_origin, test_size=0.2, random_state=1)"
   ]
  },
  {
   "cell_type": "code",
   "execution_count": 6,
   "metadata": {
    "ExecuteTime": {
     "end_time": "2020-04-03T16:38:26.259405Z",
     "start_time": "2020-04-03T16:38:26.250418Z"
    }
   },
   "outputs": [
    {
     "data": {
      "text/plain": [
       "((4507, 24), (1127, 24), (4507,), (1127,))"
      ]
     },
     "execution_count": 6,
     "metadata": {},
     "output_type": "execute_result"
    }
   ],
   "source": [
    "X_train.shape, X_val.shape, y_train.shape, y_val.shape"
   ]
  },
  {
   "cell_type": "code",
   "execution_count": 7,
   "metadata": {
    "ExecuteTime": {
     "end_time": "2020-04-03T16:38:26.359211Z",
     "start_time": "2020-04-03T16:38:26.268272Z"
    }
   },
   "outputs": [
    {
     "data": {
      "text/plain": [
       "2.7683253076511503"
      ]
     },
     "execution_count": 7,
     "metadata": {},
     "output_type": "execute_result"
    }
   ],
   "source": [
    "data=pd.read_csv('../data/raw_data/WA_Fn-UseC_-Telco-Customer-Churn.csv')\n",
    "ratio = data[data.Churn=='No'].shape[0]/data[data.Churn=='Yes'].shape[0]\n",
    "ratio"
   ]
  },
  {
   "cell_type": "code",
   "execution_count": 8,
   "metadata": {
    "ExecuteTime": {
     "end_time": "2020-04-03T16:38:26.403369Z",
     "start_time": "2020-04-03T16:38:26.369137Z"
    }
   },
   "outputs": [],
   "source": [
    "def modeling(model_name):\n",
    "    model=model_name(class_weight={0: 1, 1: ratio})\n",
    "    model.fit(X_train,y_train)\n",
    "    y_pred = model.predict(X_val)\n",
    "    print(\"Confusion_Matrix:\")\n",
    "    print(str(confusion_matrix(y_val,y_pred)))\n",
    "    print(classification_report(y_val,y_pred))\n",
    "    print(\"Accuracy:\" + str(accuracy_score(y_val, y_pred)))\n",
    "    print(\"AUC_ROC:\" + str(roc_auc_score(y_val, y_pred)))"
   ]
  },
  {
   "cell_type": "markdown",
   "metadata": {},
   "source": [
    "### Baseline"
   ]
  },
  {
   "cell_type": "code",
   "execution_count": 9,
   "metadata": {
    "ExecuteTime": {
     "end_time": "2020-04-03T16:38:26.471152Z",
     "start_time": "2020-04-03T16:38:26.408053Z"
    }
   },
   "outputs": [
    {
     "name": "stdout",
     "output_type": "stream",
     "text": [
      "Confusion_Matrix:\n",
      "[[591 223]\n",
      " [ 65 248]]\n",
      "              precision    recall  f1-score   support\n",
      "\n",
      "           0       0.90      0.73      0.80       814\n",
      "           1       0.53      0.79      0.63       313\n",
      "\n",
      "    accuracy                           0.74      1127\n",
      "   macro avg       0.71      0.76      0.72      1127\n",
      "weighted avg       0.80      0.74      0.76      1127\n",
      "\n",
      "Accuracy:0.7444543034605147\n",
      "AUC_ROC:0.7591882472074166\n"
     ]
    }
   ],
   "source": [
    "modeling(LR)  # reject   \n",
    "# worse acc, better auc than 1st iteration"
   ]
  },
  {
   "cell_type": "code",
   "execution_count": 10,
   "metadata": {
    "ExecuteTime": {
     "end_time": "2020-04-03T16:38:27.694022Z",
     "start_time": "2020-04-03T16:38:26.474896Z"
    }
   },
   "outputs": [
    {
     "name": "stdout",
     "output_type": "stream",
     "text": [
      "Confusion_Matrix:\n",
      "[[583 231]\n",
      " [ 67 246]]\n",
      "              precision    recall  f1-score   support\n",
      "\n",
      "           0       0.90      0.72      0.80       814\n",
      "           1       0.52      0.79      0.62       313\n",
      "\n",
      "    accuracy                           0.74      1127\n",
      "   macro avg       0.71      0.75      0.71      1127\n",
      "weighted avg       0.79      0.74      0.75      1127\n",
      "\n",
      "Accuracy:0.735581188997338\n",
      "AUC_ROC:0.7510793541144979\n"
     ]
    }
   ],
   "source": [
    "modeling(SVC) # accept\n",
    "# worse acc, worse auc than 1st iteration"
   ]
  },
  {
   "cell_type": "code",
   "execution_count": 11,
   "metadata": {
    "ExecuteTime": {
     "end_time": "2020-04-03T16:38:29.883752Z",
     "start_time": "2020-04-03T16:38:27.702299Z"
    }
   },
   "outputs": [
    {
     "name": "stdout",
     "output_type": "stream",
     "text": [
      "Confusion_Matrix:\n",
      "[[743  71]\n",
      " [182 131]]\n",
      "              precision    recall  f1-score   support\n",
      "\n",
      "           0       0.80      0.91      0.85       814\n",
      "           1       0.65      0.42      0.51       313\n",
      "\n",
      "    accuracy                           0.78      1127\n",
      "   macro avg       0.73      0.67      0.68      1127\n",
      "weighted avg       0.76      0.78      0.76      1127\n",
      "\n",
      "Accuracy:0.7755102040816326\n",
      "AUC_ROC:0.6656533821070562\n"
     ]
    }
   ],
   "source": [
    "modeling(RF) # reject\n",
    "# worse acc, worse auc than 1st iteration"
   ]
  },
  {
   "cell_type": "code",
   "execution_count": 12,
   "metadata": {
    "ExecuteTime": {
     "end_time": "2020-04-03T16:38:32.394027Z",
     "start_time": "2020-04-03T16:38:29.890220Z"
    }
   },
   "outputs": [
    {
     "name": "stdout",
     "output_type": "stream",
     "text": [
      "0.7632232871849485\n"
     ]
    }
   ],
   "source": [
    "# use Out-of-bag data as validation set\n",
    "model = RF(oob_score=True,class_weight={0: 1, 1: ratio})\n",
    "model.fit(X_train_origin, y_train_origin)\n",
    "print(model.oob_score_)  # almost the same"
   ]
  },
  {
   "cell_type": "code",
   "execution_count": 13,
   "metadata": {
    "ExecuteTime": {
     "end_time": "2020-04-03T16:38:32.775061Z",
     "start_time": "2020-04-03T16:38:32.399116Z"
    }
   },
   "outputs": [
    {
     "name": "stdout",
     "output_type": "stream",
     "text": [
      "Confusion_Matrix:\n",
      "[[661 153]\n",
      " [110 203]]\n",
      "              precision    recall  f1-score   support\n",
      "\n",
      "           0       0.86      0.81      0.83       814\n",
      "           1       0.57      0.65      0.61       313\n",
      "\n",
      "    accuracy                           0.77      1127\n",
      "   macro avg       0.71      0.73      0.72      1127\n",
      "weighted avg       0.78      0.77      0.77      1127\n",
      "\n",
      "Accuracy:0.7666370896184561\n",
      "AUC_ROC:0.7303008061794004\n"
     ]
    }
   ],
   "source": [
    "modeling(LGBC) # accept\n",
    "# same acc, better auc than 1st iteration"
   ]
  },
  {
   "cell_type": "code",
   "execution_count": 14,
   "metadata": {
    "ExecuteTime": {
     "end_time": "2020-04-03T16:38:34.177658Z",
     "start_time": "2020-04-03T16:38:32.778195Z"
    }
   },
   "outputs": [
    {
     "name": "stdout",
     "output_type": "stream",
     "text": [
      "Confusion_Matrix:\n",
      "[[741  73]\n",
      " [160 153]]\n",
      "              precision    recall  f1-score   support\n",
      "\n",
      "           0       0.82      0.91      0.86       814\n",
      "           1       0.68      0.49      0.57       313\n",
      "\n",
      "    accuracy                           0.79      1127\n",
      "   macro avg       0.75      0.70      0.72      1127\n",
      "weighted avg       0.78      0.79      0.78      1127\n",
      "\n",
      "Accuracy:0.7932564330079858\n",
      "AUC_ROC:0.6995686508466061\n"
     ]
    }
   ],
   "source": [
    "modeling(XGBC) #accept\n",
    "# worse acc, worse auc than 1st iteration"
   ]
  },
  {
   "cell_type": "code",
   "execution_count": null,
   "metadata": {},
   "outputs": [],
   "source": [
    "# conclustion: choose 1st iteration"
   ]
  }
 ],
 "metadata": {
  "kernelspec": {
   "display_name": "Python 3",
   "language": "python",
   "name": "python3"
  },
  "language_info": {
   "codemirror_mode": {
    "name": "ipython",
    "version": 3
   },
   "file_extension": ".py",
   "mimetype": "text/x-python",
   "name": "python",
   "nbconvert_exporter": "python",
   "pygments_lexer": "ipython3",
   "version": "3.6.8"
  },
  "latex_envs": {
   "LaTeX_envs_menu_present": true,
   "autoclose": false,
   "autocomplete": true,
   "bibliofile": "biblio.bib",
   "cite_by": "apalike",
   "current_citInitial": 1,
   "eqLabelWithNumbers": true,
   "eqNumInitial": 1,
   "hotkeys": {
    "equation": "Ctrl-E",
    "itemize": "Ctrl-I"
   },
   "labels_anchors": false,
   "latex_user_defs": false,
   "report_style_numbering": false,
   "user_envs_cfg": false
  },
  "toc": {
   "base_numbering": 1,
   "nav_menu": {},
   "number_sections": true,
   "sideBar": true,
   "skip_h1_title": false,
   "title_cell": "Table of Contents",
   "title_sidebar": "Contents",
   "toc_cell": false,
   "toc_position": {},
   "toc_section_display": true,
   "toc_window_display": false
  }
 },
 "nbformat": 4,
 "nbformat_minor": 4
}
