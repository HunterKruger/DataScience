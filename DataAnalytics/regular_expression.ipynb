{
 "cells": [
  {
   "cell_type": "code",
   "execution_count": 1,
   "metadata": {
    "ExecuteTime": {
     "end_time": "2020-05-27T20:57:16.105287Z",
     "start_time": "2020-05-27T20:57:16.101942Z"
    }
   },
   "outputs": [],
   "source": [
    "import re"
   ]
  },
  {
   "cell_type": "code",
   "execution_count": 21,
   "metadata": {
    "ExecuteTime": {
     "end_time": "2020-05-27T21:06:50.067237Z",
     "start_time": "2020-05-27T21:06:50.060606Z"
    }
   },
   "outputs": [
    {
     "name": "stdout",
     "output_type": "stream",
     "text": [
      "(0, 3)\n",
      "(0, 1)\n",
      "None\n"
     ]
    }
   ],
   "source": [
    "url = 'www.pornhub.com'\n",
    "\n",
    "# match(): match from head\n",
    "# span(): return match position\n",
    "print(re.match('www',url).span())  \n",
    "print(re.match('w',url).span())\n",
    "print(re.match('t',url))"
   ]
  },
  {
   "cell_type": "code",
   "execution_count": 36,
   "metadata": {
    "ExecuteTime": {
     "end_time": "2020-05-27T21:16:38.334137Z",
     "start_time": "2020-05-27T21:16:38.325713Z"
    }
   },
   "outputs": [
    {
     "name": "stdout",
     "output_type": "stream",
     "text": [
      "(5, 7)\n",
      "(34, 38)\n",
      "None\n",
      "<_sre.SRE_Match object; span=(5, 7), match='me'>\n"
     ]
    }
   ],
   "source": [
    "gangster = 'show me some respect motherfucker like me'\n",
    "# search(): search the whole string, return the first target\n",
    "print(re.search('me',gangster).span())\n",
    "print(re.search('like',gangster).span())\n",
    "print(re.search('ass',gangster))\n",
    "print(re.search('me',gangster))"
   ]
  },
  {
   "cell_type": "code",
   "execution_count": 32,
   "metadata": {
    "ExecuteTime": {
     "end_time": "2020-05-27T21:15:27.818508Z",
     "start_time": "2020-05-27T21:15:27.811754Z"
    }
   },
   "outputs": [
    {
     "name": "stdout",
     "output_type": "stream",
     "text": [
      "old kfc has a farm ah kfc\n",
      "old mcdonald has a farm ah mcdonald\n",
      "old kfc has a farm ah mcdonald\n"
     ]
    }
   ],
   "source": [
    "mc = 'old mcdonald has a farm ah mcdonald'\n",
    "# sub(): replace\n",
    "print(re.sub('mcdonald','kfc',mc)) # success\n",
    "print(re.sub('chick','kfc',mc))  # failed \n",
    "print(re.sub('mcdonald','kfc',mc, count=1)) # success, replace once"
   ]
  },
  {
   "cell_type": "code",
   "execution_count": 39,
   "metadata": {
    "ExecuteTime": {
     "end_time": "2020-05-27T21:37:10.849122Z",
     "start_time": "2020-05-27T21:37:10.842181Z"
    }
   },
   "outputs": [
    {
     "name": "stdout",
     "output_type": "stream",
     "text": [
      "['as', 'ass', 'asshole']\n",
      "['as', 'ass,asshole']\n"
     ]
    }
   ],
   "source": [
    "ass = 'as,ass,asshole'\n",
    "print(re.split(',',ass)) \n",
    "print(re.split(',',ass,1)) # split once"
   ]
  },
  {
   "cell_type": "code",
   "execution_count": 61,
   "metadata": {
    "ExecuteTime": {
     "end_time": "2020-05-28T13:18:59.356624Z",
     "start_time": "2020-05-28T13:18:59.338561Z"
    }
   },
   "outputs": [
    {
     "name": "stdout",
     "output_type": "stream",
     "text": [
      "<_sre.SRE_Match object; span=(0, 11), match='hello world'>\n",
      "(0, 11)\n",
      "(0, 5)\n",
      "(6, 11)\n",
      "hello world\n",
      "hello\n",
      "world\n",
      "('hello', 'world')\n"
     ]
    },
    {
     "ename": "IndexError",
     "evalue": "no such group",
     "output_type": "error",
     "traceback": [
      "\u001b[0;31m---------------------------------------------------------------------------\u001b[0m",
      "\u001b[0;31mIndexError\u001b[0m                                Traceback (most recent call last)",
      "\u001b[0;32m<ipython-input-61-79bce1414b5d>\u001b[0m in \u001b[0;36m<module>\u001b[0;34m\u001b[0m\n\u001b[1;32m     12\u001b[0m \u001b[0mprint\u001b[0m\u001b[0;34m(\u001b[0m\u001b[0mmatch\u001b[0m\u001b[0;34m.\u001b[0m\u001b[0mgroup\u001b[0m\u001b[0;34m(\u001b[0m\u001b[0;36m2\u001b[0m\u001b[0;34m)\u001b[0m\u001b[0;34m)\u001b[0m \u001b[0;31m# show the matched string's 2nd sub-string\u001b[0m\u001b[0;34m\u001b[0m\u001b[0;34m\u001b[0m\u001b[0m\n\u001b[1;32m     13\u001b[0m \u001b[0mprint\u001b[0m\u001b[0;34m(\u001b[0m\u001b[0mmatch\u001b[0m\u001b[0;34m.\u001b[0m\u001b[0mgroups\u001b[0m\u001b[0;34m(\u001b[0m\u001b[0;34m)\u001b[0m\u001b[0;34m)\u001b[0m \u001b[0;31m# == (match.group(1), match.group(2)...)\u001b[0m\u001b[0;34m\u001b[0m\u001b[0;34m\u001b[0m\u001b[0m\n\u001b[0;32m---> 14\u001b[0;31m \u001b[0mprint\u001b[0m\u001b[0;34m(\u001b[0m\u001b[0mmatch\u001b[0m\u001b[0;34m.\u001b[0m\u001b[0mgroup\u001b[0m\u001b[0;34m(\u001b[0m\u001b[0;36m3\u001b[0m\u001b[0;34m)\u001b[0m\u001b[0;34m)\u001b[0m \u001b[0;31m# show the matched string's 3rd sub-string, do not exist\u001b[0m\u001b[0;34m\u001b[0m\u001b[0;34m\u001b[0m\u001b[0m\n\u001b[0m",
      "\u001b[0;31mIndexError\u001b[0m: no such group"
     ]
    }
   ],
   "source": [
    "pattern = re.compile(r'([a-z]+) ([a-z]+)')  # 2-word phrase\n",
    "match = pattern.match('hello world my god')  # match: looking for 2-word phrase from head\n",
    "\n",
    "print(match) # return an object\n",
    "\n",
    "print(match.span(0)) # postion of the matched string\n",
    "print(match.span(1)) # postion of the matched string's 1st sub-string\n",
    "print(match.span(2)) # postion of the matched string's 2nd sub-string\n",
    "\n",
    "print(match.group(0)) # show the matched string, 0 could be ignored\n",
    "print(match.group(1)) # show the matched string's 1st sub-string\n",
    "print(match.group(2)) # show the matched string's 2nd sub-string\n",
    "print(match.groups()) # == (match.group(1), match.group(2)...)\n",
    "print(match.group(3)) # show the matched string's 3rd sub-string, do not exist\n"
   ]
  },
  {
   "cell_type": "code",
   "execution_count": 70,
   "metadata": {
    "ExecuteTime": {
     "end_time": "2020-05-28T13:30:59.880912Z",
     "start_time": "2020-05-28T13:30:59.873107Z"
    }
   },
   "outputs": [
    {
     "name": "stdout",
     "output_type": "stream",
     "text": [
      "None\n",
      "None\n",
      "<_sre.SRE_Match object; span=(4, 8), match='4212'>\n",
      "4212\n",
      "(4, 8)\n",
      "4\n",
      "8\n"
     ]
    }
   ],
   "source": [
    "pattern = re.compile(r'\\d+') # looking for at least 1 digit\n",
    "match = pattern.match('sdf14212vdsf232') # looking for at least 1 digit from head\n",
    "print(match)\n",
    "match = pattern.match('sdf14212vdsf232',2) # looking for at least 1 digit from the 2nd position\n",
    "print(match)\n",
    "match = pattern.match('sdf14212vdsf232',4) # looking for at least 1 digit from the 4th position\n",
    "print(match)\n",
    "print(match.group())\n",
    "print(match.span())\n",
    "print(match.start())\n",
    "print(match.end())"
   ]
  },
  {
   "cell_type": "code",
   "execution_count": 74,
   "metadata": {
    "ExecuteTime": {
     "end_time": "2020-05-28T13:35:10.234839Z",
     "start_time": "2020-05-28T13:35:10.229011Z"
    }
   },
   "outputs": [
    {
     "name": "stdout",
     "output_type": "stream",
     "text": [
      "['14212', '232']\n",
      "['212']\n"
     ]
    }
   ],
   "source": [
    "pattern = re.compile(r'\\d+')\n",
    "print(pattern.findall('sdf14212vdsf232'))\n",
    "print(pattern.findall('sdf14212vdsf232',5,10)) # start from position5, end at position10"
   ]
  },
  {
   "cell_type": "code",
   "execution_count": null,
   "metadata": {},
   "outputs": [],
   "source": []
  }
 ],
 "metadata": {
  "kernelspec": {
   "display_name": "Python 3",
   "language": "python",
   "name": "python3"
  },
  "language_info": {
   "codemirror_mode": {
    "name": "ipython",
    "version": 3
   },
   "file_extension": ".py",
   "mimetype": "text/x-python",
   "name": "python",
   "nbconvert_exporter": "python",
   "pygments_lexer": "ipython3",
   "version": "3.6.9"
  },
  "latex_envs": {
   "LaTeX_envs_menu_present": true,
   "autoclose": false,
   "autocomplete": true,
   "bibliofile": "biblio.bib",
   "cite_by": "apalike",
   "current_citInitial": 1,
   "eqLabelWithNumbers": true,
   "eqNumInitial": 1,
   "hotkeys": {
    "equation": "Ctrl-E",
    "itemize": "Ctrl-I"
   },
   "labels_anchors": false,
   "latex_user_defs": false,
   "report_style_numbering": false,
   "user_envs_cfg": false
  },
  "toc": {
   "base_numbering": 1,
   "nav_menu": {},
   "number_sections": true,
   "sideBar": true,
   "skip_h1_title": false,
   "title_cell": "Table of Contents",
   "title_sidebar": "Contents",
   "toc_cell": false,
   "toc_position": {},
   "toc_section_display": true,
   "toc_window_display": false
  }
 },
 "nbformat": 4,
 "nbformat_minor": 4
}
