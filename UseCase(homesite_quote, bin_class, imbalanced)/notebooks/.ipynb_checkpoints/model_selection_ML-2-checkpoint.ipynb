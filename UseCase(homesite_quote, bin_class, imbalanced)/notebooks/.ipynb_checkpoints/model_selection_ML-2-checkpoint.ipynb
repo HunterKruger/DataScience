{
 "cells": [
  {
   "cell_type": "code",
   "execution_count": 1,
   "metadata": {
    "ExecuteTime": {
     "end_time": "2020-05-09T11:24:26.857058Z",
     "start_time": "2020-05-09T11:24:21.092622Z"
    }
   },
   "outputs": [
    {
     "name": "stderr",
     "output_type": "stream",
     "text": [
      "/Users/FY/anaconda3/lib/python3.6/site-packages/lightgbm/__init__.py:48: UserWarning: Starting from version 2.2.1, the library file in distribution wheels for macOS is built by the Apple Clang (Xcode_8.3.3) compiler.\n",
      "This means that in case of installing LightGBM from PyPI via the ``pip install lightgbm`` command, you don't need to install the gcc compiler anymore.\n",
      "Instead of that, you need to install the OpenMP library, which is required for running LightGBM on the system with the Apple Clang compiler.\n",
      "You can install the OpenMP library by the following command: ``brew install libomp``.\n",
      "  \"You can install the OpenMP library by the following command: ``brew install libomp``.\", UserWarning)\n",
      "Using TensorFlow backend.\n"
     ]
    }
   ],
   "source": [
    "import pandas as pd \n",
    "import numpy as np\n",
    "from pprint import pprint\n",
    "import joblib\n",
    "\n",
    "from sklearn.model_selection import train_test_split\n",
    "from sklearn.model_selection import cross_val_score \n",
    "from sklearn.model_selection import GridSearchCV,RandomizedSearchCV\n",
    "\n",
    "from sklearn.metrics import classification_report\n",
    "from sklearn.metrics import confusion_matrix\n",
    "from sklearn.metrics import roc_auc_score\n",
    "from sklearn.metrics import accuracy_score\n",
    "\n",
    "from sklearn.ensemble import RandomForestClassifier as RF\n",
    "from xgboost import XGBClassifier as XGBC\n",
    "from lightgbm import LGBMClassifier as LGBC\n",
    "\n",
    "from imblearn.over_sampling import SMOTE\n",
    "from imblearn.under_sampling import RandomUnderSampler as RUS"
   ]
  },
  {
   "cell_type": "markdown",
   "metadata": {},
   "source": [
    "## Import data"
   ]
  },
  {
   "cell_type": "code",
   "execution_count": 2,
   "metadata": {
    "ExecuteTime": {
     "end_time": "2020-05-09T11:24:34.685899Z",
     "start_time": "2020-05-09T11:24:26.860103Z"
    }
   },
   "outputs": [
    {
     "data": {
      "text/plain": [
       "(260753, 297)"
      ]
     },
     "execution_count": 2,
     "metadata": {},
     "output_type": "execute_result"
    }
   ],
   "source": [
    "train_origin = pd.read_csv('../data/featured_data/train.csv')\n",
    "train_origin.shape"
   ]
  },
  {
   "cell_type": "code",
   "execution_count": 3,
   "metadata": {
    "ExecuteTime": {
     "end_time": "2020-05-09T11:24:35.187127Z",
     "start_time": "2020-05-09T11:24:34.691536Z"
    }
   },
   "outputs": [],
   "source": [
    "X_train_origin = train_origin.drop('QuoteConversion_Flag',axis=1)\n",
    "y_train_origin = train_origin['QuoteConversion_Flag']"
   ]
  },
  {
   "cell_type": "code",
   "execution_count": 4,
   "metadata": {
    "ExecuteTime": {
     "end_time": "2020-05-09T11:24:36.608550Z",
     "start_time": "2020-05-09T11:24:35.196086Z"
    }
   },
   "outputs": [],
   "source": [
    "X_train, X_val, y_train, y_val = train_test_split(X_train_origin, y_train_origin, test_size=0.2, random_state=1)"
   ]
  },
  {
   "cell_type": "code",
   "execution_count": 5,
   "metadata": {
    "ExecuteTime": {
     "end_time": "2020-05-09T11:24:36.630632Z",
     "start_time": "2020-05-09T11:24:36.618823Z"
    }
   },
   "outputs": [
    {
     "data": {
      "text/plain": [
       "((208602, 296), (52151, 296), (208602,), (52151,))"
      ]
     },
     "execution_count": 5,
     "metadata": {},
     "output_type": "execute_result"
    }
   ],
   "source": [
    "X_train.shape, X_val.shape, y_train.shape, y_val.shape"
   ]
  },
  {
   "cell_type": "markdown",
   "metadata": {},
   "source": [
    "## 1st iteration: under sampling"
   ]
  },
  {
   "cell_type": "code",
   "execution_count": 6,
   "metadata": {
    "ExecuteTime": {
     "end_time": "2020-05-09T11:24:38.866237Z",
     "start_time": "2020-05-09T11:24:36.635896Z"
    }
   },
   "outputs": [],
   "source": [
    "rus = RUS(random_state=1) \n",
    "X_train_res,y_train_res=rus.fit_resample(X_train,y_train)"
   ]
  },
  {
   "cell_type": "code",
   "execution_count": 7,
   "metadata": {
    "ExecuteTime": {
     "end_time": "2020-05-09T11:24:38.920459Z",
     "start_time": "2020-05-09T11:24:38.870659Z"
    }
   },
   "outputs": [
    {
     "data": {
      "text/plain": [
       "((78268, 296), (52151, 296), (78268,), (52151,))"
      ]
     },
     "execution_count": 7,
     "metadata": {},
     "output_type": "execute_result"
    }
   ],
   "source": [
    "X_train_res.shape, X_val.shape, y_train_res.shape, y_val.shape"
   ]
  },
  {
   "cell_type": "code",
   "execution_count": 8,
   "metadata": {
    "ExecuteTime": {
     "end_time": "2020-05-09T11:24:38.953554Z",
     "start_time": "2020-05-09T11:24:38.935534Z"
    }
   },
   "outputs": [],
   "source": [
    "def modeling2(model_name):\n",
    "    model=model_name()\n",
    "    model.fit(X_train_res,y_train_res)\n",
    "    y_pred = model.predict(X_val)\n",
    "    print(\"Confusion_Matrix:\")\n",
    "    print(str(confusion_matrix(y_val,y_pred)))\n",
    "    print(classification_report(y_val,y_pred))\n",
    "    print(\"Accuracy:\" + str(accuracy_score(y_val, y_pred)))\n",
    "    print(\"AUC_ROC:\" + str(roc_auc_score(y_val, y_pred)))\n",
    "    importance_list = sorted(zip(model.feature_importances_, X_train_origin.columns.to_list()), reverse=True)\n",
    "    print(\"Feature importance: \")\n",
    "    pprint(importance_list[:10])"
   ]
  },
  {
   "cell_type": "code",
   "execution_count": 9,
   "metadata": {
    "ExecuteTime": {
     "end_time": "2020-05-09T11:25:20.195066Z",
     "start_time": "2020-05-09T11:24:38.959897Z"
    }
   },
   "outputs": [
    {
     "name": "stdout",
     "output_type": "stream",
     "text": [
      "Confusion_Matrix:\n",
      "[[35785  6606]\n",
      " [  867  8893]]\n",
      "              precision    recall  f1-score   support\n",
      "\n",
      "           0       0.98      0.84      0.91     42391\n",
      "           1       0.57      0.91      0.70      9760\n",
      "\n",
      "    accuracy                           0.86     52151\n",
      "   macro avg       0.78      0.88      0.80     52151\n",
      "weighted avg       0.90      0.86      0.87     52151\n",
      "\n",
      "Accuracy:0.8567045694234051\n",
      "AUC_ROC:0.8776665339089529\n",
      "Feature importance: \n",
      "[(0.07093536290027179, 'SalesField5'),\n",
      " (0.048535117714417125, 'PropertyField37'),\n",
      " (0.04636423344252919, 'PersonalField10A'),\n",
      " (0.04015843486192391, 'PersonalField10B'),\n",
      " (0.03616844947292094, 'PropertyField29'),\n",
      " (0.035042073376632565, 'PersonalField12'),\n",
      " (0.033452365760272613, 'SalesField4'),\n",
      " (0.030120368162084424, 'PersonalField9'),\n",
      " (0.015283127586114798, 'SalesField1B'),\n",
      " (0.01486888669148291, 'SalesField1A')]\n"
     ]
    }
   ],
   "source": [
    "modeling2(RF) # 3rd # a bit better than baseline: 0.8768362837804653\n",
    "# (0.03616844947292094, 'PropertyField29'), not dropping it is correct! "
   ]
  },
  {
   "cell_type": "code",
   "execution_count": 10,
   "metadata": {
    "ExecuteTime": {
     "end_time": "2020-05-09T11:25:29.374700Z",
     "start_time": "2020-05-09T11:25:20.199955Z"
    }
   },
   "outputs": [
    {
     "name": "stdout",
     "output_type": "stream",
     "text": [
      "Confusion_Matrix:\n",
      "[[37480  4911]\n",
      " [  982  8778]]\n",
      "              precision    recall  f1-score   support\n",
      "\n",
      "           0       0.97      0.88      0.93     42391\n",
      "           1       0.64      0.90      0.75      9760\n",
      "\n",
      "    accuracy                           0.89     52151\n",
      "   macro avg       0.81      0.89      0.84     52151\n",
      "weighted avg       0.91      0.89      0.89     52151\n",
      "\n",
      "Accuracy:0.8870012080305267\n",
      "AUC_ROC:0.891767591694185\n",
      "Feature importance: \n",
      "[(166, 'PersonalField9'),\n",
      " (121, 'SalesField1B'),\n",
      " (85, 'PropertyField29'),\n",
      " (82, 'SalesField5'),\n",
      " (80, 'SalesField6'),\n",
      " (77, 'PropertyField37'),\n",
      " (71, 'SalesField1A'),\n",
      " (58, 'PersonalField84'),\n",
      " (53, 'PersonalField10B'),\n",
      " (53, 'PersonalField10A')]\n"
     ]
    }
   ],
   "source": [
    "modeling2(LGBC) # 1st # a bit better than baseline: 0.8896402504436643\n",
    "# (85, 'PropertyField29'), not dropping it is correct! "
   ]
  },
  {
   "cell_type": "code",
   "execution_count": 11,
   "metadata": {
    "ExecuteTime": {
     "end_time": "2020-05-09T11:27:38.120235Z",
     "start_time": "2020-05-09T11:25:29.396206Z"
    }
   },
   "outputs": [
    {
     "name": "stdout",
     "output_type": "stream",
     "text": [
      "Confusion_Matrix:\n",
      "[[36649  5742]\n",
      " [  996  8764]]\n",
      "              precision    recall  f1-score   support\n",
      "\n",
      "           0       0.97      0.86      0.92     42391\n",
      "           1       0.60      0.90      0.72      9760\n",
      "\n",
      "    accuracy                           0.87     52151\n",
      "   macro avg       0.79      0.88      0.82     52151\n",
      "weighted avg       0.90      0.87      0.88     52151\n",
      "\n",
      "Accuracy:0.8707982589020344\n",
      "AUC_ROC:0.8812487697473675\n",
      "Feature importance: \n",
      "[(0.16280703, 'SalesField5'),\n",
      " (0.10573273, 'PersonalField9'),\n",
      " (0.08754908, 'PropertyField29'),\n",
      " (0.07197702, 'PropertyField37'),\n",
      " (0.053697627, 'PersonalField1'),\n",
      " (0.046497922, 'SalesField1B'),\n",
      " (0.044303063, 'PersonalField2'),\n",
      " (0.026811315, 'PropertyField34'),\n",
      " (0.026312828, 'PersonalField10B'),\n",
      " (0.025681589, 'PropertyField35')]\n"
     ]
    }
   ],
   "source": [
    "modeling2(XGBC) # 2nd # a bit better than baseline AUC_ROC:0.8809186656539763\n",
    "# (0.08754908, 'PropertyField29'), not dropping it is correct! "
   ]
  },
  {
   "cell_type": "code",
   "execution_count": null,
   "metadata": {},
   "outputs": [],
   "source": []
  }
 ],
 "metadata": {
  "kernelspec": {
   "display_name": "Python 3",
   "language": "python",
   "name": "python3"
  },
  "language_info": {
   "codemirror_mode": {
    "name": "ipython",
    "version": 3
   },
   "file_extension": ".py",
   "mimetype": "text/x-python",
   "name": "python",
   "nbconvert_exporter": "python",
   "pygments_lexer": "ipython3",
   "version": "3.6.9"
  },
  "latex_envs": {
   "LaTeX_envs_menu_present": true,
   "autoclose": false,
   "autocomplete": true,
   "bibliofile": "biblio.bib",
   "cite_by": "apalike",
   "current_citInitial": 1,
   "eqLabelWithNumbers": true,
   "eqNumInitial": 1,
   "hotkeys": {
    "equation": "Ctrl-E",
    "itemize": "Ctrl-I"
   },
   "labels_anchors": false,
   "latex_user_defs": false,
   "report_style_numbering": false,
   "user_envs_cfg": false
  },
  "toc": {
   "base_numbering": 1,
   "nav_menu": {},
   "number_sections": true,
   "sideBar": true,
   "skip_h1_title": false,
   "title_cell": "Table of Contents",
   "title_sidebar": "Contents",
   "toc_cell": false,
   "toc_position": {},
   "toc_section_display": true,
   "toc_window_display": false
  }
 },
 "nbformat": 4,
 "nbformat_minor": 4
}
