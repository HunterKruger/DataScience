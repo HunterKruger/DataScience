{
 "cells": [
  {
   "cell_type": "code",
   "execution_count": 15,
   "metadata": {},
   "outputs": [],
   "source": [
    "graph = {\n",
    "    'a':['b','c'],\n",
    "    'b':['a','c','d'],\n",
    "    'c':['a','b','d','e'],\n",
    "    'd':['b','c','e','f'],\n",
    "    'e':['c','d'],\n",
    "    'f':['d']\n",
    "}"
   ]
  },
  {
   "cell_type": "code",
   "execution_count": 4,
   "metadata": {},
   "outputs": [
    {
     "data": {
      "text/plain": [
       "dict_keys(['a', 'b', 'c', 'd', 'e', 'f'])"
      ]
     },
     "execution_count": 4,
     "metadata": {},
     "output_type": "execute_result"
    }
   ],
   "source": [
    "graph.keys()"
   ]
  },
  {
   "cell_type": "code",
   "execution_count": 5,
   "metadata": {},
   "outputs": [
    {
     "data": {
      "text/plain": [
       "['c', 'd']"
      ]
     },
     "execution_count": 5,
     "metadata": {},
     "output_type": "execute_result"
    }
   ],
   "source": [
    "graph['e']"
   ]
  },
  {
   "cell_type": "code",
   "execution_count": 6,
   "metadata": {},
   "outputs": [],
   "source": [
    "def BFS(graph, start): \n",
    "    '''\n",
    "    graph: a dict, key is node, value is its neighbors\n",
    "    start: the first node to read\n",
    "    '''\n",
    "    \n",
    "    queue = []\n",
    "    queue.append(start)\n",
    "    \n",
    "    seen = set()\n",
    "    seen.add(start)\n",
    "    \n",
    "    parent = {start:None} # key:value   current:previous\n",
    "    \n",
    "    while len(queue)>0:\n",
    "        node = queue.pop(0) # pop head\n",
    "        neighbors = graph[node]  # get neighbor nodes\n",
    "        for n in neighbors:\n",
    "            if n not in seen:\n",
    "                queue.append(n)\n",
    "                seen.add(n)\n",
    "                parent[n] = node\n",
    "        print(node)   \n",
    "        \n",
    "    return parent"
   ]
  },
  {
   "cell_type": "code",
   "execution_count": 7,
   "metadata": {},
   "outputs": [
    {
     "name": "stdout",
     "output_type": "stream",
     "text": [
      "a\n",
      "b\n",
      "c\n",
      "d\n",
      "e\n",
      "f\n"
     ]
    }
   ],
   "source": [
    "parent = BFS(graph, 'a') # start from a"
   ]
  },
  {
   "cell_type": "code",
   "execution_count": 9,
   "metadata": {},
   "outputs": [
    {
     "name": "stdout",
     "output_type": "stream",
     "text": [
      "a None\n",
      "b a\n",
      "c a\n",
      "d b\n",
      "e c\n",
      "f d\n"
     ]
    }
   ],
   "source": [
    "for key in parent:\n",
    "    print(key, parent[key])"
   ]
  },
  {
   "cell_type": "code",
   "execution_count": 11,
   "metadata": {},
   "outputs": [
    {
     "name": "stdout",
     "output_type": "stream",
     "text": [
      "e\n",
      "c\n",
      "a\n"
     ]
    }
   ],
   "source": [
    "v = 'e'   # e->a shortest path\n",
    "while v!=None:\n",
    "    print(v)\n",
    "    v = parent[v]"
   ]
  },
  {
   "cell_type": "code",
   "execution_count": 17,
   "metadata": {},
   "outputs": [],
   "source": [
    "def DFS(graph, start): \n",
    "    '''\n",
    "    graph: a dict, key is node, value is its neighbors\n",
    "    start: the first node to read\n",
    "    '''\n",
    "    \n",
    "    stack = []\n",
    "    stack.append(start)\n",
    "    \n",
    "    seen = set()\n",
    "    seen.add(start)\n",
    "    \n",
    "    while len(stack)>0:\n",
    "        node = stack.pop() # pop last\n",
    "        neighbors = graph[node]  # get neighbor nodes\n",
    "        for n in neighbors:\n",
    "            if n not in seen:\n",
    "                stack.append(n)\n",
    "                seen.add(n)\n",
    "        print(node)           "
   ]
  },
  {
   "cell_type": "code",
   "execution_count": 18,
   "metadata": {},
   "outputs": [
    {
     "name": "stdout",
     "output_type": "stream",
     "text": [
      "a\n",
      "c\n",
      "e\n",
      "d\n",
      "f\n",
      "b\n"
     ]
    }
   ],
   "source": [
    "DFS(graph, 'a')"
   ]
  },
  {
   "cell_type": "code",
   "execution_count": null,
   "metadata": {},
   "outputs": [],
   "source": []
  }
 ],
 "metadata": {
  "kernelspec": {
   "display_name": "Python 3",
   "language": "python",
   "name": "python3"
  },
  "language_info": {
   "codemirror_mode": {
    "name": "ipython",
    "version": 3
   },
   "file_extension": ".py",
   "mimetype": "text/x-python",
   "name": "python",
   "nbconvert_exporter": "python",
   "pygments_lexer": "ipython3",
   "version": "3.6.9"
  }
 },
 "nbformat": 4,
 "nbformat_minor": 4
}
