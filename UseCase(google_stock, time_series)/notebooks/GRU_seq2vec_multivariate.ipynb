{
 "cells": [
  {
   "cell_type": "code",
   "execution_count": 1,
   "metadata": {
    "ExecuteTime": {
     "end_time": "2020-05-03T15:43:07.307532Z",
     "start_time": "2020-05-03T15:43:02.761662Z"
    }
   },
   "outputs": [],
   "source": [
    "import pandas as pd\n",
    "import numpy as np\n",
    "from sklearn.preprocessing import MinMaxScaler\n",
    "import tensorflow as tf\n",
    "from tensorflow.keras import Sequential\n",
    "from tensorflow.keras.optimizers import Adam\n",
    "from tensorflow.keras.layers import GRU,LSTM,Dense,BatchNormalization,Dropout,Flatten\n",
    "from sklearn.preprocessing import MinMaxScaler\n",
    "from sklearn.metrics import mean_squared_error\n",
    "import matplotlib.pyplot as plt\n",
    "%matplotlib inline"
   ]
  },
  {
   "cell_type": "code",
   "execution_count": 2,
   "metadata": {
    "ExecuteTime": {
     "end_time": "2020-05-03T15:43:07.328485Z",
     "start_time": "2020-05-03T15:43:07.308502Z"
    }
   },
   "outputs": [
    {
     "data": {
      "text/plain": [
       "(3809, 7)"
      ]
     },
     "execution_count": 2,
     "metadata": {},
     "output_type": "execute_result"
    }
   ],
   "source": [
    "data = pd.read_csv('../data/google_stock.csv')\n",
    "data.shape"
   ]
  },
  {
   "cell_type": "code",
   "execution_count": 3,
   "metadata": {
    "ExecuteTime": {
     "end_time": "2020-05-03T15:43:07.345431Z",
     "start_time": "2020-05-03T15:43:07.329484Z"
    }
   },
   "outputs": [
    {
     "data": {
      "text/html": [
       "<div>\n",
       "<style scoped>\n",
       "    .dataframe tbody tr th:only-of-type {\n",
       "        vertical-align: middle;\n",
       "    }\n",
       "\n",
       "    .dataframe tbody tr th {\n",
       "        vertical-align: top;\n",
       "    }\n",
       "\n",
       "    .dataframe thead th {\n",
       "        text-align: right;\n",
       "    }\n",
       "</style>\n",
       "<table border=\"1\" class=\"dataframe\">\n",
       "  <thead>\n",
       "    <tr style=\"text-align: right;\">\n",
       "      <th></th>\n",
       "      <th>Date</th>\n",
       "      <th>Open</th>\n",
       "      <th>High</th>\n",
       "      <th>Low</th>\n",
       "      <th>Close</th>\n",
       "      <th>Adj Close</th>\n",
       "      <th>Volume</th>\n",
       "    </tr>\n",
       "  </thead>\n",
       "  <tbody>\n",
       "    <tr>\n",
       "      <th>0</th>\n",
       "      <td>2004-08-19</td>\n",
       "      <td>49.813286</td>\n",
       "      <td>51.835709</td>\n",
       "      <td>47.800831</td>\n",
       "      <td>49.982655</td>\n",
       "      <td>49.982655</td>\n",
       "      <td>44871300</td>\n",
       "    </tr>\n",
       "    <tr>\n",
       "      <th>1</th>\n",
       "      <td>2004-08-20</td>\n",
       "      <td>50.316402</td>\n",
       "      <td>54.336334</td>\n",
       "      <td>50.062355</td>\n",
       "      <td>53.952770</td>\n",
       "      <td>53.952770</td>\n",
       "      <td>22942800</td>\n",
       "    </tr>\n",
       "    <tr>\n",
       "      <th>2</th>\n",
       "      <td>2004-08-23</td>\n",
       "      <td>55.168217</td>\n",
       "      <td>56.528118</td>\n",
       "      <td>54.321388</td>\n",
       "      <td>54.495735</td>\n",
       "      <td>54.495735</td>\n",
       "      <td>18342800</td>\n",
       "    </tr>\n",
       "    <tr>\n",
       "      <th>3</th>\n",
       "      <td>2004-08-24</td>\n",
       "      <td>55.412300</td>\n",
       "      <td>55.591629</td>\n",
       "      <td>51.591621</td>\n",
       "      <td>52.239193</td>\n",
       "      <td>52.239193</td>\n",
       "      <td>15319700</td>\n",
       "    </tr>\n",
       "    <tr>\n",
       "      <th>4</th>\n",
       "      <td>2004-08-25</td>\n",
       "      <td>52.284027</td>\n",
       "      <td>53.798351</td>\n",
       "      <td>51.746044</td>\n",
       "      <td>52.802086</td>\n",
       "      <td>52.802086</td>\n",
       "      <td>9232100</td>\n",
       "    </tr>\n",
       "  </tbody>\n",
       "</table>\n",
       "</div>"
      ],
      "text/plain": [
       "         Date       Open       High        Low      Close  Adj Close    Volume\n",
       "0  2004-08-19  49.813286  51.835709  47.800831  49.982655  49.982655  44871300\n",
       "1  2004-08-20  50.316402  54.336334  50.062355  53.952770  53.952770  22942800\n",
       "2  2004-08-23  55.168217  56.528118  54.321388  54.495735  54.495735  18342800\n",
       "3  2004-08-24  55.412300  55.591629  51.591621  52.239193  52.239193  15319700\n",
       "4  2004-08-25  52.284027  53.798351  51.746044  52.802086  52.802086   9232100"
      ]
     },
     "execution_count": 3,
     "metadata": {},
     "output_type": "execute_result"
    }
   ],
   "source": [
    "data.head()"
   ]
  },
  {
   "cell_type": "code",
   "execution_count": 4,
   "metadata": {
    "ExecuteTime": {
     "end_time": "2020-05-03T15:43:07.354408Z",
     "start_time": "2020-05-03T15:43:07.346425Z"
    }
   },
   "outputs": [],
   "source": [
    "data.drop('Date',axis=1,inplace=True)\n",
    "data.drop('Volume',axis=1,inplace=True)\n",
    "data.drop('Adj Close',axis=1,inplace=True)"
   ]
  },
  {
   "cell_type": "code",
   "execution_count": 5,
   "metadata": {
    "ExecuteTime": {
     "end_time": "2020-05-03T15:43:07.365351Z",
     "start_time": "2020-05-03T15:43:07.355412Z"
    }
   },
   "outputs": [
    {
     "data": {
      "text/html": [
       "<div>\n",
       "<style scoped>\n",
       "    .dataframe tbody tr th:only-of-type {\n",
       "        vertical-align: middle;\n",
       "    }\n",
       "\n",
       "    .dataframe tbody tr th {\n",
       "        vertical-align: top;\n",
       "    }\n",
       "\n",
       "    .dataframe thead th {\n",
       "        text-align: right;\n",
       "    }\n",
       "</style>\n",
       "<table border=\"1\" class=\"dataframe\">\n",
       "  <thead>\n",
       "    <tr style=\"text-align: right;\">\n",
       "      <th></th>\n",
       "      <th>Open</th>\n",
       "      <th>High</th>\n",
       "      <th>Low</th>\n",
       "      <th>Close</th>\n",
       "    </tr>\n",
       "  </thead>\n",
       "  <tbody>\n",
       "    <tr>\n",
       "      <th>0</th>\n",
       "      <td>49.813286</td>\n",
       "      <td>51.835709</td>\n",
       "      <td>47.800831</td>\n",
       "      <td>49.982655</td>\n",
       "    </tr>\n",
       "    <tr>\n",
       "      <th>1</th>\n",
       "      <td>50.316402</td>\n",
       "      <td>54.336334</td>\n",
       "      <td>50.062355</td>\n",
       "      <td>53.952770</td>\n",
       "    </tr>\n",
       "    <tr>\n",
       "      <th>2</th>\n",
       "      <td>55.168217</td>\n",
       "      <td>56.528118</td>\n",
       "      <td>54.321388</td>\n",
       "      <td>54.495735</td>\n",
       "    </tr>\n",
       "    <tr>\n",
       "      <th>3</th>\n",
       "      <td>55.412300</td>\n",
       "      <td>55.591629</td>\n",
       "      <td>51.591621</td>\n",
       "      <td>52.239193</td>\n",
       "    </tr>\n",
       "    <tr>\n",
       "      <th>4</th>\n",
       "      <td>52.284027</td>\n",
       "      <td>53.798351</td>\n",
       "      <td>51.746044</td>\n",
       "      <td>52.802086</td>\n",
       "    </tr>\n",
       "  </tbody>\n",
       "</table>\n",
       "</div>"
      ],
      "text/plain": [
       "        Open       High        Low      Close\n",
       "0  49.813286  51.835709  47.800831  49.982655\n",
       "1  50.316402  54.336334  50.062355  53.952770\n",
       "2  55.168217  56.528118  54.321388  54.495735\n",
       "3  55.412300  55.591629  51.591621  52.239193\n",
       "4  52.284027  53.798351  51.746044  52.802086"
      ]
     },
     "execution_count": 5,
     "metadata": {},
     "output_type": "execute_result"
    }
   ],
   "source": [
    "data.head()"
   ]
  },
  {
   "cell_type": "markdown",
   "metadata": {},
   "source": [
    "### Train, Val, Test spliting"
   ]
  },
  {
   "cell_type": "code",
   "execution_count": 6,
   "metadata": {
    "ExecuteTime": {
     "end_time": "2020-05-03T15:43:07.373366Z",
     "start_time": "2020-05-03T15:43:07.366396Z"
    }
   },
   "outputs": [
    {
     "data": {
      "text/plain": [
       "((3048, 4), (761, 4))"
      ]
     },
     "execution_count": 6,
     "metadata": {},
     "output_type": "execute_result"
    }
   ],
   "source": [
    "train_org = data.iloc[:3048,:]\n",
    "test = data.iloc[3048:,:]\n",
    "train_org.shape, test.shape   "
   ]
  },
  {
   "cell_type": "code",
   "execution_count": 7,
   "metadata": {
    "ExecuteTime": {
     "end_time": "2020-05-03T15:43:07.381355Z",
     "start_time": "2020-05-03T15:43:07.375324Z"
    }
   },
   "outputs": [],
   "source": [
    "scaler = MinMaxScaler()\n",
    "train_org = scaler.fit_transform(train_org)\n",
    "test = scaler.transform(test)"
   ]
  },
  {
   "cell_type": "code",
   "execution_count": 8,
   "metadata": {
    "ExecuteTime": {
     "end_time": "2020-05-03T15:43:07.388325Z",
     "start_time": "2020-05-03T15:43:07.383340Z"
    }
   },
   "outputs": [
    {
     "data": {
      "text/plain": [
       "((2287, 4), (761, 4))"
      ]
     },
     "execution_count": 8,
     "metadata": {},
     "output_type": "execute_result"
    }
   ],
   "source": [
    "train = train_org[:2287, :]\n",
    "val = train_org[2287:, :]\n",
    "train.shape, val.shape                     # train: 2287 seqs, val: 761 seqs, test: 761 seqs"
   ]
  },
  {
   "cell_type": "code",
   "execution_count": 9,
   "metadata": {
    "ExecuteTime": {
     "end_time": "2020-05-03T15:43:07.401254Z",
     "start_time": "2020-05-03T15:43:07.389333Z"
    }
   },
   "outputs": [
    {
     "data": {
      "text/plain": [
       "((2256, 30, 4), (2256, 1))"
      ]
     },
     "execution_count": 9,
     "metadata": {},
     "output_type": "execute_result"
    }
   ],
   "source": [
    "X_train=[]\n",
    "y_train=[]\n",
    "\n",
    "for i in range(0,train.shape[0]-31):         # idea: use 30 previous day to predict next 1 day\n",
    "    X_train.append(train[i:i+30,:])\n",
    "    y_train.append(train[i+30:i+31,0])\n",
    "\n",
    "X_train,y_train=np.array(X_train),np.array(y_train)\n",
    "X_train.shape,y_train.shape"
   ]
  },
  {
   "cell_type": "code",
   "execution_count": 10,
   "metadata": {
    "ExecuteTime": {
     "end_time": "2020-05-03T15:43:07.410230Z",
     "start_time": "2020-05-03T15:43:07.402252Z"
    }
   },
   "outputs": [
    {
     "data": {
      "text/plain": [
       "((730, 30, 4), (730, 1))"
      ]
     },
     "execution_count": 10,
     "metadata": {},
     "output_type": "execute_result"
    }
   ],
   "source": [
    "X_val=[]\n",
    "y_val=[]\n",
    "\n",
    "for i in range(0,val.shape[0]-31):         # idea: use 30 previous day to predict next 1 day\n",
    "    X_val.append(val[i:i+30,:])\n",
    "    y_val.append(val[i+30:i+31,0])\n",
    "\n",
    "X_val,y_val=np.array(X_val),np.array(y_val)\n",
    "X_val.shape,y_val.shape"
   ]
  },
  {
   "cell_type": "code",
   "execution_count": 11,
   "metadata": {
    "ExecuteTime": {
     "end_time": "2020-05-03T15:43:07.419206Z",
     "start_time": "2020-05-03T15:43:07.411264Z"
    }
   },
   "outputs": [
    {
     "data": {
      "text/plain": [
       "((730, 30, 4), (730, 1))"
      ]
     },
     "execution_count": 11,
     "metadata": {},
     "output_type": "execute_result"
    }
   ],
   "source": [
    "X_test=[]\n",
    "y_test=[]\n",
    "\n",
    "for i in range(0,test.shape[0]-31):         # idea: use 30 previous day to predict next 1 day\n",
    "    X_test.append(test[i:i+30,:])\n",
    "    y_test.append(test[i+30:i+31,0])\n",
    "\n",
    "X_test,y_test=np.array(X_test),np.array(y_test)\n",
    "X_test.shape,y_test.shape"
   ]
  },
  {
   "cell_type": "markdown",
   "metadata": {
    "ExecuteTime": {
     "end_time": "2020-04-24T16:26:33.498263Z",
     "start_time": "2020-04-24T16:26:33.491281Z"
    }
   },
   "source": [
    "### Modeling"
   ]
  },
  {
   "cell_type": "code",
   "execution_count": 12,
   "metadata": {
    "ExecuteTime": {
     "end_time": "2020-05-03T15:43:09.537886Z",
     "start_time": "2020-05-03T15:43:07.420235Z"
    }
   },
   "outputs": [],
   "source": [
    "model = Sequential()\n",
    "\n",
    "model.add(GRU(units=32, activation='tanh', return_sequences=False,input_shape=(X_train.shape[1], X_train.shape[2])))\n",
    "model.add(Dense(1, activation='linear'))"
   ]
  },
  {
   "cell_type": "code",
   "execution_count": 13,
   "metadata": {
    "ExecuteTime": {
     "end_time": "2020-05-03T15:43:09.558831Z",
     "start_time": "2020-05-03T15:43:09.538576Z"
    }
   },
   "outputs": [],
   "source": [
    "opt = Adam(learning_rate=0.001)\n",
    "model.compile(optimizer=opt,loss='mse')"
   ]
  },
  {
   "cell_type": "code",
   "execution_count": 14,
   "metadata": {
    "ExecuteTime": {
     "end_time": "2020-05-03T15:43:45.568578Z",
     "start_time": "2020-05-03T15:43:09.559483Z"
    }
   },
   "outputs": [
    {
     "name": "stdout",
     "output_type": "stream",
     "text": [
      "Train on 2256 samples, validate on 730 samples\n",
      "Epoch 1/60\n",
      "2256/2256 [==============================] - 7s 3ms/sample - loss: 0.0023 - val_loss: 0.0053\n",
      "Epoch 2/60\n",
      "2256/2256 [==============================] - 1s 328us/sample - loss: 5.7615e-05 - val_loss: 0.0022\n",
      "Epoch 3/60\n",
      "2256/2256 [==============================] - 1s 228us/sample - loss: 4.4289e-05 - val_loss: 0.0022\n",
      "Epoch 4/60\n",
      "2256/2256 [==============================] - 1s 225us/sample - loss: 3.8376e-05 - val_loss: 0.0020\n",
      "Epoch 5/60\n",
      "2256/2256 [==============================] - 0s 209us/sample - loss: 3.4715e-05 - val_loss: 0.0018\n",
      "Epoch 6/60\n",
      "2256/2256 [==============================] - 0s 203us/sample - loss: 3.2185e-05 - val_loss: 0.0017\n",
      "Epoch 7/60\n",
      "2256/2256 [==============================] - 1s 222us/sample - loss: 3.0163e-05 - val_loss: 0.0015\n",
      "Epoch 8/60\n",
      "2256/2256 [==============================] - 0s 216us/sample - loss: 2.9052e-05 - val_loss: 0.0012\n",
      "Epoch 9/60\n",
      "2256/2256 [==============================] - 0s 213us/sample - loss: 2.8207e-05 - val_loss: 0.0011\n",
      "Epoch 10/60\n",
      "2256/2256 [==============================] - 0s 219us/sample - loss: 2.7594e-05 - val_loss: 9.6565e-04\n",
      "Epoch 11/60\n",
      "2256/2256 [==============================] - 1s 222us/sample - loss: 2.7971e-05 - val_loss: 6.6339e-04\n",
      "Epoch 12/60\n",
      "2256/2256 [==============================] - 0s 212us/sample - loss: 2.7299e-05 - val_loss: 3.4650e-04\n",
      "Epoch 13/60\n",
      "2256/2256 [==============================] - 0s 216us/sample - loss: 2.7175e-05 - val_loss: 4.4444e-04\n",
      "Epoch 14/60\n",
      "2256/2256 [==============================] - 0s 209us/sample - loss: 2.6953e-05 - val_loss: 3.3343e-04\n",
      "Epoch 15/60\n",
      "2256/2256 [==============================] - 0s 204us/sample - loss: 2.5497e-05 - val_loss: 3.1208e-04\n",
      "Epoch 16/60\n",
      "2256/2256 [==============================] - 1s 227us/sample - loss: 2.4806e-05 - val_loss: 2.0311e-04\n",
      "Epoch 17/60\n",
      "2256/2256 [==============================] - 0s 220us/sample - loss: 2.5436e-05 - val_loss: 2.2362e-04\n",
      "Epoch 18/60\n",
      "2256/2256 [==============================] - 0s 211us/sample - loss: 2.4191e-05 - val_loss: 2.4682e-04\n",
      "Epoch 19/60\n",
      "2256/2256 [==============================] - 0s 208us/sample - loss: 2.4140e-05 - val_loss: 2.7931e-04\n",
      "Epoch 20/60\n",
      "2256/2256 [==============================] - 0s 206us/sample - loss: 2.3650e-05 - val_loss: 1.7407e-04\n",
      "Epoch 21/60\n",
      "2256/2256 [==============================] - 0s 211us/sample - loss: 2.3784e-05 - val_loss: 1.4650e-04\n",
      "Epoch 22/60\n",
      "2256/2256 [==============================] - 1s 234us/sample - loss: 2.3599e-05 - val_loss: 1.8230e-04\n",
      "Epoch 23/60\n",
      "2256/2256 [==============================] - 1s 229us/sample - loss: 2.2879e-05 - val_loss: 2.1442e-04\n",
      "Epoch 24/60\n",
      "2256/2256 [==============================] - 1s 234us/sample - loss: 2.3317e-05 - val_loss: 1.8536e-04\n",
      "Epoch 25/60\n",
      "2256/2256 [==============================] - 1s 241us/sample - loss: 2.3844e-05 - val_loss: 2.6062e-04\n",
      "Epoch 26/60\n",
      "2256/2256 [==============================] - 1s 224us/sample - loss: 2.2788e-05 - val_loss: 1.8419e-04\n",
      "Epoch 27/60\n",
      "2256/2256 [==============================] - 1s 234us/sample - loss: 2.4248e-05 - val_loss: 2.0497e-04\n",
      "Epoch 28/60\n",
      "2256/2256 [==============================] - 1s 228us/sample - loss: 2.3409e-05 - val_loss: 2.0770e-04\n",
      "Epoch 29/60\n",
      "2256/2256 [==============================] - 0s 220us/sample - loss: 2.3752e-05 - val_loss: 3.1180e-04\n",
      "Epoch 30/60\n",
      "2256/2256 [==============================] - 0s 215us/sample - loss: 2.4361e-05 - val_loss: 2.2910e-04\n",
      "Epoch 31/60\n",
      "2256/2256 [==============================] - 0s 208us/sample - loss: 2.2252e-05 - val_loss: 2.5628e-04\n",
      "Epoch 32/60\n",
      "2256/2256 [==============================] - 0s 204us/sample - loss: 2.1236e-05 - val_loss: 3.3019e-04\n",
      "Epoch 33/60\n",
      "2256/2256 [==============================] - 0s 212us/sample - loss: 2.4699e-05 - val_loss: 1.5872e-04\n",
      "Epoch 34/60\n",
      "2256/2256 [==============================] - 0s 216us/sample - loss: 2.4539e-05 - val_loss: 5.4351e-04\n",
      "Epoch 35/60\n",
      "2256/2256 [==============================] - 0s 209us/sample - loss: 2.7533e-05 - val_loss: 2.7890e-04\n",
      "Epoch 36/60\n",
      "2256/2256 [==============================] - 1s 226us/sample - loss: 2.3192e-05 - val_loss: 2.5644e-04\n",
      "Epoch 37/60\n",
      "2256/2256 [==============================] - 0s 209us/sample - loss: 2.1502e-05 - val_loss: 3.7478e-04\n",
      "Epoch 38/60\n",
      "2256/2256 [==============================] - 0s 216us/sample - loss: 2.1259e-05 - val_loss: 3.6829e-04\n",
      "Epoch 39/60\n",
      "2256/2256 [==============================] - 0s 207us/sample - loss: 2.2022e-05 - val_loss: 3.6191e-04\n",
      "Epoch 40/60\n",
      "2256/2256 [==============================] - 0s 208us/sample - loss: 2.3146e-05 - val_loss: 2.1353e-04\n",
      "Epoch 41/60\n",
      "2256/2256 [==============================] - 0s 206us/sample - loss: 2.4246e-05 - val_loss: 2.3342e-04\n",
      "Epoch 42/60\n",
      "2256/2256 [==============================] - 0s 216us/sample - loss: 2.2717e-05 - val_loss: 2.4866e-04\n",
      "Epoch 43/60\n",
      "2256/2256 [==============================] - 0s 218us/sample - loss: 2.2442e-05 - val_loss: 2.8723e-04\n",
      "Epoch 44/60\n",
      "2256/2256 [==============================] - 0s 206us/sample - loss: 2.1132e-05 - val_loss: 2.5042e-04\n",
      "Epoch 45/60\n",
      "2256/2256 [==============================] - 0s 214us/sample - loss: 2.0879e-05 - val_loss: 2.0439e-04\n",
      "Epoch 46/60\n",
      "2256/2256 [==============================] - 0s 220us/sample - loss: 3.1710e-05 - val_loss: 1.5943e-04\n",
      "Epoch 47/60\n",
      "2256/2256 [==============================] - 0s 205us/sample - loss: 2.2916e-05 - val_loss: 3.4471e-04\n",
      "Epoch 48/60\n",
      "2256/2256 [==============================] - 1s 225us/sample - loss: 2.5230e-05 - val_loss: 1.5810e-04\n",
      "Epoch 49/60\n",
      "2256/2256 [==============================] - 0s 217us/sample - loss: 2.4540e-05 - val_loss: 2.3020e-04\n",
      "Epoch 50/60\n",
      "2256/2256 [==============================] - 0s 208us/sample - loss: 2.1640e-05 - val_loss: 2.4215e-04\n",
      "Epoch 51/60\n",
      "2256/2256 [==============================] - 0s 211us/sample - loss: 2.2469e-05 - val_loss: 1.7297e-04\n",
      "Epoch 52/60\n",
      "2256/2256 [==============================] - 0s 210us/sample - loss: 2.0970e-05 - val_loss: 3.4140e-04\n",
      "Epoch 53/60\n",
      "2256/2256 [==============================] - 0s 207us/sample - loss: 2.1068e-05 - val_loss: 3.1922e-04\n",
      "Epoch 54/60\n",
      "2256/2256 [==============================] - 1s 229us/sample - loss: 2.1977e-05 - val_loss: 2.1356e-04\n",
      "Epoch 55/60\n",
      "2256/2256 [==============================] - 0s 208us/sample - loss: 2.3947e-05 - val_loss: 2.3396e-04\n",
      "Epoch 56/60\n",
      "2256/2256 [==============================] - 0s 216us/sample - loss: 2.1326e-05 - val_loss: 4.3482e-04\n",
      "Epoch 57/60\n",
      "2256/2256 [==============================] - 1s 231us/sample - loss: 2.6506e-05 - val_loss: 2.2155e-04\n",
      "Epoch 58/60\n",
      "2256/2256 [==============================] - 0s 219us/sample - loss: 2.5566e-05 - val_loss: 1.3878e-04\n",
      "Epoch 59/60\n",
      "2256/2256 [==============================] - 1s 234us/sample - loss: 2.1288e-05 - val_loss: 3.6120e-04\n",
      "Epoch 60/60\n",
      "2256/2256 [==============================] - 0s 214us/sample - loss: 2.0102e-05 - val_loss: 2.9241e-04\n"
     ]
    }
   ],
   "source": [
    "history = model.fit(X_train, y_train, epochs=60, batch_size=32,\n",
    "                    validation_data=(X_val, y_val), verbose=1)"
   ]
  },
  {
   "cell_type": "code",
   "execution_count": 15,
   "metadata": {
    "ExecuteTime": {
     "end_time": "2020-05-03T15:43:45.751079Z",
     "start_time": "2020-05-03T15:43:45.569557Z"
    }
   },
   "outputs": [
    {
     "data": {
      "image/png": "[encoded data removed]",
      "text/plain": [
       "<Figure size 432x288 with 1 Axes>"
      ]
     },
     "metadata": {
      "needs_background": "light"
     },
     "output_type": "display_data"
    }
   ],
   "source": [
    "epoch_range=range(1,50+1)\n",
    "plt.plot(history.history['loss'])\n",
    "plt.plot(history.history['val_loss'])\n",
    "plt.title('Model loss')\n",
    "plt.ylabel('Loss')\n",
    "plt.xlabel('Epoch')\n",
    "# plt.xticks([x for x in range(epoch+1)])\n",
    "plt.legend(['Train','Val'],loc='upper left')\n",
    "plt.show()"
   ]
  },
  {
   "cell_type": "markdown",
   "metadata": {},
   "source": [
    "### Evaluation"
   ]
  },
  {
   "cell_type": "code",
   "execution_count": 16,
   "metadata": {
    "ExecuteTime": {
     "end_time": "2020-05-03T15:43:46.250762Z",
     "start_time": "2020-05-03T15:43:45.752066Z"
    }
   },
   "outputs": [
    {
     "data": {
      "text/plain": [
       "(730, 1)"
      ]
     },
     "execution_count": 16,
     "metadata": {},
     "output_type": "execute_result"
    }
   ],
   "source": [
    "y_pred = model.predict(X_test)\n",
    "y_pred.shape"
   ]
  },
  {
   "cell_type": "code",
   "execution_count": 17,
   "metadata": {
    "ExecuteTime": {
     "end_time": "2020-05-03T15:43:46.255741Z",
     "start_time": "2020-05-03T15:43:46.251729Z"
    }
   },
   "outputs": [
    {
     "data": {
      "text/plain": [
       "0.0013565203795903229"
      ]
     },
     "execution_count": 17,
     "metadata": {},
     "output_type": "execute_result"
    }
   ],
   "source": [
    "scale = scaler.scale_[0]\n",
    "scale"
   ]
  },
  {
   "cell_type": "code",
   "execution_count": 18,
   "metadata": {
    "ExecuteTime": {
     "end_time": "2020-05-03T15:43:46.263699Z",
     "start_time": "2020-05-03T15:43:46.256716Z"
    }
   },
   "outputs": [
    {
     "data": {
      "text/plain": [
       "-0.06702540200800232"
      ]
     },
     "execution_count": 18,
     "metadata": {},
     "output_type": "execute_result"
    }
   ],
   "source": [
    "bias = scaler.min_[0]\n",
    "bias"
   ]
  },
  {
   "cell_type": "code",
   "execution_count": 19,
   "metadata": {
    "ExecuteTime": {
     "end_time": "2020-05-03T15:43:46.268691Z",
     "start_time": "2020-05-03T15:43:46.265692Z"
    }
   },
   "outputs": [],
   "source": [
    "y_test = (y_test-bias)/scale\n",
    "y_pred = (y_pred-bias)/scale"
   ]
  },
  {
   "cell_type": "code",
   "execution_count": 20,
   "metadata": {
    "ExecuteTime": {
     "end_time": "2020-05-03T15:43:46.275666Z",
     "start_time": "2020-05-03T15:43:46.270679Z"
    }
   },
   "outputs": [],
   "source": [
    "y_test = y_test.reshape(730, 1)\n",
    "y_pred = y_pred.reshape(730, 1)"
   ]
  },
  {
   "cell_type": "code",
   "execution_count": 21,
   "metadata": {
    "ExecuteTime": {
     "end_time": "2020-05-03T15:43:46.460172Z",
     "start_time": "2020-05-03T15:43:46.277662Z"
    }
   },
   "outputs": [
    {
     "data": {
      "image/png": "[encoded data removed]",
      "text/plain": [
       "<Figure size 1008x360 with 1 Axes>"
      ]
     },
     "metadata": {
      "needs_background": "light"
     },
     "output_type": "display_data"
    }
   ],
   "source": [
    "plt.figure(figsize=(14,5))\n",
    "plt.plot(y_test,label='real')\n",
    "plt.plot(y_pred,label='pred')\n",
    "plt.ylabel('Open')\n",
    "plt.legend()\n",
    "plt.show()"
   ]
  },
  {
   "cell_type": "code",
   "execution_count": 22,
   "metadata": {
    "ExecuteTime": {
     "end_time": "2020-05-03T15:43:46.489098Z",
     "start_time": "2020-05-03T15:43:46.463166Z"
    }
   },
   "outputs": [],
   "source": [
    "model.save('../model/GRU_seq2vec_mutilvariate.h5')"
   ]
  },
  {
   "cell_type": "code",
   "execution_count": null,
   "metadata": {},
   "outputs": [],
   "source": []
  }
 ],
 "metadata": {
  "kernelspec": {
   "display_name": "Python 3",
   "language": "python",
   "name": "python3"
  },
  "language_info": {
   "codemirror_mode": {
    "name": "ipython",
    "version": 3
   },
   "file_extension": ".py",
   "mimetype": "text/x-python",
   "name": "python",
   "nbconvert_exporter": "python",
   "pygments_lexer": "ipython3",
   "version": "3.6.9"
  },
  "toc": {
   "base_numbering": 1,
   "nav_menu": {},
   "number_sections": true,
   "sideBar": true,
   "skip_h1_title": false,
   "title_cell": "Table of Contents",
   "title_sidebar": "Contents",
   "toc_cell": false,
   "toc_position": {},
   "toc_section_display": true,
   "toc_window_display": false
  }
 },
 "nbformat": 4,
 "nbformat_minor": 4
}
