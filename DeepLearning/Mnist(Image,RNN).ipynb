{
 "cells": [
  {
   "cell_type": "code",
   "execution_count": 1,
   "metadata": {
    "ExecuteTime": {
     "end_time": "2020-04-19T12:35:48.856485Z",
     "start_time": "2020-04-19T12:35:46.075028Z"
    }
   },
   "outputs": [],
   "source": [
    "import numpy as np\n",
    "import matplotlib.pyplot as plt\n",
    "import pandas as pd \n",
    "import tensorflow as tf\n",
    "from tensorflow.keras import Sequential\n",
    "from tensorflow.keras.layers import SimpleRNN,Dense\n",
    "from tensorflow.keras.optimizers import Adam\n",
    "from tensorflow.keras.utils import to_categorical\n",
    "from tensorflow.keras.datasets import mnist"
   ]
  },
  {
   "cell_type": "markdown",
   "metadata": {},
   "source": [
    "### Parameters"
   ]
  },
  {
   "cell_type": "code",
   "execution_count": 2,
   "metadata": {
    "ExecuteTime": {
     "end_time": "2020-04-19T12:35:48.861177Z",
     "start_time": "2020-04-19T12:35:48.857184Z"
    }
   },
   "outputs": [],
   "source": [
    "TIME_STEPS = 28  # height of the image\n",
    "INPUT_SIZE = 28  # width of the image\n",
    "BATCH_SIZE = 128\n",
    "OUTPUT_SIZE = 10  # 10 classes to classify\n",
    "CELL_SIZE = 50\n",
    "LEARNING_RATE = 0.001\n",
    "EPOCHS = 30"
   ]
  },
  {
   "cell_type": "markdown",
   "metadata": {},
   "source": [
    "### Data preparation"
   ]
  },
  {
   "cell_type": "code",
   "execution_count": 3,
   "metadata": {
    "ExecuteTime": {
     "end_time": "2020-04-19T12:35:49.116344Z",
     "start_time": "2020-04-19T12:35:48.862172Z"
    }
   },
   "outputs": [],
   "source": [
    "(X_train,y_train),(X_test,y_test)=mnist.load_data()"
   ]
  },
  {
   "cell_type": "code",
   "execution_count": 4,
   "metadata": {
    "ExecuteTime": {
     "end_time": "2020-04-19T12:35:49.123257Z",
     "start_time": "2020-04-19T12:35:49.117274Z"
    }
   },
   "outputs": [
    {
     "data": {
      "text/plain": [
       "((60000, 28, 28), (60000,), (10000, 28, 28), (10000,))"
      ]
     },
     "execution_count": 4,
     "metadata": {},
     "output_type": "execute_result"
    }
   ],
   "source": [
    "X_train.shape,y_train.shape,X_test.shape,y_test.shape"
   ]
  },
  {
   "cell_type": "code",
   "execution_count": 5,
   "metadata": {
    "ExecuteTime": {
     "end_time": "2020-04-19T12:35:49.325077Z",
     "start_time": "2020-04-19T12:35:49.125254Z"
    }
   },
   "outputs": [],
   "source": [
    "X_train = X_train.reshape(-1,28,28)/255\n",
    "X_test = X_test.reshape(-1,28,28)/255\n",
    "y_train = to_categorical(y_train,num_classes=10)\n",
    "y_test = to_categorical(y_test,num_classes=10)"
   ]
  },
  {
   "cell_type": "markdown",
   "metadata": {},
   "source": [
    "### Modeling"
   ]
  },
  {
   "cell_type": "code",
   "execution_count": 6,
   "metadata": {
    "ExecuteTime": {
     "end_time": "2020-04-19T12:35:50.399281Z",
     "start_time": "2020-04-19T12:35:49.325718Z"
    }
   },
   "outputs": [],
   "source": [
    "model = Sequential()\n",
    "model.add(SimpleRNN(batch_input_shape=(BATCH_SIZE, TIME_STEPS, INPUT_SIZE), units=CELL_SIZE)) # activation is tanh by default\n",
    "model.add(Dense(OUTPUT_SIZE, activation='softmax'))"
   ]
  },
  {
   "cell_type": "code",
   "execution_count": 7,
   "metadata": {
    "ExecuteTime": {
     "end_time": "2020-04-19T12:35:50.445815Z",
     "start_time": "2020-04-19T12:35:50.400936Z"
    }
   },
   "outputs": [],
   "source": [
    "opt = Adam(learning_rate=LEARNING_RATE)\n",
    "model.compile(optimizer=opt ,loss='categorical_crossentropy',metrics=['accuracy'])"
   ]
  },
  {
   "cell_type": "code",
   "execution_count": 8,
   "metadata": {
    "ExecuteTime": {
     "end_time": "2020-04-19T12:39:30.568868Z",
     "start_time": "2020-04-19T12:35:50.446813Z"
    }
   },
   "outputs": [
    {
     "name": "stdout",
     "output_type": "stream",
     "text": [
      "Train on 60000 samples, validate on 10000 samples\n",
      "Epoch 1/30\n",
      "60000/60000 [==============================] - 9s 145us/sample - loss: 0.8444 - accuracy: 0.7390 - val_loss: 0.4664 - val_accuracy: 0.8614\n",
      "Epoch 2/30\n",
      "60000/60000 [==============================] - 7s 121us/sample - loss: 0.4099 - accuracy: 0.8791 - val_loss: 0.3302 - val_accuracy: 0.9075\n",
      "Epoch 3/30\n",
      "60000/60000 [==============================] - 7s 119us/sample - loss: 0.3153 - accuracy: 0.9081 - val_loss: 0.2749 - val_accuracy: 0.9225\n",
      "Epoch 4/30\n",
      "60000/60000 [==============================] - 7s 113us/sample - loss: 0.2688 - accuracy: 0.9219 - val_loss: 0.2435 - val_accuracy: 0.9331\n",
      "Epoch 5/30\n",
      "60000/60000 [==============================] - 7s 122us/sample - loss: 0.2350 - accuracy: 0.9319 - val_loss: 0.2224 - val_accuracy: 0.9378\n",
      "Epoch 6/30\n",
      "60000/60000 [==============================] - 7s 120us/sample - loss: 0.2149 - accuracy: 0.9375 - val_loss: 0.2148 - val_accuracy: 0.9385\n",
      "Epoch 7/30\n",
      "60000/60000 [==============================] - 7s 120us/sample - loss: 0.1941 - accuracy: 0.9435 - val_loss: 0.1949 - val_accuracy: 0.9452\n",
      "Epoch 8/30\n",
      "60000/60000 [==============================] - 7s 116us/sample - loss: 0.1829 - accuracy: 0.9467 - val_loss: 0.1751 - val_accuracy: 0.9505\n",
      "Epoch 9/30\n",
      "60000/60000 [==============================] - 7s 117us/sample - loss: 0.1718 - accuracy: 0.9497 - val_loss: 0.1781 - val_accuracy: 0.9493\n",
      "Epoch 10/30\n",
      "60000/60000 [==============================] - 7s 118us/sample - loss: 0.1680 - accuracy: 0.9517 - val_loss: 0.1874 - val_accuracy: 0.9496\n",
      "Epoch 11/30\n",
      "60000/60000 [==============================] - 7s 120us/sample - loss: 0.1563 - accuracy: 0.9549 - val_loss: 0.1733 - val_accuracy: 0.9517\n",
      "Epoch 12/30\n",
      "60000/60000 [==============================] - 7s 118us/sample - loss: 0.1518 - accuracy: 0.9560 - val_loss: 0.1456 - val_accuracy: 0.9588\n",
      "Epoch 13/30\n",
      "60000/60000 [==============================] - 7s 120us/sample - loss: 0.1466 - accuracy: 0.9581 - val_loss: 0.1566 - val_accuracy: 0.9576\n",
      "Epoch 14/30\n",
      "60000/60000 [==============================] - 7s 118us/sample - loss: 0.1450 - accuracy: 0.9577 - val_loss: 0.1564 - val_accuracy: 0.9566\n",
      "Epoch 15/30\n",
      "60000/60000 [==============================] - 7s 118us/sample - loss: 0.1347 - accuracy: 0.9607 - val_loss: 0.1519 - val_accuracy: 0.9569\n",
      "Epoch 16/30\n",
      "60000/60000 [==============================] - 7s 119us/sample - loss: 0.1346 - accuracy: 0.9615 - val_loss: 0.1459 - val_accuracy: 0.9584\n",
      "Epoch 17/30\n",
      "60000/60000 [==============================] - 7s 120us/sample - loss: 0.1281 - accuracy: 0.9631 - val_loss: 0.1393 - val_accuracy: 0.9619\n",
      "Epoch 18/30\n",
      "60000/60000 [==============================] - 7s 118us/sample - loss: 0.1255 - accuracy: 0.9642 - val_loss: 0.1475 - val_accuracy: 0.9591\n",
      "Epoch 19/30\n",
      "60000/60000 [==============================] - 7s 121us/sample - loss: 0.1238 - accuracy: 0.9641 - val_loss: 0.1276 - val_accuracy: 0.9637\n",
      "Epoch 20/30\n",
      "60000/60000 [==============================] - 7s 124us/sample - loss: 0.1202 - accuracy: 0.9656 - val_loss: 0.1358 - val_accuracy: 0.9632\n",
      "Epoch 21/30\n",
      "60000/60000 [==============================] - 7s 120us/sample - loss: 0.1188 - accuracy: 0.9659 - val_loss: 0.1379 - val_accuracy: 0.9608\n",
      "Epoch 22/30\n",
      "60000/60000 [==============================] - 8s 132us/sample - loss: 0.1158 - accuracy: 0.9666 - val_loss: 0.1494 - val_accuracy: 0.9577\n",
      "Epoch 23/30\n",
      "60000/60000 [==============================] - 8s 134us/sample - loss: 0.1150 - accuracy: 0.9664 - val_loss: 0.1253 - val_accuracy: 0.9657\n",
      "Epoch 24/30\n",
      "60000/60000 [==============================] - 8s 133us/sample - loss: 0.1135 - accuracy: 0.9673 - val_loss: 0.1283 - val_accuracy: 0.9642\n",
      "Epoch 25/30\n",
      "60000/60000 [==============================] - 8s 132us/sample - loss: 0.1087 - accuracy: 0.9686 - val_loss: 0.1278 - val_accuracy: 0.9655\n",
      "Epoch 26/30\n",
      "60000/60000 [==============================] - 8s 128us/sample - loss: 0.1102 - accuracy: 0.9680 - val_loss: 0.1412 - val_accuracy: 0.9616\n",
      "Epoch 27/30\n",
      "60000/60000 [==============================] - 7s 117us/sample - loss: 0.1067 - accuracy: 0.9690 - val_loss: 0.1434 - val_accuracy: 0.9598\n",
      "Epoch 28/30\n",
      "60000/60000 [==============================] - 7s 116us/sample - loss: 0.1059 - accuracy: 0.9695 - val_loss: 0.1224 - val_accuracy: 0.9660\n",
      "Epoch 29/30\n",
      "60000/60000 [==============================] - 7s 120us/sample - loss: 0.1031 - accuracy: 0.9705 - val_loss: 0.1387 - val_accuracy: 0.9600\n",
      "Epoch 30/30\n",
      "60000/60000 [==============================] - 8s 127us/sample - loss: 0.0997 - accuracy: 0.9710 - val_loss: 0.1434 - val_accuracy: 0.9596\n"
     ]
    }
   ],
   "source": [
    "history=model.fit(X_train, y_train,validation_data=(X_test,y_test),batch_size=BATCH_SIZE, epochs=EPOCHS, verbose=1)"
   ]
  },
  {
   "cell_type": "markdown",
   "metadata": {},
   "source": [
    "### Evaluation"
   ]
  },
  {
   "cell_type": "code",
   "execution_count": 9,
   "metadata": {
    "ExecuteTime": {
     "end_time": "2020-04-19T12:40:05.074036Z",
     "start_time": "2020-04-19T12:40:04.800497Z"
    }
   },
   "outputs": [
    {
     "data": {
      "image/png": "[encoded data removed]",
      "text/plain": [
       "<Figure size 432x288 with 1 Axes>"
      ]
     },
     "metadata": {
      "needs_background": "light"
     },
     "output_type": "display_data"
    },
    {
     "data": {
      "image/png": "[encoded data removed]",
      "text/plain": [
       "<Figure size 432x288 with 1 Axes>"
      ]
     },
     "metadata": {
      "needs_background": "light"
     },
     "output_type": "display_data"
    }
   ],
   "source": [
    "epoch_range=range(1,EPOCHS+1)\n",
    "plt.plot(epoch_range,history.history['accuracy'])\n",
    "plt.plot(epoch_range,history.history['val_accuracy'])\n",
    "plt.title('Model accuracy')\n",
    "plt.ylabel('Accuracy')\n",
    "plt.xlabel('Epoch')\n",
    "# plt.xticks([x for x in range(epoch+1)])\n",
    "plt.legend(['Train','Val'],loc='upper left')\n",
    "plt.show()\n",
    "\n",
    "plt.plot(history.history['loss'])\n",
    "plt.plot(history.history['val_loss'])\n",
    "plt.title('Model loss')\n",
    "plt.ylabel('Loss')\n",
    "plt.xlabel('Epoch')\n",
    "# plt.xticks([x for x in range(epoch+1)])\n",
    "plt.legend(['Train','Val'],loc='upper left')\n",
    "plt.show()"
   ]
  },
  {
   "cell_type": "code",
   "execution_count": null,
   "metadata": {},
   "outputs": [],
   "source": []
  }
 ],
 "metadata": {
  "kernelspec": {
   "display_name": "Python 3",
   "language": "python",
   "name": "python3"
  },
  "language_info": {
   "codemirror_mode": {
    "name": "ipython",
    "version": 3
   },
   "file_extension": ".py",
   "mimetype": "text/x-python",
   "name": "python",
   "nbconvert_exporter": "python",
   "pygments_lexer": "ipython3",
   "version": "3.6.5"
  },
  "toc": {
   "base_numbering": 1,
   "nav_menu": {},
   "number_sections": true,
   "sideBar": true,
   "skip_h1_title": false,
   "title_cell": "Table of Contents",
   "title_sidebar": "Contents",
   "toc_cell": false,
   "toc_position": {},
   "toc_section_display": true,
   "toc_window_display": false
  }
 },
 "nbformat": 4,
 "nbformat_minor": 4
}
