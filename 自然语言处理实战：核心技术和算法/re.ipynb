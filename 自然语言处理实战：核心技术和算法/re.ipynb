{
 "cells": [
  {
   "cell_type": "code",
   "execution_count": 6,
   "metadata": {},
   "outputs": [],
   "source": [
    "import re"
   ]
  },
  {
   "cell_type": "code",
   "execution_count": 7,
   "metadata": {},
   "outputs": [],
   "source": [
    "sentence = '1992年，圣艾蒂安高等矿业学校正式\\\n",
    "归属国家工业部监管，依然保持其一贯的深厚传统和\\\n",
    "创新能力。其作为三年制“通用”（Généraliste）工程师学校，\\\n",
    "在工程师学校排名中稳居法国前十五。时至今日，学校发挥传统优势\\\n",
    "，开设专业包括微电子信息科学、数学建模及应用、智能网络、材料及\\\n",
    "力学、生物工程、工业工程及供应链、项目创新管理等。已在能源和过程，材料，工业工程，环境，微电子和\\\n",
    "健康医疗六大工程领域成绩斐然。目前，学校已经建成5个高水平的科学教育研究中心，依建立时间次序，它们分别是'"
   ]
  },
  {
   "cell_type": "code",
   "execution_count": 8,
   "metadata": {},
   "outputs": [
    {
     "data": {
      "text/plain": [
       "['1992年，圣艾蒂安高等矿业学校正式归属国家工业部监管，依然保持其一贯的深厚传统和创新能力',\n",
       " '其作为三年制“通用”（Généraliste）工程师学校，在工程师学校排名中稳居法国前十五',\n",
       " '时至今日，学校发挥传统优势，开设专业包括微电子信息科学、数学建模及应用、智能网络、材料及力学、生物工程、工业工程及供应链、项目创新管理等',\n",
       " '已在能源和过程，材料，工业工程，环境，微电子和健康医疗六大工程领域成绩斐然',\n",
       " '目前，学校已经建成5个高水平的科学教育研究中心，依建立时间次序，它们分别是']"
      ]
     },
     "execution_count": 8,
     "metadata": {},
     "output_type": "execute_result"
    }
   ],
   "source": [
    "p_sentence = sentence.split('。')\n",
    "p_sentence"
   ]
  },
  {
   "cell_type": "code",
   "execution_count": 9,
   "metadata": {},
   "outputs": [
    {
     "name": "stdout",
     "output_type": "stream",
     "text": [
      "其作为三年制“通用”（Généraliste）工程师学校，在工程师学校排名中稳居法国前十五\n",
      "时至今日，学校发挥传统优势，开设专业包括微电子信息科学、数学建模及应用、智能网络、材料及力学、生物工程、工业工程及供应链、项目创新管理等\n",
      "已在能源和过程，材料，工业工程，环境，微电子和健康医疗六大工程领域成绩斐然\n"
     ]
    }
   ],
   "source": [
    "regex = '工程'\n",
    "\n",
    "for line in p_sentence:\n",
    "    if re.search(regex,line):\n",
    "        print(line)"
   ]
  },
  {
   "cell_type": "code",
   "execution_count": 10,
   "metadata": {},
   "outputs": [
    {
     "name": "stdout",
     "output_type": "stream",
     "text": [
      "1992年，圣艾蒂安高等矿业学校正式归属国家工业部监管，依然保持其一贯的深厚传统和创新能力\n",
      "其作为三年制“通用”（Généraliste）工程师学校，在工程师学校排名中稳居法国前十五\n",
      "时至今日，学校发挥传统优势，开设专业包括微电子信息科学、数学建模及应用、智能网络、材料及力学、生物工程、工业工程及供应链、项目创新管理等\n",
      "已在能源和过程，材料，工业工程，环境，微电子和健康医疗六大工程领域成绩斐然\n"
     ]
    }
   ],
   "source": [
    "regex = '工.'  #“.”代替任何单个字符（换行除外）”\n",
    "\n",
    "for line in p_sentence:\n",
    "    if re.search(regex,line):\n",
    "        print(line)"
   ]
  },
  {
   "cell_type": "code",
   "execution_count": 11,
   "metadata": {},
   "outputs": [
    {
     "name": "stdout",
     "output_type": "stream",
     "text": [
      "目前，学校已经建成5个高水平的科学教育研究中心，依建立时间次序，它们分别是\n"
     ]
    }
   ],
   "source": [
    "regex = '^目前'  #“^a”代表的是匹配所有以字母a开头的字符串。”\n",
    "\n",
    "for line in p_sentence:\n",
    "    if re.search(regex,line):\n",
    "        print(line)"
   ]
  },
  {
   "cell_type": "code",
   "execution_count": 12,
   "metadata": {},
   "outputs": [
    {
     "name": "stdout",
     "output_type": "stream",
     "text": [
      "1992年，圣艾蒂安高等矿业学校正式归属国家工业部监管，依然保持其一贯的深厚传统和创新能力\n"
     ]
    }
   ],
   "source": [
    "regex = '能力$'  #“a$”代表的是匹配所有以字母a结尾的字符串。”\n",
    "\n",
    "for line in p_sentence:\n",
    "    if re.search(regex,line):\n",
    "        print(line)"
   ]
  },
  {
   "cell_type": "code",
   "execution_count": 13,
   "metadata": {},
   "outputs": [
    {
     "name": "stdout",
     "output_type": "stream",
     "text": [
      "1992年，圣艾蒂安高等矿业学校正式归属国家工业部监管，依然保持其一贯的深厚传统和创新能力\n",
      "其作为三年制“通用”（Généraliste）工程师学校，在工程师学校排名中稳居法国前十五\n",
      "时至今日，学校发挥传统优势，开设专业包括微电子信息科学、数学建模及应用、智能网络、材料及力学、生物工程、工业工程及供应链、项目创新管理等\n",
      "已在能源和过程，材料，工业工程，环境，微电子和健康医疗六大工程领域成绩斐然\n"
     ]
    }
   ],
   "source": [
    "regex = '工[业程]'  #[]匹配多个字符\n",
    "\n",
    "for line in p_sentence:\n",
    "    if re.search(regex,line):\n",
    "        print(line)"
   ]
  },
  {
   "cell_type": "code",
   "execution_count": 16,
   "metadata": {},
   "outputs": [
    {
     "name": "stdout",
     "output_type": "stream",
     "text": [
      "1992年，圣艾蒂安高等矿业学校正式归属国家工业部监管，依然保持其一贯的深厚传统和创新能力\n",
      "目前，学校已经建成5个高水平的科学教育研究中心，依建立时间次序，它们分别是\n"
     ]
    }
   ],
   "source": [
    "# [0-9] 提取数字\n",
    "for line in p_sentence:\n",
    "    if re.search('[0-9]',line):\n",
    "        print(line)"
   ]
  },
  {
   "cell_type": "code",
   "execution_count": 17,
   "metadata": {},
   "outputs": [
    {
     "name": "stdout",
     "output_type": "stream",
     "text": [
      "1992年，圣艾蒂安高等矿业学校正式归属国家工业部监管，依然保持其一贯的深厚传统和创新能力\n"
     ]
    }
   ],
   "source": [
    "for line in p_sentence:\n",
    "    if re.search('^[0-9]',line): # 数字开头\n",
    "        print(line)"
   ]
  },
  {
   "cell_type": "code",
   "execution_count": 18,
   "metadata": {},
   "outputs": [
    {
     "name": "stdout",
     "output_type": "stream",
     "text": [
      "其作为三年制“通用”（Généraliste）工程师学校，在工程师学校排名中稳居法国前十五\n"
     ]
    }
   ],
   "source": [
    "# [a-z] 提取小写字母\n",
    "for line in p_sentence:\n",
    "    if re.search('[a-z]',line):\n",
    "        print(line)"
   ]
  },
  {
   "cell_type": "code",
   "execution_count": 21,
   "metadata": {},
   "outputs": [
    {
     "name": "stdout",
     "output_type": "stream",
     "text": [
      "['1992']\n",
      "[]\n",
      "[]\n",
      "[]\n",
      "[]\n"
     ]
    }
   ],
   "source": [
    "for line in p_sentence:\n",
    "    year = re.findall('[1][9][0-9][0-9]',line)  # 寻找所有年份\n",
    "    print(year)"
   ]
  },
  {
   "cell_type": "code",
   "execution_count": null,
   "metadata": {},
   "outputs": [],
   "source": []
  }
 ],
 "metadata": {
  "kernelspec": {
   "display_name": "Python 3",
   "language": "python",
   "name": "python3"
  },
  "language_info": {
   "codemirror_mode": {
    "name": "ipython",
    "version": 3
   },
   "file_extension": ".py",
   "mimetype": "text/x-python",
   "name": "python",
   "nbconvert_exporter": "python",
   "pygments_lexer": "ipython3",
   "version": "3.6.9"
  }
 },
 "nbformat": 4,
 "nbformat_minor": 4
}
