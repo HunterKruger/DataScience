{
 "cells": [
  {
   "cell_type": "code",
   "execution_count": 1,
   "metadata": {},
   "outputs": [],
   "source": [
    "from typing import List\n",
    "\n",
    "def bubble_sort(nums:List)->List:\n",
    "    length = len(nums)\n",
    "    for i in range(length):\n",
    "        for j in range(length-i-1):  # 每轮迭代，数组最后i位已经排序，所以 -i\n",
    "                                     # 遍历j和j+1，所以 -1\n",
    "            if nums[j]>nums[j+1]:  # 升序排列，不满足则交换\n",
    "                nums[j], nums[j+1] = nums[j+1], nums[j]\n",
    "    return nums\n",
    "\n",
    "\n",
    "# 冒泡排序中只有缓存的temp变量需要内存空间, 因此空间复杂度为常量O(1）\n",
    "# 最坏的情况是每次都需要交换, 共需遍历并交换将近n²/2次, 时间复杂度为O(n²).\n",
    "# 最佳的情况是内循环遍历一次后发现排序是对的, 因此退出循环, 时间复杂度为O(n)，但是要对代码进行修改"
   ]
  },
  {
   "cell_type": "code",
   "execution_count": 2,
   "metadata": {},
   "outputs": [
    {
     "name": "stdout",
     "output_type": "stream",
     "text": [
      "[1, 2, 3, 3, 3, 4, 5, 6, 6, 9]\n"
     ]
    }
   ],
   "source": [
    "a=[2,3,4,1,5,3,6,3,6,9]\n",
    "print(bubble_sort(a))"
   ]
  },
  {
   "cell_type": "code",
   "execution_count": 3,
   "metadata": {},
   "outputs": [],
   "source": [
    "def insertion_sort(nums:List)->List:  # 洗牌的排序方式\n",
    "    length = len(nums)\n",
    "    for i in range(1,length): # 从第二个元素向后遍历: 即从第二张牌向前找位置插入\n",
    "        key = nums[i]         # 保存要移动排序的元素\n",
    "        j = i - 1             # j 向前遍历\n",
    "        while j>=0 and key<nums[j]:  # 保证j在数组内，当不满足升序\n",
    "            nums[j+1] = nums[j]    # j依次后移\n",
    "            j -= 1\n",
    "        nums[j+1] = key       \n",
    "    return nums\n",
    "\n",
    "# 空间复杂度为常量O(1)\n",
    "# 最坏的情况是每次都需要交换, 共需遍历并交换将近n²/2次, 时间复杂度为O(n²)，\n",
    "# 最好的情况是已经排序好，只要遍历一次，不需要交换，时间复杂度为O(n)"
   ]
  },
  {
   "cell_type": "code",
   "execution_count": 4,
   "metadata": {},
   "outputs": [
    {
     "name": "stdout",
     "output_type": "stream",
     "text": [
      "[1, 2, 3, 3, 3, 4, 5, 6, 6, 9]\n"
     ]
    }
   ],
   "source": [
    "b=[2,3,4,1,5,3,6,3,6,9]\n",
    "print(insertion_sort(b))"
   ]
  },
  {
   "cell_type": "code",
   "execution_count": 5,
   "metadata": {},
   "outputs": [],
   "source": [
    "def selection_sort(nums:List)->List:\n",
    "    length = len(nums)\n",
    "    for i in range(length): # 每轮迭代数组前i位已经排序\n",
    "        min_index = i    # 假设当前下标为最小值\n",
    "        for j in range(i+1,length): # 遍历此下标的后方\n",
    "            if nums[j]<nums[min_index]:  # 找到最小值的下标\n",
    "                min_index = j\n",
    "        nums[i],nums[min_index] = nums[min_index], nums[i]  # 交换位置\n",
    "    return nums\n",
    "\n",
    "# 空间复杂度为常量O(1)（同冒泡排序只有交换的时候临时变量需要空间）\n",
    "# 无论是哪种情况，哪怕原数组已排序完成，它也将花费将近n²/2次遍历来确认一遍，时间复杂度为O(n²)"
   ]
  },
  {
   "cell_type": "code",
   "execution_count": 6,
   "metadata": {},
   "outputs": [
    {
     "name": "stdout",
     "output_type": "stream",
     "text": [
      "[1, 2, 3, 3, 3, 4, 5, 6, 6, 9]\n"
     ]
    }
   ],
   "source": [
    "c=[2,3,4,1,5,3,6,3,6,9]\n",
    "print(selection_sort(c))"
   ]
  },
  {
   "cell_type": "code",
   "execution_count": 7,
   "metadata": {},
   "outputs": [],
   "source": [
    "# https://zhuanlan.zhihu.com/p/63227573\n",
    "def quick_sort(nums:List,i:int,j:int)->List:\n",
    "    \n",
    "    if i >= j:  # i为头指针，j为尾指针\n",
    "        return list\n",
    "    pivot = nums[i] # 取头指针元素为枢纽\n",
    "    \n",
    "    low = i  #初始化数组范围\n",
    "    high = j\n",
    "    \n",
    "    while i < j:  \n",
    "        while i < j and nums[j] >= pivot: # 从后往前找小于等于pivot的数\n",
    "            j -= 1\n",
    "        nums[i]=nums[j]\n",
    "        while i < j and nums[i] <= pivot:  # 从前往后找大于等于pivot的数\n",
    "            i += 1\n",
    "        nums[j]=nums[i]\n",
    "        \n",
    "    nums[i] = pivot    # i是pivot的下标    # 此处 i=j \n",
    "    \n",
    "    quick_sort(nums,low,i-1)  # 此处 i=j\n",
    "    quick_sort(nums,i+1,high)  # 此处 i=j\n",
    "    return nums\n",
    "\n",
    "# 需要一个辅助数组，空间复杂度是O(n)，递归需要保存的空间为O(log2 n)，所以加起来仍然是O(n)\n",
    "# 假设数组长度为n，那么拆分数组共需log2 n，, 又每步都是一个普通的合并子数组的过程， 时间复杂度为O(n)， 故其综合时间复杂度为O(nlog2 n)"
   ]
  },
  {
   "cell_type": "code",
   "execution_count": 8,
   "metadata": {},
   "outputs": [
    {
     "name": "stdout",
     "output_type": "stream",
     "text": [
      "[1, 2, 3, 3, 3, 4, 5, 6, 6, 9]\n"
     ]
    }
   ],
   "source": [
    "d=[2,3,4,1,5,3,6,3,6,9]\n",
    "print(quick_sort(d,0,len(d)-1))"
   ]
  },
  {
   "cell_type": "code",
   "execution_count": 9,
   "metadata": {},
   "outputs": [],
   "source": [
    "def merge_sort(nums:List)->List:\n",
    "    \n",
    "    if len(nums)<=1:  # 容量小于等于1的字串不需要排序\n",
    "        return nums\n",
    "    \n",
    "    half_len = len(nums)//2  # 分割字串\n",
    "    \n",
    "    left_nums = merge_sort(nums[:half_len])  #递归\n",
    "    right_nums = merge_sort(nums[half_len:])\n",
    "    \n",
    "    return merge(left_nums,right_nums)\n",
    "    \n",
    "def merge(left:List,right:List)->List: # 合并排序两个字串\n",
    "    result = []\n",
    "    i=0\n",
    "    j=0\n",
    "    \n",
    "    while i<len(left) and j<len(right):\n",
    "        if left[i]<=right[j]:\n",
    "            result.append(left[i])\n",
    "            i+=1\n",
    "        else:\n",
    "            result.append(right[j])\n",
    "            j+=1\n",
    "    \n",
    "    result+=left[i:]  # 拼接\n",
    "    result+=right[j:]\n",
    "    \n",
    "    return result"
   ]
  },
  {
   "cell_type": "code",
   "execution_count": 17,
   "metadata": {},
   "outputs": [
    {
     "name": "stdout",
     "output_type": "stream",
     "text": [
      "[1, 2, 3, 3, 3, 4, 5, 6, 6, 9]\n"
     ]
    }
   ],
   "source": [
    "e=[2,3,4,1,5,3,6,3,6,9]\n",
    "print(mergesort(e))"
   ]
  },
  {
   "cell_type": "code",
   "execution_count": null,
   "metadata": {},
   "outputs": [],
   "source": []
  }
 ],
 "metadata": {
  "kernelspec": {
   "display_name": "Python 3",
   "language": "python",
   "name": "python3"
  },
  "language_info": {
   "codemirror_mode": {
    "name": "ipython",
    "version": 3
   },
   "file_extension": ".py",
   "mimetype": "text/x-python",
   "name": "python",
   "nbconvert_exporter": "python",
   "pygments_lexer": "ipython3",
   "version": "3.6.9"
  }
 },
 "nbformat": 4,
 "nbformat_minor": 4
}
