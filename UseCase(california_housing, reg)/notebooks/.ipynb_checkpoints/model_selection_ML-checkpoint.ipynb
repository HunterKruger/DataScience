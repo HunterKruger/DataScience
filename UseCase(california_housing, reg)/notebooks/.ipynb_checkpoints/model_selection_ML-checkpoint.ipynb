{
 "cells": [
  {
   "cell_type": "code",
   "execution_count": 23,
   "metadata": {
    "ExecuteTime": {
     "end_time": "2020-05-29T10:27:06.295225Z",
     "start_time": "2020-05-29T10:27:06.291056Z"
    }
   },
   "outputs": [],
   "source": [
    "import pandas as pd\n",
    "import numpy as np\n",
    "import math\n",
    "\n",
    "from sklearn.model_selection import train_test_split\n",
    "from sklearn.model_selection import cross_val_score\n",
    "from sklearn.model_selection import GridSearchCV, RandomizedSearchCV\n",
    "\n",
    "from sklearn.metrics import mean_squared_error, r2_score, mean_absolute_error\n",
    "\n",
    "from sklearn.linear_model import LinearRegression as LR\n",
    "from sklearn.linear_model import Ridge\n",
    "from sklearn.linear_model import Lasso\n",
    "from sklearn.linear_model import ElasticNet\n",
    "from sklearn.neighbors import KNeighborsRegressor as KNR\n",
    "from sklearn.svm import SVR\n",
    "from sklearn.ensemble import AdaBoostRegressor as ABR\n",
    "from sklearn.ensemble import RandomForestRegressor as RFR\n",
    "from sklearn.ensemble import GradientBoostingRegressor as GBR\n",
    "from xgboost import XGBRegressor as XGBR\n",
    "from lightgbm import LGBMRegressor as LGBMR\n",
    "from catboost import CatBoostRegressor as CBR\n",
    "\n",
    "from sklearn.ensemble import VotingRegressor as VR\n",
    "\n",
    "import joblib"
   ]
  },
  {
   "cell_type": "code",
   "execution_count": 6,
   "metadata": {
    "ExecuteTime": {
     "end_time": "2020-05-29T10:19:24.657135Z",
     "start_time": "2020-05-29T10:19:24.625807Z"
    }
   },
   "outputs": [],
   "source": [
    "X_train_origin = pd.read_csv('../data/featured_data/X_train.csv')\n",
    "y_train_origin = pd.read_csv('../data/featured_data/y_train.csv')"
   ]
  },
  {
   "cell_type": "code",
   "execution_count": 7,
   "metadata": {
    "ExecuteTime": {
     "end_time": "2020-05-29T10:19:24.813440Z",
     "start_time": "2020-05-29T10:19:24.809411Z"
    }
   },
   "outputs": [],
   "source": [
    "X_train_origin = X_train_origin.to_numpy()\n",
    "y_train_origin = y_train_origin.to_numpy()\n",
    "y_train_origin = y_train_origin.ravel()"
   ]
  },
  {
   "cell_type": "code",
   "execution_count": 8,
   "metadata": {
    "ExecuteTime": {
     "end_time": "2020-05-29T10:19:24.999935Z",
     "start_time": "2020-05-29T10:19:24.996910Z"
    }
   },
   "outputs": [
    {
     "data": {
      "text/plain": [
       "((1460, 74), (1460,))"
      ]
     },
     "execution_count": 8,
     "metadata": {},
     "output_type": "execute_result"
    }
   ],
   "source": [
    "X_train_origin.shape,y_train_origin.shape"
   ]
  },
  {
   "cell_type": "code",
   "execution_count": 9,
   "metadata": {
    "ExecuteTime": {
     "end_time": "2020-05-29T10:19:26.457627Z",
     "start_time": "2020-05-29T10:19:26.452630Z"
    }
   },
   "outputs": [],
   "source": [
    "X_train, X_val, y_train, y_val = train_test_split(X_train_origin, y_train_origin, test_size=0.2, random_state=1) "
   ]
  },
  {
   "cell_type": "code",
   "execution_count": 10,
   "metadata": {
    "ExecuteTime": {
     "end_time": "2020-05-29T10:19:26.605362Z",
     "start_time": "2020-05-29T10:19:26.599393Z"
    }
   },
   "outputs": [
    {
     "data": {
      "text/plain": [
       "((1168, 74), (292, 74), (1168,), (292,))"
      ]
     },
     "execution_count": 10,
     "metadata": {},
     "output_type": "execute_result"
    }
   ],
   "source": [
    "X_train.shape, X_val.shape, y_train.shape, y_val.shape"
   ]
  },
  {
   "cell_type": "markdown",
   "metadata": {},
   "source": [
    "### Baseline"
   ]
  },
  {
   "cell_type": "code",
   "execution_count": 11,
   "metadata": {
    "ExecuteTime": {
     "end_time": "2020-05-29T10:19:27.687474Z",
     "start_time": "2020-05-29T10:19:27.681494Z"
    }
   },
   "outputs": [],
   "source": [
    "def modeling(model_name):\n",
    "    model=model_name()\n",
    "    model.fit(X_train,y_train)\n",
    "    y_pred = model.predict(X_val)\n",
    "    y_pred_no_log = np.expm1(y_pred)\n",
    "    y_val_no_log = np.expm1(y_val)\n",
    "    RMSE = math.sqrt(mean_squared_error(y_val_no_log,y_pred_no_log))\n",
    "    print(\"RMSE: \"+str(RMSE))\n",
    "    MAE = mean_absolute_error(y_val_no_log,y_pred_no_log)\n",
    "    print(\"MAE: \"+str(MAE))\n",
    "    R2=r2_score(y_val_no_log,y_pred_no_log)\n",
    "    print(\"R_square: \"+str(R2))"
   ]
  },
  {
   "cell_type": "code",
   "execution_count": 12,
   "metadata": {
    "ExecuteTime": {
     "end_time": "2020-05-29T10:19:28.910511Z",
     "start_time": "2020-05-29T10:19:28.857522Z"
    }
   },
   "outputs": [
    {
     "name": "stdout",
     "output_type": "stream",
     "text": [
      "RMSE: 38734.25269123501\n",
      "MAE: 18336.66210405226\n",
      "R_square: 0.78963064450471\n"
     ]
    }
   ],
   "source": [
    "modeling(LR) # reject"
   ]
  },
  {
   "cell_type": "code",
   "execution_count": 13,
   "metadata": {
    "ExecuteTime": {
     "end_time": "2020-05-29T10:19:43.045768Z",
     "start_time": "2020-05-29T10:19:43.024808Z"
    }
   },
   "outputs": [
    {
     "name": "stdout",
     "output_type": "stream",
     "text": [
      "RMSE: 81705.2949377076\n",
      "MAE: 53921.62067363013\n",
      "R_square: 0.06396407424779604\n"
     ]
    }
   ],
   "source": [
    "modeling(Lasso) # reject"
   ]
  },
  {
   "cell_type": "code",
   "execution_count": 14,
   "metadata": {
    "ExecuteTime": {
     "end_time": "2020-05-29T10:19:44.728268Z",
     "start_time": "2020-05-29T10:19:44.712334Z"
    }
   },
   "outputs": [
    {
     "name": "stdout",
     "output_type": "stream",
     "text": [
      "RMSE: 38696.78076455677\n",
      "MAE: 18305.391475471533\n",
      "R_square: 0.7900374747128446\n"
     ]
    }
   ],
   "source": [
    "modeling(Ridge) # reject"
   ]
  },
  {
   "cell_type": "code",
   "execution_count": 15,
   "metadata": {
    "ExecuteTime": {
     "end_time": "2020-05-29T10:19:46.880513Z",
     "start_time": "2020-05-29T10:19:46.873562Z"
    }
   },
   "outputs": [
    {
     "name": "stdout",
     "output_type": "stream",
     "text": [
      "RMSE: 62403.81622904341\n",
      "MAE: 36014.43096782633\n",
      "R_square: 0.45397263069049765\n"
     ]
    }
   ],
   "source": [
    "modeling(ElasticNet) # reject"
   ]
  },
  {
   "cell_type": "code",
   "execution_count": 16,
   "metadata": {
    "ExecuteTime": {
     "end_time": "2020-05-29T10:19:47.073996Z",
     "start_time": "2020-05-29T10:19:47.019142Z"
    }
   },
   "outputs": [
    {
     "name": "stdout",
     "output_type": "stream",
     "text": [
      "RMSE: 41567.55930701231\n",
      "MAE: 21716.195234870647\n",
      "R_square: 0.757729149613089\n"
     ]
    }
   ],
   "source": [
    "modeling(KNR) # reject"
   ]
  },
  {
   "cell_type": "code",
   "execution_count": 17,
   "metadata": {
    "ExecuteTime": {
     "end_time": "2020-05-29T10:19:47.253543Z",
     "start_time": "2020-05-29T10:19:47.172767Z"
    }
   },
   "outputs": [
    {
     "name": "stdout",
     "output_type": "stream",
     "text": [
      "RMSE: 39141.75796415196\n",
      "MAE: 19456.730576283855\n",
      "R_square: 0.7851809618165013\n"
     ]
    }
   ],
   "source": [
    "modeling(SVR) # reject"
   ]
  },
  {
   "cell_type": "code",
   "execution_count": 18,
   "metadata": {
    "ExecuteTime": {
     "end_time": "2020-05-29T10:19:51.972331Z",
     "start_time": "2020-05-29T10:19:48.943629Z"
    }
   },
   "outputs": [
    {
     "name": "stdout",
     "output_type": "stream",
     "text": [
      "RMSE: 38524.34845351734\n",
      "MAE: 20538.248420550655\n",
      "R_square: 0.7919044858582183\n"
     ]
    }
   ],
   "source": [
    "modeling(RFR) # reject"
   ]
  },
  {
   "cell_type": "code",
   "execution_count": 19,
   "metadata": {
    "ExecuteTime": {
     "end_time": "2020-05-29T10:19:52.528806Z",
     "start_time": "2020-05-29T10:19:51.973305Z"
    }
   },
   "outputs": [
    {
     "name": "stdout",
     "output_type": "stream",
     "text": [
      "RMSE: 40293.25206322671\n",
      "MAE: 25045.500551268342\n",
      "R_square: 0.7723557134266243\n"
     ]
    }
   ],
   "source": [
    "modeling(ABR) # reject"
   ]
  },
  {
   "cell_type": "code",
   "execution_count": 20,
   "metadata": {
    "ExecuteTime": {
     "end_time": "2020-05-29T10:19:54.200370Z",
     "start_time": "2020-05-29T10:19:52.529836Z"
    }
   },
   "outputs": [
    {
     "name": "stdout",
     "output_type": "stream",
     "text": [
      "RMSE: 32214.938945161346\n",
      "MAE: 18033.893925880122\n",
      "R_square: 0.8544853434119452\n"
     ]
    }
   ],
   "source": [
    "modeling(GBR) # accept"
   ]
  },
  {
   "cell_type": "code",
   "execution_count": 21,
   "metadata": {
    "ExecuteTime": {
     "end_time": "2020-05-29T10:19:54.628367Z",
     "start_time": "2020-05-29T10:19:54.201332Z"
    }
   },
   "outputs": [
    {
     "name": "stdout",
     "output_type": "stream",
     "text": [
      "[12:19:54] WARNING: src/objective/regression_obj.cu:152: reg:linear is now deprecated in favor of reg:squarederror.\n",
      "RMSE: 33033.135911442005\n",
      "MAE: 18926.783684717477\n",
      "R_square: 0.8469998974283094\n"
     ]
    }
   ],
   "source": [
    "modeling(XGBR) # accept"
   ]
  },
  {
   "cell_type": "code",
   "execution_count": 22,
   "metadata": {
    "ExecuteTime": {
     "end_time": "2020-05-29T10:19:55.045736Z",
     "start_time": "2020-05-29T10:19:54.629321Z"
    }
   },
   "outputs": [
    {
     "name": "stdout",
     "output_type": "stream",
     "text": [
      "RMSE: 34676.329838811806\n",
      "MAE: 18596.55068242809\n",
      "R_square: 0.8313996918360319\n"
     ]
    }
   ],
   "source": [
    "modeling(LGBMR) # accept"
   ]
  },
  {
   "cell_type": "code",
   "execution_count": 24,
   "metadata": {
    "ExecuteTime": {
     "end_time": "2020-05-29T10:27:21.714378Z",
     "start_time": "2020-05-29T10:27:15.431228Z"
    }
   },
   "outputs": [
    {
     "name": "stdout",
     "output_type": "stream",
     "text": [
      "Learning rate set to 0.040124\n",
      "0:\tlearn: 0.3855145\ttotal: 81.5ms\tremaining: 1m 21s\n",
      "1:\tlearn: 0.3769883\ttotal: 93.9ms\tremaining: 46.9s\n",
      "2:\tlearn: 0.3699629\ttotal: 106ms\tremaining: 35.1s\n",
      "3:\tlearn: 0.3623353\ttotal: 112ms\tremaining: 27.8s\n",
      "4:\tlearn: 0.3545791\ttotal: 117ms\tremaining: 23.4s\n",
      "5:\tlearn: 0.3462391\ttotal: 122ms\tremaining: 20.3s\n",
      "6:\tlearn: 0.3392832\ttotal: 128ms\tremaining: 18.2s\n",
      "7:\tlearn: 0.3325403\ttotal: 133ms\tremaining: 16.5s\n",
      "8:\tlearn: 0.3257890\ttotal: 138ms\tremaining: 15.2s\n",
      "9:\tlearn: 0.3199255\ttotal: 143ms\tremaining: 14.2s\n",
      "10:\tlearn: 0.3128725\ttotal: 148ms\tremaining: 13.3s\n",
      "11:\tlearn: 0.3061000\ttotal: 154ms\tremaining: 12.6s\n",
      "12:\tlearn: 0.3005820\ttotal: 159ms\tremaining: 12s\n",
      "13:\tlearn: 0.2949150\ttotal: 164ms\tremaining: 11.5s\n",
      "14:\tlearn: 0.2899846\ttotal: 169ms\tremaining: 11.1s\n",
      "15:\tlearn: 0.2845032\ttotal: 174ms\tremaining: 10.7s\n",
      "16:\tlearn: 0.2792911\ttotal: 180ms\tremaining: 10.4s\n",
      "17:\tlearn: 0.2747364\ttotal: 186ms\tremaining: 10.2s\n",
      "18:\tlearn: 0.2705875\ttotal: 193ms\tremaining: 9.94s\n",
      "19:\tlearn: 0.2658184\ttotal: 198ms\tremaining: 9.72s\n",
      "20:\tlearn: 0.2620319\ttotal: 204ms\tremaining: 9.53s\n",
      "21:\tlearn: 0.2579956\ttotal: 210ms\tremaining: 9.33s\n",
      "22:\tlearn: 0.2543829\ttotal: 215ms\tremaining: 9.14s\n",
      "23:\tlearn: 0.2505600\ttotal: 221ms\tremaining: 8.97s\n",
      "24:\tlearn: 0.2463460\ttotal: 226ms\tremaining: 8.81s\n",
      "25:\tlearn: 0.2430007\ttotal: 231ms\tremaining: 8.66s\n",
      "26:\tlearn: 0.2396602\ttotal: 237ms\tremaining: 8.53s\n",
      "27:\tlearn: 0.2363813\ttotal: 242ms\tremaining: 8.4s\n",
      "28:\tlearn: 0.2334798\ttotal: 248ms\tremaining: 8.29s\n",
      "29:\tlearn: 0.2303474\ttotal: 253ms\tremaining: 8.18s\n",
      "30:\tlearn: 0.2271917\ttotal: 258ms\tremaining: 8.07s\n",
      "31:\tlearn: 0.2241285\ttotal: 264ms\tremaining: 7.98s\n",
      "32:\tlearn: 0.2215710\ttotal: 269ms\tremaining: 7.88s\n",
      "33:\tlearn: 0.2184911\ttotal: 274ms\tremaining: 7.79s\n",
      "34:\tlearn: 0.2160791\ttotal: 280ms\tremaining: 7.71s\n",
      "35:\tlearn: 0.2138516\ttotal: 285ms\tremaining: 7.62s\n",
      "36:\tlearn: 0.2115522\ttotal: 290ms\tremaining: 7.54s\n",
      "37:\tlearn: 0.2096687\ttotal: 295ms\tremaining: 7.46s\n",
      "38:\tlearn: 0.2072233\ttotal: 300ms\tremaining: 7.39s\n",
      "39:\tlearn: 0.2049966\ttotal: 305ms\tremaining: 7.32s\n",
      "40:\tlearn: 0.2030640\ttotal: 310ms\tremaining: 7.25s\n",
      "41:\tlearn: 0.2015813\ttotal: 316ms\tremaining: 7.2s\n",
      "42:\tlearn: 0.1998406\ttotal: 321ms\tremaining: 7.13s\n",
      "43:\tlearn: 0.1976763\ttotal: 326ms\tremaining: 7.08s\n",
      "44:\tlearn: 0.1960726\ttotal: 331ms\tremaining: 7.02s\n",
      "45:\tlearn: 0.1941231\ttotal: 336ms\tremaining: 6.97s\n",
      "46:\tlearn: 0.1924549\ttotal: 341ms\tremaining: 6.92s\n",
      "47:\tlearn: 0.1908211\ttotal: 347ms\tremaining: 6.89s\n",
      "48:\tlearn: 0.1892633\ttotal: 353ms\tremaining: 6.85s\n",
      "49:\tlearn: 0.1877864\ttotal: 360ms\tremaining: 6.83s\n",
      "50:\tlearn: 0.1865526\ttotal: 365ms\tremaining: 6.79s\n",
      "51:\tlearn: 0.1853823\ttotal: 371ms\tremaining: 6.75s\n",
      "52:\tlearn: 0.1836940\ttotal: 376ms\tremaining: 6.72s\n",
      "53:\tlearn: 0.1822704\ttotal: 382ms\tremaining: 6.69s\n",
      "54:\tlearn: 0.1807326\ttotal: 388ms\tremaining: 6.66s\n",
      "55:\tlearn: 0.1792360\ttotal: 393ms\tremaining: 6.63s\n",
      "56:\tlearn: 0.1777871\ttotal: 399ms\tremaining: 6.6s\n",
      "57:\tlearn: 0.1764421\ttotal: 404ms\tremaining: 6.56s\n",
      "58:\tlearn: 0.1750574\ttotal: 410ms\tremaining: 6.53s\n",
      "59:\tlearn: 0.1737413\ttotal: 415ms\tremaining: 6.5s\n",
      "60:\tlearn: 0.1724819\ttotal: 421ms\tremaining: 6.47s\n",
      "61:\tlearn: 0.1715722\ttotal: 426ms\tremaining: 6.45s\n",
      "62:\tlearn: 0.1703165\ttotal: 432ms\tremaining: 6.42s\n",
      "63:\tlearn: 0.1690147\ttotal: 437ms\tremaining: 6.39s\n",
      "64:\tlearn: 0.1682995\ttotal: 442ms\tremaining: 6.36s\n",
      "65:\tlearn: 0.1672602\ttotal: 448ms\tremaining: 6.34s\n",
      "66:\tlearn: 0.1662298\ttotal: 454ms\tremaining: 6.32s\n",
      "67:\tlearn: 0.1651048\ttotal: 460ms\tremaining: 6.3s\n",
      "68:\tlearn: 0.1639086\ttotal: 466ms\tremaining: 6.29s\n",
      "69:\tlearn: 0.1630606\ttotal: 471ms\tremaining: 6.26s\n",
      "70:\tlearn: 0.1619604\ttotal: 477ms\tremaining: 6.24s\n",
      "71:\tlearn: 0.1610906\ttotal: 483ms\tremaining: 6.22s\n",
      "72:\tlearn: 0.1603007\ttotal: 489ms\tremaining: 6.2s\n",
      "73:\tlearn: 0.1594596\ttotal: 494ms\tremaining: 6.18s\n",
      "74:\tlearn: 0.1586390\ttotal: 500ms\tremaining: 6.16s\n",
      "75:\tlearn: 0.1577343\ttotal: 505ms\tremaining: 6.14s\n",
      "76:\tlearn: 0.1570369\ttotal: 511ms\tremaining: 6.12s\n",
      "77:\tlearn: 0.1560016\ttotal: 516ms\tremaining: 6.1s\n",
      "78:\tlearn: 0.1553259\ttotal: 521ms\tremaining: 6.07s\n",
      "79:\tlearn: 0.1546807\ttotal: 527ms\tremaining: 6.05s\n",
      "80:\tlearn: 0.1540835\ttotal: 532ms\tremaining: 6.04s\n",
      "81:\tlearn: 0.1529528\ttotal: 538ms\tremaining: 6.02s\n",
      "82:\tlearn: 0.1522236\ttotal: 545ms\tremaining: 6.02s\n",
      "83:\tlearn: 0.1514375\ttotal: 552ms\tremaining: 6.02s\n",
      "84:\tlearn: 0.1507295\ttotal: 558ms\tremaining: 6s\n",
      "85:\tlearn: 0.1500921\ttotal: 563ms\tremaining: 5.99s\n",
      "86:\tlearn: 0.1492987\ttotal: 569ms\tremaining: 5.97s\n",
      "87:\tlearn: 0.1484534\ttotal: 575ms\tremaining: 5.96s\n",
      "88:\tlearn: 0.1476727\ttotal: 581ms\tremaining: 5.94s\n",
      "89:\tlearn: 0.1468503\ttotal: 586ms\tremaining: 5.93s\n",
      "90:\tlearn: 0.1461441\ttotal: 592ms\tremaining: 5.92s\n",
      "91:\tlearn: 0.1457353\ttotal: 598ms\tremaining: 5.91s\n",
      "92:\tlearn: 0.1451810\ttotal: 604ms\tremaining: 5.89s\n",
      "93:\tlearn: 0.1447858\ttotal: 610ms\tremaining: 5.88s\n",
      "94:\tlearn: 0.1442422\ttotal: 616ms\tremaining: 5.87s\n",
      "95:\tlearn: 0.1437296\ttotal: 622ms\tremaining: 5.86s\n",
      "96:\tlearn: 0.1430733\ttotal: 628ms\tremaining: 5.84s\n",
      "97:\tlearn: 0.1423230\ttotal: 633ms\tremaining: 5.83s\n",
      "98:\tlearn: 0.1417512\ttotal: 639ms\tremaining: 5.81s\n",
      "99:\tlearn: 0.1412552\ttotal: 645ms\tremaining: 5.8s\n",
      "100:\tlearn: 0.1405826\ttotal: 651ms\tremaining: 5.79s\n",
      "101:\tlearn: 0.1397741\ttotal: 657ms\tremaining: 5.78s\n",
      "102:\tlearn: 0.1391702\ttotal: 663ms\tremaining: 5.77s\n",
      "103:\tlearn: 0.1385567\ttotal: 669ms\tremaining: 5.76s\n",
      "104:\tlearn: 0.1381750\ttotal: 675ms\tremaining: 5.75s\n",
      "105:\tlearn: 0.1378303\ttotal: 681ms\tremaining: 5.74s\n",
      "106:\tlearn: 0.1372978\ttotal: 686ms\tremaining: 5.73s\n",
      "107:\tlearn: 0.1367881\ttotal: 692ms\tremaining: 5.71s\n",
      "108:\tlearn: 0.1362109\ttotal: 697ms\tremaining: 5.7s\n",
      "109:\tlearn: 0.1357306\ttotal: 703ms\tremaining: 5.69s\n",
      "110:\tlearn: 0.1351277\ttotal: 710ms\tremaining: 5.68s\n",
      "111:\tlearn: 0.1346586\ttotal: 717ms\tremaining: 5.68s\n",
      "112:\tlearn: 0.1341458\ttotal: 723ms\tremaining: 5.67s\n",
      "113:\tlearn: 0.1337890\ttotal: 729ms\tremaining: 5.66s\n",
      "114:\tlearn: 0.1332325\ttotal: 735ms\tremaining: 5.66s\n",
      "115:\tlearn: 0.1326606\ttotal: 742ms\tremaining: 5.65s\n",
      "116:\tlearn: 0.1321835\ttotal: 747ms\tremaining: 5.64s\n",
      "117:\tlearn: 0.1315650\ttotal: 753ms\tremaining: 5.63s\n",
      "118:\tlearn: 0.1308905\ttotal: 758ms\tremaining: 5.61s\n",
      "119:\tlearn: 0.1304838\ttotal: 764ms\tremaining: 5.6s\n",
      "120:\tlearn: 0.1300932\ttotal: 769ms\tremaining: 5.58s\n",
      "121:\tlearn: 0.1296917\ttotal: 774ms\tremaining: 5.57s\n",
      "122:\tlearn: 0.1291171\ttotal: 779ms\tremaining: 5.56s\n",
      "123:\tlearn: 0.1286184\ttotal: 785ms\tremaining: 5.54s\n",
      "124:\tlearn: 0.1281113\ttotal: 790ms\tremaining: 5.53s\n",
      "125:\tlearn: 0.1277030\ttotal: 795ms\tremaining: 5.52s\n",
      "126:\tlearn: 0.1273222\ttotal: 801ms\tremaining: 5.5s\n",
      "127:\tlearn: 0.1269541\ttotal: 807ms\tremaining: 5.5s\n",
      "128:\tlearn: 0.1265660\ttotal: 812ms\tremaining: 5.48s\n",
      "129:\tlearn: 0.1261338\ttotal: 818ms\tremaining: 5.47s\n",
      "130:\tlearn: 0.1257624\ttotal: 823ms\tremaining: 5.46s\n",
      "131:\tlearn: 0.1253880\ttotal: 828ms\tremaining: 5.44s\n",
      "132:\tlearn: 0.1250313\ttotal: 833ms\tremaining: 5.43s\n",
      "133:\tlearn: 0.1246321\ttotal: 838ms\tremaining: 5.42s\n",
      "134:\tlearn: 0.1241253\ttotal: 844ms\tremaining: 5.41s\n",
      "135:\tlearn: 0.1236560\ttotal: 849ms\tremaining: 5.39s\n",
      "136:\tlearn: 0.1231891\ttotal: 855ms\tremaining: 5.38s\n",
      "137:\tlearn: 0.1228196\ttotal: 860ms\tremaining: 5.37s\n",
      "138:\tlearn: 0.1224285\ttotal: 865ms\tremaining: 5.36s\n",
      "139:\tlearn: 0.1219967\ttotal: 871ms\tremaining: 5.35s\n",
      "140:\tlearn: 0.1216634\ttotal: 876ms\tremaining: 5.34s\n",
      "141:\tlearn: 0.1213232\ttotal: 882ms\tremaining: 5.33s\n",
      "142:\tlearn: 0.1211001\ttotal: 888ms\tremaining: 5.32s\n",
      "143:\tlearn: 0.1208492\ttotal: 894ms\tremaining: 5.31s\n",
      "144:\tlearn: 0.1203688\ttotal: 901ms\tremaining: 5.31s\n",
      "145:\tlearn: 0.1199937\ttotal: 906ms\tremaining: 5.3s\n",
      "146:\tlearn: 0.1195064\ttotal: 912ms\tremaining: 5.29s\n",
      "147:\tlearn: 0.1192176\ttotal: 918ms\tremaining: 5.28s\n",
      "148:\tlearn: 0.1188610\ttotal: 924ms\tremaining: 5.28s\n",
      "149:\tlearn: 0.1184935\ttotal: 930ms\tremaining: 5.27s\n",
      "150:\tlearn: 0.1181170\ttotal: 936ms\tremaining: 5.26s\n",
      "151:\tlearn: 0.1177607\ttotal: 941ms\tremaining: 5.25s\n",
      "152:\tlearn: 0.1174458\ttotal: 947ms\tremaining: 5.24s\n",
      "153:\tlearn: 0.1170062\ttotal: 953ms\tremaining: 5.23s\n",
      "154:\tlearn: 0.1166870\ttotal: 958ms\tremaining: 5.22s\n",
      "155:\tlearn: 0.1163043\ttotal: 964ms\tremaining: 5.21s\n",
      "156:\tlearn: 0.1159299\ttotal: 969ms\tremaining: 5.2s\n",
      "157:\tlearn: 0.1154942\ttotal: 974ms\tremaining: 5.19s\n",
      "158:\tlearn: 0.1151382\ttotal: 979ms\tremaining: 5.18s\n",
      "159:\tlearn: 0.1148855\ttotal: 984ms\tremaining: 5.17s\n",
      "160:\tlearn: 0.1145995\ttotal: 989ms\tremaining: 5.15s\n",
      "161:\tlearn: 0.1143071\ttotal: 994ms\tremaining: 5.14s\n",
      "162:\tlearn: 0.1140721\ttotal: 1000ms\tremaining: 5.13s\n",
      "163:\tlearn: 0.1137072\ttotal: 1s\tremaining: 5.12s\n",
      "164:\tlearn: 0.1134771\ttotal: 1.01s\tremaining: 5.11s\n",
      "165:\tlearn: 0.1131038\ttotal: 1.01s\tremaining: 5.1s\n",
      "166:\tlearn: 0.1128107\ttotal: 1.02s\tremaining: 5.09s\n",
      "167:\tlearn: 0.1125212\ttotal: 1.02s\tremaining: 5.08s\n",
      "168:\tlearn: 0.1121885\ttotal: 1.03s\tremaining: 5.07s\n",
      "169:\tlearn: 0.1118387\ttotal: 1.04s\tremaining: 5.06s\n",
      "170:\tlearn: 0.1114510\ttotal: 1.04s\tremaining: 5.05s\n",
      "171:\tlearn: 0.1111959\ttotal: 1.05s\tremaining: 5.04s\n"
     ]
    },
    {
     "name": "stdout",
     "output_type": "stream",
     "text": [
      "172:\tlearn: 0.1109257\ttotal: 1.05s\tremaining: 5.03s\n",
      "173:\tlearn: 0.1105880\ttotal: 1.06s\tremaining: 5.03s\n",
      "174:\tlearn: 0.1102295\ttotal: 1.06s\tremaining: 5.02s\n",
      "175:\tlearn: 0.1099862\ttotal: 1.07s\tremaining: 5.01s\n",
      "176:\tlearn: 0.1096838\ttotal: 1.08s\tremaining: 5.01s\n",
      "177:\tlearn: 0.1093887\ttotal: 1.08s\tremaining: 5s\n",
      "178:\tlearn: 0.1090892\ttotal: 1.09s\tremaining: 4.99s\n",
      "179:\tlearn: 0.1086616\ttotal: 1.09s\tremaining: 4.99s\n",
      "180:\tlearn: 0.1084142\ttotal: 1.1s\tremaining: 4.98s\n",
      "181:\tlearn: 0.1081127\ttotal: 1.11s\tremaining: 4.97s\n",
      "182:\tlearn: 0.1077380\ttotal: 1.11s\tremaining: 4.96s\n",
      "183:\tlearn: 0.1073894\ttotal: 1.12s\tremaining: 4.95s\n",
      "184:\tlearn: 0.1068630\ttotal: 1.12s\tremaining: 4.95s\n",
      "185:\tlearn: 0.1064171\ttotal: 1.13s\tremaining: 4.94s\n",
      "186:\tlearn: 0.1061055\ttotal: 1.14s\tremaining: 4.93s\n",
      "187:\tlearn: 0.1057917\ttotal: 1.14s\tremaining: 4.93s\n",
      "188:\tlearn: 0.1056129\ttotal: 1.15s\tremaining: 4.92s\n",
      "189:\tlearn: 0.1053065\ttotal: 1.15s\tremaining: 4.91s\n",
      "190:\tlearn: 0.1050558\ttotal: 1.16s\tremaining: 4.9s\n",
      "191:\tlearn: 0.1048419\ttotal: 1.16s\tremaining: 4.89s\n",
      "192:\tlearn: 0.1045647\ttotal: 1.17s\tremaining: 4.89s\n",
      "193:\tlearn: 0.1043421\ttotal: 1.17s\tremaining: 4.88s\n",
      "194:\tlearn: 0.1040420\ttotal: 1.18s\tremaining: 4.87s\n",
      "195:\tlearn: 0.1037050\ttotal: 1.18s\tremaining: 4.86s\n",
      "196:\tlearn: 0.1034193\ttotal: 1.19s\tremaining: 4.85s\n",
      "197:\tlearn: 0.1031300\ttotal: 1.19s\tremaining: 4.84s\n",
      "198:\tlearn: 0.1029579\ttotal: 1.2s\tremaining: 4.83s\n",
      "199:\tlearn: 0.1026929\ttotal: 1.21s\tremaining: 4.82s\n",
      "200:\tlearn: 0.1025944\ttotal: 1.21s\tremaining: 4.81s\n",
      "201:\tlearn: 0.1023881\ttotal: 1.22s\tremaining: 4.8s\n",
      "202:\tlearn: 0.1020981\ttotal: 1.22s\tremaining: 4.8s\n",
      "203:\tlearn: 0.1017587\ttotal: 1.23s\tremaining: 4.79s\n",
      "204:\tlearn: 0.1013427\ttotal: 1.23s\tremaining: 4.79s\n",
      "205:\tlearn: 0.1011481\ttotal: 1.24s\tremaining: 4.78s\n",
      "206:\tlearn: 0.1008131\ttotal: 1.25s\tremaining: 4.77s\n",
      "207:\tlearn: 0.1005158\ttotal: 1.25s\tremaining: 4.77s\n",
      "208:\tlearn: 0.1002930\ttotal: 1.26s\tremaining: 4.76s\n",
      "209:\tlearn: 0.1000885\ttotal: 1.26s\tremaining: 4.75s\n",
      "210:\tlearn: 0.0998529\ttotal: 1.27s\tremaining: 4.74s\n",
      "211:\tlearn: 0.0995716\ttotal: 1.27s\tremaining: 4.74s\n",
      "212:\tlearn: 0.0991988\ttotal: 1.28s\tremaining: 4.73s\n",
      "213:\tlearn: 0.0987891\ttotal: 1.29s\tremaining: 4.72s\n",
      "214:\tlearn: 0.0985597\ttotal: 1.29s\tremaining: 4.72s\n",
      "215:\tlearn: 0.0982256\ttotal: 1.3s\tremaining: 4.71s\n",
      "216:\tlearn: 0.0980513\ttotal: 1.3s\tremaining: 4.7s\n",
      "217:\tlearn: 0.0978189\ttotal: 1.31s\tremaining: 4.7s\n",
      "218:\tlearn: 0.0974678\ttotal: 1.31s\tremaining: 4.69s\n",
      "219:\tlearn: 0.0971517\ttotal: 1.32s\tremaining: 4.68s\n",
      "220:\tlearn: 0.0969676\ttotal: 1.32s\tremaining: 4.67s\n",
      "221:\tlearn: 0.0966830\ttotal: 1.33s\tremaining: 4.66s\n",
      "222:\tlearn: 0.0962644\ttotal: 1.34s\tremaining: 4.66s\n",
      "223:\tlearn: 0.0959564\ttotal: 1.34s\tremaining: 4.65s\n",
      "224:\tlearn: 0.0956420\ttotal: 1.35s\tremaining: 4.64s\n",
      "225:\tlearn: 0.0953319\ttotal: 1.35s\tremaining: 4.63s\n",
      "226:\tlearn: 0.0950448\ttotal: 1.36s\tremaining: 4.62s\n",
      "227:\tlearn: 0.0946105\ttotal: 1.36s\tremaining: 4.61s\n",
      "228:\tlearn: 0.0943979\ttotal: 1.37s\tremaining: 4.6s\n",
      "229:\tlearn: 0.0939964\ttotal: 1.37s\tremaining: 4.6s\n",
      "230:\tlearn: 0.0936945\ttotal: 1.38s\tremaining: 4.59s\n",
      "231:\tlearn: 0.0936036\ttotal: 1.38s\tremaining: 4.58s\n",
      "232:\tlearn: 0.0932433\ttotal: 1.39s\tremaining: 4.58s\n",
      "233:\tlearn: 0.0929321\ttotal: 1.4s\tremaining: 4.57s\n",
      "234:\tlearn: 0.0926408\ttotal: 1.4s\tremaining: 4.56s\n",
      "235:\tlearn: 0.0922748\ttotal: 1.41s\tremaining: 4.56s\n",
      "236:\tlearn: 0.0920758\ttotal: 1.41s\tremaining: 4.55s\n",
      "237:\tlearn: 0.0918582\ttotal: 1.42s\tremaining: 4.55s\n",
      "238:\tlearn: 0.0917447\ttotal: 1.43s\tremaining: 4.54s\n",
      "239:\tlearn: 0.0914283\ttotal: 1.43s\tremaining: 4.54s\n",
      "240:\tlearn: 0.0910908\ttotal: 1.44s\tremaining: 4.53s\n",
      "241:\tlearn: 0.0908065\ttotal: 1.44s\tremaining: 4.52s\n",
      "242:\tlearn: 0.0904343\ttotal: 1.45s\tremaining: 4.52s\n",
      "243:\tlearn: 0.0902162\ttotal: 1.46s\tremaining: 4.51s\n",
      "244:\tlearn: 0.0899297\ttotal: 1.46s\tremaining: 4.5s\n",
      "245:\tlearn: 0.0895998\ttotal: 1.47s\tremaining: 4.5s\n",
      "246:\tlearn: 0.0893040\ttotal: 1.47s\tremaining: 4.49s\n",
      "247:\tlearn: 0.0890247\ttotal: 1.48s\tremaining: 4.49s\n",
      "248:\tlearn: 0.0887778\ttotal: 1.49s\tremaining: 4.48s\n",
      "249:\tlearn: 0.0885164\ttotal: 1.49s\tremaining: 4.47s\n",
      "250:\tlearn: 0.0882318\ttotal: 1.5s\tremaining: 4.47s\n",
      "251:\tlearn: 0.0879242\ttotal: 1.5s\tremaining: 4.46s\n",
      "252:\tlearn: 0.0876252\ttotal: 1.51s\tremaining: 4.45s\n",
      "253:\tlearn: 0.0873134\ttotal: 1.51s\tremaining: 4.45s\n",
      "254:\tlearn: 0.0870264\ttotal: 1.52s\tremaining: 4.44s\n",
      "255:\tlearn: 0.0866941\ttotal: 1.52s\tremaining: 4.43s\n",
      "256:\tlearn: 0.0864711\ttotal: 1.53s\tremaining: 4.43s\n",
      "257:\tlearn: 0.0861895\ttotal: 1.54s\tremaining: 4.42s\n",
      "258:\tlearn: 0.0859496\ttotal: 1.54s\tremaining: 4.42s\n",
      "259:\tlearn: 0.0856763\ttotal: 1.55s\tremaining: 4.41s\n",
      "260:\tlearn: 0.0854065\ttotal: 1.56s\tremaining: 4.41s\n",
      "261:\tlearn: 0.0851162\ttotal: 1.56s\tremaining: 4.4s\n",
      "262:\tlearn: 0.0848585\ttotal: 1.57s\tremaining: 4.4s\n",
      "263:\tlearn: 0.0845847\ttotal: 1.57s\tremaining: 4.39s\n",
      "264:\tlearn: 0.0842790\ttotal: 1.58s\tremaining: 4.38s\n",
      "265:\tlearn: 0.0840696\ttotal: 1.59s\tremaining: 4.38s\n",
      "266:\tlearn: 0.0838025\ttotal: 1.59s\tremaining: 4.37s\n",
      "267:\tlearn: 0.0835511\ttotal: 1.6s\tremaining: 4.37s\n",
      "268:\tlearn: 0.0832761\ttotal: 1.61s\tremaining: 4.37s\n",
      "269:\tlearn: 0.0831258\ttotal: 1.61s\tremaining: 4.36s\n",
      "270:\tlearn: 0.0828989\ttotal: 1.62s\tremaining: 4.35s\n",
      "271:\tlearn: 0.0826911\ttotal: 1.62s\tremaining: 4.34s\n",
      "272:\tlearn: 0.0824577\ttotal: 1.63s\tremaining: 4.34s\n",
      "273:\tlearn: 0.0823542\ttotal: 1.64s\tremaining: 4.33s\n",
      "274:\tlearn: 0.0820925\ttotal: 1.64s\tremaining: 4.33s\n",
      "275:\tlearn: 0.0819108\ttotal: 1.65s\tremaining: 4.32s\n",
      "276:\tlearn: 0.0815958\ttotal: 1.65s\tremaining: 4.31s\n",
      "277:\tlearn: 0.0813350\ttotal: 1.66s\tremaining: 4.31s\n",
      "278:\tlearn: 0.0810323\ttotal: 1.66s\tremaining: 4.3s\n",
      "279:\tlearn: 0.0807848\ttotal: 1.67s\tremaining: 4.29s\n",
      "280:\tlearn: 0.0805762\ttotal: 1.68s\tremaining: 4.29s\n",
      "281:\tlearn: 0.0803321\ttotal: 1.68s\tremaining: 4.28s\n",
      "282:\tlearn: 0.0800801\ttotal: 1.69s\tremaining: 4.27s\n",
      "283:\tlearn: 0.0799786\ttotal: 1.69s\tremaining: 4.27s\n",
      "284:\tlearn: 0.0797272\ttotal: 1.7s\tremaining: 4.26s\n",
      "285:\tlearn: 0.0796118\ttotal: 1.7s\tremaining: 4.25s\n",
      "286:\tlearn: 0.0793477\ttotal: 1.71s\tremaining: 4.25s\n",
      "287:\tlearn: 0.0791338\ttotal: 1.72s\tremaining: 4.24s\n",
      "288:\tlearn: 0.0789032\ttotal: 1.72s\tremaining: 4.24s\n",
      "289:\tlearn: 0.0786795\ttotal: 1.73s\tremaining: 4.23s\n",
      "290:\tlearn: 0.0784640\ttotal: 1.73s\tremaining: 4.22s\n",
      "291:\tlearn: 0.0782337\ttotal: 1.74s\tremaining: 4.21s\n",
      "292:\tlearn: 0.0779462\ttotal: 1.74s\tremaining: 4.2s\n",
      "293:\tlearn: 0.0777492\ttotal: 1.75s\tremaining: 4.2s\n",
      "294:\tlearn: 0.0774541\ttotal: 1.75s\tremaining: 4.19s\n",
      "295:\tlearn: 0.0771955\ttotal: 1.76s\tremaining: 4.19s\n",
      "296:\tlearn: 0.0769863\ttotal: 1.77s\tremaining: 4.18s\n",
      "297:\tlearn: 0.0768107\ttotal: 1.77s\tremaining: 4.17s\n",
      "298:\tlearn: 0.0765920\ttotal: 1.78s\tremaining: 4.17s\n",
      "299:\tlearn: 0.0763595\ttotal: 1.78s\tremaining: 4.16s\n",
      "300:\tlearn: 0.0759868\ttotal: 1.79s\tremaining: 4.15s\n",
      "301:\tlearn: 0.0757674\ttotal: 1.79s\tremaining: 4.14s\n",
      "302:\tlearn: 0.0755269\ttotal: 1.8s\tremaining: 4.14s\n",
      "303:\tlearn: 0.0753027\ttotal: 1.8s\tremaining: 4.13s\n",
      "304:\tlearn: 0.0750259\ttotal: 1.81s\tremaining: 4.12s\n",
      "305:\tlearn: 0.0748497\ttotal: 1.81s\tremaining: 4.11s\n",
      "306:\tlearn: 0.0746795\ttotal: 1.82s\tremaining: 4.11s\n",
      "307:\tlearn: 0.0744792\ttotal: 1.82s\tremaining: 4.1s\n",
      "308:\tlearn: 0.0743343\ttotal: 1.83s\tremaining: 4.09s\n",
      "309:\tlearn: 0.0741573\ttotal: 1.83s\tremaining: 4.09s\n",
      "310:\tlearn: 0.0738609\ttotal: 1.84s\tremaining: 4.08s\n",
      "311:\tlearn: 0.0736903\ttotal: 1.85s\tremaining: 4.07s\n",
      "312:\tlearn: 0.0735152\ttotal: 1.85s\tremaining: 4.06s\n",
      "313:\tlearn: 0.0733471\ttotal: 1.86s\tremaining: 4.06s\n",
      "314:\tlearn: 0.0731554\ttotal: 1.86s\tremaining: 4.05s\n",
      "315:\tlearn: 0.0728722\ttotal: 1.87s\tremaining: 4.04s\n",
      "316:\tlearn: 0.0726821\ttotal: 1.87s\tremaining: 4.04s\n",
      "317:\tlearn: 0.0724496\ttotal: 1.88s\tremaining: 4.03s\n",
      "318:\tlearn: 0.0721836\ttotal: 1.88s\tremaining: 4.02s\n",
      "319:\tlearn: 0.0719727\ttotal: 1.89s\tremaining: 4.01s\n",
      "320:\tlearn: 0.0717421\ttotal: 1.9s\tremaining: 4.01s\n",
      "321:\tlearn: 0.0715346\ttotal: 1.9s\tremaining: 4s\n",
      "322:\tlearn: 0.0713309\ttotal: 1.91s\tremaining: 4s\n",
      "323:\tlearn: 0.0712081\ttotal: 1.91s\tremaining: 3.99s\n",
      "324:\tlearn: 0.0709858\ttotal: 1.92s\tremaining: 3.98s\n",
      "325:\tlearn: 0.0708219\ttotal: 1.92s\tremaining: 3.97s\n",
      "326:\tlearn: 0.0706624\ttotal: 1.93s\tremaining: 3.97s\n",
      "327:\tlearn: 0.0704656\ttotal: 1.93s\tremaining: 3.96s\n",
      "328:\tlearn: 0.0702935\ttotal: 1.94s\tremaining: 3.96s\n",
      "329:\tlearn: 0.0701347\ttotal: 1.95s\tremaining: 3.95s\n",
      "330:\tlearn: 0.0698733\ttotal: 1.95s\tremaining: 3.95s\n",
      "331:\tlearn: 0.0696754\ttotal: 1.96s\tremaining: 3.94s\n",
      "332:\tlearn: 0.0695215\ttotal: 1.96s\tremaining: 3.93s\n",
      "333:\tlearn: 0.0693911\ttotal: 1.97s\tremaining: 3.93s\n",
      "334:\tlearn: 0.0691476\ttotal: 1.98s\tremaining: 3.92s\n",
      "335:\tlearn: 0.0689638\ttotal: 1.98s\tremaining: 3.91s\n",
      "336:\tlearn: 0.0688285\ttotal: 1.99s\tremaining: 3.91s\n",
      "337:\tlearn: 0.0685902\ttotal: 1.99s\tremaining: 3.9s\n",
      "338:\tlearn: 0.0684246\ttotal: 2s\tremaining: 3.9s\n",
      "339:\tlearn: 0.0682654\ttotal: 2s\tremaining: 3.89s\n",
      "340:\tlearn: 0.0680774\ttotal: 2.01s\tremaining: 3.88s\n",
      "341:\tlearn: 0.0678694\ttotal: 2.02s\tremaining: 3.88s\n",
      "342:\tlearn: 0.0676086\ttotal: 2.02s\tremaining: 3.87s\n",
      "343:\tlearn: 0.0674280\ttotal: 2.03s\tremaining: 3.87s\n",
      "344:\tlearn: 0.0672230\ttotal: 2.03s\tremaining: 3.86s\n",
      "345:\tlearn: 0.0670659\ttotal: 2.04s\tremaining: 3.85s\n",
      "346:\tlearn: 0.0668378\ttotal: 2.04s\tremaining: 3.85s\n",
      "347:\tlearn: 0.0666441\ttotal: 2.05s\tremaining: 3.84s\n",
      "348:\tlearn: 0.0665665\ttotal: 2.05s\tremaining: 3.83s\n",
      "349:\tlearn: 0.0664517\ttotal: 2.06s\tremaining: 3.83s\n",
      "350:\tlearn: 0.0663307\ttotal: 2.06s\tremaining: 3.82s\n",
      "351:\tlearn: 0.0662014\ttotal: 2.07s\tremaining: 3.81s\n",
      "352:\tlearn: 0.0659605\ttotal: 2.08s\tremaining: 3.81s\n",
      "353:\tlearn: 0.0657442\ttotal: 2.08s\tremaining: 3.8s\n",
      "354:\tlearn: 0.0656410\ttotal: 2.09s\tremaining: 3.79s\n",
      "355:\tlearn: 0.0654100\ttotal: 2.09s\tremaining: 3.79s\n",
      "356:\tlearn: 0.0652667\ttotal: 2.1s\tremaining: 3.78s\n"
     ]
    },
    {
     "name": "stdout",
     "output_type": "stream",
     "text": [
      "357:\tlearn: 0.0651120\ttotal: 2.1s\tremaining: 3.77s\n",
      "358:\tlearn: 0.0649713\ttotal: 2.11s\tremaining: 3.77s\n",
      "359:\tlearn: 0.0647678\ttotal: 2.12s\tremaining: 3.76s\n",
      "360:\tlearn: 0.0646190\ttotal: 2.12s\tremaining: 3.76s\n",
      "361:\tlearn: 0.0645456\ttotal: 2.13s\tremaining: 3.75s\n",
      "362:\tlearn: 0.0643514\ttotal: 2.13s\tremaining: 3.75s\n",
      "363:\tlearn: 0.0643071\ttotal: 2.14s\tremaining: 3.74s\n",
      "364:\tlearn: 0.0641868\ttotal: 2.15s\tremaining: 3.73s\n",
      "365:\tlearn: 0.0639710\ttotal: 2.15s\tremaining: 3.73s\n",
      "366:\tlearn: 0.0637230\ttotal: 2.16s\tremaining: 3.72s\n",
      "367:\tlearn: 0.0635344\ttotal: 2.16s\tremaining: 3.72s\n",
      "368:\tlearn: 0.0633633\ttotal: 2.17s\tremaining: 3.71s\n",
      "369:\tlearn: 0.0632050\ttotal: 2.17s\tremaining: 3.7s\n",
      "370:\tlearn: 0.0630905\ttotal: 2.18s\tremaining: 3.7s\n",
      "371:\tlearn: 0.0629561\ttotal: 2.19s\tremaining: 3.69s\n",
      "372:\tlearn: 0.0627547\ttotal: 2.19s\tremaining: 3.69s\n",
      "373:\tlearn: 0.0626130\ttotal: 2.2s\tremaining: 3.68s\n",
      "374:\tlearn: 0.0625349\ttotal: 2.21s\tremaining: 3.67s\n",
      "375:\tlearn: 0.0623687\ttotal: 2.21s\tremaining: 3.67s\n",
      "376:\tlearn: 0.0622284\ttotal: 2.22s\tremaining: 3.66s\n",
      "377:\tlearn: 0.0620954\ttotal: 2.22s\tremaining: 3.66s\n",
      "378:\tlearn: 0.0619797\ttotal: 2.23s\tremaining: 3.65s\n",
      "379:\tlearn: 0.0618419\ttotal: 2.23s\tremaining: 3.64s\n",
      "380:\tlearn: 0.0616566\ttotal: 2.24s\tremaining: 3.64s\n",
      "381:\tlearn: 0.0614310\ttotal: 2.24s\tremaining: 3.63s\n",
      "382:\tlearn: 0.0612956\ttotal: 2.25s\tremaining: 3.62s\n",
      "383:\tlearn: 0.0611700\ttotal: 2.25s\tremaining: 3.62s\n",
      "384:\tlearn: 0.0609868\ttotal: 2.26s\tremaining: 3.61s\n",
      "385:\tlearn: 0.0609325\ttotal: 2.27s\tremaining: 3.6s\n",
      "386:\tlearn: 0.0608135\ttotal: 2.27s\tremaining: 3.6s\n",
      "387:\tlearn: 0.0606757\ttotal: 2.28s\tremaining: 3.59s\n",
      "388:\tlearn: 0.0605340\ttotal: 2.28s\tremaining: 3.59s\n",
      "389:\tlearn: 0.0604075\ttotal: 2.29s\tremaining: 3.58s\n",
      "390:\tlearn: 0.0603025\ttotal: 2.29s\tremaining: 3.58s\n",
      "391:\tlearn: 0.0600780\ttotal: 2.3s\tremaining: 3.57s\n",
      "392:\tlearn: 0.0598911\ttotal: 2.31s\tremaining: 3.56s\n",
      "393:\tlearn: 0.0596813\ttotal: 2.31s\tremaining: 3.56s\n",
      "394:\tlearn: 0.0595098\ttotal: 2.32s\tremaining: 3.55s\n",
      "395:\tlearn: 0.0593259\ttotal: 2.32s\tremaining: 3.54s\n",
      "396:\tlearn: 0.0591582\ttotal: 2.33s\tremaining: 3.54s\n",
      "397:\tlearn: 0.0589725\ttotal: 2.33s\tremaining: 3.53s\n",
      "398:\tlearn: 0.0588594\ttotal: 2.34s\tremaining: 3.52s\n",
      "399:\tlearn: 0.0587765\ttotal: 2.35s\tremaining: 3.52s\n",
      "400:\tlearn: 0.0585713\ttotal: 2.35s\tremaining: 3.51s\n",
      "401:\tlearn: 0.0584466\ttotal: 2.36s\tremaining: 3.5s\n",
      "402:\tlearn: 0.0583375\ttotal: 2.36s\tremaining: 3.5s\n",
      "403:\tlearn: 0.0582425\ttotal: 2.37s\tremaining: 3.49s\n",
      "404:\tlearn: 0.0580550\ttotal: 2.37s\tremaining: 3.48s\n",
      "405:\tlearn: 0.0579324\ttotal: 2.38s\tremaining: 3.48s\n",
      "406:\tlearn: 0.0578135\ttotal: 2.38s\tremaining: 3.47s\n",
      "407:\tlearn: 0.0576675\ttotal: 2.39s\tremaining: 3.47s\n",
      "408:\tlearn: 0.0575555\ttotal: 2.39s\tremaining: 3.46s\n",
      "409:\tlearn: 0.0574430\ttotal: 2.4s\tremaining: 3.45s\n",
      "410:\tlearn: 0.0573013\ttotal: 2.4s\tremaining: 3.45s\n",
      "411:\tlearn: 0.0571103\ttotal: 2.41s\tremaining: 3.44s\n",
      "412:\tlearn: 0.0570429\ttotal: 2.42s\tremaining: 3.43s\n",
      "413:\tlearn: 0.0569234\ttotal: 2.42s\tremaining: 3.43s\n",
      "414:\tlearn: 0.0568112\ttotal: 2.43s\tremaining: 3.42s\n",
      "415:\tlearn: 0.0566140\ttotal: 2.43s\tremaining: 3.42s\n",
      "416:\tlearn: 0.0565194\ttotal: 2.44s\tremaining: 3.41s\n",
      "417:\tlearn: 0.0563552\ttotal: 2.44s\tremaining: 3.4s\n",
      "418:\tlearn: 0.0562575\ttotal: 2.45s\tremaining: 3.4s\n",
      "419:\tlearn: 0.0561712\ttotal: 2.46s\tremaining: 3.39s\n",
      "420:\tlearn: 0.0560283\ttotal: 2.46s\tremaining: 3.38s\n",
      "421:\tlearn: 0.0559891\ttotal: 2.47s\tremaining: 3.38s\n",
      "422:\tlearn: 0.0558918\ttotal: 2.47s\tremaining: 3.37s\n",
      "423:\tlearn: 0.0558377\ttotal: 2.48s\tremaining: 3.37s\n",
      "424:\tlearn: 0.0557342\ttotal: 2.48s\tremaining: 3.36s\n",
      "425:\tlearn: 0.0556130\ttotal: 2.49s\tremaining: 3.35s\n",
      "426:\tlearn: 0.0555198\ttotal: 2.49s\tremaining: 3.35s\n",
      "427:\tlearn: 0.0553634\ttotal: 2.5s\tremaining: 3.34s\n",
      "428:\tlearn: 0.0552299\ttotal: 2.5s\tremaining: 3.33s\n",
      "429:\tlearn: 0.0551244\ttotal: 2.51s\tremaining: 3.33s\n",
      "430:\tlearn: 0.0549603\ttotal: 2.51s\tremaining: 3.32s\n",
      "431:\tlearn: 0.0548692\ttotal: 2.52s\tremaining: 3.31s\n",
      "432:\tlearn: 0.0547730\ttotal: 2.52s\tremaining: 3.31s\n",
      "433:\tlearn: 0.0546319\ttotal: 2.53s\tremaining: 3.3s\n",
      "434:\tlearn: 0.0545139\ttotal: 2.54s\tremaining: 3.29s\n",
      "435:\tlearn: 0.0544954\ttotal: 2.54s\tremaining: 3.29s\n",
      "436:\tlearn: 0.0543564\ttotal: 2.54s\tremaining: 3.28s\n",
      "437:\tlearn: 0.0542236\ttotal: 2.55s\tremaining: 3.27s\n",
      "438:\tlearn: 0.0541374\ttotal: 2.56s\tremaining: 3.27s\n",
      "439:\tlearn: 0.0539798\ttotal: 2.56s\tremaining: 3.26s\n",
      "440:\tlearn: 0.0539067\ttotal: 2.56s\tremaining: 3.25s\n",
      "441:\tlearn: 0.0537941\ttotal: 2.57s\tremaining: 3.25s\n",
      "442:\tlearn: 0.0536450\ttotal: 2.58s\tremaining: 3.24s\n",
      "443:\tlearn: 0.0535845\ttotal: 2.58s\tremaining: 3.23s\n",
      "444:\tlearn: 0.0534234\ttotal: 2.59s\tremaining: 3.23s\n",
      "445:\tlearn: 0.0532304\ttotal: 2.59s\tremaining: 3.22s\n",
      "446:\tlearn: 0.0530861\ttotal: 2.6s\tremaining: 3.21s\n",
      "447:\tlearn: 0.0529467\ttotal: 2.6s\tremaining: 3.21s\n",
      "448:\tlearn: 0.0527909\ttotal: 2.61s\tremaining: 3.2s\n",
      "449:\tlearn: 0.0526775\ttotal: 2.61s\tremaining: 3.19s\n",
      "450:\tlearn: 0.0526554\ttotal: 2.62s\tremaining: 3.19s\n",
      "451:\tlearn: 0.0525190\ttotal: 2.62s\tremaining: 3.18s\n",
      "452:\tlearn: 0.0524208\ttotal: 2.63s\tremaining: 3.17s\n",
      "453:\tlearn: 0.0522962\ttotal: 2.63s\tremaining: 3.17s\n",
      "454:\tlearn: 0.0521175\ttotal: 2.64s\tremaining: 3.16s\n",
      "455:\tlearn: 0.0519677\ttotal: 2.65s\tremaining: 3.16s\n",
      "456:\tlearn: 0.0518754\ttotal: 2.65s\tremaining: 3.15s\n",
      "457:\tlearn: 0.0518345\ttotal: 2.66s\tremaining: 3.14s\n",
      "458:\tlearn: 0.0517273\ttotal: 2.66s\tremaining: 3.14s\n",
      "459:\tlearn: 0.0517117\ttotal: 2.67s\tremaining: 3.13s\n",
      "460:\tlearn: 0.0515839\ttotal: 2.67s\tremaining: 3.13s\n",
      "461:\tlearn: 0.0514478\ttotal: 2.68s\tremaining: 3.12s\n",
      "462:\tlearn: 0.0513373\ttotal: 2.68s\tremaining: 3.11s\n",
      "463:\tlearn: 0.0512235\ttotal: 2.69s\tremaining: 3.1s\n",
      "464:\tlearn: 0.0511400\ttotal: 2.69s\tremaining: 3.1s\n",
      "465:\tlearn: 0.0510086\ttotal: 2.7s\tremaining: 3.09s\n",
      "466:\tlearn: 0.0509900\ttotal: 2.7s\tremaining: 3.09s\n",
      "467:\tlearn: 0.0508873\ttotal: 2.71s\tremaining: 3.08s\n",
      "468:\tlearn: 0.0507596\ttotal: 2.71s\tremaining: 3.07s\n",
      "469:\tlearn: 0.0506369\ttotal: 2.72s\tremaining: 3.07s\n",
      "470:\tlearn: 0.0505118\ttotal: 2.73s\tremaining: 3.06s\n",
      "471:\tlearn: 0.0503760\ttotal: 2.73s\tremaining: 3.06s\n",
      "472:\tlearn: 0.0502722\ttotal: 2.74s\tremaining: 3.05s\n",
      "473:\tlearn: 0.0501451\ttotal: 2.74s\tremaining: 3.04s\n",
      "474:\tlearn: 0.0500768\ttotal: 2.75s\tremaining: 3.04s\n",
      "475:\tlearn: 0.0499215\ttotal: 2.76s\tremaining: 3.04s\n",
      "476:\tlearn: 0.0497845\ttotal: 2.76s\tremaining: 3.03s\n",
      "477:\tlearn: 0.0496886\ttotal: 2.77s\tremaining: 3.03s\n",
      "478:\tlearn: 0.0495906\ttotal: 2.78s\tremaining: 3.02s\n",
      "479:\tlearn: 0.0494913\ttotal: 2.79s\tremaining: 3.02s\n",
      "480:\tlearn: 0.0493191\ttotal: 2.79s\tremaining: 3.01s\n",
      "481:\tlearn: 0.0491993\ttotal: 2.8s\tremaining: 3.01s\n",
      "482:\tlearn: 0.0491642\ttotal: 2.81s\tremaining: 3s\n",
      "483:\tlearn: 0.0490415\ttotal: 2.81s\tremaining: 3s\n",
      "484:\tlearn: 0.0488989\ttotal: 2.82s\tremaining: 2.99s\n",
      "485:\tlearn: 0.0487910\ttotal: 2.83s\tremaining: 2.99s\n",
      "486:\tlearn: 0.0486814\ttotal: 2.83s\tremaining: 2.98s\n",
      "487:\tlearn: 0.0485966\ttotal: 2.84s\tremaining: 2.98s\n",
      "488:\tlearn: 0.0484612\ttotal: 2.85s\tremaining: 2.98s\n",
      "489:\tlearn: 0.0483371\ttotal: 2.86s\tremaining: 2.97s\n",
      "490:\tlearn: 0.0481474\ttotal: 2.86s\tremaining: 2.97s\n",
      "491:\tlearn: 0.0480548\ttotal: 2.87s\tremaining: 2.96s\n",
      "492:\tlearn: 0.0479355\ttotal: 2.88s\tremaining: 2.96s\n",
      "493:\tlearn: 0.0477957\ttotal: 2.88s\tremaining: 2.95s\n",
      "494:\tlearn: 0.0476942\ttotal: 2.89s\tremaining: 2.95s\n",
      "495:\tlearn: 0.0475964\ttotal: 2.9s\tremaining: 2.94s\n",
      "496:\tlearn: 0.0474599\ttotal: 2.9s\tremaining: 2.94s\n",
      "497:\tlearn: 0.0472922\ttotal: 2.91s\tremaining: 2.94s\n",
      "498:\tlearn: 0.0471916\ttotal: 2.92s\tremaining: 2.93s\n",
      "499:\tlearn: 0.0470211\ttotal: 2.93s\tremaining: 2.93s\n",
      "500:\tlearn: 0.0470091\ttotal: 2.93s\tremaining: 2.92s\n",
      "501:\tlearn: 0.0468630\ttotal: 2.94s\tremaining: 2.92s\n",
      "502:\tlearn: 0.0467843\ttotal: 2.95s\tremaining: 2.91s\n",
      "503:\tlearn: 0.0466801\ttotal: 2.95s\tremaining: 2.91s\n",
      "504:\tlearn: 0.0465341\ttotal: 2.96s\tremaining: 2.9s\n",
      "505:\tlearn: 0.0464324\ttotal: 2.97s\tremaining: 2.9s\n",
      "506:\tlearn: 0.0463393\ttotal: 2.98s\tremaining: 2.89s\n",
      "507:\tlearn: 0.0461858\ttotal: 2.98s\tremaining: 2.89s\n",
      "508:\tlearn: 0.0461146\ttotal: 2.99s\tremaining: 2.88s\n",
      "509:\tlearn: 0.0460242\ttotal: 3s\tremaining: 2.88s\n",
      "510:\tlearn: 0.0459651\ttotal: 3s\tremaining: 2.87s\n",
      "511:\tlearn: 0.0458359\ttotal: 3.01s\tremaining: 2.87s\n",
      "512:\tlearn: 0.0458194\ttotal: 3.02s\tremaining: 2.87s\n",
      "513:\tlearn: 0.0456986\ttotal: 3.02s\tremaining: 2.86s\n",
      "514:\tlearn: 0.0455532\ttotal: 3.03s\tremaining: 2.85s\n",
      "515:\tlearn: 0.0453796\ttotal: 3.04s\tremaining: 2.85s\n",
      "516:\tlearn: 0.0452638\ttotal: 3.04s\tremaining: 2.84s\n",
      "517:\tlearn: 0.0451268\ttotal: 3.05s\tremaining: 2.84s\n",
      "518:\tlearn: 0.0450181\ttotal: 3.06s\tremaining: 2.83s\n",
      "519:\tlearn: 0.0449874\ttotal: 3.06s\tremaining: 2.83s\n",
      "520:\tlearn: 0.0448927\ttotal: 3.07s\tremaining: 2.82s\n",
      "521:\tlearn: 0.0447767\ttotal: 3.07s\tremaining: 2.81s\n",
      "522:\tlearn: 0.0446847\ttotal: 3.08s\tremaining: 2.81s\n",
      "523:\tlearn: 0.0445663\ttotal: 3.08s\tremaining: 2.8s\n",
      "524:\tlearn: 0.0444209\ttotal: 3.09s\tremaining: 2.79s\n",
      "525:\tlearn: 0.0443236\ttotal: 3.09s\tremaining: 2.79s\n",
      "526:\tlearn: 0.0442123\ttotal: 3.1s\tremaining: 2.78s\n",
      "527:\tlearn: 0.0440965\ttotal: 3.1s\tremaining: 2.77s\n",
      "528:\tlearn: 0.0439539\ttotal: 3.11s\tremaining: 2.77s\n",
      "529:\tlearn: 0.0438443\ttotal: 3.12s\tremaining: 2.76s\n",
      "530:\tlearn: 0.0437433\ttotal: 3.12s\tremaining: 2.76s\n",
      "531:\tlearn: 0.0436324\ttotal: 3.13s\tremaining: 2.75s\n",
      "532:\tlearn: 0.0435172\ttotal: 3.13s\tremaining: 2.74s\n",
      "533:\tlearn: 0.0434259\ttotal: 3.14s\tremaining: 2.74s\n",
      "534:\tlearn: 0.0433253\ttotal: 3.14s\tremaining: 2.73s\n",
      "535:\tlearn: 0.0431795\ttotal: 3.15s\tremaining: 2.72s\n",
      "536:\tlearn: 0.0431126\ttotal: 3.15s\tremaining: 2.72s\n"
     ]
    },
    {
     "name": "stdout",
     "output_type": "stream",
     "text": [
      "537:\tlearn: 0.0430321\ttotal: 3.16s\tremaining: 2.71s\n",
      "538:\tlearn: 0.0429149\ttotal: 3.16s\tremaining: 2.71s\n",
      "539:\tlearn: 0.0428136\ttotal: 3.17s\tremaining: 2.7s\n",
      "540:\tlearn: 0.0427022\ttotal: 3.17s\tremaining: 2.69s\n",
      "541:\tlearn: 0.0425894\ttotal: 3.18s\tremaining: 2.69s\n",
      "542:\tlearn: 0.0424979\ttotal: 3.19s\tremaining: 2.68s\n",
      "543:\tlearn: 0.0424266\ttotal: 3.2s\tremaining: 2.68s\n",
      "544:\tlearn: 0.0423446\ttotal: 3.2s\tremaining: 2.67s\n",
      "545:\tlearn: 0.0423205\ttotal: 3.21s\tremaining: 2.67s\n",
      "546:\tlearn: 0.0422379\ttotal: 3.21s\tremaining: 2.66s\n",
      "547:\tlearn: 0.0421599\ttotal: 3.22s\tremaining: 2.65s\n",
      "548:\tlearn: 0.0420882\ttotal: 3.22s\tremaining: 2.65s\n",
      "549:\tlearn: 0.0419888\ttotal: 3.23s\tremaining: 2.64s\n",
      "550:\tlearn: 0.0418873\ttotal: 3.23s\tremaining: 2.64s\n",
      "551:\tlearn: 0.0417928\ttotal: 3.24s\tremaining: 2.63s\n",
      "552:\tlearn: 0.0417441\ttotal: 3.25s\tremaining: 2.62s\n",
      "553:\tlearn: 0.0417291\ttotal: 3.25s\tremaining: 2.62s\n",
      "554:\tlearn: 0.0417209\ttotal: 3.25s\tremaining: 2.61s\n",
      "555:\tlearn: 0.0416542\ttotal: 3.26s\tremaining: 2.6s\n",
      "556:\tlearn: 0.0415131\ttotal: 3.27s\tremaining: 2.6s\n",
      "557:\tlearn: 0.0414149\ttotal: 3.27s\tremaining: 2.59s\n",
      "558:\tlearn: 0.0413401\ttotal: 3.28s\tremaining: 2.58s\n",
      "559:\tlearn: 0.0412484\ttotal: 3.28s\tremaining: 2.58s\n",
      "560:\tlearn: 0.0412303\ttotal: 3.29s\tremaining: 2.57s\n",
      "561:\tlearn: 0.0411437\ttotal: 3.29s\tremaining: 2.56s\n",
      "562:\tlearn: 0.0411220\ttotal: 3.3s\tremaining: 2.56s\n",
      "563:\tlearn: 0.0410218\ttotal: 3.3s\tremaining: 2.55s\n",
      "564:\tlearn: 0.0410100\ttotal: 3.31s\tremaining: 2.55s\n",
      "565:\tlearn: 0.0409085\ttotal: 3.31s\tremaining: 2.54s\n",
      "566:\tlearn: 0.0408007\ttotal: 3.32s\tremaining: 2.53s\n",
      "567:\tlearn: 0.0407859\ttotal: 3.32s\tremaining: 2.53s\n",
      "568:\tlearn: 0.0406763\ttotal: 3.33s\tremaining: 2.52s\n",
      "569:\tlearn: 0.0406573\ttotal: 3.33s\tremaining: 2.51s\n",
      "570:\tlearn: 0.0405727\ttotal: 3.34s\tremaining: 2.51s\n",
      "571:\tlearn: 0.0404813\ttotal: 3.34s\tremaining: 2.5s\n",
      "572:\tlearn: 0.0404319\ttotal: 3.35s\tremaining: 2.5s\n",
      "573:\tlearn: 0.0403743\ttotal: 3.36s\tremaining: 2.49s\n",
      "574:\tlearn: 0.0402735\ttotal: 3.36s\tremaining: 2.49s\n",
      "575:\tlearn: 0.0401618\ttotal: 3.37s\tremaining: 2.48s\n",
      "576:\tlearn: 0.0400593\ttotal: 3.37s\tremaining: 2.47s\n",
      "577:\tlearn: 0.0399463\ttotal: 3.38s\tremaining: 2.47s\n",
      "578:\tlearn: 0.0398782\ttotal: 3.38s\tremaining: 2.46s\n",
      "579:\tlearn: 0.0397463\ttotal: 3.39s\tremaining: 2.46s\n",
      "580:\tlearn: 0.0396497\ttotal: 3.4s\tremaining: 2.45s\n",
      "581:\tlearn: 0.0395399\ttotal: 3.4s\tremaining: 2.44s\n",
      "582:\tlearn: 0.0394358\ttotal: 3.41s\tremaining: 2.44s\n",
      "583:\tlearn: 0.0393401\ttotal: 3.41s\tremaining: 2.43s\n",
      "584:\tlearn: 0.0393239\ttotal: 3.42s\tremaining: 2.42s\n",
      "585:\tlearn: 0.0392318\ttotal: 3.42s\tremaining: 2.42s\n",
      "586:\tlearn: 0.0392135\ttotal: 3.43s\tremaining: 2.42s\n",
      "587:\tlearn: 0.0391909\ttotal: 3.44s\tremaining: 2.41s\n",
      "588:\tlearn: 0.0390753\ttotal: 3.45s\tremaining: 2.41s\n",
      "589:\tlearn: 0.0390034\ttotal: 3.45s\tremaining: 2.4s\n",
      "590:\tlearn: 0.0389331\ttotal: 3.46s\tremaining: 2.39s\n",
      "591:\tlearn: 0.0388572\ttotal: 3.46s\tremaining: 2.39s\n",
      "592:\tlearn: 0.0388475\ttotal: 3.47s\tremaining: 2.38s\n",
      "593:\tlearn: 0.0387606\ttotal: 3.48s\tremaining: 2.38s\n",
      "594:\tlearn: 0.0386438\ttotal: 3.48s\tremaining: 2.37s\n",
      "595:\tlearn: 0.0385542\ttotal: 3.49s\tremaining: 2.36s\n",
      "596:\tlearn: 0.0384361\ttotal: 3.5s\tremaining: 2.36s\n",
      "597:\tlearn: 0.0383882\ttotal: 3.5s\tremaining: 2.35s\n",
      "598:\tlearn: 0.0382951\ttotal: 3.51s\tremaining: 2.35s\n",
      "599:\tlearn: 0.0382529\ttotal: 3.51s\tremaining: 2.34s\n",
      "600:\tlearn: 0.0381741\ttotal: 3.52s\tremaining: 2.33s\n",
      "601:\tlearn: 0.0381166\ttotal: 3.52s\tremaining: 2.33s\n",
      "602:\tlearn: 0.0380373\ttotal: 3.53s\tremaining: 2.32s\n",
      "603:\tlearn: 0.0379038\ttotal: 3.54s\tremaining: 2.32s\n",
      "604:\tlearn: 0.0378960\ttotal: 3.54s\tremaining: 2.31s\n",
      "605:\tlearn: 0.0378337\ttotal: 3.55s\tremaining: 2.31s\n",
      "606:\tlearn: 0.0377157\ttotal: 3.55s\tremaining: 2.3s\n",
      "607:\tlearn: 0.0376245\ttotal: 3.56s\tremaining: 2.29s\n",
      "608:\tlearn: 0.0376073\ttotal: 3.56s\tremaining: 2.29s\n",
      "609:\tlearn: 0.0375358\ttotal: 3.57s\tremaining: 2.28s\n",
      "610:\tlearn: 0.0374181\ttotal: 3.57s\tremaining: 2.27s\n",
      "611:\tlearn: 0.0374026\ttotal: 3.58s\tremaining: 2.27s\n",
      "612:\tlearn: 0.0373101\ttotal: 3.58s\tremaining: 2.26s\n",
      "613:\tlearn: 0.0372441\ttotal: 3.59s\tremaining: 2.25s\n",
      "614:\tlearn: 0.0371795\ttotal: 3.59s\tremaining: 2.25s\n",
      "615:\tlearn: 0.0371097\ttotal: 3.6s\tremaining: 2.24s\n",
      "616:\tlearn: 0.0370267\ttotal: 3.6s\tremaining: 2.24s\n",
      "617:\tlearn: 0.0369368\ttotal: 3.61s\tremaining: 2.23s\n",
      "618:\tlearn: 0.0368407\ttotal: 3.61s\tremaining: 2.22s\n",
      "619:\tlearn: 0.0367731\ttotal: 3.62s\tremaining: 2.22s\n",
      "620:\tlearn: 0.0366786\ttotal: 3.62s\tremaining: 2.21s\n",
      "621:\tlearn: 0.0365876\ttotal: 3.63s\tremaining: 2.21s\n",
      "622:\tlearn: 0.0365058\ttotal: 3.63s\tremaining: 2.2s\n",
      "623:\tlearn: 0.0364063\ttotal: 3.64s\tremaining: 2.19s\n",
      "624:\tlearn: 0.0362918\ttotal: 3.64s\tremaining: 2.19s\n",
      "625:\tlearn: 0.0362180\ttotal: 3.65s\tremaining: 2.18s\n",
      "626:\tlearn: 0.0361466\ttotal: 3.65s\tremaining: 2.17s\n",
      "627:\tlearn: 0.0360648\ttotal: 3.66s\tremaining: 2.17s\n",
      "628:\tlearn: 0.0360033\ttotal: 3.66s\tremaining: 2.16s\n",
      "629:\tlearn: 0.0359003\ttotal: 3.67s\tremaining: 2.15s\n",
      "630:\tlearn: 0.0358335\ttotal: 3.67s\tremaining: 2.15s\n",
      "631:\tlearn: 0.0357557\ttotal: 3.68s\tremaining: 2.14s\n",
      "632:\tlearn: 0.0356702\ttotal: 3.69s\tremaining: 2.14s\n",
      "633:\tlearn: 0.0355900\ttotal: 3.69s\tremaining: 2.13s\n",
      "634:\tlearn: 0.0354748\ttotal: 3.7s\tremaining: 2.13s\n",
      "635:\tlearn: 0.0354006\ttotal: 3.7s\tremaining: 2.12s\n",
      "636:\tlearn: 0.0353132\ttotal: 3.71s\tremaining: 2.11s\n",
      "637:\tlearn: 0.0352399\ttotal: 3.72s\tremaining: 2.11s\n",
      "638:\tlearn: 0.0351616\ttotal: 3.72s\tremaining: 2.1s\n",
      "639:\tlearn: 0.0350910\ttotal: 3.73s\tremaining: 2.1s\n",
      "640:\tlearn: 0.0350445\ttotal: 3.73s\tremaining: 2.09s\n",
      "641:\tlearn: 0.0349596\ttotal: 3.74s\tremaining: 2.08s\n",
      "642:\tlearn: 0.0349298\ttotal: 3.74s\tremaining: 2.08s\n",
      "643:\tlearn: 0.0348373\ttotal: 3.75s\tremaining: 2.07s\n",
      "644:\tlearn: 0.0347874\ttotal: 3.75s\tremaining: 2.07s\n",
      "645:\tlearn: 0.0346731\ttotal: 3.76s\tremaining: 2.06s\n",
      "646:\tlearn: 0.0345973\ttotal: 3.77s\tremaining: 2.05s\n",
      "647:\tlearn: 0.0345047\ttotal: 3.77s\tremaining: 2.05s\n",
      "648:\tlearn: 0.0344991\ttotal: 3.77s\tremaining: 2.04s\n",
      "649:\tlearn: 0.0343781\ttotal: 3.78s\tremaining: 2.04s\n",
      "650:\tlearn: 0.0342660\ttotal: 3.79s\tremaining: 2.03s\n",
      "651:\tlearn: 0.0341352\ttotal: 3.79s\tremaining: 2.02s\n",
      "652:\tlearn: 0.0340527\ttotal: 3.8s\tremaining: 2.02s\n",
      "653:\tlearn: 0.0339928\ttotal: 3.8s\tremaining: 2.01s\n",
      "654:\tlearn: 0.0339587\ttotal: 3.81s\tremaining: 2s\n",
      "655:\tlearn: 0.0338862\ttotal: 3.81s\tremaining: 2s\n",
      "656:\tlearn: 0.0338217\ttotal: 3.82s\tremaining: 1.99s\n",
      "657:\tlearn: 0.0337271\ttotal: 3.82s\tremaining: 1.99s\n",
      "658:\tlearn: 0.0336041\ttotal: 3.83s\tremaining: 1.98s\n",
      "659:\tlearn: 0.0335305\ttotal: 3.83s\tremaining: 1.97s\n",
      "660:\tlearn: 0.0334558\ttotal: 3.84s\tremaining: 1.97s\n",
      "661:\tlearn: 0.0333748\ttotal: 3.84s\tremaining: 1.96s\n",
      "662:\tlearn: 0.0333032\ttotal: 3.85s\tremaining: 1.96s\n",
      "663:\tlearn: 0.0332223\ttotal: 3.85s\tremaining: 1.95s\n",
      "664:\tlearn: 0.0331933\ttotal: 3.86s\tremaining: 1.94s\n",
      "665:\tlearn: 0.0331298\ttotal: 3.86s\tremaining: 1.94s\n",
      "666:\tlearn: 0.0330394\ttotal: 3.87s\tremaining: 1.93s\n",
      "667:\tlearn: 0.0329477\ttotal: 3.88s\tremaining: 1.93s\n",
      "668:\tlearn: 0.0328864\ttotal: 3.88s\tremaining: 1.92s\n",
      "669:\tlearn: 0.0327953\ttotal: 3.89s\tremaining: 1.92s\n",
      "670:\tlearn: 0.0326941\ttotal: 3.89s\tremaining: 1.91s\n",
      "671:\tlearn: 0.0326808\ttotal: 3.9s\tremaining: 1.9s\n",
      "672:\tlearn: 0.0325699\ttotal: 3.9s\tremaining: 1.9s\n",
      "673:\tlearn: 0.0324840\ttotal: 3.91s\tremaining: 1.89s\n",
      "674:\tlearn: 0.0324434\ttotal: 3.92s\tremaining: 1.89s\n",
      "675:\tlearn: 0.0323191\ttotal: 3.92s\tremaining: 1.88s\n",
      "676:\tlearn: 0.0322411\ttotal: 3.93s\tremaining: 1.87s\n",
      "677:\tlearn: 0.0321708\ttotal: 3.93s\tremaining: 1.87s\n",
      "678:\tlearn: 0.0321032\ttotal: 3.94s\tremaining: 1.86s\n",
      "679:\tlearn: 0.0320114\ttotal: 3.94s\tremaining: 1.86s\n",
      "680:\tlearn: 0.0319734\ttotal: 3.95s\tremaining: 1.85s\n",
      "681:\tlearn: 0.0318826\ttotal: 3.96s\tremaining: 1.84s\n",
      "682:\tlearn: 0.0318064\ttotal: 3.96s\tremaining: 1.84s\n",
      "683:\tlearn: 0.0317228\ttotal: 3.97s\tremaining: 1.83s\n",
      "684:\tlearn: 0.0316748\ttotal: 3.97s\tremaining: 1.83s\n",
      "685:\tlearn: 0.0315815\ttotal: 3.98s\tremaining: 1.82s\n",
      "686:\tlearn: 0.0315146\ttotal: 3.98s\tremaining: 1.81s\n",
      "687:\tlearn: 0.0314358\ttotal: 3.99s\tremaining: 1.81s\n",
      "688:\tlearn: 0.0313660\ttotal: 3.99s\tremaining: 1.8s\n",
      "689:\tlearn: 0.0313066\ttotal: 4s\tremaining: 1.8s\n",
      "690:\tlearn: 0.0312154\ttotal: 4s\tremaining: 1.79s\n",
      "691:\tlearn: 0.0311521\ttotal: 4.01s\tremaining: 1.78s\n",
      "692:\tlearn: 0.0310744\ttotal: 4.01s\tremaining: 1.78s\n",
      "693:\tlearn: 0.0310145\ttotal: 4.02s\tremaining: 1.77s\n",
      "694:\tlearn: 0.0309630\ttotal: 4.02s\tremaining: 1.76s\n",
      "695:\tlearn: 0.0308766\ttotal: 4.03s\tremaining: 1.76s\n",
      "696:\tlearn: 0.0308104\ttotal: 4.03s\tremaining: 1.75s\n"
     ]
    },
    {
     "name": "stdout",
     "output_type": "stream",
     "text": [
      "697:\tlearn: 0.0307668\ttotal: 4.04s\tremaining: 1.75s\n",
      "698:\tlearn: 0.0306857\ttotal: 4.05s\tremaining: 1.74s\n",
      "699:\tlearn: 0.0306113\ttotal: 4.05s\tremaining: 1.74s\n",
      "700:\tlearn: 0.0305575\ttotal: 4.06s\tremaining: 1.73s\n",
      "701:\tlearn: 0.0305049\ttotal: 4.07s\tremaining: 1.73s\n",
      "702:\tlearn: 0.0304385\ttotal: 4.07s\tremaining: 1.72s\n",
      "703:\tlearn: 0.0303618\ttotal: 4.08s\tremaining: 1.71s\n",
      "704:\tlearn: 0.0303170\ttotal: 4.08s\tremaining: 1.71s\n",
      "705:\tlearn: 0.0302377\ttotal: 4.09s\tremaining: 1.7s\n",
      "706:\tlearn: 0.0301737\ttotal: 4.09s\tremaining: 1.7s\n",
      "707:\tlearn: 0.0301588\ttotal: 4.1s\tremaining: 1.69s\n",
      "708:\tlearn: 0.0301010\ttotal: 4.11s\tremaining: 1.68s\n",
      "709:\tlearn: 0.0300482\ttotal: 4.11s\tremaining: 1.68s\n",
      "710:\tlearn: 0.0299721\ttotal: 4.12s\tremaining: 1.67s\n",
      "711:\tlearn: 0.0299111\ttotal: 4.12s\tremaining: 1.67s\n",
      "712:\tlearn: 0.0298635\ttotal: 4.13s\tremaining: 1.66s\n",
      "713:\tlearn: 0.0298128\ttotal: 4.13s\tremaining: 1.66s\n",
      "714:\tlearn: 0.0297383\ttotal: 4.14s\tremaining: 1.65s\n",
      "715:\tlearn: 0.0296661\ttotal: 4.14s\tremaining: 1.64s\n",
      "716:\tlearn: 0.0296040\ttotal: 4.15s\tremaining: 1.64s\n",
      "717:\tlearn: 0.0295470\ttotal: 4.15s\tremaining: 1.63s\n",
      "718:\tlearn: 0.0295008\ttotal: 4.16s\tremaining: 1.63s\n",
      "719:\tlearn: 0.0294217\ttotal: 4.16s\tremaining: 1.62s\n",
      "720:\tlearn: 0.0294000\ttotal: 4.17s\tremaining: 1.61s\n",
      "721:\tlearn: 0.0293865\ttotal: 4.17s\tremaining: 1.61s\n",
      "722:\tlearn: 0.0293155\ttotal: 4.18s\tremaining: 1.6s\n",
      "723:\tlearn: 0.0292454\ttotal: 4.19s\tremaining: 1.59s\n",
      "724:\tlearn: 0.0291983\ttotal: 4.19s\tremaining: 1.59s\n",
      "725:\tlearn: 0.0291319\ttotal: 4.2s\tremaining: 1.58s\n",
      "726:\tlearn: 0.0290793\ttotal: 4.2s\tremaining: 1.58s\n",
      "727:\tlearn: 0.0290460\ttotal: 4.21s\tremaining: 1.57s\n",
      "728:\tlearn: 0.0290103\ttotal: 4.21s\tremaining: 1.57s\n",
      "729:\tlearn: 0.0289676\ttotal: 4.22s\tremaining: 1.56s\n",
      "730:\tlearn: 0.0289121\ttotal: 4.23s\tremaining: 1.55s\n",
      "731:\tlearn: 0.0288285\ttotal: 4.23s\tremaining: 1.55s\n",
      "732:\tlearn: 0.0287698\ttotal: 4.24s\tremaining: 1.54s\n",
      "733:\tlearn: 0.0287225\ttotal: 4.24s\tremaining: 1.54s\n",
      "734:\tlearn: 0.0286173\ttotal: 4.25s\tremaining: 1.53s\n",
      "735:\tlearn: 0.0285517\ttotal: 4.25s\tremaining: 1.53s\n",
      "736:\tlearn: 0.0285400\ttotal: 4.26s\tremaining: 1.52s\n",
      "737:\tlearn: 0.0284693\ttotal: 4.26s\tremaining: 1.51s\n",
      "738:\tlearn: 0.0283924\ttotal: 4.27s\tremaining: 1.51s\n",
      "739:\tlearn: 0.0283334\ttotal: 4.28s\tremaining: 1.5s\n",
      "740:\tlearn: 0.0283215\ttotal: 4.28s\tremaining: 1.5s\n",
      "741:\tlearn: 0.0283160\ttotal: 4.29s\tremaining: 1.49s\n",
      "742:\tlearn: 0.0282492\ttotal: 4.29s\tremaining: 1.48s\n",
      "743:\tlearn: 0.0281987\ttotal: 4.3s\tremaining: 1.48s\n",
      "744:\tlearn: 0.0280968\ttotal: 4.3s\tremaining: 1.47s\n",
      "745:\tlearn: 0.0280145\ttotal: 4.31s\tremaining: 1.47s\n",
      "746:\tlearn: 0.0279452\ttotal: 4.31s\tremaining: 1.46s\n",
      "747:\tlearn: 0.0278897\ttotal: 4.32s\tremaining: 1.45s\n",
      "748:\tlearn: 0.0278297\ttotal: 4.32s\tremaining: 1.45s\n",
      "749:\tlearn: 0.0277746\ttotal: 4.33s\tremaining: 1.44s\n",
      "750:\tlearn: 0.0277210\ttotal: 4.33s\tremaining: 1.44s\n",
      "751:\tlearn: 0.0276465\ttotal: 4.34s\tremaining: 1.43s\n",
      "752:\tlearn: 0.0276380\ttotal: 4.34s\tremaining: 1.43s\n",
      "753:\tlearn: 0.0276261\ttotal: 4.35s\tremaining: 1.42s\n",
      "754:\tlearn: 0.0275768\ttotal: 4.36s\tremaining: 1.41s\n",
      "755:\tlearn: 0.0275670\ttotal: 4.36s\tremaining: 1.41s\n",
      "756:\tlearn: 0.0274907\ttotal: 4.37s\tremaining: 1.4s\n",
      "757:\tlearn: 0.0274411\ttotal: 4.37s\tremaining: 1.4s\n",
      "758:\tlearn: 0.0273720\ttotal: 4.38s\tremaining: 1.39s\n",
      "759:\tlearn: 0.0273370\ttotal: 4.38s\tremaining: 1.38s\n",
      "760:\tlearn: 0.0273056\ttotal: 4.39s\tremaining: 1.38s\n",
      "761:\tlearn: 0.0272378\ttotal: 4.39s\tremaining: 1.37s\n",
      "762:\tlearn: 0.0271912\ttotal: 4.4s\tremaining: 1.37s\n",
      "763:\tlearn: 0.0271185\ttotal: 4.41s\tremaining: 1.36s\n",
      "764:\tlearn: 0.0270686\ttotal: 4.41s\tremaining: 1.35s\n",
      "765:\tlearn: 0.0270561\ttotal: 4.42s\tremaining: 1.35s\n",
      "766:\tlearn: 0.0269938\ttotal: 4.42s\tremaining: 1.34s\n",
      "767:\tlearn: 0.0269597\ttotal: 4.43s\tremaining: 1.34s\n",
      "768:\tlearn: 0.0268967\ttotal: 4.44s\tremaining: 1.33s\n",
      "769:\tlearn: 0.0268377\ttotal: 4.45s\tremaining: 1.33s\n",
      "770:\tlearn: 0.0267956\ttotal: 4.45s\tremaining: 1.32s\n",
      "771:\tlearn: 0.0267343\ttotal: 4.46s\tremaining: 1.32s\n",
      "772:\tlearn: 0.0266786\ttotal: 4.46s\tremaining: 1.31s\n",
      "773:\tlearn: 0.0266290\ttotal: 4.47s\tremaining: 1.3s\n",
      "774:\tlearn: 0.0265601\ttotal: 4.48s\tremaining: 1.3s\n",
      "775:\tlearn: 0.0265101\ttotal: 4.49s\tremaining: 1.29s\n",
      "776:\tlearn: 0.0264170\ttotal: 4.49s\tremaining: 1.29s\n",
      "777:\tlearn: 0.0263490\ttotal: 4.5s\tremaining: 1.28s\n",
      "778:\tlearn: 0.0263011\ttotal: 4.5s\tremaining: 1.28s\n",
      "779:\tlearn: 0.0262548\ttotal: 4.51s\tremaining: 1.27s\n",
      "780:\tlearn: 0.0262126\ttotal: 4.51s\tremaining: 1.27s\n",
      "781:\tlearn: 0.0261640\ttotal: 4.52s\tremaining: 1.26s\n",
      "782:\tlearn: 0.0261255\ttotal: 4.53s\tremaining: 1.25s\n",
      "783:\tlearn: 0.0260682\ttotal: 4.53s\tremaining: 1.25s\n",
      "784:\tlearn: 0.0260301\ttotal: 4.54s\tremaining: 1.24s\n",
      "785:\tlearn: 0.0259631\ttotal: 4.54s\tremaining: 1.24s\n",
      "786:\tlearn: 0.0258931\ttotal: 4.55s\tremaining: 1.23s\n",
      "787:\tlearn: 0.0258416\ttotal: 4.55s\tremaining: 1.23s\n",
      "788:\tlearn: 0.0257924\ttotal: 4.56s\tremaining: 1.22s\n",
      "789:\tlearn: 0.0257704\ttotal: 4.57s\tremaining: 1.21s\n",
      "790:\tlearn: 0.0256916\ttotal: 4.57s\tremaining: 1.21s\n",
      "791:\tlearn: 0.0256602\ttotal: 4.58s\tremaining: 1.2s\n",
      "792:\tlearn: 0.0256198\ttotal: 4.58s\tremaining: 1.2s\n",
      "793:\tlearn: 0.0256023\ttotal: 4.59s\tremaining: 1.19s\n",
      "794:\tlearn: 0.0255537\ttotal: 4.6s\tremaining: 1.19s\n",
      "795:\tlearn: 0.0255246\ttotal: 4.6s\tremaining: 1.18s\n",
      "796:\tlearn: 0.0254853\ttotal: 4.61s\tremaining: 1.17s\n",
      "797:\tlearn: 0.0254428\ttotal: 4.61s\tremaining: 1.17s\n",
      "798:\tlearn: 0.0254007\ttotal: 4.62s\tremaining: 1.16s\n",
      "799:\tlearn: 0.0253559\ttotal: 4.62s\tremaining: 1.16s\n",
      "800:\tlearn: 0.0253235\ttotal: 4.63s\tremaining: 1.15s\n",
      "801:\tlearn: 0.0252759\ttotal: 4.63s\tremaining: 1.14s\n",
      "802:\tlearn: 0.0252234\ttotal: 4.64s\tremaining: 1.14s\n",
      "803:\tlearn: 0.0251600\ttotal: 4.65s\tremaining: 1.13s\n",
      "804:\tlearn: 0.0251133\ttotal: 4.66s\tremaining: 1.13s\n",
      "805:\tlearn: 0.0250500\ttotal: 4.66s\tremaining: 1.12s\n",
      "806:\tlearn: 0.0250017\ttotal: 4.67s\tremaining: 1.12s\n",
      "807:\tlearn: 0.0249928\ttotal: 4.67s\tremaining: 1.11s\n",
      "808:\tlearn: 0.0249521\ttotal: 4.68s\tremaining: 1.1s\n",
      "809:\tlearn: 0.0249362\ttotal: 4.69s\tremaining: 1.1s\n",
      "810:\tlearn: 0.0248971\ttotal: 4.69s\tremaining: 1.09s\n",
      "811:\tlearn: 0.0248773\ttotal: 4.7s\tremaining: 1.09s\n",
      "812:\tlearn: 0.0248109\ttotal: 4.71s\tremaining: 1.08s\n",
      "813:\tlearn: 0.0248045\ttotal: 4.71s\tremaining: 1.08s\n",
      "814:\tlearn: 0.0247695\ttotal: 4.72s\tremaining: 1.07s\n",
      "815:\tlearn: 0.0247169\ttotal: 4.73s\tremaining: 1.06s\n",
      "816:\tlearn: 0.0246771\ttotal: 4.73s\tremaining: 1.06s\n",
      "817:\tlearn: 0.0246173\ttotal: 4.74s\tremaining: 1.05s\n",
      "818:\tlearn: 0.0245997\ttotal: 4.75s\tremaining: 1.05s\n",
      "819:\tlearn: 0.0245424\ttotal: 4.75s\tremaining: 1.04s\n",
      "820:\tlearn: 0.0244644\ttotal: 4.76s\tremaining: 1.04s\n",
      "821:\tlearn: 0.0244000\ttotal: 4.76s\tremaining: 1.03s\n",
      "822:\tlearn: 0.0243930\ttotal: 4.77s\tremaining: 1.03s\n",
      "823:\tlearn: 0.0243422\ttotal: 4.78s\tremaining: 1.02s\n",
      "824:\tlearn: 0.0242649\ttotal: 4.78s\tremaining: 1.01s\n",
      "825:\tlearn: 0.0242222\ttotal: 4.79s\tremaining: 1.01s\n",
      "826:\tlearn: 0.0241994\ttotal: 4.8s\tremaining: 1s\n",
      "827:\tlearn: 0.0241916\ttotal: 4.8s\tremaining: 998ms\n",
      "828:\tlearn: 0.0241494\ttotal: 4.81s\tremaining: 992ms\n",
      "829:\tlearn: 0.0240827\ttotal: 4.82s\tremaining: 987ms\n",
      "830:\tlearn: 0.0240160\ttotal: 4.82s\tremaining: 981ms\n",
      "831:\tlearn: 0.0239677\ttotal: 4.83s\tremaining: 975ms\n",
      "832:\tlearn: 0.0239267\ttotal: 4.83s\tremaining: 969ms\n",
      "833:\tlearn: 0.0238623\ttotal: 4.84s\tremaining: 964ms\n",
      "834:\tlearn: 0.0238330\ttotal: 4.85s\tremaining: 958ms\n",
      "835:\tlearn: 0.0237926\ttotal: 4.85s\tremaining: 952ms\n",
      "836:\tlearn: 0.0237667\ttotal: 4.86s\tremaining: 947ms\n",
      "837:\tlearn: 0.0237302\ttotal: 4.87s\tremaining: 941ms\n",
      "838:\tlearn: 0.0236583\ttotal: 4.87s\tremaining: 935ms\n",
      "839:\tlearn: 0.0236177\ttotal: 4.88s\tremaining: 930ms\n",
      "840:\tlearn: 0.0235763\ttotal: 4.89s\tremaining: 924ms\n",
      "841:\tlearn: 0.0235303\ttotal: 4.89s\tremaining: 918ms\n",
      "842:\tlearn: 0.0235190\ttotal: 4.9s\tremaining: 913ms\n",
      "843:\tlearn: 0.0234725\ttotal: 4.91s\tremaining: 907ms\n",
      "844:\tlearn: 0.0234466\ttotal: 4.91s\tremaining: 901ms\n",
      "845:\tlearn: 0.0233867\ttotal: 4.92s\tremaining: 896ms\n",
      "846:\tlearn: 0.0233399\ttotal: 4.93s\tremaining: 890ms\n",
      "847:\tlearn: 0.0232859\ttotal: 4.94s\tremaining: 885ms\n",
      "848:\tlearn: 0.0232562\ttotal: 4.94s\tremaining: 879ms\n",
      "849:\tlearn: 0.0232164\ttotal: 4.95s\tremaining: 874ms\n",
      "850:\tlearn: 0.0232090\ttotal: 4.96s\tremaining: 868ms\n",
      "851:\tlearn: 0.0231707\ttotal: 4.96s\tremaining: 862ms\n",
      "852:\tlearn: 0.0231138\ttotal: 4.97s\tremaining: 857ms\n",
      "853:\tlearn: 0.0230777\ttotal: 4.98s\tremaining: 851ms\n",
      "854:\tlearn: 0.0230274\ttotal: 4.98s\tremaining: 845ms\n",
      "855:\tlearn: 0.0229893\ttotal: 4.99s\tremaining: 839ms\n",
      "856:\tlearn: 0.0229298\ttotal: 5s\tremaining: 834ms\n",
      "857:\tlearn: 0.0228956\ttotal: 5s\tremaining: 828ms\n",
      "858:\tlearn: 0.0228294\ttotal: 5.01s\tremaining: 822ms\n",
      "859:\tlearn: 0.0228223\ttotal: 5.01s\tremaining: 816ms\n",
      "860:\tlearn: 0.0227678\ttotal: 5.02s\tremaining: 810ms\n",
      "861:\tlearn: 0.0227240\ttotal: 5.02s\tremaining: 804ms\n",
      "862:\tlearn: 0.0226672\ttotal: 5.03s\tremaining: 798ms\n",
      "863:\tlearn: 0.0226280\ttotal: 5.03s\tremaining: 792ms\n",
      "864:\tlearn: 0.0225654\ttotal: 5.04s\tremaining: 786ms\n",
      "865:\tlearn: 0.0225182\ttotal: 5.04s\tremaining: 780ms\n",
      "866:\tlearn: 0.0225086\ttotal: 5.05s\tremaining: 774ms\n",
      "867:\tlearn: 0.0224677\ttotal: 5.05s\tremaining: 768ms\n",
      "868:\tlearn: 0.0224128\ttotal: 5.06s\tremaining: 762ms\n",
      "869:\tlearn: 0.0223707\ttotal: 5.06s\tremaining: 756ms\n",
      "870:\tlearn: 0.0223164\ttotal: 5.07s\tremaining: 751ms\n",
      "871:\tlearn: 0.0222864\ttotal: 5.07s\tremaining: 745ms\n",
      "872:\tlearn: 0.0222391\ttotal: 5.08s\tremaining: 739ms\n",
      "873:\tlearn: 0.0222044\ttotal: 5.08s\tremaining: 733ms\n",
      "874:\tlearn: 0.0221655\ttotal: 5.09s\tremaining: 727ms\n",
      "875:\tlearn: 0.0221090\ttotal: 5.09s\tremaining: 721ms\n"
     ]
    },
    {
     "name": "stdout",
     "output_type": "stream",
     "text": [
      "876:\tlearn: 0.0220609\ttotal: 5.1s\tremaining: 715ms\n",
      "877:\tlearn: 0.0220284\ttotal: 5.11s\tremaining: 709ms\n",
      "878:\tlearn: 0.0219711\ttotal: 5.11s\tremaining: 704ms\n",
      "879:\tlearn: 0.0219311\ttotal: 5.12s\tremaining: 698ms\n",
      "880:\tlearn: 0.0218769\ttotal: 5.12s\tremaining: 692ms\n",
      "881:\tlearn: 0.0218268\ttotal: 5.13s\tremaining: 686ms\n",
      "882:\tlearn: 0.0218194\ttotal: 5.13s\tremaining: 680ms\n",
      "883:\tlearn: 0.0217710\ttotal: 5.14s\tremaining: 674ms\n",
      "884:\tlearn: 0.0217501\ttotal: 5.14s\tremaining: 669ms\n",
      "885:\tlearn: 0.0216935\ttotal: 5.15s\tremaining: 663ms\n",
      "886:\tlearn: 0.0216841\ttotal: 5.16s\tremaining: 657ms\n",
      "887:\tlearn: 0.0216338\ttotal: 5.16s\tremaining: 651ms\n",
      "888:\tlearn: 0.0215912\ttotal: 5.17s\tremaining: 645ms\n",
      "889:\tlearn: 0.0215377\ttotal: 5.17s\tremaining: 639ms\n",
      "890:\tlearn: 0.0215068\ttotal: 5.18s\tremaining: 634ms\n",
      "891:\tlearn: 0.0214580\ttotal: 5.19s\tremaining: 628ms\n",
      "892:\tlearn: 0.0214197\ttotal: 5.19s\tremaining: 622ms\n",
      "893:\tlearn: 0.0213909\ttotal: 5.2s\tremaining: 616ms\n",
      "894:\tlearn: 0.0213884\ttotal: 5.21s\tremaining: 611ms\n",
      "895:\tlearn: 0.0213421\ttotal: 5.21s\tremaining: 605ms\n",
      "896:\tlearn: 0.0212907\ttotal: 5.22s\tremaining: 599ms\n",
      "897:\tlearn: 0.0212696\ttotal: 5.22s\tremaining: 593ms\n",
      "898:\tlearn: 0.0212356\ttotal: 5.23s\tremaining: 588ms\n",
      "899:\tlearn: 0.0212155\ttotal: 5.24s\tremaining: 582ms\n",
      "900:\tlearn: 0.0211559\ttotal: 5.24s\tremaining: 576ms\n",
      "901:\tlearn: 0.0211157\ttotal: 5.25s\tremaining: 570ms\n",
      "902:\tlearn: 0.0211065\ttotal: 5.25s\tremaining: 564ms\n",
      "903:\tlearn: 0.0210524\ttotal: 5.26s\tremaining: 558ms\n",
      "904:\tlearn: 0.0210307\ttotal: 5.26s\tremaining: 553ms\n",
      "905:\tlearn: 0.0209857\ttotal: 5.27s\tremaining: 547ms\n",
      "906:\tlearn: 0.0209412\ttotal: 5.27s\tremaining: 541ms\n",
      "907:\tlearn: 0.0208791\ttotal: 5.28s\tremaining: 535ms\n",
      "908:\tlearn: 0.0208368\ttotal: 5.29s\tremaining: 529ms\n",
      "909:\tlearn: 0.0208043\ttotal: 5.29s\tremaining: 524ms\n",
      "910:\tlearn: 0.0207992\ttotal: 5.3s\tremaining: 518ms\n",
      "911:\tlearn: 0.0207517\ttotal: 5.3s\tremaining: 512ms\n",
      "912:\tlearn: 0.0207090\ttotal: 5.31s\tremaining: 506ms\n",
      "913:\tlearn: 0.0206694\ttotal: 5.32s\tremaining: 500ms\n",
      "914:\tlearn: 0.0206301\ttotal: 5.32s\tremaining: 494ms\n",
      "915:\tlearn: 0.0205790\ttotal: 5.33s\tremaining: 489ms\n",
      "916:\tlearn: 0.0205376\ttotal: 5.33s\tremaining: 483ms\n",
      "917:\tlearn: 0.0204719\ttotal: 5.34s\tremaining: 477ms\n",
      "918:\tlearn: 0.0204281\ttotal: 5.34s\tremaining: 471ms\n",
      "919:\tlearn: 0.0203828\ttotal: 5.35s\tremaining: 465ms\n",
      "920:\tlearn: 0.0203377\ttotal: 5.36s\tremaining: 459ms\n",
      "921:\tlearn: 0.0202880\ttotal: 5.36s\tremaining: 453ms\n",
      "922:\tlearn: 0.0202428\ttotal: 5.37s\tremaining: 448ms\n",
      "923:\tlearn: 0.0202127\ttotal: 5.37s\tremaining: 442ms\n",
      "924:\tlearn: 0.0201723\ttotal: 5.38s\tremaining: 436ms\n",
      "925:\tlearn: 0.0201476\ttotal: 5.38s\tremaining: 430ms\n",
      "926:\tlearn: 0.0201105\ttotal: 5.39s\tremaining: 424ms\n",
      "927:\tlearn: 0.0200880\ttotal: 5.39s\tremaining: 418ms\n",
      "928:\tlearn: 0.0200514\ttotal: 5.4s\tremaining: 413ms\n",
      "929:\tlearn: 0.0200356\ttotal: 5.4s\tremaining: 407ms\n",
      "930:\tlearn: 0.0200139\ttotal: 5.41s\tremaining: 401ms\n",
      "931:\tlearn: 0.0199730\ttotal: 5.41s\tremaining: 395ms\n",
      "932:\tlearn: 0.0199252\ttotal: 5.42s\tremaining: 389ms\n",
      "933:\tlearn: 0.0198976\ttotal: 5.42s\tremaining: 383ms\n",
      "934:\tlearn: 0.0198785\ttotal: 5.43s\tremaining: 378ms\n",
      "935:\tlearn: 0.0198702\ttotal: 5.44s\tremaining: 372ms\n",
      "936:\tlearn: 0.0198349\ttotal: 5.45s\tremaining: 366ms\n",
      "937:\tlearn: 0.0197987\ttotal: 5.45s\tremaining: 360ms\n",
      "938:\tlearn: 0.0197655\ttotal: 5.46s\tremaining: 355ms\n",
      "939:\tlearn: 0.0197331\ttotal: 5.46s\tremaining: 349ms\n",
      "940:\tlearn: 0.0196929\ttotal: 5.47s\tremaining: 343ms\n",
      "941:\tlearn: 0.0196173\ttotal: 5.48s\tremaining: 337ms\n",
      "942:\tlearn: 0.0195760\ttotal: 5.48s\tremaining: 331ms\n",
      "943:\tlearn: 0.0195238\ttotal: 5.49s\tremaining: 326ms\n",
      "944:\tlearn: 0.0194758\ttotal: 5.49s\tremaining: 320ms\n",
      "945:\tlearn: 0.0194698\ttotal: 5.5s\tremaining: 314ms\n",
      "946:\tlearn: 0.0194373\ttotal: 5.5s\tremaining: 308ms\n",
      "947:\tlearn: 0.0194304\ttotal: 5.51s\tremaining: 302ms\n",
      "948:\tlearn: 0.0193972\ttotal: 5.52s\tremaining: 297ms\n",
      "949:\tlearn: 0.0193604\ttotal: 5.52s\tremaining: 291ms\n",
      "950:\tlearn: 0.0193258\ttotal: 5.53s\tremaining: 285ms\n",
      "951:\tlearn: 0.0192905\ttotal: 5.53s\tremaining: 279ms\n",
      "952:\tlearn: 0.0192620\ttotal: 5.54s\tremaining: 273ms\n",
      "953:\tlearn: 0.0192368\ttotal: 5.55s\tremaining: 267ms\n",
      "954:\tlearn: 0.0192019\ttotal: 5.55s\tremaining: 262ms\n",
      "955:\tlearn: 0.0191726\ttotal: 5.56s\tremaining: 256ms\n",
      "956:\tlearn: 0.0191219\ttotal: 5.56s\tremaining: 250ms\n",
      "957:\tlearn: 0.0190822\ttotal: 5.57s\tremaining: 244ms\n",
      "958:\tlearn: 0.0190432\ttotal: 5.58s\tremaining: 238ms\n",
      "959:\tlearn: 0.0189828\ttotal: 5.58s\tremaining: 233ms\n",
      "960:\tlearn: 0.0189304\ttotal: 5.59s\tremaining: 227ms\n",
      "961:\tlearn: 0.0188970\ttotal: 5.59s\tremaining: 221ms\n",
      "962:\tlearn: 0.0188649\ttotal: 5.6s\tremaining: 215ms\n",
      "963:\tlearn: 0.0188220\ttotal: 5.6s\tremaining: 209ms\n",
      "964:\tlearn: 0.0187895\ttotal: 5.61s\tremaining: 203ms\n",
      "965:\tlearn: 0.0187492\ttotal: 5.61s\tremaining: 198ms\n",
      "966:\tlearn: 0.0187414\ttotal: 5.62s\tremaining: 192ms\n",
      "967:\tlearn: 0.0186918\ttotal: 5.63s\tremaining: 186ms\n",
      "968:\tlearn: 0.0186443\ttotal: 5.63s\tremaining: 180ms\n",
      "969:\tlearn: 0.0186041\ttotal: 5.64s\tremaining: 174ms\n",
      "970:\tlearn: 0.0185830\ttotal: 5.64s\tremaining: 169ms\n",
      "971:\tlearn: 0.0185558\ttotal: 5.65s\tremaining: 163ms\n",
      "972:\tlearn: 0.0185198\ttotal: 5.65s\tremaining: 157ms\n",
      "973:\tlearn: 0.0184789\ttotal: 5.66s\tremaining: 151ms\n",
      "974:\tlearn: 0.0184356\ttotal: 5.67s\tremaining: 145ms\n",
      "975:\tlearn: 0.0183904\ttotal: 5.67s\tremaining: 139ms\n",
      "976:\tlearn: 0.0183611\ttotal: 5.68s\tremaining: 134ms\n",
      "977:\tlearn: 0.0183229\ttotal: 5.68s\tremaining: 128ms\n",
      "978:\tlearn: 0.0182900\ttotal: 5.69s\tremaining: 122ms\n",
      "979:\tlearn: 0.0182547\ttotal: 5.69s\tremaining: 116ms\n",
      "980:\tlearn: 0.0182210\ttotal: 5.7s\tremaining: 110ms\n",
      "981:\tlearn: 0.0181767\ttotal: 5.71s\tremaining: 105ms\n",
      "982:\tlearn: 0.0181350\ttotal: 5.71s\tremaining: 98.8ms\n",
      "983:\tlearn: 0.0180925\ttotal: 5.72s\tremaining: 93ms\n",
      "984:\tlearn: 0.0180866\ttotal: 5.72s\tremaining: 87.2ms\n",
      "985:\tlearn: 0.0180415\ttotal: 5.73s\tremaining: 81.3ms\n",
      "986:\tlearn: 0.0179976\ttotal: 5.74s\tremaining: 75.5ms\n",
      "987:\tlearn: 0.0179540\ttotal: 5.74s\tremaining: 69.7ms\n",
      "988:\tlearn: 0.0179142\ttotal: 5.75s\tremaining: 63.9ms\n",
      "989:\tlearn: 0.0178865\ttotal: 5.75s\tremaining: 58.1ms\n",
      "990:\tlearn: 0.0178475\ttotal: 5.76s\tremaining: 52.3ms\n",
      "991:\tlearn: 0.0178128\ttotal: 5.76s\tremaining: 46.5ms\n",
      "992:\tlearn: 0.0177846\ttotal: 5.77s\tremaining: 40.7ms\n",
      "993:\tlearn: 0.0177763\ttotal: 5.77s\tremaining: 34.8ms\n",
      "994:\tlearn: 0.0177409\ttotal: 5.78s\tremaining: 29ms\n",
      "995:\tlearn: 0.0177341\ttotal: 5.78s\tremaining: 23.2ms\n",
      "996:\tlearn: 0.0177198\ttotal: 5.79s\tremaining: 17.4ms\n",
      "997:\tlearn: 0.0176820\ttotal: 5.79s\tremaining: 11.6ms\n",
      "998:\tlearn: 0.0176378\ttotal: 5.8s\tremaining: 5.81ms\n",
      "999:\tlearn: 0.0176079\ttotal: 5.81s\tremaining: 0us\n",
      "RMSE: 33600.47653649385\n",
      "MAE: 17652.209391249053\n",
      "R_square: 0.8416992446693282\n"
     ]
    }
   ],
   "source": [
    "modeling(CBR) # accept, best MAE"
   ]
  },
  {
   "cell_type": "markdown",
   "metadata": {},
   "source": [
    "### Final tuning"
   ]
  },
  {
   "cell_type": "code",
   "execution_count": 20,
   "metadata": {
    "ExecuteTime": {
     "end_time": "2020-04-09T15:46:17.374552Z",
     "start_time": "2020-04-09T15:45:11.156216Z"
    }
   },
   "outputs": [
    {
     "name": "stdout",
     "output_type": "stream",
     "text": [
      "[17:46:08] WARNING: src/objective/regression_obj.cu:152: reg:linear is now deprecated in favor of reg:squarederror.\n"
     ]
    },
    {
     "data": {
      "text/plain": [
       "{'subsample': 0.8,\n",
       " 'scale_pos_weight': 0.2,\n",
       " 'reg_lambda': 0.2,\n",
       " 'reg_alpha': 0.5,\n",
       " 'n_estimators': 1000,\n",
       " 'min_child_weight': 20,\n",
       " 'max_depth': 15,\n",
       " 'max_delta_step': 1,\n",
       " 'learning_rate': 0.05,\n",
       " 'colsample_bytree': 0.8}"
      ]
     },
     "execution_count": 20,
     "metadata": {},
     "output_type": "execute_result"
    }
   ],
   "source": [
    "params_XGBR = {\n",
    "    'max_depth': [5, 10, 15, 20, 25],\n",
    "    'learning_rate': [0.01, 0.02, 0.05, 0.1, 0.15],\n",
    "    'n_estimators': [500, 1000, 2000, 3000, 5000],\n",
    "    'min_child_weight': [0, 2, 5, 10, 20],\n",
    "    'max_delta_step': [0, 0.2, 0.6, 1, 2],\n",
    "    'subsample': [0.6, 0.7, 0.8, 0.85, 0.95],\n",
    "    'colsample_bytree': [0.5, 0.6, 0.7, 0.8, 0.9],\n",
    "    'reg_alpha': [0, 0.25, 0.5, 0.75, 1],\n",
    "    'reg_lambda': [0.2, 0.4, 0.6, 0.8, 1],\n",
    "    'scale_pos_weight': [0.2, 0.4, 0.6, 0.8, 1]\n",
    "}\n",
    "xgbr = XGBR()\n",
    "xgbr_clf = RandomizedSearchCV(xgbr, param_distributions=params_XGBR, cv=3,scoring='r2',n_jobs=-1,n_iter=20)\n",
    "xgbr_clf.fit(X_train_origin,y_train_origin)\n",
    "xgbr_clf.best_params_"
   ]
  },
  {
   "cell_type": "code",
   "execution_count": 21,
   "metadata": {
    "ExecuteTime": {
     "end_time": "2020-04-09T15:48:11.382138Z",
     "start_time": "2020-04-09T15:46:17.375549Z"
    }
   },
   "outputs": [
    {
     "data": {
      "text/plain": [
       "{'subsample': 0.6,\n",
       " 'num_leaves': 63,\n",
       " 'n_estimators': 2000,\n",
       " 'max_depth': 4,\n",
       " 'learning_rate': 0.02,\n",
       " 'colsample_bytree': 1.0}"
      ]
     },
     "execution_count": 21,
     "metadata": {},
     "output_type": "execute_result"
    }
   ],
   "source": [
    "params_LGBMR = {'n_estimators': [1000, 1500, 2000, 2500],\n",
    "               'max_depth':  [4, 5, 8, -1],\n",
    "               'num_leaves': [15, 31, 63, 127],\n",
    "               'subsample': [0.6, 0.7, 0.8, 1.0],\n",
    "               'colsample_bytree': [0.6, 0.7, 0.8, 1.0],\n",
    "               'learning_rate' : [0.01,0.02,0.03]\n",
    "              }\n",
    "lgbmr = LGBMR()\n",
    "lgbmr_clf = RandomizedSearchCV(lgbmr, param_distributions=params_LGBMR, cv=3,scoring='r2',n_jobs=-1,n_iter=20)\n",
    "lgbmr_clf.fit(X_train_origin,y_train_origin)\n",
    "lgbmr_clf.best_params_"
   ]
  },
  {
   "cell_type": "code",
   "execution_count": 22,
   "metadata": {
    "ExecuteTime": {
     "end_time": "2020-04-09T15:48:16.512900Z",
     "start_time": "2020-04-09T15:48:11.384131Z"
    }
   },
   "outputs": [
    {
     "data": {
      "text/plain": [
       "{'n_estimators': 80,\n",
       " 'min_samples_leaf': 14,\n",
       " 'max_features': 0.3,\n",
       " 'max_depth': 6,\n",
       " 'learning_rate': 0.05}"
      ]
     },
     "execution_count": 22,
     "metadata": {},
     "output_type": "execute_result"
    }
   ],
   "source": [
    "params_GBR = {'n_estimators':range(20,81,10),\n",
    "              'learning_rate': [0.2,0.1, 0.05, 0.02, 0.01 ],\n",
    "              'max_depth': [4, 6,8],\n",
    "              'min_samples_leaf': [3, 5, 9, 14],\n",
    "              'max_features': [0.8,0.5,0.3, 0.1]}\n",
    "gbr = GBR()\n",
    "gbr_clf = RandomizedSearchCV(gbr, param_distributions=params_GBR, cv=3,scoring='r2',n_jobs=-1,n_iter=20)\n",
    "gbr_clf.fit(X_train_origin,y_train_origin)\n",
    "gbr_clf.best_params_"
   ]
  },
  {
   "cell_type": "markdown",
   "metadata": {},
   "source": [
    "### Train the best model"
   ]
  },
  {
   "cell_type": "code",
   "execution_count": 25,
   "metadata": {
    "ExecuteTime": {
     "end_time": "2020-04-09T16:07:32.899892Z",
     "start_time": "2020-04-09T16:07:24.087772Z"
    }
   },
   "outputs": [
    {
     "name": "stdout",
     "output_type": "stream",
     "text": [
      "[18:07:24] WARNING: src/objective/regression_obj.cu:152: reg:linear is now deprecated in favor of reg:squarederror.\n"
     ]
    },
    {
     "data": {
      "text/plain": [
       "['../models/xgbr.m']"
      ]
     },
     "execution_count": 25,
     "metadata": {},
     "output_type": "execute_result"
    }
   ],
   "source": [
    "xgbr_best = XGBR(subsample=0.8,scale_pos_weight=0.2,reg_alpha=0.5,reg_lambda=0.2,n_estimators=1000,min_child_weight=20,max_depth=15,\n",
    "                max_delta_step=1,learning_rate=0.05,colsample_bytree=0.8)\n",
    "xgbr_best.fit(X_train_origin,y_train_origin)\n",
    "joblib.dump(xgbr_best,'../models/xgbr.m')"
   ]
  },
  {
   "cell_type": "code",
   "execution_count": 26,
   "metadata": {
    "ExecuteTime": {
     "end_time": "2020-04-09T16:07:42.091693Z",
     "start_time": "2020-04-09T16:07:40.274521Z"
    }
   },
   "outputs": [
    {
     "data": {
      "text/plain": [
       "['../models/lgbmr.m']"
      ]
     },
     "execution_count": 26,
     "metadata": {},
     "output_type": "execute_result"
    }
   ],
   "source": [
    "lgbmr_best = LGBMR(subsample=0.6,num_leaves=63,n_estimators=2000,max_depth=4,learning_rate=0.02,colsample_bytree=1.0)\n",
    "lgbmr_best.fit(X_train_origin,y_train_origin)\n",
    "joblib.dump(lgbmr_best,'../models/lgbmr.m')"
   ]
  },
  {
   "cell_type": "code",
   "execution_count": 27,
   "metadata": {
    "ExecuteTime": {
     "end_time": "2020-04-09T16:12:58.183100Z",
     "start_time": "2020-04-09T16:12:57.299745Z"
    }
   },
   "outputs": [
    {
     "data": {
      "text/plain": [
       "['../models/gbr.m']"
      ]
     },
     "execution_count": 27,
     "metadata": {},
     "output_type": "execute_result"
    }
   ],
   "source": [
    "gbr_best = GBR(n_estimators=80,min_samples_leaf=14,max_features=0.3,max_depth=6,learning_rate=0.05)\n",
    "gbr_best.fit(X_train_origin,y_train_origin)\n",
    "joblib.dump(gbr_best,'../models/gbr.m')"
   ]
  },
  {
   "cell_type": "code",
   "execution_count": 29,
   "metadata": {
    "ExecuteTime": {
     "end_time": "2020-04-09T16:24:41.920864Z",
     "start_time": "2020-04-09T16:24:30.600287Z"
    }
   },
   "outputs": [
    {
     "name": "stdout",
     "output_type": "stream",
     "text": [
      "[18:24:30] WARNING: src/objective/regression_obj.cu:152: reg:linear is now deprecated in favor of reg:squarederror.\n"
     ]
    },
    {
     "data": {
      "text/plain": [
       "['../models/voter.m']"
      ]
     },
     "execution_count": 29,
     "metadata": {},
     "output_type": "execute_result"
    }
   ],
   "source": [
    "voter = VR(\n",
    "    estimators=[('xgbr', xgbr_best), ('lgbmr', lgbmr_best), ('gbr', gbr_best)])\n",
    "voter.fit(X_train_origin, y_train_origin)\n",
    "joblib.dump(voter, '../models/voter.m')"
   ]
  },
  {
   "cell_type": "code",
   "execution_count": null,
   "metadata": {},
   "outputs": [],
   "source": []
  }
 ],
 "metadata": {
  "kernelspec": {
   "display_name": "Python 3",
   "language": "python",
   "name": "python3"
  },
  "language_info": {
   "codemirror_mode": {
    "name": "ipython",
    "version": 3
   },
   "file_extension": ".py",
   "mimetype": "text/x-python",
   "name": "python",
   "nbconvert_exporter": "python",
   "pygments_lexer": "ipython3",
   "version": "3.6.9"
  },
  "latex_envs": {
   "LaTeX_envs_menu_present": true,
   "autoclose": false,
   "autocomplete": true,
   "bibliofile": "biblio.bib",
   "cite_by": "apalike",
   "current_citInitial": 1,
   "eqLabelWithNumbers": true,
   "eqNumInitial": 1,
   "hotkeys": {
    "equation": "Ctrl-E",
    "itemize": "Ctrl-I"
   },
   "labels_anchors": false,
   "latex_user_defs": false,
   "report_style_numbering": false,
   "user_envs_cfg": false
  },
  "toc": {
   "base_numbering": 1,
   "nav_menu": {},
   "number_sections": true,
   "sideBar": true,
   "skip_h1_title": false,
   "title_cell": "Table of Contents",
   "title_sidebar": "Contents",
   "toc_cell": false,
   "toc_position": {},
   "toc_section_display": true,
   "toc_window_display": false
  }
 },
 "nbformat": 4,
 "nbformat_minor": 4
}
