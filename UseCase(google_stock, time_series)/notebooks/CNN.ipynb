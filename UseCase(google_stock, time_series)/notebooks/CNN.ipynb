{
 "cells": [
  {
   "cell_type": "code",
   "execution_count": 1,
   "metadata": {
    "ExecuteTime": {
     "end_time": "2020-04-25T12:31:49.004717Z",
     "start_time": "2020-04-25T12:31:45.939882Z"
    }
   },
   "outputs": [],
   "source": [
    "import pandas as pd\n",
    "import numpy as np\n",
    "from sklearn.preprocessing import MinMaxScaler\n",
    "import tensorflow as tf\n",
    "from tensorflow.keras import Sequential\n",
    "from tensorflow.keras.optimizers import Adam\n",
    "from tensorflow.keras.layers import Conv1D,Dense,BatchNormalization,Dropout,Flatten\n",
    "from sklearn.preprocessing import MinMaxScaler\n",
    "from sklearn.metrics import mean_squared_error\n",
    "import matplotlib.pyplot as plt\n",
    "%matplotlib inline"
   ]
  },
  {
   "cell_type": "code",
   "execution_count": 2,
   "metadata": {
    "ExecuteTime": {
     "end_time": "2020-04-25T12:31:49.014645Z",
     "start_time": "2020-04-25T12:31:49.005670Z"
    }
   },
   "outputs": [
    {
     "data": {
      "text/plain": [
       "(3809, 1)"
      ]
     },
     "execution_count": 2,
     "metadata": {},
     "output_type": "execute_result"
    }
   ],
   "source": [
    "data = pd.read_csv('../data/one_feature_data.csv')\n",
    "data.shape"
   ]
  },
  {
   "cell_type": "markdown",
   "metadata": {},
   "source": [
    "### Train, Val, Test spliting"
   ]
  },
  {
   "cell_type": "code",
   "execution_count": 3,
   "metadata": {
    "ExecuteTime": {
     "end_time": "2020-04-25T12:31:49.022625Z",
     "start_time": "2020-04-25T12:31:49.015643Z"
    }
   },
   "outputs": [
    {
     "data": {
      "text/plain": [
       "((3048, 1), (761, 1))"
      ]
     },
     "execution_count": 3,
     "metadata": {},
     "output_type": "execute_result"
    }
   ],
   "source": [
    "train_org = data.iloc[:3048,:]\n",
    "test = data.iloc[3048:,:]\n",
    "train_org.shape, test.shape   "
   ]
  },
  {
   "cell_type": "code",
   "execution_count": 4,
   "metadata": {
    "ExecuteTime": {
     "end_time": "2020-04-25T12:31:49.030631Z",
     "start_time": "2020-04-25T12:31:49.024619Z"
    }
   },
   "outputs": [],
   "source": [
    "scaler = MinMaxScaler()\n",
    "train_org = scaler.fit_transform(train_org)\n",
    "test = scaler.transform(test)"
   ]
  },
  {
   "cell_type": "code",
   "execution_count": 5,
   "metadata": {
    "ExecuteTime": {
     "end_time": "2020-04-25T12:31:49.037590Z",
     "start_time": "2020-04-25T12:31:49.031610Z"
    }
   },
   "outputs": [
    {
     "data": {
      "text/plain": [
       "((2287, 1), (761, 1))"
      ]
     },
     "execution_count": 5,
     "metadata": {},
     "output_type": "execute_result"
    }
   ],
   "source": [
    "train = train_org[:2287, :]\n",
    "val = train_org[2287:, :]\n",
    "train.shape, val.shape                     # train: 2287 seqs, val: 761 seqs, test: 761 seqs"
   ]
  },
  {
   "cell_type": "code",
   "execution_count": 6,
   "metadata": {
    "ExecuteTime": {
     "end_time": "2020-04-25T12:31:49.051583Z",
     "start_time": "2020-04-25T12:31:49.039579Z"
    }
   },
   "outputs": [
    {
     "data": {
      "text/plain": [
       "((2256, 30, 1), (2256, 1, 1))"
      ]
     },
     "execution_count": 6,
     "metadata": {},
     "output_type": "execute_result"
    }
   ],
   "source": [
    "X_train=[]\n",
    "y_train=[]\n",
    "\n",
    "for i in range(0,train.shape[0]-31):         # idea: use 30 previous day to predict next 1 day\n",
    "    X_train.append(train[i:i+30,:])\n",
    "    y_train.append(train[i+30:i+31,:])\n",
    "\n",
    "X_train,y_train=np.array(X_train),np.array(y_train)\n",
    "X_train.shape,y_train.shape"
   ]
  },
  {
   "cell_type": "code",
   "execution_count": 7,
   "metadata": {
    "ExecuteTime": {
     "end_time": "2020-04-25T12:31:49.063515Z",
     "start_time": "2020-04-25T12:31:49.053546Z"
    }
   },
   "outputs": [
    {
     "data": {
      "text/plain": [
       "((730, 30, 1), (730, 1, 1))"
      ]
     },
     "execution_count": 7,
     "metadata": {},
     "output_type": "execute_result"
    }
   ],
   "source": [
    "X_val=[]\n",
    "y_val=[]\n",
    "\n",
    "for i in range(0,val.shape[0]-31):         # idea: use 30 previous day to predict next 1 day\n",
    "    X_val.append(val[i:i+30,:])\n",
    "    y_val.append(val[i+30:i+31,:])\n",
    "\n",
    "X_val,y_val=np.array(X_val),np.array(y_val)\n",
    "X_val.shape,y_val.shape"
   ]
  },
  {
   "cell_type": "code",
   "execution_count": 8,
   "metadata": {
    "ExecuteTime": {
     "end_time": "2020-04-25T12:31:49.075486Z",
     "start_time": "2020-04-25T12:31:49.064548Z"
    }
   },
   "outputs": [
    {
     "data": {
      "text/plain": [
       "((730, 30, 1), (730, 1, 1))"
      ]
     },
     "execution_count": 8,
     "metadata": {},
     "output_type": "execute_result"
    }
   ],
   "source": [
    "X_test=[]\n",
    "y_test=[]\n",
    "\n",
    "for i in range(0,test.shape[0]-31):         # idea: use 30 previous day to predict next 1 day\n",
    "    X_test.append(test[i:i+30,:])\n",
    "    y_test.append(test[i+30:i+31,:])\n",
    "\n",
    "X_test,y_test=np.array(X_test),np.array(y_test)\n",
    "X_test.shape,y_test.shape"
   ]
  },
  {
   "cell_type": "markdown",
   "metadata": {
    "ExecuteTime": {
     "end_time": "2020-04-24T16:26:33.498263Z",
     "start_time": "2020-04-24T16:26:33.491281Z"
    }
   },
   "source": [
    "### Modeling"
   ]
  },
  {
   "cell_type": "code",
   "execution_count": 9,
   "metadata": {
    "ExecuteTime": {
     "end_time": "2020-04-25T12:31:50.003358Z",
     "start_time": "2020-04-25T12:31:49.077516Z"
    }
   },
   "outputs": [],
   "source": [
    "model=Sequential() \n",
    "\n",
    "model.add(Conv1D(filters=16,activation='relu',kernel_size=2, input_shape=(X_train.shape[1],X_train.shape[2]))) \n",
    "model.add(BatchNormalization())\n",
    "model.add(Dropout(0.2))\n",
    "\n",
    "model.add(Flatten())\n",
    "model.add(Dense(8,activation='relu')) \n",
    "model.add(Dropout(0.2))\n",
    "\n",
    "model.add(Dense(1)) "
   ]
  },
  {
   "cell_type": "code",
   "execution_count": 10,
   "metadata": {
    "ExecuteTime": {
     "end_time": "2020-04-25T12:31:50.022988Z",
     "start_time": "2020-04-25T12:31:50.004000Z"
    }
   },
   "outputs": [],
   "source": [
    "opt = Adam(learning_rate=0.001)\n",
    "model.compile(optimizer=opt,loss='mean_squared_error')"
   ]
  },
  {
   "cell_type": "code",
   "execution_count": 11,
   "metadata": {
    "ExecuteTime": {
     "end_time": "2020-04-25T12:32:05.765649Z",
     "start_time": "2020-04-25T12:31:50.024973Z"
    }
   },
   "outputs": [
    {
     "name": "stdout",
     "output_type": "stream",
     "text": [
      "Train on 2256 samples, validate on 730 samples\n",
      "Epoch 1/50\n",
      "2256/2256 [==============================] - 3s 1ms/sample - loss: 0.1217 - val_loss: 0.3120\n",
      "Epoch 2/50\n",
      "2256/2256 [==============================] - 0s 112us/sample - loss: 0.0292 - val_loss: 0.3157\n",
      "Epoch 3/50\n",
      "2256/2256 [==============================] - 0s 113us/sample - loss: 0.0117 - val_loss: 0.2064\n",
      "Epoch 4/50\n",
      "2256/2256 [==============================] - 0s 118us/sample - loss: 0.0085 - val_loss: 0.1950\n",
      "Epoch 5/50\n",
      "2256/2256 [==============================] - 0s 115us/sample - loss: 0.0061 - val_loss: 0.1627\n",
      "Epoch 6/50\n",
      "2256/2256 [==============================] - 0s 115us/sample - loss: 0.0054 - val_loss: 0.1121\n",
      "Epoch 7/50\n",
      "2256/2256 [==============================] - 0s 114us/sample - loss: 0.0043 - val_loss: 0.0968\n",
      "Epoch 8/50\n",
      "2256/2256 [==============================] - 0s 115us/sample - loss: 0.0037 - val_loss: 0.0634\n",
      "Epoch 9/50\n",
      "2256/2256 [==============================] - 0s 112us/sample - loss: 0.0040 - val_loss: 0.0397\n",
      "Epoch 10/50\n",
      "2256/2256 [==============================] - 0s 114us/sample - loss: 0.0039 - val_loss: 0.0311\n",
      "Epoch 11/50\n",
      "2256/2256 [==============================] - 0s 113us/sample - loss: 0.0031 - val_loss: 0.0120\n",
      "Epoch 12/50\n",
      "2256/2256 [==============================] - 0s 115us/sample - loss: 0.0030 - val_loss: 0.0091\n",
      "Epoch 13/50\n",
      "2256/2256 [==============================] - 0s 115us/sample - loss: 0.0027 - val_loss: 0.0060\n",
      "Epoch 14/50\n",
      "2256/2256 [==============================] - 0s 114us/sample - loss: 0.0027 - val_loss: 0.0030\n",
      "Epoch 15/50\n",
      "2256/2256 [==============================] - 0s 114us/sample - loss: 0.0030 - val_loss: 0.0036\n",
      "Epoch 16/50\n",
      "2256/2256 [==============================] - 0s 114us/sample - loss: 0.0029 - val_loss: 0.0022\n",
      "Epoch 17/50\n",
      "2256/2256 [==============================] - 0s 138us/sample - loss: 0.0027 - val_loss: 0.0022\n",
      "Epoch 18/50\n",
      "2256/2256 [==============================] - 0s 111us/sample - loss: 0.0025 - val_loss: 0.0062\n",
      "Epoch 19/50\n",
      "2256/2256 [==============================] - 0s 118us/sample - loss: 0.0026 - val_loss: 0.0117\n",
      "Epoch 20/50\n",
      "2256/2256 [==============================] - 0s 136us/sample - loss: 0.0025 - val_loss: 0.0012\n",
      "Epoch 21/50\n",
      "2256/2256 [==============================] - 0s 118us/sample - loss: 0.0029 - val_loss: 0.0077\n",
      "Epoch 22/50\n",
      "2256/2256 [==============================] - 0s 110us/sample - loss: 0.0024 - val_loss: 0.0065\n",
      "Epoch 23/50\n",
      "2256/2256 [==============================] - 0s 119us/sample - loss: 0.0023 - val_loss: 0.0116\n",
      "Epoch 24/50\n",
      "2256/2256 [==============================] - 0s 119us/sample - loss: 0.0025 - val_loss: 0.0122\n",
      "Epoch 25/50\n",
      "2256/2256 [==============================] - 0s 109us/sample - loss: 0.0026 - val_loss: 5.8177e-04\n",
      "Epoch 26/50\n",
      "2256/2256 [==============================] - 0s 116us/sample - loss: 0.0024 - val_loss: 8.4569e-04\n",
      "Epoch 27/50\n",
      "2256/2256 [==============================] - 0s 117us/sample - loss: 0.0024 - val_loss: 0.0013\n",
      "Epoch 28/50\n",
      "2256/2256 [==============================] - 0s 117us/sample - loss: 0.0023 - val_loss: 0.0044\n",
      "Epoch 29/50\n",
      "2256/2256 [==============================] - 0s 136us/sample - loss: 0.0024 - val_loss: 0.0018\n",
      "Epoch 30/50\n",
      "2256/2256 [==============================] - 0s 114us/sample - loss: 0.0025 - val_loss: 0.0011\n",
      "Epoch 31/50\n",
      "2256/2256 [==============================] - 0s 117us/sample - loss: 0.0022 - val_loss: 0.0040\n",
      "Epoch 32/50\n",
      "2256/2256 [==============================] - 0s 115us/sample - loss: 0.0024 - val_loss: 4.7246e-04\n",
      "Epoch 33/50\n",
      "2256/2256 [==============================] - 0s 118us/sample - loss: 0.0023 - val_loss: 0.0072\n",
      "Epoch 34/50\n",
      "2256/2256 [==============================] - 0s 119us/sample - loss: 0.0022 - val_loss: 0.0061\n",
      "Epoch 35/50\n",
      "2256/2256 [==============================] - 0s 134us/sample - loss: 0.0024 - val_loss: 0.0074\n",
      "Epoch 36/50\n",
      "2256/2256 [==============================] - 0s 118us/sample - loss: 0.0022 - val_loss: 0.0035\n",
      "Epoch 37/50\n",
      "2256/2256 [==============================] - 0s 115us/sample - loss: 0.0022 - val_loss: 0.0035\n",
      "Epoch 38/50\n",
      "2256/2256 [==============================] - 0s 125us/sample - loss: 0.0026 - val_loss: 0.0063\n",
      "Epoch 39/50\n",
      "2256/2256 [==============================] - 0s 118us/sample - loss: 0.0022 - val_loss: 0.0044\n",
      "Epoch 40/50\n",
      "2256/2256 [==============================] - 0s 114us/sample - loss: 0.0024 - val_loss: 0.0076\n",
      "Epoch 41/50\n",
      "2256/2256 [==============================] - 0s 119us/sample - loss: 0.0024 - val_loss: 0.0012\n",
      "Epoch 42/50\n",
      "2256/2256 [==============================] - 0s 132us/sample - loss: 0.0025 - val_loss: 0.0021\n",
      "Epoch 43/50\n",
      "2256/2256 [==============================] - 0s 138us/sample - loss: 0.0024 - val_loss: 0.0068\n",
      "Epoch 44/50\n",
      "2256/2256 [==============================] - 0s 115us/sample - loss: 0.0025 - val_loss: 0.0047\n",
      "Epoch 45/50\n",
      "2256/2256 [==============================] - 0s 113us/sample - loss: 0.0024 - val_loss: 0.0069\n",
      "Epoch 46/50\n",
      "2256/2256 [==============================] - 0s 113us/sample - loss: 0.0020 - val_loss: 0.0080\n",
      "Epoch 47/50\n",
      "2256/2256 [==============================] - 0s 119us/sample - loss: 0.0025 - val_loss: 5.4623e-04\n",
      "Epoch 48/50\n",
      "2256/2256 [==============================] - 0s 117us/sample - loss: 0.0020 - val_loss: 0.0084\n",
      "Epoch 49/50\n",
      "2256/2256 [==============================] - 0s 115us/sample - loss: 0.0024 - val_loss: 0.0020\n",
      "Epoch 50/50\n",
      "2256/2256 [==============================] - 0s 111us/sample - loss: 0.0022 - val_loss: 9.5017e-04\n"
     ]
    }
   ],
   "source": [
    "history = model.fit(X_train, y_train, epochs=50, batch_size=32,\n",
    "                    validation_data=(X_val, y_val), verbose=1)"
   ]
  },
  {
   "cell_type": "code",
   "execution_count": 12,
   "metadata": {
    "ExecuteTime": {
     "end_time": "2020-04-25T12:32:05.894340Z",
     "start_time": "2020-04-25T12:32:05.766646Z"
    }
   },
   "outputs": [
    {
     "data": {
      "image/png": "[encoded data removed]",
      "text/plain": [
       "<Figure size 432x288 with 1 Axes>"
      ]
     },
     "metadata": {
      "needs_background": "light"
     },
     "output_type": "display_data"
    }
   ],
   "source": [
    "epoch_range=range(1,50+1)\n",
    "plt.plot(history.history['loss'])\n",
    "plt.plot(history.history['val_loss'])\n",
    "plt.title('Model loss')\n",
    "plt.ylabel('Loss')\n",
    "plt.xlabel('Epoch')\n",
    "# plt.xticks([x for x in range(epoch+1)])\n",
    "plt.legend(['Train','Val'],loc='upper left')\n",
    "plt.show()"
   ]
  },
  {
   "cell_type": "markdown",
   "metadata": {},
   "source": [
    "### Evaluation"
   ]
  },
  {
   "cell_type": "code",
   "execution_count": 13,
   "metadata": {
    "ExecuteTime": {
     "end_time": "2020-04-25T12:32:06.016977Z",
     "start_time": "2020-04-25T12:32:05.895359Z"
    }
   },
   "outputs": [
    {
     "data": {
      "text/plain": [
       "(730, 1)"
      ]
     },
     "execution_count": 13,
     "metadata": {},
     "output_type": "execute_result"
    }
   ],
   "source": [
    "y_pred = model.predict(X_test)\n",
    "y_pred.shape"
   ]
  },
  {
   "cell_type": "code",
   "execution_count": 14,
   "metadata": {
    "ExecuteTime": {
     "end_time": "2020-04-25T12:32:06.021992Z",
     "start_time": "2020-04-25T12:32:06.018972Z"
    }
   },
   "outputs": [
    {
     "data": {
      "text/plain": [
       "(730, 1)"
      ]
     },
     "execution_count": 14,
     "metadata": {},
     "output_type": "execute_result"
    }
   ],
   "source": [
    "y_pred = scaler.inverse_transform(y_pred)\n",
    "y_pred.shape"
   ]
  },
  {
   "cell_type": "code",
   "execution_count": 15,
   "metadata": {
    "ExecuteTime": {
     "end_time": "2020-04-25T12:32:06.029973Z",
     "start_time": "2020-04-25T12:32:06.022961Z"
    }
   },
   "outputs": [
    {
     "data": {
      "text/plain": [
       "0.0013565203795903229"
      ]
     },
     "execution_count": 15,
     "metadata": {},
     "output_type": "execute_result"
    }
   ],
   "source": [
    "scale = scaler.scale_[0]\n",
    "scale"
   ]
  },
  {
   "cell_type": "code",
   "execution_count": 16,
   "metadata": {
    "ExecuteTime": {
     "end_time": "2020-04-25T12:32:06.036923Z",
     "start_time": "2020-04-25T12:32:06.030940Z"
    }
   },
   "outputs": [
    {
     "data": {
      "text/plain": [
       "-0.06702540200800232"
      ]
     },
     "execution_count": 16,
     "metadata": {},
     "output_type": "execute_result"
    }
   ],
   "source": [
    "bias = scaler.min_[0]\n",
    "bias"
   ]
  },
  {
   "cell_type": "code",
   "execution_count": 17,
   "metadata": {
    "ExecuteTime": {
     "end_time": "2020-04-25T12:32:06.042945Z",
     "start_time": "2020-04-25T12:32:06.038918Z"
    }
   },
   "outputs": [],
   "source": [
    "y_test = (y_test-bias)/scale"
   ]
  },
  {
   "cell_type": "code",
   "execution_count": 18,
   "metadata": {
    "ExecuteTime": {
     "end_time": "2020-04-25T12:32:06.048927Z",
     "start_time": "2020-04-25T12:32:06.043924Z"
    }
   },
   "outputs": [],
   "source": [
    "y_test=y_test.reshape(730,1)"
   ]
  },
  {
   "cell_type": "code",
   "execution_count": 19,
   "metadata": {
    "ExecuteTime": {
     "end_time": "2020-04-25T12:32:06.202516Z",
     "start_time": "2020-04-25T12:32:06.049920Z"
    }
   },
   "outputs": [
    {
     "data": {
      "image/png": "[encoded data removed]",
      "text/plain": [
       "<Figure size 1008x360 with 1 Axes>"
      ]
     },
     "metadata": {
      "needs_background": "light"
     },
     "output_type": "display_data"
    }
   ],
   "source": [
    "plt.figure(figsize=(14,5))\n",
    "plt.plot(y_test,label='real')\n",
    "plt.plot(y_pred,label='pred')\n",
    "plt.ylabel('Open')\n",
    "plt.legend()\n",
    "plt.show()"
   ]
  },
  {
   "cell_type": "code",
   "execution_count": 20,
   "metadata": {
    "ExecuteTime": {
     "end_time": "2020-04-25T12:34:28.110315Z",
     "start_time": "2020-04-25T12:34:28.069801Z"
    }
   },
   "outputs": [],
   "source": [
    "model.save('../model/CNN.h5')"
   ]
  },
  {
   "cell_type": "code",
   "execution_count": null,
   "metadata": {},
   "outputs": [],
   "source": []
  }
 ],
 "metadata": {
  "kernelspec": {
   "display_name": "Python 3",
   "language": "python",
   "name": "python3"
  },
  "language_info": {
   "codemirror_mode": {
    "name": "ipython",
    "version": 3
   },
   "file_extension": ".py",
   "mimetype": "text/x-python",
   "name": "python",
   "nbconvert_exporter": "python",
   "pygments_lexer": "ipython3",
   "version": "3.6.9"
  },
  "toc": {
   "base_numbering": 1,
   "nav_menu": {},
   "number_sections": true,
   "sideBar": true,
   "skip_h1_title": false,
   "title_cell": "Table of Contents",
   "title_sidebar": "Contents",
   "toc_cell": false,
   "toc_position": {},
   "toc_section_display": true,
   "toc_window_display": false
  }
 },
 "nbformat": 4,
 "nbformat_minor": 4
}
