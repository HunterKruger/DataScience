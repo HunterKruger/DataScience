{
 "cells": [
  {
   "cell_type": "code",
   "execution_count": 1,
   "metadata": {
    "ExecuteTime": {
     "end_time": "2020-05-03T15:39:11.973123Z",
     "start_time": "2020-05-03T15:39:09.440683Z"
    }
   },
   "outputs": [],
   "source": [
    "import pandas as pd\n",
    "import numpy as np\n",
    "from sklearn.preprocessing import MinMaxScaler\n",
    "import tensorflow as tf\n",
    "from tensorflow.keras import Sequential\n",
    "from tensorflow.keras.optimizers import Adam\n",
    "from tensorflow.keras.layers import LSTM,Dense,BatchNormalization,Dropout\n",
    "from sklearn.preprocessing import MinMaxScaler\n",
    "from sklearn.metrics import mean_squared_error\n",
    "import matplotlib.pyplot as plt\n",
    "%matplotlib inline"
   ]
  },
  {
   "cell_type": "code",
   "execution_count": 2,
   "metadata": {
    "ExecuteTime": {
     "end_time": "2020-05-03T15:39:11.985903Z",
     "start_time": "2020-05-03T15:39:11.974905Z"
    }
   },
   "outputs": [
    {
     "data": {
      "text/plain": [
       "(3809, 1)"
      ]
     },
     "execution_count": 2,
     "metadata": {},
     "output_type": "execute_result"
    }
   ],
   "source": [
    "data = pd.read_csv('../data/one_feature_data.csv')\n",
    "data.shape"
   ]
  },
  {
   "cell_type": "code",
   "execution_count": 3,
   "metadata": {
    "ExecuteTime": {
     "end_time": "2020-05-03T15:39:12.001833Z",
     "start_time": "2020-05-03T15:39:11.987869Z"
    }
   },
   "outputs": [
    {
     "data": {
      "text/html": [
       "<div>\n",
       "<style scoped>\n",
       "    .dataframe tbody tr th:only-of-type {\n",
       "        vertical-align: middle;\n",
       "    }\n",
       "\n",
       "    .dataframe tbody tr th {\n",
       "        vertical-align: top;\n",
       "    }\n",
       "\n",
       "    .dataframe thead th {\n",
       "        text-align: right;\n",
       "    }\n",
       "</style>\n",
       "<table border=\"1\" class=\"dataframe\">\n",
       "  <thead>\n",
       "    <tr style=\"text-align: right;\">\n",
       "      <th></th>\n",
       "      <th>Open</th>\n",
       "    </tr>\n",
       "  </thead>\n",
       "  <tbody>\n",
       "    <tr>\n",
       "      <th>0</th>\n",
       "      <td>49.813286</td>\n",
       "    </tr>\n",
       "    <tr>\n",
       "      <th>1</th>\n",
       "      <td>50.316402</td>\n",
       "    </tr>\n",
       "    <tr>\n",
       "      <th>2</th>\n",
       "      <td>55.168217</td>\n",
       "    </tr>\n",
       "    <tr>\n",
       "      <th>3</th>\n",
       "      <td>55.412300</td>\n",
       "    </tr>\n",
       "    <tr>\n",
       "      <th>4</th>\n",
       "      <td>52.284027</td>\n",
       "    </tr>\n",
       "  </tbody>\n",
       "</table>\n",
       "</div>"
      ],
      "text/plain": [
       "        Open\n",
       "0  49.813286\n",
       "1  50.316402\n",
       "2  55.168217\n",
       "3  55.412300\n",
       "4  52.284027"
      ]
     },
     "execution_count": 3,
     "metadata": {},
     "output_type": "execute_result"
    }
   ],
   "source": [
    "data.head()"
   ]
  },
  {
   "cell_type": "markdown",
   "metadata": {},
   "source": [
    "### Train, Val, Test spliting"
   ]
  },
  {
   "cell_type": "code",
   "execution_count": 4,
   "metadata": {
    "ExecuteTime": {
     "end_time": "2020-05-03T15:39:12.009832Z",
     "start_time": "2020-05-03T15:39:12.002830Z"
    }
   },
   "outputs": [
    {
     "data": {
      "text/plain": [
       "((3048, 1), (761, 1))"
      ]
     },
     "execution_count": 4,
     "metadata": {},
     "output_type": "execute_result"
    }
   ],
   "source": [
    "train_org = data.iloc[:3048,:]\n",
    "test = data.iloc[3048:,:]\n",
    "train_org.shape, test.shape   "
   ]
  },
  {
   "cell_type": "code",
   "execution_count": 5,
   "metadata": {
    "ExecuteTime": {
     "end_time": "2020-05-03T15:39:12.016853Z",
     "start_time": "2020-05-03T15:39:12.010808Z"
    }
   },
   "outputs": [],
   "source": [
    "scaler = MinMaxScaler()\n",
    "train_org = scaler.fit_transform(train_org)\n",
    "test = scaler.transform(test)"
   ]
  },
  {
   "cell_type": "code",
   "execution_count": 6,
   "metadata": {
    "ExecuteTime": {
     "end_time": "2020-05-03T15:39:12.024800Z",
     "start_time": "2020-05-03T15:39:12.017822Z"
    }
   },
   "outputs": [
    {
     "data": {
      "text/plain": [
       "((2287, 1), (761, 1))"
      ]
     },
     "execution_count": 6,
     "metadata": {},
     "output_type": "execute_result"
    }
   ],
   "source": [
    "train = train_org[:2287, :]\n",
    "val = train_org[2287:, :]\n",
    "train.shape, val.shape                     # train: 2287 seqs, val: 761 seqs, test: 761 seqs"
   ]
  },
  {
   "cell_type": "code",
   "execution_count": 7,
   "metadata": {
    "ExecuteTime": {
     "end_time": "2020-05-03T15:39:12.040728Z",
     "start_time": "2020-05-03T15:39:12.027764Z"
    }
   },
   "outputs": [
    {
     "data": {
      "text/plain": [
       "((2256, 30, 1), (2256, 1, 1))"
      ]
     },
     "execution_count": 7,
     "metadata": {},
     "output_type": "execute_result"
    }
   ],
   "source": [
    "X_train=[]\n",
    "y_train=[]\n",
    "\n",
    "for i in range(0,train.shape[0]-31):         # idea: use 30 previous day to predict next 1 day\n",
    "    X_train.append(train[i:i+30,:])\n",
    "    y_train.append(train[i+30:i+31,:])\n",
    "\n",
    "X_train,y_train=np.array(X_train),np.array(y_train)\n",
    "X_train.shape,y_train.shape"
   ]
  },
  {
   "cell_type": "code",
   "execution_count": 8,
   "metadata": {
    "ExecuteTime": {
     "end_time": "2020-05-03T15:39:12.051698Z",
     "start_time": "2020-05-03T15:39:12.042723Z"
    }
   },
   "outputs": [
    {
     "data": {
      "text/plain": [
       "((730, 30, 1), (730, 1, 1))"
      ]
     },
     "execution_count": 8,
     "metadata": {},
     "output_type": "execute_result"
    }
   ],
   "source": [
    "X_val=[]\n",
    "y_val=[]\n",
    "\n",
    "for i in range(0,val.shape[0]-31):         # idea: use 30 previous day to predict next 1 day\n",
    "    X_val.append(val[i:i+30,:])\n",
    "    y_val.append(val[i+30:i+31,:])\n",
    "\n",
    "X_val,y_val=np.array(X_val),np.array(y_val)\n",
    "X_val.shape,y_val.shape"
   ]
  },
  {
   "cell_type": "code",
   "execution_count": 9,
   "metadata": {
    "ExecuteTime": {
     "end_time": "2020-05-03T15:39:12.063695Z",
     "start_time": "2020-05-03T15:39:12.053694Z"
    }
   },
   "outputs": [
    {
     "data": {
      "text/plain": [
       "((730, 30, 1), (730, 1, 1))"
      ]
     },
     "execution_count": 9,
     "metadata": {},
     "output_type": "execute_result"
    }
   ],
   "source": [
    "X_test=[]\n",
    "y_test=[]\n",
    "\n",
    "for i in range(0,test.shape[0]-31):         # idea: use 30 previous day to predict next 1 day\n",
    "    X_test.append(test[i:i+30,:])\n",
    "    y_test.append(test[i+30:i+31,:])\n",
    "\n",
    "X_test,y_test=np.array(X_test),np.array(y_test)\n",
    "X_test.shape,y_test.shape"
   ]
  },
  {
   "cell_type": "markdown",
   "metadata": {
    "ExecuteTime": {
     "end_time": "2020-04-24T16:26:33.498263Z",
     "start_time": "2020-04-24T16:26:33.491281Z"
    }
   },
   "source": [
    "### Modeling"
   ]
  },
  {
   "cell_type": "code",
   "execution_count": 10,
   "metadata": {
    "ExecuteTime": {
     "end_time": "2020-05-03T15:39:13.327498Z",
     "start_time": "2020-05-03T15:39:12.065661Z"
    }
   },
   "outputs": [],
   "source": [
    "model = Sequential()\n",
    "\n",
    "model.add(LSTM(units=16, activation='tanh', return_sequences=False,\n",
    "               input_shape=(X_train.shape[1], X_train.shape[2])))\n",
    "\n",
    "# model.add(BatchNormalization())  BN is useless in RNN\n",
    "# model.add(Dropout(0.2))   Dropout in RNN will destroy memory, use recurrent_dropout param in LSTM instead\n",
    "\n",
    "model.add(Dense(1))"
   ]
  },
  {
   "cell_type": "code",
   "execution_count": 11,
   "metadata": {
    "ExecuteTime": {
     "end_time": "2020-05-03T15:39:13.335477Z",
     "start_time": "2020-05-03T15:39:13.328495Z"
    }
   },
   "outputs": [
    {
     "name": "stdout",
     "output_type": "stream",
     "text": [
      "Model: \"sequential\"\n",
      "_________________________________________________________________\n",
      "Layer (type)                 Output Shape              Param #   \n",
      "=================================================================\n",
      "lstm (LSTM)                  (None, 16)                1152      \n",
      "_________________________________________________________________\n",
      "dense (Dense)                (None, 1)                 17        \n",
      "=================================================================\n",
      "Total params: 1,169\n",
      "Trainable params: 1,169\n",
      "Non-trainable params: 0\n",
      "_________________________________________________________________\n"
     ]
    }
   ],
   "source": [
    "model.summary()\n",
    "# 1152=4*(16*1+16**2+16)   # 16 lstm units, 1 feature, 4 is constant for lstm unit, 3 for gru"
   ]
  },
  {
   "cell_type": "code",
   "execution_count": 12,
   "metadata": {
    "ExecuteTime": {
     "end_time": "2020-05-03T15:39:13.362404Z",
     "start_time": "2020-05-03T15:39:13.337472Z"
    }
   },
   "outputs": [],
   "source": [
    "opt = Adam(learning_rate=0.001)\n",
    "model.compile(optimizer=opt,loss='mean_squared_error')"
   ]
  },
  {
   "cell_type": "code",
   "execution_count": 13,
   "metadata": {
    "ExecuteTime": {
     "end_time": "2020-05-03T15:39:32.720500Z",
     "start_time": "2020-05-03T15:39:13.364398Z"
    }
   },
   "outputs": [
    {
     "name": "stdout",
     "output_type": "stream",
     "text": [
      "Train on 2256 samples, validate on 730 samples\n",
      "Epoch 1/30\n",
      "2256/2256 [==============================] - 5s 2ms/sample - loss: 0.0144 - val_loss: 0.0066\n",
      "Epoch 2/30\n",
      "2256/2256 [==============================] - 0s 211us/sample - loss: 8.1416e-04 - val_loss: 0.0033\n",
      "Epoch 3/30\n",
      "2256/2256 [==============================] - 0s 203us/sample - loss: 4.4554e-04 - val_loss: 0.0028\n",
      "Epoch 4/30\n",
      "2256/2256 [==============================] - 0s 207us/sample - loss: 3.8559e-04 - val_loss: 0.0019\n",
      "Epoch 5/30\n",
      "2256/2256 [==============================] - 0s 208us/sample - loss: 3.4209e-04 - val_loss: 0.0010\n",
      "Epoch 6/30\n",
      "2256/2256 [==============================] - 0s 208us/sample - loss: 2.9500e-04 - val_loss: 0.0012\n",
      "Epoch 7/30\n",
      "2256/2256 [==============================] - 0s 214us/sample - loss: 2.6925e-04 - val_loss: 0.0016\n",
      "Epoch 8/30\n",
      "2256/2256 [==============================] - 1s 223us/sample - loss: 2.4552e-04 - val_loss: 0.0020\n",
      "Epoch 9/30\n",
      "2256/2256 [==============================] - 0s 214us/sample - loss: 2.2683e-04 - val_loss: 0.0023\n",
      "Epoch 10/30\n",
      "2256/2256 [==============================] - 1s 230us/sample - loss: 2.1345e-04 - val_loss: 0.0024\n",
      "Epoch 11/30\n",
      "2256/2256 [==============================] - 0s 205us/sample - loss: 2.0437e-04 - val_loss: 0.0024\n",
      "Epoch 12/30\n",
      "2256/2256 [==============================] - 0s 211us/sample - loss: 1.9542e-04 - val_loss: 0.0022\n",
      "Epoch 13/30\n",
      "2256/2256 [==============================] - 0s 209us/sample - loss: 1.9015e-04 - val_loss: 0.0022\n",
      "Epoch 14/30\n",
      "2256/2256 [==============================] - 0s 209us/sample - loss: 1.8025e-04 - val_loss: 0.0019\n",
      "Epoch 15/30\n",
      "2256/2256 [==============================] - 0s 212us/sample - loss: 1.7317e-04 - val_loss: 0.0019\n",
      "Epoch 16/30\n",
      "2256/2256 [==============================] - 0s 210us/sample - loss: 1.6074e-04 - val_loss: 0.0020\n",
      "Epoch 17/30\n",
      "2256/2256 [==============================] - 0s 211us/sample - loss: 1.6193e-04 - val_loss: 0.0015\n",
      "Epoch 18/30\n",
      "2256/2256 [==============================] - 0s 208us/sample - loss: 1.5284e-04 - val_loss: 8.6757e-04\n",
      "Epoch 19/30\n",
      "2256/2256 [==============================] - 0s 211us/sample - loss: 1.4324e-04 - val_loss: 7.4828e-04\n",
      "Epoch 20/30\n",
      "2256/2256 [==============================] - 0s 205us/sample - loss: 1.4186e-04 - val_loss: 9.9786e-04\n",
      "Epoch 21/30\n",
      "2256/2256 [==============================] - 1s 224us/sample - loss: 1.4098e-04 - val_loss: 0.0016\n",
      "Epoch 22/30\n",
      "2256/2256 [==============================] - 0s 209us/sample - loss: 1.4151e-04 - val_loss: 0.0012\n",
      "Epoch 23/30\n",
      "2256/2256 [==============================] - 0s 209us/sample - loss: 1.3363e-04 - val_loss: 9.1129e-04\n",
      "Epoch 24/30\n",
      "2256/2256 [==============================] - 0s 214us/sample - loss: 1.3645e-04 - val_loss: 0.0010\n",
      "Epoch 25/30\n",
      "2256/2256 [==============================] - 0s 210us/sample - loss: 1.3251e-04 - val_loss: 6.9549e-04\n",
      "Epoch 26/30\n",
      "2256/2256 [==============================] - 0s 209us/sample - loss: 1.2164e-04 - val_loss: 7.8832e-04\n",
      "Epoch 27/30\n",
      "2256/2256 [==============================] - 0s 214us/sample - loss: 1.2462e-04 - val_loss: 5.3597e-04\n",
      "Epoch 28/30\n",
      "2256/2256 [==============================] - 0s 210us/sample - loss: 1.2001e-04 - val_loss: 6.7637e-04\n",
      "Epoch 29/30\n",
      "2256/2256 [==============================] - 0s 213us/sample - loss: 1.2165e-04 - val_loss: 7.1953e-04\n",
      "Epoch 30/30\n",
      "2256/2256 [==============================] - 0s 211us/sample - loss: 1.1361e-04 - val_loss: 7.7119e-04\n"
     ]
    }
   ],
   "source": [
    "history = model.fit(X_train, y_train, epochs=30, batch_size=32,\n",
    "                    validation_data=(X_val, y_val), verbose=1)"
   ]
  },
  {
   "cell_type": "code",
   "execution_count": 14,
   "metadata": {
    "ExecuteTime": {
     "end_time": "2020-05-03T15:39:32.856172Z",
     "start_time": "2020-05-03T15:39:32.721497Z"
    }
   },
   "outputs": [
    {
     "data": {
      "image/png": "[encoded data removed]",
      "text/plain": [
       "<Figure size 432x288 with 1 Axes>"
      ]
     },
     "metadata": {
      "needs_background": "light"
     },
     "output_type": "display_data"
    }
   ],
   "source": [
    "epoch_range=range(1,50+1)\n",
    "plt.plot(history.history['loss'])\n",
    "plt.plot(history.history['val_loss'])\n",
    "plt.title('Model loss')\n",
    "plt.ylabel('Loss')\n",
    "plt.xlabel('Epoch')\n",
    "# plt.xticks([x for x in range(epoch+1)])\n",
    "plt.legend(['Train','Val'],loc='upper left')\n",
    "plt.show()"
   ]
  },
  {
   "cell_type": "markdown",
   "metadata": {},
   "source": [
    "### Evaluation"
   ]
  },
  {
   "cell_type": "code",
   "execution_count": 15,
   "metadata": {
    "ExecuteTime": {
     "end_time": "2020-05-03T15:39:33.327395Z",
     "start_time": "2020-05-03T15:39:32.857134Z"
    }
   },
   "outputs": [
    {
     "data": {
      "text/plain": [
       "(730, 1)"
      ]
     },
     "execution_count": 15,
     "metadata": {},
     "output_type": "execute_result"
    }
   ],
   "source": [
    "y_pred = model.predict(X_test)\n",
    "y_pred.shape"
   ]
  },
  {
   "cell_type": "code",
   "execution_count": 16,
   "metadata": {
    "ExecuteTime": {
     "end_time": "2020-05-03T15:39:33.333380Z",
     "start_time": "2020-05-03T15:39:33.328392Z"
    }
   },
   "outputs": [
    {
     "data": {
      "text/plain": [
       "(730, 1)"
      ]
     },
     "execution_count": 16,
     "metadata": {},
     "output_type": "execute_result"
    }
   ],
   "source": [
    "y_pred = scaler.inverse_transform(y_pred)\n",
    "y_pred.shape"
   ]
  },
  {
   "cell_type": "code",
   "execution_count": 17,
   "metadata": {
    "ExecuteTime": {
     "end_time": "2020-05-03T15:39:33.340361Z",
     "start_time": "2020-05-03T15:39:33.335374Z"
    }
   },
   "outputs": [
    {
     "data": {
      "text/plain": [
       "0.0013565203795903229"
      ]
     },
     "execution_count": 17,
     "metadata": {},
     "output_type": "execute_result"
    }
   ],
   "source": [
    "scale = scaler.scale_[0]\n",
    "scale"
   ]
  },
  {
   "cell_type": "code",
   "execution_count": 18,
   "metadata": {
    "ExecuteTime": {
     "end_time": "2020-05-03T15:39:33.352357Z",
     "start_time": "2020-05-03T15:39:33.342355Z"
    }
   },
   "outputs": [
    {
     "data": {
      "text/plain": [
       "-0.06702540200800232"
      ]
     },
     "execution_count": 18,
     "metadata": {},
     "output_type": "execute_result"
    }
   ],
   "source": [
    "bias = scaler.min_[0]\n",
    "bias"
   ]
  },
  {
   "cell_type": "code",
   "execution_count": 19,
   "metadata": {
    "ExecuteTime": {
     "end_time": "2020-05-03T15:39:33.364301Z",
     "start_time": "2020-05-03T15:39:33.353326Z"
    }
   },
   "outputs": [],
   "source": [
    "y_test = (y_test-bias)/scale"
   ]
  },
  {
   "cell_type": "code",
   "execution_count": 20,
   "metadata": {
    "ExecuteTime": {
     "end_time": "2020-05-03T15:39:33.370281Z",
     "start_time": "2020-05-03T15:39:33.366291Z"
    }
   },
   "outputs": [],
   "source": [
    "y_test = y_test.reshape(730, 1)"
   ]
  },
  {
   "cell_type": "code",
   "execution_count": 21,
   "metadata": {
    "ExecuteTime": {
     "end_time": "2020-05-03T15:39:33.523905Z",
     "start_time": "2020-05-03T15:39:33.371280Z"
    }
   },
   "outputs": [
    {
     "data": {
      "image/png": "[encoded data removed]",
      "text/plain": [
       "<Figure size 1008x360 with 1 Axes>"
      ]
     },
     "metadata": {
      "needs_background": "light"
     },
     "output_type": "display_data"
    }
   ],
   "source": [
    "plt.figure(figsize=(14,5))\n",
    "plt.plot(y_test,label='real')\n",
    "plt.plot(y_pred,label='pred')\n",
    "plt.ylabel('Open')\n",
    "plt.legend()\n",
    "plt.show()"
   ]
  },
  {
   "cell_type": "code",
   "execution_count": 22,
   "metadata": {
    "ExecuteTime": {
     "end_time": "2020-05-03T15:39:33.549801Z",
     "start_time": "2020-05-03T15:39:33.525865Z"
    }
   },
   "outputs": [],
   "source": [
    "model.save('../model/LSTM_seq2vec.h5')"
   ]
  },
  {
   "cell_type": "code",
   "execution_count": null,
   "metadata": {},
   "outputs": [],
   "source": []
  }
 ],
 "metadata": {
  "kernelspec": {
   "display_name": "Python 3",
   "language": "python",
   "name": "python3"
  },
  "language_info": {
   "codemirror_mode": {
    "name": "ipython",
    "version": 3
   },
   "file_extension": ".py",
   "mimetype": "text/x-python",
   "name": "python",
   "nbconvert_exporter": "python",
   "pygments_lexer": "ipython3",
   "version": "3.6.5"
  },
  "toc": {
   "base_numbering": 1,
   "nav_menu": {},
   "number_sections": true,
   "sideBar": true,
   "skip_h1_title": false,
   "title_cell": "Table of Contents",
   "title_sidebar": "Contents",
   "toc_cell": false,
   "toc_position": {},
   "toc_section_display": true,
   "toc_window_display": false
  }
 },
 "nbformat": 4,
 "nbformat_minor": 4
}
