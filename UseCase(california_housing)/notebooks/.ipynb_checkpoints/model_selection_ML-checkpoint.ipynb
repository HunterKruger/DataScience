{
 "cells": [
  {
   "cell_type": "code",
   "execution_count": 1,
   "metadata": {
    "ExecuteTime": {
     "end_time": "2020-04-08T18:54:26.211337Z",
     "start_time": "2020-04-08T18:54:23.892837Z"
    }
   },
   "outputs": [
    {
     "name": "stderr",
     "output_type": "stream",
     "text": [
      "/Users/FY/anaconda3/lib/python3.6/site-packages/lightgbm/__init__.py:48: UserWarning: Starting from version 2.2.1, the library file in distribution wheels for macOS is built by the Apple Clang (Xcode_8.3.3) compiler.\n",
      "This means that in case of installing LightGBM from PyPI via the ``pip install lightgbm`` command, you don't need to install the gcc compiler anymore.\n",
      "Instead of that, you need to install the OpenMP library, which is required for running LightGBM on the system with the Apple Clang compiler.\n",
      "You can install the OpenMP library by the following command: ``brew install libomp``.\n",
      "  \"You can install the OpenMP library by the following command: ``brew install libomp``.\", UserWarning)\n"
     ]
    }
   ],
   "source": [
    "import pandas as pd \n",
    "import numpy as np\n",
    "import math\n",
    "\n",
    "from sklearn.model_selection import train_test_split\n",
    "from sklearn.model_selection import cross_val_score \n",
    "from sklearn.model_selection import GridSearchCV,RandomizedSearchCV\n",
    "\n",
    "from sklearn.metrics import mean_squared_error, r2_score\n",
    "\n",
    "from sklearn.linear_model import LinearRegression as LR\n",
    "from sklearn.linear_model import Ridge\n",
    "from sklearn.linear_model import Lasso\n",
    "from sklearn.linear_model import ElasticNet\n",
    "from sklearn.neighbors import KNeighborsRegressor as KNR\n",
    "from sklearn.svm import SVR\n",
    "from sklearn.ensemble import AdaBoostRegressor as ABR\n",
    "from sklearn.ensemble import RandomForestRegressor as RFR\n",
    "from sklearn.ensemble import GradientBoostingRegressor as GBR\n",
    "from xgboost import XGBRegressor as XGBR\n",
    "from lightgbm import LGBMRegressor as LGBMR\n",
    "\n",
    "import joblib"
   ]
  },
  {
   "cell_type": "code",
   "execution_count": 2,
   "metadata": {
    "ExecuteTime": {
     "end_time": "2020-04-08T18:54:26.293636Z",
     "start_time": "2020-04-08T18:54:26.216794Z"
    }
   },
   "outputs": [],
   "source": [
    "X_train_origin = pd.read_csv('../data/featured_data/X_train.csv')\n",
    "y_train_origin = pd.read_csv('../data/featured_data/y_train.csv')"
   ]
  },
  {
   "cell_type": "code",
   "execution_count": 3,
   "metadata": {
    "ExecuteTime": {
     "end_time": "2020-04-08T18:54:26.304969Z",
     "start_time": "2020-04-08T18:54:26.297358Z"
    }
   },
   "outputs": [],
   "source": [
    "X_train_origin = X_train_origin.to_numpy()\n",
    "y_train_origin = y_train_origin.to_numpy()\n",
    "y_train_origin = y_train_origin.ravel()"
   ]
  },
  {
   "cell_type": "code",
   "execution_count": 4,
   "metadata": {
    "ExecuteTime": {
     "end_time": "2020-04-08T18:54:26.381831Z",
     "start_time": "2020-04-08T18:54:26.313138Z"
    }
   },
   "outputs": [
    {
     "data": {
      "text/plain": [
       "((1460, 74), (1460,))"
      ]
     },
     "execution_count": 4,
     "metadata": {},
     "output_type": "execute_result"
    }
   ],
   "source": [
    "X_train_origin.shape,y_train_origin.shape"
   ]
  },
  {
   "cell_type": "code",
   "execution_count": 5,
   "metadata": {
    "ExecuteTime": {
     "end_time": "2020-04-08T18:54:26.417010Z",
     "start_time": "2020-04-08T18:54:26.402555Z"
    }
   },
   "outputs": [],
   "source": [
    "X_train, X_val, y_train, y_val = train_test_split(X_train_origin, y_train_origin, test_size=0.2, random_state=1) "
   ]
  },
  {
   "cell_type": "code",
   "execution_count": 6,
   "metadata": {
    "ExecuteTime": {
     "end_time": "2020-04-08T18:54:26.429659Z",
     "start_time": "2020-04-08T18:54:26.422740Z"
    }
   },
   "outputs": [
    {
     "data": {
      "text/plain": [
       "((1168, 74), (292, 74), (1168,), (292,))"
      ]
     },
     "execution_count": 6,
     "metadata": {},
     "output_type": "execute_result"
    }
   ],
   "source": [
    "X_train.shape, X_val.shape, y_train.shape, y_val.shape"
   ]
  },
  {
   "cell_type": "markdown",
   "metadata": {},
   "source": [
    "### Baseline"
   ]
  },
  {
   "cell_type": "code",
   "execution_count": 7,
   "metadata": {
    "ExecuteTime": {
     "end_time": "2020-04-08T18:54:26.472784Z",
     "start_time": "2020-04-08T18:54:26.457114Z"
    }
   },
   "outputs": [],
   "source": [
    "def modeling(model_name):\n",
    "    model=model_name()\n",
    "    model.fit(X_train,y_train)\n",
    "    y_pred = model.predict(X_val)\n",
    "    y_pred_no_log = np.expm1(y_pred)\n",
    "    y_val_no_log = np.expm1(y_val)\n",
    "    RMSE = math.sqrt(mean_squared_error(y_val_no_log,y_pred_no_log))\n",
    "    print(\"RMSE: \"+str(RMSE))\n",
    "    R2=r2_score(y_val_no_log,y_pred_no_log)\n",
    "    print(\"R_square: \"+str(R2))"
   ]
  },
  {
   "cell_type": "code",
   "execution_count": 8,
   "metadata": {
    "ExecuteTime": {
     "end_time": "2020-04-08T18:54:26.513655Z",
     "start_time": "2020-04-08T18:54:26.481400Z"
    }
   },
   "outputs": [
    {
     "name": "stdout",
     "output_type": "stream",
     "text": [
      "RMSE: 38734.25269123499\n",
      "R_square: 0.7896306445047101\n"
     ]
    }
   ],
   "source": [
    "modeling(LR) # reject"
   ]
  },
  {
   "cell_type": "code",
   "execution_count": 9,
   "metadata": {
    "ExecuteTime": {
     "end_time": "2020-04-08T18:54:26.546993Z",
     "start_time": "2020-04-08T18:54:26.524706Z"
    }
   },
   "outputs": [
    {
     "name": "stdout",
     "output_type": "stream",
     "text": [
      "RMSE: 81705.2949377076\n",
      "R_square: 0.06396407424779604\n"
     ]
    }
   ],
   "source": [
    "modeling(Lasso) # reject"
   ]
  },
  {
   "cell_type": "code",
   "execution_count": 10,
   "metadata": {
    "ExecuteTime": {
     "end_time": "2020-04-08T18:54:26.582042Z",
     "start_time": "2020-04-08T18:54:26.554237Z"
    }
   },
   "outputs": [
    {
     "name": "stdout",
     "output_type": "stream",
     "text": [
      "RMSE: 38696.78076455676\n",
      "R_square: 0.7900374747128447\n"
     ]
    }
   ],
   "source": [
    "modeling(Ridge) # reject"
   ]
  },
  {
   "cell_type": "code",
   "execution_count": 11,
   "metadata": {
    "ExecuteTime": {
     "end_time": "2020-04-08T18:54:26.605820Z",
     "start_time": "2020-04-08T18:54:26.586191Z"
    }
   },
   "outputs": [
    {
     "name": "stdout",
     "output_type": "stream",
     "text": [
      "RMSE: 62403.81622904341\n",
      "R_square: 0.45397263069049765\n"
     ]
    }
   ],
   "source": [
    "modeling(ElasticNet) # reject"
   ]
  },
  {
   "cell_type": "code",
   "execution_count": 12,
   "metadata": {
    "ExecuteTime": {
     "end_time": "2020-04-08T18:54:26.700102Z",
     "start_time": "2020-04-08T18:54:26.610952Z"
    }
   },
   "outputs": [
    {
     "name": "stdout",
     "output_type": "stream",
     "text": [
      "RMSE: 41567.55930701231\n",
      "R_square: 0.757729149613089\n"
     ]
    }
   ],
   "source": [
    "modeling(KNR) # reject"
   ]
  },
  {
   "cell_type": "code",
   "execution_count": 13,
   "metadata": {
    "ExecuteTime": {
     "end_time": "2020-04-08T18:54:26.845169Z",
     "start_time": "2020-04-08T18:54:26.704807Z"
    }
   },
   "outputs": [
    {
     "name": "stdout",
     "output_type": "stream",
     "text": [
      "RMSE: 39141.757964151904\n",
      "R_square: 0.785180961816502\n"
     ]
    }
   ],
   "source": [
    "modeling(SVR) # reject"
   ]
  },
  {
   "cell_type": "code",
   "execution_count": 14,
   "metadata": {
    "ExecuteTime": {
     "end_time": "2020-04-08T18:54:31.113718Z",
     "start_time": "2020-04-08T18:54:26.848092Z"
    }
   },
   "outputs": [
    {
     "name": "stdout",
     "output_type": "stream",
     "text": [
      "RMSE: 40089.742098375165\n",
      "R_square: 0.7746494417209817\n"
     ]
    }
   ],
   "source": [
    "modeling(RFR) # reject"
   ]
  },
  {
   "cell_type": "code",
   "execution_count": 15,
   "metadata": {
    "ExecuteTime": {
     "end_time": "2020-04-08T18:54:31.943079Z",
     "start_time": "2020-04-08T18:54:31.121849Z"
    }
   },
   "outputs": [
    {
     "name": "stdout",
     "output_type": "stream",
     "text": [
      "RMSE: 41486.66669532709\n",
      "R_square: 0.7586711752151062\n"
     ]
    }
   ],
   "source": [
    "modeling(ABR) # reject"
   ]
  },
  {
   "cell_type": "code",
   "execution_count": 16,
   "metadata": {
    "ExecuteTime": {
     "end_time": "2020-04-08T18:54:34.227589Z",
     "start_time": "2020-04-08T18:54:31.958176Z"
    }
   },
   "outputs": [
    {
     "name": "stdout",
     "output_type": "stream",
     "text": [
      "RMSE: 32240.74014162161\n",
      "R_square: 0.8542521624188695\n"
     ]
    }
   ],
   "source": [
    "modeling(GBR) # accept"
   ]
  },
  {
   "cell_type": "code",
   "execution_count": 17,
   "metadata": {
    "ExecuteTime": {
     "end_time": "2020-04-08T18:54:35.097286Z",
     "start_time": "2020-04-08T18:54:34.231043Z"
    }
   },
   "outputs": [
    {
     "name": "stdout",
     "output_type": "stream",
     "text": [
      "[20:54:34] WARNING: src/objective/regression_obj.cu:152: reg:linear is now deprecated in favor of reg:squarederror.\n",
      "RMSE: 33033.135911442005\n",
      "R_square: 0.8469998974283094\n"
     ]
    }
   ],
   "source": [
    "modeling(XGBR) # accept"
   ]
  },
  {
   "cell_type": "code",
   "execution_count": 18,
   "metadata": {
    "ExecuteTime": {
     "end_time": "2020-04-08T18:54:36.273337Z",
     "start_time": "2020-04-08T18:54:35.102060Z"
    }
   },
   "outputs": [
    {
     "name": "stdout",
     "output_type": "stream",
     "text": [
      "RMSE: 34676.329838811806\n",
      "R_square: 0.8313996918360319\n"
     ]
    }
   ],
   "source": [
    "modeling(LGBMR) # accept"
   ]
  },
  {
   "cell_type": "code",
   "execution_count": 19,
   "metadata": {
    "ExecuteTime": {
     "end_time": "2020-04-08T18:54:36.523642Z",
     "start_time": "2020-04-08T18:54:36.279551Z"
    }
   },
   "outputs": [
    {
     "ename": "NameError",
     "evalue": "name 'sss' is not defined",
     "output_type": "error",
     "traceback": [
      "\u001b[0;31m---------------------------------------------------------------------------\u001b[0m",
      "\u001b[0;31mNameError\u001b[0m                                 Traceback (most recent call last)",
      "\u001b[0;32m<ipython-input-19-b1c5d14fb2d2>\u001b[0m in \u001b[0;36m<module>\u001b[0;34m\u001b[0m\n\u001b[0;32m----> 1\u001b[0;31m \u001b[0msss\u001b[0m\u001b[0;34m\u001b[0m\u001b[0;34m\u001b[0m\u001b[0m\n\u001b[0m",
      "\u001b[0;31mNameError\u001b[0m: name 'sss' is not defined"
     ]
    }
   ],
   "source": [
    "sss"
   ]
  },
  {
   "cell_type": "markdown",
   "metadata": {},
   "source": [
    "### Final tuning"
   ]
  },
  {
   "cell_type": "code",
   "execution_count": null,
   "metadata": {
    "ExecuteTime": {
     "end_time": "2020-04-08T18:54:36.526961Z",
     "start_time": "2020-04-08T18:54:24.006Z"
    }
   },
   "outputs": [],
   "source": [
    "params_XGBR = {\n",
    "    'max_depth': [5, 10, 15, 20, 25],\n",
    "    'learning_rate': [0.01, 0.02, 0.05, 0.1, 0.15],\n",
    "    'n_estimators': [500, 1000, 2000, 3000, 5000],\n",
    "    'min_child_weight': [0, 2, 5, 10, 20],\n",
    "    'max_delta_step': [0, 0.2, 0.6, 1, 2],\n",
    "    'subsample': [0.6, 0.7, 0.8, 0.85, 0.95],\n",
    "    'colsample_bytree': [0.5, 0.6, 0.7, 0.8, 0.9],\n",
    "    'reg_alpha': [0, 0.25, 0.5, 0.75, 1],\n",
    "    'reg_lambda': [0.2, 0.4, 0.6, 0.8, 1],\n",
    "    'scale_pos_weight': [0.2, 0.4, 0.6, 0.8, 1]\n",
    "}\n",
    "xgbr = XGBR()\n",
    "xgbr_clf = GridSearchCV(xgbr, param_grid==params_XGBR, cv=5,scoring='r2',n_jobs=-1,n_iter=45)\n",
    "xgbr_clf.fit(X_train_origin,y_train_origin)\n",
    "xgbr_clf.best_params_"
   ]
  },
  {
   "cell_type": "code",
   "execution_count": null,
   "metadata": {
    "ExecuteTime": {
     "end_time": "2020-04-08T18:54:36.530522Z",
     "start_time": "2020-04-08T18:54:24.009Z"
    }
   },
   "outputs": [],
   "source": [
    "params_LGBMR = {'n_estimators': [1000, 1500, 2000, 2500],\n",
    "               'max_depth':  [4, 5, 8, -1],\n",
    "               'num_leaves': [15, 31, 63, 127],\n",
    "               'subsample': [0.6, 0.7, 0.8, 1.0],\n",
    "               'colsample_bytree': [0.6, 0.7, 0.8, 1.0],\n",
    "               'learning_rate' : [0.01,0.02,0.03]\n",
    "              }\n",
    "lgbmr = LGBMR()\n",
    "lgbmr_clf = GridSearchCV(lgbmr, param_grid=params_LGBMR, cv=5,scoring='r2',n_jobs=-1,n_iter=45)\n",
    "lgbmr_clf.fit(X_train_origin,y_train_origin)\n",
    "lgbmr_clf.best_params_"
   ]
  },
  {
   "cell_type": "code",
   "execution_count": null,
   "metadata": {
    "ExecuteTime": {
     "end_time": "2020-04-08T18:54:36.533619Z",
     "start_time": "2020-04-08T18:54:24.014Z"
    }
   },
   "outputs": [],
   "source": [
    "params_GBR = {'n_estimators':range(20,81,10),\n",
    "              'learning_rate': [0.2,0.1, 0.05, 0.02, 0.01 ],\n",
    "              'max_depth': [4, 6,8],\n",
    "              'min_samples_leaf': [3, 5, 9, 14],\n",
    "              'max_features': [0.8,0.5,0.3, 0.1]}\n",
    "gbr = GBR()\n",
    "gbr_clf = GridSearchCV(lgbmr, param_grid=params_GBR, cv=5,scoring='r2',n_jobs=-1,n_iter=45)\n",
    "gbr_clf.fit(X_train_origin,y_train_origin)\n",
    "gbr_clf.best_params_"
   ]
  }
 ],
 "metadata": {
  "kernelspec": {
   "display_name": "Python 3",
   "language": "python",
   "name": "python3"
  },
  "language_info": {
   "codemirror_mode": {
    "name": "ipython",
    "version": 3
   },
   "file_extension": ".py",
   "mimetype": "text/x-python",
   "name": "python",
   "nbconvert_exporter": "python",
   "pygments_lexer": "ipython3",
   "version": "3.6.8"
  },
  "latex_envs": {
   "LaTeX_envs_menu_present": true,
   "autoclose": false,
   "autocomplete": true,
   "bibliofile": "biblio.bib",
   "cite_by": "apalike",
   "current_citInitial": 1,
   "eqLabelWithNumbers": true,
   "eqNumInitial": 1,
   "hotkeys": {
    "equation": "Ctrl-E",
    "itemize": "Ctrl-I"
   },
   "labels_anchors": false,
   "latex_user_defs": false,
   "report_style_numbering": false,
   "user_envs_cfg": false
  },
  "toc": {
   "base_numbering": 1,
   "nav_menu": {},
   "number_sections": true,
   "sideBar": true,
   "skip_h1_title": false,
   "title_cell": "Table of Contents",
   "title_sidebar": "Contents",
   "toc_cell": false,
   "toc_position": {},
   "toc_section_display": true,
   "toc_window_display": false
  }
 },
 "nbformat": 4,
 "nbformat_minor": 4
}
