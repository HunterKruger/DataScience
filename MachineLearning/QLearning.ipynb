{
 "cells": [
  {
   "cell_type": "code",
   "execution_count": 1,
   "metadata": {},
   "outputs": [],
   "source": [
    "import numpy as np"
   ]
  },
  {
   "cell_type": "code",
   "execution_count": 2,
   "metadata": {},
   "outputs": [],
   "source": [
    "R = np.matrix([[-1,-1,-1,-1,0,-1],\n",
    "                [-1,-1,-1,0,-1,100],\n",
    "                [-1,-1,-1,0,-1,-1],\n",
    "                [-1,0,0,-1,0,-1],\n",
    "                [-1,0,0,-1,-1,100],\n",
    "                [-1,0,-1,-1,0,100]\n",
    "               ])"
   ]
  },
  {
   "cell_type": "code",
   "execution_count": 3,
   "metadata": {},
   "outputs": [
    {
     "data": {
      "text/plain": [
       "matrix([[0., 0., 0., 0., 0., 0.],\n",
       "        [0., 0., 0., 0., 0., 0.],\n",
       "        [0., 0., 0., 0., 0., 0.],\n",
       "        [0., 0., 0., 0., 0., 0.],\n",
       "        [0., 0., 0., 0., 0., 0.],\n",
       "        [0., 0., 0., 0., 0., 0.]])"
      ]
     },
     "execution_count": 3,
     "metadata": {},
     "output_type": "execute_result"
    }
   ],
   "source": [
    "Q = np.matrix(np.zeros([6,6]))\n",
    "Q"
   ]
  },
  {
   "cell_type": "code",
   "execution_count": 4,
   "metadata": {},
   "outputs": [],
   "source": [
    "gamma = 0.8"
   ]
  },
  {
   "cell_type": "code",
   "execution_count": 5,
   "metadata": {},
   "outputs": [],
   "source": [
    "initState = 1"
   ]
  },
  {
   "cell_type": "code",
   "execution_count": 6,
   "metadata": {},
   "outputs": [],
   "source": [
    "def getAvailableActions(state):\n",
    "    currentStateRow=R[state,]\n",
    "    availableAction = np.where(currentStateRow>=0)[1]\n",
    "    return availableAction\n",
    "#demo\n",
    "# availableAction = getAvailableActions(initState)\n",
    "# availableAction"
   ]
  },
  {
   "cell_type": "code",
   "execution_count": 7,
   "metadata": {},
   "outputs": [],
   "source": [
    "def chooseNextAction(availableAction):\n",
    "    nextAction=int(np.random.choice(availableAction,1))\n",
    "    return nextAction\n",
    "#demo\n",
    "# nextAction = chooseNextAction(availableAction)\n",
    "# nextAction"
   ]
  },
  {
   "cell_type": "code",
   "execution_count": 8,
   "metadata": {},
   "outputs": [],
   "source": [
    "def updateQmatrix(currentState,action,gamma):\n",
    "    maxIndex = np.where(Q[action,]==np.max(Q[action,]))[1]\n",
    "    #if we find two max value\n",
    "    if maxIndex.shape[0]>1:\n",
    "        maxIndex=int(np.random.choice(maxIndex,size=1))\n",
    "    else:\n",
    "        maxIndex=int(maxIndex)\n",
    "    maxValue=Q[action,maxIndex]\n",
    "    Q[currentState,action]=R[currentState,action]+gamma*maxValue\n",
    "#demo\n",
    "# updateQmatrix(initState,nextAction,gamma)\n",
    "# Q"
   ]
  },
  {
   "cell_type": "code",
   "execution_count": 9,
   "metadata": {},
   "outputs": [
    {
     "name": "stdout",
     "output_type": "stream",
     "text": [
      "Trained Q matrix:\n",
      "[[  0.    0.    0.    0.   80.    0. ]\n",
      " [  0.    0.    0.   64.    0.  100. ]\n",
      " [  0.    0.    0.   64.    0.    0. ]\n",
      " [  0.   80.   51.2   0.   80.    0. ]\n",
      " [  0.   80.   51.2   0.    0.  100. ]\n",
      " [  0.   80.    0.    0.   80.  100. ]]\n"
     ]
    }
   ],
   "source": [
    "#training\n",
    "for i in range(10000):\n",
    "    currentState=np.random.randint(0,int(Q.shape[0]))\n",
    "    availableAction = getAvailableActions(currentState)\n",
    "    action = chooseNextAction(availableAction)\n",
    "    updateQmatrix(currentState,action,gamma)\n",
    "print(\"Trained Q matrix:\")\n",
    "print(Q/np.max(Q)*100)"
   ]
  },
  {
   "cell_type": "code",
   "execution_count": 10,
   "metadata": {},
   "outputs": [
    {
     "name": "stdout",
     "output_type": "stream",
     "text": [
      "Seleted route:\n",
      "[2, 3, 4, 5]\n"
     ]
    }
   ],
   "source": [
    "#testing: the best state is 5, the best route is 1 -> 1,5    2 -> 2,3,1,5 or 2,3,4,5\n",
    "currentState=2\n",
    "steps=[currentState]\n",
    "while currentState !=5:\n",
    "    nextStepIndex = np.where(Q[currentState,]==np.max(Q[currentState,]))[1]\n",
    "    if nextStepIndex.shape[0]>1:\n",
    "        nextStepIndex=int(np.random.choice(nextStepIndex,size=1))\n",
    "    else:\n",
    "        nextStepIndex=int(nextStepIndex)\n",
    "    steps.append(nextStepIndex)\n",
    "    currentState=nextStepIndex\n",
    "print(\"Seleted route:\")\n",
    "print(steps)"
   ]
  }
 ],
 "metadata": {
  "kernelspec": {
   "display_name": "Python 3",
   "language": "python",
   "name": "python3"
  },
  "language_info": {
   "codemirror_mode": {
    "name": "ipython",
    "version": 3
   },
   "file_extension": ".py",
   "mimetype": "text/x-python",
   "name": "python",
   "nbconvert_exporter": "python",
   "pygments_lexer": "ipython3",
   "version": "3.7.4"
  }
 },
 "nbformat": 4,
 "nbformat_minor": 2
}
