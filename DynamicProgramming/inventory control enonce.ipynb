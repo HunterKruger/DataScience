{
 "cells": [
  {
   "cell_type": "markdown",
   "metadata": {},
   "source": [
    "## ENONCE: inventory control  Page 31"
   ]
  },
  {
   "cell_type": "code",
   "execution_count": 1,
   "metadata": {},
   "outputs": [],
   "source": [
    "J=[[],[],[0,0,0]]"
   ]
  },
  {
   "cell_type": "code",
   "execution_count": 2,
   "metadata": {},
   "outputs": [],
   "source": [
    "def find_min(u, xt, t):\n",
    "    results = []\n",
    "\n",
    "    for element in u:\n",
    "        if(xt+element < 3):\n",
    "            results.append(calcul_esperance(element, xt, t))\n",
    "    J[t-1].append(min(results))\n",
    "    return min(results)"
   ]
  },
  {
   "cell_type": "code",
   "execution_count": 3,
   "metadata": {},
   "outputs": [],
   "source": [
    "def calcul_esperance(ut, xt, t):\n",
    "    result = 0.1*(ut+(xt+ut-0)**2+J[t][max(0, xt+ut-0)])+0.7*(ut+(xt+ut-1)**2+J[t][max(0, xt+ut-1)])+0.2*(ut+(xt+ut-2)**2+J[t][max(0, xt+ut-2)])\n",
    "    return result"
   ]
  },
  {
   "cell_type": "code",
   "execution_count": 4,
   "metadata": {},
   "outputs": [],
   "source": [
    "def main_algorithm():\n",
    "    u=[2,1,0]\n",
    "\n",
    "    for t in u:\n",
    "        if t!=0:\n",
    "            for xk in [0,1,2]:\n",
    "                find_min(u,xk,t)"
   ]
  },
  {
   "cell_type": "code",
   "execution_count": 5,
   "metadata": {},
   "outputs": [
    {
     "name": "stdout",
     "output_type": "stream",
     "text": [
      "[[2.5, 1.4999999999999998, 1.68], [1.2999999999999998, 0.30000000000000004, 1.1], [0, 0, 0]]\n"
     ]
    }
   ],
   "source": [
    "main_algorithm()\n",
    "print(J)"
   ]
  }
 ],
 "metadata": {
  "kernelspec": {
   "display_name": "Python 3",
   "language": "python",
   "name": "python3"
  },
  "language_info": {
   "codemirror_mode": {
    "name": "ipython",
    "version": 3
   },
   "file_extension": ".py",
   "mimetype": "text/x-python",
   "name": "python",
   "nbconvert_exporter": "python",
   "pygments_lexer": "ipython3",
   "version": "3.7.5"
  },
  "latex_envs": {
   "LaTeX_envs_menu_present": true,
   "autoclose": false,
   "autocomplete": true,
   "bibliofile": "biblio.bib",
   "cite_by": "apalike",
   "current_citInitial": 1,
   "eqLabelWithNumbers": true,
   "eqNumInitial": 1,
   "hotkeys": {
    "equation": "Ctrl-E",
    "itemize": "Ctrl-I"
   },
   "labels_anchors": false,
   "latex_user_defs": false,
   "report_style_numbering": false,
   "user_envs_cfg": false
  }
 },
 "nbformat": 4,
 "nbformat_minor": 2
}
