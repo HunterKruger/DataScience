{
 "cells": [
  {
   "cell_type": "code",
   "execution_count": 1,
   "metadata": {
    "ExecuteTime": {
     "end_time": "2020-05-09T12:53:21.608080Z",
     "start_time": "2020-05-09T12:53:20.396350Z"
    }
   },
   "outputs": [],
   "source": [
    "import pandas as pd\n",
    "from datetime import datetime\n",
    "from sklearn.preprocessing import StandardScaler, LabelEncoder, OneHotEncoder\n",
    "import warnings\n",
    "warnings.filterwarnings(action='once')"
   ]
  },
  {
   "cell_type": "code",
   "execution_count": 2,
   "metadata": {
    "ExecuteTime": {
     "end_time": "2020-05-09T12:53:34.999399Z",
     "start_time": "2020-05-09T12:53:21.611074Z"
    }
   },
   "outputs": [
    {
     "data": {
      "text/plain": [
       "((260753, 299), (173836, 298))"
      ]
     },
     "execution_count": 2,
     "metadata": {},
     "output_type": "execute_result"
    }
   ],
   "source": [
    "train = pd.read_csv('../data/raw_data/train.csv')\n",
    "test = pd.read_csv('../data/raw_data/test.csv')\n",
    "train.shape, test.shape"
   ]
  },
  {
   "cell_type": "code",
   "execution_count": 3,
   "metadata": {
    "ExecuteTime": {
     "end_time": "2020-05-09T12:53:35.325183Z",
     "start_time": "2020-05-09T12:53:35.010318Z"
    }
   },
   "outputs": [],
   "source": [
    "train['Original_Quote_Date'] = pd.to_datetime(train['Original_Quote_Date'], errors='coerce')\n",
    "test['Original_Quote_Date'] = pd.to_datetime(test['Original_Quote_Date'], errors='coerce')\n",
    "train['Original_Quote_Date'] = train['Original_Quote_Date'].dt.dayofweek\n",
    "test['Original_Quote_Date'] = test['Original_Quote_Date'].dt.dayofweek\n",
    "transform_num_day_of_week = {0: 'Monday',\n",
    "                             1: 'Tuesday',\n",
    "                             2: 'Wednesday',\n",
    "                             3: 'Thursday',\n",
    "                             4: 'Friday',\n",
    "                             5: 'Saturday',\n",
    "                             6: 'Sunday'}\n",
    "train['Original_Quote_day_of_week'] = train['Original_Quote_Date'].map(transform_num_day_of_week)\n",
    "test['Original_Quote_day_of_week'] = test['Original_Quote_Date'].map(transform_num_day_of_week)"
   ]
  },
  {
   "cell_type": "code",
   "execution_count": 4,
   "metadata": {
    "ExecuteTime": {
     "end_time": "2020-05-09T12:53:35.343078Z",
     "start_time": "2020-05-09T12:53:35.327691Z"
    }
   },
   "outputs": [],
   "source": [
    "# impute PersonalField84 by a new class\n",
    "train['PersonalField84'].fillna(999, inplace=True)\n",
    "test['PersonalField84'].fillna(999, inplace=True)\n",
    "# impute PropertyField29 by a new class\n",
    "train['PropertyField29'].fillna(999, inplace=True)\n",
    "test['PropertyField29'].fillna(999, inplace=True)\n",
    "# train[\"PropertyField29_exist\"] = [0 if x == 999 else 1 for x in train['PropertyField29'] ]\n",
    "# test[\"PropertyField29_exist\"] = [0 if x == 999 else 1 for x in test['PropertyField29'] ]"
   ]
  },
  {
   "cell_type": "code",
   "execution_count": 5,
   "metadata": {
    "ExecuteTime": {
     "end_time": "2020-05-09T12:53:35.352030Z",
     "start_time": "2020-05-09T12:53:35.345899Z"
    }
   },
   "outputs": [],
   "source": [
    "# train[\"PropertyField29_exist\"].value_counts()"
   ]
  },
  {
   "cell_type": "code",
   "execution_count": 6,
   "metadata": {
    "ExecuteTime": {
     "end_time": "2020-05-09T12:53:40.368746Z",
     "start_time": "2020-05-09T12:53:35.357685Z"
    }
   },
   "outputs": [
    {
     "data": {
      "text/plain": [
       "((260753, 297), (173836, 296))"
      ]
     },
     "execution_count": 6,
     "metadata": {},
     "output_type": "execute_result"
    }
   ],
   "source": [
    "col_to_drop = ['Original_Quote_Date','QuoteNumber','SalesField8']\n",
    "for col in col_to_drop:\n",
    "    train.drop(col,axis=1,inplace=True)\n",
    "    test.drop(col,axis=1,inplace=True)\n",
    "train.shape, test.shape"
   ]
  },
  {
   "cell_type": "code",
   "execution_count": 7,
   "metadata": {
    "ExecuteTime": {
     "end_time": "2020-05-09T12:53:41.409793Z",
     "start_time": "2020-05-09T12:53:40.374271Z"
    }
   },
   "outputs": [],
   "source": [
    "for col in test.columns:  # impute by mode \n",
    "    if train[col].isnull().sum()>0 or test[col].isnull().sum()>0:\n",
    "        mode = train[col].value_counts().index[0]\n",
    "        train[col].fillna(mode,inplace=True)\n",
    "        test[col].fillna(mode,inplace=True)"
   ]
  },
  {
   "cell_type": "code",
   "execution_count": 8,
   "metadata": {
    "ExecuteTime": {
     "end_time": "2020-05-09T12:53:52.592108Z",
     "start_time": "2020-05-09T12:53:41.412224Z"
    }
   },
   "outputs": [],
   "source": [
    "for col in test.columns:\n",
    "    le = LabelEncoder()\n",
    "    le.fit(pd.concat([train[col],test[col]],axis=0))\n",
    "    train[col] = le.transform(train[col])\n",
    "    test[col] = le.transform(test[col])"
   ]
  },
  {
   "cell_type": "code",
   "execution_count": 9,
   "metadata": {
    "ExecuteTime": {
     "end_time": "2020-05-09T12:53:53.989228Z",
     "start_time": "2020-05-09T12:53:52.594428Z"
    }
   },
   "outputs": [],
   "source": [
    "# only choose important features in this iteration!\n",
    "important_col = ['SalesField5','Field7','PropertyField37','PersonalField10B','PersonalField10A',\n",
    "                'PersonalField12','PersonalField9','PropertyField29','SalesField4','SalesField1B',\n",
    "                 'SalesField6','SalesField1A','PersonalField84','PersonalField2',\n",
    "                 'PersonalField10B','PersonalField1','PersonalField82']\n",
    "\n",
    "selected_test = test[important_col]\n",
    "\n",
    "important_col.append('QuoteConversion_Flag')\n",
    "\n",
    "selected_train = train[important_col]"
   ]
  },
  {
   "cell_type": "code",
   "execution_count": 11,
   "metadata": {
    "ExecuteTime": {
     "end_time": "2020-05-09T12:55:33.170496Z",
     "start_time": "2020-05-09T12:55:30.187462Z"
    }
   },
   "outputs": [],
   "source": [
    "pd.DataFrame(selected_train).to_csv('../data/featured_data/train.csv',index=False)\n",
    "pd.DataFrame(selected_test).to_csv('../data/featured_data/test.csv',index=False)"
   ]
  },
  {
   "cell_type": "code",
   "execution_count": null,
   "metadata": {},
   "outputs": [],
   "source": []
  }
 ],
 "metadata": {
  "kernelspec": {
   "display_name": "Python 3",
   "language": "python",
   "name": "python3"
  },
  "language_info": {
   "codemirror_mode": {
    "name": "ipython",
    "version": 3
   },
   "file_extension": ".py",
   "mimetype": "text/x-python",
   "name": "python",
   "nbconvert_exporter": "python",
   "pygments_lexer": "ipython3",
   "version": "3.6.9"
  },
  "latex_envs": {
   "LaTeX_envs_menu_present": true,
   "autoclose": false,
   "autocomplete": true,
   "bibliofile": "biblio.bib",
   "cite_by": "apalike",
   "current_citInitial": 1,
   "eqLabelWithNumbers": true,
   "eqNumInitial": 1,
   "hotkeys": {
    "equation": "Ctrl-E",
    "itemize": "Ctrl-I"
   },
   "labels_anchors": false,
   "latex_user_defs": false,
   "report_style_numbering": false,
   "user_envs_cfg": false
  },
  "toc": {
   "base_numbering": 1,
   "nav_menu": {},
   "number_sections": true,
   "sideBar": true,
   "skip_h1_title": false,
   "title_cell": "Table of Contents",
   "title_sidebar": "Contents",
   "toc_cell": false,
   "toc_position": {},
   "toc_section_display": true,
   "toc_window_display": false
  }
 },
 "nbformat": 4,
 "nbformat_minor": 4
}
