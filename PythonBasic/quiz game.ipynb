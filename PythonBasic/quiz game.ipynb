{
 "cells": [
  {
   "cell_type": "code",
   "execution_count": 1,
   "metadata": {},
   "outputs": [],
   "source": [
    "class Question:\n",
    "    def __init__(self, prompt, answer):\n",
    "        self.prompt = prompt\n",
    "        self.answer = answer\n",
    "\n"
   ]
  },
  {
   "cell_type": "code",
   "execution_count": 3,
   "metadata": {},
   "outputs": [
    {
     "name": "stdout",
     "output_type": "stream",
     "text": [
      "What is the first day of a week?\n",
      "a) Monday b)Sunday c)Saturday\n",
      "a\n",
      "Which country has the biggest territory?\n",
      "a)China b)US c)Russia\n",
      "a\n",
      "Who is the CEO of Apple?\n",
      "a)Tim Cook b)Steve Jobs c)Jack Ma\n",
      "a\n",
      "You got 1 points!\n"
     ]
    }
   ],
   "source": [
    "\n",
    "questionText = [\n",
    "    \"What is the first day of a week?\\na) Monday b)Sunday c)Saturday\\n\",\n",
    "    \"Which country has the biggest territory?\\na)China b)US c)Russia\\n\",\n",
    "    \"Who is the CEO of Apple?\\na)Tim Cook b)Steve Jobs c)Jack Ma\\n\"\n",
    "]\n",
    "\n",
    "questions = [\n",
    "    Question(questionText[0], \"b\"),\n",
    "    Question(questionText[1], \"c\"),\n",
    "    Question(questionText[2], \"a\")\n",
    "]\n",
    "\n",
    "def runQuiz(questions):\n",
    "    score = 0\n",
    "    for question in questions:\n",
    "        answer = input(question.prompt)\n",
    "        if answer == question.answer:\n",
    "            score += 1\n",
    "    print(\"You got \" + str(score) + \" points!\")\n",
    "\n",
    "runQuiz(questions)"
   ]
  },
  {
   "cell_type": "code",
   "execution_count": null,
   "metadata": {},
   "outputs": [],
   "source": []
  }
 ],
 "metadata": {
  "kernelspec": {
   "display_name": "Python 3",
   "language": "python",
   "name": "python3"
  },
  "language_info": {
   "codemirror_mode": {
    "name": "ipython",
    "version": 3
   },
   "file_extension": ".py",
   "mimetype": "text/x-python",
   "name": "python",
   "nbconvert_exporter": "python",
   "pygments_lexer": "ipython3",
   "version": "3.7.4"
  }
 },
 "nbformat": 4,
 "nbformat_minor": 2
}
