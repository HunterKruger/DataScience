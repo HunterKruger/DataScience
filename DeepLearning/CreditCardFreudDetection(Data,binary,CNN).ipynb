{
 "cells": [
  {
   "cell_type": "code",
   "execution_count": 1,
   "metadata": {},
   "outputs": [],
   "source": [
    "import tensorflow as tf\n",
    "from tensorflow import keras  \n",
    "import pandas as pd\n",
    "import numpy as np\n",
    "import matplotlib.pyplot as plt\n",
    "import seaborn as sns\n",
    "from tensorflow.keras import Sequential\n",
    "from tensorflow.keras.optimizers import Adam\n",
    "from tensorflow.keras.layers import Dense, Conv1D, MaxPool1D, Dropout, Flatten, BatchNormalization\n",
    "from tensorflow.keras.preprocessing.image import ImageDataGenerator\n",
    "from sklearn import datasets, metrics\n",
    "from sklearn.model_selection import train_test_split\n",
    "from sklearn.preprocessing import StandardScaler"
   ]
  },
  {
   "cell_type": "markdown",
   "metadata": {},
   "source": [
    "## Load data"
   ]
  },
  {
   "cell_type": "code",
   "execution_count": 2,
   "metadata": {},
   "outputs": [
    {
     "data": {
      "text/html": [
       "<div>\n",
       "<style scoped>\n",
       "    .dataframe tbody tr th:only-of-type {\n",
       "        vertical-align: middle;\n",
       "    }\n",
       "\n",
       "    .dataframe tbody tr th {\n",
       "        vertical-align: top;\n",
       "    }\n",
       "\n",
       "    .dataframe thead th {\n",
       "        text-align: right;\n",
       "    }\n",
       "</style>\n",
       "<table border=\"1\" class=\"dataframe\">\n",
       "  <thead>\n",
       "    <tr style=\"text-align: right;\">\n",
       "      <th></th>\n",
       "      <th>Time</th>\n",
       "      <th>V1</th>\n",
       "      <th>V2</th>\n",
       "      <th>V3</th>\n",
       "      <th>V4</th>\n",
       "      <th>V5</th>\n",
       "      <th>V6</th>\n",
       "      <th>V7</th>\n",
       "      <th>V8</th>\n",
       "      <th>V9</th>\n",
       "      <th>...</th>\n",
       "      <th>V21</th>\n",
       "      <th>V22</th>\n",
       "      <th>V23</th>\n",
       "      <th>V24</th>\n",
       "      <th>V25</th>\n",
       "      <th>V26</th>\n",
       "      <th>V27</th>\n",
       "      <th>V28</th>\n",
       "      <th>Amount</th>\n",
       "      <th>Class</th>\n",
       "    </tr>\n",
       "  </thead>\n",
       "  <tbody>\n",
       "    <tr>\n",
       "      <td>0</td>\n",
       "      <td>0.0</td>\n",
       "      <td>-1.359807</td>\n",
       "      <td>-0.072781</td>\n",
       "      <td>2.536347</td>\n",
       "      <td>1.378155</td>\n",
       "      <td>-0.338321</td>\n",
       "      <td>0.462388</td>\n",
       "      <td>0.239599</td>\n",
       "      <td>0.098698</td>\n",
       "      <td>0.363787</td>\n",
       "      <td>...</td>\n",
       "      <td>-0.018307</td>\n",
       "      <td>0.277838</td>\n",
       "      <td>-0.110474</td>\n",
       "      <td>0.066928</td>\n",
       "      <td>0.128539</td>\n",
       "      <td>-0.189115</td>\n",
       "      <td>0.133558</td>\n",
       "      <td>-0.021053</td>\n",
       "      <td>149.62</td>\n",
       "      <td>0</td>\n",
       "    </tr>\n",
       "    <tr>\n",
       "      <td>1</td>\n",
       "      <td>0.0</td>\n",
       "      <td>1.191857</td>\n",
       "      <td>0.266151</td>\n",
       "      <td>0.166480</td>\n",
       "      <td>0.448154</td>\n",
       "      <td>0.060018</td>\n",
       "      <td>-0.082361</td>\n",
       "      <td>-0.078803</td>\n",
       "      <td>0.085102</td>\n",
       "      <td>-0.255425</td>\n",
       "      <td>...</td>\n",
       "      <td>-0.225775</td>\n",
       "      <td>-0.638672</td>\n",
       "      <td>0.101288</td>\n",
       "      <td>-0.339846</td>\n",
       "      <td>0.167170</td>\n",
       "      <td>0.125895</td>\n",
       "      <td>-0.008983</td>\n",
       "      <td>0.014724</td>\n",
       "      <td>2.69</td>\n",
       "      <td>0</td>\n",
       "    </tr>\n",
       "    <tr>\n",
       "      <td>2</td>\n",
       "      <td>1.0</td>\n",
       "      <td>-1.358354</td>\n",
       "      <td>-1.340163</td>\n",
       "      <td>1.773209</td>\n",
       "      <td>0.379780</td>\n",
       "      <td>-0.503198</td>\n",
       "      <td>1.800499</td>\n",
       "      <td>0.791461</td>\n",
       "      <td>0.247676</td>\n",
       "      <td>-1.514654</td>\n",
       "      <td>...</td>\n",
       "      <td>0.247998</td>\n",
       "      <td>0.771679</td>\n",
       "      <td>0.909412</td>\n",
       "      <td>-0.689281</td>\n",
       "      <td>-0.327642</td>\n",
       "      <td>-0.139097</td>\n",
       "      <td>-0.055353</td>\n",
       "      <td>-0.059752</td>\n",
       "      <td>378.66</td>\n",
       "      <td>0</td>\n",
       "    </tr>\n",
       "    <tr>\n",
       "      <td>3</td>\n",
       "      <td>1.0</td>\n",
       "      <td>-0.966272</td>\n",
       "      <td>-0.185226</td>\n",
       "      <td>1.792993</td>\n",
       "      <td>-0.863291</td>\n",
       "      <td>-0.010309</td>\n",
       "      <td>1.247203</td>\n",
       "      <td>0.237609</td>\n",
       "      <td>0.377436</td>\n",
       "      <td>-1.387024</td>\n",
       "      <td>...</td>\n",
       "      <td>-0.108300</td>\n",
       "      <td>0.005274</td>\n",
       "      <td>-0.190321</td>\n",
       "      <td>-1.175575</td>\n",
       "      <td>0.647376</td>\n",
       "      <td>-0.221929</td>\n",
       "      <td>0.062723</td>\n",
       "      <td>0.061458</td>\n",
       "      <td>123.50</td>\n",
       "      <td>0</td>\n",
       "    </tr>\n",
       "    <tr>\n",
       "      <td>4</td>\n",
       "      <td>2.0</td>\n",
       "      <td>-1.158233</td>\n",
       "      <td>0.877737</td>\n",
       "      <td>1.548718</td>\n",
       "      <td>0.403034</td>\n",
       "      <td>-0.407193</td>\n",
       "      <td>0.095921</td>\n",
       "      <td>0.592941</td>\n",
       "      <td>-0.270533</td>\n",
       "      <td>0.817739</td>\n",
       "      <td>...</td>\n",
       "      <td>-0.009431</td>\n",
       "      <td>0.798278</td>\n",
       "      <td>-0.137458</td>\n",
       "      <td>0.141267</td>\n",
       "      <td>-0.206010</td>\n",
       "      <td>0.502292</td>\n",
       "      <td>0.219422</td>\n",
       "      <td>0.215153</td>\n",
       "      <td>69.99</td>\n",
       "      <td>0</td>\n",
       "    </tr>\n",
       "  </tbody>\n",
       "</table>\n",
       "<p>5 rows × 31 columns</p>\n",
       "</div>"
      ],
      "text/plain": [
       "   Time        V1        V2        V3        V4        V5        V6        V7  \\\n",
       "0   0.0 -1.359807 -0.072781  2.536347  1.378155 -0.338321  0.462388  0.239599   \n",
       "1   0.0  1.191857  0.266151  0.166480  0.448154  0.060018 -0.082361 -0.078803   \n",
       "2   1.0 -1.358354 -1.340163  1.773209  0.379780 -0.503198  1.800499  0.791461   \n",
       "3   1.0 -0.966272 -0.185226  1.792993 -0.863291 -0.010309  1.247203  0.237609   \n",
       "4   2.0 -1.158233  0.877737  1.548718  0.403034 -0.407193  0.095921  0.592941   \n",
       "\n",
       "         V8        V9  ...       V21       V22       V23       V24       V25  \\\n",
       "0  0.098698  0.363787  ... -0.018307  0.277838 -0.110474  0.066928  0.128539   \n",
       "1  0.085102 -0.255425  ... -0.225775 -0.638672  0.101288 -0.339846  0.167170   \n",
       "2  0.247676 -1.514654  ...  0.247998  0.771679  0.909412 -0.689281 -0.327642   \n",
       "3  0.377436 -1.387024  ... -0.108300  0.005274 -0.190321 -1.175575  0.647376   \n",
       "4 -0.270533  0.817739  ... -0.009431  0.798278 -0.137458  0.141267 -0.206010   \n",
       "\n",
       "        V26       V27       V28  Amount  Class  \n",
       "0 -0.189115  0.133558 -0.021053  149.62      0  \n",
       "1  0.125895 -0.008983  0.014724    2.69      0  \n",
       "2 -0.139097 -0.055353 -0.059752  378.66      0  \n",
       "3 -0.221929  0.062723  0.061458  123.50      0  \n",
       "4  0.502292  0.219422  0.215153   69.99      0  \n",
       "\n",
       "[5 rows x 31 columns]"
      ]
     },
     "execution_count": 2,
     "metadata": {},
     "output_type": "execute_result"
    }
   ],
   "source": [
    "data = pd.read_csv('creditcard.csv')\n",
    "data.head()"
   ]
  },
  {
   "cell_type": "code",
   "execution_count": 3,
   "metadata": {},
   "outputs": [
    {
     "data": {
      "text/plain": [
       "(284807, 31)"
      ]
     },
     "execution_count": 3,
     "metadata": {},
     "output_type": "execute_result"
    }
   ],
   "source": [
    "data.shape"
   ]
  },
  {
   "cell_type": "code",
   "execution_count": 4,
   "metadata": {},
   "outputs": [
    {
     "data": {
      "text/plain": [
       "Time      0\n",
       "V1        0\n",
       "V2        0\n",
       "V3        0\n",
       "V4        0\n",
       "V5        0\n",
       "V6        0\n",
       "V7        0\n",
       "V8        0\n",
       "V9        0\n",
       "V10       0\n",
       "V11       0\n",
       "V12       0\n",
       "V13       0\n",
       "V14       0\n",
       "V15       0\n",
       "V16       0\n",
       "V17       0\n",
       "V18       0\n",
       "V19       0\n",
       "V20       0\n",
       "V21       0\n",
       "V22       0\n",
       "V23       0\n",
       "V24       0\n",
       "V25       0\n",
       "V26       0\n",
       "V27       0\n",
       "V28       0\n",
       "Amount    0\n",
       "Class     0\n",
       "dtype: int64"
      ]
     },
     "execution_count": 4,
     "metadata": {},
     "output_type": "execute_result"
    }
   ],
   "source": [
    "data.isnull().sum()"
   ]
  },
  {
   "cell_type": "code",
   "execution_count": 5,
   "metadata": {},
   "outputs": [
    {
     "name": "stdout",
     "output_type": "stream",
     "text": [
      "<class 'pandas.core.frame.DataFrame'>\n",
      "RangeIndex: 284807 entries, 0 to 284806\n",
      "Data columns (total 31 columns):\n",
      "Time      284807 non-null float64\n",
      "V1        284807 non-null float64\n",
      "V2        284807 non-null float64\n",
      "V3        284807 non-null float64\n",
      "V4        284807 non-null float64\n",
      "V5        284807 non-null float64\n",
      "V6        284807 non-null float64\n",
      "V7        284807 non-null float64\n",
      "V8        284807 non-null float64\n",
      "V9        284807 non-null float64\n",
      "V10       284807 non-null float64\n",
      "V11       284807 non-null float64\n",
      "V12       284807 non-null float64\n",
      "V13       284807 non-null float64\n",
      "V14       284807 non-null float64\n",
      "V15       284807 non-null float64\n",
      "V16       284807 non-null float64\n",
      "V17       284807 non-null float64\n",
      "V18       284807 non-null float64\n",
      "V19       284807 non-null float64\n",
      "V20       284807 non-null float64\n",
      "V21       284807 non-null float64\n",
      "V22       284807 non-null float64\n",
      "V23       284807 non-null float64\n",
      "V24       284807 non-null float64\n",
      "V25       284807 non-null float64\n",
      "V26       284807 non-null float64\n",
      "V27       284807 non-null float64\n",
      "V28       284807 non-null float64\n",
      "Amount    284807 non-null float64\n",
      "Class     284807 non-null int64\n",
      "dtypes: float64(30), int64(1)\n",
      "memory usage: 67.4 MB\n"
     ]
    }
   ],
   "source": [
    "data.info()"
   ]
  },
  {
   "cell_type": "code",
   "execution_count": 6,
   "metadata": {},
   "outputs": [
    {
     "data": {
      "text/plain": [
       "0    284315\n",
       "1       492\n",
       "Name: Class, dtype: int64"
      ]
     },
     "execution_count": 6,
     "metadata": {},
     "output_type": "execute_result"
    }
   ],
   "source": [
    "data['Class'].value_counts()"
   ]
  },
  {
   "cell_type": "markdown",
   "metadata": {},
   "source": [
    "## Balance data"
   ]
  },
  {
   "cell_type": "code",
   "execution_count": 7,
   "metadata": {},
   "outputs": [],
   "source": [
    "non_fraud = data[data['Class']==0]\n",
    "fraud = data[data['Class']==1]"
   ]
  },
  {
   "cell_type": "code",
   "execution_count": 8,
   "metadata": {},
   "outputs": [
    {
     "data": {
      "text/plain": [
       "((284315, 31), (492, 31))"
      ]
     },
     "execution_count": 8,
     "metadata": {},
     "output_type": "execute_result"
    }
   ],
   "source": [
    "non_fraud.shape,fraud.shape"
   ]
  },
  {
   "cell_type": "code",
   "execution_count": 9,
   "metadata": {},
   "outputs": [],
   "source": [
    "non_fraud = non_fraud.sample(fraud.shape[0]) #get 492 samples from non_fraud"
   ]
  },
  {
   "cell_type": "code",
   "execution_count": 10,
   "metadata": {},
   "outputs": [],
   "source": [
    "data = fraud.append(non_fraud, ignore_index=True)"
   ]
  },
  {
   "cell_type": "code",
   "execution_count": 11,
   "metadata": {},
   "outputs": [
    {
     "data": {
      "text/plain": [
       "1    492\n",
       "0    492\n",
       "Name: Class, dtype: int64"
      ]
     },
     "execution_count": 11,
     "metadata": {},
     "output_type": "execute_result"
    }
   ],
   "source": [
    "data['Class'].value_counts()"
   ]
  },
  {
   "cell_type": "markdown",
   "metadata": {},
   "source": [
    "## Prepare data for CNN"
   ]
  },
  {
   "cell_type": "code",
   "execution_count": 12,
   "metadata": {},
   "outputs": [],
   "source": [
    "X=data.drop('Class',axis=1)\n",
    "y=data['Class']"
   ]
  },
  {
   "cell_type": "code",
   "execution_count": 13,
   "metadata": {},
   "outputs": [],
   "source": [
    "X_train, X_test, y_train, y_test = train_test_split(X,y,test_size=0.2,random_state=0,stratify=y)"
   ]
  },
  {
   "cell_type": "code",
   "execution_count": 14,
   "metadata": {},
   "outputs": [
    {
     "data": {
      "text/plain": [
       "((787, 30), (197, 30))"
      ]
     },
     "execution_count": 14,
     "metadata": {},
     "output_type": "execute_result"
    }
   ],
   "source": [
    "X_train.shape,X_test.shape"
   ]
  },
  {
   "cell_type": "code",
   "execution_count": 15,
   "metadata": {},
   "outputs": [],
   "source": [
    "scaler = StandardScaler()\n",
    "X_train=scaler.fit_transform(X_train) \n",
    "X_test=scaler.transform(X_test)  #transform X-test depending on X-train\n",
    "#每一个transform都需要先fit,\n",
    "#比如把数据转为（0，1）分布，需要均值和标准差，\n",
    "#fit_transform和transform的区别就是前者是先计算均值和标准差再转换，\n",
    "#而直接transform则是用之前数据计算的参数转换。所以如果之前没有fit，是不能直接transform的"
   ]
  },
  {
   "cell_type": "code",
   "execution_count": 16,
   "metadata": {},
   "outputs": [
    {
     "data": {
      "text/plain": [
       "((787, 30, 1), (197, 30, 1))"
      ]
     },
     "execution_count": 16,
     "metadata": {},
     "output_type": "execute_result"
    }
   ],
   "source": [
    "X_train=X_train.reshape(X_train.shape[0],X_train.shape[1],1) #3D data for CNN\n",
    "X_test=X_test.reshape(X_test.shape[0],X_test.shape[1],1) #3D data for CNN\n",
    "X_train.shape,X_test.shape"
   ]
  },
  {
   "cell_type": "code",
   "execution_count": 17,
   "metadata": {},
   "outputs": [],
   "source": [
    "y_train = y_train.to_numpy()\n",
    "y_test = y_test.to_numpy()"
   ]
  },
  {
   "cell_type": "markdown",
   "metadata": {},
   "source": [
    "## Build CNN"
   ]
  },
  {
   "cell_type": "code",
   "execution_count": 18,
   "metadata": {},
   "outputs": [
    {
     "name": "stdout",
     "output_type": "stream",
     "text": [
      "WARNING:tensorflow:From C:\\Utilities\\Anaconda3\\lib\\site-packages\\tensorflow\\python\\ops\\init_ops.py:1251: calling VarianceScaling.__init__ (from tensorflow.python.ops.init_ops) with dtype is deprecated and will be removed in a future version.\n",
      "Instructions for updating:\n",
      "Call initializer instance with the dtype argument instead of passing it to the constructor\n"
     ]
    }
   ],
   "source": [
    "epochs=40\n",
    "\n",
    "model=Sequential()\n",
    "\n",
    "model.add(Conv1D(filters=32,kernel_size=2,activation='relu',input_shape=X_train[0].shape))\n",
    "model.add(BatchNormalization())\n",
    "model.add(Dropout(0.2))\n",
    "\n",
    "model.add(Conv1D(filters=64,kernel_size=2,activation='relu'))\n",
    "model.add(BatchNormalization())\n",
    "model.add(Dropout(0.5))\n",
    "\n",
    "model.add(Flatten())\n",
    "model.add(Dense(64,activation='relu'))\n",
    "model.add(Dropout(0.5))\n",
    "\n",
    "model.add(Dense(1,activation='sigmoid'))"
   ]
  },
  {
   "cell_type": "code",
   "execution_count": 19,
   "metadata": {},
   "outputs": [
    {
     "name": "stdout",
     "output_type": "stream",
     "text": [
      "Model: \"sequential\"\n",
      "_________________________________________________________________\n",
      "Layer (type)                 Output Shape              Param #   \n",
      "=================================================================\n",
      "conv1d (Conv1D)              (None, 29, 32)            96        \n",
      "_________________________________________________________________\n",
      "batch_normalization (BatchNo (None, 29, 32)            128       \n",
      "_________________________________________________________________\n",
      "dropout (Dropout)            (None, 29, 32)            0         \n",
      "_________________________________________________________________\n",
      "conv1d_1 (Conv1D)            (None, 28, 64)            4160      \n",
      "_________________________________________________________________\n",
      "batch_normalization_1 (Batch (None, 28, 64)            256       \n",
      "_________________________________________________________________\n",
      "dropout_1 (Dropout)          (None, 28, 64)            0         \n",
      "_________________________________________________________________\n",
      "flatten (Flatten)            (None, 1792)              0         \n",
      "_________________________________________________________________\n",
      "dense (Dense)                (None, 64)                114752    \n",
      "_________________________________________________________________\n",
      "dropout_2 (Dropout)          (None, 64)                0         \n",
      "_________________________________________________________________\n",
      "dense_1 (Dense)              (None, 1)                 65        \n",
      "=================================================================\n",
      "Total params: 119,457\n",
      "Trainable params: 119,265\n",
      "Non-trainable params: 192\n",
      "_________________________________________________________________\n"
     ]
    }
   ],
   "source": [
    "model.summary()"
   ]
  },
  {
   "cell_type": "code",
   "execution_count": 20,
   "metadata": {},
   "outputs": [
    {
     "name": "stdout",
     "output_type": "stream",
     "text": [
      "WARNING:tensorflow:From C:\\Utilities\\Anaconda3\\lib\\site-packages\\tensorflow\\python\\ops\\nn_impl.py:180: add_dispatch_support.<locals>.wrapper (from tensorflow.python.ops.array_ops) is deprecated and will be removed in a future version.\n",
      "Instructions for updating:\n",
      "Use tf.where in 2.0, which has the same broadcast rule as np.where\n"
     ]
    }
   ],
   "source": [
    "model.compile(optimizer=Adam(lr=0.00005),loss='binary_crossentropy',metrics=['accuracy'])\n",
    "#lr: float >= 0. 学习率。"
   ]
  },
  {
   "cell_type": "code",
   "execution_count": 21,
   "metadata": {},
   "outputs": [
    {
     "name": "stdout",
     "output_type": "stream",
     "text": [
      "Train on 787 samples, validate on 197 samples\n",
      "Epoch 1/40\n",
      "787/787 [==============================] - 2s 2ms/sample - loss: 0.8289 - acc: 0.5934 - val_loss: 0.6554 - val_acc: 0.7919\n",
      "Epoch 2/40\n",
      "787/787 [==============================] - 0s 146us/sample - loss: 0.5005 - acc: 0.7891 - val_loss: 0.6130 - val_acc: 0.8579\n",
      "Epoch 3/40\n",
      "787/787 [==============================] - 0s 142us/sample - loss: 0.4915 - acc: 0.7751 - val_loss: 0.5720 - val_acc: 0.8731\n",
      "Epoch 4/40\n",
      "787/787 [==============================] - 0s 151us/sample - loss: 0.3957 - acc: 0.8297 - val_loss: 0.5286 - val_acc: 0.8731\n",
      "Epoch 5/40\n",
      "787/787 [==============================] - 0s 147us/sample - loss: 0.3804 - acc: 0.8399 - val_loss: 0.4888 - val_acc: 0.8832\n",
      "Epoch 6/40\n",
      "787/787 [==============================] - 0s 150us/sample - loss: 0.3816 - acc: 0.8590 - val_loss: 0.4508 - val_acc: 0.8832\n",
      "Epoch 7/40\n",
      "787/787 [==============================] - 0s 149us/sample - loss: 0.3361 - acc: 0.8679 - val_loss: 0.4144 - val_acc: 0.8934\n",
      "Epoch 8/40\n",
      "787/787 [==============================] - 0s 144us/sample - loss: 0.3379 - acc: 0.8729 - val_loss: 0.3819 - val_acc: 0.8985\n",
      "Epoch 9/40\n",
      "787/787 [==============================] - 0s 147us/sample - loss: 0.3097 - acc: 0.8831 - val_loss: 0.3487 - val_acc: 0.9036\n",
      "Epoch 10/40\n",
      "787/787 [==============================] - 0s 157us/sample - loss: 0.3271 - acc: 0.8844 - val_loss: 0.3233 - val_acc: 0.9086\n",
      "Epoch 11/40\n",
      "787/787 [==============================] - 0s 146us/sample - loss: 0.2869 - acc: 0.8945 - val_loss: 0.2983 - val_acc: 0.9137\n",
      "Epoch 12/40\n",
      "787/787 [==============================] - 0s 149us/sample - loss: 0.3181 - acc: 0.8793 - val_loss: 0.2826 - val_acc: 0.9137\n",
      "Epoch 13/40\n",
      "787/787 [==============================] - 0s 148us/sample - loss: 0.2927 - acc: 0.8869 - val_loss: 0.2679 - val_acc: 0.9137\n",
      "Epoch 14/40\n",
      "787/787 [==============================] - 0s 146us/sample - loss: 0.2729 - acc: 0.9047 - val_loss: 0.2564 - val_acc: 0.9137\n",
      "Epoch 15/40\n",
      "787/787 [==============================] - 0s 151us/sample - loss: 0.3009 - acc: 0.8945 - val_loss: 0.2485 - val_acc: 0.9137\n",
      "Epoch 16/40\n",
      "787/787 [==============================] - 0s 143us/sample - loss: 0.2316 - acc: 0.9111 - val_loss: 0.2418 - val_acc: 0.9137\n",
      "Epoch 17/40\n",
      "787/787 [==============================] - 0s 148us/sample - loss: 0.2709 - acc: 0.9009 - val_loss: 0.2359 - val_acc: 0.9137\n",
      "Epoch 18/40\n",
      "787/787 [==============================] - 0s 148us/sample - loss: 0.2680 - acc: 0.9034 - val_loss: 0.2323 - val_acc: 0.9137\n",
      "Epoch 19/40\n",
      "787/787 [==============================] - 0s 153us/sample - loss: 0.2050 - acc: 0.9199 - val_loss: 0.2304 - val_acc: 0.9137\n",
      "Epoch 20/40\n",
      "787/787 [==============================] - 0s 142us/sample - loss: 0.2364 - acc: 0.9199 - val_loss: 0.2267 - val_acc: 0.9137\n",
      "Epoch 21/40\n",
      "787/787 [==============================] - 0s 153us/sample - loss: 0.2265 - acc: 0.9149 - val_loss: 0.2236 - val_acc: 0.9137\n",
      "Epoch 22/40\n",
      "787/787 [==============================] - 0s 151us/sample - loss: 0.1976 - acc: 0.9187 - val_loss: 0.2230 - val_acc: 0.9137\n",
      "Epoch 23/40\n",
      "787/787 [==============================] - 0s 147us/sample - loss: 0.2497 - acc: 0.9149 - val_loss: 0.2208 - val_acc: 0.9137\n",
      "Epoch 24/40\n",
      "787/787 [==============================] - 0s 144us/sample - loss: 0.2342 - acc: 0.9111 - val_loss: 0.2192 - val_acc: 0.9137\n",
      "Epoch 25/40\n",
      "787/787 [==============================] - 0s 143us/sample - loss: 0.2376 - acc: 0.9098 - val_loss: 0.2193 - val_acc: 0.9137\n",
      "Epoch 26/40\n",
      "787/787 [==============================] - 0s 144us/sample - loss: 0.2246 - acc: 0.9187 - val_loss: 0.2168 - val_acc: 0.9137\n",
      "Epoch 27/40\n",
      "787/787 [==============================] - 0s 150us/sample - loss: 0.2090 - acc: 0.9149 - val_loss: 0.2167 - val_acc: 0.9137\n",
      "Epoch 28/40\n",
      "787/787 [==============================] - 0s 155us/sample - loss: 0.2029 - acc: 0.9352 - val_loss: 0.2179 - val_acc: 0.9137\n",
      "Epoch 29/40\n",
      "787/787 [==============================] - 0s 147us/sample - loss: 0.1990 - acc: 0.9238 - val_loss: 0.2160 - val_acc: 0.9137\n",
      "Epoch 30/40\n",
      "787/787 [==============================] - 0s 148us/sample - loss: 0.1929 - acc: 0.9352 - val_loss: 0.2161 - val_acc: 0.9086\n",
      "Epoch 31/40\n",
      "787/787 [==============================] - 0s 150us/sample - loss: 0.2036 - acc: 0.9263 - val_loss: 0.2134 - val_acc: 0.9137\n",
      "Epoch 32/40\n",
      "787/787 [==============================] - 0s 143us/sample - loss: 0.1818 - acc: 0.9327 - val_loss: 0.2152 - val_acc: 0.9086\n",
      "Epoch 33/40\n",
      "787/787 [==============================] - 0s 142us/sample - loss: 0.1946 - acc: 0.9212 - val_loss: 0.2153 - val_acc: 0.9086\n",
      "Epoch 34/40\n",
      "787/787 [==============================] - 0s 144us/sample - loss: 0.2042 - acc: 0.9377 - val_loss: 0.2143 - val_acc: 0.9086\n",
      "Epoch 35/40\n",
      "787/787 [==============================] - 0s 143us/sample - loss: 0.1802 - acc: 0.9377 - val_loss: 0.2158 - val_acc: 0.9086\n",
      "Epoch 36/40\n",
      "787/787 [==============================] - 0s 153us/sample - loss: 0.2086 - acc: 0.9314 - val_loss: 0.2162 - val_acc: 0.9086\n",
      "Epoch 37/40\n",
      "787/787 [==============================] - 0s 146us/sample - loss: 0.1945 - acc: 0.9339 - val_loss: 0.2143 - val_acc: 0.9036\n",
      "Epoch 38/40\n",
      "787/787 [==============================] - 0s 148us/sample - loss: 0.2031 - acc: 0.9199 - val_loss: 0.2154 - val_acc: 0.9036\n",
      "Epoch 39/40\n",
      "787/787 [==============================] - 0s 152us/sample - loss: 0.1856 - acc: 0.9288 - val_loss: 0.2158 - val_acc: 0.9036\n",
      "Epoch 40/40\n",
      "787/787 [==============================] - 0s 153us/sample - loss: 0.1936 - acc: 0.9301 - val_loss: 0.2176 - val_acc: 0.9036\n"
     ]
    }
   ],
   "source": [
    "history=model.fit(X_train,y_train,epochs=epochs,validation_data=(X_test,y_test),verbose=1)"
   ]
  },
  {
   "cell_type": "markdown",
   "metadata": {},
   "source": [
    "## Evaluate model"
   ]
  },
  {
   "cell_type": "code",
   "execution_count": 22,
   "metadata": {},
   "outputs": [
    {
     "data": {
      "image/png": "[encoded data removed]",
      "text/plain": [
       "<Figure size 432x288 with 1 Axes>"
      ]
     },
     "metadata": {
      "needs_background": "light"
     },
     "output_type": "display_data"
    },
    {
     "data": {
      "image/png": "[encoded data removed]",
      "text/plain": [
       "<Figure size 432x288 with 1 Axes>"
      ]
     },
     "metadata": {
      "needs_background": "light"
     },
     "output_type": "display_data"
    }
   ],
   "source": [
    "epoch_range=range(1,epochs+1)\n",
    "plt.plot(epoch_range,history.history['acc'])\n",
    "plt.plot(epoch_range,history.history['val_acc'])\n",
    "plt.title('Model accuracy')\n",
    "plt.ylabel('Accuracy')\n",
    "plt.xlabel('Epoch')\n",
    "plt.legend(['Train','Val'],loc='upper left')\n",
    "plt.show()\n",
    "\n",
    "plt.plot(history.history['loss'])\n",
    "plt.plot(history.history['val_loss'])\n",
    "plt.title('Model loss')\n",
    "plt.ylabel('Loss')\n",
    "plt.xlabel('Epoch')\n",
    "plt.legend(['Train','Val'],loc='upper left')\n",
    "plt.show()\n",
    "\n",
    "#12-15 epochs is enough,, acc->0.9137"
   ]
  },
  {
   "cell_type": "markdown",
   "metadata": {},
   "source": [
    "## Use the same model but with maxpooling layer"
   ]
  },
  {
   "cell_type": "code",
   "execution_count": 23,
   "metadata": {},
   "outputs": [
    {
     "name": "stdout",
     "output_type": "stream",
     "text": [
      "Train on 787 samples, validate on 197 samples\n",
      "Epoch 1/100\n",
      "787/787 [==============================] - 1s 639us/sample - loss: 1.3609 - acc: 0.5591 - val_loss: 0.6769 - val_acc: 0.7056\n",
      "Epoch 2/100\n",
      "787/787 [==============================] - 0s 181us/sample - loss: 1.1964 - acc: 0.5743 - val_loss: 0.6642 - val_acc: 0.6599\n",
      "Epoch 3/100\n",
      "787/787 [==============================] - 0s 174us/sample - loss: 0.9824 - acc: 0.6455 - val_loss: 0.6516 - val_acc: 0.6345\n",
      "Epoch 4/100\n",
      "787/787 [==============================] - 0s 161us/sample - loss: 0.8937 - acc: 0.6645 - val_loss: 0.6404 - val_acc: 0.6345\n",
      "Epoch 5/100\n",
      "787/787 [==============================] - 0s 156us/sample - loss: 0.8752 - acc: 0.6633 - val_loss: 0.6289 - val_acc: 0.6345\n",
      "Epoch 6/100\n",
      "787/787 [==============================] - 0s 152us/sample - loss: 0.7698 - acc: 0.6887 - val_loss: 0.6150 - val_acc: 0.6396\n",
      "Epoch 7/100\n",
      "787/787 [==============================] - 0s 163us/sample - loss: 0.7168 - acc: 0.7179 - val_loss: 0.5983 - val_acc: 0.6548\n",
      "Epoch 8/100\n",
      "787/787 [==============================] - 0s 180us/sample - loss: 0.7360 - acc: 0.7166 - val_loss: 0.5778 - val_acc: 0.6701\n",
      "Epoch 9/100\n",
      "787/787 [==============================] - 0s 175us/sample - loss: 0.6257 - acc: 0.7446 - val_loss: 0.5524 - val_acc: 0.7157\n",
      "Epoch 10/100\n",
      "787/787 [==============================] - 0s 151us/sample - loss: 0.5739 - acc: 0.7598 - val_loss: 0.5247 - val_acc: 0.7360\n",
      "Epoch 11/100\n",
      "787/787 [==============================] - 0s 147us/sample - loss: 0.5748 - acc: 0.7497 - val_loss: 0.4949 - val_acc: 0.7462\n",
      "Epoch 12/100\n",
      "787/787 [==============================] - 0s 146us/sample - loss: 0.5888 - acc: 0.7637 - val_loss: 0.4657 - val_acc: 0.7716\n",
      "Epoch 13/100\n",
      "787/787 [==============================] - 0s 148us/sample - loss: 0.5531 - acc: 0.7764 - val_loss: 0.4366 - val_acc: 0.8071\n",
      "Epoch 14/100\n",
      "787/787 [==============================] - 0s 153us/sample - loss: 0.4771 - acc: 0.7980 - val_loss: 0.4106 - val_acc: 0.8223\n",
      "Epoch 15/100\n",
      "787/787 [==============================] - 0s 151us/sample - loss: 0.5533 - acc: 0.7713 - val_loss: 0.3883 - val_acc: 0.8274\n",
      "Epoch 16/100\n",
      "787/787 [==============================] - 0s 156us/sample - loss: 0.5290 - acc: 0.7954 - val_loss: 0.3676 - val_acc: 0.8274\n",
      "Epoch 17/100\n",
      "787/787 [==============================] - 0s 148us/sample - loss: 0.5598 - acc: 0.8069 - val_loss: 0.3506 - val_acc: 0.8528\n",
      "Epoch 18/100\n",
      "787/787 [==============================] - 0s 150us/sample - loss: 0.4889 - acc: 0.8081 - val_loss: 0.3357 - val_acc: 0.8579\n",
      "Epoch 19/100\n",
      "787/787 [==============================] - 0s 151us/sample - loss: 0.4949 - acc: 0.8107 - val_loss: 0.3231 - val_acc: 0.8680\n",
      "Epoch 20/100\n",
      "787/787 [==============================] - 0s 155us/sample - loss: 0.4300 - acc: 0.8335 - val_loss: 0.3124 - val_acc: 0.8680\n",
      "Epoch 21/100\n",
      "787/787 [==============================] - 0s 153us/sample - loss: 0.4641 - acc: 0.8107 - val_loss: 0.3048 - val_acc: 0.8680\n",
      "Epoch 22/100\n",
      "787/787 [==============================] - 0s 150us/sample - loss: 0.4440 - acc: 0.8272 - val_loss: 0.2989 - val_acc: 0.8680\n",
      "Epoch 23/100\n",
      "787/787 [==============================] - 0s 150us/sample - loss: 0.3717 - acc: 0.8437 - val_loss: 0.2931 - val_acc: 0.8731\n",
      "Epoch 24/100\n",
      "787/787 [==============================] - 0s 153us/sample - loss: 0.4147 - acc: 0.8323 - val_loss: 0.2884 - val_acc: 0.8731\n",
      "Epoch 25/100\n",
      "787/787 [==============================] - 0s 157us/sample - loss: 0.4320 - acc: 0.8374 - val_loss: 0.2841 - val_acc: 0.8731\n",
      "Epoch 26/100\n",
      "787/787 [==============================] - 0s 150us/sample - loss: 0.4060 - acc: 0.8234 - val_loss: 0.2806 - val_acc: 0.8832\n",
      "Epoch 27/100\n",
      "787/787 [==============================] - 0s 167us/sample - loss: 0.4159 - acc: 0.8335 - val_loss: 0.2777 - val_acc: 0.8782\n",
      "Epoch 28/100\n",
      "787/787 [==============================] - 0s 175us/sample - loss: 0.3734 - acc: 0.8602 - val_loss: 0.2752 - val_acc: 0.8782\n",
      "Epoch 29/100\n",
      "787/787 [==============================] - 0s 173us/sample - loss: 0.3602 - acc: 0.8577 - val_loss: 0.2733 - val_acc: 0.8832\n",
      "Epoch 30/100\n",
      "787/787 [==============================] - 0s 201us/sample - loss: 0.3780 - acc: 0.8513 - val_loss: 0.2711 - val_acc: 0.8883\n",
      "Epoch 31/100\n",
      "787/787 [==============================] - 0s 186us/sample - loss: 0.3986 - acc: 0.8374 - val_loss: 0.2682 - val_acc: 0.8934\n",
      "Epoch 32/100\n",
      "787/787 [==============================] - 0s 147us/sample - loss: 0.3600 - acc: 0.8679 - val_loss: 0.2661 - val_acc: 0.8934\n",
      "Epoch 33/100\n",
      "787/787 [==============================] - 0s 165us/sample - loss: 0.3720 - acc: 0.8526 - val_loss: 0.2645 - val_acc: 0.8934\n",
      "Epoch 34/100\n",
      "787/787 [==============================] - 0s 201us/sample - loss: 0.3622 - acc: 0.8526 - val_loss: 0.2633 - val_acc: 0.8934\n",
      "Epoch 35/100\n",
      "787/787 [==============================] - 0s 163us/sample - loss: 0.3764 - acc: 0.8856 - val_loss: 0.2617 - val_acc: 0.8934\n",
      "Epoch 36/100\n",
      "787/787 [==============================] - 0s 155us/sample - loss: 0.4030 - acc: 0.8488 - val_loss: 0.2605 - val_acc: 0.9036\n",
      "Epoch 37/100\n",
      "787/787 [==============================] - 0s 150us/sample - loss: 0.4128 - acc: 0.8513 - val_loss: 0.2586 - val_acc: 0.9036\n",
      "Epoch 38/100\n",
      "787/787 [==============================] - ETA: 0s - loss: 0.3835 - acc: 0.865 - 0s 153us/sample - loss: 0.3128 - acc: 0.8831 - val_loss: 0.2573 - val_acc: 0.9036\n",
      "Epoch 39/100\n",
      "787/787 [==============================] - 0s 157us/sample - loss: 0.3455 - acc: 0.8704 - val_loss: 0.2559 - val_acc: 0.9036\n",
      "Epoch 40/100\n",
      "787/787 [==============================] - 0s 152us/sample - loss: 0.3077 - acc: 0.8856 - val_loss: 0.2546 - val_acc: 0.9086\n",
      "Epoch 41/100\n",
      "787/787 [==============================] - 0s 166us/sample - loss: 0.3721 - acc: 0.8767 - val_loss: 0.2530 - val_acc: 0.9086\n",
      "Epoch 42/100\n",
      "787/787 [==============================] - 0s 151us/sample - loss: 0.3174 - acc: 0.8818 - val_loss: 0.2511 - val_acc: 0.9086\n",
      "Epoch 43/100\n",
      "787/787 [==============================] - 0s 152us/sample - loss: 0.3322 - acc: 0.8717 - val_loss: 0.2501 - val_acc: 0.9086\n",
      "Epoch 44/100\n",
      "787/787 [==============================] - 0s 151us/sample - loss: 0.3221 - acc: 0.8666 - val_loss: 0.2493 - val_acc: 0.9086\n",
      "Epoch 45/100\n",
      "787/787 [==============================] - 0s 160us/sample - loss: 0.3738 - acc: 0.8742 - val_loss: 0.2482 - val_acc: 0.9086\n",
      "Epoch 46/100\n",
      "787/787 [==============================] - 0s 160us/sample - loss: 0.3483 - acc: 0.8755 - val_loss: 0.2466 - val_acc: 0.9086\n",
      "Epoch 47/100\n",
      "787/787 [==============================] - ETA: 0s - loss: 0.2766 - acc: 0.899 - 0s 147us/sample - loss: 0.2956 - acc: 0.8907 - val_loss: 0.2458 - val_acc: 0.9188\n",
      "Epoch 48/100\n",
      "787/787 [==============================] - 0s 152us/sample - loss: 0.3122 - acc: 0.8691 - val_loss: 0.2455 - val_acc: 0.9188\n",
      "Epoch 49/100\n",
      "787/787 [==============================] - 0s 170us/sample - loss: 0.3265 - acc: 0.8767 - val_loss: 0.2447 - val_acc: 0.9188\n",
      "Epoch 50/100\n",
      "787/787 [==============================] - 0s 151us/sample - loss: 0.2899 - acc: 0.8755 - val_loss: 0.2435 - val_acc: 0.9188\n",
      "Epoch 51/100\n",
      "787/787 [==============================] - 0s 155us/sample - loss: 0.2899 - acc: 0.8945 - val_loss: 0.2432 - val_acc: 0.9188\n",
      "Epoch 52/100\n",
      "787/787 [==============================] - 0s 160us/sample - loss: 0.2879 - acc: 0.8971 - val_loss: 0.2426 - val_acc: 0.9188\n",
      "Epoch 53/100\n",
      "787/787 [==============================] - 0s 155us/sample - loss: 0.2982 - acc: 0.8945 - val_loss: 0.2421 - val_acc: 0.9188\n",
      "Epoch 54/100\n",
      "787/787 [==============================] - 0s 153us/sample - loss: 0.2789 - acc: 0.8895 - val_loss: 0.2414 - val_acc: 0.9188\n",
      "Epoch 55/100\n",
      "787/787 [==============================] - 0s 151us/sample - loss: 0.2521 - acc: 0.8958 - val_loss: 0.2414 - val_acc: 0.9188\n",
      "Epoch 56/100\n",
      "787/787 [==============================] - 0s 155us/sample - loss: 0.2850 - acc: 0.9060 - val_loss: 0.2401 - val_acc: 0.9188\n",
      "Epoch 57/100\n",
      "787/787 [==============================] - 0s 152us/sample - loss: 0.2760 - acc: 0.8958 - val_loss: 0.2398 - val_acc: 0.9188\n",
      "Epoch 58/100\n",
      "787/787 [==============================] - 0s 163us/sample - loss: 0.2696 - acc: 0.8958 - val_loss: 0.2398 - val_acc: 0.9188\n",
      "Epoch 59/100\n",
      "787/787 [==============================] - 0s 151us/sample - loss: 0.2767 - acc: 0.9022 - val_loss: 0.2396 - val_acc: 0.9188\n",
      "Epoch 60/100\n",
      "787/787 [==============================] - 0s 151us/sample - loss: 0.2778 - acc: 0.9098 - val_loss: 0.2394 - val_acc: 0.9188\n",
      "Epoch 61/100\n",
      "787/787 [==============================] - 0s 150us/sample - loss: 0.2780 - acc: 0.8907 - val_loss: 0.2389 - val_acc: 0.9188\n",
      "Epoch 62/100\n",
      "787/787 [==============================] - 0s 150us/sample - loss: 0.3023 - acc: 0.8882 - val_loss: 0.2383 - val_acc: 0.9188\n",
      "Epoch 63/100\n",
      "787/787 [==============================] - 0s 156us/sample - loss: 0.2482 - acc: 0.9085 - val_loss: 0.2390 - val_acc: 0.9188\n",
      "Epoch 64/100\n",
      "787/787 [==============================] - 0s 179us/sample - loss: 0.3036 - acc: 0.8996 - val_loss: 0.2383 - val_acc: 0.9188\n",
      "Epoch 65/100\n",
      "787/787 [==============================] - 0s 186us/sample - loss: 0.3229 - acc: 0.8856 - val_loss: 0.2384 - val_acc: 0.9188\n",
      "Epoch 66/100\n",
      "787/787 [==============================] - 0s 185us/sample - loss: 0.2708 - acc: 0.8971 - val_loss: 0.2378 - val_acc: 0.9188\n",
      "Epoch 67/100\n",
      "787/787 [==============================] - 0s 157us/sample - loss: 0.3157 - acc: 0.8933 - val_loss: 0.2377 - val_acc: 0.9188\n",
      "Epoch 68/100\n",
      "787/787 [==============================] - 0s 156us/sample - loss: 0.2467 - acc: 0.9060 - val_loss: 0.2367 - val_acc: 0.9188\n",
      "Epoch 69/100\n",
      "787/787 [==============================] - 0s 221us/sample - loss: 0.2785 - acc: 0.8945 - val_loss: 0.2356 - val_acc: 0.9188\n",
      "Epoch 70/100\n",
      "787/787 [==============================] - 0s 199us/sample - loss: 0.2647 - acc: 0.9072 - val_loss: 0.2350 - val_acc: 0.9188\n",
      "Epoch 71/100\n",
      "787/787 [==============================] - 0s 167us/sample - loss: 0.2577 - acc: 0.9161 - val_loss: 0.2343 - val_acc: 0.9188\n",
      "Epoch 72/100\n",
      "787/787 [==============================] - 0s 193us/sample - loss: 0.3094 - acc: 0.9022 - val_loss: 0.2337 - val_acc: 0.9188\n",
      "Epoch 73/100\n",
      "787/787 [==============================] - 0s 213us/sample - loss: 0.2714 - acc: 0.9060 - val_loss: 0.2341 - val_acc: 0.9188\n",
      "Epoch 74/100\n",
      "787/787 [==============================] - 0s 210us/sample - loss: 0.2425 - acc: 0.9034 - val_loss: 0.2335 - val_acc: 0.9188\n",
      "Epoch 75/100\n",
      "787/787 [==============================] - 0s 194us/sample - loss: 0.2724 - acc: 0.9060 - val_loss: 0.2326 - val_acc: 0.9188\n",
      "Epoch 76/100\n",
      "787/787 [==============================] - 0s 171us/sample - loss: 0.2635 - acc: 0.9009 - val_loss: 0.2320 - val_acc: 0.9188\n",
      "Epoch 77/100\n",
      "787/787 [==============================] - 0s 209us/sample - loss: 0.2646 - acc: 0.8907 - val_loss: 0.2318 - val_acc: 0.9188\n",
      "Epoch 78/100\n",
      "787/787 [==============================] - 0s 173us/sample - loss: 0.2588 - acc: 0.8958 - val_loss: 0.2318 - val_acc: 0.9188\n",
      "Epoch 79/100\n",
      "787/787 [==============================] - 0s 208us/sample - loss: 0.2446 - acc: 0.9060 - val_loss: 0.2319 - val_acc: 0.9188\n",
      "Epoch 80/100\n",
      "787/787 [==============================] - 0s 195us/sample - loss: 0.2120 - acc: 0.9288 - val_loss: 0.2319 - val_acc: 0.9188\n",
      "Epoch 81/100\n",
      "787/787 [==============================] - 0s 203us/sample - loss: 0.2662 - acc: 0.9123 - val_loss: 0.2315 - val_acc: 0.9188\n",
      "Epoch 82/100\n",
      "787/787 [==============================] - 0s 171us/sample - loss: 0.2560 - acc: 0.9123 - val_loss: 0.2311 - val_acc: 0.9188\n",
      "Epoch 83/100\n",
      "787/787 [==============================] - 0s 203us/sample - loss: 0.2428 - acc: 0.9212 - val_loss: 0.2314 - val_acc: 0.9188\n",
      "Epoch 84/100\n",
      "787/787 [==============================] - 0s 178us/sample - loss: 0.2613 - acc: 0.9098 - val_loss: 0.2311 - val_acc: 0.9188\n",
      "Epoch 85/100\n",
      "787/787 [==============================] - 0s 188us/sample - loss: 0.2521 - acc: 0.9034 - val_loss: 0.2305 - val_acc: 0.9188\n",
      "Epoch 86/100\n",
      "787/787 [==============================] - 0s 172us/sample - loss: 0.2488 - acc: 0.9111 - val_loss: 0.2299 - val_acc: 0.9188\n",
      "Epoch 87/100\n",
      "787/787 [==============================] - 0s 169us/sample - loss: 0.2288 - acc: 0.9238 - val_loss: 0.2287 - val_acc: 0.9188\n",
      "Epoch 88/100\n",
      "787/787 [==============================] - 0s 166us/sample - loss: 0.2768 - acc: 0.9136 - val_loss: 0.2291 - val_acc: 0.9188\n",
      "Epoch 89/100\n",
      "787/787 [==============================] - 0s 165us/sample - loss: 0.2336 - acc: 0.9250 - val_loss: 0.2289 - val_acc: 0.9188\n",
      "Epoch 90/100\n",
      "787/787 [==============================] - 0s 172us/sample - loss: 0.2140 - acc: 0.9111 - val_loss: 0.2291 - val_acc: 0.9188\n",
      "Epoch 91/100\n",
      "787/787 [==============================] - 0s 165us/sample - loss: 0.2535 - acc: 0.9111 - val_loss: 0.2290 - val_acc: 0.9188\n",
      "Epoch 92/100\n",
      "787/787 [==============================] - 0s 151us/sample - loss: 0.2928 - acc: 0.8983 - val_loss: 0.2273 - val_acc: 0.9188\n",
      "Epoch 93/100\n",
      "787/787 [==============================] - 0s 151us/sample - loss: 0.2399 - acc: 0.9098 - val_loss: 0.2260 - val_acc: 0.9188\n",
      "Epoch 94/100\n",
      "787/787 [==============================] - 0s 157us/sample - loss: 0.2397 - acc: 0.9111 - val_loss: 0.2257 - val_acc: 0.9188\n",
      "Epoch 95/100\n",
      "787/787 [==============================] - 0s 166us/sample - loss: 0.2420 - acc: 0.9098 - val_loss: 0.2266 - val_acc: 0.9188\n",
      "Epoch 96/100\n",
      "787/787 [==============================] - 0s 208us/sample - loss: 0.2528 - acc: 0.9149 - val_loss: 0.2261 - val_acc: 0.9188\n",
      "Epoch 97/100\n",
      "787/787 [==============================] - 0s 177us/sample - loss: 0.2652 - acc: 0.9123 - val_loss: 0.2251 - val_acc: 0.9188\n",
      "Epoch 98/100\n",
      "787/787 [==============================] - 0s 166us/sample - loss: 0.2216 - acc: 0.9161 - val_loss: 0.2252 - val_acc: 0.9188\n",
      "Epoch 99/100\n",
      "787/787 [==============================] - 0s 166us/sample - loss: 0.2335 - acc: 0.9123 - val_loss: 0.2247 - val_acc: 0.9188\n",
      "Epoch 100/100\n",
      "787/787 [==============================] - 0s 155us/sample - loss: 0.2165 - acc: 0.9149 - val_loss: 0.2246 - val_acc: 0.9188\n"
     ]
    }
   ],
   "source": [
    "epochs=100\n",
    "\n",
    "model=Sequential()\n",
    "\n",
    "model.add(Conv1D(filters=32,kernel_size=2,activation='relu',input_shape=X_train[0].shape))\n",
    "model.add(BatchNormalization())\n",
    "model.add(MaxPool1D(2))\n",
    "model.add(Dropout(0.2))\n",
    "\n",
    "model.add(Conv1D(filters=64,kernel_size=2,activation='relu'))\n",
    "model.add(BatchNormalization())\n",
    "model.add(MaxPool1D(2))\n",
    "model.add(Dropout(0.5))\n",
    "\n",
    "model.add(Flatten())\n",
    "model.add(Dense(64,activation='relu'))\n",
    "model.add(Dropout(0.5))\n",
    "\n",
    "model.add(Dense(1,activation='sigmoid'))\n",
    "\n",
    "model.compile(optimizer=Adam(lr=0.00005),loss='binary_crossentropy',metrics=['accuracy'])\n",
    "\n",
    "history=model.fit(X_train,y_train,epochs=epochs,validation_data=(X_test,y_test),verbose=1)\n",
    "\n",
    "\n"
   ]
  },
  {
   "cell_type": "code",
   "execution_count": 24,
   "metadata": {},
   "outputs": [
    {
     "data": {
      "image/png": "[encoded data removed]",
      "text/plain": [
       "<Figure size 432x288 with 1 Axes>"
      ]
     },
     "metadata": {
      "needs_background": "light"
     },
     "output_type": "display_data"
    },
    {
     "data": {
      "image/png": "[encoded data removed]",
      "text/plain": [
       "<Figure size 432x288 with 1 Axes>"
      ]
     },
     "metadata": {
      "needs_background": "light"
     },
     "output_type": "display_data"
    }
   ],
   "source": [
    "epoch_range=range(1,epochs+1)\n",
    "plt.plot(epoch_range,history.history['acc'])\n",
    "plt.plot(epoch_range,history.history['val_acc'])\n",
    "plt.title('Model accuracy')\n",
    "plt.ylabel('Accuracy')\n",
    "plt.xlabel('Epoch')\n",
    "plt.legend(['Train','Val'],loc='upper left')\n",
    "plt.show()\n",
    "\n",
    "plt.plot(history.history['loss'])\n",
    "plt.plot(history.history['val_loss'])\n",
    "plt.title('Model loss')\n",
    "plt.ylabel('Loss')\n",
    "plt.xlabel('Epoch')\n",
    "plt.legend(['Train','Val'],loc='upper left')\n",
    "plt.show()\n",
    "\n",
    "# accuracy -> 0.9188 ,  48 epochs is enough"
   ]
  }
 ],
 "metadata": {
  "kernelspec": {
   "display_name": "Python 3",
   "language": "python",
   "name": "python3"
  },
  "language_info": {
   "codemirror_mode": {
    "name": "ipython",
    "version": 3
   },
   "file_extension": ".py",
   "mimetype": "text/x-python",
   "name": "python",
   "nbconvert_exporter": "python",
   "pygments_lexer": "ipython3",
   "version": "3.7.5"
  }
 },
 "nbformat": 4,
 "nbformat_minor": 2
}
