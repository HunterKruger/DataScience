{
 "cells": [
  {
   "cell_type": "markdown",
   "metadata": {},
   "source": [
    "## list"
   ]
  },
  {
   "cell_type": "code",
   "execution_count": 4,
   "metadata": {},
   "outputs": [],
   "source": [
    "# 有序集合，随时增删。\n",
    "# 包含的数据类型可以不同：整数、浮点数、字符串、list、tuple、dict、set、bool、空值、常量。\n",
    "# list名为列表，相当于一个数组\n",
    "# list列表是有序的，其中的每个元素都分配一个位置索引，索引值从0开始\n",
    "# list的长度是自动变化的\n",
    "# list列表元素不必都是同一种类型\n",
    "# list列表可以进行截取、组合、修改、增加等操作\n",
    "# list列表中的元素用中括号[]来表示"
   ]
  },
  {
   "cell_type": "code",
   "execution_count": 2,
   "metadata": {},
   "outputs": [
    {
     "name": "stdout",
     "output_type": "stream",
     "text": [
      "['Joe', 'Tom', 'Ann', 'Jim', 'Fee']\n",
      "Joe\n",
      "['Ann', 'Jim', 'Fee']\n"
     ]
    }
   ],
   "source": [
    "friends = [\"Joe\", \"Tom\", \"Ann\", \"Jim\", \"Fee\"]\n",
    "print(friends)\n",
    "print(friends[0])\n",
    "print(friends[2:5])"
   ]
  },
  {
   "cell_type": "code",
   "execution_count": 6,
   "metadata": {},
   "outputs": [
    {
     "name": "stdout",
     "output_type": "stream",
     "text": [
      "Yuan\n"
     ]
    }
   ],
   "source": [
    "friends[1] = \"Yuan\"\n",
    "print(friends[1])"
   ]
  },
  {
   "cell_type": "code",
   "execution_count": 7,
   "metadata": {},
   "outputs": [
    {
     "name": "stdout",
     "output_type": "stream",
     "text": [
      "Tommy\n",
      "[42, False, 53.123, 'Tommy']\n",
      "['Joe', 42]\n",
      "[42, False]\n"
     ]
    }
   ],
   "source": [
    "mess = [\"Joe\", 42, False, 53.123, \"Tommy\"]\n",
    "print(mess[-1])\n",
    "print(mess[1:])\n",
    "print(mess[:2])\n",
    "print(mess[1:3])"
   ]
  },
  {
   "cell_type": "code",
   "execution_count": 8,
   "metadata": {},
   "outputs": [
    {
     "name": "stdout",
     "output_type": "stream",
     "text": [
      "['Joe', 42, False, 53.123, 'Tommy', 'Joe', 'Yuan', 'Ann', 'Jim', 'Fee']\n"
     ]
    }
   ],
   "source": [
    "mess.extend(friends)\n",
    "print(mess)"
   ]
  },
  {
   "cell_type": "code",
   "execution_count": 9,
   "metadata": {},
   "outputs": [
    {
     "name": "stdout",
     "output_type": "stream",
     "text": [
      "['Joe', 42, False, 53.123, 'Tommy', 'Joe', 'Yuan', 'Ann', 'Jim', 'Fee', 'end']\n"
     ]
    }
   ],
   "source": [
    "mess.append(\"end\")\n",
    "print(mess)"
   ]
  },
  {
   "cell_type": "code",
   "execution_count": 10,
   "metadata": {},
   "outputs": [
    {
     "name": "stdout",
     "output_type": "stream",
     "text": [
      "['Joe', 'insert', 42, False, 53.123, 'Tommy', 'Joe', 'Yuan', 'Ann', 'Jim', 'Fee', 'end']\n"
     ]
    }
   ],
   "source": [
    "mess.insert(1, \"insert\")\n",
    "print(mess)"
   ]
  },
  {
   "cell_type": "code",
   "execution_count": 11,
   "metadata": {},
   "outputs": [
    {
     "name": "stdout",
     "output_type": "stream",
     "text": [
      "end\n",
      "['Joe', 'insert', 42, False, 53.123, 'Tommy', 'Joe', 'Yuan', 'Ann', 'Jim', 'Fee']\n"
     ]
    }
   ],
   "source": [
    "print(mess.pop())\n",
    "print(mess)"
   ]
  },
  {
   "cell_type": "code",
   "execution_count": 12,
   "metadata": {},
   "outputs": [
    {
     "name": "stdout",
     "output_type": "stream",
     "text": [
      "3\n"
     ]
    }
   ],
   "source": [
    "print(mess.index(False))"
   ]
  },
  {
   "cell_type": "code",
   "execution_count": 31,
   "metadata": {},
   "outputs": [
    {
     "name": "stdout",
     "output_type": "stream",
     "text": [
      "2\n"
     ]
    }
   ],
   "source": [
    "mess.append(\"Jim\")\n",
    "print(mess.count(\"Jim\"))"
   ]
  },
  {
   "cell_type": "code",
   "execution_count": 32,
   "metadata": {},
   "outputs": [
    {
     "name": "stdout",
     "output_type": "stream",
     "text": [
      "[3, 45, 55, 56, 64, 64, 75]\n"
     ]
    }
   ],
   "source": [
    "numbers = [3, 55, 64, 45, 64, 75, 56]\n",
    "numbers.sort()\n",
    "print(numbers)"
   ]
  },
  {
   "cell_type": "code",
   "execution_count": 33,
   "metadata": {},
   "outputs": [
    {
     "name": "stdout",
     "output_type": "stream",
     "text": [
      "[3, 45, 55, 56, 64, 64, 75]\n",
      "[3, 45, 55, 56, 64, 64, 75]\n"
     ]
    }
   ],
   "source": [
    "chiffre = numbers.copy() #only copy values\n",
    "chiffre2 = numbers  #point to numbers\n",
    "print(chiffre)\n",
    "print(chiffre2)"
   ]
  },
  {
   "cell_type": "code",
   "execution_count": 34,
   "metadata": {},
   "outputs": [
    {
     "name": "stdout",
     "output_type": "stream",
     "text": [
      "[75, 64, 64, 56, 55, 45, 3]\n",
      "[3, 45, 55, 56, 64, 64, 75]\n"
     ]
    }
   ],
   "source": [
    "chiffre.reverse()\n",
    "print(chiffre)\n",
    "print(numbers)"
   ]
  },
  {
   "cell_type": "code",
   "execution_count": 35,
   "metadata": {},
   "outputs": [
    {
     "name": "stdout",
     "output_type": "stream",
     "text": [
      "[75, 64, 64, 56, 55, 45, 3]\n",
      "[75, 64, 64, 56, 55, 45, 3]\n"
     ]
    }
   ],
   "source": [
    "chiffre2.reverse()\n",
    "print(chiffre2)\n",
    "print(numbers)"
   ]
  },
  {
   "cell_type": "markdown",
   "metadata": {},
   "source": [
    "## tuple"
   ]
  },
  {
   "cell_type": "code",
   "execution_count": 36,
   "metadata": {},
   "outputs": [],
   "source": [
    "# python内置的数据类型，\n",
    "# 有序列表\n",
    "# 一旦初始化，无法修改,所以代码更安全\n",
    "# 可以看做是一种“不变”的List，即tuple一旦创建完毕，就不能修改了\n",
    "# Tuple元组中的元素用小括号()来表示。"
   ]
  },
  {
   "cell_type": "code",
   "execution_count": 37,
   "metadata": {},
   "outputs": [
    {
     "name": "stdout",
     "output_type": "stream",
     "text": [
      "(4, 5, 'ass', True, [3, 2])\n",
      "5\n",
      "True\n",
      "[3, 2]\n"
     ]
    }
   ],
   "source": [
    "coordinate = (4, 5, 'ass', True, [3,2])  #tuple cannot be changed\n",
    "print(coordinate)\n",
    "print(coordinate[1])\n",
    "print(coordinate[3])\n",
    "print(coordinate[4])"
   ]
  },
  {
   "cell_type": "code",
   "execution_count": 38,
   "metadata": {},
   "outputs": [
    {
     "name": "stdout",
     "output_type": "stream",
     "text": [
      "[(4, 5), (6, 7), (7, 8)]\n",
      "(6, 7)\n"
     ]
    }
   ],
   "source": [
    "coordinates = [(4, 5), (6, 7), (7, 8)]\n",
    "print(coordinates)\n",
    "print(coordinates[1])"
   ]
  },
  {
   "cell_type": "code",
   "execution_count": 17,
   "metadata": {},
   "outputs": [
    {
     "ename": "TypeError",
     "evalue": "'tuple' object does not support item assignment",
     "output_type": "error",
     "traceback": [
      "\u001b[0;31m---------------------------------------------------------------------------\u001b[0m",
      "\u001b[0;31mTypeError\u001b[0m                                 Traceback (most recent call last)",
      "\u001b[0;32m<ipython-input-17-98551a61e263>\u001b[0m in \u001b[0;36m<module>\u001b[0;34m\u001b[0m\n\u001b[1;32m      3\u001b[0m \u001b[0;34m\u001b[0m\u001b[0m\n\u001b[1;32m      4\u001b[0m \u001b[0;31m# 以下修改元组元素操作是非法的。\u001b[0m\u001b[0;34m\u001b[0m\u001b[0;34m\u001b[0m\u001b[0;34m\u001b[0m\u001b[0m\n\u001b[0;32m----> 5\u001b[0;31m \u001b[0mtup1\u001b[0m\u001b[0;34m[\u001b[0m\u001b[0;36m0\u001b[0m\u001b[0;34m]\u001b[0m \u001b[0;34m=\u001b[0m \u001b[0;36m100\u001b[0m\u001b[0;34m\u001b[0m\u001b[0;34m\u001b[0m\u001b[0m\n\u001b[0m\u001b[1;32m      6\u001b[0m \u001b[0;34m\u001b[0m\u001b[0m\n\u001b[1;32m      7\u001b[0m \u001b[0;31m# 创建一个新的元组\u001b[0m\u001b[0;34m\u001b[0m\u001b[0;34m\u001b[0m\u001b[0;34m\u001b[0m\u001b[0m\n",
      "\u001b[0;31mTypeError\u001b[0m: 'tuple' object does not support item assignment"
     ]
    }
   ],
   "source": [
    "tup1 = (12, 34.56)\n",
    "tup2 = ('abc', 'xyz')\n",
    "# 以下修改元组元素操作是非法的。\n",
    "tup1[0] = 100"
   ]
  },
  {
   "cell_type": "code",
   "execution_count": 18,
   "metadata": {},
   "outputs": [
    {
     "name": "stdout",
     "output_type": "stream",
     "text": [
      "(12, 34.56, 'abc', 'xyz')\n"
     ]
    }
   ],
   "source": [
    "# 创建一个新的元组\n",
    "tup3 = tup1 + tup2\n",
    "print(tup3)"
   ]
  },
  {
   "cell_type": "code",
   "execution_count": 15,
   "metadata": {},
   "outputs": [
    {
     "name": "stdout",
     "output_type": "stream",
     "text": [
      "('physics', 'chemistry', 1997, 2000)\n",
      "('aa', 'ss', 22, 33)\n",
      "tup3[0]:  aa\n",
      "tup4[1:5]:  (2, 3, 4, 5)\n"
     ]
    }
   ],
   "source": [
    "tup3 = ('physics', 'chemistry', 1997, 2000)\n",
    "tup4 = (1, 2, 3, 4, 5, 6, 7 )\n",
    "#read\n",
    "print(tup3)\n",
    "tup3 = ('aa', 'ss', 22, 33)\n",
    "print(tup3)  #tuple can be reinit\n",
    "\n",
    "print(\"tup3[0]: \", tup3[0])\n",
    "print(\"tup4[1:5]: \", tup4[1:5])"
   ]
  },
  {
   "cell_type": "markdown",
   "metadata": {},
   "source": [
    "## dictionary"
   ]
  },
  {
   "cell_type": "code",
   "execution_count": null,
   "metadata": {},
   "outputs": [],
   "source": [
    "# 键值对（key-value）方式存储，查找速度快；dict的key必须是不可变对象（字符串、数字、元祖）；相当于一个HashMap。\n",
    "# Dictionary字典查找速度快，但是代价是耗费的内存大。List相反，占用内存小，但是查找速度慢。这就好比是数组和链表的区别\n",
    "# Dictionary字典没有顺序，而List是有序的集合，所以不能用Dict来存储有序集合\n",
    "# Dictionary字典的Key不可变，Value可变。一旦一个键值对加入dict后，它对应的key就不能再变了，但是Value是可以变化的\n",
    "# Dictionary字典中的Key不可重复\n",
    "# Dictionary字典中的元素用中花括号{}来表示"
   ]
  },
  {
   "cell_type": "code",
   "execution_count": 11,
   "metadata": {},
   "outputs": [
    {
     "data": {
      "text/plain": [
       "{'a': 1, 'b': '3'}"
      ]
     },
     "execution_count": 11,
     "metadata": {},
     "output_type": "execute_result"
    }
   ],
   "source": [
    "#create dictionary\n",
    "dict0 = {'a': 1, 'b': 2, 'b': '3'}\n",
    "#键是唯一的，如果重复最后的一个键值对会替换前面的，值不需要唯一。\n",
    "dict0"
   ]
  },
  {
   "cell_type": "code",
   "execution_count": 22,
   "metadata": {},
   "outputs": [
    {
     "name": "stdout",
     "output_type": "stream",
     "text": [
      "Zara\n",
      "7\n"
     ]
    },
    {
     "ename": "KeyError",
     "evalue": "'Alice'",
     "output_type": "error",
     "traceback": [
      "\u001b[0;31m---------------------------------------------------------------------------\u001b[0m",
      "\u001b[0;31mKeyError\u001b[0m                                  Traceback (most recent call last)",
      "\u001b[0;32m<ipython-input-22-61dc9cdc5c11>\u001b[0m in \u001b[0;36m<module>\u001b[0;34m\u001b[0m\n\u001b[1;32m      3\u001b[0m \u001b[0mprint\u001b[0m\u001b[0;34m(\u001b[0m\u001b[0mdict\u001b[0m\u001b[0;34m[\u001b[0m\u001b[0;34m'Name'\u001b[0m\u001b[0;34m]\u001b[0m\u001b[0;34m)\u001b[0m\u001b[0;34m\u001b[0m\u001b[0;34m\u001b[0m\u001b[0m\n\u001b[1;32m      4\u001b[0m \u001b[0mprint\u001b[0m\u001b[0;34m(\u001b[0m\u001b[0mdict\u001b[0m\u001b[0;34m[\u001b[0m\u001b[0;34m'Age'\u001b[0m\u001b[0;34m]\u001b[0m\u001b[0;34m)\u001b[0m\u001b[0;34m\u001b[0m\u001b[0;34m\u001b[0m\u001b[0m\n\u001b[0;32m----> 5\u001b[0;31m \u001b[0mprint\u001b[0m\u001b[0;34m(\u001b[0m\u001b[0mdict\u001b[0m\u001b[0;34m[\u001b[0m\u001b[0;34m'Alice'\u001b[0m\u001b[0;34m]\u001b[0m\u001b[0;34m)\u001b[0m\u001b[0;34m\u001b[0m\u001b[0;34m\u001b[0m\u001b[0m\n\u001b[0m",
      "\u001b[0;31mKeyError\u001b[0m: 'Alice'"
     ]
    }
   ],
   "source": [
    "# read\n",
    "dict = {'Name': 'Zara', 'Age': 7, 'Class': 'First'}\n",
    "print(dict['Name'])\n",
    "print(dict['Age'])\n",
    "print(dict['Alice'])"
   ]
  },
  {
   "cell_type": "code",
   "execution_count": 24,
   "metadata": {},
   "outputs": [
    {
     "name": "stdout",
     "output_type": "stream",
     "text": [
      "8\n",
      "fy\n",
      "RUNOOB\n",
      "4\n"
     ]
    },
    {
     "data": {
      "text/plain": [
       "{'Name': 'Zara', 'Age': 'fy', 'Class': 'First', 'School': 'RUNOOB'}"
      ]
     },
     "execution_count": 24,
     "metadata": {},
     "output_type": "execute_result"
    }
   ],
   "source": [
    "dict['Age'] = 8 # update\n",
    "print(dict['Age'])\n",
    "dict['Age'] = 'fy' # update and change type\n",
    "print(dict['Age'])\n",
    "dict['School'] = \"RUNOOB\" # add\n",
    "print(dict['School'])\n",
    "print(len(dict))  #count items\n",
    "dict"
   ]
  },
  {
   "cell_type": "code",
   "execution_count": 14,
   "metadata": {},
   "outputs": [
    {
     "data": {
      "text/plain": [
       "{'Age': 8, 'Class': 'First', 'School': 'RUNOOB'}"
      ]
     },
     "execution_count": 14,
     "metadata": {},
     "output_type": "execute_result"
    }
   ],
   "source": [
    "del dict['Name']  # delete key\n",
    "dict"
   ]
  },
  {
   "cell_type": "code",
   "execution_count": 16,
   "metadata": {},
   "outputs": [
    {
     "ename": "NameError",
     "evalue": "name 'dict' is not defined",
     "output_type": "error",
     "traceback": [
      "\u001b[0;31m---------------------------------------------------------------------------\u001b[0m",
      "\u001b[0;31mNameError\u001b[0m                                 Traceback (most recent call last)",
      "\u001b[0;32m<ipython-input-16-38707e1a9295>\u001b[0m in \u001b[0;36m<module>\u001b[0;34m\u001b[0m\n\u001b[0;32m----> 1\u001b[0;31m \u001b[0;32mdel\u001b[0m \u001b[0mdict\u001b[0m          \u001b[0;31m# 删除字典\u001b[0m\u001b[0;34m\u001b[0m\u001b[0;34m\u001b[0m\u001b[0m\n\u001b[0m\u001b[1;32m      2\u001b[0m \u001b[0mprint\u001b[0m\u001b[0;34m(\u001b[0m\u001b[0mdict\u001b[0m\u001b[0;34m)\u001b[0m\u001b[0;34m\u001b[0m\u001b[0;34m\u001b[0m\u001b[0m\n",
      "\u001b[0;31mNameError\u001b[0m: name 'dict' is not defined"
     ]
    }
   ],
   "source": [
    "del dict          # 删除字典\n",
    "print(dict)"
   ]
  },
  {
   "cell_type": "markdown",
   "metadata": {},
   "source": [
    "## set"
   ]
  },
  {
   "cell_type": "code",
   "execution_count": 47,
   "metadata": {},
   "outputs": [],
   "source": [
    "#set() 函数创建一个无序不重复元素集，可进行关系测试，删除重复数据，还可以计算交集、差集、并集等。\n",
    "# 无索引、无切片、作为一个无序的集合，set不记录元素位置或者插入点。因此，set不支持 indexing, slicing, 或其它类序列（sequence-like）的操作\n",
    "# set和dict类似，也是一组key的集合，但不存储value。由于key不能重复，所以，在set中，没有重复的key。\n",
    "# set就像是把Dict中的key抽出来了一样，类似于一个List，但是内容又不能重复\n",
    "# set集合是无序的\n",
    "# set集合通过调用set()方法创建"
   ]
  },
  {
   "cell_type": "code",
   "execution_count": 48,
   "metadata": {},
   "outputs": [
    {
     "data": {
      "text/plain": [
       "({'b', 'n', 'o', 'r', 'u'}, {'e', 'g', 'l', 'o'})"
      ]
     },
     "execution_count": 48,
     "metadata": {},
     "output_type": "execute_result"
    }
   ],
   "source": [
    "x = set('runoob')\n",
    "y = set('google')\n",
    "x, y  # 重复的被删除"
   ]
  },
  {
   "cell_type": "code",
   "execution_count": 49,
   "metadata": {},
   "outputs": [
    {
     "data": {
      "text/plain": [
       "{'o'}"
      ]
     },
     "execution_count": 49,
     "metadata": {},
     "output_type": "execute_result"
    }
   ],
   "source": [
    "x & y         # 交集"
   ]
  },
  {
   "cell_type": "code",
   "execution_count": 50,
   "metadata": {},
   "outputs": [
    {
     "data": {
      "text/plain": [
       "{'b', 'e', 'g', 'l', 'n', 'o', 'r', 'u'}"
      ]
     },
     "execution_count": 50,
     "metadata": {},
     "output_type": "execute_result"
    }
   ],
   "source": [
    "x | y         # 并集"
   ]
  },
  {
   "cell_type": "code",
   "execution_count": 51,
   "metadata": {},
   "outputs": [
    {
     "data": {
      "text/plain": [
       "{'b', 'n', 'r', 'u'}"
      ]
     },
     "execution_count": 51,
     "metadata": {},
     "output_type": "execute_result"
    }
   ],
   "source": [
    "x - y         # 差集"
   ]
  },
  {
   "cell_type": "markdown",
   "metadata": {},
   "source": [
    "## sum"
   ]
  },
  {
   "cell_type": "code",
   "execution_count": null,
   "metadata": {},
   "outputs": [],
   "source": [
    "# 　　   1、list、tuple是有序列表；dict、set是无序列表\n",
    "# 　　   2、list元素可变、tuple元素不可变\n",
    "# 　　   3、dict和set的key值不可变，唯一性\n",
    "# 　　   4、set只有key没有value\n",
    "# 　　   5、set的用途：去重、并集、交集等\n",
    "# 　　   6、list、tuple：+、*、索引、切片、检查成员等\n",
    "# 　　   7、dict查询效率高，但是消耗内存多；list、tuple查询效率低、但是消耗内存少"
   ]
  }
 ],
 "metadata": {
  "kernelspec": {
   "display_name": "Python 3",
   "language": "python",
   "name": "python3"
  },
  "language_info": {
   "codemirror_mode": {
    "name": "ipython",
    "version": 3
   },
   "file_extension": ".py",
   "mimetype": "text/x-python",
   "name": "python",
   "nbconvert_exporter": "python",
   "pygments_lexer": "ipython3",
   "version": "3.6.8"
  },
  "latex_envs": {
   "LaTeX_envs_menu_present": true,
   "autoclose": false,
   "autocomplete": true,
   "bibliofile": "biblio.bib",
   "cite_by": "apalike",
   "current_citInitial": 1,
   "eqLabelWithNumbers": true,
   "eqNumInitial": 1,
   "hotkeys": {
    "equation": "Ctrl-E",
    "itemize": "Ctrl-I"
   },
   "labels_anchors": false,
   "latex_user_defs": false,
   "report_style_numbering": false,
   "user_envs_cfg": false
  }
 },
 "nbformat": 4,
 "nbformat_minor": 2
}
