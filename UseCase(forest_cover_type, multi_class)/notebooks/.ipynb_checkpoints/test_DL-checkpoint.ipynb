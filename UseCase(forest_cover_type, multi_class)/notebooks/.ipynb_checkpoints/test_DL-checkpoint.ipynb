{
 "cells": [
  {
   "cell_type": "code",
   "execution_count": 1,
   "metadata": {
    "ExecuteTime": {
     "end_time": "2020-04-14T16:03:37.242370Z",
     "start_time": "2020-04-14T16:03:33.741733Z"
    }
   },
   "outputs": [],
   "source": [
    "import pandas as pd \n",
    "import numpy as np\n",
    "from sklearn.model_selection import train_test_split\n",
    "import matplotlib.pyplot as plt\n",
    "%matplotlib inline\n",
    "from sklearn.metrics import classification_report\n",
    "from sklearn.metrics import confusion_matrix\n",
    "from sklearn.metrics import accuracy_score\n",
    "import tensorflow as tf\n",
    "from tensorflow import keras\n",
    "from tensorflow.keras.utils import to_categorical"
   ]
  },
  {
   "cell_type": "code",
   "execution_count": 2,
   "metadata": {
    "ExecuteTime": {
     "end_time": "2020-04-14T16:03:37.267339Z",
     "start_time": "2020-04-14T16:03:37.243368Z"
    }
   },
   "outputs": [
    {
     "data": {
      "text/plain": [
       "((3024, 50), (3024, 1))"
      ]
     },
     "execution_count": 2,
     "metadata": {},
     "output_type": "execute_result"
    }
   ],
   "source": [
    "X_test_origin=pd.read_csv('../data/featured_data/X_test.csv')\n",
    "y_test_origin=pd.read_csv('../data/featured_data/y_test.csv')\n",
    "X_test_origin.shape,y_test_origin.shape"
   ]
  },
  {
   "cell_type": "code",
   "execution_count": 3,
   "metadata": {
    "ExecuteTime": {
     "end_time": "2020-04-14T16:03:37.275282Z",
     "start_time": "2020-04-14T16:03:37.268300Z"
    }
   },
   "outputs": [
    {
     "data": {
      "text/plain": [
       "((3024, 50), (3024,))"
      ]
     },
     "execution_count": 3,
     "metadata": {},
     "output_type": "execute_result"
    }
   ],
   "source": [
    "X_test = X_test_origin.to_numpy()\n",
    "y_test = y_test_origin.to_numpy()\n",
    "y_test = y_test.ravel()\n",
    "X_test.shape,y_test.shape"
   ]
  },
  {
   "cell_type": "code",
   "execution_count": 4,
   "metadata": {
    "ExecuteTime": {
     "end_time": "2020-04-14T16:03:37.284295Z",
     "start_time": "2020-04-14T16:03:37.277278Z"
    }
   },
   "outputs": [
    {
     "data": {
      "text/plain": [
       "array([[0., 0., 0., ..., 0., 1., 0.],\n",
       "       [1., 0., 0., ..., 0., 0., 0.],\n",
       "       [0., 0., 0., ..., 0., 0., 1.],\n",
       "       ...,\n",
       "       [1., 0., 0., ..., 0., 0., 0.],\n",
       "       [0., 0., 0., ..., 0., 0., 1.],\n",
       "       [0., 0., 0., ..., 0., 0., 1.]], dtype=float32)"
      ]
     },
     "execution_count": 4,
     "metadata": {},
     "output_type": "execute_result"
    }
   ],
   "source": [
    "y_encoded = to_categorical(y_test)\n",
    "y_encoded = y_encoded[:,1:]\n",
    "y_encoded"
   ]
  },
  {
   "cell_type": "code",
   "execution_count": 5,
   "metadata": {
    "ExecuteTime": {
     "end_time": "2020-04-14T16:03:38.635979Z",
     "start_time": "2020-04-14T16:03:37.285255Z"
    }
   },
   "outputs": [],
   "source": [
    "model = keras.models.load_model(\"../models/NN.h5\")"
   ]
  },
  {
   "cell_type": "code",
   "execution_count": 6,
   "metadata": {
    "ExecuteTime": {
     "end_time": "2020-04-14T16:03:39.066076Z",
     "start_time": "2020-04-14T16:03:38.636655Z"
    }
   },
   "outputs": [],
   "source": [
    "y_pred = model.predict_classes(X_test)"
   ]
  },
  {
   "cell_type": "code",
   "execution_count": 10,
   "metadata": {
    "ExecuteTime": {
     "end_time": "2020-04-14T16:04:54.741916Z",
     "start_time": "2020-04-14T16:04:54.739914Z"
    }
   },
   "outputs": [],
   "source": [
    "y_pred=y_pred+1"
   ]
  },
  {
   "cell_type": "code",
   "execution_count": 11,
   "metadata": {
    "ExecuteTime": {
     "end_time": "2020-04-14T16:04:56.049412Z",
     "start_time": "2020-04-14T16:04:56.045422Z"
    }
   },
   "outputs": [],
   "source": [
    "def result_overview(y_test,y_pred):\n",
    "    print(\"Confusion_Matrix:\")\n",
    "    print(str(confusion_matrix(y_test, y_pred)))\n",
    "    print(classification_report(y_test, y_pred))\n",
    "    print(\"Accuracy:\" + str(accuracy_score(y_test, y_pred)))"
   ]
  },
  {
   "cell_type": "code",
   "execution_count": 12,
   "metadata": {
    "ExecuteTime": {
     "end_time": "2020-04-14T16:04:56.449356Z",
     "start_time": "2020-04-14T16:04:56.436376Z"
    }
   },
   "outputs": [
    {
     "name": "stdout",
     "output_type": "stream",
     "text": [
      "Confusion_Matrix:\n",
      "[[295  91   3   0   7   2  36]\n",
      " [111 277  11   0  51   8   0]\n",
      " [  0   7 309  22   8  91   0]\n",
      " [  0   0   8 433   0   6   0]\n",
      " [  4  43   6   0 356   9   0]\n",
      " [  0   4  43  11   4 349   0]\n",
      " [ 41   5   0   0   0   0 373]]\n",
      "              precision    recall  f1-score   support\n",
      "\n",
      "           1       0.65      0.68      0.67       434\n",
      "           2       0.65      0.60      0.63       458\n",
      "           3       0.81      0.71      0.76       437\n",
      "           4       0.93      0.97      0.95       447\n",
      "           5       0.84      0.85      0.84       418\n",
      "           6       0.75      0.85      0.80       411\n",
      "           7       0.91      0.89      0.90       419\n",
      "\n",
      "    accuracy                           0.79      3024\n",
      "   macro avg       0.79      0.79      0.79      3024\n",
      "weighted avg       0.79      0.79      0.79      3024\n",
      "\n",
      "Accuracy:0.791005291005291\n"
     ]
    }
   ],
   "source": [
    "result_overview(y_test_origin,y_pred) "
   ]
  },
  {
   "cell_type": "code",
   "execution_count": null,
   "metadata": {},
   "outputs": [],
   "source": []
  }
 ],
 "metadata": {
  "kernelspec": {
   "display_name": "Python 3",
   "language": "python",
   "name": "python3"
  },
  "language_info": {
   "codemirror_mode": {
    "name": "ipython",
    "version": 3
   },
   "file_extension": ".py",
   "mimetype": "text/x-python",
   "name": "python",
   "nbconvert_exporter": "python",
   "pygments_lexer": "ipython3",
   "version": "3.6.5"
  },
  "toc": {
   "base_numbering": 1,
   "nav_menu": {},
   "number_sections": true,
   "sideBar": true,
   "skip_h1_title": false,
   "title_cell": "Table of Contents",
   "title_sidebar": "Contents",
   "toc_cell": false,
   "toc_position": {},
   "toc_section_display": true,
   "toc_window_display": false
  }
 },
 "nbformat": 4,
 "nbformat_minor": 4
}
