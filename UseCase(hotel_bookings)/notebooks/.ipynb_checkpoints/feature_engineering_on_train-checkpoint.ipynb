{
 "cells": [
  {
   "cell_type": "code",
   "execution_count": 1,
   "metadata": {
    "ExecuteTime": {
     "end_time": "2020-04-01T20:12:56.864603Z",
     "start_time": "2020-04-01T20:12:54.166938Z"
    }
   },
   "outputs": [],
   "source": [
    "import pandas as pd\n",
    "import seaborn as sns\n",
    "import numpy as np\n",
    "from matplotlib import pyplot as plt\n",
    "%matplotlib inline\n",
    "from sklearn.preprocessing import StandardScaler\n",
    "from sklearn.preprocessing import LabelEncoder\n",
    "import joblib\n",
    "from sklearn.decomposition import PCA"
   ]
  },
  {
   "cell_type": "code",
   "execution_count": 2,
   "metadata": {
    "ExecuteTime": {
     "end_time": "2020-04-01T20:12:57.687873Z",
     "start_time": "2020-04-01T20:12:56.880952Z"
    }
   },
   "outputs": [
    {
     "data": {
      "text/html": [
       "<div>\n",
       "<style scoped>\n",
       "    .dataframe tbody tr th:only-of-type {\n",
       "        vertical-align: middle;\n",
       "    }\n",
       "\n",
       "    .dataframe tbody tr th {\n",
       "        vertical-align: top;\n",
       "    }\n",
       "\n",
       "    .dataframe thead th {\n",
       "        text-align: right;\n",
       "    }\n",
       "</style>\n",
       "<table border=\"1\" class=\"dataframe\">\n",
       "  <thead>\n",
       "    <tr style=\"text-align: right;\">\n",
       "      <th></th>\n",
       "      <th>hotel</th>\n",
       "      <th>lead_time</th>\n",
       "      <th>arrival_date_year</th>\n",
       "      <th>arrival_date_month</th>\n",
       "      <th>arrival_date_week_number</th>\n",
       "      <th>arrival_date_day_of_month</th>\n",
       "      <th>stays_in_weekend_nights</th>\n",
       "      <th>stays_in_week_nights</th>\n",
       "      <th>adults</th>\n",
       "      <th>children</th>\n",
       "      <th>...</th>\n",
       "      <th>agent</th>\n",
       "      <th>company</th>\n",
       "      <th>days_in_waiting_list</th>\n",
       "      <th>customer_type</th>\n",
       "      <th>adr</th>\n",
       "      <th>required_car_parking_spaces</th>\n",
       "      <th>total_of_special_requests</th>\n",
       "      <th>reservation_status</th>\n",
       "      <th>reservation_status_date</th>\n",
       "      <th>is_canceled</th>\n",
       "    </tr>\n",
       "  </thead>\n",
       "  <tbody>\n",
       "    <tr>\n",
       "      <th>0</th>\n",
       "      <td>Resort Hotel</td>\n",
       "      <td>156</td>\n",
       "      <td>2016</td>\n",
       "      <td>December</td>\n",
       "      <td>52</td>\n",
       "      <td>22</td>\n",
       "      <td>2</td>\n",
       "      <td>3</td>\n",
       "      <td>1</td>\n",
       "      <td>0.0</td>\n",
       "      <td>...</td>\n",
       "      <td>250.0</td>\n",
       "      <td>NaN</td>\n",
       "      <td>0</td>\n",
       "      <td>Transient-Party</td>\n",
       "      <td>57.22</td>\n",
       "      <td>0</td>\n",
       "      <td>3</td>\n",
       "      <td>Check-Out</td>\n",
       "      <td>2016-12-27</td>\n",
       "      <td>0</td>\n",
       "    </tr>\n",
       "    <tr>\n",
       "      <th>1</th>\n",
       "      <td>Resort Hotel</td>\n",
       "      <td>84</td>\n",
       "      <td>2015</td>\n",
       "      <td>September</td>\n",
       "      <td>38</td>\n",
       "      <td>14</td>\n",
       "      <td>4</td>\n",
       "      <td>10</td>\n",
       "      <td>2</td>\n",
       "      <td>0.0</td>\n",
       "      <td>...</td>\n",
       "      <td>241.0</td>\n",
       "      <td>NaN</td>\n",
       "      <td>0</td>\n",
       "      <td>Transient</td>\n",
       "      <td>103.51</td>\n",
       "      <td>1</td>\n",
       "      <td>0</td>\n",
       "      <td>Check-Out</td>\n",
       "      <td>2015-09-28</td>\n",
       "      <td>0</td>\n",
       "    </tr>\n",
       "    <tr>\n",
       "      <th>2</th>\n",
       "      <td>Resort Hotel</td>\n",
       "      <td>87</td>\n",
       "      <td>2015</td>\n",
       "      <td>July</td>\n",
       "      <td>30</td>\n",
       "      <td>25</td>\n",
       "      <td>2</td>\n",
       "      <td>4</td>\n",
       "      <td>2</td>\n",
       "      <td>0.0</td>\n",
       "      <td>...</td>\n",
       "      <td>240.0</td>\n",
       "      <td>NaN</td>\n",
       "      <td>0</td>\n",
       "      <td>Transient</td>\n",
       "      <td>134.00</td>\n",
       "      <td>0</td>\n",
       "      <td>3</td>\n",
       "      <td>Canceled</td>\n",
       "      <td>2015-06-02</td>\n",
       "      <td>1</td>\n",
       "    </tr>\n",
       "    <tr>\n",
       "      <th>3</th>\n",
       "      <td>City Hotel</td>\n",
       "      <td>190</td>\n",
       "      <td>2016</td>\n",
       "      <td>April</td>\n",
       "      <td>15</td>\n",
       "      <td>9</td>\n",
       "      <td>1</td>\n",
       "      <td>1</td>\n",
       "      <td>2</td>\n",
       "      <td>0.0</td>\n",
       "      <td>...</td>\n",
       "      <td>NaN</td>\n",
       "      <td>NaN</td>\n",
       "      <td>31</td>\n",
       "      <td>Transient-Party</td>\n",
       "      <td>70.00</td>\n",
       "      <td>0</td>\n",
       "      <td>0</td>\n",
       "      <td>Canceled</td>\n",
       "      <td>2015-12-09</td>\n",
       "      <td>1</td>\n",
       "    </tr>\n",
       "    <tr>\n",
       "      <th>4</th>\n",
       "      <td>Resort Hotel</td>\n",
       "      <td>8</td>\n",
       "      <td>2016</td>\n",
       "      <td>August</td>\n",
       "      <td>36</td>\n",
       "      <td>28</td>\n",
       "      <td>2</td>\n",
       "      <td>1</td>\n",
       "      <td>2</td>\n",
       "      <td>0.0</td>\n",
       "      <td>...</td>\n",
       "      <td>240.0</td>\n",
       "      <td>NaN</td>\n",
       "      <td>0</td>\n",
       "      <td>Transient</td>\n",
       "      <td>171.00</td>\n",
       "      <td>0</td>\n",
       "      <td>0</td>\n",
       "      <td>Canceled</td>\n",
       "      <td>2016-08-21</td>\n",
       "      <td>1</td>\n",
       "    </tr>\n",
       "  </tbody>\n",
       "</table>\n",
       "<p>5 rows × 32 columns</p>\n",
       "</div>"
      ],
      "text/plain": [
       "          hotel  lead_time  arrival_date_year arrival_date_month  \\\n",
       "0  Resort Hotel        156               2016           December   \n",
       "1  Resort Hotel         84               2015          September   \n",
       "2  Resort Hotel         87               2015               July   \n",
       "3    City Hotel        190               2016              April   \n",
       "4  Resort Hotel          8               2016             August   \n",
       "\n",
       "   arrival_date_week_number  arrival_date_day_of_month  \\\n",
       "0                        52                         22   \n",
       "1                        38                         14   \n",
       "2                        30                         25   \n",
       "3                        15                          9   \n",
       "4                        36                         28   \n",
       "\n",
       "   stays_in_weekend_nights  stays_in_week_nights  adults  children  ...  \\\n",
       "0                        2                     3       1       0.0  ...   \n",
       "1                        4                    10       2       0.0  ...   \n",
       "2                        2                     4       2       0.0  ...   \n",
       "3                        1                     1       2       0.0  ...   \n",
       "4                        2                     1       2       0.0  ...   \n",
       "\n",
       "   agent company days_in_waiting_list    customer_type     adr  \\\n",
       "0  250.0     NaN                    0  Transient-Party   57.22   \n",
       "1  241.0     NaN                    0        Transient  103.51   \n",
       "2  240.0     NaN                    0        Transient  134.00   \n",
       "3    NaN     NaN                   31  Transient-Party   70.00   \n",
       "4  240.0     NaN                    0        Transient  171.00   \n",
       "\n",
       "   required_car_parking_spaces  total_of_special_requests  reservation_status  \\\n",
       "0                            0                          3           Check-Out   \n",
       "1                            1                          0           Check-Out   \n",
       "2                            0                          3            Canceled   \n",
       "3                            0                          0            Canceled   \n",
       "4                            0                          0            Canceled   \n",
       "\n",
       "  reservation_status_date is_canceled  \n",
       "0              2016-12-27           0  \n",
       "1              2015-09-28           0  \n",
       "2              2015-06-02           1  \n",
       "3              2015-12-09           1  \n",
       "4              2016-08-21           1  \n",
       "\n",
       "[5 rows x 32 columns]"
      ]
     },
     "execution_count": 2,
     "metadata": {},
     "output_type": "execute_result"
    }
   ],
   "source": [
    "data = pd.read_csv('../data/train_test_data/train.csv')\n",
    "data.head()"
   ]
  },
  {
   "cell_type": "code",
   "execution_count": 3,
   "metadata": {
    "ExecuteTime": {
     "end_time": "2020-04-01T20:12:58.325780Z",
     "start_time": "2020-04-01T20:12:57.698997Z"
    }
   },
   "outputs": [
    {
     "name": "stdout",
     "output_type": "stream",
     "text": [
      "Rows :   95512\n",
      "Columns:   32\n",
      "\n",
      "Feature types:  \n",
      "hotel                              object\n",
      "lead_time                           int64\n",
      "arrival_date_year                   int64\n",
      "arrival_date_month                 object\n",
      "arrival_date_week_number            int64\n",
      "arrival_date_day_of_month           int64\n",
      "stays_in_weekend_nights             int64\n",
      "stays_in_week_nights                int64\n",
      "adults                              int64\n",
      "children                          float64\n",
      "babies                              int64\n",
      "meal                               object\n",
      "country                            object\n",
      "market_segment                     object\n",
      "distribution_channel               object\n",
      "is_repeated_guest                   int64\n",
      "previous_cancellations              int64\n",
      "previous_bookings_not_canceled      int64\n",
      "reserved_room_type                 object\n",
      "assigned_room_type                 object\n",
      "booking_changes                     int64\n",
      "deposit_type                       object\n",
      "agent                             float64\n",
      "company                           float64\n",
      "days_in_waiting_list                int64\n",
      "customer_type                      object\n",
      "adr                               float64\n",
      "required_car_parking_spaces         int64\n",
      "total_of_special_requests           int64\n",
      "reservation_status                 object\n",
      "reservation_status_date            object\n",
      "is_canceled                         int64\n",
      "dtype: object\n",
      "\n",
      "Missing values : \n",
      "hotel                                 0\n",
      "lead_time                             0\n",
      "arrival_date_year                     0\n",
      "arrival_date_month                    0\n",
      "arrival_date_week_number              0\n",
      "arrival_date_day_of_month             0\n",
      "stays_in_weekend_nights               0\n",
      "stays_in_week_nights                  0\n",
      "adults                                0\n",
      "children                              3\n",
      "babies                                0\n",
      "meal                                  0\n",
      "country                             385\n",
      "market_segment                        0\n",
      "distribution_channel                  0\n",
      "is_repeated_guest                     0\n",
      "previous_cancellations                0\n",
      "previous_bookings_not_canceled        0\n",
      "reserved_room_type                    0\n",
      "assigned_room_type                    0\n",
      "booking_changes                       0\n",
      "deposit_type                          0\n",
      "agent                             12966\n",
      "company                           90133\n",
      "days_in_waiting_list                  0\n",
      "customer_type                         0\n",
      "adr                                   0\n",
      "required_car_parking_spaces           0\n",
      "total_of_special_requests             0\n",
      "reservation_status                    0\n",
      "reservation_status_date               0\n",
      "is_canceled                           0\n",
      "dtype: int64\n",
      "\n",
      "Missing value rate : \n",
      "hotel                             0.000000\n",
      "lead_time                         0.000000\n",
      "arrival_date_year                 0.000000\n",
      "arrival_date_month                0.000000\n",
      "arrival_date_week_number          0.000000\n",
      "arrival_date_day_of_month         0.000000\n",
      "stays_in_weekend_nights           0.000000\n",
      "stays_in_week_nights              0.000000\n",
      "adults                            0.000000\n",
      "children                          0.000031\n",
      "babies                            0.000000\n",
      "meal                              0.000000\n",
      "country                           0.004031\n",
      "market_segment                    0.000000\n",
      "distribution_channel              0.000000\n",
      "is_repeated_guest                 0.000000\n",
      "previous_cancellations            0.000000\n",
      "previous_bookings_not_canceled    0.000000\n",
      "reserved_room_type                0.000000\n",
      "assigned_room_type                0.000000\n",
      "booking_changes                   0.000000\n",
      "deposit_type                      0.000000\n",
      "agent                             0.135753\n",
      "company                           0.943682\n",
      "days_in_waiting_list              0.000000\n",
      "customer_type                     0.000000\n",
      "adr                               0.000000\n",
      "required_car_parking_spaces       0.000000\n",
      "total_of_special_requests         0.000000\n",
      "reservation_status                0.000000\n",
      "reservation_status_date           0.000000\n",
      "is_canceled                       0.000000\n",
      "dtype: float64\n",
      "\n",
      "Unique values:\n",
      "hotel                                2\n",
      "lead_time                          476\n",
      "arrival_date_year                    3\n",
      "arrival_date_month                  12\n",
      "arrival_date_week_number            53\n",
      "arrival_date_day_of_month           31\n",
      "stays_in_weekend_nights             16\n",
      "stays_in_week_nights                34\n",
      "adults                              13\n",
      "children                             5\n",
      "babies                               4\n",
      "meal                                 5\n",
      "country                            169\n",
      "market_segment                       8\n",
      "distribution_channel                 5\n",
      "is_repeated_guest                    2\n",
      "previous_cancellations              15\n",
      "previous_bookings_not_canceled      66\n",
      "reserved_room_type                  10\n",
      "assigned_room_type                  12\n",
      "booking_changes                     21\n",
      "deposit_type                         3\n",
      "agent                              324\n",
      "company                            329\n",
      "days_in_waiting_list               121\n",
      "customer_type                        4\n",
      "adr                               7975\n",
      "required_car_parking_spaces          5\n",
      "total_of_special_requests            6\n",
      "reservation_status                   3\n",
      "reservation_status_date            919\n",
      "is_canceled                          2\n",
      "dtype: int64\n"
     ]
    }
   ],
   "source": [
    "print(\"Rows :  \", data.shape[0])\n",
    "print(\"Columns:  \", data.shape[1])\n",
    "print()\n",
    "print(\"Feature types:  \")\n",
    "print(data.dtypes)\n",
    "print()\n",
    "print('Missing values : ')\n",
    "print(data.isnull().sum())\n",
    "print()\n",
    "print('Missing value rate : ')\n",
    "print(data.isnull().sum()/data.shape[0])\n",
    "print()\n",
    "print('Unique values:')\n",
    "print(data.nunique())"
   ]
  },
  {
   "cell_type": "code",
   "execution_count": 4,
   "metadata": {
    "ExecuteTime": {
     "end_time": "2020-04-01T20:13:05.345558Z",
     "start_time": "2020-04-01T20:12:58.333387Z"
    }
   },
   "outputs": [],
   "source": [
    "# create new feature: 'reserved=assigned'\n",
    "def function(a, b):\n",
    "    if a == b:\n",
    "        return \"Yes\"\n",
    "    else:\n",
    "        return \"No\"\n",
    "data['reserved=assigned'] = data.apply(lambda x : function(x['assigned_room_type'],x['reserved_room_type']),axis = 1)"
   ]
  },
  {
   "cell_type": "code",
   "execution_count": 5,
   "metadata": {
    "ExecuteTime": {
     "end_time": "2020-04-01T20:13:05.427078Z",
     "start_time": "2020-04-01T20:13:05.352127Z"
    }
   },
   "outputs": [],
   "source": [
    "# create new feature: 'day_of_week'\n",
    "data['reservation_status_date'] = pd.to_datetime(data['reservation_status_date'], errors='coerce')\n",
    "data['day_of_week'] = data['reservation_status_date'].dt.dayofweek\n",
    "transform_num_day_of_week = {0: 'Monday',\n",
    "                             1: 'Tuesday',\n",
    "                             2: 'Wednesday',\n",
    "                             3: 'Thursday',\n",
    "                             4: 'Friday',\n",
    "                             5: 'Saturday',\n",
    "                             6: 'Sunday'}\n",
    "data['day_of_week'] = data['day_of_week'].map(transform_num_day_of_week)\n",
    "\n",
    "transform_day_weekday = {'Monday': 'Yes',\n",
    "                         'Tuesday': 'Yes',\n",
    "                         'Wednesday': 'Yes',\n",
    "                         'Thursday': 'Yes',\n",
    "                         'Friday': 'Yes',\n",
    "                         'Saturday': 'No',\n",
    "                         'Sunday': 'No'}\n",
    "data['weekday?'] = data['day_of_week'].map(transform_day_weekday)"
   ]
  },
  {
   "cell_type": "code",
   "execution_count": 6,
   "metadata": {
    "ExecuteTime": {
     "end_time": "2020-04-01T20:13:05.439985Z",
     "start_time": "2020-04-01T20:13:05.436872Z"
    }
   },
   "outputs": [],
   "source": [
    "col_del=[]\n",
    "to_num=[]\n",
    "to_cat=[]"
   ]
  },
  {
   "cell_type": "code",
   "execution_count": 7,
   "metadata": {
    "ExecuteTime": {
     "end_time": "2020-04-01T20:13:05.494731Z",
     "start_time": "2020-04-01T20:13:05.486165Z"
    }
   },
   "outputs": [],
   "source": [
    "to_cat.append('adults')\n",
    "to_cat.append('children')\n",
    "to_cat.append('babies')\n",
    "to_cat.append('is_repeated_guest')\n",
    "to_cat.append('previous_cancellations')\n",
    "to_cat.append('previous_bookings_not_canceled')\n",
    "to_cat.append('booking_changes')\n",
    "to_cat.append('days_in_waiting_list')\n",
    "to_cat.append('total_of_special_requests')\n",
    "to_cat.append('required_car_parking_spaces')\n",
    "to_cat.append('is_canceled')\n",
    "to_cat.append('stays_in_week_nights')\n",
    "to_cat.append('stays_in_weekend_nights')"
   ]
  },
  {
   "cell_type": "code",
   "execution_count": 8,
   "metadata": {
    "ExecuteTime": {
     "end_time": "2020-04-01T20:13:05.579742Z",
     "start_time": "2020-04-01T20:13:05.506081Z"
    }
   },
   "outputs": [],
   "source": [
    "col_del.append('reservation_status_date')\n",
    "col_del.append('reserved_room_type')\n",
    "col_del.append('reservation_status')\n",
    "col_del.append('day_of_week')\n",
    "col_del.append('agent')\n",
    "col_del.append('arrival_date_year')\n",
    "col_del.append('arrival_date_week_number')\n",
    "col_del.append('arrival_date_day_of_month')\n",
    "data.drop(col_del,axis=1,inplace=True)"
   ]
  },
  {
   "cell_type": "code",
   "execution_count": 9,
   "metadata": {
    "ExecuteTime": {
     "end_time": "2020-04-01T20:13:05.607439Z",
     "start_time": "2020-04-01T20:13:05.588188Z"
    }
   },
   "outputs": [],
   "source": [
    "index1 = data.stays_in_week_nights>5\n",
    "index2 = data.stays_in_weekend_nights>2\n",
    "\n",
    "data.loc[index1,'stays_in_week_nights']=100000\n",
    "data.loc[index2,'stays_in_weekend_nights']=100000"
   ]
  },
  {
   "cell_type": "code",
   "execution_count": 10,
   "metadata": {
    "ExecuteTime": {
     "end_time": "2020-04-01T20:13:05.721523Z",
     "start_time": "2020-04-01T20:13:05.620358Z"
    }
   },
   "outputs": [],
   "source": [
    "# drop features with too high missing rate\n",
    "for col in data.columns:\n",
    "    if data[col].isnull().sum()/data.shape[0] >= 0.8:\n",
    "        data.drop(col,axis=1,inplace=True)"
   ]
  },
  {
   "cell_type": "code",
   "execution_count": 11,
   "metadata": {
    "ExecuteTime": {
     "end_time": "2020-04-01T20:13:05.739219Z",
     "start_time": "2020-04-01T20:13:05.724127Z"
    }
   },
   "outputs": [
    {
     "data": {
      "text/plain": [
       "hotel                              object\n",
       "lead_time                           int64\n",
       "arrival_date_month                 object\n",
       "stays_in_weekend_nights             int64\n",
       "stays_in_week_nights                int64\n",
       "adults                              int64\n",
       "children                          float64\n",
       "babies                              int64\n",
       "meal                               object\n",
       "country                            object\n",
       "market_segment                     object\n",
       "distribution_channel               object\n",
       "is_repeated_guest                   int64\n",
       "previous_cancellations              int64\n",
       "previous_bookings_not_canceled      int64\n",
       "assigned_room_type                 object\n",
       "booking_changes                     int64\n",
       "deposit_type                       object\n",
       "days_in_waiting_list                int64\n",
       "customer_type                      object\n",
       "adr                               float64\n",
       "required_car_parking_spaces         int64\n",
       "total_of_special_requests           int64\n",
       "is_canceled                         int64\n",
       "reserved=assigned                  object\n",
       "weekday?                           object\n",
       "dtype: object"
      ]
     },
     "execution_count": 11,
     "metadata": {},
     "output_type": "execute_result"
    }
   ],
   "source": [
    "data.dtypes"
   ]
  },
  {
   "cell_type": "code",
   "execution_count": 12,
   "metadata": {
    "ExecuteTime": {
     "end_time": "2020-04-01T20:13:05.843438Z",
     "start_time": "2020-04-01T20:13:05.742088Z"
    }
   },
   "outputs": [],
   "source": [
    "# to categorical\n",
    "for col in to_cat:\n",
    "    data[col] = data[col].astype(object)"
   ]
  },
  {
   "cell_type": "code",
   "execution_count": 13,
   "metadata": {
    "ExecuteTime": {
     "end_time": "2020-04-01T20:13:05.887336Z",
     "start_time": "2020-04-01T20:13:05.856101Z"
    }
   },
   "outputs": [
    {
     "data": {
      "text/plain": [
       "hotel                              object\n",
       "lead_time                           int64\n",
       "arrival_date_month                 object\n",
       "stays_in_weekend_nights            object\n",
       "stays_in_week_nights               object\n",
       "adults                             object\n",
       "children                           object\n",
       "babies                             object\n",
       "meal                               object\n",
       "country                            object\n",
       "market_segment                     object\n",
       "distribution_channel               object\n",
       "is_repeated_guest                  object\n",
       "previous_cancellations             object\n",
       "previous_bookings_not_canceled     object\n",
       "assigned_room_type                 object\n",
       "booking_changes                    object\n",
       "deposit_type                       object\n",
       "days_in_waiting_list               object\n",
       "customer_type                      object\n",
       "adr                               float64\n",
       "required_car_parking_spaces        object\n",
       "total_of_special_requests          object\n",
       "is_canceled                        object\n",
       "reserved=assigned                  object\n",
       "weekday?                           object\n",
       "dtype: object"
      ]
     },
     "execution_count": 13,
     "metadata": {},
     "output_type": "execute_result"
    }
   ],
   "source": [
    "data.dtypes"
   ]
  },
  {
   "cell_type": "code",
   "execution_count": 14,
   "metadata": {
    "ExecuteTime": {
     "end_time": "2020-04-01T20:13:05.912460Z",
     "start_time": "2020-04-01T20:13:05.898036Z"
    }
   },
   "outputs": [
    {
     "name": "stdout",
     "output_type": "stream",
     "text": [
      "categorical features: \n",
      "['hotel', 'arrival_date_month', 'stays_in_weekend_nights', 'stays_in_week_nights', 'adults', 'children', 'babies', 'meal', 'country', 'market_segment', 'distribution_channel', 'is_repeated_guest', 'previous_cancellations', 'previous_bookings_not_canceled', 'assigned_room_type', 'booking_changes', 'deposit_type', 'days_in_waiting_list', 'customer_type', 'required_car_parking_spaces', 'total_of_special_requests', 'is_canceled', 'reserved=assigned', 'weekday?']\n",
      "numerical features: \n",
      "['lead_time', 'adr']\n"
     ]
    }
   ],
   "source": [
    "cat_cols=[]\n",
    "num_cols=[]\n",
    "\n",
    "# select_col_num_features\n",
    "for col_name in data.columns:\n",
    "    if data[col_name].dtypes == 'object':\n",
    "        cat_cols.append(col_name)\n",
    "    else:\n",
    "        num_cols.append(col_name)\n",
    "\n",
    "print(\"categorical features: \")\n",
    "print(cat_cols)\n",
    "print(\"numerical features: \")\n",
    "print(num_cols)"
   ]
  },
  {
   "cell_type": "code",
   "execution_count": 15,
   "metadata": {
    "ExecuteTime": {
     "end_time": "2020-04-01T20:13:06.765722Z",
     "start_time": "2020-04-01T20:13:05.917804Z"
    }
   },
   "outputs": [],
   "source": [
    "# impute categorial features with low missing rate\n",
    "for col in cat_cols:\n",
    "    if data[col].isnull().sum()/data.shape[0] <= 0.2:\n",
    "        freq = data[col].value_counts().idxmax()\n",
    "        data[col].fillna(value=freq, inplace=True)"
   ]
  },
  {
   "cell_type": "code",
   "execution_count": 16,
   "metadata": {
    "ExecuteTime": {
     "end_time": "2020-04-01T20:13:06.855653Z",
     "start_time": "2020-04-01T20:13:06.768978Z"
    }
   },
   "outputs": [
    {
     "data": {
      "text/plain": [
       "hotel                             0\n",
       "lead_time                         0\n",
       "arrival_date_month                0\n",
       "stays_in_weekend_nights           0\n",
       "stays_in_week_nights              0\n",
       "adults                            0\n",
       "children                          0\n",
       "babies                            0\n",
       "meal                              0\n",
       "country                           0\n",
       "market_segment                    0\n",
       "distribution_channel              0\n",
       "is_repeated_guest                 0\n",
       "previous_cancellations            0\n",
       "previous_bookings_not_canceled    0\n",
       "assigned_room_type                0\n",
       "booking_changes                   0\n",
       "deposit_type                      0\n",
       "days_in_waiting_list              0\n",
       "customer_type                     0\n",
       "adr                               0\n",
       "required_car_parking_spaces       0\n",
       "total_of_special_requests         0\n",
       "is_canceled                       0\n",
       "reserved=assigned                 0\n",
       "weekday?                          0\n",
       "dtype: int64"
      ]
     },
     "execution_count": 16,
     "metadata": {},
     "output_type": "execute_result"
    }
   ],
   "source": [
    "data.isnull().sum()"
   ]
  },
  {
   "cell_type": "code",
   "execution_count": 17,
   "metadata": {
    "ExecuteTime": {
     "end_time": "2020-04-01T20:13:07.121621Z",
     "start_time": "2020-04-01T20:13:06.859142Z"
    }
   },
   "outputs": [],
   "source": [
    "# mutil->bin for categorical features\n",
    "to_cat.remove('stays_in_week_nights')\n",
    "to_cat.remove('stays_in_weekend_nights')\n",
    "for col in to_cat:\n",
    "    data[col] = ['0' if x == 0 else '>0' for x in data[col]]"
   ]
  },
  {
   "cell_type": "code",
   "execution_count": 18,
   "metadata": {
    "ExecuteTime": {
     "end_time": "2020-04-01T20:13:07.130334Z",
     "start_time": "2020-04-01T20:13:07.123726Z"
    }
   },
   "outputs": [
    {
     "name": "stdout",
     "output_type": "stream",
     "text": [
      "categorical features: \n",
      "['hotel', 'arrival_date_month', 'stays_in_weekend_nights', 'stays_in_week_nights', 'adults', 'children', 'babies', 'meal', 'country', 'market_segment', 'distribution_channel', 'is_repeated_guest', 'previous_cancellations', 'previous_bookings_not_canceled', 'assigned_room_type', 'booking_changes', 'deposit_type', 'days_in_waiting_list', 'customer_type', 'required_car_parking_spaces', 'total_of_special_requests', 'is_canceled', 'reserved=assigned', 'weekday?']\n",
      "numerical features: \n",
      "['lead_time', 'adr']\n"
     ]
    }
   ],
   "source": [
    "print(\"categorical features: \")\n",
    "print(cat_cols)\n",
    "print(\"numerical features: \")\n",
    "print(num_cols)"
   ]
  },
  {
   "cell_type": "code",
   "execution_count": 19,
   "metadata": {
    "ExecuteTime": {
     "end_time": "2020-04-01T20:13:07.436738Z",
     "start_time": "2020-04-01T20:13:07.137695Z"
    }
   },
   "outputs": [
    {
     "data": {
      "text/plain": [
       "hotel                                2\n",
       "lead_time                          476\n",
       "arrival_date_month                  12\n",
       "stays_in_weekend_nights              4\n",
       "stays_in_week_nights                 7\n",
       "adults                               2\n",
       "children                             2\n",
       "babies                               2\n",
       "meal                                 5\n",
       "country                            169\n",
       "market_segment                       8\n",
       "distribution_channel                 5\n",
       "is_repeated_guest                    2\n",
       "previous_cancellations               2\n",
       "previous_bookings_not_canceled       2\n",
       "assigned_room_type                  12\n",
       "booking_changes                      2\n",
       "deposit_type                         3\n",
       "days_in_waiting_list                 2\n",
       "customer_type                        4\n",
       "adr                               7975\n",
       "required_car_parking_spaces          2\n",
       "total_of_special_requests            2\n",
       "is_canceled                          2\n",
       "reserved=assigned                    2\n",
       "weekday?                             2\n",
       "dtype: int64"
      ]
     },
     "execution_count": 19,
     "metadata": {},
     "output_type": "execute_result"
    }
   ],
   "source": [
    "data.nunique()"
   ]
  },
  {
   "cell_type": "code",
   "execution_count": 20,
   "metadata": {
    "ExecuteTime": {
     "end_time": "2020-04-01T20:13:07.942412Z",
     "start_time": "2020-04-01T20:13:07.453428Z"
    }
   },
   "outputs": [
    {
     "name": "stdout",
     "output_type": "stream",
     "text": [
      "assigned_room_type\n",
      "A        59303\n",
      "D        20275\n",
      "Other     9681\n",
      "E         6253\n",
      "Name: assigned_room_type, dtype: int64\n",
      "country\n",
      "PRT      39253\n",
      "Other    25619\n",
      "GBR       9714\n",
      "FRA       8329\n",
      "ESP       6798\n",
      "DEU       5799\n",
      "Name: country, dtype: int64\n",
      "market_segment\n",
      "Online TA        45236\n",
      "Offline TA/TO    19372\n",
      "Groups           15830\n",
      "Direct           10071\n",
      "Other             5003\n",
      "Name: market_segment, dtype: int64\n"
     ]
    }
   ],
   "source": [
    "# merge rare categories to other\n",
    "to_merge_rare = []\n",
    "to_merge_rare.append('assigned_room_type')\n",
    "to_merge_rare.append('country')\n",
    "to_merge_rare.append('market_segment')\n",
    "\n",
    "\n",
    "for col in to_merge_rare:\n",
    "    print(col)\n",
    "    series = pd.value_counts(data[col])\n",
    "    mask = (series / series.sum() * 100).lt(5)  # 10 is the percentage\n",
    "    data = data.assign(temp=np.where(data[col].isin(\n",
    "        series[mask].index), 'Other', data[col]))\n",
    "    data[col] = data.temp\n",
    "    data.drop('temp', axis=1, inplace=True)\n",
    "    print(data[col].value_counts())"
   ]
  },
  {
   "cell_type": "code",
   "execution_count": 21,
   "metadata": {
    "ExecuteTime": {
     "end_time": "2020-04-01T20:13:08.206467Z",
     "start_time": "2020-04-01T20:13:07.959300Z"
    }
   },
   "outputs": [
    {
     "data": {
      "text/plain": [
       "hotel                                2\n",
       "lead_time                          476\n",
       "arrival_date_month                  12\n",
       "stays_in_weekend_nights              4\n",
       "stays_in_week_nights                 7\n",
       "adults                               2\n",
       "children                             2\n",
       "babies                               2\n",
       "meal                                 5\n",
       "country                              6\n",
       "market_segment                       5\n",
       "distribution_channel                 5\n",
       "is_repeated_guest                    2\n",
       "previous_cancellations               2\n",
       "previous_bookings_not_canceled       2\n",
       "assigned_room_type                   4\n",
       "booking_changes                      2\n",
       "deposit_type                         3\n",
       "days_in_waiting_list                 2\n",
       "customer_type                        4\n",
       "adr                               7975\n",
       "required_car_parking_spaces          2\n",
       "total_of_special_requests            2\n",
       "is_canceled                          2\n",
       "reserved=assigned                    2\n",
       "weekday?                             2\n",
       "dtype: int64"
      ]
     },
     "execution_count": 21,
     "metadata": {},
     "output_type": "execute_result"
    }
   ],
   "source": [
    "data.nunique()"
   ]
  },
  {
   "cell_type": "code",
   "execution_count": 22,
   "metadata": {
    "ExecuteTime": {
     "end_time": "2020-04-01T20:13:08.239288Z",
     "start_time": "2020-04-01T20:13:08.222205Z"
    }
   },
   "outputs": [],
   "source": [
    "def find_outliers_tukey(feature):\n",
    "    q1 = np.percentile(feature, 25)\n",
    "    q3 = np.percentile(feature, 75)\n",
    "    iqr = q3-q1\n",
    "    upbound = q3+1.5*iqr\n",
    "    downbound = q1 - 1.5*iqr\n",
    "    outlier_indices = list(feature.index[(feature>upbound)|(feature<downbound)])\n",
    "    outlier_values = list(feature[outlier_indices])\n",
    "    return outlier_indices,outlier_values"
   ]
  },
  {
   "cell_type": "code",
   "execution_count": 23,
   "metadata": {
    "ExecuteTime": {
     "end_time": "2020-04-01T20:13:08.329336Z",
     "start_time": "2020-04-01T20:13:08.243343Z"
    }
   },
   "outputs": [],
   "source": [
    "# find outlier by 1.5IQR, then impute with median\n",
    "for col in num_cols:\n",
    "    outlier_indices,outlier_values = find_outliers_tukey(data.adr)\n",
    "    data.loc[outlier_indices,col]=data.adr.median()"
   ]
  },
  {
   "cell_type": "code",
   "execution_count": 24,
   "metadata": {
    "ExecuteTime": {
     "end_time": "2020-04-01T20:13:08.404828Z",
     "start_time": "2020-04-01T20:13:08.340473Z"
    }
   },
   "outputs": [
    {
     "name": "stdout",
     "output_type": "stream",
     "text": [
      "Skewness for lead_time: 1.3609673811973784\n",
      "Skewness for lead_time: -0.9264752214507477\n",
      "Skewness for adr: 0.3596447184525144\n"
     ]
    }
   ],
   "source": [
    "num_cols_skew=[]\n",
    "for col in num_cols:\n",
    "    print(\"Skewness for \"+str(col)+\": \" +str(data[col].skew()))\n",
    "    if data[col].skew()>1 or data[col].skew()<-1:\n",
    "        data[col] = np.log1p(data[col])\n",
    "        print(\"Skewness for \"+str(col)+\": \" +str(data[col].skew()))"
   ]
  },
  {
   "cell_type": "code",
   "execution_count": 25,
   "metadata": {
    "ExecuteTime": {
     "end_time": "2020-04-01T20:13:08.428392Z",
     "start_time": "2020-04-01T20:13:08.411227Z"
    }
   },
   "outputs": [
    {
     "data": {
      "text/plain": [
       "hotel                              object\n",
       "lead_time                         float64\n",
       "arrival_date_month                 object\n",
       "stays_in_weekend_nights             int64\n",
       "stays_in_week_nights                int64\n",
       "adults                             object\n",
       "children                           object\n",
       "babies                             object\n",
       "meal                               object\n",
       "country                            object\n",
       "market_segment                     object\n",
       "distribution_channel               object\n",
       "is_repeated_guest                  object\n",
       "previous_cancellations             object\n",
       "previous_bookings_not_canceled     object\n",
       "assigned_room_type                 object\n",
       "booking_changes                    object\n",
       "deposit_type                       object\n",
       "days_in_waiting_list               object\n",
       "customer_type                      object\n",
       "adr                               float64\n",
       "required_car_parking_spaces        object\n",
       "total_of_special_requests          object\n",
       "is_canceled                        object\n",
       "reserved=assigned                  object\n",
       "weekday?                           object\n",
       "dtype: object"
      ]
     },
     "execution_count": 25,
     "metadata": {},
     "output_type": "execute_result"
    }
   ],
   "source": [
    "data.dtypes"
   ]
  },
  {
   "cell_type": "code",
   "execution_count": 26,
   "metadata": {
    "ExecuteTime": {
     "end_time": "2020-04-01T20:13:09.014054Z",
     "start_time": "2020-04-01T20:13:08.442291Z"
    }
   },
   "outputs": [
    {
     "data": {
      "image/png": "[encoded data removed]",
      "text/plain": [
       "<Figure size 432x288 with 2 Axes>"
      ]
     },
     "metadata": {
      "needs_background": "light"
     },
     "output_type": "display_data"
    }
   ],
   "source": [
    "sns.heatmap(data.corr(method='pearson'), vmax=1.0, center=0, fmt='.2f',\n",
    "            square=True, linewidths=.5, annot=True, cbar_kws={\"shrink\": .70}, cmap='coolwarm')\n",
    "plt.show()"
   ]
  },
  {
   "cell_type": "code",
   "execution_count": 27,
   "metadata": {
    "ExecuteTime": {
     "end_time": "2020-04-01T20:13:10.077837Z",
     "start_time": "2020-04-01T20:13:09.023940Z"
    }
   },
   "outputs": [
    {
     "data": {
      "image/png": "[encoded data removed]",
      "text/plain": [
       "<Figure size 720x720 with 4 Axes>"
      ]
     },
     "metadata": {
      "needs_background": "light"
     },
     "output_type": "display_data"
    }
   ],
   "source": [
    "sns.clustermap(data.corr(method='pearson'), vmax=1.0, center=0, fmt='.2f',\n",
    "               linewidths=.5, annot=True, cbar_kws={\"shrink\": .70}, cmap='coolwarm')\n",
    "plt.show()"
   ]
  },
  {
   "cell_type": "code",
   "execution_count": 28,
   "metadata": {
    "ExecuteTime": {
     "end_time": "2020-04-01T20:13:10.735182Z",
     "start_time": "2020-04-01T20:13:10.088532Z"
    }
   },
   "outputs": [],
   "source": [
    "# find 2-class and multi-class features\n",
    "bin_cols = data.nunique()[data.nunique()==2].keys().tolist()\n",
    "multi_cols = [col for col in cat_cols if col not in bin_cols]"
   ]
  },
  {
   "cell_type": "code",
   "execution_count": 29,
   "metadata": {
    "ExecuteTime": {
     "end_time": "2020-04-01T20:13:10.755104Z",
     "start_time": "2020-04-01T20:13:10.737829Z"
    }
   },
   "outputs": [
    {
     "name": "stdout",
     "output_type": "stream",
     "text": [
      "2-class features: \n",
      "['hotel', 'adults', 'children', 'babies', 'is_repeated_guest', 'previous_cancellations', 'previous_bookings_not_canceled', 'booking_changes', 'days_in_waiting_list', 'required_car_parking_spaces', 'total_of_special_requests', 'is_canceled', 'reserved=assigned', 'weekday?']\n",
      "multi-class features: \n",
      "['arrival_date_month', 'stays_in_weekend_nights', 'stays_in_week_nights', 'meal', 'country', 'market_segment', 'distribution_channel', 'assigned_room_type', 'deposit_type', 'customer_type']\n"
     ]
    }
   ],
   "source": [
    "print(\"2-class features: \")\n",
    "print(bin_cols)\n",
    "print(\"multi-class features: \")\n",
    "print(multi_cols)"
   ]
  },
  {
   "cell_type": "code",
   "execution_count": 30,
   "metadata": {
    "ExecuteTime": {
     "end_time": "2020-04-01T20:13:11.399836Z",
     "start_time": "2020-04-01T20:13:10.758492Z"
    }
   },
   "outputs": [
    {
     "name": "stderr",
     "output_type": "stream",
     "text": [
      "/Users/FY/anaconda3/lib/python3.6/site-packages/ipykernel_launcher.py:5: SettingWithCopyWarning: \n",
      "A value is trying to be set on a copy of a slice from a DataFrame.\n",
      "Try using .loc[row_indexer,col_indexer] = value instead\n",
      "\n",
      "See the caveats in the documentation: https://pandas.pydata.org/pandas-docs/stable/user_guide/indexing.html#returning-a-view-versus-a-copy\n",
      "  \"\"\"\n"
     ]
    }
   ],
   "source": [
    "# encode categorical features\n",
    "le = LabelEncoder()\n",
    "data_bin = data[bin_cols]\n",
    "for col in bin_cols:\n",
    "    data_bin[col] = le.fit_transform(data_bin[col])\n",
    "    \n",
    "data_multi = pd.get_dummies(data = data[multi_cols], columns=multi_cols)\n",
    "\n",
    "# scaling numerical features\n",
    "ss = StandardScaler()\n",
    "data_num = ss.fit_transform(data[num_cols])\n",
    "data_num = pd.DataFrame(data_num,columns=num_cols)"
   ]
  },
  {
   "cell_type": "code",
   "execution_count": 31,
   "metadata": {
    "ExecuteTime": {
     "end_time": "2020-04-01T20:13:11.494009Z",
     "start_time": "2020-04-01T20:13:11.416865Z"
    }
   },
   "outputs": [
    {
     "data": {
      "text/html": [
       "<div>\n",
       "<style scoped>\n",
       "    .dataframe tbody tr th:only-of-type {\n",
       "        vertical-align: middle;\n",
       "    }\n",
       "\n",
       "    .dataframe tbody tr th {\n",
       "        vertical-align: top;\n",
       "    }\n",
       "\n",
       "    .dataframe thead th {\n",
       "        text-align: right;\n",
       "    }\n",
       "</style>\n",
       "<table border=\"1\" class=\"dataframe\">\n",
       "  <thead>\n",
       "    <tr style=\"text-align: right;\">\n",
       "      <th></th>\n",
       "      <th>hotel</th>\n",
       "      <th>adults</th>\n",
       "      <th>children</th>\n",
       "      <th>babies</th>\n",
       "      <th>is_repeated_guest</th>\n",
       "      <th>previous_cancellations</th>\n",
       "      <th>previous_bookings_not_canceled</th>\n",
       "      <th>booking_changes</th>\n",
       "      <th>days_in_waiting_list</th>\n",
       "      <th>required_car_parking_spaces</th>\n",
       "      <th>...</th>\n",
       "      <th>assigned_room_type_Other</th>\n",
       "      <th>deposit_type_No Deposit</th>\n",
       "      <th>deposit_type_Non Refund</th>\n",
       "      <th>deposit_type_Refundable</th>\n",
       "      <th>customer_type_Contract</th>\n",
       "      <th>customer_type_Group</th>\n",
       "      <th>customer_type_Transient</th>\n",
       "      <th>customer_type_Transient-Party</th>\n",
       "      <th>lead_time</th>\n",
       "      <th>adr</th>\n",
       "    </tr>\n",
       "  </thead>\n",
       "  <tbody>\n",
       "    <tr>\n",
       "      <th>0</th>\n",
       "      <td>1</td>\n",
       "      <td>1</td>\n",
       "      <td>0</td>\n",
       "      <td>0</td>\n",
       "      <td>0</td>\n",
       "      <td>0</td>\n",
       "      <td>0</td>\n",
       "      <td>0</td>\n",
       "      <td>0</td>\n",
       "      <td>0</td>\n",
       "      <td>...</td>\n",
       "      <td>0</td>\n",
       "      <td>1</td>\n",
       "      <td>0</td>\n",
       "      <td>0</td>\n",
       "      <td>0</td>\n",
       "      <td>0</td>\n",
       "      <td>0</td>\n",
       "      <td>1</td>\n",
       "      <td>0.743011</td>\n",
       "      <td>-0.999882</td>\n",
       "    </tr>\n",
       "    <tr>\n",
       "      <th>1</th>\n",
       "      <td>1</td>\n",
       "      <td>1</td>\n",
       "      <td>0</td>\n",
       "      <td>0</td>\n",
       "      <td>0</td>\n",
       "      <td>0</td>\n",
       "      <td>0</td>\n",
       "      <td>1</td>\n",
       "      <td>0</td>\n",
       "      <td>1</td>\n",
       "      <td>...</td>\n",
       "      <td>0</td>\n",
       "      <td>1</td>\n",
       "      <td>0</td>\n",
       "      <td>0</td>\n",
       "      <td>0</td>\n",
       "      <td>0</td>\n",
       "      <td>1</td>\n",
       "      <td>0</td>\n",
       "      <td>0.358455</td>\n",
       "      <td>0.162215</td>\n",
       "    </tr>\n",
       "    <tr>\n",
       "      <th>2</th>\n",
       "      <td>1</td>\n",
       "      <td>1</td>\n",
       "      <td>0</td>\n",
       "      <td>0</td>\n",
       "      <td>0</td>\n",
       "      <td>0</td>\n",
       "      <td>0</td>\n",
       "      <td>0</td>\n",
       "      <td>0</td>\n",
       "      <td>0</td>\n",
       "      <td>...</td>\n",
       "      <td>0</td>\n",
       "      <td>1</td>\n",
       "      <td>0</td>\n",
       "      <td>0</td>\n",
       "      <td>0</td>\n",
       "      <td>0</td>\n",
       "      <td>1</td>\n",
       "      <td>0</td>\n",
       "      <td>0.380193</td>\n",
       "      <td>0.927658</td>\n",
       "    </tr>\n",
       "    <tr>\n",
       "      <th>3</th>\n",
       "      <td>0</td>\n",
       "      <td>1</td>\n",
       "      <td>0</td>\n",
       "      <td>0</td>\n",
       "      <td>1</td>\n",
       "      <td>1</td>\n",
       "      <td>1</td>\n",
       "      <td>0</td>\n",
       "      <td>1</td>\n",
       "      <td>0</td>\n",
       "      <td>...</td>\n",
       "      <td>0</td>\n",
       "      <td>1</td>\n",
       "      <td>0</td>\n",
       "      <td>0</td>\n",
       "      <td>0</td>\n",
       "      <td>0</td>\n",
       "      <td>0</td>\n",
       "      <td>1</td>\n",
       "      <td>0.865867</td>\n",
       "      <td>-0.679044</td>\n",
       "    </tr>\n",
       "    <tr>\n",
       "      <th>4</th>\n",
       "      <td>1</td>\n",
       "      <td>1</td>\n",
       "      <td>0</td>\n",
       "      <td>0</td>\n",
       "      <td>0</td>\n",
       "      <td>0</td>\n",
       "      <td>0</td>\n",
       "      <td>0</td>\n",
       "      <td>0</td>\n",
       "      <td>0</td>\n",
       "      <td>...</td>\n",
       "      <td>0</td>\n",
       "      <td>1</td>\n",
       "      <td>0</td>\n",
       "      <td>0</td>\n",
       "      <td>0</td>\n",
       "      <td>0</td>\n",
       "      <td>1</td>\n",
       "      <td>0</td>\n",
       "      <td>-1.048815</td>\n",
       "      <td>1.856532</td>\n",
       "    </tr>\n",
       "  </tbody>\n",
       "</table>\n",
       "<p>5 rows × 71 columns</p>\n",
       "</div>"
      ],
      "text/plain": [
       "   hotel  adults  children  babies  is_repeated_guest  previous_cancellations  \\\n",
       "0      1       1         0       0                  0                       0   \n",
       "1      1       1         0       0                  0                       0   \n",
       "2      1       1         0       0                  0                       0   \n",
       "3      0       1         0       0                  1                       1   \n",
       "4      1       1         0       0                  0                       0   \n",
       "\n",
       "   previous_bookings_not_canceled  booking_changes  days_in_waiting_list  \\\n",
       "0                               0                0                     0   \n",
       "1                               0                1                     0   \n",
       "2                               0                0                     0   \n",
       "3                               1                0                     1   \n",
       "4                               0                0                     0   \n",
       "\n",
       "   required_car_parking_spaces  ...  assigned_room_type_Other  \\\n",
       "0                            0  ...                         0   \n",
       "1                            1  ...                         0   \n",
       "2                            0  ...                         0   \n",
       "3                            0  ...                         0   \n",
       "4                            0  ...                         0   \n",
       "\n",
       "   deposit_type_No Deposit  deposit_type_Non Refund  deposit_type_Refundable  \\\n",
       "0                        1                        0                        0   \n",
       "1                        1                        0                        0   \n",
       "2                        1                        0                        0   \n",
       "3                        1                        0                        0   \n",
       "4                        1                        0                        0   \n",
       "\n",
       "   customer_type_Contract  customer_type_Group  customer_type_Transient  \\\n",
       "0                       0                    0                        0   \n",
       "1                       0                    0                        1   \n",
       "2                       0                    0                        1   \n",
       "3                       0                    0                        0   \n",
       "4                       0                    0                        1   \n",
       "\n",
       "   customer_type_Transient-Party  lead_time       adr  \n",
       "0                              1   0.743011 -0.999882  \n",
       "1                              0   0.358455  0.162215  \n",
       "2                              0   0.380193  0.927658  \n",
       "3                              1   0.865867 -0.679044  \n",
       "4                              0  -1.048815  1.856532  \n",
       "\n",
       "[5 rows x 71 columns]"
      ]
     },
     "execution_count": 31,
     "metadata": {},
     "output_type": "execute_result"
    }
   ],
   "source": [
    "new_data = pd.concat([data_bin,data_multi,data_num],axis=1)\n",
    "new_data.head()"
   ]
  },
  {
   "cell_type": "code",
   "execution_count": 32,
   "metadata": {
    "ExecuteTime": {
     "end_time": "2020-04-01T20:13:11.566224Z",
     "start_time": "2020-04-01T20:13:11.510432Z"
    }
   },
   "outputs": [
    {
     "data": {
      "text/plain": [
       "(95512, 71)"
      ]
     },
     "execution_count": 32,
     "metadata": {},
     "output_type": "execute_result"
    }
   ],
   "source": [
    "new_data.shape"
   ]
  },
  {
   "cell_type": "code",
   "execution_count": 33,
   "metadata": {
    "ExecuteTime": {
     "end_time": "2020-04-01T20:13:13.669671Z",
     "start_time": "2020-04-01T20:13:11.577509Z"
    }
   },
   "outputs": [],
   "source": [
    "new_data.to_csv('../data/featured_data/featured_train.csv',index=False)"
   ]
  },
  {
   "cell_type": "code",
   "execution_count": 34,
   "metadata": {
    "ExecuteTime": {
     "end_time": "2020-04-01T20:13:13.714220Z",
     "start_time": "2020-04-01T20:13:13.674574Z"
    }
   },
   "outputs": [],
   "source": [
    "X = new_data.drop('is_canceled',axis=1)\n",
    "y = new_data.is_canceled"
   ]
  },
  {
   "cell_type": "code",
   "execution_count": 35,
   "metadata": {
    "ExecuteTime": {
     "end_time": "2020-04-01T20:13:14.319092Z",
     "start_time": "2020-04-01T20:13:13.718539Z"
    }
   },
   "outputs": [
    {
     "data": {
      "text/plain": [
       "['../models/scaler.m']"
      ]
     },
     "execution_count": 35,
     "metadata": {},
     "output_type": "execute_result"
    }
   ],
   "source": [
    "pca = PCA(n_components=0.99)\n",
    "X_pca = pca.fit_transform(X)\n",
    "joblib.dump(pca, '../models/pca.m') # save pca model as pca.m\n",
    "joblib.dump(ss,'../models/scaler.m')  # save StandardScaler"
   ]
  },
  {
   "cell_type": "code",
   "execution_count": 36,
   "metadata": {
    "ExecuteTime": {
     "end_time": "2020-04-01T20:13:14.352338Z",
     "start_time": "2020-04-01T20:13:14.329396Z"
    }
   },
   "outputs": [
    {
     "data": {
      "text/plain": [
       "(95512, 48)"
      ]
     },
     "execution_count": 36,
     "metadata": {},
     "output_type": "execute_result"
    }
   ],
   "source": [
    "X_pca.shape"
   ]
  },
  {
   "cell_type": "code",
   "execution_count": 37,
   "metadata": {
    "ExecuteTime": {
     "end_time": "2020-04-01T20:13:26.424511Z",
     "start_time": "2020-04-01T20:13:14.383268Z"
    }
   },
   "outputs": [],
   "source": [
    "pd.DataFrame(X_pca).to_csv('../data/featured_data/X_train.csv',index=False)\n",
    "pd.DataFrame(y).to_csv('../data/featured_data/y_train.csv',index=False)"
   ]
  },
  {
   "cell_type": "code",
   "execution_count": null,
   "metadata": {},
   "outputs": [],
   "source": []
  }
 ],
 "metadata": {
  "kernelspec": {
   "display_name": "Python 3",
   "language": "python",
   "name": "python3"
  },
  "language_info": {
   "codemirror_mode": {
    "name": "ipython",
    "version": 3
   },
   "file_extension": ".py",
   "mimetype": "text/x-python",
   "name": "python",
   "nbconvert_exporter": "python",
   "pygments_lexer": "ipython3",
   "version": "3.6.5"
  },
  "latex_envs": {
   "LaTeX_envs_menu_present": true,
   "autoclose": false,
   "autocomplete": true,
   "bibliofile": "biblio.bib",
   "cite_by": "apalike",
   "current_citInitial": 1,
   "eqLabelWithNumbers": true,
   "eqNumInitial": 1,
   "hotkeys": {
    "equation": "Ctrl-E",
    "itemize": "Ctrl-I"
   },
   "labels_anchors": false,
   "latex_user_defs": false,
   "report_style_numbering": false,
   "user_envs_cfg": false
  },
  "toc": {
   "base_numbering": 1,
   "nav_menu": {},
   "number_sections": true,
   "sideBar": true,
   "skip_h1_title": false,
   "title_cell": "Table of Contents",
   "title_sidebar": "Contents",
   "toc_cell": false,
   "toc_position": {},
   "toc_section_display": true,
   "toc_window_display": false
  }
 },
 "nbformat": 4,
 "nbformat_minor": 4
}
