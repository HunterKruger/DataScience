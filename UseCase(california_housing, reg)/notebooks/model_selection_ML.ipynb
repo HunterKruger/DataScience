{
 "cells": [
  {
   "cell_type": "code",
   "execution_count": 2,
   "metadata": {
    "ExecuteTime": {
     "end_time": "2020-05-06T21:58:10.634206Z",
     "start_time": "2020-05-06T21:58:10.627408Z"
    }
   },
   "outputs": [],
   "source": [
    "import pandas as pd \n",
    "import numpy as np\n",
    "import math\n",
    "\n",
    "from sklearn.model_selection import train_test_split\n",
    "from sklearn.model_selection import cross_val_score \n",
    "from sklearn.model_selection import GridSearchCV,RandomizedSearchCV\n",
    "\n",
    "from sklearn.metrics import mean_squared_error, r2_score\n",
    "\n",
    "from sklearn.linear_model import LinearRegression as LR\n",
    "from sklearn.linear_model import Ridge\n",
    "from sklearn.linear_model import Lasso\n",
    "from sklearn.linear_model import ElasticNet\n",
    "from sklearn.neighbors import KNeighborsRegressor as KNR\n",
    "from sklearn.svm import SVR\n",
    "from sklearn.ensemble import AdaBoostRegressor as ABR\n",
    "from sklearn.ensemble import RandomForestRegressor as RFR\n",
    "from sklearn.ensemble import GradientBoostingRegressor as GBR\n",
    "from xgboost import XGBRegressor as XGBR\n",
    "from lightgbm import LGBMRegressor as LGBMR\n",
    "\n",
    "from sklearn.ensemble import VotingRegressor as VR\n",
    "\n",
    "import joblib"
   ]
  },
  {
   "cell_type": "code",
   "execution_count": 2,
   "metadata": {
    "ExecuteTime": {
     "end_time": "2020-04-09T15:44:37.878978Z",
     "start_time": "2020-04-09T15:44:37.842076Z"
    }
   },
   "outputs": [],
   "source": [
    "X_train_origin = pd.read_csv('../data/featured_data/X_train.csv')\n",
    "y_train_origin = pd.read_csv('../data/featured_data/y_train.csv')"
   ]
  },
  {
   "cell_type": "code",
   "execution_count": 3,
   "metadata": {
    "ExecuteTime": {
     "end_time": "2020-04-09T15:44:37.883972Z",
     "start_time": "2020-04-09T15:44:37.879975Z"
    }
   },
   "outputs": [],
   "source": [
    "X_train_origin = X_train_origin.to_numpy()\n",
    "y_train_origin = y_train_origin.to_numpy()\n",
    "y_train_origin = y_train_origin.ravel()"
   ]
  },
  {
   "cell_type": "code",
   "execution_count": 4,
   "metadata": {
    "ExecuteTime": {
     "end_time": "2020-04-09T15:44:37.894936Z",
     "start_time": "2020-04-09T15:44:37.884962Z"
    }
   },
   "outputs": [
    {
     "data": {
      "text/plain": [
       "((1460, 74), (1460,))"
      ]
     },
     "execution_count": 4,
     "metadata": {},
     "output_type": "execute_result"
    }
   ],
   "source": [
    "X_train_origin.shape,y_train_origin.shape"
   ]
  },
  {
   "cell_type": "code",
   "execution_count": 5,
   "metadata": {
    "ExecuteTime": {
     "end_time": "2020-04-09T15:44:37.902914Z",
     "start_time": "2020-04-09T15:44:37.895933Z"
    }
   },
   "outputs": [],
   "source": [
    "X_train, X_val, y_train, y_val = train_test_split(X_train_origin, y_train_origin, test_size=0.2, random_state=1) "
   ]
  },
  {
   "cell_type": "code",
   "execution_count": 6,
   "metadata": {
    "ExecuteTime": {
     "end_time": "2020-04-09T15:44:37.907909Z",
     "start_time": "2020-04-09T15:44:37.903911Z"
    }
   },
   "outputs": [
    {
     "data": {
      "text/plain": [
       "((1168, 74), (292, 74), (1168,), (292,))"
      ]
     },
     "execution_count": 6,
     "metadata": {},
     "output_type": "execute_result"
    }
   ],
   "source": [
    "X_train.shape, X_val.shape, y_train.shape, y_val.shape"
   ]
  },
  {
   "cell_type": "markdown",
   "metadata": {},
   "source": [
    "### Baseline"
   ]
  },
  {
   "cell_type": "code",
   "execution_count": 7,
   "metadata": {
    "ExecuteTime": {
     "end_time": "2020-04-09T15:44:37.916877Z",
     "start_time": "2020-04-09T15:44:37.910893Z"
    }
   },
   "outputs": [],
   "source": [
    "def modeling(model_name):\n",
    "    model=model_name()\n",
    "    model.fit(X_train,y_train)\n",
    "    y_pred = model.predict(X_val)\n",
    "    y_pred_no_log = np.expm1(y_pred)\n",
    "    y_val_no_log = np.expm1(y_val)\n",
    "    RMSE = math.sqrt(mean_squared_error(y_val_no_log,y_pred_no_log))\n",
    "    print(\"RMSE: \"+str(RMSE))\n",
    "    R2=r2_score(y_val_no_log,y_pred_no_log)\n",
    "    print(\"R_square: \"+str(R2))"
   ]
  },
  {
   "cell_type": "code",
   "execution_count": 8,
   "metadata": {
    "ExecuteTime": {
     "end_time": "2020-04-09T15:44:37.977714Z",
     "start_time": "2020-04-09T15:44:37.918878Z"
    }
   },
   "outputs": [
    {
     "name": "stdout",
     "output_type": "stream",
     "text": [
      "RMSE: 38734.25269123501\n",
      "R_square: 0.78963064450471\n"
     ]
    }
   ],
   "source": [
    "modeling(LR) # reject"
   ]
  },
  {
   "cell_type": "code",
   "execution_count": 9,
   "metadata": {
    "ExecuteTime": {
     "end_time": "2020-04-09T15:44:37.991677Z",
     "start_time": "2020-04-09T15:44:37.978711Z"
    }
   },
   "outputs": [
    {
     "name": "stdout",
     "output_type": "stream",
     "text": [
      "RMSE: 81705.2949377076\n",
      "R_square: 0.06396407424779604\n"
     ]
    }
   ],
   "source": [
    "modeling(Lasso) # reject"
   ]
  },
  {
   "cell_type": "code",
   "execution_count": 10,
   "metadata": {
    "ExecuteTime": {
     "end_time": "2020-04-09T15:44:38.008632Z",
     "start_time": "2020-04-09T15:44:37.993671Z"
    }
   },
   "outputs": [
    {
     "name": "stdout",
     "output_type": "stream",
     "text": [
      "RMSE: 38696.78076455675\n",
      "R_square: 0.7900374747128447\n"
     ]
    }
   ],
   "source": [
    "modeling(Ridge) # reject"
   ]
  },
  {
   "cell_type": "code",
   "execution_count": 11,
   "metadata": {
    "ExecuteTime": {
     "end_time": "2020-04-09T15:44:38.017614Z",
     "start_time": "2020-04-09T15:44:38.010628Z"
    }
   },
   "outputs": [
    {
     "name": "stdout",
     "output_type": "stream",
     "text": [
      "RMSE: 62403.81622904341\n",
      "R_square: 0.45397263069049765\n"
     ]
    }
   ],
   "source": [
    "modeling(ElasticNet) # reject"
   ]
  },
  {
   "cell_type": "code",
   "execution_count": 12,
   "metadata": {
    "ExecuteTime": {
     "end_time": "2020-04-09T15:44:38.077449Z",
     "start_time": "2020-04-09T15:44:38.019602Z"
    }
   },
   "outputs": [
    {
     "name": "stdout",
     "output_type": "stream",
     "text": [
      "RMSE: 41567.55930701231\n",
      "R_square: 0.757729149613089\n"
     ]
    }
   ],
   "source": [
    "modeling(KNR) # reject"
   ]
  },
  {
   "cell_type": "code",
   "execution_count": 13,
   "metadata": {
    "ExecuteTime": {
     "end_time": "2020-04-09T15:44:38.168204Z",
     "start_time": "2020-04-09T15:44:38.078446Z"
    }
   },
   "outputs": [
    {
     "name": "stdout",
     "output_type": "stream",
     "text": [
      "RMSE: 39141.757964151904\n",
      "R_square: 0.785180961816502\n"
     ]
    }
   ],
   "source": [
    "modeling(SVR) # reject"
   ]
  },
  {
   "cell_type": "code",
   "execution_count": 14,
   "metadata": {
    "ExecuteTime": {
     "end_time": "2020-04-09T15:44:41.133273Z",
     "start_time": "2020-04-09T15:44:38.169202Z"
    }
   },
   "outputs": [
    {
     "name": "stdout",
     "output_type": "stream",
     "text": [
      "RMSE: 38497.08579516456\n",
      "R_square: 0.7921989089820298\n"
     ]
    }
   ],
   "source": [
    "modeling(RFR) # reject"
   ]
  },
  {
   "cell_type": "code",
   "execution_count": 15,
   "metadata": {
    "ExecuteTime": {
     "end_time": "2020-04-09T15:44:41.675861Z",
     "start_time": "2020-04-09T15:44:41.134292Z"
    }
   },
   "outputs": [
    {
     "name": "stdout",
     "output_type": "stream",
     "text": [
      "RMSE: 40126.75965339593\n",
      "R_square: 0.7742330869337376\n"
     ]
    }
   ],
   "source": [
    "modeling(ABR) # reject"
   ]
  },
  {
   "cell_type": "code",
   "execution_count": 16,
   "metadata": {
    "ExecuteTime": {
     "end_time": "2020-04-09T15:44:43.329924Z",
     "start_time": "2020-04-09T15:44:41.676819Z"
    }
   },
   "outputs": [
    {
     "name": "stdout",
     "output_type": "stream",
     "text": [
      "RMSE: 32145.9725920116\n",
      "R_square: 0.8551077175840008\n"
     ]
    }
   ],
   "source": [
    "modeling(GBR) # accept"
   ]
  },
  {
   "cell_type": "code",
   "execution_count": 17,
   "metadata": {
    "ExecuteTime": {
     "end_time": "2020-04-09T15:44:43.680062Z",
     "start_time": "2020-04-09T15:44:43.330921Z"
    }
   },
   "outputs": [
    {
     "name": "stdout",
     "output_type": "stream",
     "text": [
      "[17:44:43] WARNING: src/objective/regression_obj.cu:152: reg:linear is now deprecated in favor of reg:squarederror.\n",
      "RMSE: 33033.135911442005\n",
      "R_square: 0.8469998974283094\n"
     ]
    }
   ],
   "source": [
    "modeling(XGBR) # accept"
   ]
  },
  {
   "cell_type": "code",
   "execution_count": 18,
   "metadata": {
    "ExecuteTime": {
     "end_time": "2020-04-09T15:44:44.012098Z",
     "start_time": "2020-04-09T15:44:43.680985Z"
    }
   },
   "outputs": [
    {
     "name": "stdout",
     "output_type": "stream",
     "text": [
      "RMSE: 34676.329838811806\n",
      "R_square: 0.8313996918360319\n"
     ]
    }
   ],
   "source": [
    "modeling(LGBMR) # accept"
   ]
  },
  {
   "cell_type": "markdown",
   "metadata": {},
   "source": [
    "### Final tuning"
   ]
  },
  {
   "cell_type": "code",
   "execution_count": 20,
   "metadata": {
    "ExecuteTime": {
     "end_time": "2020-04-09T15:46:17.374552Z",
     "start_time": "2020-04-09T15:45:11.156216Z"
    }
   },
   "outputs": [
    {
     "name": "stdout",
     "output_type": "stream",
     "text": [
      "[17:46:08] WARNING: src/objective/regression_obj.cu:152: reg:linear is now deprecated in favor of reg:squarederror.\n"
     ]
    },
    {
     "data": {
      "text/plain": [
       "{'subsample': 0.8,\n",
       " 'scale_pos_weight': 0.2,\n",
       " 'reg_lambda': 0.2,\n",
       " 'reg_alpha': 0.5,\n",
       " 'n_estimators': 1000,\n",
       " 'min_child_weight': 20,\n",
       " 'max_depth': 15,\n",
       " 'max_delta_step': 1,\n",
       " 'learning_rate': 0.05,\n",
       " 'colsample_bytree': 0.8}"
      ]
     },
     "execution_count": 20,
     "metadata": {},
     "output_type": "execute_result"
    }
   ],
   "source": [
    "params_XGBR = {\n",
    "    'max_depth': [5, 10, 15, 20, 25],\n",
    "    'learning_rate': [0.01, 0.02, 0.05, 0.1, 0.15],\n",
    "    'n_estimators': [500, 1000, 2000, 3000, 5000],\n",
    "    'min_child_weight': [0, 2, 5, 10, 20],\n",
    "    'max_delta_step': [0, 0.2, 0.6, 1, 2],\n",
    "    'subsample': [0.6, 0.7, 0.8, 0.85, 0.95],\n",
    "    'colsample_bytree': [0.5, 0.6, 0.7, 0.8, 0.9],\n",
    "    'reg_alpha': [0, 0.25, 0.5, 0.75, 1],\n",
    "    'reg_lambda': [0.2, 0.4, 0.6, 0.8, 1],\n",
    "    'scale_pos_weight': [0.2, 0.4, 0.6, 0.8, 1]\n",
    "}\n",
    "xgbr = XGBR()\n",
    "xgbr_clf = RandomizedSearchCV(xgbr, param_distributions=params_XGBR, cv=3,scoring='r2',n_jobs=-1,n_iter=20)\n",
    "xgbr_clf.fit(X_train_origin,y_train_origin)\n",
    "xgbr_clf.best_params_"
   ]
  },
  {
   "cell_type": "code",
   "execution_count": 21,
   "metadata": {
    "ExecuteTime": {
     "end_time": "2020-04-09T15:48:11.382138Z",
     "start_time": "2020-04-09T15:46:17.375549Z"
    }
   },
   "outputs": [
    {
     "data": {
      "text/plain": [
       "{'subsample': 0.6,\n",
       " 'num_leaves': 63,\n",
       " 'n_estimators': 2000,\n",
       " 'max_depth': 4,\n",
       " 'learning_rate': 0.02,\n",
       " 'colsample_bytree': 1.0}"
      ]
     },
     "execution_count": 21,
     "metadata": {},
     "output_type": "execute_result"
    }
   ],
   "source": [
    "params_LGBMR = {'n_estimators': [1000, 1500, 2000, 2500],\n",
    "               'max_depth':  [4, 5, 8, -1],\n",
    "               'num_leaves': [15, 31, 63, 127],\n",
    "               'subsample': [0.6, 0.7, 0.8, 1.0],\n",
    "               'colsample_bytree': [0.6, 0.7, 0.8, 1.0],\n",
    "               'learning_rate' : [0.01,0.02,0.03]\n",
    "              }\n",
    "lgbmr = LGBMR()\n",
    "lgbmr_clf = RandomizedSearchCV(lgbmr, param_distributions=params_LGBMR, cv=3,scoring='r2',n_jobs=-1,n_iter=20)\n",
    "lgbmr_clf.fit(X_train_origin,y_train_origin)\n",
    "lgbmr_clf.best_params_"
   ]
  },
  {
   "cell_type": "code",
   "execution_count": 22,
   "metadata": {
    "ExecuteTime": {
     "end_time": "2020-04-09T15:48:16.512900Z",
     "start_time": "2020-04-09T15:48:11.384131Z"
    }
   },
   "outputs": [
    {
     "data": {
      "text/plain": [
       "{'n_estimators': 80,\n",
       " 'min_samples_leaf': 14,\n",
       " 'max_features': 0.3,\n",
       " 'max_depth': 6,\n",
       " 'learning_rate': 0.05}"
      ]
     },
     "execution_count": 22,
     "metadata": {},
     "output_type": "execute_result"
    }
   ],
   "source": [
    "params_GBR = {'n_estimators':range(20,81,10),\n",
    "              'learning_rate': [0.2,0.1, 0.05, 0.02, 0.01 ],\n",
    "              'max_depth': [4, 6,8],\n",
    "              'min_samples_leaf': [3, 5, 9, 14],\n",
    "              'max_features': [0.8,0.5,0.3, 0.1]}\n",
    "gbr = GBR()\n",
    "gbr_clf = RandomizedSearchCV(gbr, param_distributions=params_GBR, cv=3,scoring='r2',n_jobs=-1,n_iter=20)\n",
    "gbr_clf.fit(X_train_origin,y_train_origin)\n",
    "gbr_clf.best_params_"
   ]
  },
  {
   "cell_type": "markdown",
   "metadata": {},
   "source": [
    "### Train the best model"
   ]
  },
  {
   "cell_type": "code",
   "execution_count": 25,
   "metadata": {
    "ExecuteTime": {
     "end_time": "2020-04-09T16:07:32.899892Z",
     "start_time": "2020-04-09T16:07:24.087772Z"
    }
   },
   "outputs": [
    {
     "name": "stdout",
     "output_type": "stream",
     "text": [
      "[18:07:24] WARNING: src/objective/regression_obj.cu:152: reg:linear is now deprecated in favor of reg:squarederror.\n"
     ]
    },
    {
     "data": {
      "text/plain": [
       "['../models/xgbr.m']"
      ]
     },
     "execution_count": 25,
     "metadata": {},
     "output_type": "execute_result"
    }
   ],
   "source": [
    "xgbr_best = XGBR(subsample=0.8,scale_pos_weight=0.2,reg_alpha=0.5,reg_lambda=0.2,n_estimators=1000,min_child_weight=20,max_depth=15,\n",
    "                max_delta_step=1,learning_rate=0.05,colsample_bytree=0.8)\n",
    "xgbr_best.fit(X_train_origin,y_train_origin)\n",
    "joblib.dump(xgbr_best,'../models/xgbr.m')"
   ]
  },
  {
   "cell_type": "code",
   "execution_count": 26,
   "metadata": {
    "ExecuteTime": {
     "end_time": "2020-04-09T16:07:42.091693Z",
     "start_time": "2020-04-09T16:07:40.274521Z"
    }
   },
   "outputs": [
    {
     "data": {
      "text/plain": [
       "['../models/lgbmr.m']"
      ]
     },
     "execution_count": 26,
     "metadata": {},
     "output_type": "execute_result"
    }
   ],
   "source": [
    "lgbmr_best = LGBMR(subsample=0.6,num_leaves=63,n_estimators=2000,max_depth=4,learning_rate=0.02,colsample_bytree=1.0)\n",
    "lgbmr_best.fit(X_train_origin,y_train_origin)\n",
    "joblib.dump(lgbmr_best,'../models/lgbmr.m')"
   ]
  },
  {
   "cell_type": "code",
   "execution_count": 27,
   "metadata": {
    "ExecuteTime": {
     "end_time": "2020-04-09T16:12:58.183100Z",
     "start_time": "2020-04-09T16:12:57.299745Z"
    }
   },
   "outputs": [
    {
     "data": {
      "text/plain": [
       "['../models/gbr.m']"
      ]
     },
     "execution_count": 27,
     "metadata": {},
     "output_type": "execute_result"
    }
   ],
   "source": [
    "gbr_best = GBR(n_estimators=80,min_samples_leaf=14,max_features=0.3,max_depth=6,learning_rate=0.05)\n",
    "gbr_best.fit(X_train_origin,y_train_origin)\n",
    "joblib.dump(gbr_best,'../models/gbr.m')"
   ]
  },
  {
   "cell_type": "code",
   "execution_count": 29,
   "metadata": {
    "ExecuteTime": {
     "end_time": "2020-04-09T16:24:41.920864Z",
     "start_time": "2020-04-09T16:24:30.600287Z"
    }
   },
   "outputs": [
    {
     "name": "stdout",
     "output_type": "stream",
     "text": [
      "[18:24:30] WARNING: src/objective/regression_obj.cu:152: reg:linear is now deprecated in favor of reg:squarederror.\n"
     ]
    },
    {
     "data": {
      "text/plain": [
       "['../models/voter.m']"
      ]
     },
     "execution_count": 29,
     "metadata": {},
     "output_type": "execute_result"
    }
   ],
   "source": [
    "voter = VR(\n",
    "    estimators=[('xgbr', xgbr_best), ('lgbmr', lgbmr_best), ('gbr', gbr_best)])\n",
    "voter.fit(X_train_origin, y_train_origin)\n",
    "joblib.dump(voter, '../models/voter.m')"
   ]
  },
  {
   "cell_type": "code",
   "execution_count": null,
   "metadata": {},
   "outputs": [],
   "source": []
  }
 ],
 "metadata": {
  "kernelspec": {
   "display_name": "Python 3",
   "language": "python",
   "name": "python3"
  },
  "language_info": {
   "codemirror_mode": {
    "name": "ipython",
    "version": 3
   },
   "file_extension": ".py",
   "mimetype": "text/x-python",
   "name": "python",
   "nbconvert_exporter": "python",
   "pygments_lexer": "ipython3",
   "version": "3.6.9"
  },
  "latex_envs": {
   "LaTeX_envs_menu_present": true,
   "autoclose": false,
   "autocomplete": true,
   "bibliofile": "biblio.bib",
   "cite_by": "apalike",
   "current_citInitial": 1,
   "eqLabelWithNumbers": true,
   "eqNumInitial": 1,
   "hotkeys": {
    "equation": "Ctrl-E",
    "itemize": "Ctrl-I"
   },
   "labels_anchors": false,
   "latex_user_defs": false,
   "report_style_numbering": false,
   "user_envs_cfg": false
  },
  "toc": {
   "base_numbering": 1,
   "nav_menu": {},
   "number_sections": true,
   "sideBar": true,
   "skip_h1_title": false,
   "title_cell": "Table of Contents",
   "title_sidebar": "Contents",
   "toc_cell": false,
   "toc_position": {},
   "toc_section_display": true,
   "toc_window_display": false
  }
 },
 "nbformat": 4,
 "nbformat_minor": 4
}
