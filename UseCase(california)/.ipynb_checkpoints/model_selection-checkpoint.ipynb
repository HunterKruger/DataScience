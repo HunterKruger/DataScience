{
 "cells": [
  {
   "cell_type": "code",
   "execution_count": 1,
   "metadata": {},
   "outputs": [
    {
     "name": "stderr",
     "output_type": "stream",
     "text": [
      "/Users/FY/opt/anaconda3/lib/python3.7/site-packages/sklearn/externals/joblib/__init__.py:15: DeprecationWarning: sklearn.externals.joblib is deprecated in 0.21 and will be removed in 0.23. Please import this functionality directly from joblib, which can be installed with: pip install joblib. If this warning is raised when loading pickled models, you may need to re-serialize those models with scikit-learn 0.21+.\n",
      "  warnings.warn(msg, category=DeprecationWarning)\n"
     ]
    }
   ],
   "source": [
    "import pandas as pd\n",
    "from sklearn.externals import joblib\n",
    "import warnings\n",
    "warnings.filterwarnings(\"ignore\")"
   ]
  },
  {
   "cell_type": "code",
   "execution_count": 2,
   "metadata": {},
   "outputs": [
    {
     "data": {
      "text/plain": [
       "(1460, 9)"
      ]
     },
     "execution_count": 2,
     "metadata": {},
     "output_type": "execute_result"
    }
   ],
   "source": [
    "X_train_reduced = pd.read_csv('featured/X_train_reduced.csv')\n",
    "X_train_reduced.shape"
   ]
  },
  {
   "cell_type": "code",
   "execution_count": 3,
   "metadata": {},
   "outputs": [
    {
     "data": {
      "text/plain": [
       "(1459, 9)"
      ]
     },
     "execution_count": 3,
     "metadata": {},
     "output_type": "execute_result"
    }
   ],
   "source": [
    "X_test_reduced = pd.read_csv('featured/X_test_reduced.csv')\n",
    "X_test_reduced.shape"
   ]
  },
  {
   "cell_type": "code",
   "execution_count": 4,
   "metadata": {},
   "outputs": [
    {
     "data": {
      "text/plain": [
       "(1460, 1)"
      ]
     },
     "execution_count": 4,
     "metadata": {},
     "output_type": "execute_result"
    }
   ],
   "source": [
    "y_train = pd.read_csv('featured/y_train.csv')\n",
    "y_train.shape"
   ]
  },
  {
   "cell_type": "markdown",
   "metadata": {},
   "source": [
    "## Model selection"
   ]
  },
  {
   "cell_type": "code",
   "execution_count": 5,
   "metadata": {},
   "outputs": [],
   "source": [
    "from sklearn.model_selection import cross_val_score \n",
    "from sklearn.model_selection import GridSearchCV,RandomizedSearchCV\n",
    "\n",
    "from sklearn.linear_model import LinearRegression as LR\n",
    "from sklearn.linear_model import Ridge\n",
    "from sklearn.linear_model import Lasso\n",
    "from sklearn.linear_model import ElasticNet\n",
    "\n",
    "from sklearn.neighbors import KNeighborsRegressor as KNR\n",
    "from sklearn.svm import SVR\n",
    "from sklearn.ensemble import RandomForestRegressor as RFR\n",
    "from sklearn.ensemble import GradientBoostingRegressor as GBR\n",
    "from xgboost import XGBRegressor as XGBR"
   ]
  },
  {
   "cell_type": "code",
   "execution_count": 6,
   "metadata": {},
   "outputs": [],
   "source": [
    "lr = LR()\n",
    "lr_result = cross_val_score(lr,X_train_reduced,y_train,cv=5,n_jobs=-1,scoring='neg_mean_squared_error').mean()"
   ]
  },
  {
   "cell_type": "code",
   "execution_count": 7,
   "metadata": {},
   "outputs": [],
   "source": [
    "ridge = Ridge()\n",
    "ridge_result = cross_val_score(ridge,X_train_reduced,y_train,cv=5,n_jobs=-1,scoring='neg_mean_squared_error').mean()"
   ]
  },
  {
   "cell_type": "code",
   "execution_count": 8,
   "metadata": {},
   "outputs": [],
   "source": [
    "lasso = Lasso()\n",
    "lasso_result = cross_val_score(lasso,X_train_reduced,y_train,cv=5,n_jobs=-1,scoring='neg_mean_squared_error').mean()"
   ]
  },
  {
   "cell_type": "code",
   "execution_count": 9,
   "metadata": {},
   "outputs": [],
   "source": [
    "en = ElasticNet()\n",
    "en_result = cross_val_score(en,X_train_reduced,y_train,cv=5,n_jobs=-1,scoring='neg_mean_squared_error').mean()"
   ]
  },
  {
   "cell_type": "code",
   "execution_count": 10,
   "metadata": {},
   "outputs": [],
   "source": [
    "svr = SVR()\n",
    "svr_result = cross_val_score(svr,X_train_reduced,y_train,cv=5,n_jobs=-1,scoring='neg_mean_squared_error').mean()"
   ]
  },
  {
   "cell_type": "code",
   "execution_count": 11,
   "metadata": {},
   "outputs": [],
   "source": [
    "knr = KNR()\n",
    "knr_result = cross_val_score(knr,X_train_reduced,y_train,cv=5,n_jobs=-1,scoring='neg_mean_squared_error').mean()"
   ]
  },
  {
   "cell_type": "code",
   "execution_count": 12,
   "metadata": {},
   "outputs": [],
   "source": [
    "rfr = RFR()\n",
    "rfr_result = cross_val_score(rfr,X_train_reduced,y_train,cv=5,n_jobs=-1,scoring='neg_mean_squared_error').mean()"
   ]
  },
  {
   "cell_type": "code",
   "execution_count": 13,
   "metadata": {},
   "outputs": [],
   "source": [
    "gbr = GBR()\n",
    "gbr_result = cross_val_score(gbr,X_train_reduced,y_train,cv=5,n_jobs=-1,scoring='neg_mean_squared_error').mean()"
   ]
  },
  {
   "cell_type": "code",
   "execution_count": 14,
   "metadata": {},
   "outputs": [],
   "source": [
    "xgbr = XGBR()\n",
    "xgbr_result = cross_val_score(xgbr,X_train_reduced,y_train,cv=5,n_jobs=-1,scoring='neg_mean_squared_error').mean()"
   ]
  },
  {
   "cell_type": "code",
   "execution_count": 19,
   "metadata": {},
   "outputs": [
    {
     "name": "stdout",
     "output_type": "stream",
     "text": [
      "MSE of LR is: 2168371869.950872\n",
      "MSE of Ridge is: 2168369110.2263203\n",
      "MSE of Lasso is: 2172221073.0788074\n",
      "MSE of EN is: 2172221273.9125924\n",
      "MSE of SVR is: 6624638773.308963\n",
      "MSE of KNR is: 2461198496.322137\n",
      "MSE of RFR is: 1917874530.0148284\n",
      "MSE of GBR is: 1939859399.0198486\n",
      "MSE of XGBR is: 1743767256.8602238\n"
     ]
    }
   ],
   "source": [
    "print(\"MSE of LR is: \"+str(-lr_result))\n",
    "print(\"MSE of Ridge is: \"+str(-ridge_result))\n",
    "print(\"MSE of Lasso is: \"+str(-lasso_result))\n",
    "print(\"MSE of EN is: \"+str(-en_result))\n",
    "\n",
    "print(\"MSE of SVR is: \"+str(-svr_result))\n",
    "print(\"MSE of KNR is: \"+str(-knr_result))\n",
    "print(\"MSE of RFR is: \"+str(-rfr_result))\n",
    "print(\"MSE of GBR is: \"+str(-gbr_result))\n",
    "print(\"MSE of XGBR is: \"+str(-xgbr_result))"
   ]
  },
  {
   "cell_type": "markdown",
   "metadata": {},
   "source": [
    "## Train the best XGBR model"
   ]
  },
  {
   "cell_type": "code",
   "execution_count": 20,
   "metadata": {},
   "outputs": [
    {
     "data": {
      "text/plain": [
       "{'subsample': 0.5,\n",
       " 'silent': 1,\n",
       " 'objective': 'reg:linear',\n",
       " 'n_estimators': 650,\n",
       " 'min_child_weight': 2,\n",
       " 'max_depth': 3,\n",
       " 'learning_rate': 0.045,\n",
       " 'colsample_bytree': 0.85}"
      ]
     },
     "execution_count": 20,
     "metadata": {},
     "output_type": "execute_result"
    }
   ],
   "source": [
    "params_XGBR = { \n",
    "                      'objective':['reg:linear'],\n",
    "                      'learning_rate': [0.045,0.05,0.06], \n",
    "                      'max_depth': [3,4,5],\n",
    "                      'min_child_weight': [2,3,4],\n",
    "                      'silent': [1],\n",
    "                      'subsample': [0.5,0.55,0.6],\n",
    "                      'colsample_bytree': [0.7,0.8,0.85],\n",
    "                      'n_estimators': [650,750,800]}\n",
    "xgbr = XGBR()\n",
    "clf = RandomizedSearchCV(xgbr, param_distributions=params_XGBR, cv=3, n_iter=15)\n",
    "clf.fit(X_train_reduced,y_train)\n",
    "clf.best_params_"
   ]
  },
  {
   "cell_type": "code",
   "execution_count": 24,
   "metadata": {},
   "outputs": [
    {
     "data": {
      "text/plain": [
       "XGBRegressor(base_score=0.5, booster='gbtree', colsample_bylevel=1,\n",
       "             colsample_bynode=1, colsample_bytree=0.85, gamma=0,\n",
       "             importance_type='gain', learning_rate=0.045, max_delta_step=0,\n",
       "             max_depth=3, min_child_weight=2, missing=None, n_estimators=650,\n",
       "             n_jobs=1, nthread=None, objective='reg:linear', random_state=0,\n",
       "             reg_alpha=0, reg_lambda=1, scale_pos_weight=1, seed=None, silent=1,\n",
       "             subsample=0.5, verbosity=1)"
      ]
     },
     "execution_count": 24,
     "metadata": {},
     "output_type": "execute_result"
    }
   ],
   "source": [
    "clf.best_estimator_"
   ]
  },
  {
   "cell_type": "code",
   "execution_count": 25,
   "metadata": {},
   "outputs": [
    {
     "data": {
      "text/plain": [
       "XGBRegressor(base_score=0.5, booster='gbtree', colsample_bylevel=1,\n",
       "             colsample_bynode=1, colsample_bytree=0.85, gamma=0,\n",
       "             importance_type='gain', learning_rate=0.045, max_delta_step=0,\n",
       "             max_depth=3, min_child_weight=2, missing=None, n_estimators=650,\n",
       "             n_jobs=1, nthread=None, objective='reg:linear', random_state=0,\n",
       "             reg_alpha=0, reg_lambda=1, scale_pos_weight=1, seed=None, silent=1,\n",
       "             subsample=0.5, verbosity=1)"
      ]
     },
     "execution_count": 25,
     "metadata": {},
     "output_type": "execute_result"
    }
   ],
   "source": [
    "xgbr_best = XGBR(base_score=0.5, booster='gbtree', colsample_bylevel=1,\n",
    "             colsample_bynode=1, colsample_bytree=0.85, gamma=0,\n",
    "             importance_type='gain', learning_rate=0.045, max_delta_step=0,\n",
    "             max_depth=3, min_child_weight=2, missing=None, n_estimators=650,\n",
    "             n_jobs=1, nthread=None, objective='reg:linear', random_state=0,\n",
    "             reg_alpha=0, reg_lambda=1, scale_pos_weight=1, seed=None, silent=1,\n",
    "             subsample=0.5, verbosity=1)\n",
    "# use all training set to fit the model\n",
    "xgbr_best.fit(X_train_reduced, y_train)"
   ]
  },
  {
   "cell_type": "code",
   "execution_count": 26,
   "metadata": {},
   "outputs": [
    {
     "data": {
      "text/plain": [
       "['xgbr_best.m']"
      ]
     },
     "execution_count": 26,
     "metadata": {},
     "output_type": "execute_result"
    }
   ],
   "source": [
    "joblib.dump(xgbr_best, 'xgbr_best.m')"
   ]
  },
  {
   "cell_type": "code",
   "execution_count": null,
   "metadata": {},
   "outputs": [],
   "source": []
  }
 ],
 "metadata": {
  "kernelspec": {
   "display_name": "Python 3",
   "language": "python",
   "name": "python3"
  },
  "language_info": {
   "codemirror_mode": {
    "name": "ipython",
    "version": 3
   },
   "file_extension": ".py",
   "mimetype": "text/x-python",
   "name": "python",
   "nbconvert_exporter": "python",
   "pygments_lexer": "ipython3",
   "version": "3.7.5"
  },
  "latex_envs": {
   "LaTeX_envs_menu_present": true,
   "autoclose": false,
   "autocomplete": true,
   "bibliofile": "biblio.bib",
   "cite_by": "apalike",
   "current_citInitial": 1,
   "eqLabelWithNumbers": true,
   "eqNumInitial": 1,
   "hotkeys": {
    "equation": "Ctrl-E",
    "itemize": "Ctrl-I"
   },
   "labels_anchors": false,
   "latex_user_defs": false,
   "report_style_numbering": false,
   "user_envs_cfg": false
  }
 },
 "nbformat": 4,
 "nbformat_minor": 2
}
